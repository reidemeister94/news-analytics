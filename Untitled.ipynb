{
 "cells": [
  {
   "cell_type": "code",
   "execution_count": 1,
   "metadata": {},
   "outputs": [],
   "source": [
    "import spacy\n",
    "from spacy import displacy\n",
    "from collections import Counter\n",
    "from pprint import pprint"
   ]
  },
  {
   "cell_type": "code",
   "execution_count": 2,
   "metadata": {},
   "outputs": [],
   "source": [
    "class NamedEntityRecognition:\n",
    "    def __init__(self, nlp_model=None):\n",
    "        if nlp_model is not None:\n",
    "            self.nlp = nlp_model\n",
    "        else:\n",
    "            self.nlp = spacy.load(\"it_core_news_sm\")\n",
    "\n",
    "    def named_entity_recognition_process(self, doc_text):\n",
    "        # collection.insert_one(self.news_json[0])\n",
    "        doc = self.nlp(doc_text)\n",
    "        elem_pos_type = [(str(X), X.ent_iob_, X.ent_type_) for X in doc]\n",
    "        labels = [x.label_ for x in doc.ents]\n",
    "        items = [x.text for x in doc.ents]\n",
    "        most_common_items = Counter(items).most_common(10)\n",
    "        return elem_pos_type, labels, items, most_common_items"
   ]
  },
  {
   "cell_type": "code",
   "execution_count": 3,
   "metadata": {},
   "outputs": [
    {
     "name": "stdout",
     "output_type": "stream",
     "text": [
      "<class 'str'> <class 'int'>\n",
      "<class 'str'> <class 'int'>\n",
      "<class 'str'> <class 'int'>\n",
      "<class 'str'> <class 'int'>\n",
      "<class 'str'> <class 'int'>\n",
      "<class 'str'> <class 'int'>\n"
     ]
    }
   ],
   "source": [
    "named_entity_recognition = NamedEntityRecognition()\n",
    "text = \"\"\"The Centers for Disease Control and Prevention (CDC) said the novel coronavirus, or COVID-19, is spread mainly from person-to-person by those in close contact, or through coughing and sneezing by someone who’s infected.\n",
    "\n",
    "Symptoms of the coronavirus can show up between two and 14 days of exposure, health officials say. Symptoms include fever, cough, and shortness of breath.\n",
    "\n",
    "For most people, COVID-19 causes only mild or moderate symptoms, such as fever and cough. But some severe cases can lead to death.\n",
    "\n",
    "Most people can recover from the virus at home using over-the-counter medications to treat their symptoms.\n",
    "\n",
    "Some people who have the virus don’t show any symptoms, but they can still spread it to others. The CDC estimates that up to 35% of all cases are asymptomatic.\"\"\"\n",
    "\n",
    "elem_pos_type, labels, items, most_common_items = named_entity_recognition.named_entity_recognition_process(text)\n",
    "#print(elem_pos_type)\n",
    "for k, v in most_common_items:\n",
    "    print(type(k),type(v))"
   ]
  }
 ],
 "metadata": {
  "kernelspec": {
   "display_name": "ricerca",
   "language": "python",
   "name": "ricerca"
  },
  "language_info": {
   "codemirror_mode": {
    "name": "ipython",
    "version": 3
   },
   "file_extension": ".py",
   "mimetype": "text/x-python",
   "name": "python",
   "nbconvert_exporter": "python",
   "pygments_lexer": "ipython3",
   "version": "3.7.6"
  }
 },
 "nbformat": 4,
 "nbformat_minor": 4
}
