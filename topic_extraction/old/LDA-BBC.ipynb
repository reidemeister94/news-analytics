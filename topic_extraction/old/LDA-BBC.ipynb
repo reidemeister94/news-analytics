{
 "cells": [
  {
   "cell_type": "markdown",
   "metadata": {
    "colab_type": "text",
    "id": "PjNuAtvtXInN"
   },
   "source": [
    "# Reading data"
   ]
  },
  {
   "cell_type": "code",
   "execution_count": 1,
   "metadata": {
    "colab": {},
    "colab_type": "code",
    "id": "wSIXNM1_XInT"
   },
   "outputs": [],
   "source": [
    "import pandas as pd\n",
    "import numpy as np"
   ]
  },
  {
   "cell_type": "code",
   "execution_count": 2,
   "metadata": {
    "colab": {},
    "colab_type": "code",
    "id": "X0p3mOtOXInh"
   },
   "outputs": [],
   "source": [
    "data = pd.read_csv('articles_bbc_2018_01_30.csv')"
   ]
  },
  {
   "cell_type": "code",
   "execution_count": 3,
   "metadata": {
    "colab": {
     "base_uri": "https://localhost:8080/",
     "height": 34
    },
    "colab_type": "code",
    "id": "GecBuDPxXInp",
    "outputId": "8e8a1893-d36b-45ff-9e04-1ddd04856f88",
    "scrolled": true
   },
   "outputs": [
    {
     "data": {
      "text/plain": [
       "(309, 2)"
      ]
     },
     "execution_count": 3,
     "metadata": {},
     "output_type": "execute_result"
    }
   ],
   "source": [
    "data.shape"
   ]
  },
  {
   "cell_type": "code",
   "execution_count": 4,
   "metadata": {
    "colab": {},
    "colab_type": "code",
    "id": "2Kh7j_HBXInx"
   },
   "outputs": [],
   "source": [
    "data = data.dropna().reset_index(drop=True)"
   ]
  },
  {
   "cell_type": "code",
   "execution_count": 5,
   "metadata": {
    "colab": {
     "base_uri": "https://localhost:8080/",
     "height": 34
    },
    "colab_type": "code",
    "id": "i5As9JcCXIn1",
    "outputId": "6225943b-ec82-4b19-86d5-997f566b0017"
   },
   "outputs": [
    {
     "data": {
      "text/plain": [
       "(308, 2)"
      ]
     },
     "execution_count": 5,
     "metadata": {},
     "output_type": "execute_result"
    }
   ],
   "source": [
    "data.shape"
   ]
  },
  {
   "cell_type": "markdown",
   "metadata": {
    "colab_type": "text",
    "id": "QBU8fQsvXIn7"
   },
   "source": [
    "# Cleaning"
   ]
  },
  {
   "cell_type": "markdown",
   "metadata": {
    "colab_type": "text",
    "id": "GMrFAVvuXIn8"
   },
   "source": [
    "#### Keeping English articles"
   ]
  },
  {
   "cell_type": "code",
   "execution_count": 6,
   "metadata": {
    "colab": {
     "base_uri": "https://localhost:8080/",
     "height": 120,
     "referenced_widgets": [
      "4477369ca5e94505982067658c124474",
      "5dcb98eae3d74712aa93d7623b5db85d",
      "65c91f960e0645f4902d762df7b38e70",
      "ac80a09d77db4c39bd8b3d2faa0c6276",
      "cef623c21a1346038f7a75254b071573",
      "bd40fd9cbd344eddb35495cb46e14103",
      "d6b90db4a82f46ac8608cb426b07639d",
      "e2164b3b9276459899dc33a008bdddf8"
     ]
    },
    "colab_type": "code",
    "id": "909gH72HXIn9",
    "outputId": "d06cf694-d957-497a-f1e8-39ae5346e1df"
   },
   "outputs": [],
   "source": [
    "from langdetect import detect\n",
    "#from tqdm import tqdm_notebook\n",
    "#tqdm_notebook().pandas()"
   ]
  },
  {
   "cell_type": "code",
   "execution_count": 7,
   "metadata": {
    "colab": {
     "base_uri": "https://localhost:8080/",
     "height": 83,
     "referenced_widgets": [
      "dc4769adbbf3497db8620a743da82b58",
      "a9035e95770145fa9814c64a1e77414e",
      "f54b251a7c3f4331bbb9a139c93dc8d1",
      "f9aed9464eac4b77b13e4ba98835f414",
      "bef09922dc034405903324c1f9948c07",
      "a1ac4b3b37ad4746a667c0dd80bcd43d",
      "5da011677ee54269adb8d09579b593ba",
      "08d12b4391664079ac12e056eed69186"
     ]
    },
    "colab_type": "code",
    "id": "Cj9n1yXgXIoB",
    "outputId": "77805696-d0c9-4528-cca9-22531196514a"
   },
   "outputs": [],
   "source": [
    "# Ri-crea la colonna 'lang' usando il detector per capire che lingua è\n",
    "# (risolvendo possibili entry sbagliate)\n",
    "#data['lang'] = data.articles.progress_map(detect)\n",
    "data['lang'] = pd.Series([detect(article) for article in data.articles])"
   ]
  },
  {
   "cell_type": "code",
   "execution_count": 8,
   "metadata": {
    "colab": {
     "base_uri": "https://localhost:8080/",
     "height": 272
    },
    "colab_type": "code",
    "id": "z33dlSd0XIoG",
    "outputId": "c11ec897-5e77-42a6-bde7-da55796d1eee"
   },
   "outputs": [
    {
     "data": {
      "text/plain": [
       "en    257\n",
       "fa      9\n",
       "fr      7\n",
       "id      5\n",
       "vi      4\n",
       "ru      4\n",
       "uk      4\n",
       "ar      4\n",
       "hi      4\n",
       "sw      3\n",
       "tr      2\n",
       "pt      2\n",
       "es      2\n",
       "de      1\n",
       "Name: lang, dtype: int64"
      ]
     },
     "execution_count": 8,
     "metadata": {},
     "output_type": "execute_result"
    }
   ],
   "source": [
    "data.lang.value_counts()"
   ]
  },
  {
   "cell_type": "code",
   "execution_count": 9,
   "metadata": {
    "colab": {
     "base_uri": "https://localhost:8080/",
     "height": 34
    },
    "colab_type": "code",
    "id": "bgjlrTOhXIoK",
    "outputId": "e5af4f68-a2cb-40f0-feb9-4a683267db8d"
   },
   "outputs": [
    {
     "data": {
      "text/plain": [
       "(257, 2)"
      ]
     },
     "execution_count": 9,
     "metadata": {},
     "output_type": "execute_result"
    }
   ],
   "source": [
    "# Mi tengo solo quelli inglesi\n",
    "data = data.loc[data.lang=='en']\n",
    "data.shape"
   ]
  },
  {
   "cell_type": "markdown",
   "metadata": {
    "colab_type": "text",
    "id": "Id5HL3CYXIoO"
   },
   "source": [
    "#### Tokenization"
   ]
  },
  {
   "cell_type": "code",
   "execution_count": 10,
   "metadata": {
    "colab": {},
    "colab_type": "code",
    "id": "ZAMRnf3SXIoO"
   },
   "outputs": [],
   "source": [
    "from nltk.tokenize import sent_tokenize"
   ]
  },
  {
   "cell_type": "code",
   "execution_count": 11,
   "metadata": {
    "colab": {
     "base_uri": "https://localhost:8080/",
     "height": 187
    },
    "colab_type": "code",
    "id": "g9lYFfoQXIoR",
    "outputId": "de2619fd-8b6a-421a-977d-e00c1f4644f8"
   },
   "outputs": [
    {
     "name": "stderr",
     "output_type": "stream",
     "text": [
      "[nltk_data] Downloading package punkt to\n",
      "[nltk_data]     /Users/lorenzocorti/nltk_data...\n",
      "[nltk_data]   Package punkt is already up-to-date!\n",
      "[nltk_data] Downloading package averaged_perceptron_tagger to\n",
      "[nltk_data]     /Users/lorenzocorti/nltk_data...\n",
      "[nltk_data]   Package averaged_perceptron_tagger is already up-to-\n",
      "[nltk_data]       date!\n",
      "[nltk_data] Downloading package wordnet to\n",
      "[nltk_data]     /Users/lorenzocorti/nltk_data...\n",
      "[nltk_data]   Package wordnet is already up-to-date!\n",
      "[nltk_data] Downloading package stopwords to\n",
      "[nltk_data]     /Users/lorenzocorti/nltk_data...\n",
      "[nltk_data]   Package stopwords is already up-to-date!\n"
     ]
    },
    {
     "data": {
      "text/plain": [
       "True"
      ]
     },
     "execution_count": 11,
     "metadata": {},
     "output_type": "execute_result"
    }
   ],
   "source": [
    "import nltk\n",
    "nltk.download('punkt')\n",
    "nltk.download('averaged_perceptron_tagger')\n",
    "nltk.download('wordnet')\n",
    "nltk.download('stopwords')"
   ]
  },
  {
   "cell_type": "code",
   "execution_count": 12,
   "metadata": {
    "colab": {},
    "colab_type": "code",
    "id": "dXOKmhlkeNuG"
   },
   "outputs": [
    {
     "data": {
      "text/plain": [
       "\"\\n>> punkt: divide in frasi il testo per costruire un modello per abbreviazioni,\\ncollocations (come le parole sono abbinate) e parole con cui si iniziano frasi.\\n\\n>> averaged_perceptron_tagger: POS tagger\\n\\n>> wordnet: database lessicale per la lingua inglese\\n\\n>> stopwords: parole molto comuni come 'the', 'a', ...\\n\\n\""
      ]
     },
     "execution_count": 12,
     "metadata": {},
     "output_type": "execute_result"
    }
   ],
   "source": [
    "'''\n",
    ">> punkt: divide in frasi il testo per costruire un modello per abbreviazioni,\n",
    "collocations (come le parole sono abbinate) e parole con cui si iniziano frasi.\n",
    "\n",
    ">> averaged_perceptron_tagger: POS tagger\n",
    "\n",
    ">> wordnet: database lessicale per la lingua inglese\n",
    "\n",
    ">> stopwords: parole molto comuni come 'the', 'a', ...\n",
    "\n",
    "'''"
   ]
  },
  {
   "cell_type": "code",
   "execution_count": 13,
   "metadata": {},
   "outputs": [
    {
     "data": {
      "text/html": [
       "<div>\n",
       "<style scoped>\n",
       "    .dataframe tbody tr th:only-of-type {\n",
       "        vertical-align: middle;\n",
       "    }\n",
       "\n",
       "    .dataframe tbody tr th {\n",
       "        vertical-align: top;\n",
       "    }\n",
       "\n",
       "    .dataframe thead th {\n",
       "        text-align: right;\n",
       "    }\n",
       "</style>\n",
       "<table border=\"1\" class=\"dataframe\">\n",
       "  <thead>\n",
       "    <tr style=\"text-align: right;\">\n",
       "      <th></th>\n",
       "      <th>articles</th>\n",
       "      <th>lang</th>\n",
       "    </tr>\n",
       "  </thead>\n",
       "  <tbody>\n",
       "    <tr>\n",
       "      <td>0</td>\n",
       "      <td>Image copyright PA/EPA Image caption Oligarch ...</td>\n",
       "      <td>en</td>\n",
       "    </tr>\n",
       "    <tr>\n",
       "      <td>1</td>\n",
       "      <td>Husband admits killing French jogger\\r\\n\\r\\nTh...</td>\n",
       "      <td>en</td>\n",
       "    </tr>\n",
       "    <tr>\n",
       "      <td>2</td>\n",
       "      <td>Media playback is unsupported on your device M...</td>\n",
       "      <td>en</td>\n",
       "    </tr>\n",
       "    <tr>\n",
       "      <td>3</td>\n",
       "      <td>Manchester City's Leroy Sane is ruled out for ...</td>\n",
       "      <td>en</td>\n",
       "    </tr>\n",
       "    <tr>\n",
       "      <td>4</td>\n",
       "      <td>Image copyright AFP Image caption Sebastien Br...</td>\n",
       "      <td>en</td>\n",
       "    </tr>\n",
       "  </tbody>\n",
       "</table>\n",
       "</div>"
      ],
      "text/plain": [
       "                                            articles lang\n",
       "0  Image copyright PA/EPA Image caption Oligarch ...   en\n",
       "1  Husband admits killing French jogger\\r\\n\\r\\nTh...   en\n",
       "2  Media playback is unsupported on your device M...   en\n",
       "3  Manchester City's Leroy Sane is ruled out for ...   en\n",
       "4  Image copyright AFP Image caption Sebastien Br...   en"
      ]
     },
     "execution_count": 13,
     "metadata": {},
     "output_type": "execute_result"
    }
   ],
   "source": [
    "data.head()"
   ]
  },
  {
   "cell_type": "code",
   "execution_count": 14,
   "metadata": {
    "colab": {
     "base_uri": "https://localhost:8080/",
     "height": 137,
     "referenced_widgets": [
      "0e13000f1fcc45f790764cc4ca0132b0",
      "bae2e1044667445db4d325b27aa80531",
      "f01526f44f214a9a9bf4d5bd6381e9a6",
      "1a11b724a5404ec5b2c3a8d7d9b38474",
      "07376b3625634908935bb67a326c10e1",
      "f368bb046a2740999f19892434ca022e",
      "4d27cd634bc44a71924c3322d14cea84",
      "3e2c17e2fa9b4d6482eb04e5fdb46b1e"
     ]
    },
    "colab_type": "code",
    "id": "PJgfi1w2XIoV",
    "outputId": "d3ff668b-d397-4a97-9672-76140d30377d"
   },
   "outputs": [],
   "source": [
    "#data['sentences'] = data.articles.progress_map(sent_tokenize) # divido in frasi\n",
    "#data['sentences'] = pd.Series([sent_tokenize(article) for article in data.articles])\n",
    "data['sentences'] = data.articles.map(sent_tokenize)\n",
    "#data['sentences'].head(1).tolist()[0][:3] # Print the first 3 sentences of the 1st article"
   ]
  },
  {
   "cell_type": "code",
   "execution_count": 15,
   "metadata": {},
   "outputs": [
    {
     "data": {
      "text/html": [
       "<div>\n",
       "<style scoped>\n",
       "    .dataframe tbody tr th:only-of-type {\n",
       "        vertical-align: middle;\n",
       "    }\n",
       "\n",
       "    .dataframe tbody tr th {\n",
       "        vertical-align: top;\n",
       "    }\n",
       "\n",
       "    .dataframe thead th {\n",
       "        text-align: right;\n",
       "    }\n",
       "</style>\n",
       "<table border=\"1\" class=\"dataframe\">\n",
       "  <thead>\n",
       "    <tr style=\"text-align: right;\">\n",
       "      <th></th>\n",
       "      <th>articles</th>\n",
       "      <th>lang</th>\n",
       "      <th>sentences</th>\n",
       "    </tr>\n",
       "  </thead>\n",
       "  <tbody>\n",
       "    <tr>\n",
       "      <td>0</td>\n",
       "      <td>Image copyright PA/EPA Image caption Oligarch ...</td>\n",
       "      <td>en</td>\n",
       "      <td>[Image copyright PA/EPA Image caption Oligarch...</td>\n",
       "    </tr>\n",
       "    <tr>\n",
       "      <td>1</td>\n",
       "      <td>Husband admits killing French jogger\\r\\n\\r\\nTh...</td>\n",
       "      <td>en</td>\n",
       "      <td>[Husband admits killing French jogger\\r\\n\\r\\nT...</td>\n",
       "    </tr>\n",
       "    <tr>\n",
       "      <td>2</td>\n",
       "      <td>Media playback is unsupported on your device M...</td>\n",
       "      <td>en</td>\n",
       "      <td>[Media playback is unsupported on your device ...</td>\n",
       "    </tr>\n",
       "    <tr>\n",
       "      <td>3</td>\n",
       "      <td>Manchester City's Leroy Sane is ruled out for ...</td>\n",
       "      <td>en</td>\n",
       "      <td>[Manchester City's Leroy Sane is ruled out for...</td>\n",
       "    </tr>\n",
       "    <tr>\n",
       "      <td>4</td>\n",
       "      <td>Image copyright AFP Image caption Sebastien Br...</td>\n",
       "      <td>en</td>\n",
       "      <td>[Image copyright AFP Image caption Sebastien B...</td>\n",
       "    </tr>\n",
       "  </tbody>\n",
       "</table>\n",
       "</div>"
      ],
      "text/plain": [
       "                                            articles lang  \\\n",
       "0  Image copyright PA/EPA Image caption Oligarch ...   en   \n",
       "1  Husband admits killing French jogger\\r\\n\\r\\nTh...   en   \n",
       "2  Media playback is unsupported on your device M...   en   \n",
       "3  Manchester City's Leroy Sane is ruled out for ...   en   \n",
       "4  Image copyright AFP Image caption Sebastien Br...   en   \n",
       "\n",
       "                                           sentences  \n",
       "0  [Image copyright PA/EPA Image caption Oligarch...  \n",
       "1  [Husband admits killing French jogger\\r\\n\\r\\nT...  \n",
       "2  [Media playback is unsupported on your device ...  \n",
       "3  [Manchester City's Leroy Sane is ruled out for...  \n",
       "4  [Image copyright AFP Image caption Sebastien B...  "
      ]
     },
     "execution_count": 15,
     "metadata": {},
     "output_type": "execute_result"
    }
   ],
   "source": [
    "data.head()"
   ]
  },
  {
   "cell_type": "code",
   "execution_count": 16,
   "metadata": {
    "colab": {},
    "colab_type": "code",
    "id": "8R1XrUTCXIoY"
   },
   "outputs": [],
   "source": [
    "from nltk.tokenize import word_tokenize"
   ]
  },
  {
   "cell_type": "code",
   "execution_count": 17,
   "metadata": {
    "colab": {
     "base_uri": "https://localhost:8080/",
     "height": 103,
     "referenced_widgets": [
      "bcd83aa9f78b468bb9d62ba4c0a59324",
      "f5d3979f34a640318a660104c9e8ba50",
      "8c1877aa0cc247daa4232877681f39af",
      "af4d083911b04ec1b010f622397d56f4",
      "8dec687b55aa4ab1a18467d76732834c",
      "eec3946e73864c1593d09cf70cf1fb49",
      "cd31018580c946d981189561fd71cd8a",
      "a27eaccc357c422d996f751a7a232e37"
     ]
    },
    "colab_type": "code",
    "id": "IvYQUgYQXIoa",
    "outputId": "a7d799e2-f850-4788-ef72-38631a2dac3d",
    "scrolled": true
   },
   "outputs": [],
   "source": [
    "data['tokens_sentences'] = data['sentences'].map(lambda sentences: [word_tokenize(sentence) for sentence in sentences])\n",
    "# trasformo le frasi in liste di parole isolate\n",
    "#print(data['tokens_sentences'].head(1).tolist()[:3])"
   ]
  },
  {
   "cell_type": "code",
   "execution_count": 18,
   "metadata": {},
   "outputs": [
    {
     "data": {
      "text/html": [
       "<div>\n",
       "<style scoped>\n",
       "    .dataframe tbody tr th:only-of-type {\n",
       "        vertical-align: middle;\n",
       "    }\n",
       "\n",
       "    .dataframe tbody tr th {\n",
       "        vertical-align: top;\n",
       "    }\n",
       "\n",
       "    .dataframe thead th {\n",
       "        text-align: right;\n",
       "    }\n",
       "</style>\n",
       "<table border=\"1\" class=\"dataframe\">\n",
       "  <thead>\n",
       "    <tr style=\"text-align: right;\">\n",
       "      <th></th>\n",
       "      <th>articles</th>\n",
       "      <th>lang</th>\n",
       "      <th>sentences</th>\n",
       "      <th>tokens_sentences</th>\n",
       "    </tr>\n",
       "  </thead>\n",
       "  <tbody>\n",
       "    <tr>\n",
       "      <td>0</td>\n",
       "      <td>Image copyright PA/EPA Image caption Oligarch ...</td>\n",
       "      <td>en</td>\n",
       "      <td>[Image copyright PA/EPA Image caption Oligarch...</td>\n",
       "      <td>[[Image, copyright, PA/EPA, Image, caption, Ol...</td>\n",
       "    </tr>\n",
       "    <tr>\n",
       "      <td>1</td>\n",
       "      <td>Husband admits killing French jogger\\r\\n\\r\\nTh...</td>\n",
       "      <td>en</td>\n",
       "      <td>[Husband admits killing French jogger\\r\\n\\r\\nT...</td>\n",
       "      <td>[[Husband, admits, killing, French, jogger, Th...</td>\n",
       "    </tr>\n",
       "    <tr>\n",
       "      <td>2</td>\n",
       "      <td>Media playback is unsupported on your device M...</td>\n",
       "      <td>en</td>\n",
       "      <td>[Media playback is unsupported on your device ...</td>\n",
       "      <td>[[Media, playback, is, unsupported, on, your, ...</td>\n",
       "    </tr>\n",
       "    <tr>\n",
       "      <td>3</td>\n",
       "      <td>Manchester City's Leroy Sane is ruled out for ...</td>\n",
       "      <td>en</td>\n",
       "      <td>[Manchester City's Leroy Sane is ruled out for...</td>\n",
       "      <td>[[Manchester, City, 's, Leroy, Sane, is, ruled...</td>\n",
       "    </tr>\n",
       "    <tr>\n",
       "      <td>4</td>\n",
       "      <td>Image copyright AFP Image caption Sebastien Br...</td>\n",
       "      <td>en</td>\n",
       "      <td>[Image copyright AFP Image caption Sebastien B...</td>\n",
       "      <td>[[Image, copyright, AFP, Image, caption, Sebas...</td>\n",
       "    </tr>\n",
       "  </tbody>\n",
       "</table>\n",
       "</div>"
      ],
      "text/plain": [
       "                                            articles lang  \\\n",
       "0  Image copyright PA/EPA Image caption Oligarch ...   en   \n",
       "1  Husband admits killing French jogger\\r\\n\\r\\nTh...   en   \n",
       "2  Media playback is unsupported on your device M...   en   \n",
       "3  Manchester City's Leroy Sane is ruled out for ...   en   \n",
       "4  Image copyright AFP Image caption Sebastien Br...   en   \n",
       "\n",
       "                                           sentences  \\\n",
       "0  [Image copyright PA/EPA Image caption Oligarch...   \n",
       "1  [Husband admits killing French jogger\\r\\n\\r\\nT...   \n",
       "2  [Media playback is unsupported on your device ...   \n",
       "3  [Manchester City's Leroy Sane is ruled out for...   \n",
       "4  [Image copyright AFP Image caption Sebastien B...   \n",
       "\n",
       "                                    tokens_sentences  \n",
       "0  [[Image, copyright, PA/EPA, Image, caption, Ol...  \n",
       "1  [[Husband, admits, killing, French, jogger, Th...  \n",
       "2  [[Media, playback, is, unsupported, on, your, ...  \n",
       "3  [[Manchester, City, 's, Leroy, Sane, is, ruled...  \n",
       "4  [[Image, copyright, AFP, Image, caption, Sebas...  "
      ]
     },
     "execution_count": 18,
     "metadata": {},
     "output_type": "execute_result"
    }
   ],
   "source": [
    "data.head()"
   ]
  },
  {
   "cell_type": "markdown",
   "metadata": {
    "colab_type": "text",
    "id": "ouDbv5BcXIod"
   },
   "source": [
    "#### Lemmatizing with POS tagging"
   ]
  },
  {
   "cell_type": "code",
   "execution_count": 19,
   "metadata": {
    "colab": {},
    "colab_type": "code",
    "id": "bn7a7X2NXIoe"
   },
   "outputs": [],
   "source": [
    "from nltk import pos_tag"
   ]
  },
  {
   "cell_type": "code",
   "execution_count": 20,
   "metadata": {
    "colab": {
     "base_uri": "https://localhost:8080/",
     "height": 103,
     "referenced_widgets": [
      "f693f6ce93f44ecf8159214f91a65864",
      "ae65c6ae1f6843d2872846423b943e60",
      "6cceca6a2c0c42e9bc694ceb1bd0febd",
      "5cd06d52ea4647cfb456bf9966ef9e44",
      "61ba5c224a514493985e5d1b686a4913",
      "5184aa40fcd44d0882914b66ae581430",
      "6ceffdb4ce7e4842b4c302a9fa7f29da",
      "6d0415edbb374dd3a693fdeae73db482"
     ]
    },
    "colab_type": "code",
    "id": "-_l94QYcXIoh",
    "outputId": "c687965e-9eac-4d81-a72c-405fde023496"
   },
   "outputs": [
    {
     "name": "stdout",
     "output_type": "stream",
     "text": [
      "[[('Image', 'NN'), ('copyright', 'NN'), ('PA/EPA', 'NNP'), ('Image', 'NNP'), ('caption', 'NN'), ('Oligarch', 'NNP'), ('Roman', 'NNP'), ('Abramovich', 'NNP'), ('(', '('), ('l', 'NN'), (')', ')'), ('and', 'CC'), ('PM', 'NNP'), ('Dmitry', 'NNP'), ('Medvedev', 'NNP'), ('are', 'VBP'), ('on', 'IN'), ('the', 'DT'), ('list', 'NN'), ('Russian', 'NNP'), ('President', 'NNP'), ('Vladimir', 'NNP'), ('Putin', 'NNP'), ('says', 'VBZ'), ('a', 'DT'), ('list', 'NN'), ('of', 'IN'), ('officials', 'NNS'), ('and', 'CC'), ('businessmen', 'NNS'), ('close', 'RB'), ('to', 'TO'), ('the', 'DT'), ('Kremlin', 'NNP'), ('published', 'VBN'), ('by', 'IN'), ('the', 'DT'), ('US', 'NNP'), ('has', 'VBZ'), ('in', 'IN'), ('effect', 'NN'), ('targeted', 'VBN'), ('all', 'DT'), ('Russian', 'JJ'), ('people', 'NNS'), ('.', '.')], [('The', 'DT'), ('list', 'NN'), ('names', 'RB'), ('210', 'CD'), ('top', 'JJ'), ('Russians', 'NNPS'), ('as', 'IN'), ('part', 'NN'), ('of', 'IN'), ('a', 'DT'), ('sanctions', 'NNS'), ('law', 'NN'), ('aimed', 'VBN'), ('at', 'IN'), ('punishing', 'VBG'), ('Moscow', 'NNP'), ('for', 'IN'), ('meddling', 'VBG'), ('in', 'IN'), ('the', 'DT'), ('US', 'NNP'), ('election', 'NN'), ('.', '.')], [('However', 'RB'), (',', ','), ('the', 'DT'), ('US', 'NNP'), ('stressed', 'VBD'), ('those', 'DT'), ('named', 'VBN'), ('were', 'VBD'), ('not', 'RB'), ('subject', 'JJ'), ('to', 'TO'), ('new', 'JJ'), ('sanctions', 'NNS'), ('.', '.')]]\n"
     ]
    }
   ],
   "source": [
    "data['POS_tokens'] = data['tokens_sentences'].map(lambda tokens_sentences: [pos_tag(tokens) for tokens in tokens_sentences])\n",
    "print(data['POS_tokens'].head(1).tolist()[0][:3])\n",
    "# associo un POS tag ai token"
   ]
  },
  {
   "cell_type": "code",
   "execution_count": 21,
   "metadata": {
    "colab": {},
    "colab_type": "code",
    "id": "pzeQQ-TXXIol"
   },
   "outputs": [],
   "source": [
    "# Inspired from https://stackoverflow.com/a/15590384\n",
    "from nltk.corpus import wordnet\n",
    "\n",
    "# il POS tagger di nltk è stato allenato con il corpus Treebank e quindi usa\n",
    "# il set di tag suoi (J, V, N, R). Il pezzetto qui sotto mappa da quei tag a\n",
    "# quelli di wordnet\n",
    "\n",
    "def get_wordnet_pos(treebank_tag):\n",
    "\n",
    "    if treebank_tag.startswith('J'):\n",
    "        return wordnet.ADJ\n",
    "    elif treebank_tag.startswith('V'):\n",
    "        return wordnet.VERB\n",
    "    elif treebank_tag.startswith('N'):\n",
    "        return wordnet.NOUN\n",
    "    elif treebank_tag.startswith('R'):\n",
    "        return wordnet.ADV\n",
    "    else:\n",
    "        return ''\n",
    "\n",
    "from nltk.stem.wordnet import WordNetLemmatizer\n",
    "lemmatizer = WordNetLemmatizer() # per avere le forme 'basi' delle parole"
   ]
  },
  {
   "cell_type": "code",
   "execution_count": 22,
   "metadata": {
    "colab": {
     "base_uri": "https://localhost:8080/",
     "height": 66,
     "referenced_widgets": [
      "80ff2aba47da4f669f1901cf3501dcaa",
      "1513ab5644d24284b88665586d1763e9",
      "91d6b6a3ee74436da244a0eb3b2c318b",
      "88d27b6f0c7f40d18417e49568605277",
      "b5dab458a1a54de1839c05cc2095b100",
      "74e98cc443b240798358f4281be5f677",
      "c682c1d895b74f5db0563bfd1801a39b",
      "f3d3f20064994daf99f6df9b5f3fa641"
     ]
    },
    "colab_type": "code",
    "id": "PbTSCpZmXIoq",
    "outputId": "b7685884-8968-4f75-b058-5e0a9bd8c9b0"
   },
   "outputs": [],
   "source": [
    "# Lemmatizing each word with its POS tag, in each sentence\n",
    "data['tokens_sentences_lemmatized'] = data['POS_tokens'].map(\n",
    "    lambda list_tokens_POS: [\n",
    "        [\n",
    "            lemmatizer.lemmatize(el[0], get_wordnet_pos(el[1])) \n",
    "            if get_wordnet_pos(el[1]) != '' else el[0] for el in tokens_POS\n",
    "        ] \n",
    "        for tokens_POS in list_tokens_POS\n",
    "    ]\n",
    ")"
   ]
  },
  {
   "cell_type": "code",
   "execution_count": 23,
   "metadata": {
    "colab": {
     "base_uri": "https://localhost:8080/",
     "height": 1000
    },
    "colab_type": "code",
    "id": "2iymqLJzXIos",
    "outputId": "c6684b41-20b4-4f34-dbae-2ace7287da2d",
    "scrolled": true
   },
   "outputs": [
    {
     "data": {
      "text/plain": [
       "[['Image',\n",
       "  'copyright',\n",
       "  'PA/EPA',\n",
       "  'Image',\n",
       "  'caption',\n",
       "  'Oligarch',\n",
       "  'Roman',\n",
       "  'Abramovich',\n",
       "  '(',\n",
       "  'l',\n",
       "  ')',\n",
       "  'and',\n",
       "  'PM',\n",
       "  'Dmitry',\n",
       "  'Medvedev',\n",
       "  'be',\n",
       "  'on',\n",
       "  'the',\n",
       "  'list',\n",
       "  'Russian',\n",
       "  'President',\n",
       "  'Vladimir',\n",
       "  'Putin',\n",
       "  'say',\n",
       "  'a',\n",
       "  'list',\n",
       "  'of',\n",
       "  'official',\n",
       "  'and',\n",
       "  'businessmen',\n",
       "  'close',\n",
       "  'to',\n",
       "  'the',\n",
       "  'Kremlin',\n",
       "  'publish',\n",
       "  'by',\n",
       "  'the',\n",
       "  'US',\n",
       "  'have',\n",
       "  'in',\n",
       "  'effect',\n",
       "  'target',\n",
       "  'all',\n",
       "  'Russian',\n",
       "  'people',\n",
       "  '.'],\n",
       " ['The',\n",
       "  'list',\n",
       "  'names',\n",
       "  '210',\n",
       "  'top',\n",
       "  'Russians',\n",
       "  'as',\n",
       "  'part',\n",
       "  'of',\n",
       "  'a',\n",
       "  'sanction',\n",
       "  'law',\n",
       "  'aim',\n",
       "  'at',\n",
       "  'punish',\n",
       "  'Moscow',\n",
       "  'for',\n",
       "  'meddle',\n",
       "  'in',\n",
       "  'the',\n",
       "  'US',\n",
       "  'election',\n",
       "  '.'],\n",
       " ['However',\n",
       "  ',',\n",
       "  'the',\n",
       "  'US',\n",
       "  'stress',\n",
       "  'those',\n",
       "  'name',\n",
       "  'be',\n",
       "  'not',\n",
       "  'subject',\n",
       "  'to',\n",
       "  'new',\n",
       "  'sanction',\n",
       "  '.']]"
      ]
     },
     "execution_count": 23,
     "metadata": {},
     "output_type": "execute_result"
    }
   ],
   "source": [
    "data['tokens_sentences_lemmatized'].head(1).tolist()[0][:3]"
   ]
  },
  {
   "cell_type": "markdown",
   "metadata": {
    "colab_type": "text",
    "id": "m5_zaKmfXIov"
   },
   "source": [
    "#### Regrouping tokens and removing stop words"
   ]
  },
  {
   "cell_type": "code",
   "execution_count": 24,
   "metadata": {
    "colab": {},
    "colab_type": "code",
    "id": "pLyDaMB7XIow"
   },
   "outputs": [],
   "source": [
    "from nltk.corpus import stopwords\n",
    "stopwords_verbs = ['say', 'get', 'go', 'know', 'may', 'need', 'like', 'make', 'see', 'want', 'come', 'take', 'use', 'would', 'can']\n",
    "stopwords_other = ['one', 'mr', 'bbc', 'image', 'getty', 'de', 'en', 'caption', 'also', 'copyright', 'something']\n",
    "my_stopwords = stopwords.words('english') + stopwords_verbs + stopwords_other\n",
    "# rimuovo le stop words: uso quelle fornite dal modulo per l'inglese con anche\n",
    "# queste qui sopra in più"
   ]
  },
  {
   "cell_type": "code",
   "execution_count": 25,
   "metadata": {
    "colab": {},
    "colab_type": "code",
    "id": "fJel4CK1XIoy"
   },
   "outputs": [],
   "source": [
    "from itertools import chain # to flatten list of sentences of tokens into list of tokens"
   ]
  },
  {
   "cell_type": "code",
   "execution_count": 26,
   "metadata": {
    "colab": {},
    "colab_type": "code",
    "id": "VTMltbe3XIo3"
   },
   "outputs": [],
   "source": [
    "# aggiorna i token\n",
    "data['tokens'] = data['tokens_sentences_lemmatized'].map(lambda sentences: list(chain.from_iterable(sentences)))\n",
    "# fa stopwords removal\n",
    "data['tokens'] = data['tokens'].map(lambda tokens: [token.lower() for token in tokens if token.isalpha() \n",
    "                                                    and token.lower() not in my_stopwords and len(token)>1])\n",
    "\n",
    "# ==> Mi ritrovo con 257 (numero di articoli) liste di token ripuliti <=="
   ]
  },
  {
   "cell_type": "code",
   "execution_count": 27,
   "metadata": {
    "colab": {
     "base_uri": "https://localhost:8080/",
     "height": 527
    },
    "colab_type": "code",
    "id": "ASb2Gy21XIo9",
    "outputId": "170fb178-d335-4620-8caa-4d5683e6648a",
    "scrolled": true
   },
   "outputs": [
    {
     "data": {
      "text/plain": [
       "['oligarch',\n",
       " 'roman',\n",
       " 'abramovich',\n",
       " 'pm',\n",
       " 'dmitry',\n",
       " 'medvedev',\n",
       " 'list',\n",
       " 'russian',\n",
       " 'president',\n",
       " 'vladimir',\n",
       " 'putin',\n",
       " 'list',\n",
       " 'official',\n",
       " 'businessmen',\n",
       " 'close',\n",
       " 'kremlin',\n",
       " 'publish',\n",
       " 'us',\n",
       " 'effect',\n",
       " 'target',\n",
       " 'russian',\n",
       " 'people',\n",
       " 'list',\n",
       " 'names',\n",
       " 'top',\n",
       " 'russians',\n",
       " 'part',\n",
       " 'sanction',\n",
       " 'law',\n",
       " 'aim']"
      ]
     },
     "execution_count": 27,
     "metadata": {},
     "output_type": "execute_result"
    }
   ],
   "source": [
    "data['tokens'].head(1).tolist()[0][:30]"
   ]
  },
  {
   "cell_type": "markdown",
   "metadata": {
    "colab_type": "text",
    "id": "omsJ_MG2XIpA"
   },
   "source": [
    "# LDA"
   ]
  },
  {
   "cell_type": "markdown",
   "metadata": {
    "colab_type": "text",
    "id": "1NgseEFfXIpA"
   },
   "source": [
    "## Data preparation"
   ]
  },
  {
   "cell_type": "markdown",
   "metadata": {
    "colab_type": "text",
    "id": "2FcljwyJXIpB"
   },
   "source": [
    "#### Prepare bi-grams and tri-grams"
   ]
  },
  {
   "cell_type": "code",
   "execution_count": 28,
   "metadata": {
    "colab": {},
    "colab_type": "code",
    "id": "zOD3n_1dXIpC"
   },
   "outputs": [],
   "source": [
    "from gensim.models import Phrases"
   ]
  },
  {
   "cell_type": "code",
   "execution_count": 29,
   "metadata": {},
   "outputs": [
    {
     "data": {
      "text/plain": [
       "'data.to_csv(\"data_test.csv\", index = False)'"
      ]
     },
     "execution_count": 29,
     "metadata": {},
     "output_type": "execute_result"
    }
   ],
   "source": [
    "'''data.to_csv(\"data_test.csv\", index = False)'''"
   ]
  },
  {
   "cell_type": "code",
   "execution_count": 30,
   "metadata": {},
   "outputs": [
    {
     "data": {
      "text/plain": [
       "'magheggi = pd.read_csv(\"data_test.csv\")'"
      ]
     },
     "execution_count": 30,
     "metadata": {},
     "output_type": "execute_result"
    }
   ],
   "source": [
    "'''magheggi = pd.read_csv(\"data_test.csv\")'''"
   ]
  },
  {
   "cell_type": "code",
   "execution_count": 31,
   "metadata": {
    "colab": {
     "base_uri": "https://localhost:8080/",
     "height": 71
    },
    "colab_type": "code",
    "id": "kCkU_UNUXIpE",
    "outputId": "1d096393-2d10-40d7-fd83-5f70cb81229e"
   },
   "outputs": [],
   "source": [
    "tokens = data['tokens'].tolist()\n",
    "bigram_model = Phrases(tokens) # combina le parole che compaiono comunemente insieme\n",
    "trigram_model = Phrases(bigram_model[tokens], min_count=1) #stessa cosa ma a livello di (eventuali) tri-gram\n",
    "tokens = list(trigram_model[bigram_model[tokens]])"
   ]
  },
  {
   "cell_type": "code",
   "execution_count": 32,
   "metadata": {},
   "outputs": [
    {
     "name": "stdout",
     "output_type": "stream",
     "text": [
      "299\n",
      "11\n",
      "260\n",
      "15\n",
      "296\n",
      "109\n",
      "54\n",
      "9\n",
      "364\n",
      "157\n",
      "13\n",
      "283\n",
      "7\n",
      "12\n",
      "40\n",
      "82\n",
      "616\n",
      "454\n",
      "359\n",
      "263\n"
     ]
    }
   ],
   "source": [
    "for i in range(len(tokens[:20])):\n",
    "    print(len(tokens[i]))"
   ]
  },
  {
   "cell_type": "markdown",
   "metadata": {
    "colab_type": "text",
    "id": "pkJuiKZTXIpH"
   },
   "source": [
    "#### Prepare objects for LDA gensim implementation"
   ]
  },
  {
   "cell_type": "code",
   "execution_count": 33,
   "metadata": {
    "colab": {},
    "colab_type": "code",
    "id": "__aON3x8XIpJ"
   },
   "outputs": [],
   "source": [
    "from gensim import corpora"
   ]
  },
  {
   "cell_type": "code",
   "execution_count": 34,
   "metadata": {
    "colab": {},
    "colab_type": "code",
    "id": "6LgdHAscXIpL"
   },
   "outputs": [],
   "source": [
    "dictionary_LDA = corpora.Dictionary(tokens) # creo un dizionario con le mie parole (ripulite, abbinate, etc...)\n",
    "dictionary_LDA.filter_extremes(no_below=3) # rimuovo i token che compaiono in meno di 3 documenti (≥ 3 li tengo)\n",
    "\n",
    "# traformo ogni documento in una bag of words\n",
    "# ogni documento lista di (numero parola, numero documento)\n",
    "corpus = [dictionary_LDA.doc2bow(tok) for tok in tokens]"
   ]
  },
  {
   "cell_type": "markdown",
   "metadata": {
    "colab_type": "text",
    "id": "EIl_16feXIpN"
   },
   "source": [
    "## Running LDA"
   ]
  },
  {
   "cell_type": "code",
   "execution_count": 35,
   "metadata": {
    "colab": {},
    "colab_type": "code",
    "id": "10NUkLzXXIpO"
   },
   "outputs": [],
   "source": [
    "from gensim import models"
   ]
  },
  {
   "cell_type": "code",
   "execution_count": 36,
   "metadata": {
    "colab": {
     "base_uri": "https://localhost:8080/",
     "height": 85
    },
    "colab_type": "code",
    "id": "_MlvyMLDXIpP",
    "outputId": "a25b5675-f28b-42fa-901c-e9cc23c5a2c1"
   },
   "outputs": [
    {
     "name": "stdout",
     "output_type": "stream",
     "text": [
      "CPU times: user 1.82 s, sys: 22.3 ms, total: 1.84 s\n",
      "Wall time: 1.87 s\n"
     ]
    }
   ],
   "source": [
    "np.random.seed(123456)\n",
    "num_topics = 20 # cerco 20 topic\n",
    "'''\n",
    "LDA model estimation\n",
    "- allenato su corpus\n",
    "- id2word: dizionario con mapping ID -> parola\n",
    "- passes: training loops\n",
    "- alpha: probabilità che un topic ci sia in un documento (priori)\n",
    "- eta: probabilità che una parola sia legata ad un topic\n",
    "'''\n",
    "%time lda_model = models.LdaModel(corpus, num_topics=num_topics, \\\n",
    "                                  id2word=dictionary_LDA, \\\n",
    "                                  passes=4, alpha=[0.01]*num_topics, \\\n",
    "                                  eta=[0.01]*len(dictionary_LDA.keys()))"
   ]
  },
  {
   "cell_type": "markdown",
   "metadata": {
    "colab_type": "text",
    "id": "UaXMTCESXIpS"
   },
   "source": [
    "## Quick exploration of LDA results"
   ]
  },
  {
   "cell_type": "markdown",
   "metadata": {
    "colab_type": "text",
    "id": "J0xw2ZBvXIpT"
   },
   "source": [
    "#### Looking at topics"
   ]
  },
  {
   "cell_type": "code",
   "execution_count": 37,
   "metadata": {
    "colab": {
     "base_uri": "https://localhost:8080/",
     "height": 717
    },
    "colab_type": "code",
    "id": "tXVeDIEUXIpX",
    "outputId": "76d0ce1f-903c-407f-ad01-154a69c3d449",
    "scrolled": true
   },
   "outputs": [
    {
     "name": "stdout",
     "output_type": "stream",
     "text": [
      "0: 0.012*\"specie\" + 0.010*\"prey\" + 0.007*\"act\" + 0.006*\"animal\" + 0.006*\"help\" + 0.005*\"back\" + 0.005*\"find\" + 0.005*\"become\" + 0.005*\"behaviour\" + 0.005*\"number\" + 0.005*\"area\" + 0.005*\"include\" + 0.004*\"order\" + 0.004*\"kill\" + 0.004*\"approach\" + 0.004*\"however\" + 0.004*\"move\" + 0.004*\"host\" + 0.004*\"evolve\" + 0.004*\"well\"\n",
      "\n",
      "1: 0.010*\"show\" + 0.008*\"game\" + 0.007*\"another\" + 0.007*\"light\" + 0.007*\"night\" + 0.006*\"find\" + 0.006*\"could\" + 0.006*\"predator\" + 0.006*\"animal\" + 0.006*\"give\" + 0.006*\"images\" + 0.006*\"question\" + 0.006*\"however\" + 0.006*\"group\" + 0.006*\"live\" + 0.006*\"time\" + 0.005*\"transparent\" + 0.005*\"drug\" + 0.005*\"eye\" + 0.005*\"call\"\n",
      "\n",
      "2: 0.006*\"first\" + 0.006*\"people\" + 0.006*\"work\" + 0.005*\"city\" + 0.005*\"time\" + 0.005*\"year\" + 0.004*\"day\" + 0.004*\"part\" + 0.004*\"find\" + 0.004*\"could\" + 0.004*\"us\" + 0.003*\"run\" + 0.003*\"restaurant\" + 0.003*\"plan\" + 0.003*\"home\" + 0.003*\"start\" + 0.003*\"tunnel\" + 0.003*\"include\" + 0.003*\"bring\" + 0.003*\"dish\"\n",
      "\n",
      "3: 0.014*\"separatist\" + 0.011*\"people\" + 0.008*\"die\" + 0.008*\"call\" + 0.007*\"coalition\" + 0.007*\"northern_mali\" + 0.007*\"ansar_dine\" + 0.007*\"city\" + 0.006*\"force\" + 0.006*\"play\" + 0.006*\"islamist\" + 0.005*\"government\" + 0.005*\"around\" + 0.005*\"victim\" + 0.005*\"steal\" + 0.005*\"talk\" + 0.005*\"year\" + 0.005*\"prime_minister\" + 0.005*\"show\" + 0.005*\"add\"\n",
      "\n",
      "4: 0.008*\"people\" + 0.007*\"wave\" + 0.006*\"tell\" + 0.006*\"town\" + 0.006*\"water\" + 0.006*\"ocean\" + 0.005*\"benefit\" + 0.005*\"village\" + 0.005*\"world\" + 0.005*\"back\" + 0.005*\"leave\" + 0.004*\"us\" + 0.004*\"time\" + 0.004*\"fin\" + 0.004*\"work\" + 0.004*\"man\" + 0.004*\"look\" + 0.004*\"way\" + 0.004*\"first\" + 0.004*\"city\"\n",
      "\n",
      "5: 0.022*\"dutch\" + 0.011*\"issue\" + 0.010*\"border\" + 0.010*\"news\" + 0.009*\"become\" + 0.009*\"israel\" + 0.008*\"netherlands\" + 0.008*\"agency\" + 0.008*\"story\" + 0.007*\"report\" + 0.007*\"service\" + 0.007*\"un\" + 0.007*\"several\" + 0.006*\"international\" + 0.006*\"might\" + 0.006*\"part\" + 0.006*\"shy\" + 0.005*\"output\" + 0.005*\"problem\" + 0.005*\"local\"\n",
      "\n",
      "6: 0.012*\"event\" + 0.011*\"people\" + 0.009*\"president\" + 0.009*\"digital\" + 0.008*\"authority\" + 0.008*\"show\" + 0.007*\"news\" + 0.007*\"end\" + 0.007*\"election\" + 0.007*\"supporter\" + 0.007*\"correspondent\" + 0.006*\"capital\" + 0.006*\"grow\" + 0.006*\"still\" + 0.006*\"report\" + 0.006*\"well\" + 0.006*\"leave\" + 0.006*\"national\" + 0.006*\"film\" + 0.005*\"programme\"\n",
      "\n",
      "7: 0.011*\"news\" + 0.010*\"ant\" + 0.008*\"twitter\" + 0.007*\"single\" + 0.007*\"live\" + 0.006*\"name\" + 0.006*\"specie\" + 0.006*\"small\" + 0.006*\"people\" + 0.006*\"story\" + 0.005*\"welcome\" + 0.005*\"mate\" + 0.005*\"effort\" + 0.005*\"alert\" + 0.005*\"receive\" + 0.005*\"power\" + 0.005*\"millipede\" + 0.005*\"consider\" + 0.005*\"pollution\" + 0.005*\"tiny\"\n",
      "\n",
      "8: 0.012*\"us\" + 0.008*\"russia\" + 0.007*\"could\" + 0.007*\"time\" + 0.007*\"write\" + 0.006*\"president\" + 0.006*\"rocket\" + 0.006*\"call\" + 0.006*\"satellite\" + 0.006*\"trump\" + 0.005*\"many\" + 0.005*\"people\" + 0.005*\"raise\" + 0.005*\"flight\" + 0.005*\"set\" + 0.005*\"political\" + 0.005*\"tell\" + 0.004*\"try\" + 0.004*\"job\" + 0.004*\"mission\"\n",
      "\n",
      "9: 0.014*\"case\" + 0.010*\"male\" + 0.009*\"review\" + 0.009*\"prey\" + 0.008*\"find\" + 0.007*\"evidence\" + 0.007*\"kick\" + 0.007*\"message\" + 0.007*\"live\" + 0.006*\"life\" + 0.006*\"place\" + 0.006*\"study\" + 0.006*\"predator\" + 0.006*\"give\" + 0.006*\"part\" + 0.006*\"people\" + 0.006*\"number\" + 0.005*\"mate\" + 0.005*\"put\" + 0.004*\"store\"\n",
      "\n",
      "10: 0.009*\"people\" + 0.006*\"government\" + 0.006*\"uk\" + 0.006*\"think\" + 0.006*\"brexit\" + 0.005*\"tell\" + 0.005*\"time\" + 0.005*\"could\" + 0.005*\"us\" + 0.005*\"work\" + 0.004*\"even\" + 0.004*\"find\" + 0.004*\"minister\" + 0.004*\"day\" + 0.004*\"already\" + 0.004*\"help\" + 0.004*\"test\" + 0.004*\"bee\" + 0.004*\"still\" + 0.004*\"back\"\n",
      "\n",
      "11: 0.015*\"us\" + 0.014*\"stress\" + 0.011*\"healthcare\" + 0.008*\"day\" + 0.008*\"sleep\" + 0.007*\"could\" + 0.007*\"president\" + 0.007*\"test\" + 0.007*\"find\" + 0.007*\"keep\" + 0.006*\"put\" + 0.006*\"try\" + 0.006*\"images\" + 0.006*\"amazon\" + 0.006*\"provide\" + 0.006*\"team\" + 0.005*\"benefit\" + 0.005*\"expert\" + 0.005*\"body\" + 0.005*\"meeting\"\n",
      "\n",
      "12: 0.017*\"work\" + 0.013*\"people\" + 0.011*\"call\" + 0.008*\"model\" + 0.007*\"help\" + 0.007*\"find\" + 0.007*\"woman\" + 0.006*\"sleep\" + 0.006*\"spanish\" + 0.006*\"age\" + 0.006*\"radio\" + 0.006*\"happen\" + 0.006*\"report\" + 0.005*\"well\" + 0.005*\"add\" + 0.005*\"include\" + 0.005*\"accord\" + 0.005*\"police\" + 0.005*\"much\" + 0.005*\"job\"\n",
      "\n",
      "13: 0.034*\"video\" + 0.021*\"logo\" + 0.020*\"design\" + 0.015*\"platform\" + 0.014*\"tourism\" + 0.012*\"app\" + 0.012*\"animal\" + 0.012*\"country\" + 0.011*\"respect\" + 0.010*\"new\" + 0.009*\"include\" + 0.009*\"device\" + 0.009*\"call\" + 0.007*\"content\" + 0.007*\"around\" + 0.006*\"home\" + 0.006*\"others\" + 0.006*\"key\" + 0.006*\"television\" + 0.006*\"news_app\"\n",
      "\n",
      "14: 0.017*\"us\" + 0.007*\"time\" + 0.006*\"first\" + 0.006*\"america\" + 0.006*\"year\" + 0.006*\"product\" + 0.005*\"find\" + 0.005*\"amazon\" + 0.005*\"company\" + 0.005*\"still\" + 0.005*\"call\" + 0.005*\"president\" + 0.004*\"customer\" + 0.004*\"live\" + 0.004*\"store\" + 0.004*\"trump\" + 0.004*\"even\" + 0.004*\"put\" + 0.004*\"back\" + 0.004*\"light\"\n",
      "\n",
      "15: 0.014*\"list\" + 0.012*\"data\" + 0.012*\"us\" + 0.011*\"publish\" + 0.010*\"name\" + 0.010*\"could\" + 0.010*\"base\" + 0.009*\"study\" + 0.009*\"human\" + 0.007*\"russian\" + 0.007*\"security\" + 0.006*\"work\" + 0.006*\"journalist\" + 0.006*\"report\" + 0.006*\"activity\" + 0.005*\"level\" + 0.005*\"think\" + 0.005*\"system\" + 0.005*\"add\" + 0.005*\"afghanistan\"\n",
      "\n",
      "16: 0.009*\"find\" + 0.008*\"light\" + 0.008*\"us\" + 0.007*\"people\" + 0.006*\"work\" + 0.006*\"help\" + 0.005*\"day\" + 0.005*\"much\" + 0.005*\"think\" + 0.005*\"year\" + 0.005*\"images\" + 0.005*\"first\" + 0.005*\"actor\" + 0.005*\"write\" + 0.005*\"africa\" + 0.005*\"company\" + 0.004*\"right\" + 0.004*\"feel\" + 0.004*\"give\" + 0.004*\"week\"\n",
      "\n",
      "17: 0.010*\"idea\" + 0.008*\"work\" + 0.008*\"link\" + 0.007*\"news\" + 0.007*\"find\" + 0.007*\"world\" + 0.007*\"fast\" + 0.006*\"place\" + 0.006*\"information\" + 0.005*\"note\" + 0.005*\"start\" + 0.005*\"content\" + 0.005*\"chris\" + 0.005*\"audience\" + 0.005*\"human\" + 0.005*\"body\" + 0.005*\"include\" + 0.004*\"pick\" + 0.004*\"material\" + 0.004*\"journalism\"\n",
      "\n",
      "18: 0.020*\"eu\" + 0.008*\"tell\" + 0.008*\"government\" + 0.007*\"europe\" + 0.007*\"country\" + 0.006*\"visit\" + 0.006*\"include\" + 0.006*\"brexit\" + 0.006*\"work\" + 0.006*\"day\" + 0.006*\"new\" + 0.006*\"flight\" + 0.005*\"travel\" + 0.005*\"two\" + 0.005*\"deal\" + 0.005*\"vision\" + 0.005*\"couple\" + 0.005*\"reuters\" + 0.004*\"part\" + 0.004*\"route\"\n",
      "\n",
      "19: 0.026*\"video\" + 0.019*\"http\" + 0.017*\"drama\" + 0.013*\"set\" + 0.013*\"code\" + 0.011*\"always\" + 0.011*\"reference\" + 0.010*\"thank\" + 0.010*\"music\" + 0.009*\"listen\" + 0.009*\"young\" + 0.009*\"decade\" + 0.008*\"could\" + 0.008*\"live\" + 0.008*\"think\" + 0.008*\"end\" + 0.008*\"state\" + 0.008*\"love\" + 0.008*\"show\" + 0.008*\"receive\"\n",
      "\n"
     ]
    }
   ],
   "source": [
    "for i,topic in lda_model.show_topics(formatted=True, num_topics=num_topics, num_words=20):\n",
    "    print(str(i)+\": \"+ topic)\n",
    "    print()"
   ]
  },
  {
   "cell_type": "markdown",
   "metadata": {
    "colab_type": "text",
    "id": "VzPTruczXIpZ"
   },
   "source": [
    "#### Allocating topics to documents"
   ]
  },
  {
   "cell_type": "code",
   "execution_count": 38,
   "metadata": {
    "colab": {
     "base_uri": "https://localhost:8080/",
     "height": 170
    },
    "colab_type": "code",
    "id": "jmhFbhAbXIpa",
    "outputId": "ff38f889-4b18-4e90-e3a2-b7b793267c5d"
   },
   "outputs": [
    {
     "name": "stdout",
     "output_type": "stream",
     "text": [
      "Image copyright PA/EPA Image caption Oligarch Roman Abramovich (l) and PM Dmitry Medvedev are on the list\n",
      "\n",
      "Russian President Vladimir Putin says a list of officials and businessmen close to the Kremlin published by the US has in effect targeted all Russian people.\n",
      "\n",
      "The list names 210 top Russians as part of a sanctions law aimed at punishing Moscow for meddling in the US election.\n",
      "\n",
      "However, the US stressed those named were not subject to new sanctions.\n",
      "\n",
      "Mr Putin said the list was an unfr\n"
     ]
    }
   ],
   "source": [
    "print(data.articles.loc[0][:500])"
   ]
  },
  {
   "cell_type": "code",
   "execution_count": 39,
   "metadata": {
    "colab": {
     "base_uri": "https://localhost:8080/",
     "height": 34
    },
    "colab_type": "code",
    "id": "cqhdkaStXIpf",
    "outputId": "238cd4e4-e49d-4bdf-a858-c6da7da56a38"
   },
   "outputs": [
    {
     "data": {
      "text/plain": [
       "[(2, 0.6173629), (6, 0.06035658), (10, 0.32138637)]"
      ]
     },
     "execution_count": 39,
     "metadata": {},
     "output_type": "execute_result"
    }
   ],
   "source": [
    "lda_model[corpus[11]] # ad ogni documento sono stati associati i topic (con le rispettive probabilità)"
   ]
  },
  {
   "cell_type": "markdown",
   "metadata": {
    "colab_type": "text",
    "id": "7x_Vx5_wXIph"
   },
   "source": [
    "#### Predicting topics on unseen documents"
   ]
  },
  {
   "cell_type": "code",
   "execution_count": 40,
   "metadata": {
    "colab": {
     "base_uri": "https://localhost:8080/",
     "height": 173
    },
    "colab_type": "code",
    "id": "r0xDdbM3XIph",
    "outputId": "1d30a9ae-ab24-48ef-ead7-01056d9b34ee"
   },
   "outputs": [
    {
     "data": {
      "text/html": [
       "<div>\n",
       "<style scoped>\n",
       "    .dataframe tbody tr th:only-of-type {\n",
       "        vertical-align: middle;\n",
       "    }\n",
       "\n",
       "    .dataframe tbody tr th {\n",
       "        vertical-align: top;\n",
       "    }\n",
       "\n",
       "    .dataframe thead th {\n",
       "        text-align: right;\n",
       "    }\n",
       "</style>\n",
       "<table border=\"1\" class=\"dataframe\">\n",
       "  <thead>\n",
       "    <tr style=\"text-align: right;\">\n",
       "      <th></th>\n",
       "      <th>topic #</th>\n",
       "      <th>weight</th>\n",
       "      <th>words in topic</th>\n",
       "    </tr>\n",
       "  </thead>\n",
       "  <tbody>\n",
       "    <tr>\n",
       "      <td>0</td>\n",
       "      <td>2</td>\n",
       "      <td>0.40</td>\n",
       "      <td>0.006*\"first\" + 0.006*\"people\" + 0.006*\"work\" ...</td>\n",
       "    </tr>\n",
       "    <tr>\n",
       "      <td>1</td>\n",
       "      <td>8</td>\n",
       "      <td>0.22</td>\n",
       "      <td>0.012*\"us\" + 0.008*\"russia\" + 0.007*\"could\" + ...</td>\n",
       "    </tr>\n",
       "    <tr>\n",
       "      <td>2</td>\n",
       "      <td>10</td>\n",
       "      <td>0.29</td>\n",
       "      <td>0.009*\"people\" + 0.006*\"government\" + 0.006*\"u...</td>\n",
       "    </tr>\n",
       "    <tr>\n",
       "      <td>3</td>\n",
       "      <td>17</td>\n",
       "      <td>0.09</td>\n",
       "      <td>0.010*\"idea\" + 0.008*\"work\" + 0.008*\"link\" + 0...</td>\n",
       "    </tr>\n",
       "  </tbody>\n",
       "</table>\n",
       "</div>"
      ],
      "text/plain": [
       "   topic #  weight                                     words in topic\n",
       "0        2    0.40  0.006*\"first\" + 0.006*\"people\" + 0.006*\"work\" ...\n",
       "1        8    0.22  0.012*\"us\" + 0.008*\"russia\" + 0.007*\"could\" + ...\n",
       "2       10    0.29  0.009*\"people\" + 0.006*\"government\" + 0.006*\"u...\n",
       "3       17    0.09  0.010*\"idea\" + 0.008*\"work\" + 0.008*\"link\" + 0..."
      ]
     },
     "execution_count": 40,
     "metadata": {},
     "output_type": "execute_result"
    }
   ],
   "source": [
    "document = '''Eric Tucker, a 35-year-old co-founder of a marketing company in Austin, Tex., had just about 40 Twitter followers. But his recent tweet about paid protesters being bused to demonstrations against President-elect Donald J. Trump fueled a nationwide conspiracy theory — one that Mr. Trump joined in promoting. \n",
    "\n",
    "Mr. Tucker's post was shared at least 16,000 times on Twitter and more than 350,000 times on Facebook. The problem is that Mr. Tucker got it wrong. There were no such buses packed with paid protesters.\n",
    "\n",
    "But that didn't matter.\n",
    "\n",
    "While some fake news is produced purposefully by teenagers in the Balkans or entrepreneurs in the United States seeking to make money from advertising, false information can also arise from misinformed social media posts by regular people that are seized on and spread through a hyperpartisan blogosphere.\n",
    "\n",
    "Here, The New York Times deconstructs how Mr. Tucker’s now-deleted declaration on Twitter the night after the election turned into a fake-news phenomenon. It is an example of how, in an ever-connected world where speed often takes precedence over truth, an observation by a private citizen can quickly become a talking point, even as it is being proved false.'''\n",
    "tokens = word_tokenize(document)\n",
    "\n",
    "# Recupero i topics, formattati come stringhe, 20 parole max per ognuno\n",
    "topics = lda_model.show_topics(formatted=True, num_topics=num_topics, num_words=20)\n",
    "# creo un dataframe con i topic abbinati al documento qui sopra\n",
    "# per ogni topic recupero il numero, la sua probabilità e le parole associate (topics[el[0]][1])\n",
    "pd.DataFrame([(el[0], round(el[1],2), topics[el[0]][1]) for el in lda_model[dictionary_LDA.doc2bow(tokens)]], columns=['topic #', 'weight', 'words in topic'])"
   ]
  },
  {
   "cell_type": "markdown",
   "metadata": {
    "colab_type": "text",
    "id": "LGtwgoy5XIpj"
   },
   "source": [
    "## Advanced exploration of LDA results"
   ]
  },
  {
   "cell_type": "markdown",
   "metadata": {
    "colab_type": "text",
    "id": "dZVA4mW7XIpk"
   },
   "source": [
    "#### Allocation of topics in all documents"
   ]
  },
  {
   "cell_type": "code",
   "execution_count": 41,
   "metadata": {
    "colab": {},
    "colab_type": "code",
    "id": "oYezjcvfXIpl"
   },
   "outputs": [],
   "source": [
    "# abbino ogni topic ad un documento\n",
    "topics = [lda_model[corpus[i]] for i in range(len(data))]"
   ]
  },
  {
   "cell_type": "code",
   "execution_count": 42,
   "metadata": {
    "colab": {
     "base_uri": "https://localhost:8080/",
     "height": 80
    },
    "colab_type": "code",
    "id": "9mbogAo2XIpn",
    "outputId": "c43dcecc-5a56-4af5-e086-1d121e183223"
   },
   "outputs": [
    {
     "data": {
      "text/html": [
       "<div>\n",
       "<style scoped>\n",
       "    .dataframe tbody tr th:only-of-type {\n",
       "        vertical-align: middle;\n",
       "    }\n",
       "\n",
       "    .dataframe tbody tr th {\n",
       "        vertical-align: top;\n",
       "    }\n",
       "\n",
       "    .dataframe thead th {\n",
       "        text-align: right;\n",
       "    }\n",
       "</style>\n",
       "<table border=\"1\" class=\"dataframe\">\n",
       "  <thead>\n",
       "    <tr style=\"text-align: right;\">\n",
       "      <th></th>\n",
       "      <th>0</th>\n",
       "      <th>1</th>\n",
       "      <th>2</th>\n",
       "      <th>3</th>\n",
       "      <th>4</th>\n",
       "      <th>5</th>\n",
       "      <th>6</th>\n",
       "      <th>7</th>\n",
       "      <th>8</th>\n",
       "      <th>9</th>\n",
       "      <th>10</th>\n",
       "      <th>11</th>\n",
       "      <th>12</th>\n",
       "      <th>13</th>\n",
       "      <th>14</th>\n",
       "      <th>15</th>\n",
       "      <th>16</th>\n",
       "      <th>17</th>\n",
       "      <th>18</th>\n",
       "      <th>19</th>\n",
       "    </tr>\n",
       "  </thead>\n",
       "  <tbody>\n",
       "    <tr>\n",
       "      <td>0</td>\n",
       "      <td>NaN</td>\n",
       "      <td>NaN</td>\n",
       "      <td>NaN</td>\n",
       "      <td>NaN</td>\n",
       "      <td>NaN</td>\n",
       "      <td>NaN</td>\n",
       "      <td>NaN</td>\n",
       "      <td>NaN</td>\n",
       "      <td>NaN</td>\n",
       "      <td>0.0385366</td>\n",
       "      <td>NaN</td>\n",
       "      <td>NaN</td>\n",
       "      <td>NaN</td>\n",
       "      <td>NaN</td>\n",
       "      <td>NaN</td>\n",
       "      <td>0.0913012</td>\n",
       "      <td>NaN</td>\n",
       "      <td>NaN</td>\n",
       "      <td>0.869287</td>\n",
       "      <td>NaN</td>\n",
       "    </tr>\n",
       "  </tbody>\n",
       "</table>\n",
       "</div>"
      ],
      "text/plain": [
       "     0    1    2    3    4    5    6    7    8          9   10   11   12   13  \\\n",
       "0  NaN  NaN  NaN  NaN  NaN  NaN  NaN  NaN  NaN  0.0385366  NaN  NaN  NaN  NaN   \n",
       "\n",
       "    14         15   16   17        18   19  \n",
       "0  NaN  0.0913012  NaN  NaN  0.869287  NaN  "
      ]
     },
     "execution_count": 42,
     "metadata": {},
     "output_type": "execute_result"
    }
   ],
   "source": [
    "def topics_document_to_dataframe(topics_document, num_topics):\n",
    "    res = pd.DataFrame(columns=range(num_topics))\n",
    "    for topic_weight in topics_document:\n",
    "        res.loc[0, topic_weight[0]] = topic_weight[1]\n",
    "    return res\n",
    "\n",
    "topics_document_to_dataframe([(9, 0.03853655432967504), (15, 0.09130117862212643), (18, 0.8692868808484044)], 20)"
   ]
  },
  {
   "cell_type": "code",
   "execution_count": 43,
   "metadata": {
    "colab": {},
    "colab_type": "code",
    "id": "EB2sj066XIpp"
   },
   "outputs": [],
   "source": [
    "# Like TF-IDF, create a matrix of topic weighting, with documents as rows and topics as columns\n",
    "document_topic = \\\n",
    "pd.concat([topics_document_to_dataframe(topics_document, num_topics=num_topics) for topics_document in topics]) \\\n",
    "  .reset_index(drop=True).fillna(0)"
   ]
  },
  {
   "cell_type": "code",
   "execution_count": 44,
   "metadata": {
    "colab": {
     "base_uri": "https://localhost:8080/",
     "height": 204
    },
    "colab_type": "code",
    "id": "nF_Zdbh7XIpr",
    "outputId": "14730814-2a61-469d-f8d9-d7ca4f009980",
    "scrolled": true
   },
   "outputs": [
    {
     "data": {
      "text/html": [
       "<div>\n",
       "<style scoped>\n",
       "    .dataframe tbody tr th:only-of-type {\n",
       "        vertical-align: middle;\n",
       "    }\n",
       "\n",
       "    .dataframe tbody tr th {\n",
       "        vertical-align: top;\n",
       "    }\n",
       "\n",
       "    .dataframe thead th {\n",
       "        text-align: right;\n",
       "    }\n",
       "</style>\n",
       "<table border=\"1\" class=\"dataframe\">\n",
       "  <thead>\n",
       "    <tr style=\"text-align: right;\">\n",
       "      <th></th>\n",
       "      <th>0</th>\n",
       "      <th>1</th>\n",
       "      <th>2</th>\n",
       "      <th>3</th>\n",
       "      <th>4</th>\n",
       "      <th>5</th>\n",
       "      <th>6</th>\n",
       "      <th>7</th>\n",
       "      <th>8</th>\n",
       "      <th>9</th>\n",
       "      <th>10</th>\n",
       "      <th>11</th>\n",
       "      <th>12</th>\n",
       "      <th>13</th>\n",
       "      <th>14</th>\n",
       "      <th>15</th>\n",
       "      <th>16</th>\n",
       "      <th>17</th>\n",
       "      <th>18</th>\n",
       "      <th>19</th>\n",
       "    </tr>\n",
       "  </thead>\n",
       "  <tbody>\n",
       "    <tr>\n",
       "      <td>0</td>\n",
       "      <td>0.0</td>\n",
       "      <td>0.0</td>\n",
       "      <td>0.000000</td>\n",
       "      <td>0.000000</td>\n",
       "      <td>0.0</td>\n",
       "      <td>0.0</td>\n",
       "      <td>0.0</td>\n",
       "      <td>0.0</td>\n",
       "      <td>0.000000</td>\n",
       "      <td>0.0</td>\n",
       "      <td>0.0</td>\n",
       "      <td>0.0</td>\n",
       "      <td>0.0</td>\n",
       "      <td>0.0</td>\n",
       "      <td>0.0</td>\n",
       "      <td>0.998306</td>\n",
       "      <td>0.0</td>\n",
       "      <td>0.0</td>\n",
       "      <td>0.0</td>\n",
       "      <td>0.0</td>\n",
       "    </tr>\n",
       "    <tr>\n",
       "      <td>1</td>\n",
       "      <td>0.0</td>\n",
       "      <td>0.0</td>\n",
       "      <td>0.000000</td>\n",
       "      <td>0.000000</td>\n",
       "      <td>0.0</td>\n",
       "      <td>0.0</td>\n",
       "      <td>0.0</td>\n",
       "      <td>0.0</td>\n",
       "      <td>0.976827</td>\n",
       "      <td>0.0</td>\n",
       "      <td>0.0</td>\n",
       "      <td>0.0</td>\n",
       "      <td>0.0</td>\n",
       "      <td>0.0</td>\n",
       "      <td>0.0</td>\n",
       "      <td>0.000000</td>\n",
       "      <td>0.0</td>\n",
       "      <td>0.0</td>\n",
       "      <td>0.0</td>\n",
       "      <td>0.0</td>\n",
       "    </tr>\n",
       "    <tr>\n",
       "      <td>2</td>\n",
       "      <td>0.0</td>\n",
       "      <td>0.0</td>\n",
       "      <td>0.000000</td>\n",
       "      <td>0.948758</td>\n",
       "      <td>0.0</td>\n",
       "      <td>0.0</td>\n",
       "      <td>0.0</td>\n",
       "      <td>0.0</td>\n",
       "      <td>0.050132</td>\n",
       "      <td>0.0</td>\n",
       "      <td>0.0</td>\n",
       "      <td>0.0</td>\n",
       "      <td>0.0</td>\n",
       "      <td>0.0</td>\n",
       "      <td>0.0</td>\n",
       "      <td>0.000000</td>\n",
       "      <td>0.0</td>\n",
       "      <td>0.0</td>\n",
       "      <td>0.0</td>\n",
       "      <td>0.0</td>\n",
       "    </tr>\n",
       "    <tr>\n",
       "      <td>3</td>\n",
       "      <td>0.0</td>\n",
       "      <td>0.0</td>\n",
       "      <td>0.000000</td>\n",
       "      <td>0.000000</td>\n",
       "      <td>0.0</td>\n",
       "      <td>0.0</td>\n",
       "      <td>0.0</td>\n",
       "      <td>0.0</td>\n",
       "      <td>0.973608</td>\n",
       "      <td>0.0</td>\n",
       "      <td>0.0</td>\n",
       "      <td>0.0</td>\n",
       "      <td>0.0</td>\n",
       "      <td>0.0</td>\n",
       "      <td>0.0</td>\n",
       "      <td>0.000000</td>\n",
       "      <td>0.0</td>\n",
       "      <td>0.0</td>\n",
       "      <td>0.0</td>\n",
       "      <td>0.0</td>\n",
       "    </tr>\n",
       "    <tr>\n",
       "      <td>4</td>\n",
       "      <td>0.0</td>\n",
       "      <td>0.0</td>\n",
       "      <td>0.999021</td>\n",
       "      <td>0.000000</td>\n",
       "      <td>0.0</td>\n",
       "      <td>0.0</td>\n",
       "      <td>0.0</td>\n",
       "      <td>0.0</td>\n",
       "      <td>0.000000</td>\n",
       "      <td>0.0</td>\n",
       "      <td>0.0</td>\n",
       "      <td>0.0</td>\n",
       "      <td>0.0</td>\n",
       "      <td>0.0</td>\n",
       "      <td>0.0</td>\n",
       "      <td>0.000000</td>\n",
       "      <td>0.0</td>\n",
       "      <td>0.0</td>\n",
       "      <td>0.0</td>\n",
       "      <td>0.0</td>\n",
       "    </tr>\n",
       "  </tbody>\n",
       "</table>\n",
       "</div>"
      ],
      "text/plain": [
       "     0    1         2         3    4    5    6    7         8    9   10   11  \\\n",
       "0  0.0  0.0  0.000000  0.000000  0.0  0.0  0.0  0.0  0.000000  0.0  0.0  0.0   \n",
       "1  0.0  0.0  0.000000  0.000000  0.0  0.0  0.0  0.0  0.976827  0.0  0.0  0.0   \n",
       "2  0.0  0.0  0.000000  0.948758  0.0  0.0  0.0  0.0  0.050132  0.0  0.0  0.0   \n",
       "3  0.0  0.0  0.000000  0.000000  0.0  0.0  0.0  0.0  0.973608  0.0  0.0  0.0   \n",
       "4  0.0  0.0  0.999021  0.000000  0.0  0.0  0.0  0.0  0.000000  0.0  0.0  0.0   \n",
       "\n",
       "    12   13   14        15   16   17   18   19  \n",
       "0  0.0  0.0  0.0  0.998306  0.0  0.0  0.0  0.0  \n",
       "1  0.0  0.0  0.0  0.000000  0.0  0.0  0.0  0.0  \n",
       "2  0.0  0.0  0.0  0.000000  0.0  0.0  0.0  0.0  \n",
       "3  0.0  0.0  0.0  0.000000  0.0  0.0  0.0  0.0  \n",
       "4  0.0  0.0  0.0  0.000000  0.0  0.0  0.0  0.0  "
      ]
     },
     "execution_count": 44,
     "metadata": {},
     "output_type": "execute_result"
    }
   ],
   "source": [
    "document_topic.head()"
   ]
  },
  {
   "cell_type": "code",
   "execution_count": 45,
   "metadata": {
    "colab": {
     "base_uri": "https://localhost:8080/",
     "height": 374
    },
    "colab_type": "code",
    "id": "xH6IAJakXIpw",
    "outputId": "1a44672a-a5d8-405e-dbb0-622327e30a59"
   },
   "outputs": [
    {
     "data": {
      "text/plain": [
       "248    0.999237\n",
       "58     0.999117\n",
       "256    0.997293\n",
       "15     0.996790\n",
       "41     0.993013\n",
       "244    0.992777\n",
       "218    0.991440\n",
       "116    0.973609\n",
       "170    0.963455\n",
       "163    0.954756\n",
       "225    0.913619\n",
       "66     0.816264\n",
       "161    0.617414\n",
       "237    0.366401\n",
       "16     0.294009\n",
       "34     0.284694\n",
       "236    0.283281\n",
       "167    0.143204\n",
       "252    0.110726\n",
       "8      0.088888\n",
       "Name: 14, dtype: float64"
      ]
     },
     "execution_count": 45,
     "metadata": {},
     "output_type": "execute_result"
    }
   ],
   "source": [
    "# Which document are about topic 14\n",
    "document_topic.sort_values(14, ascending=False)[14].head(20)"
   ]
  },
  {
   "cell_type": "code",
   "execution_count": 46,
   "metadata": {
    "colab": {
     "base_uri": "https://localhost:8080/",
     "height": 340
    },
    "colab_type": "code",
    "id": "WQlnaAsaXIpz",
    "outputId": "3ba5e070-7fc3-4dea-bc4a-a10910a2d225",
    "scrolled": true
   },
   "outputs": [
    {
     "name": "stdout",
     "output_type": "stream",
     "text": [
      "Image caption Brendan Cole was a professional dancer on Strictly Come Dancing for 13 years\n",
      "\n",
      "Brendan Cole has announced he will not be returning to Strictly Come Dancing.\n",
      "\n",
      "The professional dancer revealed during a TV interview on Tuesday that the decision was made by the BBC, saying he was \"in shock\".\n",
      "\n",
      "\"They made an editorial decision not to have me back on the show,\" he said on ITV's Lorraine.\n",
      "\n",
      "A spokesman for the BBC One show thanked Cole for \"being part of the show since the beginning\" and contributing to its success.\n",
      "\n",
      "'Emotional and raw'\n",
      "\n",
      "Cole said: \"I'm a little bit in shock at the moment.\n",
      "\n",
      "\"I'm quite emotional and a bit raw about it. I am very disappointed. It's an editorial decision. I will never know the ins and outs.\n",
      "\n",
      "\"I have had 15 incredible series on the show, I'm very proud of the whole show, they're a great team.\"\n",
      "\n",
      "Media playback is unsupported on your device Media caption In an interview on 16 January, Brendan Cole told 5 live he wanted to return to Stri\n"
     ]
    }
   ],
   "source": [
    "print(data.articles.loc[91][:1000])"
   ]
  },
  {
   "cell_type": "markdown",
   "metadata": {
    "colab_type": "text",
    "id": "xkvBPOQ_XIp1"
   },
   "source": [
    "#### Looking at the distribution of topics in all documents"
   ]
  },
  {
   "cell_type": "code",
   "execution_count": 47,
   "metadata": {
    "colab": {
     "base_uri": "https://localhost:8080/",
     "height": 1000
    },
    "colab_type": "code",
    "id": "FM64wOE3XIp2",
    "outputId": "5e50a0ef-15e4-449d-9cf3-f19dc4a0b83d"
   },
   "outputs": [
    {
     "data": {
      "text/plain": [
       "<matplotlib.axes._subplots.AxesSubplot at 0x12a82e3d0>"
      ]
     },
     "execution_count": 47,
     "metadata": {},
     "output_type": "execute_result"
    },
    {
     "data": {
      "image/png": "[encoded data removed]",
      "text/plain": [
       "<Figure size 720x1440 with 2 Axes>"
      ]
     },
     "metadata": {},
     "output_type": "display_data"
    }
   ],
   "source": [
    "%matplotlib inline\n",
    "import seaborn as sns; sns.set(rc={'figure.figsize':(10,20)})\n",
    "sns.heatmap(document_topic.loc[document_topic.idxmax(axis=1).sort_values().index])"
   ]
  },
  {
   "cell_type": "code",
   "execution_count": 48,
   "metadata": {
    "colab": {
     "base_uri": "https://localhost:8080/",
     "height": 343
    },
    "colab_type": "code",
    "id": "oV4nDst4XIp4",
    "outputId": "2314c444-2b42-4ce8-a867-40c6b12ffc55"
   },
   "outputs": [
    {
     "data": {
      "text/plain": [
       "<matplotlib.axes._subplots.AxesSubplot at 0x12a97a210>"
      ]
     },
     "execution_count": 48,
     "metadata": {},
     "output_type": "execute_result"
    },
    {
     "data": {
      "image/png": "[encoded data removed]",
      "text/plain": [
       "<Figure size 720x360 with 1 Axes>"
      ]
     },
     "metadata": {},
     "output_type": "display_data"
    }
   ],
   "source": [
    "sns.set(rc={'figure.figsize':(10,5)})\n",
    "document_topic.idxmax(axis=1).value_counts().plot.bar(color='lightblue')"
   ]
  },
  {
   "cell_type": "markdown",
   "metadata": {
    "colab_type": "text",
    "id": "qf2PrF6eXIp6"
   },
   "source": [
    "#### Visualizing topics"
   ]
  },
  {
   "cell_type": "code",
   "execution_count": 49,
   "metadata": {
    "colab": {},
    "colab_type": "code",
    "id": "SP32LP6-XIp6",
    "outputId": "6e9a8f5d-b5f5-4f64-f114-6bc99e3666c1"
   },
   "outputs": [
    {
     "name": "stderr",
     "output_type": "stream",
     "text": [
      "/Users/lorenzocorti/opt/anaconda3/envs/research/lib/python3.7/site-packages/pyLDAvis/_prepare.py:257: FutureWarning: Sorting because non-concatenation axis is not aligned. A future version\n",
      "of pandas will change to not sort by default.\n",
      "\n",
      "To accept the future behavior, pass 'sort=False'.\n",
      "\n",
      "To retain the current behavior and silence the warning, pass 'sort=True'.\n",
      "\n",
      "  return pd.concat([default_term_info] + list(topic_dfs))\n"
     ]
    },
    {
     "data": {
      "text/html": [
       "\n",
       "<link rel=\"stylesheet\" type=\"text/css\" href=\"https://cdn.rawgit.com/bmabey/pyLDAvis/files/ldavis.v1.0.0.css\">\n",
       "\n",
       "\n",
       "<div id=\"ldavis_el5653750683470888166985087\"></div>\n",
       "<script type=\"text/javascript\">\n",
       "\n",
       "var ldavis_el5653750683470888166985087_data = {\"mdsDat\": {\"x\": [0.007889641679878724, -0.007728130801782853, 0.02106791001945137, -0.020428578335537153, 0.05201060001811997, 0.01436858346748294, 0.021419265666907182, -0.05894967942021805, -0.11726367639037147, -0.004407890864266347, -0.05067598411548008, -0.05142986655633598, -0.010306548525193051, -0.0008281073013032607, -0.07349798761569214, -0.07593792588668243, 0.0077232854172706936, 0.013226298531136693, 0.2504763204014059, 0.08327247061120858], \"y\": [-0.017418463823522874, -0.002172782651595207, -0.07969313998541684, -0.024406695316692435, -0.09585069019081, -0.0015083451188236917, -0.14621698810168202, -0.017362866613114224, 0.12204144850094845, 0.019777797086918594, 0.07903369167986032, 0.01686358485341487, 0.020698437924098517, -0.09766963919926455, 0.0419980096446398, 0.014949980498100415, 0.04217558098318551, 0.032384617865033036, 0.14111443107176072, -0.048737969107039404], \"topics\": [1, 2, 3, 4, 5, 6, 7, 8, 9, 10, 11, 12, 13, 14, 15, 16, 17, 18, 19, 20], \"cluster\": [1, 1, 1, 1, 1, 1, 1, 1, 1, 1, 1, 1, 1, 1, 1, 1, 1, 1, 1, 1], \"Freq\": [19.58411979675293, 10.316248893737793, 9.472772598266602, 9.188578605651855, 6.965523719787598, 6.3703508377075195, 5.073347091674805, 4.052917003631592, 3.7147040367126465, 3.6837902069091797, 3.4806463718414307, 3.1798038482666016, 3.1598150730133057, 2.4854390621185303, 2.3788609504699707, 2.1627676486968994, 1.7105151414871216, 1.6269607543945312, 1.0690712928771973, 0.32376039028167725]}, \"tinfo\": {\"Category\": [\"Default\", \"Default\", \"Default\", \"Default\", \"Default\", \"Default\", \"Default\", \"Default\", \"Default\", \"Default\", \"Default\", \"Default\", \"Default\", \"Default\", \"Default\", \"Default\", \"Default\", \"Default\", \"Default\", \"Default\", \"Default\", \"Default\", \"Default\", \"Default\", \"Default\", \"Default\", \"Default\", \"Default\", \"Default\", \"Default\", \"Topic1\", \"Topic1\", \"Topic1\", \"Topic1\", \"Topic1\", \"Topic1\", \"Topic1\", \"Topic1\", \"Topic1\", \"Topic1\", \"Topic1\", \"Topic1\", \"Topic1\", \"Topic1\", \"Topic1\", \"Topic1\", \"Topic1\", \"Topic1\", \"Topic1\", \"Topic1\", \"Topic1\", \"Topic1\", \"Topic1\", \"Topic1\", \"Topic1\", \"Topic1\", \"Topic1\", \"Topic1\", \"Topic1\", \"Topic1\", \"Topic1\", \"Topic1\", \"Topic1\", \"Topic1\", \"Topic1\", \"Topic1\", \"Topic1\", \"Topic1\", \"Topic1\", \"Topic1\", \"Topic1\", \"Topic1\", \"Topic1\", \"Topic1\", \"Topic1\", \"Topic1\", \"Topic1\", \"Topic1\", \"Topic1\", \"Topic1\", \"Topic1\", \"Topic1\", \"Topic1\", \"Topic1\", \"Topic1\", \"Topic1\", \"Topic1\", \"Topic1\", \"Topic1\", \"Topic1\", \"Topic1\", \"Topic1\", \"Topic1\", \"Topic1\", \"Topic1\", \"Topic1\", \"Topic1\", \"Topic1\", \"Topic1\", \"Topic1\", \"Topic1\", \"Topic1\", \"Topic1\", \"Topic1\", \"Topic1\", \"Topic2\", \"Topic2\", \"Topic2\", \"Topic2\", \"Topic2\", \"Topic2\", \"Topic2\", \"Topic2\", \"Topic2\", \"Topic2\", \"Topic2\", \"Topic2\", \"Topic2\", \"Topic2\", \"Topic2\", \"Topic2\", \"Topic2\", \"Topic2\", \"Topic2\", \"Topic2\", \"Topic2\", \"Topic2\", \"Topic2\", \"Topic2\", \"Topic2\", \"Topic2\", \"Topic2\", \"Topic2\", \"Topic2\", \"Topic2\", \"Topic2\", \"Topic2\", \"Topic2\", \"Topic2\", \"Topic2\", \"Topic2\", \"Topic2\", \"Topic2\", \"Topic2\", \"Topic2\", \"Topic2\", \"Topic2\", \"Topic2\", \"Topic2\", \"Topic2\", \"Topic2\", \"Topic2\", \"Topic2\", \"Topic2\", \"Topic2\", \"Topic2\", \"Topic2\", \"Topic2\", \"Topic2\", \"Topic2\", \"Topic2\", \"Topic2\", \"Topic2\", \"Topic2\", \"Topic2\", \"Topic2\", \"Topic2\", \"Topic2\", \"Topic2\", \"Topic2\", \"Topic2\", \"Topic2\", \"Topic2\", \"Topic2\", \"Topic2\", \"Topic2\", \"Topic2\", \"Topic3\", \"Topic3\", \"Topic3\", \"Topic3\", \"Topic3\", \"Topic3\", \"Topic3\", \"Topic3\", \"Topic3\", \"Topic3\", \"Topic3\", \"Topic3\", \"Topic3\", \"Topic3\", \"Topic3\", \"Topic3\", \"Topic3\", \"Topic3\", \"Topic3\", \"Topic3\", \"Topic3\", \"Topic3\", \"Topic3\", \"Topic3\", \"Topic3\", \"Topic3\", \"Topic3\", \"Topic3\", \"Topic3\", \"Topic3\", \"Topic3\", \"Topic3\", \"Topic3\", \"Topic3\", \"Topic3\", \"Topic3\", \"Topic3\", \"Topic3\", \"Topic3\", \"Topic3\", \"Topic3\", \"Topic3\", \"Topic3\", \"Topic3\", \"Topic3\", \"Topic3\", \"Topic3\", \"Topic3\", \"Topic3\", \"Topic3\", \"Topic3\", \"Topic3\", \"Topic3\", \"Topic3\", \"Topic3\", \"Topic3\", \"Topic3\", \"Topic3\", \"Topic3\", \"Topic3\", \"Topic3\", \"Topic3\", \"Topic4\", \"Topic4\", \"Topic4\", \"Topic4\", \"Topic4\", \"Topic4\", \"Topic4\", \"Topic4\", \"Topic4\", \"Topic4\", \"Topic4\", \"Topic4\", \"Topic4\", \"Topic4\", \"Topic4\", \"Topic4\", \"Topic4\", \"Topic4\", \"Topic4\", \"Topic4\", \"Topic4\", \"Topic4\", \"Topic4\", \"Topic4\", \"Topic4\", \"Topic4\", \"Topic4\", \"Topic4\", \"Topic4\", \"Topic4\", \"Topic4\", \"Topic4\", \"Topic4\", \"Topic4\", \"Topic4\", \"Topic4\", \"Topic4\", \"Topic4\", \"Topic4\", \"Topic4\", \"Topic4\", \"Topic4\", \"Topic4\", \"Topic4\", \"Topic4\", \"Topic4\", \"Topic4\", \"Topic4\", \"Topic4\", \"Topic4\", \"Topic4\", \"Topic4\", \"Topic4\", \"Topic4\", \"Topic4\", \"Topic4\", \"Topic4\", \"Topic4\", \"Topic4\", \"Topic4\", \"Topic4\", \"Topic4\", \"Topic4\", \"Topic4\", \"Topic4\", \"Topic4\", \"Topic4\", \"Topic4\", \"Topic5\", \"Topic5\", \"Topic5\", \"Topic5\", \"Topic5\", \"Topic5\", \"Topic5\", \"Topic5\", \"Topic5\", \"Topic5\", \"Topic5\", \"Topic5\", \"Topic5\", \"Topic5\", \"Topic5\", \"Topic5\", \"Topic5\", \"Topic5\", \"Topic5\", \"Topic5\", \"Topic5\", \"Topic5\", \"Topic5\", \"Topic5\", \"Topic5\", \"Topic5\", \"Topic5\", \"Topic5\", \"Topic5\", \"Topic5\", \"Topic5\", \"Topic5\", \"Topic5\", \"Topic5\", \"Topic5\", \"Topic5\", \"Topic5\", \"Topic5\", \"Topic5\", \"Topic5\", \"Topic5\", \"Topic5\", \"Topic5\", \"Topic5\", \"Topic5\", \"Topic5\", \"Topic5\", \"Topic5\", \"Topic5\", \"Topic5\", \"Topic5\", \"Topic5\", \"Topic5\", \"Topic5\", \"Topic5\", \"Topic5\", \"Topic5\", \"Topic5\", \"Topic5\", \"Topic5\", \"Topic5\", \"Topic5\", \"Topic5\", \"Topic5\", \"Topic5\", \"Topic5\", \"Topic6\", \"Topic6\", \"Topic6\", \"Topic6\", \"Topic6\", \"Topic6\", \"Topic6\", \"Topic6\", \"Topic6\", \"Topic6\", \"Topic6\", \"Topic6\", \"Topic6\", \"Topic6\", \"Topic6\", \"Topic6\", \"Topic6\", \"Topic6\", \"Topic6\", \"Topic6\", \"Topic6\", \"Topic6\", \"Topic6\", \"Topic6\", \"Topic6\", \"Topic6\", \"Topic6\", \"Topic6\", \"Topic6\", \"Topic6\", \"Topic6\", \"Topic6\", \"Topic6\", \"Topic6\", \"Topic6\", \"Topic6\", \"Topic6\", \"Topic6\", \"Topic6\", \"Topic6\", \"Topic6\", \"Topic6\", \"Topic6\", \"Topic6\", \"Topic6\", \"Topic6\", \"Topic6\", \"Topic6\", \"Topic6\", \"Topic6\", \"Topic6\", \"Topic6\", \"Topic6\", \"Topic6\", \"Topic6\", \"Topic6\", \"Topic6\", \"Topic6\", \"Topic6\", \"Topic6\", \"Topic6\", \"Topic6\", \"Topic6\", \"Topic6\", \"Topic6\", \"Topic6\", \"Topic6\", \"Topic6\", \"Topic6\", \"Topic6\", \"Topic6\", \"Topic7\", \"Topic7\", \"Topic7\", \"Topic7\", \"Topic7\", \"Topic7\", \"Topic7\", \"Topic7\", \"Topic7\", \"Topic7\", \"Topic7\", \"Topic7\", \"Topic7\", \"Topic7\", \"Topic7\", \"Topic7\", \"Topic7\", \"Topic7\", \"Topic7\", \"Topic7\", \"Topic7\", \"Topic7\", \"Topic7\", \"Topic7\", \"Topic7\", \"Topic7\", \"Topic7\", \"Topic7\", \"Topic7\", \"Topic7\", \"Topic7\", \"Topic7\", \"Topic7\", \"Topic7\", \"Topic7\", \"Topic7\", \"Topic7\", \"Topic7\", \"Topic7\", \"Topic7\", \"Topic7\", \"Topic7\", \"Topic7\", \"Topic7\", \"Topic7\", \"Topic7\", \"Topic7\", \"Topic7\", \"Topic7\", \"Topic7\", \"Topic7\", \"Topic7\", \"Topic7\", \"Topic7\", \"Topic7\", \"Topic7\", \"Topic7\", \"Topic7\", \"Topic7\", \"Topic7\", \"Topic7\", \"Topic7\", \"Topic7\", \"Topic7\", \"Topic7\", \"Topic7\", \"Topic8\", \"Topic8\", \"Topic8\", \"Topic8\", \"Topic8\", \"Topic8\", \"Topic8\", \"Topic8\", \"Topic8\", \"Topic8\", \"Topic8\", \"Topic8\", \"Topic8\", \"Topic8\", \"Topic8\", \"Topic8\", \"Topic8\", \"Topic8\", \"Topic8\", \"Topic8\", \"Topic8\", \"Topic8\", \"Topic8\", \"Topic8\", \"Topic8\", \"Topic8\", \"Topic8\", \"Topic8\", \"Topic8\", \"Topic8\", \"Topic8\", \"Topic8\", \"Topic8\", \"Topic8\", \"Topic8\", \"Topic8\", \"Topic8\", \"Topic8\", \"Topic8\", \"Topic8\", \"Topic8\", \"Topic8\", \"Topic8\", \"Topic8\", \"Topic8\", \"Topic8\", \"Topic8\", \"Topic8\", \"Topic8\", \"Topic8\", \"Topic8\", \"Topic8\", \"Topic8\", \"Topic8\", \"Topic8\", \"Topic8\", \"Topic9\", \"Topic9\", \"Topic9\", \"Topic9\", \"Topic9\", \"Topic9\", \"Topic9\", \"Topic9\", \"Topic9\", \"Topic9\", \"Topic9\", \"Topic9\", \"Topic9\", \"Topic9\", \"Topic9\", \"Topic9\", \"Topic9\", \"Topic9\", \"Topic9\", \"Topic9\", \"Topic9\", \"Topic9\", \"Topic9\", \"Topic9\", \"Topic9\", \"Topic9\", \"Topic9\", \"Topic9\", \"Topic9\", \"Topic9\", \"Topic9\", \"Topic9\", \"Topic9\", \"Topic9\", \"Topic9\", \"Topic9\", \"Topic9\", \"Topic9\", \"Topic9\", \"Topic9\", \"Topic9\", \"Topic9\", \"Topic9\", \"Topic9\", \"Topic9\", \"Topic9\", \"Topic9\", \"Topic9\", \"Topic9\", \"Topic9\", \"Topic9\", \"Topic9\", \"Topic9\", \"Topic9\", \"Topic9\", \"Topic9\", \"Topic9\", \"Topic10\", \"Topic10\", \"Topic10\", \"Topic10\", \"Topic10\", \"Topic10\", \"Topic10\", \"Topic10\", \"Topic10\", \"Topic10\", \"Topic10\", \"Topic10\", \"Topic10\", \"Topic10\", \"Topic10\", \"Topic10\", \"Topic10\", \"Topic10\", \"Topic10\", \"Topic10\", \"Topic10\", \"Topic10\", \"Topic10\", \"Topic10\", \"Topic10\", \"Topic10\", \"Topic10\", \"Topic10\", \"Topic10\", \"Topic10\", \"Topic10\", \"Topic10\", \"Topic10\", \"Topic10\", \"Topic10\", \"Topic10\", \"Topic10\", \"Topic10\", \"Topic10\", \"Topic10\", \"Topic10\", \"Topic10\", \"Topic10\", \"Topic10\", \"Topic10\", \"Topic10\", \"Topic10\", \"Topic10\", \"Topic10\", \"Topic10\", \"Topic10\", \"Topic10\", \"Topic10\", \"Topic10\", \"Topic10\", \"Topic10\", \"Topic10\", \"Topic10\", \"Topic10\", \"Topic10\", \"Topic10\", \"Topic10\", \"Topic11\", \"Topic11\", \"Topic11\", \"Topic11\", \"Topic11\", \"Topic11\", \"Topic11\", \"Topic11\", \"Topic11\", \"Topic11\", \"Topic11\", \"Topic11\", \"Topic11\", \"Topic11\", \"Topic11\", \"Topic11\", \"Topic11\", \"Topic11\", \"Topic11\", \"Topic11\", \"Topic11\", \"Topic11\", \"Topic11\", \"Topic11\", \"Topic11\", \"Topic11\", \"Topic11\", \"Topic11\", \"Topic11\", \"Topic11\", \"Topic11\", \"Topic11\", \"Topic11\", \"Topic11\", \"Topic11\", \"Topic11\", \"Topic11\", \"Topic11\", \"Topic11\", \"Topic11\", \"Topic11\", \"Topic11\", \"Topic11\", \"Topic11\", \"Topic11\", \"Topic11\", \"Topic11\", \"Topic11\", \"Topic11\", \"Topic11\", \"Topic11\", \"Topic11\", \"Topic11\", \"Topic11\", \"Topic11\", \"Topic11\", \"Topic11\", \"Topic11\", \"Topic11\", \"Topic11\", \"Topic11\", \"Topic11\", \"Topic11\", \"Topic12\", \"Topic12\", \"Topic12\", \"Topic12\", \"Topic12\", \"Topic12\", \"Topic12\", \"Topic12\", \"Topic12\", \"Topic12\", \"Topic12\", \"Topic12\", \"Topic12\", \"Topic12\", \"Topic12\", \"Topic12\", \"Topic12\", \"Topic12\", \"Topic12\", \"Topic12\", \"Topic12\", \"Topic12\", \"Topic12\", \"Topic12\", \"Topic12\", \"Topic12\", \"Topic12\", \"Topic12\", \"Topic12\", \"Topic12\", \"Topic12\", \"Topic12\", \"Topic12\", \"Topic12\", \"Topic12\", \"Topic12\", \"Topic12\", \"Topic12\", \"Topic12\", \"Topic12\", \"Topic12\", \"Topic12\", \"Topic12\", \"Topic12\", \"Topic12\", \"Topic12\", \"Topic12\", \"Topic12\", \"Topic12\", \"Topic12\", \"Topic12\", \"Topic12\", \"Topic12\", \"Topic12\", \"Topic12\", \"Topic12\", \"Topic12\", \"Topic12\", \"Topic12\", \"Topic12\", \"Topic12\", \"Topic12\", \"Topic12\", \"Topic13\", \"Topic13\", \"Topic13\", \"Topic13\", \"Topic13\", \"Topic13\", \"Topic13\", \"Topic13\", \"Topic13\", \"Topic13\", \"Topic13\", \"Topic13\", \"Topic13\", \"Topic13\", \"Topic13\", \"Topic13\", \"Topic13\", \"Topic13\", \"Topic13\", \"Topic13\", \"Topic13\", \"Topic13\", \"Topic13\", \"Topic13\", \"Topic13\", \"Topic13\", \"Topic13\", \"Topic13\", \"Topic13\", \"Topic13\", \"Topic13\", \"Topic13\", \"Topic13\", \"Topic13\", \"Topic13\", \"Topic13\", \"Topic13\", \"Topic13\", \"Topic13\", \"Topic13\", \"Topic13\", \"Topic13\", \"Topic13\", \"Topic13\", \"Topic13\", \"Topic13\", \"Topic13\", \"Topic13\", \"Topic13\", \"Topic13\", \"Topic13\", \"Topic13\", \"Topic13\", \"Topic13\", \"Topic13\", \"Topic13\", \"Topic13\", \"Topic13\", \"Topic13\", \"Topic13\", \"Topic14\", \"Topic14\", \"Topic14\", \"Topic14\", \"Topic14\", \"Topic14\", \"Topic14\", \"Topic14\", \"Topic14\", \"Topic14\", \"Topic14\", \"Topic14\", \"Topic14\", \"Topic14\", \"Topic14\", \"Topic14\", \"Topic14\", \"Topic14\", \"Topic14\", \"Topic14\", \"Topic14\", \"Topic14\", \"Topic14\", \"Topic14\", \"Topic14\", \"Topic14\", \"Topic14\", \"Topic14\", \"Topic14\", \"Topic14\", \"Topic14\", \"Topic14\", \"Topic14\", \"Topic14\", \"Topic14\", \"Topic14\", \"Topic14\", \"Topic14\", \"Topic14\", \"Topic14\", \"Topic14\", \"Topic14\", \"Topic14\", \"Topic14\", \"Topic14\", \"Topic14\", \"Topic14\", \"Topic14\", \"Topic14\", \"Topic14\", \"Topic14\", \"Topic14\", \"Topic14\", \"Topic14\", \"Topic14\", \"Topic14\", \"Topic14\", \"Topic15\", \"Topic15\", \"Topic15\", \"Topic15\", \"Topic15\", \"Topic15\", \"Topic15\", \"Topic15\", \"Topic15\", \"Topic15\", \"Topic15\", \"Topic15\", \"Topic15\", \"Topic15\", \"Topic15\", \"Topic15\", \"Topic15\", \"Topic15\", \"Topic15\", \"Topic15\", \"Topic15\", \"Topic15\", \"Topic15\", \"Topic15\", \"Topic15\", \"Topic15\", \"Topic15\", \"Topic15\", \"Topic15\", \"Topic15\", \"Topic15\", \"Topic15\", \"Topic15\", \"Topic15\", \"Topic15\", \"Topic15\", \"Topic15\", \"Topic15\", \"Topic15\", \"Topic15\", \"Topic15\", \"Topic15\", \"Topic15\", \"Topic15\", \"Topic15\", \"Topic15\", \"Topic15\", \"Topic15\", \"Topic15\", \"Topic15\", \"Topic15\", \"Topic15\", \"Topic16\", \"Topic16\", \"Topic16\", \"Topic16\", \"Topic16\", \"Topic16\", \"Topic16\", \"Topic16\", \"Topic16\", \"Topic16\", \"Topic16\", \"Topic16\", \"Topic16\", \"Topic16\", \"Topic16\", \"Topic16\", \"Topic16\", \"Topic16\", \"Topic16\", \"Topic16\", \"Topic16\", \"Topic16\", \"Topic16\", \"Topic16\", \"Topic16\", \"Topic16\", \"Topic16\", \"Topic16\", \"Topic16\", \"Topic16\", \"Topic16\", \"Topic16\", \"Topic16\", \"Topic16\", \"Topic16\", \"Topic16\", \"Topic16\", \"Topic16\", \"Topic16\", \"Topic16\", \"Topic16\", \"Topic16\", \"Topic16\", \"Topic16\", \"Topic16\", \"Topic16\", \"Topic16\", \"Topic16\", \"Topic16\", \"Topic16\", \"Topic16\", \"Topic16\", \"Topic16\", \"Topic16\", \"Topic16\", \"Topic16\", \"Topic16\", \"Topic16\", \"Topic16\", \"Topic16\", \"Topic16\", \"Topic16\", \"Topic16\", \"Topic16\", \"Topic17\", \"Topic17\", \"Topic17\", \"Topic17\", \"Topic17\", \"Topic17\", \"Topic17\", \"Topic17\", \"Topic17\", \"Topic17\", \"Topic17\", \"Topic17\", \"Topic17\", \"Topic17\", \"Topic17\", \"Topic17\", \"Topic17\", \"Topic17\", \"Topic17\", \"Topic17\", \"Topic17\", \"Topic17\", \"Topic17\", \"Topic17\", \"Topic17\", \"Topic17\", \"Topic17\", \"Topic17\", \"Topic17\", \"Topic17\", \"Topic17\", \"Topic17\", \"Topic17\", \"Topic17\", \"Topic17\", \"Topic17\", \"Topic17\", \"Topic17\", \"Topic17\", \"Topic17\", \"Topic17\", \"Topic17\", \"Topic17\", \"Topic17\", \"Topic17\", \"Topic17\", \"Topic17\", \"Topic17\", \"Topic17\", \"Topic17\", \"Topic17\", \"Topic17\", \"Topic17\", \"Topic17\", \"Topic17\", \"Topic17\", \"Topic17\", \"Topic17\", \"Topic17\", \"Topic17\", \"Topic17\", \"Topic17\", \"Topic17\", \"Topic18\", \"Topic18\", \"Topic18\", \"Topic18\", \"Topic18\", \"Topic18\", \"Topic18\", \"Topic18\", \"Topic18\", \"Topic18\", \"Topic18\", \"Topic18\", \"Topic18\", \"Topic18\", \"Topic18\", \"Topic18\", \"Topic18\", \"Topic18\", \"Topic18\", \"Topic18\", \"Topic18\", \"Topic18\", \"Topic18\", \"Topic18\", \"Topic18\", \"Topic18\", \"Topic18\", \"Topic18\", \"Topic18\", \"Topic18\", \"Topic18\", \"Topic18\", \"Topic18\", \"Topic18\", \"Topic18\", \"Topic18\", \"Topic18\", \"Topic18\", \"Topic18\", \"Topic18\", \"Topic18\", \"Topic18\", \"Topic18\", \"Topic18\", \"Topic18\", \"Topic18\", \"Topic18\", \"Topic18\", \"Topic18\", \"Topic18\", \"Topic18\", \"Topic19\", \"Topic19\", \"Topic19\", \"Topic19\", \"Topic19\", \"Topic19\", \"Topic19\", \"Topic19\", \"Topic19\", \"Topic19\", \"Topic19\", \"Topic19\", \"Topic19\", \"Topic19\", \"Topic19\", \"Topic19\", \"Topic19\", \"Topic19\", \"Topic19\", \"Topic19\", \"Topic19\", \"Topic19\", \"Topic19\", \"Topic19\", \"Topic19\", \"Topic19\", \"Topic19\", \"Topic19\", \"Topic19\", \"Topic19\", \"Topic19\", \"Topic19\", \"Topic19\", \"Topic19\", \"Topic19\", \"Topic19\", \"Topic19\", \"Topic19\", \"Topic19\", \"Topic19\", \"Topic19\", \"Topic19\", \"Topic19\", \"Topic19\", \"Topic19\", \"Topic19\", \"Topic19\", \"Topic19\", \"Topic19\", \"Topic19\", \"Topic19\", \"Topic19\", \"Topic19\", \"Topic20\", \"Topic20\", \"Topic20\", \"Topic20\", \"Topic20\", \"Topic20\", \"Topic20\", \"Topic20\", \"Topic20\", \"Topic20\", \"Topic20\", \"Topic20\", \"Topic20\", \"Topic20\", \"Topic20\", \"Topic20\", \"Topic20\", \"Topic20\", \"Topic20\", \"Topic20\", \"Topic20\", \"Topic20\", \"Topic20\", \"Topic20\", \"Topic20\", \"Topic20\", \"Topic20\", \"Topic20\", \"Topic20\", \"Topic20\", \"Topic20\", \"Topic20\", \"Topic20\", \"Topic20\", \"Topic20\", \"Topic20\", \"Topic20\", \"Topic20\", \"Topic20\", \"Topic20\", \"Topic20\", \"Topic20\", \"Topic20\", \"Topic20\", \"Topic20\", \"Topic20\", \"Topic20\", \"Topic20\", \"Topic20\", \"Topic20\", \"Topic20\", \"Topic20\", \"Topic20\"], \"Freq\": [27.0, 140.0, 37.0, 31.0, 87.0, 54.0, 155.0, 37.0, 99.0, 31.0, 47.0, 124.0, 20.0, 39.0, 55.0, 46.0, 90.0, 87.0, 31.0, 42.0, 27.0, 63.0, 26.0, 53.0, 11.0, 77.0, 23.0, 37.0, 19.0, 22.0, 5.24783992767334, 4.155116081237793, 6.06547212600708, 4.079251766204834, 4.058157920837402, 15.642909049987793, 7.930810928344727, 3.0695371627807617, 4.008647918701172, 3.0403528213500977, 5.912292003631592, 3.9896838665008545, 11.562393188476562, 3.9750804901123047, 3.0170490741729736, 7.752513408660889, 4.84770393371582, 2.9695844650268555, 3.894467830657959, 4.82753849029541, 2.9602572917938232, 2.9601924419403076, 4.801944732666016, 2.942317485809326, 2.9382002353668213, 5.665972709655762, 2.923593521118164, 3.856809377670288, 2.906209945678711, 7.306102275848389, 17.21926498413086, 7.378683090209961, 8.011320114135742, 17.009990692138672, 6.944061756134033, 8.24571704864502, 17.840272903442383, 16.911405563354492, 5.677922248840332, 11.098352432250977, 6.202112674713135, 27.585281372070312, 12.873059272766113, 9.44499683380127, 6.852631092071533, 15.68374252319336, 17.024402618408203, 7.746609210968018, 33.72954559326172, 17.65723991394043, 8.26478099822998, 14.785435676574707, 16.575605392456055, 18.060550689697266, 15.89228343963623, 13.632719993591309, 16.3541316986084, 24.806055068969727, 17.468069076538086, 28.808204650878906, 26.08780860900879, 30.83940887451172, 17.626680374145508, 19.91313362121582, 21.68667984008789, 14.234254837036133, 16.041643142700195, 12.018125534057617, 17.20368766784668, 18.636022567749023, 19.134546279907227, 18.515947341918945, 15.645173072814941, 15.565034866333008, 15.162527084350586, 7.074323654174805, 10.463748931884766, 2.6801555156707764, 2.6516976356506348, 2.6282782554626465, 2.5876331329345703, 3.3756580352783203, 2.520292043685913, 2.4987738132476807, 4.0142927169799805, 7.627409934997559, 5.444847583770752, 6.228948593139648, 2.333393096923828, 4.3289031982421875, 7.884657382965088, 2.250983715057373, 2.837160110473633, 2.2532706260681152, 2.876565456390381, 5.721656799316406, 5.502166748046875, 2.187697172164917, 2.797123908996582, 4.154191493988037, 4.069148063659668, 2.7339658737182617, 2.706810712814331, 2.71234130859375, 2.0336153507232666, 15.310760498046875, 5.577450275421143, 11.403524398803711, 8.103659629821777, 5.134518146514893, 5.127832889556885, 5.476072788238525, 4.2299017906188965, 4.625414848327637, 16.550344467163086, 8.119407653808594, 10.59170913696289, 16.925825119018555, 10.703425407409668, 6.709553241729736, 24.731964111328125, 8.171295166015625, 7.10909366607666, 9.750569343566895, 15.796175003051758, 14.848318099975586, 6.6072611808776855, 9.768051147460938, 13.53123950958252, 12.221762657165527, 13.814225196838379, 10.156718254089355, 8.035337448120117, 8.833717346191406, 11.354425430297852, 13.126907348632812, 12.4451904296875, 10.601644515991211, 11.475008964538574, 9.811868667602539, 9.865656852722168, 9.290312767028809, 8.375041961669922, 8.374116897583008, 8.316718101501465, 8.269864082336426, 8.285633087158203, 3.826331853866577, 5.536930084228516, 2.8543221950531006, 2.8186044692993164, 4.561790943145752, 2.814216136932373, 6.238402366638184, 2.7097957134246826, 10.809218406677246, 2.5640053749084473, 4.611130237579346, 4.437097072601318, 3.58491587638855, 18.4210147857666, 4.332488536834717, 2.816222906112671, 2.719897747039795, 2.084914445877075, 2.7735788822174072, 3.484964609146118, 12.696660995483398, 1.9393311738967896, 3.8124325275421143, 1.9795138835906982, 1.8906885385513306, 5.421288013458252, 13.991732597351074, 8.521803855895996, 1.8548985719680786, 1.7878813743591309, 3.5339527130126953, 4.985379219055176, 7.825671672821045, 15.224592208862305, 13.50570297241211, 10.668533325195312, 8.210569381713867, 14.379144668579102, 5.772523403167725, 5.751011848449707, 6.695026874542236, 15.563973426818848, 11.440756797790527, 12.371403694152832, 19.217845916748047, 8.791297912597656, 6.319773197174072, 12.220290184020996, 10.404415130615234, 10.547354698181152, 9.32387638092041, 9.720315933227539, 10.58948802947998, 8.51861572265625, 10.911767959594727, 10.536944389343262, 9.844072341918945, 11.214456558227539, 10.78765869140625, 10.172759056091309, 7.893935680389404, 8.407404899597168, 2.8653173446655273, 2.856241464614868, 4.592987060546875, 5.417801856994629, 3.636110544204712, 2.67391037940979, 2.640566825866699, 2.6353743076324463, 2.6079485416412354, 5.734423637390137, 3.3883163928985596, 2.546408176422119, 2.4285621643066406, 5.384975433349609, 5.438027381896973, 6.810833930969238, 2.3274731636047363, 3.1237175464630127, 4.488378047943115, 11.520522117614746, 8.863055229187012, 3.7209267616271973, 8.49858283996582, 3.621692180633545, 4.797173500061035, 2.854480743408203, 4.144578456878662, 2.682694435119629, 3.4211392402648926, 2.087279796600342, 3.968492269515991, 5.171451091766357, 8.49947738647461, 11.824700355529785, 4.526569843292236, 5.291776180267334, 7.254338264465332, 8.056252479553223, 19.56268310546875, 6.49384069442749, 5.821805477142334, 7.4507832527160645, 5.436158180236816, 11.59025764465332, 5.9112701416015625, 10.107144355773926, 21.538848876953125, 10.90472412109375, 13.305808067321777, 12.06682014465332, 14.807127952575684, 18.670551300048828, 11.100492477416992, 10.146470069885254, 13.403985977172852, 16.764026641845703, 15.046399116516113, 13.035316467285156, 9.70075511932373, 12.185406684875488, 12.046854019165039, 8.26639461517334, 10.091537475585938, 10.126776695251465, 8.004695892333984, 9.024538040161133, 8.107490539550781, 8.279877662658691, 3.749472141265869, 2.7876768112182617, 2.669581413269043, 14.97596263885498, 5.62097692489624, 2.494502305984497, 3.11523699760437, 3.8533217906951904, 6.601186752319336, 4.3446574211120605, 8.26135540008545, 3.553903579711914, 2.8189339637756348, 2.786720037460327, 3.4822757244110107, 3.4012224674224854, 5.240612030029297, 1.947848916053772, 2.584980010986328, 1.8995935916900635, 1.918809413909912, 2.5315074920654297, 2.530937433242798, 2.5008978843688965, 2.5434823036193848, 1.8905184268951416, 1.9464834928512573, 3.605926990509033, 1.8906936645507812, 2.361539363861084, 2.925490617752075, 2.949025869369507, 9.978014945983887, 4.403774738311768, 9.834921836853027, 9.521634101867676, 11.799737930297852, 5.462984561920166, 5.747980117797852, 11.21800708770752, 12.412452697753906, 7.160649299621582, 5.4008355140686035, 4.680767059326172, 5.6695170402526855, 11.63670825958252, 18.56930160522461, 12.854324340820312, 7.954200267791748, 12.838553428649902, 10.564249992370605, 11.479153633117676, 11.021275520324707, 8.483747482299805, 8.112556457519531, 10.550355911254883, 11.504067420959473, 11.91407299041748, 7.560635089874268, 12.037544250488281, 10.28610610961914, 7.069514274597168, 8.961588859558105, 7.265766143798828, 7.855731010437012, 7.0307793617248535, 2.6543567180633545, 4.169646739959717, 1.7780251502990723, 2.625373363494873, 2.591076135635376, 5.019002914428711, 9.134109497070312, 4.191507816314697, 1.8017686605453491, 1.7404158115386963, 1.7321507930755615, 1.798354148864746, 1.653955101966858, 5.091537952423096, 1.7274720668792725, 1.7285051345825195, 1.662799596786499, 3.3642351627349854, 2.7820122241973877, 1.689279556274414, 2.216691493988037, 2.4895429611206055, 1.6739997863769531, 1.640214204788208, 3.0241856575012207, 5.013869762420654, 6.0457940101623535, 3.4706778526306152, 2.3839151859283447, 3.930427074432373, 9.398981094360352, 9.946608543395996, 4.167913436889648, 7.518434524536133, 5.166224479675293, 2.940312147140503, 7.0036139488220215, 28.760574340820312, 5.476475238800049, 4.603326797485352, 4.153488636016846, 5.566157341003418, 4.668193817138672, 6.31712007522583, 5.100016117095947, 4.944820404052734, 8.583142280578613, 5.444144248962402, 6.936601161956787, 12.590993881225586, 8.44558048248291, 8.108601570129395, 5.455935001373291, 10.097414016723633, 9.62214183807373, 6.8614349365234375, 9.356529235839844, 7.108266353607178, 8.192278861999512, 6.081726551055908, 5.973730087280273, 6.643852233886719, 6.880262851715088, 6.763586044311523, 6.068260669708252, 5.942340850830078, 6.128823280334473, 6.0101141929626465, 6.064226150512695, 6.00905179977417, 6.0118327140808105, 2.384042263031006, 3.0231776237487793, 4.324367523193359, 3.6019229888916016, 4.7553582191467285, 3.928507089614868, 2.087946653366089, 2.676767349243164, 1.9829660654067993, 3.253143548965454, 3.6100199222564697, 2.525240182876587, 1.8524420261383057, 2.3799891471862793, 3.919010639190674, 1.7487162351608276, 1.7312828302383423, 2.194730758666992, 2.5569825172424316, 13.47980785369873, 3.7338078022003174, 4.459845542907715, 1.6252270936965942, 1.621606707572937, 6.987281799316406, 1.5718622207641602, 5.441074371337891, 2.0612192153930664, 1.6123111248016357, 1.5358660221099854, 2.9266583919525146, 1.9261232614517212, 16.421966552734375, 2.8837480545043945, 2.4126856327056885, 5.619194507598877, 3.42496919631958, 5.0250163078308105, 8.998759269714355, 5.783743381500244, 6.088784694671631, 5.309763431549072, 4.987912178039551, 8.015074729919434, 4.895521640777588, 4.154036998748779, 3.9502265453338623, 5.98458194732666, 6.501592636108398, 7.088259220123291, 6.653438568115234, 7.877455711364746, 4.680838584899902, 7.260396957397461, 5.1510138511657715, 7.259108543395996, 5.656595706939697, 6.282789707183838, 5.673159122467041, 5.344789028167725, 4.942733287811279, 4.898313045501709, 5.174853324890137, 4.801977157592773, 4.853754997253418, 4.862445831298828, 3.469635009765625, 2.7160186767578125, 2.750317335128784, 2.3770296573638916, 1.7132105827331543, 1.7693138122558594, 5.3887224197387695, 1.640912413597107, 2.5940706729888916, 8.241987228393555, 2.5645816326141357, 2.4308409690856934, 3.421125888824463, 1.8602215051651, 3.64640474319458, 1.7842625379562378, 1.473557949066162, 3.99420166015625, 2.793856382369995, 3.2331154346466064, 4.808106422424316, 2.298351526260376, 1.7103710174560547, 7.171092987060547, 1.715246558189392, 5.240638256072998, 1.7288336753845215, 5.880166530609131, 1.5702234506607056, 1.8481167554855347, 4.808834075927734, 10.495779991149902, 6.045003890991211, 5.4857001304626465, 4.529876232147217, 4.200599670410156, 4.6956329345703125, 3.986125946044922, 4.6245198249816895, 7.893065452575684, 4.514342308044434, 4.638040542602539, 4.809718132019043, 7.256531715393066, 6.404230117797852, 5.093206882476807, 8.715590476989746, 5.764337062835693, 7.291208267211914, 5.0526533126831055, 4.696885108947754, 4.766824245452881, 4.967868804931641, 4.475377559661865, 4.766458511352539, 4.437587738037109, 4.555051803588867, 2.7604730129241943, 2.7319977283477783, 2.7177298069000244, 2.6900713443756104, 2.6903746128082275, 3.4369146823883057, 3.3925230503082275, 4.9082722663879395, 2.0383143424987793, 2.5885226726531982, 4.190223693847656, 2.440779447555542, 2.467878580093384, 2.5385029315948486, 1.8321396112442017, 1.8948118686676025, 1.9263724088668823, 1.8390812873840332, 1.8416413068771362, 1.8370453119277954, 2.773094892501831, 4.714262008666992, 7.3801984786987305, 1.8951612710952759, 2.2285656929016113, 10.681156158447266, 14.291595458984375, 1.819557547569275, 1.8376935720443726, 6.5814924240112305, 11.702107429504395, 4.139694690704346, 5.547589302062988, 8.743993759155273, 6.378620147705078, 3.6987099647521973, 9.51247787475586, 9.576103210449219, 5.402888298034668, 8.97531795501709, 11.542949676513672, 9.527432441711426, 4.401033878326416, 3.6635260581970215, 4.076204776763916, 4.882526874542236, 5.222500324249268, 6.013906478881836, 6.443007469177246, 4.958685398101807, 5.307558059692383, 4.1978840827941895, 4.591999530792236, 4.626128196716309, 4.315611839294434, 4.277702808380127, 2.6659939289093018, 3.78604793548584, 2.4138426780700684, 2.2512950897216797, 19.83328628540039, 2.193915367126465, 2.7674367427825928, 1.6598621606826782, 3.2247555255889893, 1.5674382448196411, 1.5292505025863647, 1.5416128635406494, 1.6008752584457397, 1.571497917175293, 1.570364236831665, 1.5711740255355835, 1.5673754215240479, 1.574776291847229, 1.5673747062683105, 1.5673754215240479, 1.5676912069320679, 1.569584846496582, 2.8930346965789795, 1.5296666622161865, 1.567383050918579, 4.844965934753418, 1.534251093864441, 1.508626103401184, 2.9074456691741943, 1.8935185670852661, 2.86832594871521, 2.2962498664855957, 7.227002143859863, 3.9365310668945312, 4.244173526763916, 5.569733619689941, 4.191964149475098, 6.322307109832764, 5.855956554412842, 4.841988563537598, 3.5330164432525635, 2.3387207984924316, 5.255311012268066, 4.508955001831055, 7.383936405181885, 7.209964275360107, 2.9361891746520996, 5.144908428192139, 7.85382604598999, 5.586599349975586, 5.194499969482422, 5.876068115234375, 5.648446559906006, 5.779480934143066, 3.8903400897979736, 4.260735034942627, 4.098769664764404, 4.044079303741455, 3.6649057865142822, 3.7001283168792725, 3.8557424545288086, 3.6157543659210205, 2.370678186416626, 2.2564876079559326, 2.1793909072875977, 5.5547356605529785, 2.241816520690918, 2.314948797225952, 2.3308234214782715, 1.6165045499801636, 1.5505188703536987, 1.603330373764038, 1.5301601886749268, 1.6038463115692139, 1.4866033792495728, 5.465235233306885, 1.3364338874816895, 2.195250988006592, 7.338653087615967, 1.7308931350708008, 1.255033254623413, 1.7196803092956543, 1.6365476846694946, 2.8949787616729736, 1.25229811668396, 2.2605154514312744, 1.5475142002105713, 1.553581714630127, 1.1340677738189697, 3.6825783252716064, 1.709317684173584, 1.0486077070236206, 1.6251970529556274, 3.0984902381896973, 4.6596174240112305, 4.569875717163086, 3.2516260147094727, 3.677100658416748, 6.182743072509766, 5.310964584350586, 4.3462724685668945, 11.574666023254395, 5.878016471862793, 2.9768056869506836, 2.4647929668426514, 6.768377780914307, 4.499821186065674, 3.384336233139038, 2.8068008422851562, 6.568929195404053, 3.1689395904541016, 4.088123798370361, 5.514721870422363, 4.827301979064941, 3.506195068359375, 3.761439800262451, 3.6283278465270996, 3.542323589324951, 3.458200693130493, 4.278104305267334, 4.744545936584473, 3.6795520782470703, 3.474095344543457, 3.2795000076293945, 3.3342983722686768, 2.6934726238250732, 1.8661165237426758, 5.303020000457764, 3.656607151031494, 1.920597791671753, 1.8235735893249512, 1.8126059770584106, 1.700718879699707, 2.654362201690674, 3.4233503341674805, 1.7778024673461914, 6.873433589935303, 1.6848222017288208, 3.5214498043060303, 2.5912156105041504, 1.7401769161224365, 1.823585867881775, 1.7798593044281006, 1.815894603729248, 3.0227763652801514, 0.9448724389076233, 1.7260520458221436, 0.9264873266220093, 0.9991245269775391, 1.0459039211273193, 0.9902421832084656, 1.008750319480896, 0.9012794494628906, 0.953436017036438, 0.9991427063941956, 2.888596773147583, 4.078891277313232, 1.9366397857666016, 5.386125087738037, 1.863437533378601, 2.911501884460449, 2.691263437271118, 1.9208842515945435, 1.7479244470596313, 5.716375350952148, 14.234379768371582, 5.011558532714844, 3.740915536880493, 5.103507995605469, 9.139599800109863, 4.367666721343994, 10.80320930480957, 3.7536747455596924, 4.716877460479736, 4.275688171386719, 4.1192145347595215, 6.072852611541748, 4.599330425262451, 5.852107524871826, 4.681948661804199, 4.5055060386657715, 3.79866099357605, 4.4578857421875, 4.124038219451904, 3.813199520111084, 3.584315061569214, 3.631124258041382, 3.616565465927124, 11.58753776550293, 3.5769155025482178, 6.313442230224609, 5.144819736480713, 2.568990468978882, 1.7955176830291748, 1.8071563243865967, 1.7589161396026611, 6.063869476318359, 2.787733554840088, 2.2452943325042725, 1.6764552593231201, 1.6225210428237915, 1.5888170003890991, 3.466550827026367, 5.876950740814209, 1.9874898195266724, 4.404197692871094, 2.9018819332122803, 1.8254910707473755, 1.8282362222671509, 1.7856768369674683, 1.6813195943832397, 1.7232340574264526, 2.2191567420959473, 1.662704348564148, 2.4024691581726074, 2.5864946842193604, 2.063920021057129, 1.6093919277191162, 3.979656219482422, 2.6707310676574707, 7.143354415893555, 4.507221698760986, 4.060635566711426, 4.317935943603516, 2.661259412765503, 3.2198688983917236, 2.5363669395446777, 3.2130136489868164, 3.8794732093811035, 5.317831993103027, 4.382920742034912, 4.044858455657959, 9.434586524963379, 5.209976673126221, 3.604548931121826, 3.8411006927490234, 6.542207717895508, 5.513818740844727, 3.9177567958831787, 4.593571662902832, 4.614721298217773, 3.835824728012085, 4.062105178833008, 4.3519368171691895, 4.070117473602295, 4.214554309844971, 3.8835315704345703, 3.6262662410736084, 2.3314831256866455, 1.5954338312149048, 3.2492763996124268, 1.998529314994812, 1.3986001014709473, 2.1031646728515625, 6.311469554901123, 2.4112319946289062, 1.6458337306976318, 1.5520331859588623, 2.2788493633270264, 1.5741750001907349, 2.7552151679992676, 1.806195855140686, 2.3909268379211426, 2.089634895324707, 1.0871340036392212, 1.6492342948913574, 1.422648310661316, 0.9288771152496338, 1.3074079751968384, 1.5539172887802124, 6.289430141448975, 2.385958433151245, 4.639010429382324, 1.5251903533935547, 1.5841658115386963, 1.5062531232833862, 4.57963752746582, 1.2065354585647583, 1.4272165298461914, 2.5610010623931885, 9.313213348388672, 4.816436290740967, 5.977511405944824, 2.545599937438965, 2.32662034034729, 2.477149248123169, 3.9341487884521484, 2.523282051086426, 4.487137317657471, 4.226263046264648, 4.2886061668396, 2.9128217697143555, 3.935971260070801, 5.1441240310668945, 3.6551055908203125, 3.859833240509033, 3.8631536960601807, 3.1299426555633545, 3.721980571746826, 2.867094039916992, 2.6798384189605713, 2.820037841796875, 2.7156050205230713, 2.603419780731201, 2.5825769901275635, 2.5653414726257324, 3.690589189529419, 5.315534591674805, 1.9824755191802979, 13.783519744873047, 2.555060386657715, 1.7163852453231812, 1.6390674114227295, 5.186729907989502, 2.05277419090271, 1.946119785308838, 1.1727591753005981, 4.277778148651123, 1.8439998626708984, 1.5578054189682007, 2.2285895347595215, 1.5538742542266846, 2.5076584815979004, 3.0744285583496094, 1.647454857826233, 1.8697534799575806, 1.0192519426345825, 5.53441047668457, 1.8516318798065186, 2.42039155960083, 1.8394670486450195, 6.640340328216553, 0.9264896512031555, 2.130528450012207, 0.9264864921569824, 6.842126369476318, 1.392503023147583, 2.9405159950256348, 3.9683194160461426, 4.5719218254089355, 6.141822338104248, 5.092992305755615, 4.23197603225708, 5.70481538772583, 2.7948191165924072, 3.935590982437134, 4.5983147621154785, 2.7071897983551025, 2.718219518661499, 2.748636245727539, 3.9186806678771973, 3.029798746109009, 2.9925434589385986, 2.9635839462280273, 2.638821601867676, 2.5998246669769287, 2.602069616317749, 2.395451784133911, 8.247385025024414, 2.317267656326294, 2.3871777057647705, 6.203031063079834, 2.2856051921844482, 1.6097846031188965, 1.2213513851165771, 1.5993831157684326, 2.732679843902588, 1.7569586038589478, 1.3496333360671997, 1.5669862031936646, 1.2671706676483154, 1.672559380531311, 1.6103029251098633, 1.5538560152053833, 1.4711469411849976, 0.8379006385803223, 0.883553683757782, 0.8634757399559021, 1.9079862833023071, 0.8379439115524292, 0.7823074460029602, 0.7910184860229492, 0.8035692572593689, 0.8511200547218323, 0.8071525692939758, 1.5377018451690674, 1.1238744258880615, 2.844149351119995, 1.8750067949295044, 1.9408438205718994, 2.1245172023773193, 4.351591110229492, 3.3841164112091064, 1.710806965827942, 1.5743340253829956, 1.9733176231384277, 1.7269736528396606, 2.8754000663757324, 2.4591333866119385, 2.9465222358703613, 3.766850471496582, 3.9355850219726562, 3.356499671936035, 8.484769821166992, 3.199810743331909, 2.856379270553589, 3.6458146572113037, 4.017185688018799, 3.69913911819458, 2.416928768157959, 4.42643928527832, 3.4832143783569336, 3.0046675205230713, 4.055555820465088, 2.352581739425659, 3.905575752258301, 2.8979403972625732, 2.8710193634033203, 2.719292402267456, 2.7201104164123535, 2.514146089553833, 3.98606276512146, 2.992551326751709, 1.5434775352478027, 1.5305997133255005, 3.817540168762207, 3.1055374145507812, 2.3713951110839844, 1.550140380859375, 2.37892484664917, 1.4609264135360718, 0.7785153985023499, 0.7980530261993408, 0.790783703327179, 0.7814195156097412, 0.8200061917304993, 0.8036875128746033, 0.7965995669364929, 0.7946500182151794, 0.7971100211143494, 0.8012568354606628, 0.7963353395462036, 2.334843158721924, 0.7965518832206726, 0.8012457489967346, 0.7967233657836914, 0.7714952826499939, 0.796235978603363, 0.7912886142730713, 0.7725865840911865, 0.7708989381790161, 0.7981072664260864, 2.365832805633545, 5.42714786529541, 1.5373144149780273, 2.854278564453125, 3.1309821605682373, 1.6130764484405518, 1.4524753093719482, 2.3225114345550537, 1.5639762878417969, 2.4233386516571045, 2.539607286453247, 2.402357816696167, 2.6805593967437744, 1.6007208824157715, 1.5624922513961792, 1.5755314826965332, 3.9937143325805664, 1.5778980255126953, 1.6699894666671753, 2.535365581512451, 2.398411512374878, 3.3764255046844482, 2.3523573875427246, 3.3781049251556396, 4.903033256530762, 2.421750545501709, 3.482285261154175, 2.403252363204956, 2.5602195262908936, 2.601865530014038, 2.550366163253784, 2.568615436553955, 1.9673478603363037, 1.9641894102096558, 1.9635519981384277, 1.96387779712677, 1.9633618593215942, 1.961228370666504, 1.9571590423583984, 1.9536364078521729, 1.951210379600525, 1.9508970975875854, 1.9491382837295532, 1.950071930885315, 1.9475829601287842, 1.9462326765060425, 1.9463510513305664, 1.9448802471160889, 1.9417251348495483, 1.9407750368118286, 1.9403220415115356, 4.16112756729126, 1.9331544637680054, 1.9214855432510376, 2.1919803619384766, 1.7295743227005005, 2.270256280899048, 2.3030993938446045, 2.31655216217041, 1.7669692039489746, 0.9538896679878235, 1.477075457572937, 2.0746848583221436, 1.4973111152648926, 1.954285740852356, 3.527308464050293, 4.773102760314941, 3.144179344177246, 2.8932719230651855, 2.6335318088531494, 2.6676840782165527, 2.696986198425293, 2.5159640312194824, 2.301384449005127, 2.599489450454712, 2.2525863647460938, 2.195911407470703, 2.128048896789551, 2.0488052368164062, 2.0244715213775635, 2.0361545085906982, 1.9851198196411133, 1.9713853597640991, 5.915152072906494, 4.002636432647705, 1.099509835243225, 1.6579747200012207, 9.613975524902344, 4.163883686065674, 3.4972424507141113, 1.552070140838623, 0.8885170817375183, 1.2159779071807861, 0.8802871108055115, 0.8889377117156982, 0.8797146677970886, 0.8817946314811707, 0.8891276121139526, 0.8797263503074646, 0.8839232921600342, 0.879721462726593, 0.8824740052223206, 1.7508049011230469, 0.8102228045463562, 1.7589795589447021, 3.159660816192627, 0.8122329711914062, 0.8810704350471497, 0.7298693656921387, 0.8907825350761414, 0.8825767040252686, 0.8814593553543091, 1.1242167949676514, 5.829553604125977, 2.630439043045044, 1.5792402029037476, 1.6161590814590454, 3.4256510734558105, 1.7507658004760742, 1.6122581958770752, 2.0314674377441406, 1.6230624914169312, 3.3110785484313965, 1.7237118482589722, 2.822108507156372, 1.6397149562835693, 1.7607614994049072, 2.668750047683716, 1.7937651872634888, 1.7477564811706543, 2.5244152545928955, 1.746503472328186, 1.8991888761520386, 1.8470139503479004, 1.6776952743530273, 1.6399646997451782, 1.6766806840896606, 1.4868851900100708, 0.936629056930542, 0.5634247064590454, 0.5634594559669495, 0.5624092221260071, 0.5631446242332458, 0.5604221820831299, 0.5630754828453064, 0.5614495277404785, 0.5624149441719055, 0.5634975433349609, 0.5702341198921204, 0.8705650568008423, 0.5660440921783447, 0.5661041140556335, 0.5661786794662476, 1.1223556995391846, 0.563036322593689, 0.5690597891807556, 0.5684993267059326, 2.285590887069702, 0.8101113438606262, 0.565525472164154, 0.5635681748390198, 0.5647106170654297, 0.5624082684516907, 0.5676295757293701, 0.5702650547027588, 0.8473513126373291, 1.15409517288208, 0.9900214672088623, 0.7408750057220459, 0.7660808563232422, 0.5771881341934204, 0.6749477982521057, 0.669802725315094, 0.6492412090301514, 0.7019577622413635, 0.6783151626586914, 0.6102790236473083, 0.7138765454292297, 0.6951912641525269, 0.6593092083930969, 0.6032423973083496, 0.643459677696228, 0.5992791056632996, 0.5918248295783997, 0.5922098755836487, 0.5939798355102539, 0.5838308334350586, 0.585715651512146, 0.583899974822998], \"Term\": [\"video\", \"us\", \"design\", \"eu\", \"show\", \"live\", \"people\", \"set\", \"could\", \"always\", \"news\", \"work\", \"dutch\", \"animal\", \"country\", \"president\", \"call\", \"think\", \"list\", \"end\", \"love\", \"way\", \"prey\", \"new\", \"code\", \"include\", \"young\", \"specie\", \"decade\", \"receive\", \"cousin\", \"proposal\", \"guide\", \"wonder_whether\", \"blogger\", \"instagram\", \"veteran\", \"retire\", \"style\", \"two_three\", \"republican\", \"barack_obama\", \"democrats\", \"ii\", \"extent\", \"september\", \"chicken\", \"pioneering\", \"library\", \"city_centre\", \"state_union_address\", \"nomination\", \"candidate\", \"members\", \"commonly\", \"mention\", \"escape\", \"popularity\", \"greeks\", \"chef\", \"tunnel\", \"tax\", \"song\", \"dish\", \"senate\", \"jonathan\", \"restaurant\", \"building\", \"australian\", \"ancient\", \"main\", \"city\", \"military\", \"club\", \"visual\", \"star\", \"bring\", \"career\", \"first\", \"plan\", \"beetle\", \"food\", \"old\", \"run\", \"university\", \"american\", \"business\", \"year\", \"start\", \"work\", \"time\", \"people\", \"home\", \"part\", \"day\", \"meet\", \"become\", \"love\", \"include\", \"could\", \"find\", \"us\", \"many\", \"think\", \"even\", \"transition\", \"bee\", \"transition_period\", \"status_quo\", \"agreement\", \"spice\", \"petrol\", \"leave_eu\", \"beast\", \"hunter\", \"brexiteers\", \"reject\", \"smoke\", \"sew\", \"detain\", \"wear\", \"influential\", \"single_market\", \"innocent\", \"warning\", \"left\", \"davos\", \"sacred\", \"jacob\", \"trouble\", \"contest\", \"handful\", \"billionaire\", \"broadly\", \"source_tell\", \"brexit\", \"software\", \"minister\", \"tree\", \"theresa\", \"forest\", \"bird\", \"reportedly\", \"craft\", \"uk\", \"process\", \"test\", \"government\", \"already\", \"disease\", \"people\", \"hand\", \"clear\", \"big\", \"think\", \"tell\", \"agree\", \"run\", \"could\", \"even\", \"time\", \"still\", \"last\", \"change\", \"day\", \"us\", \"work\", \"help\", \"find\", \"look\", \"back\", \"show\", \"child\", \"give\", \"add\", \"around\", \"report\", \"pizza\", \"whale\", \"large_city\", \"cup\", \"evening\", \"ruin\", \"harbour\", \"threaten\", \"fin\", \"crest\", \"steep\", \"snow\", \"closely\", \"wave\", \"shore\", \"throw\", \"arrival\", \"span\", \"visitor\", \"roof\", \"village\", \"mainstream\", \"traffic\", \"martin\", \"high_level\", \"vehicle\", \"ocean\", \"loan\", \"gradual\", \"urban\", \"footage\", \"producer\", \"sanction\", \"town\", \"benefit\", \"man\", \"street\", \"water\", \"measure\", \"board\", \"north\", \"tell\", \"leave\", \"world\", \"people\", \"house\", \"photo\", \"back\", \"city\", \"way\", \"lead\", \"two\", \"look\", \"place\", \"time\", \"first\", \"even\", \"us\", \"work\", \"find\", \"number\", \"year\", \"novel\", \"toss\", \"robot\", \"hack\", \"geological\", \"grassland\", \"achievement_award\", \"following_year\", \"productive\", \"continent\", \"impression\", \"anniversary\", \"resurface\", \"boy\", \"bone\", \"thomas\", \"weakness\", \"accusation\", \"cancer\", \"africa\", \"brain\", \"charity\", \"treatment\", \"function\", \"govern\", \"natural_history\", \"bed\", \"lift\", \"earlier_month\", \"suddenly\", \"scandal\", \"wake\", \"role\", \"actor\", \"sad\", \"trial\", \"four\", \"dr\", \"light\", \"affect\", \"interview\", \"machine\", \"actress\", \"write\", \"doctor\", \"week\", \"find\", \"right\", \"much\", \"images\", \"help\", \"us\", \"company\", \"feel\", \"day\", \"people\", \"work\", \"think\", \"end\", \"year\", \"first\", \"claim\", \"look\", \"give\", \"far\", \"time\", \"life\", \"could\", \"kidal\", \"bbcnewsents_instagram\", \"wear_white\", \"game\", \"captain\", \"diplomat\", \"bacteria\", \"camouflage\", \"seal\", \"organism\", \"creature\", \"emit\", \"sand\", \"intervention\", \"marine\", \"glass\", \"visible\", \"caribbean\", \"glowing\", \"regional\", \"bloody\", \"coral\", \"identity\", \"snap\", \"researchers\", \"possess\", \"concentrate\", \"bright\", \"follow_us_facebook_twitter\", \"depth\", \"performer\", \"creative\", \"transparent\", \"glow\", \"drug\", \"eye\", \"predator\", \"france\", \"rating\", \"question\", \"night\", \"organisation\", \"parent\", \"chinese\", \"surface\", \"animal\", \"show\", \"another\", \"student\", \"light\", \"group\", \"images\", \"however\", \"release\", \"act\", \"live\", \"give\", \"could\", \"star\", \"find\", \"time\", \"always\", \"call\", \"water\", \"include\", \"part\", \"delivery\", \"revenue\", \"impress\", \"destruction\", \"artificial\", \"photographer\", \"amazon\", \"americans\", \"historic\", \"advise\", \"mode\", \"look_back\", \"none\", \"item\", \"mixed\", \"disturb\", \"connected\", \"ship\", \"cave\", \"comment_story\", \"nice\", \"spectacular\", \"bull\", \"joy\", \"smartphones\", \"supermarket\", \"respect\", \"underwater\", \"curious\", \"strategy\", \"product\", \"america\", \"pack\", \"customer\", \"jones\", \"chain\", \"store\", \"us\", \"economic\", \"identify\", \"trade\", \"british\", \"capture\", \"island\", \"success\", \"market\", \"company\", \"firm\", \"trump\", \"time\", \"still\", \"president\", \"transparent\", \"first\", \"year\", \"put\", \"find\", \"live\", \"call\", \"system\", \"form\", \"light\", \"even\", \"back\", \"feel\", \"change\", \"look\", \"country\", \"many\", \"much\", \"people\", \"lucky\", \"christopher\", \"sally\", \"jail\", \"female\", \"genus\", \"los_angeles\", \"never_miss_moment_earth\", \"around_million\", \"limited\", \"devour\", \"seven_year\", \"gold\", \"viewer\", \"criminal\", \"weekday_radio\", \"listen_newsbeat\", \"valuable\", \"newsletter\", \"prey\", \"awareness\", \"insect\", \"listen_back\", \"live_every\", \"behaviour\", \"miss_us\", \"evolve\", \"mexico\", \"dealer\", \"fruit\", \"every_year\", \"carl\", \"specie\", \"sentence\", \"egg\", \"host\", \"hunting\", \"population\", \"act\", \"approach\", \"order\", \"member\", \"perform\", \"animal\", \"protect\", \"artist\", \"stage\", \"kill\", \"area\", \"become\", \"number\", \"help\", \"range\", \"back\", \"always\", \"find\", \"move\", \"include\", \"however\", \"well\", \"small\", \"night\", \"time\", \"local\", \"many\", \"work\", \"relevant\", \"using\", \"etc\", \"brown\", \"safety_risk\", \"since_last\", \"chris\", \"attribute\", \"tech\", \"link\", \"standard\", \"date\", \"opinion\", \"somewhere\", \"please\", \"android\", \"alter\", \"output\", \"funny\", \"type\", \"journalism\", \"appropriate\", \"confident\", \"fast\", \"engine\", \"audience\", \"framework\", \"note\", \"complicate\", \"browser\", \"material\", \"idea\", \"information\", \"content\", \"trust\", \"search\", \"science\", \"usually\", \"girl\", \"news\", \"source\", \"journalist\", \"pick\", \"world\", \"place\", \"human\", \"work\", \"start\", \"find\", \"body\", \"set\", \"long\", \"include\", \"might\", \"help\", \"way\", \"new_sanction\", \"confirm_marriage\", \"dmitry_peskov\", \"media_investigation\", \"us_treasury_report\", \"sanction_individual\", \"oligarch\", \"kremlin\", \"afghanistan\", \"could_potentially\", \"move_around\", \"putin\", \"russians\", \"vladimir_putin\", \"businessmen\", \"statement_call\", \"spy\", \"security_service\", \"put_notice\", \"oppose\", \"difficult_us\", \"testing\", \"algorithm\", \"russian\", \"taiwan\", \"newsroom\", \"publish\", \"list\", \"controversial\", \"amount_money\", \"security\", \"data\", \"pa\", \"activity\", \"human\", \"journalist\", \"president_donald_trump\", \"base\", \"name\", \"level\", \"study\", \"us\", \"could\", \"effect\", \"monkey\", \"sanction\", \"law\", \"system\", \"report\", \"work\", \"add\", \"think\", \"last_year\", \"even\", \"call\", \"images\", \"show\", \"adventure\", \"sweden\", \"certainly\", \"divide\", \"eu\", \"bloc\", \"scenario\", \"inevitable\", \"brussels\", \"question_whether\", \"republic\", \"compromise\", \"grow_body\", \"across_america\", \"stay_touch\", \"school_child\", \"images_grow\", \"backdrop\", \"night_shift\", \"government_meet\", \"ask_look\", \"help_stay\", \"prospect\", \"wash\", \"pick_phone\", \"vision\", \"assumption\", \"vacuum\", \"swedish\", \"totally\", \"royal\", \"civil\", \"europe\", \"document\", \"route\", \"flight\", \"china\", \"visit\", \"brexit\", \"couple\", \"european\", \"sport\", \"travel\", \"reuters\", \"government\", \"country\", \"analysis\", \"deal\", \"tell\", \"new\", \"two\", \"include\", \"day\", \"work\", \"design\", \"part\", \"back\", \"first\", \"leave\", \"think\", \"people\", \"call\", \"us_official\", \"first_state_union\", \"shortly\", \"rocket\", \"us_intelligence\", \"counter\", \"thursday\", \"trump_state\", \"plus\", \"user_ask\", \"richard\", \"immediately_clear\", \"uncertainty\", \"satellite\", \"eu_uk\", \"five_year\", \"russia\", \"presidential_election\", \"three_month\", \"reporter\", \"contrast\", \"north_korea\", \"brexit_transition\", \"cia\", \"conventional\", \"agenda\", \"historically\", \"mission\", \"status\", \"annual\", \"penalty\", \"answer\", \"raise\", \"flight\", \"platform\", \"special\", \"write\", \"trump\", \"political\", \"us\", \"president\", \"phone\", \"president_donald_trump\", \"could\", \"set\", \"launch\", \"writer\", \"time\", \"book\", \"try\", \"call\", \"many\", \"matter\", \"job\", \"continue\", \"claim\", \"expect\", \"tell\", \"people\", \"good\", \"city\", \"list\", \"way\", \"haunt\", \"recording\", \"spanish\", \"immigrant\", \"japan\", \"korea\", \"employer\", \"hunger\", \"spain\", \"fashion\", \"rescue\", \"model\", \"beauty\", \"magazine\", \"cross\", \"arrest\", \"agent\", \"past_year\", \"productivity\", \"new_york\", \"apologise\", \"cognitive\", \"government_meet\", \"travel_show\", \"listener\", \"explanation\", \"recommendation\", \"shut\", \"alcohol\", \"exciting\", \"experiment\", \"victim\", \"scandal\", \"sleep\", \"mount\", \"listen\", \"worker\", \"stuff\", \"pressure\", \"woman\", \"work\", \"radio\", \"send\", \"age\", \"call\", \"accord\", \"people\", \"health\", \"happen\", \"police\", \"job\", \"help\", \"well\", \"find\", \"report\", \"add\", \"less\", \"include\", \"much\", \"new\", \"old\", \"place\", \"show\", \"separatist\", \"yemen\", \"coalition\", \"islamist\", \"algerian\", \"alliance\", \"align\", \"hill\", \"northern_mali\", \"bomb\", \"trace\", \"stability\", \"combat\", \"three_decade\", \"saudi_arabia\", \"ansar_dine\", \"hostage\", \"steal\", \"tony\", \"prosecutor\", \"fighter\", \"hero\", \"tension\", \"theft\", \"kidnap\", \"coup\", \"militant\", \"district\", \"mali\", \"unable\", \"social\", \"circumstance\", \"die\", \"victim\", \"rebel\", \"prime_minister\", \"cabinet\", \"tuareg\", \"desert\", \"south\", \"security\", \"force\", \"talk\", \"judge\", \"people\", \"play\", \"sunday\", \"within\", \"call\", \"city\", \"return\", \"around\", \"government\", \"radio\", \"local\", \"year\", \"add\", \"show\", \"since\", \"think\", \"sexual\", \"horizon\", \"mate\", \"jaw\", \"equip\", \"battle\", \"male\", \"texas\", \"latin\", \"smith\", \"error\", \"properly\", \"lion\", \"corner\", \"florida\", \"fee\", \"endless\", \"shrimp\", \"reference\", \"worn\", \"every_day\", \"prosecution\", \"review\", \"lesson\", \"kick\", \"specialist\", \"register\", \"met_police\", \"message\", \"homeless\", \"instance\", \"mile\", \"case\", \"evidence\", \"prey\", \"blow\", \"insect\", \"fly\", \"predator\", \"drop\", \"live\", \"place\", \"life\", \"store\", \"study\", \"find\", \"number\", \"part\", \"give\", \"put\", \"people\", \"town\", \"money\", \"child\", \"home\", \"small\", \"law\", \"eight\", \"shy\", \"netherlands\", \"news_agency\", \"dutch\", \"complain\", \"confront\", \"strip\", \"agency\", \"whenever\", \"regime\", \"deter\", \"un\", \"prince\", \"israeli\", \"education\", \"establishment\", \"press\", \"output\", \"negotiate\", \"error\", \"importantly\", \"israel\", \"britain\", \"lesson\", \"documentary\", \"border\", \"duchess_cambridge\", \"leadership\", \"south_london\", \"issue\", \"declare\", \"healthcare\", \"international\", \"service\", \"news\", \"story\", \"several\", \"become\", \"land\", \"might\", \"report\", \"fall\", \"fact\", \"official\", \"part\", \"problem\", \"local\", \"many\", \"right\", \"without\", \"give\", \"retaliate\", \"stress\", \"fat\", \"breathing\", \"healthcare\", \"daily\", \"investor\", \"equivalent\", \"consume\", \"retail\", \"afternoon\", \"wednesday\", \"spark\", \"regret\", \"announcement\", \"mouth\", \"adviser\", \"healthy\", \"horizon\", \"vice\", \"pump\", \"normal\", \"raw\", \"question_whether\", \"disclose\", \"mode\", \"unrelated\", \"effectively\", \"sector\", \"strongly\", \"manage\", \"initially\", \"analyst\", \"chief_executive\", \"sleep\", \"amazon\", \"pitch\", \"senior\", \"technique\", \"following\", \"meeting\", \"energy\", \"expert\", \"keep\", \"test\", \"provide\", \"us\", \"team\", \"evidence\", \"try\", \"president\", \"put\", \"eat\", \"day\", \"images\", \"benefit\", \"could\", \"campaign\", \"find\", \"body\", \"lead\", \"even\", \"people\", \"back\", \"digital\", \"correspondent\", \"opposition_leader\", \"broadcaster\", \"authority\", \"supporter\", \"asset\", \"declare\", \"rate\", \"arrest\", \"republic\", \"euro\", \"three_month\", \"shut\", \"reserve\", \"overnight\", \"short\", \"none\", \"improvement\", \"pursue\", \"engineer\", \"medium\", \"excellent\", \"wide_range\", \"improved\", \"unclear\", \"initiative\", \"deputy\", \"super\", \"statement_call\", \"gathering\", \"august\", \"event\", \"victory\", \"capital\", \"election\", \"please\", \"chief\", \"warn\", \"east\", \"programme\", \"national\", \"october\", \"grow\", \"global\", \"amount\", \"epa\", \"president\", \"crisis\", \"listen\", \"film\", \"pick\", \"end\", \"air\", \"news\", \"people\", \"last_year\", \"show\", \"allow\", \"well\", \"still\", \"leave\", \"report\", \"idea_innovation\", \"well_watch\", \"sir_david_attenborough\", \"play_apple\", \"free_anytime\", \"collaboration_sir_david\", \"http_story\", \"via_attenborough\", \"attenborough_earth\", \"device_even\", \"memorable_moment\", \"story_life\", \"smartphone_tablet\", \"life_produce\", \"app_available_download\", \"company_akqa\", \"watch_moment\", \"via_google\", \"app_store_find\", \"ant\", \"medium_play\", \"filmmaker\", \"millipede\", \"transport\", \"alert\", \"mate\", \"welcome\", \"register\", \"washington\", \"tablet\", \"pollution\", \"page\", \"value\", \"twitter\", \"news\", \"single\", \"live\", \"small\", \"specie\", \"name\", \"story\", \"effort\", \"people\", \"receive\", \"power\", \"consider\", \"tiny\", \"wood\", \"tell\", \"big\", \"open\", \"logo\", \"tourism\", \"many_thing\", \"quick\", \"video\", \"platform\", \"app\", \"overall\", \"queen\", \"year_old\", \"pm\", \"continually\", \"button\", \"connected\", \"animals\", \"entertain\", \"align\", \"travel_show\", \"regional\", \"news_app\", \"suggestion\", \"television\", \"respect\", \"unveil\", \"retaliate\", \"south_london\", \"devil\", \"wheel\", \"connection\", \"vertical\", \"design\", \"device\", \"producer\", \"tourist\", \"animal\", \"tv\", \"monkey\", \"content\", \"size\", \"country\", \"fire\", \"new\", \"campaign\", \"key\", \"include\", \"others\", \"travel\", \"call\", \"seem\", \"around\", \"home\", \"story\", \"visit\", \"http\", \"drama\", \"reference\", \"impress\", \"concert\", \"fantastic\", \"iplayer\", \"world_service\", \"complaint\", \"sue\", \"wipe\", \"newsroom\", \"spectacular\", \"thank\", \"announcement\", \"suppose\", \"thrill\", \"code\", \"stuff\", \"seat\", \"plenty\", \"video\", \"listen\", \"australian\", \"conduct\", \"guidance\", \"council\", \"main\", \"reality\", \"music\", \"set\", \"always\", \"decade\", \"young\", \"edge\", \"state\", \"love\", \"receive\", \"live\", \"end\", \"ever\", \"could\", \"think\", \"show\", \"perform\", \"way\", \"consider\", \"soon\", \"chance\", \"group\", \"yet\", \"attack\", \"though\"], \"Total\": [27.0, 140.0, 37.0, 31.0, 87.0, 54.0, 155.0, 37.0, 99.0, 31.0, 47.0, 124.0, 20.0, 39.0, 55.0, 46.0, 90.0, 87.0, 31.0, 42.0, 27.0, 63.0, 26.0, 53.0, 11.0, 77.0, 23.0, 37.0, 19.0, 22.0, 5.684591293334961, 4.585344314575195, 6.71234130859375, 4.550732135772705, 4.551595687866211, 17.557586669921875, 8.92095947265625, 3.464421272277832, 4.549708843231201, 3.457909107208252, 6.735058307647705, 4.550496578216553, 13.229835510253906, 4.556207180023193, 3.4585750102996826, 8.903997421264648, 5.626355171203613, 3.4550952911376953, 4.5314483642578125, 5.620675563812256, 3.4544732570648193, 3.4580559730529785, 5.624488830566406, 3.4509708881378174, 3.4553658962249756, 6.680606842041016, 3.4490699768066406, 4.55082368850708, 3.4422624111175537, 8.677135467529297, 20.64253807067871, 8.834835052490234, 9.984999656677246, 22.645071029663086, 8.796782493591309, 10.974199295043945, 26.608333587646484, 25.681760787963867, 7.255995750427246, 17.018587112426758, 8.319256782531738, 56.840877532958984, 21.915739059448242, 14.857359886169434, 9.570234298706055, 30.44444465637207, 34.94988250732422, 11.443685531616211, 98.33377075195312, 39.133487701416016, 12.667320251464844, 31.066373825073242, 37.241756439208984, 44.20802307128906, 36.15935134887695, 28.76509666442871, 40.57114791870117, 88.97209167480469, 48.411643981933594, 124.47509002685547, 110.47554016113281, 155.12973022460938, 53.52486038208008, 69.37483978271484, 87.12628936767578, 37.42992401123047, 55.433963775634766, 27.636310577392578, 77.12067413330078, 99.33116912841797, 126.90643310546875, 140.9228515625, 69.08943176269531, 87.71997833251953, 79.4019775390625, 7.961741924285889, 11.9618501663208, 3.0915846824645996, 3.0893023014068604, 3.1036765575408936, 3.124382257461548, 4.102824687957764, 3.071685552597046, 3.12314510345459, 5.065465450286865, 9.674036979675293, 6.96282958984375, 8.045945167541504, 3.105273723602295, 5.896479606628418, 10.788456916809082, 3.1074295043945312, 3.9484477043151855, 3.1623103618621826, 4.045703411102295, 8.067569732666016, 7.851940155029297, 3.130479335784912, 4.067666530609131, 6.060654163360596, 6.051867961883545, 4.108161449432373, 4.081822872161865, 4.107956409454346, 3.1135101318359375, 24.28765106201172, 8.88811206817627, 19.375694274902344, 13.378678321838379, 8.456330299377441, 8.670618057250977, 9.636195182800293, 7.040926456451416, 8.141695976257324, 52.69859313964844, 18.63270378112793, 27.844669342041016, 57.15388107299805, 32.40036392211914, 15.100616455078125, 155.12973022460938, 22.367115020751953, 18.316383361816406, 34.12749099731445, 87.71997833251953, 85.27214813232422, 16.56960678100586, 44.20802307128906, 99.33116912841797, 79.4019775390625, 110.47554016113281, 50.62651062011719, 28.724163055419922, 38.4297981262207, 87.12628936767578, 140.9228515625, 124.47509002685547, 82.12635040283203, 126.90643310546875, 68.21914672851562, 79.7393569946289, 87.50389862060547, 44.88715744018555, 73.38750457763672, 60.29037857055664, 52.28248977661133, 63.28538131713867, 4.19489049911499, 6.187102794647217, 3.1923348903656006, 3.1884281635284424, 5.169650554656982, 3.190819263458252, 7.187124252319336, 3.1838932037353516, 13.283066749572754, 3.1888444423675537, 6.1098480224609375, 6.061297416687012, 5.051833152770996, 26.06464958190918, 6.255421161651611, 4.13191032409668, 4.024374485015869, 3.158461093902588, 4.21450662612915, 5.312866687774658, 19.500598907470703, 3.021789312362671, 6.037702560424805, 3.1548423767089844, 3.020242691040039, 8.914073944091797, 23.219152450561523, 14.238542556762695, 3.154299736022949, 3.041595697402954, 6.108763217926025, 8.718132019042969, 14.838534355163574, 33.04030990600586, 33.31877517700195, 25.6776065826416, 18.591264724731445, 41.75596618652344, 12.883003234863281, 13.22270393371582, 17.267961502075195, 85.27214813232422, 49.38373565673828, 62.59947967529297, 155.12973022460938, 33.176143646240234, 18.184659957885742, 79.7393569946289, 56.840877532958984, 63.13504409790039, 46.06892395019531, 52.18421936035156, 68.21914672851562, 48.20289611816406, 110.47554016113281, 98.33377075195312, 79.4019775390625, 140.9228515625, 124.47509002685547, 126.90643310546875, 48.975914001464844, 88.97209167480469, 3.2417874336242676, 3.2420382499694824, 5.263334274291992, 6.2798380851745605, 4.245413303375244, 3.2433464527130127, 3.2300102710723877, 3.2249209880828857, 3.2115602493286133, 7.135419845581055, 4.228318691253662, 3.18723726272583, 3.142914056777954, 7.046588897705078, 7.3227715492248535, 9.351886749267578, 3.2078559398651123, 4.3199896812438965, 6.2191338539123535, 16.002351760864258, 12.323280334472656, 5.2495622634887695, 12.267292976379395, 5.228397846221924, 7.109106063842773, 4.236885070800781, 6.232248783111572, 4.037113666534424, 5.215180397033691, 3.2185356616973877, 6.25083589553833, 8.255779266357422, 14.054712295532227, 21.167299270629883, 7.22620153427124, 8.980497360229492, 13.879817008972168, 16.179039001464844, 57.23265838623047, 12.747118949890137, 11.120964050292969, 16.833576202392578, 10.351163864135742, 36.12800598144531, 11.968615531921387, 31.312612533569336, 126.90643310546875, 37.18806076049805, 63.26901626586914, 52.83872985839844, 82.12635040283203, 140.9228515625, 46.59085464477539, 42.00958251953125, 87.12628936767578, 155.12973022460938, 124.47509002685547, 87.71997833251953, 42.15987777709961, 88.97209167480469, 98.33377075195312, 28.907398223876953, 68.21914672851562, 73.38750457763672, 35.38555908203125, 110.47554016113281, 53.14567565917969, 99.33116912841797, 4.244564533233643, 3.2153377532958984, 3.241562843322754, 18.453426361083984, 7.2650837898254395, 3.2308406829833984, 4.287223815917969, 5.304893493652344, 9.396446228027344, 6.226354598999023, 12.131837844848633, 5.266561031341553, 4.24472188949585, 4.196618556976318, 5.3106913566589355, 5.199117660522461, 8.028644561767578, 3.078860282897949, 4.195742607116699, 3.085320234298706, 3.1531083583831787, 4.168663501739502, 4.197049617767334, 4.191993713378906, 4.3212995529174805, 3.2258222103118896, 3.322324514389038, 6.229372501373291, 3.302842617034912, 4.151146411895752, 5.183934688568115, 5.232565402984619, 19.558502197265625, 8.09139633178711, 19.722911834716797, 19.189674377441406, 24.538124084472656, 10.843708038330078, 11.763603210449219, 28.543689727783203, 32.83732986450195, 16.901010513305664, 11.574004173278809, 10.025741577148438, 13.342789649963379, 39.83574676513672, 87.50389862060547, 50.01430892944336, 23.844989776611328, 57.23265838623047, 43.136600494384766, 52.83872985839844, 49.59917068481445, 31.967254638671875, 30.57985496520996, 54.45389938354492, 73.38750457763672, 99.33116912841797, 30.44444465637207, 126.90643310546875, 110.47554016113281, 31.944583892822266, 90.8567886352539, 41.75596618652344, 77.12067413330078, 69.37483978271484, 3.017096996307373, 5.897951602935791, 2.6238608360290527, 4.015562057495117, 3.9795265197753906, 7.948497295379639, 14.7565279006958, 6.803525447845459, 2.985142946243286, 2.9063165187835693, 2.9083597660064697, 3.05519700050354, 2.8872578144073486, 8.889512062072754, 3.054500102996826, 3.059351921081543, 2.943190813064575, 6.000458240509033, 5.023942947387695, 3.0655503273010254, 4.060075759887695, 4.602132320404053, 3.1075692176818848, 3.0704331398010254, 5.800455570220947, 9.930377960205078, 12.048829078674316, 6.978083610534668, 4.812331676483154, 7.968606948852539, 21.219270706176758, 23.783300399780273, 8.965401649475098, 18.933029174804688, 12.53238296508789, 6.087623119354248, 20.16147232055664, 140.9228515625, 15.490455627441406, 12.303495407104492, 10.757089614868164, 16.865896224975586, 12.89749526977539, 20.974193572998047, 15.112865447998047, 15.114883422851562, 46.59085464477539, 18.816082000732422, 30.96512794494629, 110.47554016113281, 50.62651062011719, 46.63486862182617, 19.558502197265625, 98.33377075195312, 88.97209167480469, 40.59041213989258, 126.90643310546875, 54.45389938354492, 90.8567886352539, 32.834930419921875, 32.58534240722656, 57.23265838623047, 79.4019775390625, 79.7393569946289, 42.00958251953125, 38.4297981262207, 68.21914672851562, 55.07319259643555, 69.08943176269531, 63.26901626586914, 155.12973022460938, 3.2233927249908447, 4.24965763092041, 6.287836074829102, 5.28908109664917, 7.230790615081787, 6.063473701477051, 3.2390003204345703, 4.238586902618408, 3.233036994934082, 5.385143280029297, 5.996320724487305, 4.234748363494873, 3.193782091140747, 4.2358245849609375, 7.186947345733643, 3.2074811458587646, 3.205410957336426, 4.21822452545166, 4.9789323806762695, 26.357711791992188, 7.3099846839904785, 8.77456283569336, 3.2219531536102295, 3.223400354385376, 14.045272827148438, 3.2194554805755615, 11.206928253173828, 4.270270347595215, 3.3715085983276367, 3.219275712966919, 6.143901824951172, 4.048819541931152, 37.52242660522461, 6.211373805999756, 5.203146457672119, 14.819594383239746, 8.174938201904297, 13.407979011535645, 30.57985496520996, 17.021465301513672, 19.888816833496094, 17.26070213317871, 16.484769821166992, 39.83574676513672, 18.173992156982422, 13.097884178161621, 11.947063446044922, 28.694705963134766, 35.075469970703125, 55.433963775634766, 48.975914001464844, 82.12635040283203, 19.86820411682129, 79.7393569946289, 31.944583892822266, 126.90643310546875, 47.189640045166016, 77.12067413330078, 49.59917068481445, 43.41759490966797, 30.97308349609375, 32.83732986450195, 110.47554016113281, 40.53407287597656, 69.08943176269531, 124.47509002685547, 4.91793155670166, 3.928168296813965, 4.047407150268555, 3.8565762042999268, 2.942739963531494, 3.099745273590088, 10.062870025634766, 3.09613299369812, 4.895869255065918, 15.706926345825195, 5.071900844573975, 4.889984607696533, 7.0111083984375, 3.8470265865325928, 7.636843681335449, 3.7370429039001465, 3.102748155593872, 8.704398155212402, 6.102200984954834, 7.091978073120117, 10.66186237335205, 5.110846519470215, 3.824037551879883, 16.081727981567383, 3.9345083236694336, 12.410120010375977, 4.209356784820557, 14.414397239685059, 3.966935873031616, 4.6724395751953125, 12.580202102661133, 28.98257827758789, 17.656673431396484, 17.625843048095703, 13.93242073059082, 12.764397621154785, 15.04708194732666, 12.958569526672363, 16.733219146728516, 47.77770233154297, 17.557443618774414, 19.29755973815918, 21.138578414916992, 62.59947967529297, 48.20289611816406, 27.682226181030273, 124.47509002685547, 48.411643981933594, 126.90643310546875, 36.855308532714844, 37.18985366821289, 47.07130432128906, 77.12067413330078, 37.941612243652344, 82.12635040283203, 63.13504409790039, 5.097441673278809, 3.1316909790039062, 3.12670636177063, 3.132490873336792, 3.1277737617492676, 3.1287143230438232, 4.088353633880615, 4.088804244995117, 7.232960224151611, 3.160271644592285, 4.0699849128723145, 6.604438781738281, 3.85486102104187, 3.9443516731262207, 4.0960564613342285, 2.965749979019165, 3.103010892868042, 3.159965991973877, 3.0232179164886475, 3.1554462909698486, 3.2376046180725098, 5.0547099113464355, 8.960031509399414, 14.567359924316406, 3.817553758621216, 4.540789604187012, 23.602163314819336, 31.897228240966797, 4.064826965332031, 4.143797874450684, 16.073251724243164, 30.179513931274414, 10.03427505493164, 14.780383110046387, 27.682226181030273, 19.29755973815918, 8.739429473876953, 37.54575729370117, 46.81819152832031, 18.758380889892578, 48.847354888916016, 140.9228515625, 99.33116912841797, 15.935993194580078, 10.780213356018066, 14.838534355163574, 25.70394515991211, 32.834930419921875, 63.28538131713867, 124.47509002685547, 60.29037857055664, 87.71997833251953, 27.97021484375, 79.4019775390625, 90.8567886352539, 52.83872985839844, 87.50389862060547, 3.6361382007598877, 5.384594917297363, 3.5916924476623535, 3.510352373123169, 31.27436065673828, 3.511678457260132, 4.562126159667969, 2.827531337738037, 5.5012431144714355, 2.699880838394165, 2.673651933670044, 2.7116029262542725, 2.8161096572875977, 2.8226451873779297, 2.822007179260254, 2.824028253555298, 2.830585479736328, 2.847609281539917, 2.8367342948913574, 2.839228630065918, 2.8406078815460205, 2.845432758331299, 5.257306098937988, 2.8047964572906494, 2.882580518722534, 8.914011001586914, 2.8231008052825928, 2.8020951747894287, 5.59295654296875, 3.660338878631592, 5.610308647155762, 4.738894939422607, 23.36111831665039, 10.312315940856934, 11.502293586730957, 17.038503646850586, 12.389961242675781, 24.313018798828125, 24.28765106201172, 20.097984313964844, 11.838493347167969, 5.705818176269531, 25.176103591918945, 19.466022491455078, 57.15388107299805, 55.07319259643555, 9.70510482788086, 31.74435806274414, 85.27214813232422, 53.38660430908203, 52.18421936035156, 77.12067413330078, 87.12628936767578, 124.47509002685547, 37.762855529785156, 69.37483978271484, 79.7393569946289, 98.33377075195312, 49.38373565673828, 87.71997833251953, 155.12973022460938, 90.8567886352539, 2.756235122680664, 2.7810280323028564, 2.779315710067749, 7.149538993835449, 3.5956666469573975, 3.7395315170288086, 3.7718968391418457, 2.844677209854126, 2.7338790893554688, 2.8759655952453613, 2.753373146057129, 2.9099597930908203, 2.724332094192505, 11.150534629821777, 2.8952126502990723, 4.800650596618652, 16.173362731933594, 3.825108051300049, 2.783154249191284, 3.826812744140625, 3.7053956985473633, 6.668558597564697, 2.908531427383423, 5.412546634674072, 3.818037509918213, 3.997973918914795, 2.9434144496917725, 9.767829895019531, 4.8290581703186035, 3.0165865421295166, 4.740874767303467, 9.297470092773438, 16.356698989868164, 17.038503646850586, 12.16923713684082, 15.275384902954102, 36.12800598144531, 30.96512794494629, 22.12620735168457, 140.9228515625, 46.63486862182617, 13.10257625579834, 8.739429473876953, 99.33116912841797, 37.18985366821289, 19.313304901123047, 12.098817825317383, 110.47554016113281, 16.802810668945312, 34.544803619384766, 90.8567886352539, 69.08943176269531, 23.825672149658203, 30.672250747680664, 30.129486083984375, 28.907398223876953, 27.572376251220703, 85.27214813232422, 155.12973022460938, 49.51517105102539, 56.840877532958984, 31.897228240966797, 63.13504409790039, 3.1232962608337402, 3.17482590675354, 9.304831504821777, 7.408141613006592, 4.161317348480225, 4.0121283531188965, 4.192336559295654, 3.9693734645843506, 6.197371959686279, 8.09360122680664, 4.276176452636719, 16.982751846313477, 4.239353656768799, 9.308314323425293, 6.985747814178467, 4.829139232635498, 5.191720008850098, 5.0935797691345215, 5.220716953277588, 8.834943771362305, 2.8542306423187256, 5.218145370483398, 2.839228630065918, 3.0680344104766846, 3.2117536067962646, 3.041823387145996, 3.1123743057250977, 2.782444715499878, 2.9670886993408203, 3.1349918842315674, 9.131117820739746, 13.357889175415039, 6.25083589553833, 19.523841857910156, 6.098811626434326, 10.199914932250977, 9.338760375976562, 6.455082416534424, 6.110445499420166, 29.03876495361328, 124.47509002685547, 28.116456985473633, 17.842416763305664, 31.846237182617188, 90.8567886352539, 26.544363021850586, 155.12973022460938, 20.80419921875, 34.14065170288086, 31.14642906188965, 30.672250747680664, 82.12635040283203, 43.41759490966797, 126.90643310546875, 63.28538131713867, 60.29037857055664, 33.44373321533203, 77.12067413330078, 63.26901626586914, 53.38660430908203, 37.241756439208984, 48.20289611816406, 87.50389862060547, 14.309005737304688, 5.2517781257629395, 10.01977252960205, 8.253978729248047, 4.2127766609191895, 3.025418519973755, 3.0787713527679443, 3.2126712799072266, 11.142430305480957, 5.146500110626221, 4.152185916900635, 3.2109203338623047, 3.1371750831604004, 3.203160524368286, 7.048342704772949, 12.090875625610352, 4.109910011291504, 9.284077644348145, 6.208806037902832, 4.042868614196777, 4.177484035491943, 4.201866626739502, 3.9738190174102783, 4.1059956550598145, 5.314718246459961, 4.0422258377075195, 5.910940647125244, 6.374701976776123, 5.231322288513184, 4.094719409942627, 10.183966636657715, 6.8274383544921875, 20.323816299438477, 13.357889175415039, 11.847607612609863, 13.254247665405273, 7.105419635772705, 10.06910228729248, 7.005918025970459, 11.247574806213379, 16.073251724243164, 30.5270938873291, 22.45111846923828, 19.497461318969727, 155.12973022460938, 39.416229248046875, 16.48234748840332, 20.342355728149414, 90.8567886352539, 56.840877532958984, 28.345874786376953, 52.28248977661133, 57.15388107299805, 28.116456985473633, 40.53407287597656, 88.97209167480469, 60.29037857055664, 87.50389862060547, 44.364349365234375, 87.71997833251953, 3.8207972049713135, 2.726351022720337, 5.957948684692383, 3.8496553897857666, 2.9139466285705566, 4.584968090057373, 13.836514472961426, 5.526033878326416, 3.8868277072906494, 3.7054760456085205, 5.546611309051514, 3.9313483238220215, 7.413967609405518, 4.869278907775879, 6.650330543518066, 5.882730007171631, 3.122058629989624, 4.764012336730957, 4.208913803100586, 2.81474232673645, 3.9959232807159424, 4.882419586181641, 19.820110321044922, 7.519617557525635, 14.658503532409668, 4.912147521972656, 5.152945518493652, 4.947414875030518, 15.121557235717773, 3.9859564304351807, 4.721462249755859, 9.107955932617188, 42.27060317993164, 19.713623046875, 26.357711791992188, 9.666285514831543, 8.77456283569336, 10.645400047302246, 24.538124084472656, 11.442390441894531, 54.45389938354492, 48.20289611816406, 53.14567565917969, 20.16147232055664, 48.847354888916016, 126.90643310546875, 48.975914001464844, 69.37483978271484, 73.38750457763672, 40.59041213989258, 155.12973022460938, 33.04030990600586, 20.358928680419922, 44.88715744018555, 53.52486038208008, 30.97308349609375, 25.70394515991211, 2.932302474975586, 4.8645782470703125, 7.469540119171143, 2.9736921787261963, 20.85713005065918, 3.939338445663452, 2.8977885246276855, 2.997828960418701, 11.086526870727539, 4.74017858505249, 4.767552375793457, 2.898047685623169, 10.616493225097656, 4.688321590423584, 4.109148979187012, 6.014238357543945, 4.215275287628174, 6.944626331329346, 8.704398155212402, 4.835992813110352, 5.546611309051514, 3.059870719909668, 16.710899353027344, 5.696199893951416, 7.519617557525635, 5.752763271331787, 20.94508934020996, 2.934724807739258, 6.761813640594482, 2.9626553058624268, 25.243732452392578, 4.644278526306152, 12.745537757873535, 20.398035049438477, 26.838449478149414, 47.77770233154297, 35.19559097290039, 27.893169403076172, 55.433963775634766, 14.077859878540039, 37.941612243652344, 63.28538131713867, 14.475906372070312, 15.41645336151123, 17.384546279907227, 69.37483978271484, 30.268627166748047, 40.53407287597656, 69.08943176269531, 37.18806076049805, 28.785385131835938, 73.38750457763672, 3.55074405670166, 12.347298622131348, 3.50232195854187, 4.500338554382324, 12.745537757873535, 5.3462371826171875, 3.772573709487915, 2.89560866355896, 3.869706869125366, 6.61544942855835, 4.747923374176025, 3.8209660053253174, 4.827897548675537, 3.931279420852661, 5.247295379638672, 5.063632011413574, 4.901436805725098, 4.763686180114746, 2.726351022720337, 2.952660083770752, 2.927607297897339, 6.476288318634033, 2.8750669956207275, 2.699880838394165, 2.805903434753418, 2.9083597660064697, 3.1028170585632324, 2.9557087421417236, 5.638376712799072, 4.124257564544678, 10.695096015930176, 7.105041980743408, 7.531339645385742, 8.526907920837402, 19.523841857910156, 14.7565279006958, 6.6814398765563965, 6.411869049072266, 8.78978443145752, 7.482182502746582, 15.398208618164062, 12.69842529296875, 16.837814331054688, 24.99092674255371, 27.844669342041016, 22.91888999938965, 140.9228515625, 24.803932189941406, 19.713623046875, 34.544803619384766, 46.63486862182617, 40.59041213989258, 14.658658027648926, 87.12628936767578, 52.83872985839844, 33.31877517700195, 99.33116912841797, 14.761850357055664, 126.90643310546875, 36.855308532714844, 46.06892395019531, 79.4019775390625, 155.12973022460938, 79.7393569946289, 8.948516845703125, 7.131134033203125, 3.769886016845703, 3.766808032989502, 9.558001518249512, 8.268167495727539, 6.612382888793945, 4.644278526306152, 7.769160747528076, 4.829139232635498, 2.673651933670044, 2.742039442062378, 2.783154249191284, 2.782444715499878, 2.951448917388916, 2.893092393875122, 2.8731770515441895, 2.8872578144073486, 2.9417567253112793, 2.9763665199279785, 2.9649853706359863, 8.696520805358887, 2.9719481468200684, 3.040585994720459, 3.02368426322937, 2.9414732456207275, 3.0374412536621094, 3.023127794265747, 2.957265853881836, 2.965749979019165, 3.0712733268737793, 9.41015625, 23.885831832885742, 6.189109802246094, 15.37396240234375, 17.599781036376953, 7.636843681335449, 6.742466926574707, 13.458087921142578, 7.733921051025391, 15.236686706542969, 16.447139739990234, 15.805962562561035, 21.303756713867188, 9.077400207519531, 8.825481414794922, 9.132359504699707, 46.63486862182617, 9.184553146362305, 10.199914932250977, 23.36679458618164, 21.138578414916992, 42.15987777709961, 21.45996856689453, 47.77770233154297, 155.12973022460938, 27.97021484375, 87.50389862060547, 33.201786041259766, 43.41759490966797, 50.62651062011719, 49.38373565673828, 63.28538131713867, 2.6027956008911133, 2.6030359268188477, 2.602318525314331, 2.6032464504241943, 2.602614402770996, 2.6040680408477783, 2.604524850845337, 2.6052794456481934, 2.606279134750366, 2.606097936630249, 2.6056997776031494, 2.607306718826294, 2.606566905975342, 2.6059916019439697, 2.6069653034210205, 2.6064929962158203, 2.6083312034606934, 2.608168601989746, 2.6076698303222656, 5.83872127532959, 3.612386703491211, 3.606178045272827, 4.610368251800537, 3.699493408203125, 5.434507846832275, 5.957948684692383, 6.338347434997559, 5.152945518493652, 2.858959913253784, 4.654179573059082, 6.664770126342773, 4.756682395935059, 7.469817161560059, 21.264339447021484, 47.77770233154297, 19.549964904785156, 54.45389938354492, 30.97308349609375, 37.52242660522461, 46.81819152832031, 35.19559097290039, 20.322317123413086, 155.12973022460938, 22.384389877319336, 18.189231872558594, 19.144908905029297, 12.420012474060059, 10.860828399658203, 85.27214813232422, 34.12749099731445, 27.643157958984375, 9.179723739624023, 8.517463684082031, 2.922762870788574, 4.7870869636535645, 27.899051666259766, 12.16923713684082, 10.407431602478027, 4.879263401031494, 2.8208444118499756, 3.9730019569396973, 2.882336139678955, 2.911653995513916, 2.915938138961792, 2.943190813064575, 3.0015645027160645, 3.032733678817749, 3.0787713527679443, 3.0680344104766846, 3.085320234298706, 6.253271102905273, 2.9089152812957764, 6.6999921798706055, 12.048829078674316, 3.256298542022705, 3.55074405670166, 2.9626553058624268, 3.822136640548706, 3.872034788131714, 3.9719693660736084, 5.192632675170898, 37.762855529785156, 15.502884864807129, 8.718132019042969, 10.141364097595215, 39.83574676513672, 12.488396644592285, 10.780213356018066, 17.625843048095703, 11.565114974975586, 55.07319259643555, 13.728696823120117, 53.38660430908203, 14.761850357055664, 20.22406578063965, 77.12067413330078, 25.696359634399414, 25.176103591918945, 90.8567886352539, 26.340003967285156, 52.28248977661133, 53.52486038208008, 35.19559097290039, 24.313018798828125, 3.8590431213378906, 3.9548044204711914, 4.208913803100586, 2.6238608360290527, 2.702662229537964, 2.73122501373291, 2.7704155445098877, 3.531719207763672, 3.6394786834716797, 3.914616107940674, 4.488593101501465, 4.540789604187012, 4.602132320404053, 7.5789475440979, 5.247295379638672, 5.813423156738281, 5.855173110961914, 11.982473373413086, 6.455082416534424, 6.756525039672852, 6.763946533203125, 27.899051666259766, 10.199914932250977, 7.255995750427246, 7.763068199157715, 7.843521595001221, 7.875917434692383, 8.319256782531738, 8.53306770324707, 12.919373512268066, 37.18985366821289, 31.944583892822266, 19.900470733642578, 23.3724365234375, 8.932686805725098, 28.576526641845703, 27.636310577392578, 22.384389877319336, 54.45389938354492, 42.15987777709961, 13.947078704833984, 99.33116912841797, 87.71997833251953, 87.50389862060547, 16.484769821166992, 63.13504409790039, 19.144908905029297, 19.260772705078125, 21.932479858398438, 43.136600494384766, 20.283668518066406, 29.6589298248291, 27.278112411499023], \"loglift\": [30.0, 29.0, 28.0, 27.0, 26.0, 25.0, 24.0, 23.0, 22.0, 21.0, 20.0, 19.0, 18.0, 17.0, 16.0, 15.0, 14.0, 13.0, 12.0, 11.0, 10.0, 9.0, 8.0, 7.0, 6.0, 5.0, 4.0, 3.0, 2.0, 1.0, 1.5505000352859497, 1.5319000482559204, 1.529099941253662, 1.5211000442504883, 1.5156999826431274, 1.5149999856948853, 1.5127999782562256, 1.5094000101089478, 1.5038000345230103, 1.5017999410629272, 1.5002000331878662, 1.498900055885315, 1.4957000017166138, 1.49399995803833, 1.493899941444397, 1.4919999837875366, 1.4815000295639038, 1.4789999723434448, 1.4789999723434448, 1.4782999753952026, 1.476099967956543, 1.475000023841858, 1.4723000526428223, 1.4709999561309814, 1.4682999849319458, 1.4657000303268433, 1.4651999473571777, 1.465000033378601, 1.4611999988555908, 1.4585000276565552, 1.4491000175476074, 1.4502999782562256, 1.4101999998092651, 1.3443000316619873, 1.3940000534057617, 1.344599962234497, 1.2307000160217285, 1.2127000093460083, 1.385200023651123, 1.2029000520706177, 1.3367999792099, 0.9075000286102295, 1.0983999967575073, 1.17739999294281, 1.2963999509811401, 0.967199981212616, 0.9111999869346619, 1.2403000593185425, 0.5605000257492065, 0.8345999717712402, 1.2034000158309937, 0.8880000114440918, 0.8209999799728394, 0.7353000044822693, 0.8083000183105469, 0.8838000297546387, 0.7218999862670898, 0.3531999886035919, 0.6111000180244446, 0.16699999570846558, 0.18709999322891235, 0.014999999664723873, 0.5196999907493591, 0.3822999894618988, 0.23980000615119934, 0.6636000275611877, 0.3903999924659729, 0.7976999878883362, 0.13019999861717224, -0.042899999767541885, -0.2615000009536743, -0.39910000562667847, 0.1451999992132187, -0.09870000183582306, -0.025200000032782555, 2.1533000469207764, 2.1375999450683594, 2.1285998821258545, 2.1187000274658203, 2.1052000522613525, 2.0829999446868896, 2.0764000415802, 2.0736000537872314, 2.0483999252319336, 2.0388998985290527, 2.033799886703491, 2.0255000591278076, 2.015500068664551, 1.985700011253357, 1.962399959564209, 1.957900047302246, 1.9490000009536743, 1.9408999681472778, 1.9325000047683716, 1.930400013923645, 1.927899956703186, 1.9157999753952026, 1.913100004196167, 1.8969999551773071, 1.8938000202178955, 1.874500036239624, 1.8641999959945679, 1.860700011253357, 1.8562999963760376, 1.8454999923706055, 1.809999942779541, 1.8055000305175781, 1.7414000034332275, 1.7700999975204468, 1.7725000381469727, 1.7461999654769897, 1.7063000202178955, 1.7618999481201172, 1.7059999704360962, 1.1132999658584595, 1.4407999515533447, 1.304900050163269, 1.0544999837875366, 1.1638000011444092, 1.4601999521255493, 0.43529999256134033, 1.2645000219345093, 1.3250000476837158, 1.0187000036239624, 0.5570999979972839, 0.5235000252723694, 1.3519999980926514, 0.7616999745368958, 0.27799999713897705, 0.4000999927520752, 0.1923999935388565, 0.6650999784469604, 0.9976000189781189, 0.8011999726295471, 0.2337000072002411, -0.10209999978542328, -0.031300000846385956, 0.22419999539852142, -0.13179999589920044, 0.33230000734329224, 0.18170000612735748, 0.028699999675154686, 0.5925999879837036, 0.10080000013113022, 0.2904999852180481, 0.42739999294281006, 0.23829999566078186, 2.2648000717163086, 2.245699882507324, 2.244800090789795, 2.2335000038146973, 2.2316999435424805, 2.2311999797821045, 2.2151999473571777, 2.195499897003174, 2.150700092315674, 2.138700008392334, 2.0752999782562256, 2.044800043106079, 2.013700008392334, 2.009700059890747, 1.989400029182434, 1.9733999967575073, 1.965000033378601, 1.9414000511169434, 1.9384000301361084, 1.9350999593734741, 1.9276000261306763, 1.9132000207901, 1.8969999551773071, 1.8906999826431274, 1.8883999586105347, 1.8595000505447388, 1.8502000570297241, 1.843400001525879, 1.8257999420166016, 1.8253999948501587, 1.809399962425232, 1.7978999614715576, 1.7168999910354614, 1.5819000005722046, 1.4536999464035034, 1.4783999919891357, 1.5394999980926514, 1.2906999588012695, 1.5539000034332275, 1.5241999626159668, 1.4092999696731567, 0.6559000015258789, 0.8942999839782715, 0.7354000210762024, 0.26829999685287476, 1.0286999940872192, 1.2999000549316406, 0.4810999929904938, 0.6586999893188477, 0.567300021648407, 0.7591999769210815, 0.6761999726295471, 0.49390000104904175, 0.6236000061035156, 0.04179999977350235, 0.12330000102519989, 0.26910001039505005, -0.17430000007152557, -0.08900000154972076, -0.16699999570846558, 0.531499981880188, -0.0024999999441206455, 2.2637999057769775, 2.260499954223633, 2.250999927520752, 2.2395999431610107, 2.232300043106079, 2.1940999031066895, 2.185699939727783, 2.18530011177063, 2.178999900817871, 2.168600082397461, 2.1656999588012695, 2.1626999378204346, 2.1294000148773193, 2.118299961090088, 2.089600086212158, 2.0701000690460205, 2.0664000511169434, 2.062999963760376, 2.0611000061035156, 2.0585999488830566, 2.0576000213623047, 2.0429999828338623, 2.02020001411438, 2.0199999809265137, 1.993899941444397, 1.992300033569336, 1.9793000221252441, 1.9785000085830688, 1.9656000137329102, 1.9541000127792358, 1.9328999519348145, 1.9193999767303467, 1.8842999935150146, 1.804900050163269, 1.9194999933242798, 1.858299970626831, 1.7383999824523926, 1.6899000406265259, 1.3136999607086182, 1.7128000259399414, 1.7400000095367432, 1.5721999406814575, 1.7431999444961548, 1.2503000497817993, 1.6818000078201294, 1.2563999891281128, 0.6136000156402588, 1.1604000329971313, 0.828000009059906, 0.9103999733924866, 0.6740999817848206, 0.3659000098705292, 0.9527999758720398, 0.9664000272750854, 0.5153999924659729, 0.16220000386238098, 0.2741999924182892, 0.48069998621940613, 0.917900025844574, 0.39910000562667847, 0.28760001063346863, 1.1353000402450562, 0.47620001435279846, 0.4065999984741211, 0.9009000062942505, -0.11760000139474869, 0.5070000290870667, -0.09740000218153, 2.5401999950408936, 2.5215001106262207, 2.470099925994873, 2.455399990081787, 2.407599925994873, 2.4054999351501465, 2.344899892807007, 2.3445000648498535, 2.3111000061035156, 2.3043999671936035, 2.2799999713897705, 2.270900011062622, 2.2548999786376953, 2.2548000812530518, 2.2421998977661133, 2.239799976348877, 2.237600088119507, 2.206399917602539, 2.179800033569336, 2.1791999340057373, 2.1675000190734863, 2.1654000282287598, 2.158400058746338, 2.147700071334839, 2.134200096130371, 2.1298999786376953, 2.1296000480651855, 2.117500066757202, 2.1064000129699707, 2.100100040435791, 2.092099905014038, 2.0908000469207764, 1.9911999702453613, 2.0559000968933105, 1.968400001525879, 1.9634000062942505, 1.9320000410079956, 1.978600025177002, 1.9479999542236328, 1.730299949645996, 1.6913000345230103, 1.805400013923645, 1.9019999504089355, 1.902500033378601, 1.8083000183105469, 1.4335999488830566, 1.1139999628067017, 1.3056000471115112, 1.5663000345230103, 1.1694999933242798, 1.2573000192642212, 1.1375000476837158, 1.160099983215332, 1.3375999927520752, 1.3372999429702759, 1.0230000019073486, 0.8111000061035156, 0.5435000061988831, 1.2711999416351318, 0.30880001187324524, 0.29019999504089355, 1.156000018119812, 0.34790000319480896, 0.9154999852180481, 0.3801000118255615, 0.375, 2.6254000663757324, 2.4066998958587646, 2.3643999099731445, 2.3285999298095703, 2.324399948120117, 2.293800115585327, 2.2737998962402344, 2.2690999507904053, 2.2486000061035156, 2.240799903869629, 2.235300064086914, 2.2235000133514404, 2.1963999271392822, 2.196199893951416, 2.1835999488830566, 2.1826000213623047, 2.182499885559082, 2.1749000549316406, 2.1624999046325684, 2.157599925994873, 2.1482999324798584, 2.1391000747680664, 2.1349000930786133, 2.126499891281128, 2.1022000312805176, 2.0701000690460205, 2.0638999938964844, 2.0550999641418457, 2.051100015640259, 2.046799898147583, 1.9392000436782837, 1.8818000555038452, 1.9875999689102173, 1.8300000429153442, 1.867300033569336, 2.0257999897003174, 1.6962000131607056, 1.1642999649047852, 1.7137999534606934, 1.770400047302246, 1.801900029182434, 1.6448999643325806, 1.7373000383377075, 1.5535000562667847, 1.667199969291687, 1.636199951171875, 1.061900019645691, 1.5132999420166016, 1.2575000524520874, 0.5817000269889832, 0.9627000093460083, 1.00409996509552, 1.4767999649047852, 0.477400004863739, 0.5292999744415283, 0.9758999943733215, 0.1460999995470047, 0.7174000144004822, 0.3474000096321106, 1.0672999620437622, 1.0570000410079956, 0.6000999808311462, 0.3075999915599823, 0.28630000352859497, 0.8187000155448914, 0.8867999911308289, 0.34380000829696655, 0.5382999777793884, 0.320499986410141, 0.399399995803833, -0.4970000088214874, 2.679500102996826, 2.6405999660491943, 2.606800079345703, 2.5969998836517334, 2.5620999336242676, 2.547100067138672, 2.542099952697754, 2.5215001106262207, 2.492300033569336, 2.477099895477295, 2.4737000465393066, 2.464200019836426, 2.436500072479248, 2.4047000408172607, 2.3747000694274902, 2.3745999336242676, 2.3652000427246094, 2.3278000354766846, 2.3148000240325928, 2.3106000423431396, 2.3094000816345215, 2.3043999671936035, 2.296799898147583, 2.294100046157837, 2.2829999923706055, 2.26419997215271, 2.2585999965667725, 2.2527999877929688, 2.243499994277954, 2.2411000728607178, 2.2395999431610107, 2.238300085067749, 2.154900074005127, 2.213900089263916, 2.212599992752075, 2.011399984359741, 2.1112000942230225, 1.9996999502182007, 1.7578999996185303, 1.9017000198364258, 1.7975000143051147, 1.802299976348877, 1.7857999801635742, 1.3776999711990356, 1.6694999933242798, 1.832800030708313, 1.874500036239624, 1.413599967956543, 1.295699954032898, 0.9243999719619751, 0.9850000143051147, 0.636900007724762, 1.5355000495910645, 0.5848000049591064, 1.1563999652862549, 0.11999999731779099, 0.8597999811172485, 0.47360000014305115, 0.8129000067710876, 0.8863999843597412, 1.1460000276565552, 1.0785000324249268, -0.07980000227689743, 0.8481000065803528, 0.3255000114440918, -0.2614000141620636, 2.8568999767303467, 2.836699962615967, 2.8194000720977783, 2.7218000888824463, 2.664799928665161, 2.6449999809265137, 2.581199884414673, 2.5708000659942627, 2.5706000328063965, 2.5608999729156494, 2.5237998962402344, 2.5067999362945557, 2.4881999492645264, 2.479099988937378, 2.4665000438690186, 2.466399908065796, 2.4611001014709473, 2.4267001152038574, 2.424499988555908, 2.4202001094818115, 2.40939998626709, 2.406599998474121, 2.401099920272827, 2.398099899291992, 2.375499963760376, 2.3436999320983887, 2.3159000873565674, 2.3090999126434326, 2.2790000438690186, 2.2781999111175537, 2.2441000938415527, 2.190000057220459, 2.1338999271392822, 2.0385000705718994, 2.082200050354004, 2.0943000316619873, 2.0411999225616455, 2.0267999172210693, 1.919700026512146, 1.4052000045776367, 1.847499966621399, 1.7799999713897705, 1.7252999544143677, 1.0508999824523926, 1.1872999668121338, 1.5128999948501587, 0.5467000007629395, 1.0777000188827515, 0.3490000069141388, 1.2186000347137451, 1.1366000175476074, 0.9157000184059143, 0.4634000062942505, 1.0683000087738037, 0.35910001397132874, 0.550599992275238, 3.1803998947143555, 3.1666998863220215, 3.157900094985962, 3.1507999897003174, 3.1421000957489014, 3.141900062561035, 3.11929988861084, 3.1061999797821045, 2.905100107192993, 2.854300022125244, 2.8403000831604004, 2.837899923324585, 2.835900068283081, 2.823899984359741, 2.8143999576568604, 2.811199903488159, 2.7995998859405518, 2.7978999614715576, 2.795799970626831, 2.7544000148773193, 2.7262001037597656, 2.692500114440918, 2.650700092315674, 2.6129000186920166, 2.592600107192993, 2.5810999870300293, 2.5, 2.490000009536743, 2.4890999794006348, 2.47979998588562, 2.4000000953674316, 2.3454999923706055, 2.4075000286102295, 2.3129000663757324, 2.140399932861328, 2.185800075531006, 2.433000087738037, 1.9198999404907227, 1.705899953842163, 2.0481998920440674, 1.5986000299453735, 0.7907000184059143, 0.9485999941825867, 2.0060999393463135, 2.213599920272827, 2.0007998943328857, 1.6318999528884888, 1.4543999433517456, 0.939300000667572, 0.33180001378059387, 0.7947999835014343, 0.4878999888896942, 1.396299958229065, 0.44269999861717224, 0.31529998779296875, 0.7878999710083008, 0.27459999918937683, 2.9909000396728516, 2.9489998817443848, 2.9038000106811523, 2.8570001125335693, 2.8457999229431152, 2.8308000564575195, 2.8013999462127686, 2.7685999870300293, 2.7671000957489014, 2.757499933242798, 2.7425999641418457, 2.7365000247955322, 2.7363998889923096, 2.71560001373291, 2.715100049972534, 2.714900016784668, 2.710099935531616, 2.708899974822998, 2.7079999446868896, 2.7070999145507812, 2.7067999839782715, 2.7063000202178955, 2.703900098800659, 2.6949000358581543, 2.6919000148773193, 2.691499948501587, 2.6914000511169434, 2.6821000576019287, 2.6470000743865967, 2.6421000957489014, 2.6303999423980713, 2.57669997215271, 2.128000020980835, 2.338200092315674, 2.3041999340057373, 2.1830999851226807, 2.2174999713897705, 1.954300045967102, 1.8787000179290771, 1.8779000043869019, 2.0920000076293945, 2.4093000888824463, 1.7345999479293823, 1.8386000394821167, 1.2547999620437622, 1.2680000066757202, 2.1057000160217285, 1.4815000295639038, 0.9164000153541565, 1.0440000295639038, 0.9940000176429749, 0.7267000079154968, 0.5651999711990356, 0.2313999980688095, 1.02839994430542, 0.5110999941825867, 0.33320000767707825, 0.11010000109672546, 0.7003999948501587, 0.13539999723434448, -0.3935000002384186, 0.07720000296831131, 3.2072999477386475, 3.148900032043457, 3.114799976348877, 3.105600118637085, 2.885499954223633, 2.8784000873565674, 2.8766000270843506, 2.792799949645996, 2.790800094604492, 2.7736001014709473, 2.7704999446868896, 2.762200117111206, 2.75219988822937, 2.64490008354187, 2.58489990234375, 2.575500011444092, 2.567699909210205, 2.565000057220459, 2.561500072479248, 2.5580999851226807, 2.540800094604492, 2.5234999656677246, 2.5153000354766846, 2.484800100326538, 2.454900026321411, 2.4126999378204346, 2.4042000770568848, 2.382499933242798, 2.3194000720977783, 2.301300048828125, 2.287400007247925, 2.2590999603271484, 2.1022000312805176, 2.0420000553131104, 2.0381999015808105, 1.9337999820709229, 1.5925999879837036, 1.5949000120162964, 1.7304999828338623, 0.8586000204086304, 1.2868000268936157, 1.8760000467300415, 2.0922000408172607, 0.6718000173568726, 1.246000051498413, 1.6162999868392944, 1.8969000577926636, 0.5354999899864197, 1.6898000240325928, 1.2237999439239502, 0.5561000108718872, 0.6967999935150146, 1.4416999816894531, 1.2594000101089478, 1.2411999702453613, 1.2585999965667725, 1.2819000482559204, 0.36559998989105225, -0.12929999828338623, 0.7584999799728394, 0.5630000233650208, 1.0830999612808228, 0.41690000891685486, 3.300299882888794, 2.9170000553131104, 2.8861000537872314, 2.742300033569336, 2.6751999855041504, 2.6598000526428223, 2.6098999977111816, 2.600800037384033, 2.600399971008301, 2.587899923324585, 2.57069993019104, 2.543800115585327, 2.525599956512451, 2.476300001144409, 2.4565999507904053, 2.4277000427246094, 2.402100086212158, 2.396899938583374, 2.3922998905181885, 2.3757998943328857, 2.3427999019622803, 2.3420000076293945, 2.3285000324249268, 2.3264000415802, 2.3264000415802, 2.3261001110076904, 2.321700096130371, 2.3210999965667725, 2.3131000995635986, 2.3048999309539795, 2.2973999977111816, 2.2620999813079834, 2.276599884033203, 2.1605000495910645, 2.262700080871582, 2.1946001052856445, 2.204200029373169, 2.236299991607666, 2.1967999935150146, 1.823099970817566, 1.2798999547958374, 1.7237000465393066, 1.8861000537872314, 1.617400050163269, 1.1517000198364258, 1.6438000202178955, 0.7839000225067139, 1.7359000444412231, 1.468999981880188, 1.4625999927520752, 1.4407000541687012, 0.8439000248908997, 1.2034000158309937, 0.3716999888420105, 0.8443999886512756, 0.8544999957084656, 1.2731000185012817, 0.5976999998092651, 0.7178000211715698, 0.8093000054359436, 1.1074999570846558, 0.862500011920929, 0.2621999979019165, 3.2437000274658203, 3.0706000328063965, 2.992799997329712, 2.9820001125335693, 2.9600000381469727, 2.9328999519348145, 2.9219000339508057, 2.852299928665161, 2.8461999893188477, 2.841599941253662, 2.839900016784668, 2.804800033569336, 2.795300006866455, 2.753499984741211, 2.744999885559082, 2.7332000732421875, 2.728100061416626, 2.708899974822998, 2.694000005722046, 2.659600019454956, 2.6282999515533447, 2.598900079727173, 2.5945000648498535, 2.586400032043457, 2.5813000202178955, 2.5662999153137207, 2.55430006980896, 2.5525999069213867, 2.524600028991699, 2.5208001136779785, 2.515000104904175, 2.5160999298095703, 2.4089999198913574, 2.3682000637054443, 2.3838999271392822, 2.3331000804901123, 2.472599983215332, 2.314500093460083, 2.4386000633239746, 2.20169997215271, 2.0332000255584717, 1.7071000337600708, 1.8209999799728394, 1.8818000555038452, 0.6547999978065491, 1.4311000108718872, 1.9345999956130981, 1.7877000570297241, 0.8235999941825867, 1.1217000484466553, 1.4757000207901, 1.0226999521255493, 0.9381999969482422, 1.4627000093460083, 1.1541999578475952, 0.43700000643730164, 0.7591999769210815, 0.42149999737739563, 1.0190000534057617, 0.2687000036239624, 3.2007999420166016, 3.158900022506714, 3.088399887084961, 3.039099931716919, 2.960700035095215, 2.9154000282287598, 2.9098000526428223, 2.8654000759124756, 2.835400104522705, 2.82450008392334, 2.8052000999450684, 2.7795000076293945, 2.704900026321411, 2.703000068664551, 2.6717000007629395, 2.6596999168395996, 2.6398000717163086, 2.6338999271392822, 2.609999895095825, 2.5861001014709473, 2.577500104904175, 2.5499000549316406, 2.5469000339508057, 2.546799898147583, 2.5441999435424805, 2.525099992752075, 2.515199899673462, 2.505500078201294, 2.500200033187866, 2.4997000694274902, 2.498300075531006, 2.4260001182556152, 2.1821000576019287, 2.285399913787842, 2.2109999656677246, 2.3603999614715576, 2.367300033569336, 2.2367000579833984, 1.8641999959945679, 2.183000087738037, 1.1986000537872314, 1.260599970817566, 1.1776000261306763, 1.76010000705719, 1.176200032234192, 0.48910000920295715, 1.0994999408721924, 0.8058000206947327, 0.7505000233650208, 1.132200002670288, -0.03530000150203705, 1.2503000497817993, 1.6670000553131104, 0.927299976348877, 0.7135999798774719, 1.218400001525879, 1.3969000577926636, 3.6048998832702637, 3.462399959564209, 3.3982999324798584, 3.3331000804901123, 3.3243000507354736, 3.3055999279022217, 3.2147998809814453, 3.1347999572753906, 2.9788999557495117, 2.901700019836426, 2.842600107192993, 2.833899974822998, 2.8296000957489014, 2.8053998947143555, 2.7685999870300293, 2.745800018310547, 2.740600109100342, 2.719899892807007, 2.6977999210357666, 2.6617000102996826, 2.65120005607605, 2.63919997215271, 2.633500099182129, 2.614799976348877, 2.6050000190734863, 2.598299980163574, 2.5897998809814453, 2.585599899291992, 2.5836000442504883, 2.5761001110076904, 2.4330999851226807, 2.5339999198913574, 2.2720000743865967, 2.1015000343322754, 1.9686000347137451, 1.6871000528335571, 1.8055000305175781, 1.8528000116348267, 1.4646999835968018, 2.1217000484466553, 1.472599983215332, 1.1166000366210938, 2.062000036239624, 2.0030999183654785, 1.8940999507904053, 0.864799976348877, 1.436900019645691, 1.1325000524520874, 0.5895000100135803, 1.092900037765503, 1.3341000080108643, 0.39910000562667847, 3.440200090408325, 3.4302000999450684, 3.4207000732421875, 3.199700117111206, 3.113600015640259, 2.9839999675750732, 2.982100009918213, 2.9704999923706055, 2.950200080871582, 2.949700117111206, 2.8396999835968018, 2.793100118637085, 2.7084999084472656, 2.7016000747680664, 2.6903998851776123, 2.6881000995635986, 2.684999942779541, 2.658799886703491, 2.6540000438690186, 2.6273000240325928, 2.612799882888794, 2.6117000579833984, 2.6008999347686768, 2.595099925994873, 2.5676000118255615, 2.547499895095825, 2.540299892425537, 2.535799980163574, 2.5344998836517334, 2.5336999893188477, 2.5092999935150146, 2.5016000270843506, 2.477799892425537, 2.4440999031066895, 2.33270001411438, 2.3612000942230225, 2.471400022506714, 2.429500102996826, 2.339900016784668, 2.3675999641418457, 2.1556999683380127, 2.1921000480651855, 2.0908000469207764, 1.941499948501587, 1.8772000074386597, 1.9127000570297241, 1.023800015449524, 1.7858999967575073, 1.9019999504089355, 1.5851000547409058, 1.3819999694824219, 1.4383000135421753, 2.0311999320983887, 0.8539999723434448, 1.1145000457763672, 1.4278000593185425, 0.6353999972343445, 1.9972000122070312, 0.35269999504089355, 1.2907999753952026, 1.0583000183105469, 0.4596000015735626, -0.20980000495910645, 0.37700000405311584, 3.259700059890747, 3.200000047683716, 3.1754000186920166, 3.167799949645996, 3.150599956512451, 3.089099884033203, 3.0429000854492188, 2.971100091934204, 2.8849000930786133, 2.87280011177063, 2.8345999717712402, 2.8341000080108643, 2.8101000785827637, 2.7983999252319336, 2.787600040435791, 2.7874999046325684, 2.785599946975708, 2.7781999111175537, 2.7625999450683594, 2.7560999393463135, 2.7537999153137207, 2.7534000873565674, 2.751699924468994, 2.7346999645233154, 2.7346999645233154, 2.7300000190734863, 2.7295000553131104, 2.7279999256134033, 2.726099967956543, 2.7209999561309814, 2.7207999229431152, 2.687700033187866, 2.5864999294281006, 2.675600051879883, 2.384500026702881, 2.3417999744415283, 2.5134999752044678, 2.5332000255584717, 2.3113999366760254, 2.4700000286102295, 2.22979998588562, 2.200200080871582, 2.1844000816345215, 1.9954999685287476, 2.3329999446868896, 2.3369998931884766, 2.3111000061035156, 1.610700011253357, 2.3069000244140625, 2.2588000297546387, 1.8473999500274658, 1.8920999765396118, 1.5436999797821045, 1.8575999736785889, 1.419100046157837, 0.6140000224113464, 1.6217000484466553, 0.8443999886512756, 1.4426000118255615, 1.2375999689102173, 1.100100040435791, 1.1050000190734863, 0.8640999794006348, 3.838599920272827, 3.836899995803833, 3.8368000984191895, 3.8366000652313232, 3.8366000652313232, 3.8350000381469727, 3.83270001411438, 3.8306000232696533, 3.8289999961853027, 3.828900098800659, 3.8280999660491943, 3.828000068664551, 3.8269999027252197, 3.8264999389648438, 3.826200008392334, 3.825700044631958, 3.8232998847961426, 3.8229000568389893, 3.8229000568389893, 3.7797000408172607, 3.4932000637054443, 3.4888999462127686, 3.375, 3.358099937438965, 3.2455999851226807, 3.1679999828338623, 3.1119000911712646, 3.0481998920440674, 3.0208001136779785, 2.9707999229431152, 2.9514000415802, 2.962599992752075, 2.777600049972534, 2.322000026702881, 1.8149000406265259, 2.2909998893737793, 1.183500051498413, 1.6536999940872192, 1.4746999740600586, 1.264299988746643, 1.4802000522613525, 1.9401999711990356, 0.029500000178813934, 1.8221999406814575, 2.004199981689453, 1.9215999841690063, 2.3164000511169434, 2.4386000633239746, 0.38370001316070557, 1.2740000486373901, 1.4778000116348267, 4.098899841308594, 3.7832000255584717, 3.560699939727783, 3.478100061416626, 3.4730000495910645, 3.46589994430542, 3.4477999210357666, 3.3929998874664307, 3.3831000328063965, 3.3543999195098877, 3.352299928665161, 3.351900100708008, 3.3399999141693115, 3.3331000804901123, 3.321700096130371, 3.300800085067749, 3.2904999256134033, 3.2892000675201416, 3.2867000102996826, 3.265399932861328, 3.260200023651123, 3.2009999752044678, 3.199899911880493, 3.1498000621795654, 3.1445999145507812, 3.137399911880493, 3.081899881362915, 3.0597000122070312, 3.032900094985962, 3.00819993019104, 2.6700000762939453, 2.7644999027252197, 2.829900026321411, 2.7018001079559326, 2.08489990234375, 2.5736000537872314, 2.6382999420166016, 2.3777999877929688, 2.574700117111206, 1.7269999980926514, 2.463399887084961, 1.5982999801635742, 2.34089994430542, 2.0973000526428223, 1.1746000051498413, 1.8762999773025513, 1.8708000183105469, 0.9550999999046326, 1.8249000310897827, 1.223099946975708, 1.1718000173568726, 1.4948999881744385, 1.8420000076293945, 4.8993000984191895, 4.754700183868408, 4.230199813842773, 4.1946001052856445, 4.164999961853027, 4.152599811553955, 4.139699935913086, 3.8921000957489014, 3.8666999340057373, 3.7909998893737793, 3.655900001525879, 3.646199941635132, 3.644700050354004, 3.5689001083374023, 3.5060999393463135, 3.4038000106811523, 3.3968000411987305, 3.3649001121520996, 3.293600082397461, 3.2585999965667725, 3.2565999031066895, 3.2309999465942383, 3.200000047683716, 3.1810998916625977, 3.110100030899048, 3.101799964904785, 3.093600034713745, 3.048099994659424, 3.0272998809814453, 3.0085999965667725, 2.260200023651123, 2.2588999271392822, 2.4423000812530518, 2.3148999214172363, 2.9935998916625977, 1.9872000217437744, 2.013000011444092, 2.1926000118255615, 1.381700038909912, 1.6032999753952026, 2.603800058364868, 0.7973999977111816, 0.8952000141143799, 0.8446999788284302, 2.424999952316284, 1.1467000246047974, 2.268899917602539, 2.2502999305725098, 2.1210999488830566, 1.44760000705719, 2.184999942779541, 1.8082000017166138, 1.888800024986267], \"logprob\": [30.0, 29.0, 28.0, 27.0, 26.0, 25.0, 24.0, 23.0, 22.0, 21.0, 20.0, 19.0, 18.0, 17.0, 16.0, 15.0, 14.0, 13.0, 12.0, 11.0, 10.0, 9.0, 8.0, 7.0, 6.0, 5.0, 4.0, 3.0, 2.0, 1.0, -6.9045000076293945, -7.137899875640869, -6.759699821472168, -7.156400203704834, -7.161499977111816, -5.81220006942749, -6.491499900817871, -7.440700054168701, -7.173799991607666, -7.450300216674805, -6.785200119018555, -7.178599834442139, -6.114500045776367, -7.182199954986572, -7.458000183105469, -6.5142998695373535, -6.983799934387207, -7.473800182342529, -7.202700138092041, -6.9878997802734375, -7.4770002365112305, -7.4770002365112305, -6.993199825286865, -7.483099937438965, -7.484499931335449, -6.8277997970581055, -7.489500045776367, -7.212399959564209, -7.4953999519348145, -6.573599815368652, -5.71619987487793, -6.563700199127197, -6.481400012969971, -5.728499889373779, -6.6244001388549805, -6.452600002288818, -5.680799961090088, -5.734300136566162, -6.825699806213379, -6.1554999351501465, -6.737400054931641, -5.244999885559082, -6.0071001052856445, -6.316800117492676, -6.637599945068359, -5.809599876403809, -5.72760009765625, -6.514999866485596, -5.043900012969971, -5.691100120544434, -6.450300216674805, -5.868599891662598, -5.754300117492676, -5.668499946594238, -5.79640007019043, -5.94980001449585, -5.7677998542785645, -5.351200103759766, -5.701900005340576, -5.201600074768066, -5.30079984664917, -5.133500099182129, -5.69290018081665, -5.570899963378906, -5.485599994659424, -5.906599998474121, -5.787099838256836, -6.075900077819824, -5.717100143432617, -5.637199878692627, -5.610799789428711, -5.643599987030029, -5.812099933624268, -5.817200183868408, -5.843400001525879, -5.964799880981445, -5.573400020599365, -6.935400009155273, -6.946100234985352, -6.954899787902832, -6.9704999923706055, -6.704699993133545, -6.9969000816345215, -7.005499839782715, -6.531400203704834, -5.889500141143799, -6.226600170135498, -6.092100143432617, -7.07390022277832, -6.455999851226807, -5.856400012969971, -7.109899997711182, -6.878499984741211, -7.10890007019043, -6.864699840545654, -6.177000045776367, -6.216100215911865, -7.138400077819824, -6.8927001953125, -6.497200012207031, -6.5177998542785645, -6.915500164031982, -6.92549991607666, -6.923500061035156, -7.21150016784668, -5.192699909210205, -6.202499866485596, -5.487299919128418, -5.828999996185303, -6.285299777984619, -6.286600112915039, -6.220900058746338, -6.479100227355957, -6.389699935913086, -5.1149001121521, -5.827000141143799, -5.561200141906738, -5.092400074005127, -5.5507001876831055, -6.0177001953125, -4.713200092315674, -5.8206000328063965, -5.95989990234375, -5.643899917602539, -5.161499977111816, -5.223400115966797, -6.033100128173828, -5.642199993133545, -5.316299915313721, -5.418099880218506, -5.295599937438965, -5.603099822998047, -5.837399959564209, -5.742700099945068, -5.491700172424316, -5.34660005569458, -5.399899959564209, -5.560299873352051, -5.481100082397461, -5.637700080871582, -5.632199764251709, -5.692299842834473, -5.796000003814697, -5.79610013961792, -5.802999973297119, -5.808700084686279, -5.806700229644775, -6.494100093841553, -6.124499797821045, -6.787099838256836, -6.799699783325195, -6.318299770355225, -6.801300048828125, -6.005199909210205, -6.839099884033203, -5.455599784851074, -6.894400119781494, -6.307499885559082, -6.3460001945495605, -6.559199810028076, -4.922500133514404, -6.369800090789795, -6.800600051879883, -6.835400104522705, -7.101200103759766, -6.815800189971924, -6.587500095367432, -5.294600009918213, -7.173600196838379, -6.497700214385986, -7.15310001373291, -7.198999881744385, -6.145599842071533, -5.197500228881836, -5.693299770355225, -7.218100070953369, -7.254899978637695, -6.573599815368652, -6.229499816894531, -5.778600215911865, -5.113100051879883, -5.232900142669678, -5.468699932098389, -5.730500221252441, -5.170199871063232, -6.082900047302246, -6.086599826812744, -5.934599876403809, -5.091000080108643, -5.398799896240234, -5.3206000328063965, -4.880099773406982, -5.662199974060059, -5.992300033569336, -5.332900047302246, -5.49370002746582, -5.480100154876709, -5.603400230407715, -5.561800003051758, -5.476099967956543, -5.693699836730957, -5.446100234985352, -5.481100082397461, -5.549099922180176, -5.418799877166748, -5.457600116729736, -5.516300201416016, -5.769899845123291, -5.706900119781494, -6.752799987792969, -6.75600004196167, -6.281000137329102, -6.115799903869629, -6.514599800109863, -6.822000026702881, -6.834499835968018, -6.83650016784668, -6.84689998626709, -6.059000015258789, -6.58519983291626, -6.870800018310547, -6.9182000160217285, -6.1219000816345215, -6.112100124359131, -5.88700008392334, -6.960700035095215, -6.666500091552734, -6.303999900817871, -5.361400127410889, -5.623600006103516, -6.491499900817871, -5.665599822998047, -6.518599987030029, -6.237500190734863, -6.7565999031066895, -6.383699893951416, -6.818699836730957, -6.575500011444092, -7.0696001052856445, -6.42710018157959, -6.162399768829346, -5.665500164031982, -5.335299968719482, -6.295499801635742, -6.139400005340576, -5.82390022277832, -5.719099998474121, -4.831900119781494, -5.934700012207031, -6.043900012969971, -5.7972002029418945, -6.112400054931641, -5.355299949645996, -6.028600215911865, -5.492300033569336, -4.7357001304626465, -5.416299819946289, -5.217299938201904, -5.315000057220459, -5.110400199890137, -4.878600120544434, -5.398499965667725, -5.488399982452393, -5.210000038146973, -4.986299991607666, -5.094399929046631, -5.237800121307373, -5.533299922943115, -5.305300235748291, -5.316699981689453, -5.693299770355225, -5.493800163269043, -5.490300178527832, -5.725500106811523, -5.605599880218506, -5.712699890136719, -5.691699981689453, -6.206900119781494, -6.503300189971924, -6.546599864959717, -4.8221001625061035, -5.802000045776367, -6.6143999099731445, -6.392199993133545, -6.179599761962891, -5.641300201416016, -6.059599876403809, -5.416900157928467, -6.260499954223633, -6.492199897766113, -6.503699779510498, -6.280799865722656, -6.3043999671936035, -5.872099876403809, -6.861800193786621, -6.578800201416016, -6.886899948120117, -6.876800060272217, -6.599699974060059, -6.599899768829346, -6.6118998527526855, -6.59499979019165, -6.89169979095459, -6.862500190734863, -6.2459001541137695, -6.891600131988525, -6.6691999435424805, -6.455100059509277, -6.447000026702881, -5.228099822998047, -6.04610013961792, -5.242599964141846, -5.275000095367432, -5.060400009155273, -5.83050012588501, -5.779699802398682, -5.111000061035156, -5.009799957275391, -5.559899806976318, -5.8420000076293945, -5.985099792480469, -5.793399810791016, -5.074399948120117, -4.60699987411499, -4.974800109863281, -5.454800128936768, -4.976099967956543, -5.171000003814697, -5.0879998207092285, -5.128699779510498, -5.390399932861328, -5.435100078582764, -5.172399997711182, -5.0858001708984375, -5.05079984664917, -5.5055999755859375, -5.040500164031982, -5.197700023651123, -5.572700023651123, -5.335599899291992, -5.545300006866455, -5.467299938201904, -5.578199863433838, -6.4629998207092285, -6.01140022277832, -6.863699913024902, -6.473999977111816, -6.487100124359131, -5.826000213623047, -5.227200031280518, -6.006100177764893, -6.850399971008301, -6.8850998878479, -6.889800071716309, -6.85230016708374, -6.935999870300293, -5.811600208282471, -6.892499923706055, -6.891900062561035, -6.930699825286865, -6.22599983215332, -6.415999889373779, -6.914899826049805, -6.643199920654297, -6.527100086212158, -6.923999786376953, -6.944399833679199, -6.332600116729736, -5.827000141143799, -5.639800071716309, -6.194900035858154, -6.570499897003174, -6.070499897003174, -5.198599815368652, -5.142000198364258, -6.0117998123168945, -5.421800136566162, -5.797100067138672, -6.3607001304626465, -5.492800235748291, -4.0802001953125, -5.738699913024902, -5.912399768829346, -6.0152997970581055, -5.722499847412109, -5.898399829864502, -5.595900058746338, -5.809999942779541, -5.84089994430542, -5.289400100708008, -5.744699954986572, -5.502399921417236, -4.906199932098389, -5.305600166320801, -5.34630012512207, -5.742499828338623, -5.1269001960754395, -5.175099849700928, -5.513299942016602, -5.203100204467773, -5.47790002822876, -5.335999965667725, -5.633900165557861, -5.651800155639648, -5.545499801635742, -5.510499954223633, -5.527599811553955, -5.636099815368652, -5.657100200653076, -5.626200199127197, -5.6458001136779785, -5.6367998123168945, -5.645899772644043, -5.645500183105469, -6.342800140380859, -6.105199813842773, -5.747300148010254, -5.930099964141846, -5.652299880981445, -5.843299865722656, -6.475399971008301, -6.226900100708008, -6.5269999504089355, -6.031899929046631, -5.927800178527832, -6.285200119018555, -6.59499979019165, -6.3445000648498535, -5.845699787139893, -6.652699947357178, -6.662700176239014, -6.42549991607666, -6.27269983291626, -4.610400199890137, -5.894100189208984, -5.716400146484375, -6.725900173187256, -6.728099822998047, -5.267499923706055, -6.759300231933594, -5.517600059509277, -6.48829984664917, -6.73390007019043, -6.78249979019165, -6.137700080871582, -6.556000232696533, -4.412899971008301, -6.152500152587891, -6.3308000564575195, -5.485400199890137, -5.980500221252441, -5.597099781036377, -5.014500141143799, -5.456500053405762, -5.405099868774414, -5.541999816894531, -5.604499816894531, -5.130199909210205, -5.623199939727783, -5.787499904632568, -5.837800025939941, -5.422399997711182, -5.3394999504089355, -5.2530999183654785, -5.316400051116943, -5.147500038146973, -5.668099880218506, -5.229100227355957, -5.572400093078613, -5.229300022125244, -5.478700160980225, -5.373700141906738, -5.475800037384033, -5.535399913787842, -5.61359977722168, -5.622700214385986, -5.567699909210205, -5.642499923706055, -5.631800174713135, -5.630000114440918, -5.7428998947143555, -5.987800121307373, -5.975299835205078, -6.121099948883057, -6.448599815368652, -6.416399955749512, -5.302700042724609, -6.491700172424316, -6.03380012512207, -4.877699851989746, -6.045199871063232, -6.098700046539307, -5.756999969482422, -6.366300106048584, -5.69320011138916, -6.4079999923706055, -6.599299907684326, -5.602099895477295, -5.95959997177124, -5.813499927520752, -5.4166998863220215, -6.154799938201904, -6.450300216674805, -5.016900062561035, -6.447400093078613, -5.33050012588501, -6.439499855041504, -5.215400218963623, -6.535799980163574, -6.372799873352051, -5.416500091552734, -4.636000156402588, -5.18779993057251, -5.284800052642822, -5.47629976272583, -5.551799774169922, -5.440400123596191, -5.6041998863220215, -5.455599784851074, -4.921000003814697, -5.479700088500977, -5.452700138092041, -5.416299819946289, -5.005099773406982, -5.130000114440918, -5.359099864959717, -4.821899890899658, -5.235300064086914, -5.00029993057251, -5.367099761962891, -5.440100193023682, -5.425300121307373, -5.383999824523926, -5.488399982452393, -5.4253997802734375, -5.4969000816345215, -5.383600234985352, -5.884399890899658, -5.894800186157227, -5.900100231170654, -5.910299777984619, -5.910200119018555, -5.665299892425537, -5.678299903869629, -5.308899879455566, -6.187699794769287, -5.948800086975098, -5.467100143432617, -6.007500171661377, -5.996500015258789, -5.968299865722656, -6.294400215148926, -6.260700225830078, -6.244200229644775, -6.290599822998047, -6.2891998291015625, -6.2916998863220215, -5.879899978637695, -5.349299907684326, -4.901000022888184, -6.260499954223633, -6.098499774932861, -4.531400203704834, -4.240200042724609, -6.301300048828125, -6.291299819946289, -5.015600204467773, -4.440100193023682, -5.4791998863220215, -5.186500072479248, -4.731500148773193, -5.046899795532227, -5.591899871826172, -4.647200107574463, -4.640600204467773, -5.212900161743164, -4.705399990081787, -4.453800201416016, -4.645699977874756, -5.418000221252441, -5.601399898529053, -5.494699954986572, -5.314199924468994, -5.2469000816345215, -5.105800151824951, -5.036900043487549, -5.298699855804443, -5.2307000160217285, -5.4653000831604, -5.375500202178955, -5.368100166320801, -5.437600135803223, -5.446400165557861, -5.910900115966797, -5.560200214385986, -6.010300159454346, -6.079999923706055, -3.904099941253662, -6.105800151824951, -5.873600006103516, -6.384799957275391, -5.720600128173828, -6.441999912261963, -6.466700077056885, -6.458700180053711, -6.420899868011475, -6.439499855041504, -6.440199851989746, -6.439700126647949, -6.4421000480651855, -6.437399864196777, -6.4421000480651855, -6.4421000480651855, -6.44189977645874, -6.440700054168701, -5.82919979095459, -6.466400146484375, -6.4421000480651855, -5.313600063323975, -6.463399887084961, -6.480299949645996, -5.82420015335083, -6.2530999183654785, -5.837800025939941, -6.060200214385986, -4.913700103759766, -5.521200180053711, -5.445899963378906, -5.174099922180176, -5.4583001136779785, -5.047399997711182, -5.124000072479248, -5.314199924468994, -5.629300117492676, -6.041900157928467, -5.2322998046875, -5.38539981842041, -4.892199993133545, -4.915999889373779, -5.8144001960754395, -5.253499984741211, -4.83050012588501, -5.17110013961792, -5.243899822235107, -5.12060022354126, -5.160099983215332, -5.137199878692627, -5.5329999923706055, -5.441999912261963, -5.480800151824951, -5.494200229644775, -5.592700004577637, -5.583099842071533, -5.541900157928467, -5.606200218200684, -5.97160005569458, -6.020999908447266, -6.055699825286865, -5.120100021362305, -6.027500152587891, -5.9953999519348145, -5.988500118255615, -6.354499816894531, -6.396200180053711, -6.36269998550415, -6.40939998626709, -6.362400054931641, -6.438300132751465, -5.13640022277832, -6.5447998046875, -6.048500061035156, -4.841599941253662, -6.286099910736084, -6.607600212097168, -6.292600154876709, -6.342199802398682, -5.7718000411987305, -6.609799861907959, -6.019199848175049, -6.398099899291992, -6.394199848175049, -6.709000110626221, -5.531199932098389, -6.298699855804443, -6.787300109863281, -6.349100112915039, -5.70389986038208, -5.29580020904541, -5.315299987792969, -5.655600070953369, -5.532599925994873, -5.013000011444092, -5.164999961853027, -5.3653998374938965, -4.385900020599365, -5.063499927520752, -5.743899822235107, -5.932700157165527, -4.922500133514404, -5.330699920654297, -5.615600109100342, -5.802700042724609, -4.952400207519531, -5.681399822235107, -5.426700115203857, -5.127299785614014, -5.260499954223633, -5.5802001953125, -5.510000228881836, -5.546000003814697, -5.570000171661377, -5.593999862670898, -5.38129997253418, -5.2778000831604, -5.5320000648498535, -5.589399814605713, -5.64709997177124, -5.630499839782715, -5.753499984741211, -6.120500087738037, -5.076099872589111, -5.447800159454346, -6.091700077056885, -6.143599987030029, -6.149600028991699, -6.2133002281188965, -5.768199920654297, -5.513700008392334, -6.169000148773193, -4.816699981689453, -6.222700119018555, -5.485499858856201, -5.792200088500977, -6.190400123596191, -6.143599987030029, -6.167799949645996, -6.147799968719482, -5.638199806213379, -6.80109977722168, -6.198500156402588, -6.820700168609619, -6.745200157165527, -6.69950008392334, -6.754199981689453, -6.7357001304626465, -6.848299980163574, -6.792099952697754, -6.745200157165527, -5.683599948883057, -5.338500022888184, -6.083399772644043, -5.060500144958496, -6.1219000816345215, -5.6757001876831055, -5.75439977645874, -6.091599941253662, -6.1859002113342285, -5.000999927520752, -4.088699817657471, -5.132599830627441, -5.425000190734863, -5.1143999099731445, -4.531799793243408, -5.270100116729736, -4.364500045776367, -5.421599864959717, -5.19320011138916, -5.291399955749512, -5.328700065612793, -4.940499782562256, -5.218500137329102, -4.97760009765625, -5.200699806213379, -5.239099979400635, -5.4096999168396, -5.24970006942749, -5.327499866485596, -5.405900001525879, -5.467800140380859, -5.454800128936768, -5.458799839019775, -4.288099765777588, -5.463600158691406, -4.895400047302246, -5.100100040435791, -5.79449987411499, -6.1528000831604, -6.146299839019775, -6.173399925231934, -4.935699939727783, -5.712800025939941, -5.929200172424316, -6.221399784088135, -6.2540998458862305, -6.275100231170654, -5.494900226593018, -4.9670000076293945, -6.051199913024902, -5.255499839782715, -5.672699928283691, -6.136199951171875, -6.134699821472168, -6.158299922943115, -6.218500137329102, -6.193900108337402, -5.940899848937988, -6.229599952697754, -5.861599922180176, -5.787799835205078, -6.013500213623047, -6.262199878692627, -5.356900215148926, -5.75570011138916, -4.771900177001953, -5.232399940490723, -5.336699962615967, -5.275300025939941, -5.759300231933594, -5.568699836730957, -5.807300090789795, -5.570899963378906, -5.382400035858154, -5.066999912261963, -5.260300159454346, -5.34060001373291, -4.49370002746582, -5.087500095367432, -5.455900192260742, -5.392300128936768, -4.859799861907959, -5.030799865722656, -5.372499942779541, -5.213399887084961, -5.208799839019775, -5.393700122833252, -5.336400032043457, -5.267399787902832, -5.334400177001953, -5.299499988555908, -5.38129997253418, -5.449900150299072, -5.651500225067139, -6.030900001525879, -5.3196001052856445, -5.805600166320801, -6.162499904632568, -5.7546000480651855, -4.655600070953369, -5.6178998947143555, -5.999800205230713, -6.0584001541137695, -5.674300193786621, -6.044300079345703, -5.484499931335449, -5.906799793243408, -5.626299858093262, -5.761000156402588, -6.4145002365112305, -5.997700214385986, -6.145500183105469, -6.571800231933594, -6.230000019073486, -6.057199954986572, -4.65910005569458, -5.628399848937988, -4.963500022888184, -6.075900077819824, -6.037899971008301, -6.088399887084961, -4.976399898529053, -6.310200214385986, -6.142300128936768, -5.557600021362305, -4.266600131988525, -4.926000118255615, -4.710000038146973, -5.563600063323975, -5.653600215911865, -5.59089994430542, -5.128300189971924, -5.572400093078613, -4.996799945831299, -5.056700229644775, -5.041999816894531, -5.428899765014648, -5.127799987792969, -4.860099792480469, -5.201900005340576, -5.14739990234375, -5.146500110626221, -5.35699987411499, -5.183700084686279, -5.444699764251709, -5.512199878692627, -5.46120023727417, -5.499000072479248, -5.541200160980225, -5.549200057983398, -5.5121002197265625, -5.148399829864502, -4.7835001945495605, -5.769800186157227, -3.830699920654297, -5.51609992980957, -5.913899898529053, -5.960000038146973, -4.80810022354126, -5.735000133514404, -5.788300037384033, -6.2947998046875, -5.000699996948242, -5.842199802398682, -6.010900020599365, -5.6528000831604, -6.013400077819824, -5.534800052642822, -5.331099987030029, -5.954899787902832, -5.828400135040283, -6.435100078582764, -4.743199825286865, -5.838099956512451, -5.570199966430664, -5.844699859619141, -4.560999870300293, -6.5304999351501465, -5.697800159454346, -6.5304999351501465, -4.531099796295166, -6.1230998039245605, -5.3755998611450195, -5.075799942016602, -4.934199810028076, -4.638999938964844, -4.826300144195557, -5.011499881744385, -4.712900161743164, -5.426400184631348, -5.084099769592285, -4.928500175476074, -5.4583001136779785, -5.45419979095459, -5.4430999755859375, -5.088399887084961, -5.345699787139893, -5.357999801635742, -5.367800235748291, -5.483799934387207, -5.498700141906738, -5.497900009155273, -5.485400199890137, -4.249000072479248, -5.518499851226807, -5.488800048828125, -4.533899784088135, -5.532299995422363, -5.882800102233887, -6.158999919891357, -5.8892998695373535, -5.353700160980225, -5.795400142669678, -6.059100151062012, -5.909800052642822, -6.122200012207031, -5.844600200653076, -5.882500171661377, -5.9182000160217285, -5.972899913787842, -6.535799980163574, -6.482699871063232, -6.50570011138916, -5.712900161743164, -6.535699844360352, -6.604400157928467, -6.593400001525879, -6.577600002288818, -6.520100116729736, -6.573200225830078, -5.928599834442139, -6.242199897766113, -5.313700199127197, -5.730299949645996, -5.695799827575684, -5.605400085449219, -4.888400077819824, -5.139800071716309, -5.822000026702881, -5.905099868774414, -5.679200172424316, -5.812600135803223, -5.302700042724609, -5.459099769592285, -5.278299808502197, -5.032700061798096, -4.988900184631348, -5.1479997634887695, -4.220699787139893, -5.195799827575684, -5.3094000816345215, -5.065400123596191, -4.968400001525879, -5.05079984664917, -5.476399898529053, -4.871300220489502, -5.111000061035156, -5.258800029754639, -4.958799839019775, -5.503399848937988, -4.996500015258789, -5.294899940490723, -5.304299831390381, -5.35860013961792, -5.35830020904541, -5.436999797821045, -4.741499900817871, -5.028200149536133, -5.690299987792969, -5.698699951171875, -4.7846999168396, -4.991199970245361, -5.260900020599365, -5.685999870300293, -5.257699966430664, -5.745299816131592, -6.37470006942749, -6.349899768829346, -6.359099864959717, -6.370999813079834, -6.322800159454346, -6.342899799346924, -6.3516998291015625, -6.3541998863220215, -6.351099967956543, -6.345900058746338, -6.352099895477295, -5.276400089263916, -6.351799964904785, -6.345900058746338, -6.351600170135498, -6.383800029754639, -6.352200031280518, -6.358399868011475, -6.382400035858154, -6.384500026702881, -6.349899768829346, -5.263199806213379, -4.4328999519348145, -5.694300174713135, -5.075500011444092, -4.982999801635742, -5.646200180053711, -5.751100063323975, -5.281700134277344, -5.67710018157959, -5.239200115203857, -5.192299842834473, -5.247900009155273, -5.138299942016602, -5.653900146484375, -5.678100109100342, -5.6697998046875, -4.73960018157959, -5.6682000160217285, -5.611499786376953, -5.193999767303467, -5.249499797821045, -4.90749979019165, -5.268899917602539, -4.9070000648498535, -4.5345001220703125, -5.2399001121521, -4.876699924468994, -5.247499942779541, -5.184199810028076, -5.168099880218506, -5.1880998611450195, -5.181000232696533, -5.397600173950195, -5.399199962615967, -5.399499893188477, -5.3993000984191895, -5.399600028991699, -5.400700092315674, -5.4028000831604, -5.404600143432617, -5.405799865722656, -5.406000137329102, -5.406899929046631, -5.406400203704834, -5.407700061798096, -5.408400058746338, -5.408299922943115, -5.40910005569458, -5.410699844360352, -5.411200046539307, -5.411399841308594, -4.648499965667725, -5.41510009765625, -5.421199798583984, -5.2895002365112305, -5.526400089263916, -5.25439977645874, -5.239999771118164, -5.2342000007629395, -5.505000114440918, -6.121500015258789, -5.684199810028076, -5.3445000648498535, -5.670599937438965, -5.404200077056885, -4.813700199127197, -4.511300086975098, -4.928699970245361, -5.011899948120117, -5.105899810791016, -5.093100070953369, -5.082099914550781, -5.151599884033203, -5.240799903869629, -5.118899822235107, -5.262199878692627, -5.287700176239014, -5.3190999031066895, -5.35699987411499, -5.36899995803833, -5.3632001876831055, -5.388599872589111, -5.395500183105469, -3.876800060272217, -4.267399787902832, -5.559500217437744, -5.14870023727417, -3.3910999298095703, -4.22790002822876, -4.402400016784668, -5.214700222015381, -5.772500038146973, -5.458799839019775, -5.781799793243408, -5.77209997177124, -5.78249979019165, -5.780099868774414, -5.771900177001953, -5.78249979019165, -5.777699947357178, -5.78249979019165, -5.779399871826172, -5.094299793243408, -5.864799976348877, -5.089600086212158, -4.503900051116943, -5.862299919128418, -5.781000137329102, -5.969200134277344, -5.769999980926514, -5.779200077056885, -5.7804999351501465, -5.537300109863281, -3.891400098800659, -4.68720006942749, -5.197400093078613, -5.174300193786621, -4.422999858856201, -5.094299793243408, -5.176700115203857, -4.9456000328063965, -5.170000076293945, -4.457099914550781, -5.109899997711182, -4.6168999671936035, -5.159800052642822, -5.088600158691406, -4.672699928283691, -5.070000171661377, -5.0960001945495605, -4.728300094604492, -5.096700191497803, -5.012899875640869, -5.040800094604492, -5.136899948120117, -5.1596999168396, -3.943000078201294, -4.0630998611450195, -4.525300025939941, -5.0335001945495605, -5.0335001945495605, -5.035299777984619, -5.033999919891357, -5.038899898529053, -5.03410005569458, -5.0370001792907715, -5.035299777984619, -5.033400058746338, -5.021500110626221, -4.598400115966797, -5.028900146484375, -5.028800010681152, -5.028600215911865, -4.344399929046631, -5.034200191497803, -5.023600101470947, -5.024600028991699, -3.63319993019104, -4.670400142669678, -5.029799938201904, -5.033299922943115, -5.031199932098389, -5.035299777984619, -5.026100158691406, -5.021500110626221, -4.625400066375732, -4.316500186920166, -4.469799995422363, -4.759699821472168, -4.72629976272583, -5.009399890899658, -4.85290002822876, -4.860599994659424, -4.89169979095459, -4.813700199127197, -4.847899913787842, -4.95359992980957, -4.796800136566162, -4.823400020599365, -4.876399993896484, -4.965199947357178, -4.900700092315674, -4.971799850463867, -4.984300136566162, -4.983699798583984, -4.9807000160217285, -4.997900009155273, -4.994699954986572, -4.997799873352051]}, \"token.table\": {\"Topic\": [1, 2, 3, 4, 6, 7, 9, 10, 12, 13, 15, 17, 19, 1, 4, 4, 2, 10, 1, 2, 3, 5, 6, 7, 8, 11, 1, 6, 7, 9, 11, 12, 13, 15, 1, 2, 3, 4, 7, 8, 10, 12, 15, 3, 4, 5, 7, 1, 2, 3, 4, 5, 6, 8, 9, 10, 11, 12, 13, 14, 17, 18, 19, 5, 10, 6, 10, 1, 6, 12, 16, 4, 5, 9, 10, 11, 19, 1, 9, 4, 8, 10, 17, 13, 15, 16, 1, 2, 4, 5, 7, 8, 12, 2, 11, 12, 15, 16, 1, 11, 1, 8, 9, 12, 1, 2, 3, 7, 10, 17, 2, 1, 2, 3, 4, 6, 17, 18, 6, 10, 12, 2, 9, 12, 18, 3, 13, 3, 4, 6, 9, 13, 19, 13, 17, 1, 3, 5, 6, 7, 9, 10, 11, 12, 14, 16, 17, 18, 1, 2, 3, 4, 6, 7, 9, 12, 13, 17, 3, 8, 1, 2, 3, 4, 5, 7, 10, 13, 20, 6, 16, 19, 1, 3, 6, 11, 13, 14, 1, 2, 3, 4, 6, 7, 9, 10, 11, 12, 16, 6, 7, 16, 3, 4, 5, 7, 15, 17, 3, 9, 2, 8, 10, 14, 16, 17, 2, 6, 11, 13, 16, 1, 2, 5, 6, 7, 8, 14, 18, 1, 2, 3, 4, 5, 6, 7, 9, 10, 19, 5, 19, 4, 2, 11, 16, 20, 3, 5, 11, 1, 2, 3, 4, 5, 6, 7, 9, 11, 12, 13, 14, 15, 16, 17, 18, 4, 5, 10, 13, 15, 5, 11, 16, 17, 14, 18, 10, 12, 14, 1, 4, 9, 15, 18, 19, 18, 18, 2, 3, 4, 6, 7, 8, 9, 15, 5, 8, 1, 2, 3, 4, 5, 6, 7, 8, 9, 10, 11, 13, 14, 15, 1, 2, 3, 4, 5, 6, 7, 8, 11, 12, 13, 15, 17, 19, 3, 7, 3, 12, 17, 3, 11, 6, 13, 1, 5, 7, 10, 14, 9, 10, 2, 7, 17, 8, 10, 1, 2, 3, 4, 6, 7, 8, 9, 11, 13, 16, 20, 18, 8, 12, 2, 3, 6, 8, 11, 4, 9, 10, 11, 17, 1, 20, 1, 5, 12, 17, 1, 5, 6, 7, 1, 2, 3, 4, 5, 6, 7, 8, 9, 10, 11, 13, 15, 16, 17, 18, 19, 10, 13, 1, 5, 1, 1, 2, 3, 5, 7, 8, 9, 13, 15, 2, 10, 14, 5, 2, 1, 2, 12, 1, 2, 3, 4, 5, 6, 7, 8, 9, 10, 11, 12, 15, 4, 8, 12, 1, 2, 1, 4, 12, 14, 17, 3, 5, 7, 11, 14, 1, 3, 4, 6, 7, 8, 10, 16, 1, 2, 3, 6, 7, 10, 12, 16, 17, 18, 2, 9, 2, 4, 14, 18, 10, 17, 1, 5, 6, 1, 2, 3, 6, 13, 14, 1, 2, 3, 5, 8, 19, 1, 2, 3, 4, 5, 6, 7, 8, 9, 10, 12, 13, 14, 16, 17, 2, 6, 13, 1, 4, 1, 2, 4, 5, 6, 11, 12, 1, 3, 4, 8, 9, 11, 12, 13, 15, 4, 10, 4, 8, 13, 9, 10, 16, 2, 4, 10, 11, 2, 11, 2, 11, 2, 5, 1, 2, 3, 4, 5, 11, 13, 15, 16, 18, 2, 5, 10, 15, 1, 3, 4, 6, 7, 9, 10, 8, 12, 17, 2, 4, 8, 18, 6, 8, 17, 18, 2, 10, 1, 2, 3, 4, 15, 4, 6, 1, 2, 4, 6, 7, 10, 11, 12, 16, 18, 2, 9, 3, 11, 19, 1, 2, 13, 1, 2, 3, 4, 5, 6, 7, 8, 9, 10, 11, 12, 13, 14, 15, 16, 17, 18, 19, 1, 5, 1, 2, 3, 11, 13, 16, 19, 4, 8, 1, 1, 2, 5, 10, 13, 15, 16, 17, 18, 5, 12, 3, 5, 6, 7, 8, 13, 1, 3, 12, 20, 5, 14, 7, 10, 12, 1, 2, 3, 4, 5, 6, 7, 8, 9, 10, 12, 13, 14, 3, 5, 6, 10, 15, 5, 6, 1, 2, 3, 4, 14, 20, 1, 2, 3, 4, 5, 6, 8, 10, 11, 15, 3, 4, 1, 14, 1, 6, 7, 12, 17, 2, 6, 8, 12, 16, 1, 2, 3, 4, 5, 6, 10, 11, 13, 14, 15, 16, 5, 6, 9, 10, 11, 14, 16, 18, 4, 5, 9, 18, 1, 4, 8, 13, 15, 7, 9, 6, 11, 18, 2, 8, 10, 11, 13, 1, 2, 3, 9, 10, 11, 12, 13, 1, 4, 10, 13, 1, 2, 3, 4, 5, 6, 11, 12, 15, 19, 1, 2, 4, 7, 8, 9, 10, 11, 14, 3, 19, 1, 4, 6, 17, 6, 10, 13, 1, 2, 6, 20, 4, 12, 18, 6, 13, 2, 6, 1, 1, 2, 3, 4, 6, 8, 9, 10, 12, 14, 15, 16, 18, 13, 15, 6, 8, 12, 20, 8, 9, 16, 10, 11, 1, 5, 2, 13, 20, 4, 5, 7, 9, 20, 8, 11, 14, 9, 14, 15, 6, 19, 2, 9, 19, 1, 2, 3, 4, 5, 6, 8, 13, 14, 18, 20, 3, 5, 16, 1, 2, 3, 5, 8, 9, 11, 19, 2, 5, 4, 10, 5, 16, 19, 1, 2, 3, 4, 5, 6, 11, 12, 13, 7, 11, 17, 1, 9, 17, 3, 6, 11, 5, 6, 3, 13, 14, 8, 9, 14, 16, 17, 1, 2, 3, 4, 5, 6, 7, 8, 9, 10, 11, 12, 13, 14, 15, 16, 19, 20, 4, 9, 1, 5, 6, 13, 20, 11, 13, 1, 2, 3, 4, 5, 6, 7, 9, 10, 11, 12, 13, 15, 17, 19, 5, 13, 17, 1, 2, 3, 4, 5, 10, 11, 17, 1, 1, 2, 8, 3, 5, 12, 2, 5, 14, 3, 2, 6, 7, 12, 2, 4, 10, 11, 13, 17, 3, 8, 10, 12, 3, 2, 6, 14, 1, 5, 6, 11, 16, 1, 16, 18, 1, 2, 3, 4, 8, 9, 11, 12, 17, 18, 3, 8, 17, 2, 6, 1, 2, 3, 4, 5, 6, 7, 8, 9, 10, 11, 12, 13, 15, 16, 18, 1, 2, 3, 5, 6, 7, 8, 9, 10, 11, 14, 16, 1, 7, 1, 2, 3, 9, 13, 14, 17, 20, 2, 15, 17, 6, 1, 5, 6, 4, 17, 4, 9, 11, 13, 14, 1, 2, 3, 4, 6, 10, 11, 17, 18, 19, 3, 6, 2, 11, 11, 15, 3, 4, 6, 8, 9, 12, 18, 19, 18, 5, 18, 19, 2, 7, 18, 1, 2, 4, 10, 13, 1, 9, 2, 6, 14, 17, 5, 14, 15, 16, 2, 4, 7, 13, 1, 2, 3, 6, 1, 2, 5, 13, 2, 6, 10, 17, 9, 4, 8, 13, 16, 1, 2, 3, 7, 10, 3, 7, 10, 15, 19, 3, 4, 5, 8, 9, 16, 2, 7, 20, 1, 3, 11, 14, 15, 19, 1, 5, 7, 10, 2, 10, 15, 1, 3, 4, 8, 15, 4, 12, 4, 5, 6, 7, 15, 17, 1, 2, 6, 7, 11, 16, 1, 2, 3, 4, 6, 10, 11, 12, 13, 17, 1, 3, 4, 20, 5, 15, 1, 3, 5, 6, 7, 8, 9, 15, 3, 6, 16, 1, 2, 3, 5, 7, 8, 12, 16, 18, 3, 7, 15, 1, 2, 9, 11, 16, 17, 18, 4, 5, 4, 12, 1, 2, 3, 4, 5, 6, 7, 8, 10, 11, 12, 13, 15, 16, 17, 20, 1, 14, 3, 4, 5, 16, 8, 10, 12, 3, 9, 17, 7, 8, 19, 2, 6, 10, 11, 12, 13, 17, 18, 2, 14, 9, 16, 14, 15, 1, 1, 15, 6, 8, 2, 10, 11, 14, 2, 11, 10, 15, 17, 1, 3, 4, 6, 10, 11, 12, 19, 1, 2, 10, 11, 12, 17, 1, 2, 3, 4, 5, 6, 7, 8, 9, 10, 11, 12, 13, 14, 15, 16, 18, 3, 1, 3, 5, 6, 8, 10, 15, 17, 1, 2, 3, 4, 8, 12, 14, 20, 1, 5, 12, 14, 5, 7, 8, 1, 2, 3, 4, 6, 9, 14, 16, 1, 4, 6, 7, 11, 1, 10, 17, 5, 6, 12, 1, 2, 3, 4, 6, 8, 10, 11, 16, 17, 20, 4, 8, 9, 12, 1, 3, 4, 7, 12, 14, 16, 7, 11, 12, 1, 1, 2, 5, 6, 7, 1, 4, 6, 8, 9, 11, 15, 17, 3, 5, 6, 7, 8, 10, 15, 16, 2, 4, 20, 1, 2, 3, 4, 5, 6, 7, 8, 9, 10, 11, 14, 15, 16, 18, 1, 2, 3, 12, 3, 6, 8, 14, 17, 18, 16, 18, 4, 5, 14, 1, 2, 3, 4, 6, 8, 9, 10, 11, 12, 13, 14, 15, 18, 1, 7, 14, 2, 7, 13, 1, 2, 3, 4, 5, 7, 8, 10, 11, 15, 17, 3, 18, 1, 3, 1, 2, 3, 4, 5, 6, 7, 8, 9, 10, 11, 12, 13, 14, 15, 16, 17, 18, 19, 1, 2, 3, 6, 9, 16, 19, 1, 5, 6, 9, 12, 16, 1, 2, 3, 4, 5, 6, 7, 8, 9, 10, 11, 12, 13, 14, 15, 16, 17, 11, 5, 11, 12, 1, 3, 6, 9, 10, 11, 16, 4, 5, 6, 14, 1, 3, 4, 7, 10, 14, 1, 5, 8, 12, 14, 15, 16, 4, 1, 2, 3, 5, 6, 7, 8, 15, 16, 3, 8, 13, 1, 2, 3, 5, 12, 13, 14, 16, 17, 1, 2, 14, 18, 1, 2, 3, 4, 5, 6, 8, 9, 11, 13, 3, 4, 7, 10, 11, 13, 1, 4, 8, 1, 5, 6, 10, 11, 19, 18, 3, 7, 4, 12, 3, 7, 8, 5, 6, 7, 1, 5, 17, 7, 14, 4, 1, 2, 4, 8, 11, 13, 1, 2, 3, 4, 5, 6, 7, 8, 10, 11, 12, 13, 14, 15, 16, 18, 3, 5, 3, 6, 11, 13, 14, 17, 19, 2, 5, 14, 2, 5, 2, 7, 1, 2, 3, 4, 5, 6, 7, 8, 9, 10, 11, 12, 15, 16, 18, 3, 4, 10, 1, 2, 4, 5, 6, 7, 9, 10, 11, 12, 13, 15, 17, 18, 10, 12, 2, 3, 4, 1, 1, 2, 3, 4, 5, 6, 7, 9, 11, 12, 13, 14, 15, 16, 17, 20, 1, 2, 3, 4, 6, 7, 11, 17, 2, 10, 1, 5, 8, 9, 12, 20, 1, 4, 2, 3, 4, 5, 7, 11, 16, 17, 2, 3, 1, 2, 3, 4, 5, 8, 9, 11, 12, 15, 16, 18, 3, 12, 4, 5, 7, 8, 9, 11, 12, 15, 16, 1, 4, 15, 16, 7, 11, 16, 1, 2, 3, 4, 5, 6, 7, 8, 9, 10, 11, 12, 13, 14, 15, 16, 3, 10, 1, 11, 13, 3, 16, 3, 13, 6, 15, 3, 11, 1, 2, 3, 4, 5, 6, 7, 8, 10, 14, 19, 3, 14, 14, 16, 2, 3, 4, 5, 7, 10, 11, 14, 13, 15, 1, 2, 3, 4, 6, 7, 9, 10, 14, 1, 2, 3, 4, 5, 6, 7, 9, 11, 13, 14, 17, 4, 20, 18, 1, 3, 4, 6, 8, 9, 10, 12, 14, 3, 12, 16, 2, 8, 2, 3, 7, 1, 2, 3, 7, 8, 11, 12, 18, 6, 8, 14, 15, 19, 5, 8, 1, 1, 2, 3, 4, 5, 6, 7, 9, 10, 11, 12, 16, 2, 10, 4, 11, 1, 12, 3, 8, 15, 6, 20, 4, 4, 17, 2, 17, 1, 2, 3, 4, 5, 6, 7, 8, 9, 10, 11, 12, 13, 14, 15, 16, 19, 1, 10, 2, 2, 3, 4, 5, 6, 8, 10, 12, 15, 1, 3, 16, 1, 12, 17, 1, 2, 7, 14, 1, 3, 8, 11, 14, 1, 2, 3, 9, 10, 11, 12, 14, 15, 17, 2, 5, 3, 4, 5, 9, 11, 13, 2, 6, 16, 4, 7, 20, 5, 13, 1, 2, 4, 6, 10, 19, 1, 5, 6, 11, 15, 18, 1, 15, 2, 3, 4, 5, 6, 9, 10, 11, 12, 14, 15, 5, 6, 13, 2, 5, 7, 13, 3, 12, 4, 14, 1, 2, 3, 4, 9, 11, 12, 15, 16, 1, 3, 5, 2, 3, 6, 15, 16, 8, 9, 14, 15, 1, 4, 6, 8, 9, 11, 15, 17, 6, 8, 1, 5, 7, 8, 12, 13, 1, 2, 3, 4, 9, 11, 16, 18, 3, 4, 5, 6, 7, 8, 11, 12, 13, 14, 16, 19, 1, 2, 4, 6, 14, 17, 18, 5, 1, 13, 1, 2, 3, 4, 6, 7, 8, 10, 13, 17, 6, 12, 9, 1, 3, 4, 5, 6, 7, 12, 15, 3, 1, 2, 3, 4, 5, 7, 8, 11, 12, 13, 14, 15, 17, 19, 1, 2, 3, 4, 6, 9, 10, 11, 13, 17, 18, 4, 14, 1, 3, 4, 6, 10, 11, 13, 20, 1, 3, 4, 6, 9, 10, 12, 14, 15, 1, 2, 3, 4, 5, 6, 7, 9, 11, 12, 13, 16, 18, 2, 9, 15, 1, 2, 3, 4, 5, 6, 7, 8, 10, 11, 13, 14, 17, 2, 2, 7, 1, 2, 3, 4, 5, 6, 7, 8, 11, 12, 3, 14, 15, 1, 2, 3, 4, 5, 7, 8, 9, 12, 16, 1, 1, 2, 3, 4, 5, 6, 7, 8, 9, 10, 11, 12, 13, 14, 15, 18, 4, 17, 1, 2, 3, 4, 5, 6, 9, 10, 14, 16, 1, 7, 1, 4, 8, 12, 15, 17, 2, 10, 14, 1, 4, 8, 9, 11, 16, 18, 1, 4, 5, 12, 17, 20, 2, 7, 2, 7, 4, 12, 1, 2, 3, 4, 5, 6, 7, 8, 9, 12, 14, 15, 17, 18, 20, 2, 7, 3, 4, 1, 2, 3, 5, 6, 7, 9, 10, 11, 13, 15, 19, 2, 19, 1, 2, 3, 4, 5, 6, 7, 8, 10, 11, 13, 14, 16, 18, 1, 2, 3, 4, 5, 6, 8, 10, 11, 13, 14, 15, 16, 17, 2, 6, 3, 7, 1, 2, 3, 5, 6, 20, 7, 3, 4, 6, 9, 16, 1, 7, 9, 12, 1, 20, 3, 10, 1, 3, 4, 7, 14, 18, 5, 13, 1, 2, 3, 7, 8, 11, 12, 13, 16, 17, 1, 2, 3, 4, 6, 7, 16, 1, 2, 3, 4, 5, 6, 7, 8, 9, 10, 11, 12, 13, 14, 15, 16, 17, 19, 1, 11, 19, 1, 5, 1, 2, 6, 3, 13, 14, 18, 3, 6, 8, 9, 14, 1, 2, 3, 4, 7, 8, 9, 10, 11, 12, 1, 3, 6, 8, 12, 13, 14, 16, 9, 1, 2, 5, 17, 3, 18, 1, 2, 3, 5, 6, 7, 8, 10, 11, 14, 1, 2, 3, 10, 11, 12, 15, 16, 1, 2, 6, 7, 9, 13, 16, 1, 18, 1, 2, 4, 6, 14, 15, 3, 7, 14, 1, 7, 12, 1, 2, 3, 4, 5, 6, 8, 9, 11, 12, 13, 14, 15, 16, 1, 2, 14, 6, 11, 13, 15, 1, 2, 4, 6, 10, 13, 1, 2, 18, 2, 3, 4, 5, 10, 11, 12, 19, 2, 7, 1, 7, 8, 11, 2, 6, 6, 16, 2, 3, 4, 5, 6, 12, 1, 2, 3, 4, 7, 11, 12, 13, 14, 16, 17, 2, 9, 12, 19, 1, 2, 12, 16, 1, 16, 1, 2, 3, 4, 5, 6, 7, 10, 11, 12, 14, 15, 17, 6, 9, 1, 2, 3, 4, 5, 6, 7, 8, 9, 10, 11, 12, 13, 16, 1, 2, 3, 7, 8, 13, 20, 1, 2, 3, 4, 5, 7, 8, 9, 10, 14, 18, 1, 2, 6, 9, 12, 17, 19, 3, 4, 2, 10, 15, 10, 15, 3, 7, 1, 2, 4, 5, 6, 7, 8, 9, 10, 11, 12, 13, 19, 9, 1, 6, 7, 12, 20, 1, 2, 3, 4, 6, 8, 9, 10, 11, 12, 13, 14, 15, 17, 18, 9, 15, 8, 14, 18, 19, 3, 7, 18, 9, 15, 20, 2, 6, 1, 4, 5, 6, 7, 8, 12, 19, 2, 10, 1, 6, 17, 3, 16, 17, 19, 1, 2, 3, 6, 11, 13, 1, 9, 11, 5, 9, 11, 13, 1, 5, 8, 4, 1, 2, 3, 4, 6, 7, 8, 9, 10, 11, 12, 14, 15, 16, 3, 5, 6, 7, 1, 2, 6, 8, 17, 1, 2, 5, 7, 9, 11, 12, 13, 15, 16, 18, 1, 2, 3, 5, 7, 8, 10, 12, 16, 18, 9, 1, 2, 3, 4, 6, 7, 8, 10, 12, 13, 16, 18, 3, 5, 8, 3, 9, 9, 17, 1, 2, 3, 4, 6, 7, 15, 16, 17, 1, 2, 5, 7, 10, 12, 16, 17, 19, 5, 9, 1, 2, 3, 4, 5, 7, 10, 11, 13, 14, 18, 19, 8, 9, 15, 2, 7, 19, 2, 15, 17, 1, 3, 9, 10, 13, 1, 5, 6, 10, 1, 8, 18, 1, 4, 5, 1, 2, 3, 4, 5, 6, 7, 8, 9, 10, 11, 12, 14, 15, 16, 17, 18, 2, 5, 6, 12, 2, 10, 11, 1, 2, 3, 4, 5, 6, 7, 8, 9, 10, 11, 12, 13, 14, 15, 16, 17, 18, 19, 2, 3, 5, 7, 18, 19, 20, 5, 7, 15, 2, 4, 6, 11, 12, 14, 1, 2, 3, 4, 5, 6, 12, 13, 1, 6, 8, 1, 2, 3, 6, 8, 9, 11, 12, 13, 17, 5, 10, 1, 1, 3, 5, 10, 16, 3, 1, 2, 3, 4, 5, 6, 7, 8, 10, 12, 14, 16, 17, 1, 3, 5, 6, 8, 10, 11, 12, 16, 17, 18, 19, 1, 11, 19, 1, 3, 4, 5, 6, 7, 9, 10, 13, 16, 18, 18, 7, 8, 15, 17, 1, 2, 3, 4, 20, 10, 11, 2, 10, 19, 1, 2, 3, 5, 10, 11, 12, 13, 14, 17, 1, 2, 3, 9, 10, 11, 13, 15, 1, 9, 15, 18, 1, 1, 3, 4, 5, 7, 5, 7, 1, 2, 3, 5, 6, 10, 18, 1, 5, 6, 7, 14, 18, 1, 2, 3, 4, 6, 7, 9, 11, 13, 16, 17, 18, 1, 3, 9, 11, 9, 11, 1, 8, 9, 15, 1, 2, 8, 12, 3, 5, 6, 7, 14, 2, 10, 13, 18, 2, 10, 15, 1, 2, 3, 4, 5, 6, 7, 8, 9, 10, 11, 12, 13, 14, 15, 2, 5, 8, 9, 14, 17, 3, 7, 19, 1, 2, 3, 4, 6, 8, 16, 17, 19, 4, 4, 12, 1, 2, 3, 7, 11, 12, 17, 20, 4, 14, 1, 3, 12, 14, 12, 13, 14, 2, 10, 17, 1, 3, 6, 7, 9, 11, 12, 14, 1, 2, 3, 4, 5, 8, 11, 16, 18, 1, 2, 4, 6, 7, 8, 9, 10, 11, 18, 6, 9, 16, 2, 5, 17, 1, 2, 3, 4, 6, 9, 10, 11, 12, 13, 14, 16, 19, 9, 14, 9, 18, 2, 18, 19, 1, 2, 3, 4, 5, 8, 13, 16, 19, 10, 16, 6, 19, 2, 4, 5, 7, 8, 10, 11, 12, 13, 14, 17, 19, 3, 5, 7, 10, 11, 13, 14, 15, 17, 1, 3, 6, 7, 8, 9, 10, 19, 1, 3, 9, 12, 17, 1, 5, 5, 11, 16, 2, 3, 6, 7, 10, 20, 2, 5, 11, 12, 13, 1, 2, 3, 4, 6, 7, 13, 15, 18, 20, 1, 12, 14, 7, 12, 5, 14, 20, 2, 15, 16, 5, 19, 14, 17, 18, 5, 12, 16, 2, 15, 1, 2, 4, 5, 7, 9, 10, 13, 15, 16, 18, 8, 14, 1, 2, 3, 4, 5, 6, 7, 8, 9, 10, 11, 12, 13, 14, 15, 16, 17, 18, 2, 5, 9, 11, 10, 17, 1, 1, 7, 12, 1, 5, 2, 17, 6, 15, 17, 19, 1, 3, 6, 13, 14, 4, 1, 6, 16, 16, 19, 1, 1, 3, 4, 6, 7, 8, 10, 11, 12, 13, 15, 1, 2, 5, 6, 9, 10, 13, 17, 18, 6, 9, 1, 3, 4, 5, 8, 9, 10, 14, 15, 18, 11, 14, 1, 2, 3, 4, 5, 6, 10, 11, 13, 15, 17, 18, 4, 3, 11, 1, 2, 4, 9, 18, 1, 3, 1, 2, 9, 10, 12, 1, 10, 15, 3, 1, 2, 3, 4, 5, 8, 13, 16, 18, 1, 2, 9, 11, 16, 18, 1, 3, 9, 11, 9, 18, 2, 4, 5, 6, 8, 10, 3, 7, 2, 3, 9, 18, 9, 3, 5, 2, 3, 5, 9, 11, 2, 13, 15, 4, 12, 2, 10, 2, 10, 3, 4, 8, 1, 3, 5, 1, 2, 3, 4, 7, 8, 14, 1, 3, 9, 16, 20, 9, 10, 13, 15, 16, 1, 2, 5, 9, 13, 16, 4, 9, 1, 2, 3, 4, 5, 6, 7, 9, 11, 12, 13, 16, 17, 19, 1, 4, 1, 2, 4, 5, 9, 10, 12, 13, 14, 17, 2, 5, 10, 11, 16, 7, 8, 12, 13, 2, 3, 11, 13, 1, 1, 2, 3, 4, 5, 8, 11, 12, 14, 15, 1, 2, 3, 4, 6, 8, 9, 10, 11, 12, 13, 14, 15, 20, 7, 12, 1, 2, 3, 4, 5, 6, 7, 8, 9, 10, 12, 13, 15, 16, 2, 1, 14, 5, 6, 1, 3, 4, 14, 17, 11, 1, 2, 3, 4, 5, 6, 7, 8, 9, 10, 11, 12, 13, 17, 18, 19, 20, 1, 6, 14, 18, 12, 17, 18, 7, 15, 1, 2, 3, 4, 5, 6, 7, 8, 9, 10, 11, 12, 13, 14, 16, 17, 2, 8, 1, 2, 3, 4, 5, 8, 18, 2, 10, 18, 4, 5, 6, 8, 11, 12, 19, 1, 2, 4, 12, 16, 1, 2, 3, 6, 7, 8, 9, 14, 15, 16, 18, 18, 4, 6, 18, 2, 10, 14, 2, 5, 3, 5, 3, 14, 1, 3, 9, 11, 13, 15, 2, 5, 11, 12, 8, 10, 14, 1, 7, 1, 2, 3, 12, 15, 20, 2, 3, 5, 6, 7, 8, 15, 2, 13, 3, 4, 5, 6, 7, 13, 1, 15, 19, 1, 3, 6, 12, 3, 8, 1, 8, 12, 1, 2, 16, 19, 1, 2, 4, 5, 6, 10, 11, 16, 2, 4, 14, 1, 2, 3, 4, 5, 6, 7, 10, 11, 18, 3, 6, 20, 2, 2, 4, 10, 6, 9, 3, 13, 1, 2, 4, 7, 17, 18, 3, 8, 1, 2, 3, 4, 5, 8, 19, 1, 2, 3, 4, 6, 7, 8, 11, 12, 13, 16, 17, 18, 1, 2, 4, 6, 9, 10, 11, 12, 13, 14, 15, 17, 20, 1, 9, 17, 1, 11, 15, 2, 2, 10, 5, 7, 13, 3, 15, 1, 2, 3, 4, 5, 6, 8, 9, 11, 13, 16, 17, 1, 3, 6, 8, 11, 14, 1, 2, 3, 6, 8, 9, 11, 12, 13, 15, 16, 18, 19, 18, 1, 6, 7, 18, 1, 3, 4, 7, 13, 5, 6, 16, 2, 15, 1, 7, 16, 1, 4, 5, 7, 8, 14, 1, 2, 3, 4, 5, 6, 7, 8, 9, 10, 13, 14, 16, 18, 2, 6, 11, 12, 20, 1, 1, 5, 6, 12, 16, 3, 4, 1, 12, 20, 2, 14, 19, 1, 2, 3, 4, 7, 13, 3, 8, 17, 5, 6, 8, 1, 12, 15, 17, 18, 1, 2, 19, 20, 1, 3, 5, 6, 10, 12, 1, 6, 10, 1, 2, 3, 4, 5, 6, 7, 9, 16, 4, 6, 18, 9, 10, 1, 2, 4, 6, 7, 8, 11, 12, 13, 1, 1, 3, 4, 5, 6, 7, 8, 10, 11, 16, 19, 3, 8, 17, 1, 2, 3, 7, 8, 16, 2, 4, 17, 19, 1, 2, 3, 4, 5, 6, 7, 8, 9, 10, 11, 13, 14, 15, 17, 18, 19, 2, 13, 17, 2, 3, 5, 6, 9, 10, 12, 13, 16, 2, 6, 9, 3, 6, 14, 16, 1, 2, 5, 20, 2, 6, 13, 2, 10, 1, 2, 3, 4, 5, 6, 7, 9, 10, 11, 12, 13, 14, 15, 16, 17, 20, 4, 7, 12, 1, 2, 3, 6, 7, 9, 10, 11, 13, 16, 17, 20, 3, 4, 13, 11, 13, 17, 1, 2, 4, 8, 20, 3, 6, 5, 11, 1, 2, 3, 4, 5, 6, 7, 8, 9, 10, 11, 12, 13, 14, 15, 16, 18, 1, 2, 4, 5, 6, 14, 18, 1, 2, 13, 4, 6, 10, 3, 6, 19, 1, 3, 4, 12, 15, 19, 1, 2, 3, 4, 5, 8, 14, 19, 3, 13, 3, 6, 7, 10, 11, 13, 3, 12, 14, 2, 2, 5, 6, 16, 17, 18, 1, 9, 18, 1, 3, 4, 6, 8, 10, 12, 13, 19, 12, 13, 19, 4, 6, 7, 13, 1, 2, 4, 12, 14, 2, 7, 1, 3, 6, 9, 10, 11, 15, 16, 6, 11, 2, 3, 5, 8, 19, 1, 2, 3, 4, 5, 7, 8, 9, 10, 11, 12, 13, 16, 5, 10, 13, 15, 1, 2, 11, 4, 7, 8, 12, 14, 17, 19, 1, 2, 4, 5, 6, 11, 18, 1, 2, 3, 4, 5, 6, 7, 8, 9, 10, 11, 12, 13, 16, 18, 1, 1, 4, 6, 8, 1, 2, 3, 4, 5, 6, 7, 8, 9, 10, 11, 14, 16, 17, 5, 11, 13, 15, 8, 13, 10, 11, 2, 17, 3, 5, 6, 1, 3, 4, 5, 6, 7, 9, 14, 16, 1, 7, 16, 1, 19, 3, 14, 1, 2, 3, 4, 5, 6, 7, 9, 10, 11, 12, 13, 14, 15, 16, 17, 18, 19, 11, 16, 11, 9, 8, 11, 8, 10, 2, 4, 5, 6, 7, 8, 9, 10, 9, 10, 3, 7, 13, 1, 2, 4, 8, 16, 18, 3, 7, 11, 1, 3, 19, 1, 18, 18, 1, 10, 16, 1, 8, 12, 13, 1, 17, 2, 3, 4, 5, 6, 7, 11, 14, 18, 19, 20, 4, 7, 1, 2, 3, 5, 6, 10, 6, 7, 10, 16, 1, 5, 6, 10, 11, 13, 14, 15, 18, 19, 1, 3, 1, 6, 10, 9, 11, 2, 4, 1, 2, 4, 5, 13, 17, 20, 2, 6, 10, 7, 15, 18, 18, 1, 2, 3, 4, 5, 6, 7, 8, 10, 12, 14, 16, 1, 3, 7, 10, 14, 1, 2, 3, 4, 5, 6, 7, 8, 9, 10, 11, 13, 15, 16, 20, 4, 8, 2, 3, 19, 5, 6, 12, 16, 1, 2, 4, 5, 6, 7, 10, 11, 12, 16, 18, 2, 7, 2, 3, 10, 18, 1, 2, 3, 4, 5, 6, 7, 9, 12, 14, 15, 16, 17, 19, 18, 3, 3, 10, 12, 19, 13, 15, 18, 1, 2, 17, 1, 7, 10, 18, 20, 1, 3, 4, 5, 7, 11, 13, 14, 1, 2, 3, 4, 5, 7, 8, 10, 11, 15, 16, 1, 2, 3, 4, 5, 7, 12, 14, 18, 1, 1, 2, 3, 5, 7, 18, 1, 2, 3, 4, 5, 6, 7, 8, 9, 10, 11, 12, 13, 14, 15, 16, 17, 18, 19, 1, 2, 7, 12, 13, 1, 2, 3, 4, 6, 7, 8, 9, 10, 11, 13, 14, 15, 16, 17, 18, 19, 4, 13, 17, 20, 2, 10, 14, 1, 2, 3, 4, 7, 8, 9, 11, 12, 15, 1, 4, 7, 8, 11, 1, 2, 3, 4, 5, 6, 7, 8, 9, 10, 11, 12, 13, 14, 15, 16, 17, 4, 5, 8, 19, 9, 13, 1, 2, 5, 6, 7, 9, 10, 12, 14, 16, 20, 1, 2, 3, 6, 7, 8, 10, 12, 14, 20], \"Freq\": [0.15069112181663513, 0.11301834881305695, 0.03767278045415878, 0.1883639097213745, 0.03767278045415878, 0.03767278045415878, 0.03767278045415878, 0.03767278045415878, 0.15069112181663513, 0.03767278045415878, 0.03767278045415878, 0.07534556090831757, 0.03767278045415878, 0.23148202896118164, 0.6944460868835449, 0.9287896156311035, 0.3542776107788086, 0.7085552215576172, 0.09810379892587662, 0.06540253758430481, 0.13080507516860962, 0.26161015033721924, 0.032701268792152405, 0.29431140422821045, 0.06540253758430481, 0.032701268792152405, 0.06765724718570709, 0.06765724718570709, 0.06765724718570709, 0.40594348311424255, 0.13531449437141418, 0.13531449437141418, 0.06765724718570709, 0.06765724718570709, 0.04724268242716789, 0.04724268242716789, 0.04724268242716789, 0.5669121742248535, 0.04724268242716789, 0.09448536485433578, 0.04724268242716789, 0.04724268242716789, 0.04724268242716789, 0.09660749137401581, 0.48303747177124023, 0.19321498274803162, 0.09660749137401581, 0.1326911598443985, 0.1326911598443985, 0.09951836615800858, 0.11610475927591324, 0.09951836615800858, 0.033172789961099625, 0.033172789961099625, 0.08293197304010391, 0.033172789961099625, 0.016586394980549812, 0.08293197304010391, 0.06634557992219925, 0.016586394980549812, 0.033172789961099625, 0.016586394980549812, 0.016586394980549812, 0.27501705288887024, 0.8250511288642883, 0.6881563067436218, 0.3440781533718109, 0.20402181148529053, 0.20402181148529053, 0.20402181148529053, 0.40804362297058105, 0.4706946015357971, 0.07844910025596619, 0.07844910025596619, 0.07844910025596619, 0.15689820051193237, 0.07844910025596619, 0.2765119671821594, 0.6912798881530762, 0.7498897910118103, 0.12498162686824799, 0.06249081343412399, 0.06249081343412399, 0.4212367832660675, 0.21061839163303375, 0.4212367832660675, 0.2512070834636688, 0.0314008854329586, 0.18840530514717102, 0.15700441598892212, 0.0314008854329586, 0.1256035417318344, 0.15700441598892212, 0.09019957482814789, 0.18039914965629578, 0.09019957482814789, 0.45099785923957825, 0.09019957482814789, 0.5002533793449402, 0.5002533793449402, 0.1926143914461136, 0.1926143914461136, 0.1926143914461136, 0.3852287828922272, 0.24140584468841553, 0.4224602282047272, 0.06035146117210388, 0.06035146117210388, 0.12070292234420776, 0.06035146117210388, 0.9665955901145935, 0.18639355897903442, 0.18639355897903442, 0.23299194872379303, 0.09319677948951721, 0.09319677948951721, 0.09319677948951721, 0.046598389744758606, 0.33703070878982544, 0.33703070878982544, 0.33703070878982544, 0.18400929868221283, 0.18400929868221283, 0.18400929868221283, 0.36801859736442566, 0.23737312853336334, 0.7121194005012512, 0.11160674691200256, 0.11160674691200256, 0.11160674691200256, 0.5580337643623352, 0.6496098041534424, 0.3248049020767212, 0.6610655784606934, 0.3305327892303467, 0.2710697650909424, 0.09035658836364746, 0.09035658836364746, 0.03011886216700077, 0.1505943089723587, 0.06023772433400154, 0.06023772433400154, 0.03011886216700077, 0.03011886216700077, 0.03011886216700077, 0.03011886216700077, 0.06023772433400154, 0.03011886216700077, 0.2777746617794037, 0.33950236439704895, 0.030863851308822632, 0.12345540523529053, 0.030863851308822632, 0.030863851308822632, 0.061727702617645264, 0.030863851308822632, 0.030863851308822632, 0.030863851308822632, 0.3222949206829071, 0.3222949206829071, 0.21912947297096252, 0.09391263127326965, 0.06260842084884644, 0.06260842084884644, 0.21912947297096252, 0.1565210521221161, 0.03130421042442322, 0.03130421042442322, 0.03130421042442322, 0.6098995804786682, 0.2032998502254486, 0.06776662170886993, 0.25227785110473633, 0.16818523406982422, 0.42046308517456055, 0.042046308517456055, 0.042046308517456055, 0.042046308517456055, 0.48670095205307007, 0.06952870637178421, 0.034764353185892105, 0.034764353185892105, 0.17382176220417023, 0.034764353185892105, 0.06952870637178421, 0.034764353185892105, 0.034764353185892105, 0.034764353185892105, 0.034764353185892105, 0.5879305005073547, 0.14698262512683868, 0.14698262512683868, 0.11330826580524445, 0.2266165316104889, 0.2266165316104889, 0.11330826580524445, 0.11330826580524445, 0.2266165316104889, 0.482649028301239, 0.482649028301239, 0.10303855687379837, 0.20607711374759674, 0.3091156780719757, 0.10303855687379837, 0.10303855687379837, 0.20607711374759674, 0.13277849555015564, 0.13277849555015564, 0.13277849555015564, 0.2655569911003113, 0.2655569911003113, 0.6463521122932434, 0.058759283274412155, 0.058759283274412155, 0.058759283274412155, 0.058759283274412155, 0.535182535648346, 0.267591267824173, 0.267591267824173, 0.05020616203546524, 0.02510308101773262, 0.07530924677848816, 0.1255154013633728, 0.30123698711395264, 0.02510308101773262, 0.20082464814186096, 0.02510308101773262, 0.05020616203546524, 0.07530924677848816, 0.33315959572792053, 0.33315959572792053, 0.9412540793418884, 0.19057436287403107, 0.19057436287403107, 0.38114872574806213, 0.19057436287403107, 0.3315005302429199, 0.3315005302429199, 0.3315005302429199, 0.2199370563030243, 0.0799771100282669, 0.11996566504240036, 0.03998855501413345, 0.25992560386657715, 0.019994277507066727, 0.03998855501413345, 0.019994277507066727, 0.03998855501413345, 0.019994277507066727, 0.019994277507066727, 0.019994277507066727, 0.019994277507066727, 0.03998855501413345, 0.019994277507066727, 0.019994277507066727, 0.0827069953083992, 0.1654139906167984, 0.0827069953083992, 0.4962419867515564, 0.1654139906167984, 0.43022456765174866, 0.3226684331893921, 0.10755614191293716, 0.10755614191293716, 0.17127038538455963, 0.6850815415382385, 0.3503571152687073, 0.3503571152687073, 0.3503571152687073, 0.09608518332242966, 0.19217036664485931, 0.19217036664485931, 0.09608518332242966, 0.09608518332242966, 0.28825557231903076, 0.767175555229187, 0.7669682502746582, 0.11749869585037231, 0.05874934792518616, 0.17624804377555847, 0.11749869585037231, 0.35249608755111694, 0.05874934792518616, 0.05874934792518616, 0.11749869585037231, 0.39132460951805115, 0.39132460951805115, 0.057019904255867004, 0.057019904255867004, 0.1425497680902481, 0.057019904255867004, 0.1425497680902481, 0.028509952127933502, 0.1995696723461151, 0.057019904255867004, 0.028509952127933502, 0.028509952127933502, 0.028509952127933502, 0.11403980851173401, 0.028509952127933502, 0.028509952127933502, 0.21039548516273499, 0.1530148983001709, 0.09563431143760681, 0.07650744915008545, 0.07650744915008545, 0.05738058686256409, 0.05738058686256409, 0.05738058686256409, 0.019126862287521362, 0.019126862287521362, 0.09563431143760681, 0.019126862287521362, 0.019126862287521362, 0.038253724575042725, 0.30930671095848083, 0.6186134219169617, 0.20707623660564423, 0.41415247321128845, 0.20707623660564423, 0.7454574704170227, 0.24848581850528717, 0.7538585066795349, 0.25128617882728577, 0.22904463112354279, 0.1526964157819748, 0.3053928315639496, 0.1526964157819748, 0.0763482078909874, 0.35203731060028076, 0.7040746212005615, 0.3024628162384033, 0.3024628162384033, 0.3024628162384033, 0.354220449924469, 0.708440899848938, 0.2697332799434662, 0.06743331998586655, 0.10114997625350952, 0.03371665999293327, 0.03371665999293327, 0.1348666399717331, 0.03371665999293327, 0.03371665999293327, 0.10114997625350952, 0.10114997625350952, 0.03371665999293327, 0.03371665999293327, 0.767377495765686, 0.6459670662879944, 0.3229835331439972, 0.16115880012512207, 0.08057940006256104, 0.08057940006256104, 0.4028970003128052, 0.2417382001876831, 0.42507264018058777, 0.10626816004514694, 0.10626816004514694, 0.10626816004514694, 0.21253632009029388, 0.8269023299217224, 0.13781705498695374, 0.31387314200401306, 0.10462438315153122, 0.10462438315153122, 0.4184975326061249, 0.1367991864681244, 0.1367991864681244, 0.1367991864681244, 0.5471967458724976, 0.17557202279567719, 0.1254085898399353, 0.15049029886722565, 0.07524514943361282, 0.03762257471680641, 0.08778601139783859, 0.08778601139783859, 0.03762257471680641, 0.01254085823893547, 0.05016343295574188, 0.01254085823893547, 0.03762257471680641, 0.02508171647787094, 0.03762257471680641, 0.02508171647787094, 0.01254085823893547, 0.01254085823893547, 0.7023435235023499, 0.3511717617511749, 0.2332511693239212, 0.6997535228729248, 0.8790249228477478, 0.23970751464366913, 0.07990249991416931, 0.07990249991416931, 0.05326833575963974, 0.05326833575963974, 0.07990249991416931, 0.2663416862487793, 0.05326833575963974, 0.05326833575963974, 0.2181040197610855, 0.2181040197610855, 0.436208039522171, 0.9330279231071472, 0.6403800845146179, 0.23588500916957855, 0.23588500916957855, 0.4717700183391571, 0.28863170742988586, 0.05411844700574875, 0.03607896342873573, 0.07215792685747147, 0.09019741415977478, 0.07215792685747147, 0.12627637386322021, 0.03607896342873573, 0.03607896342873573, 0.018039481714367867, 0.03607896342873573, 0.03607896342873573, 0.1082368940114975, 0.641822874546051, 0.16045571863651276, 0.16045571863651276, 0.08359910547733307, 0.8359910845756531, 0.6315463781356812, 0.07894329726696014, 0.07894329726696014, 0.07894329726696014, 0.07894329726696014, 0.28479331731796265, 0.07119832932949066, 0.4983883202075958, 0.07119832932949066, 0.07119832932949066, 0.030013108626008034, 0.4201835095882416, 0.15006554126739502, 0.09003932774066925, 0.09003932774066925, 0.06002621725201607, 0.030013108626008034, 0.09003932774066925, 0.2051132321357727, 0.2930189073085785, 0.05860378220677376, 0.08790566772222519, 0.11720756441354752, 0.05860378220677376, 0.05860378220677376, 0.02930189110338688, 0.02930189110338688, 0.05860378220677376, 0.7349657416343689, 0.2449885755777359, 0.5188769698143005, 0.10377539694309235, 0.10377539694309235, 0.10377539694309235, 0.5695282220840454, 0.2847641110420227, 0.8788126707077026, 0.6342947483062744, 0.3171473741531372, 0.10345235466957092, 0.31035706400871277, 0.10345235466957092, 0.10345235466957092, 0.10345235466957092, 0.31035706400871277, 0.22688248753547668, 0.07562749832868576, 0.45376497507095337, 0.07562749832868576, 0.07562749832868576, 0.07562749832868576, 0.05426626652479172, 0.05426626652479172, 0.10853253304958344, 0.10853253304958344, 0.10853253304958344, 0.10853253304958344, 0.02713313326239586, 0.1356656700372696, 0.05426626652479172, 0.02713313326239586, 0.08139940351247787, 0.02713313326239586, 0.05426626652479172, 0.08139940351247787, 0.02713313326239586, 0.19430680572986603, 0.19430680572986603, 0.5829204320907593, 0.136560320854187, 0.6828016042709351, 0.23805540800094604, 0.11902770400047302, 0.11902770400047302, 0.05951385200023651, 0.05951385200023651, 0.17854155600070953, 0.11902770400047302, 0.23871943354606628, 0.04774388670921326, 0.04774388670921326, 0.04774388670921326, 0.04774388670921326, 0.04774388670921326, 0.04774388670921326, 0.09548777341842651, 0.3342072069644928, 0.7095631957054138, 0.14191263914108276, 0.7303250432014465, 0.1622944474220276, 0.0811472237110138, 0.2222055047750473, 0.2222055047750473, 0.4444110095500946, 0.6175978183746338, 0.04117318615317345, 0.24703912436962128, 0.04117318615317345, 0.3438161313533783, 0.3438161313533783, 0.8269556760787964, 0.10336945950984955, 0.32105961441993713, 0.6421192288398743, 0.48641079664230347, 0.08583720028400421, 0.05722479894757271, 0.05722479894757271, 0.08583720028400421, 0.028612399473786354, 0.028612399473786354, 0.028612399473786354, 0.028612399473786354, 0.028612399473786354, 0.17555563151836395, 0.17555563151836395, 0.3511112630367279, 0.3511112630367279, 0.11858249455690384, 0.11858249455690384, 0.05929124727845192, 0.3557474613189697, 0.11858249455690384, 0.11858249455690384, 0.05929124727845192, 0.2654767632484436, 0.2654767632484436, 0.5309535264968872, 0.7302901148796082, 0.24343004822731018, 0.5185946822166443, 0.25929734110832214, 0.21402095258235931, 0.42804190516471863, 0.21402095258235931, 0.21402095258235931, 0.3635541796684265, 0.5453312993049622, 0.6619483828544617, 0.038938138633966446, 0.15575255453586578, 0.038938138633966446, 0.038938138633966446, 0.32179492712020874, 0.6435898542404175, 0.3943689167499542, 0.14788834750652313, 0.12324029207229614, 0.09859222918748856, 0.07394417375326157, 0.02464805729687214, 0.04929611459374428, 0.02464805729687214, 0.02464805729687214, 0.02464805729687214, 0.2441372573375702, 0.732411801815033, 0.3429428040981293, 0.3429428040981293, 0.3429428040981293, 0.1407376378774643, 0.2814752757549286, 0.4222129285335541, 0.1320759803056717, 0.06603799015283585, 0.055031660944223404, 0.07704432308673859, 0.09905698895454407, 0.08805065602064133, 0.04402532801032066, 0.011006332002580166, 0.055031660944223404, 0.04402532801032066, 0.06603799015283585, 0.09905698895454407, 0.07704432308673859, 0.011006332002580166, 0.02201266400516033, 0.011006332002580166, 0.02201266400516033, 0.011006332002580166, 0.03301899507641792, 0.18850520253181458, 0.7540208101272583, 0.2709687352180481, 0.06774218380451202, 0.06774218380451202, 0.06774218380451202, 0.20322655141353607, 0.13548436760902405, 0.13548436760902405, 0.6431763768196106, 0.16079409420490265, 0.8889696598052979, 0.32522520422935486, 0.06504503637552261, 0.06504503637552261, 0.06504503637552261, 0.13009007275104523, 0.06504503637552261, 0.06504503637552261, 0.19513511657714844, 0.06504503637552261, 0.8258679509162903, 0.1376446634531021, 0.15506887435913086, 0.15506887435913086, 0.38767218589782715, 0.07753443717956543, 0.07753443717956543, 0.07753443717956543, 0.69907546043396, 0.087384432554245, 0.17476886510849, 0.087384432554245, 0.6495910286903381, 0.32479551434516907, 0.4939711391925812, 0.2469855695962906, 0.2469855695962906, 0.07097131013870239, 0.14194262027740479, 0.11828551441431046, 0.02365710213780403, 0.11828551441431046, 0.02365710213780403, 0.04731420427560806, 0.07097131013870239, 0.04731420427560806, 0.04731420427560806, 0.02365710213780403, 0.04731420427560806, 0.21291393041610718, 0.19904685020446777, 0.19904685020446777, 0.5971405506134033, 0.5568405389785767, 0.27842026948928833, 0.32853543758392334, 0.4928031861782074, 0.273566871881485, 0.22797240316867828, 0.1367834359407425, 0.22797240316867828, 0.0911889597773552, 0.0455944798886776, 0.10408589988946915, 0.23419326543807983, 0.10408589988946915, 0.15612883865833282, 0.10408589988946915, 0.15612883865833282, 0.026021474972367287, 0.026021474972367287, 0.05204294994473457, 0.026021474972367287, 0.19049207866191864, 0.7619683146476746, 0.8067178130149841, 0.11524540930986404, 0.888674795627594, 0.29662734270095825, 0.14831367135047913, 0.29662734270095825, 0.14831367135047913, 0.11727580428123474, 0.23455160856246948, 0.11727580428123474, 0.11727580428123474, 0.23455160856246948, 0.22278086841106415, 0.17822469770908356, 0.08911234885454178, 0.13366852700710297, 0.15594661235809326, 0.04455617442727089, 0.022278087213635445, 0.022278087213635445, 0.022278087213635445, 0.06683426350355148, 0.022278087213635445, 0.022278087213635445, 0.0807105004787445, 0.161421000957489, 0.0807105004787445, 0.322842001914978, 0.0807105004787445, 0.0807105004787445, 0.0807105004787445, 0.0807105004787445, 0.19948649406433105, 0.49871623516082764, 0.19948649406433105, 0.09974324703216553, 0.09937522560358047, 0.09937522560358047, 0.49687615036964417, 0.09937522560358047, 0.09937522560358047, 0.7059392333030701, 0.2353130728006363, 0.36951181292533875, 0.36951181292533875, 0.18475590646266937, 0.14646781980991364, 0.14646781980991364, 0.14646781980991364, 0.14646781980991364, 0.4394034445285797, 0.49260324239730835, 0.05277891829609871, 0.1759297251701355, 0.03518594428896904, 0.01759297214448452, 0.05277891829609871, 0.01759297214448452, 0.10555783659219742, 0.88957279920578, 0.21101966500282288, 0.42203933000564575, 0.21101966500282288, 0.20755931735038757, 0.06918644160032272, 0.06918644160032272, 0.2767457664012909, 0.03459322080016136, 0.06918644160032272, 0.13837288320064545, 0.03459322080016136, 0.03459322080016136, 0.03459322080016136, 0.054595932364463806, 0.38217151165008545, 0.054595932364463806, 0.054595932364463806, 0.10919186472892761, 0.054595932364463806, 0.054595932364463806, 0.10919186472892761, 0.054595932364463806, 0.7917917966842651, 0.19794794917106628, 0.605760395526886, 0.13461342453956604, 0.06730671226978302, 0.06730671226978302, 0.199605330824852, 0.099802665412426, 0.5988159775733948, 0.08345522731542587, 0.4172761142253876, 0.3338209092617035, 0.08345522731542587, 0.5749168992042542, 0.383277952671051, 0.7680290937423706, 0.318758100271225, 0.63751620054245, 0.32620570063591003, 0.6524114012718201, 0.8682148456573486, 0.193170964717865, 0.04292687773704529, 0.021463438868522644, 0.23609784245491028, 0.193170964717865, 0.06439031660556793, 0.04292687773704529, 0.021463438868522644, 0.04292687773704529, 0.021463438868522644, 0.021463438868522644, 0.04292687773704529, 0.7673145532608032, 0.25384971499443054, 0.761549174785614, 0.27476462721824646, 0.27476462721824646, 0.27476462721824646, 0.27476462721824646, 0.5041674375534058, 0.2520837187767029, 0.2520837187767029, 0.737571120262146, 0.368785560131073, 0.30099406838417053, 0.6019881367683411, 0.3700055480003357, 0.3700055480003357, 0.3700055480003357, 0.12881505489349365, 0.12881505489349365, 0.12881505489349365, 0.38644513487815857, 0.12881505489349365, 0.5230073928833008, 0.2615036964416504, 0.2615036964416504, 0.9579489231109619, 0.34509074687957764, 0.6901814937591553, 0.6795346140861511, 0.33976730704307556, 0.5035285353660583, 0.2517642676830292, 0.2517642676830292, 0.20893283188343048, 0.05223320797085762, 0.05223320797085762, 0.10446641594171524, 0.15669962763786316, 0.10446641594171524, 0.05223320797085762, 0.05223320797085762, 0.05223320797085762, 0.10446641594171524, 0.05223320797085762, 0.2584175169467926, 0.2584175169467926, 0.5168350338935852, 0.056734874844551086, 0.17020462453365326, 0.056734874844551086, 0.17020462453365326, 0.2836743891239166, 0.056734874844551086, 0.056734874844551086, 0.11346974968910217, 0.6609529256820679, 0.16523823142051697, 0.8408755660057068, 0.1401459276676178, 0.34344738721847534, 0.34344738721847534, 0.34344738721847534, 0.33190077543258667, 0.19914047420024872, 0.033190079033374786, 0.033190079033374786, 0.033190079033374786, 0.06638015806674957, 0.13276031613349915, 0.033190079033374786, 0.06638015806674957, 0.26987671852111816, 0.5397534370422363, 0.26987671852111816, 0.24601292610168457, 0.49202585220336914, 0.24601292610168457, 0.2619146704673767, 0.2619146704673767, 0.5238293409347534, 0.7196550965309143, 0.23988503217697144, 0.20536921918392181, 0.20536921918392181, 0.41073843836784363, 0.14023014903068542, 0.14023014903068542, 0.14023014903068542, 0.14023014903068542, 0.4206904470920563, 0.191279336810112, 0.14094266295433044, 0.07047133147716522, 0.08053866773843765, 0.12080799788236618, 0.040269333869218826, 0.020134666934609413, 0.030201999470591545, 0.10067333281040192, 0.020134666934609413, 0.07047133147716522, 0.020134666934609413, 0.020134666934609413, 0.010067333467304707, 0.020134666934609413, 0.040269333869218826, 0.010067333467304707, 0.010067333467304707, 0.3164284825325012, 0.6328569650650024, 0.1269693374633789, 0.2539386749267578, 0.1269693374633789, 0.2539386749267578, 0.1269693374633789, 0.5348263382911682, 0.2674131691455841, 0.23604950308799744, 0.10894592851400375, 0.05447296425700188, 0.018157653510570526, 0.05447296425700188, 0.10894592851400375, 0.018157653510570526, 0.03631530702114105, 0.12710358202457428, 0.018157653510570526, 0.05447296425700188, 0.018157653510570526, 0.03631530702114105, 0.03631530702114105, 0.05447296425700188, 0.24738845229148865, 0.4947769045829773, 0.24738845229148865, 0.24878117442131042, 0.19902493059635162, 0.049756232649087906, 0.049756232649087906, 0.09951246529817581, 0.24878117442131042, 0.049756232649087906, 0.049756232649087906, 0.879570722579956, 0.2456490695476532, 0.6141226887702942, 0.1228245347738266, 0.19111084938049316, 0.5733325481414795, 0.19111084938049316, 0.0824277400970459, 0.6594219207763672, 0.0824277400970459, 0.9407796859741211, 0.13914112746715546, 0.13914112746715546, 0.5565645098686218, 0.13914112746715546, 0.10887845605611801, 0.10887845605611801, 0.21775691211223602, 0.21775691211223602, 0.10887845605611801, 0.21775691211223602, 0.14314860105514526, 0.14314860105514526, 0.14314860105514526, 0.4294458031654358, 0.9409024715423584, 0.20779947936534882, 0.41559895873069763, 0.20779947936534882, 0.15845325589179993, 0.31690651178359985, 0.422542005777359, 0.052817750722169876, 0.052817750722169876, 0.18704743683338165, 0.3740948736667633, 0.18704743683338165, 0.0662701204419136, 0.0662701204419136, 0.09940517693758011, 0.0662701204419136, 0.09940517693758011, 0.39762070775032043, 0.0331350602209568, 0.0331350602209568, 0.0331350602209568, 0.0331350602209568, 0.20449961721897125, 0.4089992344379425, 0.20449961721897125, 0.7641423344612122, 0.12735706567764282, 0.2525070309638977, 0.12625351548194885, 0.08034314215183258, 0.1492086946964264, 0.034432776272296906, 0.045910369604825974, 0.011477592401206493, 0.045910369604825974, 0.045910369604825974, 0.06886555254459381, 0.011477592401206493, 0.034432776272296906, 0.011477592401206493, 0.011477592401206493, 0.045910369604825974, 0.011477592401206493, 0.12600664794445038, 0.25201329588890076, 0.06300332397222519, 0.09450498223304749, 0.06300332397222519, 0.06300332397222519, 0.031501661986112595, 0.031501661986112595, 0.15750829875469208, 0.031501661986112595, 0.031501661986112595, 0.031501661986112595, 0.5932062864303589, 0.5932062864303589, 0.5025006532669067, 0.05025006830692291, 0.10050013661384583, 0.10050013661384583, 0.05025006830692291, 0.10050013661384583, 0.05025006830692291, 0.05025006830692291, 0.2153186947107315, 0.2153186947107315, 0.430637389421463, 0.9943332672119141, 0.9070407748222351, 0.4817946255207062, 0.2408973127603531, 0.6615664958953857, 0.33078324794769287, 0.28547292947769165, 0.14273646473884583, 0.14273646473884583, 0.4282093942165375, 0.14273646473884583, 0.2912915349006653, 0.13240523636341095, 0.10592419654130936, 0.02648104913532734, 0.05296209827065468, 0.10592419654130936, 0.02648104913532734, 0.02648104913532734, 0.02648104913532734, 0.15888628363609314, 0.24903114140033722, 0.7470934391021729, 0.6783708930015564, 0.1695927232503891, 0.345059871673584, 0.345059871673584, 0.06450412422418594, 0.3225206136703491, 0.06450412422418594, 0.1290082484483719, 0.06450412422418594, 0.1290082484483719, 0.06450412422418594, 0.19351236522197723, 0.76743084192276, 0.2616337537765503, 0.2616337537765503, 0.2616337537765503, 0.16676893830299377, 0.6670757532119751, 0.16676893830299377, 0.09840671718120575, 0.09840671718120575, 0.29522013664245605, 0.049203358590602875, 0.3444235026836395, 0.3088703155517578, 0.6177406311035156, 0.11175036430358887, 0.22350072860717773, 0.11175036430358887, 0.44700145721435547, 0.619033932685852, 0.35639145970344543, 0.35639145970344543, 0.35639145970344543, 0.46355724334716797, 0.26488983631134033, 0.06622245907783508, 0.13244491815567017, 0.7507152557373047, 0.044159721583127975, 0.08831944316625595, 0.044159721583127975, 0.31374016404151917, 0.15687008202075958, 0.15687008202075958, 0.47061023116111755, 0.32686662673950195, 0.6537332534790039, 0.5697433948516846, 0.2848716974258423, 0.959476113319397, 0.5013111233711243, 0.25065556168556213, 0.08355185389518738, 0.08355185389518738, 0.09697142988443375, 0.1939428597688675, 0.09697142988443375, 0.09697142988443375, 0.387885719537735, 0.17382951080799103, 0.17382951080799103, 0.17382951080799103, 0.34765902161598206, 0.17382951080799103, 0.06180837005376816, 0.49446696043014526, 0.18542510271072388, 0.12361674010753632, 0.06180837005376816, 0.06180837005376816, 0.2528569996356964, 0.2528569996356964, 0.2528569996356964, 0.26218298077583313, 0.17478865385055542, 0.17478865385055542, 0.26218298077583313, 0.08739432692527771, 0.08739432692527771, 0.20280981063842773, 0.5070245265960693, 0.20280981063842773, 0.050702452659606934, 0.3407474458217621, 0.3407474458217621, 0.3407474458217621, 0.047945234924554825, 0.047945234924554825, 0.047945234924554825, 0.09589046984910965, 0.6712332963943481, 0.5752437710762024, 0.19174791872501373, 0.12930051982402802, 0.12930051982402802, 0.12930051982402802, 0.12930051982402802, 0.12930051982402802, 0.25860103964805603, 0.2728762626647949, 0.13643813133239746, 0.13643813133239746, 0.06821906566619873, 0.13643813133239746, 0.13643813133239746, 0.12911176681518555, 0.06455588340759277, 0.06455588340759277, 0.06455588340759277, 0.3227793872356415, 0.06455588340759277, 0.06455588340759277, 0.06455588340759277, 0.06455588340759277, 0.06455588340759277, 0.2238968014717102, 0.4477936029434204, 0.1119484007358551, 0.1119484007358551, 0.49881628155708313, 0.3325441777706146, 0.06275103241205215, 0.1255020648241043, 0.06275103241205215, 0.06275103241205215, 0.06275103241205215, 0.18825308978557587, 0.2510041296482086, 0.06275103241205215, 0.3383283317089081, 0.3383283317089081, 0.3383283317089081, 0.1968279480934143, 0.04920698702335358, 0.1968279480934143, 0.04920698702335358, 0.04920698702335358, 0.14762096107006073, 0.04920698702335358, 0.09841397404670715, 0.09841397404670715, 0.38438278436660767, 0.38438278436660767, 1.0230867862701416, 0.170456662774086, 0.056818887591362, 0.227275550365448, 0.170456662774086, 0.113637775182724, 0.170456662774086, 0.056818887591362, 0.1898772269487381, 0.7595089077949524, 0.4770609438419342, 0.4770609438419342, 0.2371923327445984, 0.09487693756818771, 0.02371923439204693, 0.2371923327445984, 0.04743846878409386, 0.04743846878409386, 0.02371923439204693, 0.02371923439204693, 0.02371923439204693, 0.02371923439204693, 0.02371923439204693, 0.04743846878409386, 0.02371923439204693, 0.02371923439204693, 0.07115770131349564, 0.02371923439204693, 0.6406029462814331, 0.32030147314071655, 0.31499969959259033, 0.31499969959259033, 0.07874992489814758, 0.15749984979629517, 0.5083227157592773, 0.25416135787963867, 0.25416135787963867, 0.33726978302001953, 0.33726978302001953, 0.33726978302001953, 0.32973551750183105, 0.32973551750183105, 0.32973551750183105, 0.10950072854757309, 0.10950072854757309, 0.10950072854757309, 0.10950072854757309, 0.10950072854757309, 0.10950072854757309, 0.21900145709514618, 0.10950072854757309, 0.3431771993637085, 0.3431771993637085, 0.3453505337238312, 0.3453505337238312, 0.36058053374290466, 0.36058053374290466, 0.8697996735572815, 0.47446486353874207, 0.47446486353874207, 0.2470717579126358, 0.7412152886390686, 0.22382551431655884, 0.6395015120506287, 0.06395015120506287, 0.03197507560253143, 0.3453977704048157, 0.3453977704048157, 0.3646920621395111, 0.3646920621395111, 0.3646920621395111, 0.12841850519180298, 0.042806170880794525, 0.12841850519180298, 0.12841850519180298, 0.2996431887149811, 0.08561234176158905, 0.12841850519180298, 0.042806170880794525, 0.08447020500898361, 0.2534106373786926, 0.33788082003593445, 0.16894041001796722, 0.08447020500898361, 0.08447020500898361, 0.18891216814517975, 0.15112973749637604, 0.1259414404630661, 0.10075315833091736, 0.05037657916545868, 0.08815900981426239, 0.05037657916545868, 0.01259414479136467, 0.06297072023153305, 0.01259414479136467, 0.01259414479136467, 0.02518828958272934, 0.01259414479136467, 0.02518828958272934, 0.02518828958272934, 0.03778243437409401, 0.01259414479136467, 0.9671833515167236, 0.25119492411613464, 0.04186582192778587, 0.20932911336421967, 0.04186582192778587, 0.04186582192778587, 0.08373164385557175, 0.04186582192778587, 0.20932911336421967, 0.4301976263523102, 0.1433992087841034, 0.0716996043920517, 0.0716996043920517, 0.0716996043920517, 0.0716996043920517, 0.0716996043920517, 0.0716996043920517, 0.2502550482749939, 0.2502550482749939, 0.2502550482749939, 0.2502550482749939, 0.16276301443576813, 0.4882890582084656, 0.16276301443576813, 0.10145268589258194, 0.05072634294629097, 0.10145268589258194, 0.05072634294629097, 0.05072634294629097, 0.1521790325641632, 0.25363171100616455, 0.1521790325641632, 0.08923051506280899, 0.17846103012561798, 0.08923051506280899, 0.44615259766578674, 0.08923051506280899, 0.33647963404655457, 0.33647963404655457, 0.33647963404655457, 0.3189800977706909, 0.3189800977706909, 0.3189800977706909, 0.14507272839546204, 0.14507272839546204, 0.10880455374717712, 0.07253636419773102, 0.14507272839546204, 0.10880455374717712, 0.03626818209886551, 0.10880455374717712, 0.03626818209886551, 0.03626818209886551, 0.03626818209886551, 0.2190312296152115, 0.10951561480760574, 0.3285468518733978, 0.3285468518733978, 0.17817039787769318, 0.17817039787769318, 0.23756052553653717, 0.05939013138413429, 0.05939013138413429, 0.05939013138413429, 0.17817039787769318, 0.3287501931190491, 0.3287501931190491, 0.3287501931190491, 0.8674092888832092, 0.05211135745048523, 0.10422271490097046, 0.5211135745048523, 0.1563340723514557, 0.10422271490097046, 0.1945972889661789, 0.06486576050519943, 0.1945972889661789, 0.06486576050519943, 0.12973152101039886, 0.06486576050519943, 0.1945972889661789, 0.06486576050519943, 0.2763212025165558, 0.06908030062913895, 0.06908030062913895, 0.06908030062913895, 0.06908030062913895, 0.06908030062913895, 0.20724090933799744, 0.06908030062913895, 0.3661360740661621, 0.3661360740661621, 0.3661360740661621, 0.16956070065498352, 0.05652023106813431, 0.08478035032749176, 0.22608092427253723, 0.028260115534067154, 0.11304046213626862, 0.028260115534067154, 0.05652023106813431, 0.05652023106813431, 0.028260115534067154, 0.028260115534067154, 0.05652023106813431, 0.028260115534067154, 0.028260115534067154, 0.028260115534067154, 0.12355439364910126, 0.24710878729820251, 0.12355439364910126, 0.37066319584846497, 0.12436474859714508, 0.06218237429857254, 0.435276597738266, 0.12436474859714508, 0.06218237429857254, 0.06218237429857254, 0.5710497498512268, 0.2855248749256134, 0.3399782180786133, 0.3399782180786133, 0.3399782180786133, 0.26184502243995667, 0.047608185559511185, 0.07141228020191193, 0.23804092407226562, 0.14282456040382385, 0.047608185559511185, 0.023804092779755592, 0.023804092779755592, 0.023804092779755592, 0.023804092779755592, 0.023804092779755592, 0.023804092779755592, 0.023804092779755592, 0.023804092779755592, 0.13829746842384338, 0.6914873123168945, 0.13829746842384338, 0.23937852680683136, 0.23937852680683136, 0.4787570536136627, 0.17118307948112488, 0.08559153974056244, 0.12838731706142426, 0.12838731706142426, 0.04279576987028122, 0.12838731706142426, 0.04279576987028122, 0.04279576987028122, 0.08559153974056244, 0.04279576987028122, 0.12838731706142426, 0.2773019075393677, 0.5546038150787354, 0.07528381794691086, 0.8281220197677612, 0.1497166007757187, 0.08667803555727005, 0.07879821211099625, 0.1733560711145401, 0.09455785155296326, 0.07091838866472244, 0.05515874922275543, 0.05515874922275543, 0.023639462888240814, 0.007879821583628654, 0.007879821583628654, 0.04727892577648163, 0.023639462888240814, 0.03939910605549812, 0.01575964316725731, 0.03151928633451462, 0.01575964316725731, 0.007879821583628654, 0.007879821583628654, 0.0728401243686676, 0.2185203731060028, 0.2913604974746704, 0.0728401243686676, 0.0728401243686676, 0.0728401243686676, 0.1456802487373352, 0.2657301425933838, 0.05314602702856064, 0.2657301425933838, 0.05314602702856064, 0.15943807363510132, 0.10629205405712128, 0.34576117992401123, 0.0711861252784729, 0.11186391115188599, 0.12203335762023926, 0.020338892936706543, 0.10169446468353271, 0.05084723234176636, 0.020338892936706543, 0.030508339405059814, 0.040677785873413086, 0.020338892936706543, 0.030508339405059814, 0.010169446468353271, 0.010169446468353271, 0.010169446468353271, 0.010169446468353271, 0.010169446468353271, 0.7191585302352905, 0.20830510556697845, 0.4166102111339569, 0.20830510556697845, 0.05869060009717941, 0.05869060009717941, 0.05869060009717941, 0.11738120019435883, 0.3521435856819153, 0.29345300793647766, 0.05869060009717941, 0.15036846697330475, 0.15036846697330475, 0.15036846697330475, 0.3007369339466095, 0.18787457048892975, 0.09393728524446487, 0.09393728524446487, 0.18787457048892975, 0.09393728524446487, 0.18787457048892975, 0.3027695119380951, 0.6055390238761902, 0.26730167865753174, 0.13365083932876587, 0.13365083932876587, 0.13365083932876587, 0.26730167865753174, 0.9302553534507751, 0.48283717036247253, 0.03218914568424225, 0.128756582736969, 0.0643782913684845, 0.09656743705272675, 0.09656743705272675, 0.03218914568424225, 0.03218914568424225, 0.03218914568424225, 0.6547970175743103, 0.16369925439357758, 0.16369925439357758, 0.03275778517127037, 0.19654671847820282, 0.16378892958164215, 0.16378892958164215, 0.09827335923910141, 0.16378892958164215, 0.06551557034254074, 0.03275778517127037, 0.03275778517127037, 0.11533202975988388, 0.57666015625, 0.11533202975988388, 0.11533202975988388, 0.3068864345550537, 0.06137729063630104, 0.2148205190896988, 0.03068864531815052, 0.03068864531815052, 0.18413187563419342, 0.03068864531815052, 0.03068864531815052, 0.03068864531815052, 0.06137729063630104, 0.07204706221818924, 0.5043294429779053, 0.07204706221818924, 0.07204706221818924, 0.07204706221818924, 0.07204706221818924, 0.2375659942626953, 0.2375659942626953, 0.4751319885253906, 0.09221937507390976, 0.4610968828201294, 0.09221937507390976, 0.09221937507390976, 0.09221937507390976, 0.09221937507390976, 0.7684580683708191, 0.31062889099121094, 0.6212577819824219, 0.7650527358055115, 0.19126318395137787, 0.3277505934238434, 0.1638752967119217, 0.49162590503692627, 0.8128571510314941, 0.05419047921895981, 0.05419047921895981, 0.3255978524684906, 0.3255978524684906, 0.3255978524684906, 0.659687876701355, 0.16492196917533875, 0.942193329334259, 0.05976136401295662, 0.11952272802591324, 0.2988068163394928, 0.2988068163394928, 0.11952272802591324, 0.11952272802591324, 0.149889275431633, 0.10901038348674774, 0.08175778388977051, 0.13626298308372498, 0.16351556777954102, 0.05450519174337387, 0.027252595871686935, 0.05450519174337387, 0.027252595871686935, 0.027252595871686935, 0.027252595871686935, 0.027252595871686935, 0.05450519174337387, 0.040878891944885254, 0.013626297935843468, 0.013626297935843468, 0.19234032928943634, 0.5770210027694702, 0.11016370356082916, 0.11016370356082916, 0.22032740712165833, 0.11016370356082916, 0.11016370356082916, 0.22032740712165833, 0.11016370356082916, 0.2471761256456375, 0.494352251291275, 0.12358806282281876, 0.23833683133125305, 0.7150105237960815, 0.3131084144115448, 0.6262168288230896, 0.2221541404724121, 0.10097914934158325, 0.12117498368024826, 0.06058749184012413, 0.02019583061337471, 0.04039166122674942, 0.08078332245349884, 0.04039166122674942, 0.06058749184012413, 0.02019583061337471, 0.08078332245349884, 0.06058749184012413, 0.04039166122674942, 0.02019583061337471, 0.02019583061337471, 0.14066466689109802, 0.7033233046531677, 0.14066466689109802, 0.19246287643909454, 0.29744261503219604, 0.0349932499229908, 0.05248987302184105, 0.0174966249614954, 0.0174966249614954, 0.0174966249614954, 0.12247636914253235, 0.0349932499229908, 0.05248987302184105, 0.08748312294483185, 0.0174966249614954, 0.0349932499229908, 0.0174966249614954, 0.7044166922569275, 0.35220834612846375, 0.31702756881713867, 0.6340551376342773, 0.9249705672264099, 0.8715198636054993, 0.04636434093117714, 0.09272868186235428, 0.02318217046558857, 0.1159108504652977, 0.2550038695335388, 0.06954651325941086, 0.09272868186235428, 0.06954651325941086, 0.02318217046558857, 0.04636434093117714, 0.06954651325941086, 0.02318217046558857, 0.02318217046558857, 0.02318217046558857, 0.02318217046558857, 0.02318217046558857, 0.4694007933139801, 0.09388015419244766, 0.09388015419244766, 0.09388015419244766, 0.04694007709622383, 0.04694007709622383, 0.04694007709622383, 0.1408202350139618, 0.35509979724884033, 0.7101995944976807, 0.127493754029274, 0.254987508058548, 0.127493754029274, 0.127493754029274, 0.254987508058548, 0.127493754029274, 0.8938758969306946, 0.796198844909668, 0.3576679527759552, 0.0894169881939888, 0.0894169881939888, 0.2235424667596817, 0.0447084940969944, 0.0447084940969944, 0.0447084940969944, 0.0894169881939888, 0.7302536964416504, 0.243417888879776, 0.029290594160556793, 0.23432475328445435, 0.11716237664222717, 0.029290594160556793, 0.17574356496334076, 0.11716237664222717, 0.029290594160556793, 0.029290594160556793, 0.14645297825336456, 0.029290594160556793, 0.058581188321113586, 0.029290594160556793, 0.8348262310028076, 0.9605236649513245, 0.04806721955537796, 0.28840330243110657, 0.09613443911075592, 0.09613443911075592, 0.14420165121555328, 0.04806721955537796, 0.19226887822151184, 0.04806721955537796, 0.04806721955537796, 0.15691766142845154, 0.07845883071422577, 0.2353764921426773, 0.4707529842853546, 0.419842928647995, 0.2099214643239975, 0.2099214643239975, 0.15829268097877502, 0.1339399516582489, 0.048705440014600754, 0.18264539539813995, 0.048705440014600754, 0.06088180094957352, 0.09741088002920151, 0.06088180094957352, 0.024352720007300377, 0.012176360003650188, 0.03652907907962799, 0.07305815815925598, 0.024352720007300377, 0.012176360003650188, 0.012176360003650188, 0.012176360003650188, 0.3514403998851776, 0.7028807997703552, 0.23798947036266327, 0.23798947036266327, 0.47597894072532654, 0.6621984243392944, 0.3310992121696472, 0.3112674653530121, 0.6225349307060242, 0.6699846386909485, 0.33499231934547424, 0.3397414982318878, 0.3397414982318878, 0.3362923264503479, 0.0934145376086235, 0.07473162561655045, 0.13078035414218903, 0.07473162561655045, 0.05604872107505798, 0.03736581280827522, 0.03736581280827522, 0.03736581280827522, 0.05604872107505798, 0.03736581280827522, 0.5017616152763367, 0.25088080763816833, 0.7335812449455261, 0.36679062247276306, 0.0674782320857048, 0.0674782320857048, 0.0674782320857048, 0.1349564641714096, 0.4048693776130676, 0.0674782320857048, 0.0674782320857048, 0.0674782320857048, 0.4866286516189575, 0.24331432580947876, 0.2712792754173279, 0.09042642265558243, 0.2712792754173279, 0.12056856602430344, 0.03014214150607586, 0.03014214150607586, 0.03014214150607586, 0.09042642265558243, 0.06028428301215172, 0.22177790105342865, 0.040323253720998764, 0.10080813616514206, 0.040323253720998764, 0.22177790105342865, 0.060484882444143295, 0.12096976488828659, 0.060484882444143295, 0.020161626860499382, 0.040323253720998764, 0.020161626860499382, 0.020161626860499382, 0.5182631611824036, 0.5182631611824036, 0.7678943872451782, 0.07224852591753006, 0.07224852591753006, 0.18062131106853485, 0.03612426295876503, 0.18062131106853485, 0.32511836290359497, 0.03612426295876503, 0.03612426295876503, 0.03612426295876503, 0.2519289255142212, 0.5038578510284424, 0.2519289255142212, 0.7896608710289001, 0.19741521775722504, 0.36697524785995483, 0.12232508510351181, 0.36697524785995483, 0.24152441322803497, 0.06900697201490402, 0.17251743376255035, 0.03450348600745201, 0.3450348675251007, 0.06900697201490402, 0.03450348600745201, 0.7684045433998108, 0.4063885807991028, 0.24383313953876495, 0.08127771317958832, 0.08127771317958832, 0.08127771317958832, 0.7147878408432007, 0.2382626086473465, 0.8779231905937195, 0.13247857987880707, 0.03785102441906929, 0.03785102441906929, 0.22710613906383514, 0.20818062126636505, 0.03785102441906929, 0.018925512209534645, 0.07570204883813858, 0.03785102441906929, 0.018925512209534645, 0.056776534765958786, 0.056776534765958786, 0.3532837927341461, 0.7065675854682922, 0.3436473608016968, 0.6872947216033936, 0.40495985746383667, 0.5399464964866638, 0.32681119441986084, 0.32681119441986084, 0.32681119441986084, 0.7622355222702026, 0.3811177611351013, 0.7095018625259399, 0.6614447236061096, 0.3307223618030548, 0.6798658967018127, 0.33993294835090637, 0.22043375670909882, 0.03890007361769676, 0.03890007361769676, 0.07780014723539352, 0.10373353213071823, 0.07780014723539352, 0.07780014723539352, 0.06483345478773117, 0.012966691516339779, 0.07780014723539352, 0.025933383032679558, 0.051866766065359116, 0.025933383032679558, 0.012966691516339779, 0.025933383032679558, 0.012966691516339779, 0.03890007361769676, 0.35366541147232056, 0.7073308229446411, 0.6436187624931335, 0.05663580819964409, 0.16990743577480316, 0.05663580819964409, 0.05663580819964409, 0.05663580819964409, 0.3398148715496063, 0.05663580819964409, 0.05663580819964409, 0.11327161639928818, 0.5629804730415344, 0.1407451182603836, 0.2814902365207672, 0.32922446727752686, 0.32922446727752686, 0.32922446727752686, 0.31622448563575745, 0.6324489712715149, 0.45586317777633667, 0.22793158888816833, 0.9112869501113892, 0.2117987871170044, 0.2117987871170044, 0.2117987871170044, 0.2117987871170044, 0.19609731435775757, 0.04902432858943939, 0.09804865717887878, 0.09804865717887878, 0.04902432858943939, 0.04902432858943939, 0.09804865717887878, 0.09804865717887878, 0.19609731435775757, 0.04902432858943939, 0.238287091255188, 0.714861273765564, 0.08992026001214981, 0.5395215749740601, 0.08992026001214981, 0.08992026001214981, 0.08992026001214981, 0.08992026001214981, 0.2650710344314575, 0.2650710344314575, 0.530142068862915, 0.36095666885375977, 0.36095666885375977, 0.36095666885375977, 0.2423073798418045, 0.6057684421539307, 0.33374345302581787, 0.09535527229309082, 0.04767763614654541, 0.28606581687927246, 0.09535527229309082, 0.04767763614654541, 0.3590471148490906, 0.059841182082891464, 0.059841182082891464, 0.059841182082891464, 0.3590471148490906, 0.059841182082891464, 0.24335938692092896, 0.4867187738418579, 0.03961379453539848, 0.11884137988090515, 0.07922758907079697, 0.03961379453539848, 0.07922758907079697, 0.07922758907079697, 0.07922758907079697, 0.11884137988090515, 0.03961379453539848, 0.07922758907079697, 0.2772965431213379, 0.11249211430549622, 0.5624605417251587, 0.22498422861099243, 0.7375235557556152, 0.24584119021892548, 0.7562750577926636, 0.1890687644481659, 0.48061704635620117, 0.48061704635620117, 0.2597635090351105, 0.519527018070221, 0.19561655819416046, 0.19561655819416046, 0.09780827909708023, 0.1304110288619995, 0.06520551443099976, 0.1304110288619995, 0.1304110288619995, 0.03260275721549988, 0.03260275721549988, 0.7289825677871704, 0.0911228209733963, 0.0911228209733963, 0.2393798530101776, 0.159586563706398, 0.3989664316177368, 0.079793281853199, 0.079793281853199, 0.4689612090587616, 0.2813767194747925, 0.09379224479198456, 0.09379224479198456, 0.051820024847984314, 0.051820024847984314, 0.051820024847984314, 0.2591001093387604, 0.3109201490879059, 0.051820024847984314, 0.051820024847984314, 0.10364004969596863, 0.6513739228248596, 0.3256869614124298, 0.10257745534181595, 0.2051549106836319, 0.2051549106836319, 0.10257745534181595, 0.10257745534181595, 0.2051549106836319, 0.04001452401280403, 0.16005809605121613, 0.20007261633872986, 0.20007261633872986, 0.1200435683131218, 0.04001452401280403, 0.16005809605121613, 0.04001452401280403, 0.14833812415599823, 0.049446042627096176, 0.09889208525419235, 0.049446042627096176, 0.049446042627096176, 0.09889208525419235, 0.049446042627096176, 0.049446042627096176, 0.14833812415599823, 0.09889208525419235, 0.049446042627096176, 0.09889208525419235, 0.06821978837251663, 0.06821978837251663, 0.13643957674503326, 0.13643957674503326, 0.34109893441200256, 0.06821978837251663, 0.13643957674503326, 0.942381739616394, 0.3763134479522705, 0.3763134479522705, 0.10454890131950378, 0.17424817383289337, 0.13939853012561798, 0.034849632531404495, 0.10454890131950378, 0.20909780263900757, 0.034849632531404495, 0.06969926506280899, 0.06969926506280899, 0.034849632531404495, 0.24924427270889282, 0.49848854541778564, 0.7337108254432678, 0.1420670449733734, 0.0710335224866867, 0.1420670449733734, 0.0710335224866867, 0.0710335224866867, 0.1420670449733734, 0.1420670449733734, 0.21310056746006012, 0.9397510290145874, 0.1392555832862854, 0.2785111665725708, 0.10444168746471405, 0.03481389582157135, 0.03481389582157135, 0.03481389582157135, 0.03481389582157135, 0.03481389582157135, 0.0696277916431427, 0.0696277916431427, 0.03481389582157135, 0.03481389582157135, 0.03481389582157135, 0.03481389582157135, 0.1787615865468979, 0.1430092751979828, 0.0715046375989914, 0.0715046375989914, 0.0715046375989914, 0.1430092751979828, 0.0357523187994957, 0.0715046375989914, 0.0357523187994957, 0.0715046375989914, 0.0357523187994957, 0.5145584344863892, 0.5145584344863892, 0.31066665053367615, 0.15533332526683807, 0.05177777633070946, 0.05177777633070946, 0.10355555266141891, 0.15533332526683807, 0.05177777633070946, 0.05177777633070946, 0.31123626232147217, 0.03890453279018402, 0.03890453279018402, 0.11671359837055206, 0.1945226639509201, 0.03890453279018402, 0.03890453279018402, 0.11671359837055206, 0.03890453279018402, 0.2387726753950119, 0.021706607192754745, 0.19535945355892181, 0.15194624662399292, 0.04341321438550949, 0.08682642877101898, 0.021706607192754745, 0.021706607192754745, 0.021706607192754745, 0.021706607192754745, 0.04341321438550949, 0.06511981785297394, 0.021706607192754745, 0.14788931608200073, 0.29577863216400146, 0.29577863216400146, 0.2227454036474228, 0.06074874475598335, 0.2227454036474228, 0.1214974895119667, 0.020249582827091217, 0.06074874475598335, 0.020249582827091217, 0.020249582827091217, 0.08099833130836487, 0.020249582827091217, 0.06074874475598335, 0.020249582827091217, 0.06074874475598335, 0.9766624569892883, 0.7437183856964111, 0.12395306676626205, 0.23920774459838867, 0.14950484037399292, 0.05980193614959717, 0.05980193614959717, 0.11960387229919434, 0.029900968074798584, 0.11960387229919434, 0.05980193614959717, 0.05980193614959717, 0.11960387229919434, 0.26597097516059875, 0.26597097516059875, 0.26597097516059875, 0.05330950394272804, 0.05330950394272804, 0.15992851555347443, 0.05330950394272804, 0.05330950394272804, 0.05330950394272804, 0.05330950394272804, 0.2665475308895111, 0.05330950394272804, 0.10661900788545609, 0.8827199935913086, 0.24461068212985992, 0.0752648264169693, 0.03763241320848465, 0.1505296528339386, 0.056448619812726974, 0.03763241320848465, 0.0752648264169693, 0.03763241320848465, 0.018816206604242325, 0.03763241320848465, 0.018816206604242325, 0.03763241320848465, 0.056448619812726974, 0.0752648264169693, 0.018816206604242325, 0.7674621939659119, 0.7431051731109619, 0.2477017194032669, 0.10483524948358536, 0.034945081919431686, 0.034945081919431686, 0.34945082664489746, 0.2271430343389511, 0.12230779230594635, 0.034945081919431686, 0.017472540959715843, 0.017472540959715843, 0.017472540959715843, 0.185696080327034, 0.5570882558822632, 0.06366617977619171, 0.12733235955238342, 0.5093294382095337, 0.06366617977619171, 0.06366617977619171, 0.06366617977619171, 0.40464162826538086, 0.13488054275512695, 0.40464162826538086, 0.12540274858474731, 0.06270137429237366, 0.12540274858474731, 0.4389096200466156, 0.09405206143856049, 0.03135068714618683, 0.06270137429237366, 0.09804003685712814, 0.29412010312080383, 0.09804003685712814, 0.29412010312080383, 0.1960800737142563, 0.09804003685712814, 0.3103707432746887, 0.6207414865493774, 0.3119724690914154, 0.6239449381828308, 0.6227127909660339, 0.31135639548301697, 0.22036989033222198, 0.018364157527685165, 0.055092472583055496, 0.018364157527685165, 0.20200572907924652, 0.12854909896850586, 0.018364157527685165, 0.07345663011074066, 0.018364157527685165, 0.018364157527685165, 0.07345663011074066, 0.03672831505537033, 0.018364157527685165, 0.055092472583055496, 0.018364157527685165, 0.31023138761520386, 0.6204627752304077, 0.6320871710777283, 0.2809276282787323, 0.32071784138679504, 0.09868241101503372, 0.07401181012392044, 0.04934120550751686, 0.02467060275375843, 0.123353011906147, 0.02467060275375843, 0.02467060275375843, 0.04934120550751686, 0.09868241101503372, 0.07401181012392044, 0.02467060275375843, 0.21787148714065552, 0.6536144614219666, 0.12746618688106537, 0.06373309344053268, 0.12746618688106537, 0.16995492577552795, 0.04248873144388199, 0.10622182488441467, 0.08497746288776398, 0.10622182488441467, 0.021244365721940994, 0.021244365721940994, 0.021244365721940994, 0.04248873144388199, 0.04248873144388199, 0.021244365721940994, 0.16124504804611206, 0.14658641815185547, 0.16124504804611206, 0.14658641815185547, 0.08795184642076492, 0.08795184642076492, 0.014658641070127487, 0.04397592321038246, 0.014658641070127487, 0.029317282140254974, 0.029317282140254974, 0.029317282140254974, 0.014658641070127487, 0.014658641070127487, 0.32731112837791443, 0.6546222567558289, 0.30873724818229675, 0.6174744963645935, 0.4342113733291626, 0.0723685622215271, 0.25328996777534485, 0.0723685622215271, 0.0723685622215271, 0.03618428111076355, 0.6204642653465271, 0.05940508469939232, 0.41583558917045593, 0.11881016939878464, 0.23762033879756927, 0.05940508469939232, 0.2148616760969162, 0.1074308380484581, 0.2148616760969162, 0.4297233521938324, 0.7212182879447937, 0.12020304799079895, 0.6618595123291016, 0.3309297561645508, 0.07227253913879395, 0.07227253913879395, 0.1445450782775879, 0.07227253913879395, 0.43363523483276367, 0.07227253913879395, 0.38231250643730164, 0.38231250643730164, 0.11683332175016403, 0.07788887619972229, 0.4283888339996338, 0.07788887619972229, 0.038944438099861145, 0.038944438099861145, 0.038944438099861145, 0.038944438099861145, 0.07788887619972229, 0.038944438099861145, 0.18700160086154938, 0.18700160086154938, 0.09350080043077469, 0.09350080043077469, 0.09350080043077469, 0.09350080043077469, 0.2805023789405823, 0.23158389329910278, 0.057895973324775696, 0.10131795704364777, 0.07236997038125992, 0.07236997038125992, 0.08684395998716354, 0.07236997038125992, 0.014473993331193924, 0.028947986662387848, 0.028947986662387848, 0.07236997038125992, 0.014473993331193924, 0.028947986662387848, 0.028947986662387848, 0.04342197999358177, 0.014473993331193924, 0.014473993331193924, 0.014473993331193924, 0.3421420156955719, 0.3421420156955719, 0.3421420156955719, 0.18829940259456635, 0.5648981928825378, 0.26463982462882996, 0.26463982462882996, 0.33079975843429565, 0.6339461207389832, 0.3169730603694916, 0.5035290122032166, 0.33568599820137024, 0.07948997616767883, 0.2384699434041977, 0.39744988083839417, 0.07948997616767883, 0.07948997616767883, 0.25182920694351196, 0.08394306898117065, 0.04197153449058533, 0.08394306898117065, 0.12591460347175598, 0.04197153449058533, 0.08394306898117065, 0.04197153449058533, 0.1678861379623413, 0.04197153449058533, 0.07762165367603302, 0.4657299220561981, 0.07762165367603302, 0.07762165367603302, 0.07762165367603302, 0.07762165367603302, 0.07762165367603302, 0.07762165367603302, 0.9577043056488037, 0.11498851329088211, 0.22997702658176422, 0.22997702658176422, 0.22997702658176422, 0.27682527899742126, 0.5536505579948425, 0.37403228878974915, 0.02671659179031849, 0.18701614439487457, 0.05343318358063698, 0.05343318358063698, 0.02671659179031849, 0.10686636716127396, 0.05343318358063698, 0.02671659179031849, 0.05343318358063698, 0.2597704827785492, 0.0649426206946373, 0.0649426206946373, 0.0649426206946373, 0.0649426206946373, 0.0649426206946373, 0.0649426206946373, 0.1948278546333313, 0.17380520701408386, 0.11587014049291611, 0.11587014049291611, 0.28967535495758057, 0.057935070246458054, 0.057935070246458054, 0.057935070246458054, 0.8693205714225769, 0.767548143863678, 0.8981220126152039, 0.1322615146636963, 0.19839227199554443, 0.1322615146636963, 0.3306537866592407, 0.06613075733184814, 0.20212575793266296, 0.4042515158653259, 0.4042515158653259, 0.23417721688747406, 0.4683544337749481, 0.23417721688747406, 0.0790688619017601, 0.2108502984046936, 0.0263562873005867, 0.1054251492023468, 0.0790688619017601, 0.0527125746011734, 0.1054251492023468, 0.0263562873005867, 0.0527125746011734, 0.0263562873005867, 0.0527125746011734, 0.0263562873005867, 0.1054251492023468, 0.0527125746011734, 0.439176470041275, 0.2195882350206375, 0.32938235998153687, 0.1691778153181076, 0.1691778153181076, 0.3383556306362152, 0.1691778153181076, 0.5931810140609741, 0.04562930762767792, 0.04562930762767792, 0.13688792288303375, 0.04562930762767792, 0.04562930762767792, 0.21690241992473602, 0.21690241992473602, 0.43380483984947205, 0.5677216053009033, 0.05161105468869209, 0.10322210937738419, 0.05161105468869209, 0.05161105468869209, 0.05161105468869209, 0.05161105468869209, 0.05161105468869209, 0.3106115460395813, 0.6212230920791626, 0.3071306645870209, 0.10237688571214676, 0.10237688571214676, 0.40950754284858704, 0.327385812997818, 0.654771625995636, 0.6876728534698486, 0.3438364267349243, 0.17664982378482819, 0.11776654422283173, 0.05888327211141586, 0.11776654422283173, 0.05888327211141586, 0.41218289732933044, 0.09823699295520782, 0.14735549688339233, 0.19647398591041565, 0.04911849647760391, 0.04911849647760391, 0.04911849647760391, 0.04911849647760391, 0.09823699295520782, 0.14735549688339233, 0.04911849647760391, 0.04911849647760391, 0.2782876193523407, 0.3710501790046692, 0.1855250895023346, 0.1855250895023346, 0.327932745218277, 0.1639663726091385, 0.327932745218277, 0.1639663726091385, 0.5924600958824158, 0.39497339725494385, 0.27548420429229736, 0.10595545917749405, 0.04238218441605568, 0.12714655697345734, 0.06357327848672867, 0.10595545917749405, 0.12714655697345734, 0.02119109220802784, 0.04238218441605568, 0.02119109220802784, 0.02119109220802784, 0.02119109220802784, 0.02119109220802784, 0.2457011491060257, 0.7371034622192383, 0.18966630101203918, 0.12644419074058533, 0.07902762293815613, 0.20547182857990265, 0.015805523842573166, 0.09483315050601959, 0.015805523842573166, 0.03161104768514633, 0.03161104768514633, 0.015805523842573166, 0.015805523842573166, 0.06322209537029266, 0.047416575253009796, 0.015805523842573166, 0.30961254239082336, 0.07740313559770584, 0.07740313559770584, 0.23220939934253693, 0.07740313559770584, 0.15480627119541168, 0.07740313559770584, 0.2563106119632721, 0.10679609328508377, 0.0854368731379509, 0.04271843656897545, 0.06407765299081802, 0.06407765299081802, 0.04271843656897545, 0.21359218657016754, 0.021359218284487724, 0.021359218284487724, 0.06407765299081802, 0.18240253627300262, 0.3040042221546173, 0.06080084666609764, 0.12160169333219528, 0.06080084666609764, 0.18240253627300262, 0.06080084666609764, 0.2360224574804306, 0.7080673575401306, 0.4135655462741852, 0.2067827731370926, 0.4135655462741852, 0.13387705385684967, 0.6693852543830872, 0.23592768609523773, 0.707783043384552, 0.18731290102005005, 0.1311190277338028, 0.05619387328624725, 0.03746258094906807, 0.1123877465724945, 0.03746258094906807, 0.03746258094906807, 0.05619387328624725, 0.1123877465724945, 0.05619387328624725, 0.07492516189813614, 0.018731290474534035, 0.05619387328624725, 0.9808841943740845, 0.2263738214969635, 0.11318691074848175, 0.11318691074848175, 0.33956074714660645, 0.11318691074848175, 0.1046513244509697, 0.04186053201556206, 0.02093026600778103, 0.08372106403112411, 0.04186053201556206, 0.16744212806224823, 0.06279079616069794, 0.02093026600778103, 0.04186053201556206, 0.04186053201556206, 0.02093026600778103, 0.04186053201556206, 0.12558159232139587, 0.06279079616069794, 0.1046513244509697, 0.33628228306770325, 0.6725645661354065, 0.31983259320259094, 0.15991629660129547, 0.15991629660129547, 0.31983259320259094, 0.20084626972675323, 0.6025388240814209, 0.20084626972675323, 0.44045203924179077, 0.22022601962089539, 0.22022601962089539, 0.2463008165359497, 0.4926016330718994, 0.152265727519989, 0.12181258201599121, 0.36543774604797363, 0.030453145503997803, 0.152265727519989, 0.060906291007995605, 0.060906291007995605, 0.030453145503997803, 0.3525180220603943, 0.7050360441207886, 0.8675394654273987, 0.6926987767219543, 0.3463493883609772, 0.30881887674331665, 0.30881887674331665, 0.15440943837165833, 0.15440943837165833, 0.17373214662075043, 0.05791071429848671, 0.40537500381469727, 0.11582142859697342, 0.05791071429848671, 0.11582142859697342, 0.14995744824409485, 0.2999148964881897, 0.44987234473228455, 0.17949405312538147, 0.17949405312538147, 0.08974702656269073, 0.5384821891784668, 0.27750033140182495, 0.2081252485513687, 0.4162504971027374, 0.9254153966903687, 0.1225091964006424, 0.081672802567482, 0.163345605134964, 0.0612545982003212, 0.0612545982003212, 0.1429273933172226, 0.040836401283741, 0.040836401283741, 0.0204182006418705, 0.0204182006418705, 0.0612545982003212, 0.081672802567482, 0.040836401283741, 0.040836401283741, 0.6029505133628845, 0.21533946692943573, 0.043067894876003265, 0.08613578975200653, 0.3163363039493561, 0.18980179727077484, 0.12653452157974243, 0.06326726078987122, 0.12653452157974243, 0.057522352784872055, 0.17256705462932587, 0.057522352784872055, 0.057522352784872055, 0.11504470556974411, 0.057522352784872055, 0.11504470556974411, 0.057522352784872055, 0.17256705462932587, 0.057522352784872055, 0.057522352784872055, 0.4564768671989441, 0.05370315909385681, 0.13425789773464203, 0.05370315909385681, 0.05370315909385681, 0.08055473864078522, 0.026851579546928406, 0.10740631818771362, 0.026851579546928406, 0.026851579546928406, 0.733791708946228, 0.25322720408439636, 0.10852595418691635, 0.0723506361246109, 0.03617531806230545, 0.0723506361246109, 0.03617531806230545, 0.1447012722492218, 0.03617531806230545, 0.03617531806230545, 0.0723506361246109, 0.03617531806230545, 0.0723506361246109, 0.14263080060482025, 0.2852616012096405, 0.42789238691329956, 0.31691238284111023, 0.6338247656822205, 0.5305200219154358, 0.5305200219154358, 0.10055902600288391, 0.10055902600288391, 0.20111805200576782, 0.050279513001441956, 0.050279513001441956, 0.30167707800865173, 0.050279513001441956, 0.050279513001441956, 0.050279513001441956, 0.05916805937886238, 0.05916805937886238, 0.41417640447616577, 0.17750418186187744, 0.05916805937886238, 0.05916805937886238, 0.05916805937886238, 0.05916805937886238, 0.05916805937886238, 0.6424304842948914, 0.16060762107372284, 0.23349611461162567, 0.15566407144069672, 0.11674805730581284, 0.03891601786017418, 0.07783203572034836, 0.03891601786017418, 0.03891601786017418, 0.03891601786017418, 0.07783203572034836, 0.03891601786017418, 0.03891601786017418, 0.07783203572034836, 0.4595378041267395, 0.11488445103168488, 0.34465333819389343, 0.40989792346954346, 0.20494896173477173, 0.40989792346954346, 0.34565091133117676, 0.34565091133117676, 0.34565091133117676, 0.1993168443441391, 0.09965842217206955, 0.3986336886882782, 0.09965842217206955, 0.09965842217206955, 0.22307980060577393, 0.11153990030288696, 0.44615960121154785, 0.11153990030288696, 0.21023055911064148, 0.42046111822128296, 0.21023055911064148, 0.2592015564441681, 0.2592015564441681, 0.43200260400772095, 0.288288950920105, 0.10090113431215286, 0.043243344873189926, 0.043243344873189926, 0.10090113431215286, 0.014414447359740734, 0.057657789438962936, 0.043243344873189926, 0.057657789438962936, 0.057657789438962936, 0.014414447359740734, 0.028828894719481468, 0.057657789438962936, 0.057657789438962936, 0.028828894719481468, 0.014414447359740734, 0.014414447359740734, 0.19632558524608612, 0.19632558524608612, 0.19632558524608612, 0.39265117049217224, 0.4218630790710449, 0.21093153953552246, 0.4218630790710449, 0.1998327523469925, 0.16115544736385345, 0.12247813493013382, 0.109585702419281, 0.03223108872771263, 0.03867730498313904, 0.025784870609641075, 0.012892435304820538, 0.012892435304820538, 0.025784870609641075, 0.03223108872771263, 0.07090839743614197, 0.05801595747470856, 0.025784870609641075, 0.006446217652410269, 0.01933865249156952, 0.03223108872771263, 0.01933865249156952, 0.006446217652410269, 0.12132410705089569, 0.24264821410179138, 0.12132410705089569, 0.3033102750778198, 0.060662053525447845, 0.060662053525447845, 0.060662053525447845, 0.5787109732627869, 0.19290366768836975, 0.19290366768836975, 0.731203556060791, 0.15264174342155457, 0.15264174342155457, 0.22896260023117065, 0.15264174342155457, 0.15264174342155457, 0.10998281091451645, 0.054991405457258224, 0.32994842529296875, 0.10998281091451645, 0.054991405457258224, 0.16497421264648438, 0.054991405457258224, 0.054991405457258224, 0.1258099377155304, 0.6290497183799744, 0.1258099377155304, 0.09461373835802078, 0.04730686917901039, 0.09461373835802078, 0.18922747671604156, 0.23653435707092285, 0.04730686917901039, 0.04730686917901039, 0.09461373835802078, 0.04730686917901039, 0.09461373835802078, 0.34691137075424194, 0.6938227415084839, 0.8682828545570374, 0.14966833591461182, 0.14966833591461182, 0.14966833591461182, 0.14966833591461182, 0.29933667182922363, 0.9535409808158875, 0.16596512496471405, 0.04149128124117851, 0.18671077489852905, 0.10372820496559143, 0.020745640620589256, 0.10372820496559143, 0.020745640620589256, 0.12447384744882584, 0.020745640620589256, 0.08298256248235703, 0.08298256248235703, 0.020745640620589256, 0.020745640620589256, 0.4599641263484955, 0.07666068524122238, 0.051107123494148254, 0.12776781618595123, 0.025553561747074127, 0.051107123494148254, 0.025553561747074127, 0.051107123494148254, 0.025553561747074127, 0.025553561747074127, 0.025553561747074127, 0.025553561747074127, 0.24652326107025146, 0.24652326107025146, 0.32869768142700195, 0.2790728509426117, 0.07611078023910522, 0.10148104280233383, 0.10148104280233383, 0.10148104280233383, 0.050740521401166916, 0.07611078023910522, 0.025370260700583458, 0.12685130536556244, 0.025370260700583458, 0.025370260700583458, 0.7682715058326721, 0.1309441477060318, 0.5237765908241272, 0.1309441477060318, 0.2618882954120636, 0.147842675447464, 0.295685350894928, 0.295685350894928, 0.147842675447464, 0.147842675447464, 0.36578062176704407, 0.7315612435340881, 0.3469407856464386, 0.3469407856464386, 0.3469407856464386, 0.16053204238414764, 0.25685128569602966, 0.09631922841072083, 0.03210641071200371, 0.03210641071200371, 0.06421282142400742, 0.12842564284801483, 0.06421282142400742, 0.06421282142400742, 0.06421282142400742, 0.13558581471443176, 0.22597636282444, 0.04519527405500412, 0.09039054811000824, 0.04519527405500412, 0.18078109622001648, 0.13558581471443176, 0.09039054811000824, 0.3000853657722473, 0.15004268288612366, 0.15004268288612366, 0.3000853657722473, 0.8789617419242859, 0.14916491508483887, 0.2237473726272583, 0.07458245754241943, 0.07458245754241943, 0.37291228771209717, 0.619996964931488, 0.309998482465744, 0.10995516180992126, 0.10995516180992126, 0.27488791942596436, 0.1649327427148819, 0.05497758090496063, 0.10995516180992126, 0.10995516180992126, 0.04075291007757187, 0.4890349507331848, 0.08150582015514374, 0.16301164031028748, 0.16301164031028748, 0.04075291007757187, 0.2787613868713379, 0.021443182602524757, 0.021443182602524757, 0.021443182602524757, 0.17154546082019806, 0.021443182602524757, 0.042886365205049515, 0.12865909934043884, 0.042886365205049515, 0.08577273041009903, 0.08577273041009903, 0.042886365205049515, 0.11442394554615021, 0.11442394554615021, 0.45769578218460083, 0.22884789109230042, 0.5228610634803772, 0.5228610634803772, 0.1439962238073349, 0.1439962238073349, 0.2879924476146698, 0.4319886863231659, 0.16365419328212738, 0.16365419328212738, 0.16365419328212738, 0.32730838656425476, 0.037939559668302536, 0.1138186827301979, 0.037939559668302536, 0.49321427941322327, 0.2276373654603958, 0.3017900586128235, 0.22634252905845642, 0.3017900586128235, 0.07544751465320587, 0.21329595148563385, 0.21329595148563385, 0.4265919029712677, 0.13215002417564392, 0.03303750604391098, 0.03303750604391098, 0.09911252558231354, 0.03303750604391098, 0.09911252558231354, 0.13215002417564392, 0.03303750604391098, 0.06607501208782196, 0.06607501208782196, 0.03303750604391098, 0.03303750604391098, 0.03303750604391098, 0.06607501208782196, 0.09911252558231354, 0.42935261130332947, 0.16100722551345825, 0.10733815282583237, 0.053669076412916183, 0.053669076412916183, 0.053669076412916183, 0.573517382144928, 0.114703468978405, 0.22940693795681, 0.09425394982099533, 0.047126974910497665, 0.047126974910497665, 0.047126974910497665, 0.4241427481174469, 0.18850789964199066, 0.047126974910497665, 0.047126974910497665, 0.047126974910497665, 0.9341254234313965, 0.5746337175369263, 0.383089154958725, 0.262524276971817, 0.262524276971817, 0.06563106924295425, 0.06563106924295425, 0.06563106924295425, 0.06563106924295425, 0.1312621384859085, 0.06563106924295425, 0.5087313055992126, 0.5087313055992126, 0.8723444938659668, 0.40963295102119446, 0.20481647551059723, 0.40963295102119446, 0.24734912812709808, 0.49469825625419617, 0.24734912812709808, 0.1902114897966385, 0.5706344842910767, 0.1902114897966385, 0.1650710552930832, 0.1650710552930832, 0.0550236850976944, 0.2751184105873108, 0.1100473701953888, 0.0550236850976944, 0.0550236850976944, 0.0550236850976944, 0.043632131069898605, 0.30542489886283875, 0.08726426213979721, 0.08726426213979721, 0.043632131069898605, 0.13089638948440552, 0.043632131069898605, 0.13089638948440552, 0.043632131069898605, 0.12710699439048767, 0.08473799377679825, 0.08473799377679825, 0.042368996888399124, 0.042368996888399124, 0.042368996888399124, 0.46605896949768066, 0.042368996888399124, 0.042368996888399124, 0.042368996888399124, 0.34157586097717285, 0.34157586097717285, 0.34157586097717285, 0.3359801173210144, 0.3359801173210144, 0.3359801173210144, 0.17245452105998993, 0.02463635988533497, 0.04927271977066994, 0.19709087908267975, 0.17245452105998993, 0.04927271977066994, 0.04927271977066994, 0.02463635988533497, 0.02463635988533497, 0.02463635988533497, 0.07390908151865005, 0.09854543954133987, 0.02463635988533497, 0.6615467667579651, 0.33077338337898254, 0.6056532859802246, 0.3028266429901123, 0.3545037806034088, 0.3545037806034088, 0.3545037806034088, 0.2102040797472, 0.14013604819774628, 0.03503401204943657, 0.07006802409887314, 0.38537415862083435, 0.03503401204943657, 0.03503401204943657, 0.03503401204943657, 0.03503401204943657, 0.7407734394073486, 0.3703867197036743, 0.41779062151908875, 0.41779062151908875, 0.10669907927513123, 0.17783179879188538, 0.07113271951675415, 0.035566359758377075, 0.07113271951675415, 0.035566359758377075, 0.10669907927513123, 0.17783179879188538, 0.1422654390335083, 0.035566359758377075, 0.035566359758377075, 0.035566359758377075, 0.06113703176379204, 0.06113703176379204, 0.12227406352758408, 0.12227406352758408, 0.3056851625442505, 0.06113703176379204, 0.06113703176379204, 0.06113703176379204, 0.12227406352758408, 0.20132669806480408, 0.05033167451620102, 0.15099503099918365, 0.2516583800315857, 0.05033167451620102, 0.05033167451620102, 0.10066334903240204, 0.05033167451620102, 0.25742805004119873, 0.12871402502059937, 0.12871402502059937, 0.12871402502059937, 0.25742805004119873, 0.4250398278236389, 0.5100477933883667, 0.347817987203598, 0.347817987203598, 0.347817987203598, 0.11719115078449249, 0.11719115078449249, 0.23438230156898499, 0.3515734374523163, 0.11719115078449249, 0.11719115078449249, 0.2532156705856323, 0.08440522849559784, 0.16881045699119568, 0.08440522849559784, 0.33762091398239136, 0.17869596183300018, 0.08934798091650009, 0.17869596183300018, 0.17869596183300018, 0.044673990458250046, 0.08934798091650009, 0.044673990458250046, 0.044673990458250046, 0.08934798091650009, 0.044673990458250046, 0.32129812240600586, 0.32129812240600586, 0.32129812240600586, 0.3149779140949249, 0.6299558281898499, 0.2375909835100174, 0.2375909835100174, 0.2375909835100174, 0.20975123345851898, 0.41950246691703796, 0.20975123345851898, 0.6482309103012085, 0.32411545515060425, 0.38812753558158875, 0.19406376779079437, 0.38812753558158875, 0.2543701231479645, 0.2543701231479645, 0.2543701231479645, 0.7180988788604736, 0.14361977577209473, 0.12512804567813873, 0.15641005337238312, 0.06256402283906937, 0.25025609135627747, 0.09384603053331375, 0.09384603053331375, 0.03128201141953468, 0.03128201141953468, 0.03128201141953468, 0.03128201141953468, 0.03128201141953468, 0.6100125312805176, 0.20333752036094666, 0.015801437199115753, 0.12641149759292603, 0.09480862319469452, 0.12641149759292603, 0.09480862319469452, 0.015801437199115753, 0.015801437199115753, 0.06320574879646301, 0.09480862319469452, 0.04740431159734726, 0.031602874398231506, 0.07900718599557877, 0.015801437199115753, 0.015801437199115753, 0.07900718599557877, 0.015801437199115753, 0.04740431159734726, 0.015801437199115753, 0.5681070685386658, 0.2840535342693329, 0.2613140642642975, 0.522628128528595, 0.748040497303009, 0.3740202486515045, 0.8908608555793762, 0.2338537722826004, 0.2338537722826004, 0.4677075445652008, 0.231411874294281, 0.694235622882843, 0.6776332855224609, 0.33881664276123047, 0.4979737102985382, 0.08299561589956284, 0.08299561589956284, 0.2489868551492691, 0.6764798164367676, 0.1879110485315323, 0.03758221119642258, 0.03758221119642258, 0.03758221119642258, 0.6363521218299866, 0.1511613130569458, 0.3023226261138916, 0.4534839391708374, 0.5632622241973877, 0.28163111209869385, 0.8659455180168152, 0.282228022813797, 0.17639251053333282, 0.035278502851724625, 0.035278502851724625, 0.07055700570344925, 0.035278502851724625, 0.07055700570344925, 0.035278502851724625, 0.07055700570344925, 0.1411140114068985, 0.035278502851724625, 0.05137156322598457, 0.15411469340324402, 0.05137156322598457, 0.10274312645196915, 0.10274312645196915, 0.25685781240463257, 0.10274312645196915, 0.10274312645196915, 0.05137156322598457, 0.6782015562057495, 0.16955038905143738, 0.15136142075061798, 0.050453804433345795, 0.050453804433345795, 0.050453804433345795, 0.050453804433345795, 0.10090760886669159, 0.050453804433345795, 0.30272284150123596, 0.050453804433345795, 0.050453804433345795, 0.7263817191123962, 0.3631908595561981, 0.1344517469406128, 0.1344517469406128, 0.053780701011419296, 0.2957938611507416, 0.026890350505709648, 0.053780701011419296, 0.0806710496544838, 0.053780701011419296, 0.053780701011419296, 0.0806710496544838, 0.026890350505709648, 0.026890350505709648, 0.949968159198761, 0.13986915349960327, 0.8392149209976196, 0.1423010230064392, 0.0711505115032196, 0.5692040920257568, 0.0711505115032196, 0.0711505115032196, 0.18822230398654938, 0.5646669268608093, 0.2608175575733185, 0.08693918585777283, 0.08693918585777283, 0.3477567434310913, 0.08693918585777283, 0.17824330925941467, 0.5347299575805664, 0.17824330925941467, 0.9401974081993103, 0.40716591477394104, 0.22620327770709991, 0.06786098331212997, 0.06786098331212997, 0.09048131108283997, 0.02262032777070999, 0.02262032777070999, 0.02262032777070999, 0.02262032777070999, 0.0618300624191761, 0.0618300624191761, 0.1854901760816574, 0.4328104257583618, 0.0618300624191761, 0.1236601248383522, 0.0686466172337532, 0.2059398591518402, 0.480526328086853, 0.2059398591518402, 0.5188254714012146, 0.2594127357006073, 0.6388797760009766, 0.6919264793395996, 0.13838529586791992, 0.13838529586791992, 0.679638683795929, 0.3398193418979645, 0.15903721749782562, 0.6361488699913025, 0.06739210337400436, 0.5391368269920349, 0.26956841349601746, 0.06739210337400436, 0.9588603377342224, 0.23558668792247772, 0.7067601084709167, 0.08968179672956467, 0.17936359345912933, 0.08968179672956467, 0.08968179672956467, 0.44840899109840393, 0.14187732338905334, 0.42563197016716003, 0.14187732338905334, 0.6399143934249878, 0.3199571967124939, 0.21919603645801544, 0.6575881242752075, 0.35410410165786743, 0.7082082033157349, 0.2658322751522064, 0.2658322751522064, 0.3322903513908386, 0.10642321407794952, 0.10642321407794952, 0.7449625134468079, 0.07834290713071823, 0.07834290713071823, 0.15668581426143646, 0.07834290713071823, 0.07834290713071823, 0.3133716285228729, 0.15668581426143646, 0.2960101366043091, 0.14800506830215454, 0.14800506830215454, 0.14800506830215454, 0.14800506830215454, 0.17735600471496582, 0.17735600471496582, 0.17735600471496582, 0.17735600471496582, 0.35471200942993164, 0.0622151643037796, 0.0622151643037796, 0.0622151643037796, 0.4355061650276184, 0.2488606572151184, 0.0622151643037796, 0.3164590895175934, 0.6329181790351868, 0.15186026692390442, 0.037965066730976105, 0.15186026692390442, 0.037965066730976105, 0.037965066730976105, 0.037965066730976105, 0.15186026692390442, 0.037965066730976105, 0.07593013346195221, 0.037965066730976105, 0.037965066730976105, 0.037965066730976105, 0.07593013346195221, 0.07593013346195221, 0.7957454919815063, 0.11367792636156082, 0.16813865303993225, 0.16813865303993225, 0.05604621767997742, 0.05604621767997742, 0.05604621767997742, 0.05604621767997742, 0.22418487071990967, 0.05604621767997742, 0.05604621767997742, 0.05604621767997742, 0.15596076846122742, 0.15596076846122742, 0.15596076846122742, 0.15596076846122742, 0.31192153692245483, 0.4829849302768707, 0.1609949767589569, 0.1609949767589569, 0.1609949767589569, 0.06988605856895447, 0.06988605856895447, 0.06988605856895447, 0.8386327028274536, 0.8984728455543518, 0.26081982254981995, 0.03725997731089592, 0.03725997731089592, 0.07451995462179184, 0.1862998902797699, 0.03725997731089592, 0.07451995462179184, 0.03725997731089592, 0.03725997731089592, 0.1862998902797699, 0.21511243283748627, 0.10755621641874313, 0.05377810820937157, 0.026889054104685783, 0.10755621641874313, 0.13444526493549347, 0.026889054104685783, 0.026889054104685783, 0.10755621641874313, 0.026889054104685783, 0.026889054104685783, 0.026889054104685783, 0.026889054104685783, 0.026889054104685783, 0.7084246277809143, 0.23614153265953064, 0.21510642766952515, 0.10755321383476257, 0.035851072520017624, 0.035851072520017624, 0.10755321383476257, 0.035851072520017624, 0.07170214504003525, 0.035851072520017624, 0.035851072520017624, 0.035851072520017624, 0.035851072520017624, 0.07170214504003525, 0.1434042900800705, 0.035851072520017624, 0.6440656185150146, 0.2617254853248596, 0.5234509706497192, 0.3333078920841217, 0.49996182322502136, 0.15986134111881256, 0.6394453644752502, 0.34804677963256836, 0.34804677963256836, 0.34804677963256836, 0.719601571559906, 0.15999287366867065, 0.10285256057977676, 0.05714030936360359, 0.09142449498176575, 0.21713317930698395, 0.045712247490882874, 0.034284185618162155, 0.045712247490882874, 0.045712247490882874, 0.011428061872720718, 0.011428061872720718, 0.045712247490882874, 0.045712247490882874, 0.034284185618162155, 0.011428061872720718, 0.011428061872720718, 0.011428061872720718, 0.20990709960460663, 0.20990709960460663, 0.41981419920921326, 0.20990709960460663, 0.35939618945121765, 0.35939618945121765, 0.35939618945121765, 0.20556767284870148, 0.8222706913948059, 0.2930280864238739, 0.0450812429189682, 0.0225406214594841, 0.1352437287569046, 0.0901624858379364, 0.0450812429189682, 0.0450812429189682, 0.0225406214594841, 0.0225406214594841, 0.0225406214594841, 0.0450812429189682, 0.0225406214594841, 0.0901624858379364, 0.0225406214594841, 0.0225406214594841, 0.0450812429189682, 0.322607159614563, 0.645214319229126, 0.30690592527389526, 0.15345296263694763, 0.15345296263694763, 0.05115098878741264, 0.05115098878741264, 0.10230197757482529, 0.15345296263694763, 0.7597922682762146, 0.25326409935951233, 0.7685454487800598, 0.08646693080663681, 0.08646693080663681, 0.17293386161327362, 0.08646693080663681, 0.08646693080663681, 0.17293386161327362, 0.17293386161327362, 0.10243885219097137, 0.05121942609548569, 0.3073165714740753, 0.25609713792800903, 0.20487770438194275, 0.19371658563613892, 0.03228609636425972, 0.09685829281806946, 0.12914438545703888, 0.1614304929971695, 0.09685829281806946, 0.03228609636425972, 0.09685829281806946, 0.03228609636425972, 0.03228609636425972, 0.09685829281806946, 0.7672927975654602, 0.34480050206184387, 0.517200767993927, 0.17240025103092194, 0.2698708474636078, 0.2698708474636078, 0.5397416949272156, 0.7457172274589539, 0.12428620457649231, 0.23854997754096985, 0.7156499028205872, 0.6599247455596924, 0.1649811863899231, 0.1963871270418167, 0.09819356352090836, 0.09819356352090836, 0.09819356352090836, 0.3927742540836334, 0.09819356352090836, 0.6750590205192566, 0.1125098317861557, 0.1125098317861557, 0.1125098317861557, 0.5198820233345032, 0.2599410116672516, 0.2599410116672516, 0.8012018203735352, 0.1001502275466919, 0.4153519868850708, 0.1038379967212677, 0.2076759934425354, 0.1038379967212677, 0.05191899836063385, 0.05191899836063385, 0.3417353928089142, 0.05695590004324913, 0.05695590004324913, 0.05695590004324913, 0.05695590004324913, 0.28477948904037476, 0.11391180008649826, 0.6423618197441101, 0.32118090987205505, 0.266724169254303, 0.08890805393457413, 0.08890805393457413, 0.08890805393457413, 0.08890805393457413, 0.266724169254303, 0.3375350534915924, 0.3375350534915924, 0.3375350534915924, 0.16135871410369873, 0.16135871410369873, 0.16135871410369873, 0.4840761423110962, 0.6332197785377502, 0.3166098892688751, 0.2149420976638794, 0.1074710488319397, 0.5373552441596985, 0.20712949335575104, 0.20712949335575104, 0.4142589867115021, 0.20712949335575104, 0.1309296041727066, 0.0654648020863533, 0.1309296041727066, 0.0654648020863533, 0.1309296041727066, 0.0654648020863533, 0.2618592083454132, 0.0654648020863533, 0.2035769522190094, 0.2035769522190094, 0.4071539044380188, 0.053301457315683365, 0.0799521878361702, 0.0799521878361702, 0.053301457315683365, 0.13325364887714386, 0.026650728657841682, 0.4264116585254669, 0.026650728657841682, 0.026650728657841682, 0.0799521878361702, 0.21729058027267456, 0.4345811605453491, 0.21729058027267456, 0.9601898193359375, 0.17525970935821533, 0.17525970935821533, 0.35051941871643066, 0.32226765155792236, 0.6445353031158447, 0.31143718957901, 0.62287437915802, 0.1674051582813263, 0.25110772252082825, 0.1674051582813263, 0.3348103165626526, 0.08370257914066315, 0.08370257914066315, 0.3943294882774353, 0.5914942026138306, 0.525547444820404, 0.03284671530127525, 0.0656934306025505, 0.03284671530127525, 0.262773722410202, 0.03284671530127525, 0.03284671530127525, 0.35115519165992737, 0.08262474834918976, 0.08262474834918976, 0.1032809391617775, 0.04131237417459488, 0.02065618708729744, 0.12393712252378464, 0.02065618708729744, 0.02065618708729744, 0.02065618708729744, 0.04131237417459488, 0.02065618708729744, 0.02065618708729744, 0.06998751312494278, 0.17496877908706665, 0.20996253192424774, 0.13997502624988556, 0.03499375656247139, 0.06998751312494278, 0.03499375656247139, 0.03499375656247139, 0.06998751312494278, 0.03499375656247139, 0.03499375656247139, 0.03499375656247139, 0.03499375656247139, 0.8684391975402832, 0.6743656992912292, 0.3371828496456146, 0.2070797234773636, 0.4141594469547272, 0.2070797234773636, 0.9710930585861206, 0.3543577194213867, 0.7087154388427734, 0.1077112928032875, 0.3231338858604431, 0.43084517121315, 0.8183509707450867, 0.16367019712924957, 0.2567824721336365, 0.19752496480941772, 0.039504993706941605, 0.07900998741388321, 0.059257492423057556, 0.15801997482776642, 0.019752496853470802, 0.019752496853470802, 0.019752496853470802, 0.019752496853470802, 0.019752496853470802, 0.059257492423057556, 0.19839820265769958, 0.049599550664424896, 0.34719687700271606, 0.049599550664424896, 0.09919910132884979, 0.14879865944385529, 0.1136505976319313, 0.05682529881596565, 0.14206324517726898, 0.028412649407982826, 0.028412649407982826, 0.1136505976319313, 0.08523795008659363, 0.05682529881596565, 0.05682529881596565, 0.14206324517726898, 0.028412649407982826, 0.08523795008659363, 0.05682529881596565, 0.7670750617980957, 0.25098490715026855, 0.5019698143005371, 0.12549245357513428, 0.12549245357513428, 0.21515481173992157, 0.43030962347984314, 0.10757740586996078, 0.05378870293498039, 0.10757740586996078, 0.08098937571048737, 0.08098937571048737, 0.6479150056838989, 0.33357474207878113, 0.6671494841575623, 0.4849357604980469, 0.24246788024902344, 0.24246788024902344, 0.33550024032592773, 0.1258125901222229, 0.33550024032592773, 0.04193753004074097, 0.04193753004074097, 0.04193753004074097, 0.22519131004810333, 0.040943875908851624, 0.020471937954425812, 0.12283162772655487, 0.08188775181770325, 0.040943875908851624, 0.040943875908851624, 0.061415813863277435, 0.1842474341392517, 0.020471937954425812, 0.020471937954425812, 0.08188775181770325, 0.020471937954425812, 0.020471937954425812, 0.1549166887998581, 0.3098333775997162, 0.1549166887998581, 0.3098333775997162, 0.1549166887998581, 0.8791771531105042, 0.2646751403808594, 0.1323375701904297, 0.3308439552783966, 0.06616878509521484, 0.06616878509521484, 0.31070029735565186, 0.6214005947113037, 0.5109058022499084, 0.2554529011249542, 0.2554529011249542, 0.34377074241638184, 0.34377074241638184, 0.34377074241638184, 0.1820129156112671, 0.1820129156112671, 0.1820129156112671, 0.060670968145132065, 0.060670968145132065, 0.24268387258052826, 0.33815017342567444, 0.33815017342567444, 0.33815017342567444, 0.30210331082344055, 0.503505527973175, 0.10070110112428665, 0.24189156293869019, 0.12094578146934509, 0.12094578146934509, 0.3628373444080353, 0.12094578146934509, 0.5160470604896545, 0.1720156967639923, 0.1720156967639923, 0.1720156967639923, 0.14989368617534637, 0.22484053671360016, 0.4496810734272003, 0.14989368617534637, 0.742859959602356, 0.185714989900589, 0.17879630625247955, 0.17879630625247955, 0.5363889336585999, 0.12182148545980453, 0.06091074272990227, 0.15227685868740082, 0.12182148545980453, 0.06091074272990227, 0.1827322244644165, 0.030455371364951134, 0.15227685868740082, 0.030455371364951134, 0.21486063301563263, 0.42972126603126526, 0.21486063301563263, 0.5238956809043884, 0.5238956809043884, 0.2672472596168518, 0.08908241987228394, 0.08908241987228394, 0.08908241987228394, 0.04454120993614197, 0.04454120993614197, 0.04454120993614197, 0.04454120993614197, 0.17816483974456787, 0.7923181056976318, 0.16126474738121033, 0.08063237369060516, 0.04031618684530258, 0.04031618684530258, 0.08063237369060516, 0.12094856798648834, 0.12094856798648834, 0.08063237369060516, 0.12094856798648834, 0.12094856798648834, 0.04031618684530258, 0.20425382256507874, 0.6127614378929138, 0.20425382256507874, 0.11376843601465225, 0.11376843601465225, 0.11376843601465225, 0.11376843601465225, 0.2275368720293045, 0.2275368720293045, 0.29850780963897705, 0.29850780963897705, 0.14925390481948853, 0.29850780963897705, 0.15245306491851807, 0.17590737342834473, 0.18763454258441925, 0.07036294788122177, 0.05863579362630844, 0.023454317823052406, 0.011727158911526203, 0.011727158911526203, 0.035181473940610886, 0.09381727129220963, 0.04690863564610481, 0.023454317823052406, 0.023454317823052406, 0.011727158911526203, 0.023454317823052406, 0.023454317823052406, 0.011727158911526203, 0.25164708495140076, 0.5032941699028015, 0.25164708495140076, 0.39504867792129517, 0.03591351583600044, 0.07182703167200089, 0.03591351583600044, 0.14365406334400177, 0.03591351583600044, 0.07182703167200089, 0.03591351583600044, 0.14365406334400177, 0.1978352963924408, 0.1978352963924408, 0.593505859375, 0.18096160888671875, 0.18096160888671875, 0.3619232177734375, 0.18096160888671875, 0.1319444477558136, 0.3958333134651184, 0.2638888955116272, 0.1319444477558136, 0.2435462921857834, 0.2435462921857834, 0.4870925843715668, 0.5912730097770691, 0.23650920391082764, 0.18239858746528625, 0.18239858746528625, 0.09119929373264313, 0.14819885790348053, 0.06839946657419205, 0.034199733287096024, 0.022799823433160782, 0.056999556720256805, 0.045599646866321564, 0.022799823433160782, 0.022799823433160782, 0.045599646866321564, 0.022799823433160782, 0.022799823433160782, 0.022799823433160782, 0.022799823433160782, 0.011399911716580391, 0.7485120296478271, 0.10693029314279556, 0.10693029314279556, 0.32993486523628235, 0.07331885397434235, 0.07331885397434235, 0.10997828096151352, 0.07331885397434235, 0.03665942698717117, 0.10997828096151352, 0.03665942698717117, 0.03665942698717117, 0.03665942698717117, 0.03665942698717117, 0.03665942698717117, 0.9422426819801331, 0.3121916651725769, 0.6243833303451538, 0.3593045473098755, 0.3593045473098755, 0.3593045473098755, 0.34157827496528625, 0.17078913748264313, 0.17078913748264313, 0.17078913748264313, 0.17078913748264313, 0.7260563969612122, 0.24201880395412445, 0.2651185989379883, 0.5302371978759766, 0.2353462129831314, 0.12672488391399384, 0.09956955164670944, 0.08146599680185318, 0.09051777422428131, 0.1176731064915657, 0.045258887112140656, 0.009051777422428131, 0.009051777422428131, 0.018103554844856262, 0.06336244195699692, 0.018103554844856262, 0.018103554844856262, 0.018103554844856262, 0.018103554844856262, 0.009051777422428131, 0.009051777422428131, 0.08051522076129913, 0.2415456473827362, 0.08051522076129913, 0.2415456473827362, 0.08051522076129913, 0.08051522076129913, 0.16103044152259827, 0.16106155514717102, 0.32212311029434204, 0.48318469524383545, 0.9253438115119934, 0.2731987535953522, 0.5463975071907043, 0.35221752524375916, 0.11740583926439285, 0.4696233570575714, 0.29581817984580994, 0.1972121298313141, 0.09860606491565704, 0.09860606491565704, 0.09860606491565704, 0.1972121298313141, 0.15133030712604523, 0.030266059562563896, 0.4539909064769745, 0.12106423825025558, 0.030266059562563896, 0.030266059562563896, 0.09079817682504654, 0.030266059562563896, 0.2408369928598404, 0.4816739857196808, 0.09296194463968277, 0.3718477785587311, 0.09296194463968277, 0.09296194463968277, 0.09296194463968277, 0.18592388927936554, 0.6625036597251892, 0.1656259149312973, 0.1656259149312973, 0.8792045712471008, 0.9703761339187622, 0.5112866163253784, 0.2556433081626892, 0.05112865939736366, 0.05112865939736366, 0.05112865939736366, 0.2703072726726532, 0.2703072726726532, 0.5406145453453064, 0.19860102236270905, 0.2383212298154831, 0.03972020372748375, 0.03972020372748375, 0.03972020372748375, 0.19860102236270905, 0.03972020372748375, 0.03972020372748375, 0.0794404074549675, 0.3259415924549103, 0.3259415924549103, 0.3259415924549103, 0.6521406173706055, 0.08151757717132568, 0.08151757717132568, 0.08151757717132568, 0.2989831864833832, 0.5979663729667664, 0.5567620396614075, 0.11135240644216537, 0.22270481288433075, 0.6599947810173035, 0.16499869525432587, 0.32294392585754395, 0.032294392585754395, 0.22606074810028076, 0.032294392585754395, 0.032294392585754395, 0.16147196292877197, 0.032294392585754395, 0.06458878517150879, 0.3515337407588959, 0.7030674815177917, 0.1435500681400299, 0.21532510221004486, 0.21532510221004486, 0.35887518525123596, 0.07177503407001495, 0.11579165607690811, 0.08684374392032623, 0.057895828038454056, 0.08684374392032623, 0.028947914019227028, 0.08684374392032623, 0.057895828038454056, 0.028947914019227028, 0.057895828038454056, 0.11579165607690811, 0.057895828038454056, 0.057895828038454056, 0.11579165607690811, 0.3972548842430115, 0.09931372106075287, 0.2979411482810974, 0.09931372106075287, 0.8235421180725098, 0.04844365641474724, 0.04844365641474724, 0.2402229905128479, 0.2402229905128479, 0.08007433265447617, 0.08007433265447617, 0.08007433265447617, 0.16014866530895233, 0.16014866530895233, 0.23513545095920563, 0.047027088701725006, 0.28216254711151123, 0.047027088701725006, 0.09405417740345001, 0.09405417740345001, 0.18810835480690002, 0.1916288137435913, 0.15330305695533752, 0.1916288137435913, 0.03832576423883438, 0.01916288211941719, 0.05748864263296127, 0.05748864263296127, 0.03832576423883438, 0.01916288211941719, 0.09581440687179565, 0.01916288211941719, 0.01916288211941719, 0.05748864263296127, 0.01916288211941719, 0.01916288211941719, 0.8675763010978699, 0.14100438356399536, 0.2820087671279907, 0.14100438356399536, 0.4230131506919861, 0.15180671215057373, 0.322589248418808, 0.018975839018821716, 0.07590335607528687, 0.018975839018821716, 0.09487919509410858, 0.03795167803764343, 0.07590335607528687, 0.018975839018821716, 0.05692751705646515, 0.03795167803764343, 0.018975839018821716, 0.018975839018821716, 0.018975839018821716, 0.09419306367635727, 0.09419306367635727, 0.18838612735271454, 0.3767722547054291, 0.24421697854995728, 0.48843395709991455, 0.36706244945526123, 0.36706244945526123, 0.6799314022064209, 0.33996570110321045, 0.2866116464138031, 0.14330582320690155, 0.42991745471954346, 0.4424858093261719, 0.1382768154144287, 0.055310726165771484, 0.027655363082885742, 0.027655363082885742, 0.11062145233154297, 0.08296608924865723, 0.027655363082885742, 0.055310726165771484, 0.32228776812553406, 0.32228776812553406, 0.32228776812553406, 0.6141942739486694, 0.3070971369743347, 0.6575495600700378, 0.3287747800350189, 0.13482554256916046, 0.0922490581870079, 0.07805689424276352, 0.13482554256916046, 0.021288244053721428, 0.20578636229038239, 0.014192162081599236, 0.08515297621488571, 0.021288244053721428, 0.08515297621488571, 0.014192162081599236, 0.014192162081599236, 0.007096081040799618, 0.007096081040799618, 0.05676864832639694, 0.007096081040799618, 0.014192162081599236, 0.007096081040799618, 0.556225061416626, 0.278112530708313, 0.7256274819374084, 0.959148645401001, 0.3477092981338501, 0.6954185962677002, 0.7637147307395935, 0.2545715868473053, 0.0771690085530281, 0.0771690085530281, 0.23150703310966492, 0.0771690085530281, 0.0771690085530281, 0.3086760342121124, 0.0771690085530281, 0.0771690085530281, 0.35687580704689026, 0.7137516140937805, 0.23706656694412231, 0.47413313388824463, 0.23706656694412231, 0.13387209177017212, 0.13387209177017212, 0.13387209177017212, 0.13387209177017212, 0.13387209177017212, 0.26774418354034424, 0.5609107613563538, 0.11218215525150299, 0.22436431050300598, 0.38516107201576233, 0.19258053600788116, 0.19258053600788116, 0.8967645168304443, 0.7676719427108765, 0.766821563243866, 0.33867764472961426, 0.33867764472961426, 0.33867764472961426, 0.2245863825082779, 0.07486212998628616, 0.29944851994514465, 0.3743106424808502, 0.646296501159668, 0.323148250579834, 0.035843513906002045, 0.07168702781200409, 0.035843513906002045, 0.035843513906002045, 0.17921756207942963, 0.035843513906002045, 0.035843513906002045, 0.07168702781200409, 0.035843513906002045, 0.35843512415885925, 0.07168702781200409, 0.2360815405845642, 0.4721630811691284, 0.15384143590927124, 0.10256095230579376, 0.6666461825370789, 0.6227701306343079, 0.12455402314662933, 0.12455402314662933, 0.22436589002609253, 0.11218294501304626, 0.5609146952629089, 0.11218294501304626, 0.2467813640832901, 0.041130226105451584, 0.08226045221090317, 0.2467813640832901, 0.041130226105451584, 0.041130226105451584, 0.041130226105451584, 0.08226045221090317, 0.041130226105451584, 0.08226045221090317, 0.23727570474147797, 0.7118270993232727, 0.7314345240592957, 0.10449065268039703, 0.10449065268039703, 0.5070541501045227, 0.25352707505226135, 0.24225454032421112, 0.6056363582611084, 0.22291427850723267, 0.07430475950241089, 0.22291427850723267, 0.07430475950241089, 0.07430475950241089, 0.14860951900482178, 0.07430475950241089, 0.7415274381637573, 0.35653209686279297, 0.7130641937255859, 0.34977754950523376, 0.34977754950523376, 0.34977754950523376, 0.7667737603187561, 0.0957946926355362, 0.0478973463177681, 0.3352814316749573, 0.0478973463177681, 0.16764071583747864, 0.0478973463177681, 0.02394867315888405, 0.0478973463177681, 0.02394867315888405, 0.0478973463177681, 0.02394867315888405, 0.02394867315888405, 0.07673227787017822, 0.690590500831604, 0.03836613893508911, 0.03836613893508911, 0.03836613893508911, 0.22174689173698425, 0.11087344586849213, 0.174229696393013, 0.06335625797510147, 0.031678128987550735, 0.07919532060623169, 0.06335625797510147, 0.06335625797510147, 0.047517191618680954, 0.031678128987550735, 0.047517191618680954, 0.015839064493775368, 0.015839064493775368, 0.031678128987550735, 0.015839064493775368, 0.6234694123268127, 0.31173470616340637, 0.7415332794189453, 0.09269165992736816, 0.09269165992736816, 0.925479531288147, 0.2617139220237732, 0.2617139220237732, 0.2617139220237732, 0.12774404883384705, 0.03193601220846176, 0.3193601369857788, 0.03193601220846176, 0.12774404883384705, 0.06387202441692352, 0.06387202441692352, 0.06387202441692352, 0.06387202441692352, 0.03193601220846176, 0.03193601220846176, 0.31177112460136414, 0.6235422492027283, 0.3155396580696106, 0.1577698290348053, 0.1577698290348053, 0.3155396580696106, 0.18425709009170532, 0.09212854504585266, 0.0690964087843895, 0.09212854504585266, 0.04606427252292633, 0.0690964087843895, 0.11516068875789642, 0.023032136261463165, 0.11516068875789642, 0.023032136261463165, 0.04606427252292633, 0.04606427252292633, 0.0690964087843895, 0.023032136261463165, 0.7683336138725281, 0.9697592258453369, 0.25826212763786316, 0.25826212763786316, 0.25826212763786316, 0.25826212763786316, 0.21096251904964447, 0.42192503809928894, 0.21096251904964447, 0.32888397574424744, 0.32888397574424744, 0.32888397574424744, 0.22278696298599243, 0.22278696298599243, 0.22278696298599243, 0.22278696298599243, 0.22278696298599243, 0.24579258263111115, 0.09831702709197998, 0.04915851354598999, 0.14747554063796997, 0.09831702709197998, 0.04915851354598999, 0.19663405418395996, 0.04915851354598999, 0.20843911170959473, 0.06947970390319824, 0.1736992597579956, 0.10421955585479736, 0.03473985195159912, 0.06947970390319824, 0.03473985195159912, 0.06947970390319824, 0.03473985195159912, 0.10421955585479736, 0.03473985195159912, 0.24105708301067352, 0.06887345016002655, 0.1377469003200531, 0.034436725080013275, 0.1377469003200531, 0.034436725080013275, 0.20662035048007965, 0.06887345016002655, 0.06887345016002655, 0.8789794445037842, 0.18414801359176636, 0.09207400679588318, 0.18414801359176636, 0.09207400679588318, 0.27622202038764954, 0.18414801359176636, 0.23297834396362305, 0.09640482813119888, 0.08837109804153442, 0.12050604075193405, 0.016067471355199814, 0.040168680250644684, 0.040168680250644684, 0.07230362296104431, 0.04820241406559944, 0.04820241406559944, 0.016067471355199814, 0.112472303211689, 0.008033735677599907, 0.016067471355199814, 0.008033735677599907, 0.016067471355199814, 0.008033735677599907, 0.008033735677599907, 0.008033735677599907, 0.21416118741035461, 0.21416118741035461, 0.10708059370517731, 0.3212417662143707, 0.10708059370517731, 0.22364403307437897, 0.03194914758205414, 0.19169488549232483, 0.03194914758205414, 0.04792372137308121, 0.06389829516410828, 0.11182201653718948, 0.03194914758205414, 0.04792372137308121, 0.04792372137308121, 0.01597457379102707, 0.03194914758205414, 0.01597457379102707, 0.03194914758205414, 0.01597457379102707, 0.03194914758205414, 0.01597457379102707, 0.28314822912216187, 0.28314822912216187, 0.28314822912216187, 0.28314822912216187, 0.3552722930908203, 0.3552722930908203, 0.3552722930908203, 0.0830380767583847, 0.0830380767583847, 0.027679357677698135, 0.3321523070335388, 0.05535871535539627, 0.0830380767583847, 0.05535871535539627, 0.1660761535167694, 0.05535871535539627, 0.05535871535539627, 0.33061081171035767, 0.08265270292758942, 0.16530540585517883, 0.08265270292758942, 0.24795810878276825, 0.2809869945049286, 0.06743687391281128, 0.08991583436727524, 0.13487374782562256, 0.0561973974108696, 0.1123947948217392, 0.011239479295909405, 0.02247895859181881, 0.011239479295909405, 0.03371843695640564, 0.03371843695640564, 0.011239479295909405, 0.04495791718363762, 0.011239479295909405, 0.011239479295909405, 0.02247895859181881, 0.02247895859181881, 0.2516988515853882, 0.2516988515853882, 0.2516988515853882, 0.2516988515853882, 0.19041170179843903, 0.7616468071937561, 0.24650372564792633, 0.24650372564792633, 0.049300745129585266, 0.049300745129585266, 0.09860149025917053, 0.049300745129585266, 0.09860149025917053, 0.049300745129585266, 0.049300745129585266, 0.049300745129585266, 0.049300745129585266, 0.21392720937728882, 0.08557087928056717, 0.042785439640283585, 0.042785439640283585, 0.12835632264614105, 0.17114175856113434, 0.08557087928056717, 0.12835632264614105, 0.042785439640283585, 0.042785439640283585], \"Term\": [\"accord\", \"accord\", \"accord\", \"accord\", \"accord\", \"accord\", \"accord\", \"accord\", \"accord\", \"accord\", \"accord\", \"accord\", \"accord\", \"accusation\", \"accusation\", \"achievement_award\", \"across_america\", \"across_america\", \"act\", \"act\", \"act\", \"act\", \"act\", \"act\", \"act\", \"act\", \"activity\", \"activity\", \"activity\", \"activity\", \"activity\", \"activity\", \"activity\", \"activity\", \"actor\", \"actor\", \"actor\", \"actor\", \"actor\", \"actor\", \"actor\", \"actor\", \"actor\", \"actress\", \"actress\", \"actress\", \"actress\", \"add\", \"add\", \"add\", \"add\", \"add\", \"add\", \"add\", \"add\", \"add\", \"add\", \"add\", \"add\", \"add\", \"add\", \"add\", \"add\", \"adventure\", \"adventure\", \"advise\", \"advise\", \"adviser\", \"adviser\", \"adviser\", \"adviser\", \"affect\", \"affect\", \"affect\", \"affect\", \"affect\", \"affect\", \"afghanistan\", \"afghanistan\", \"africa\", \"africa\", \"africa\", \"africa\", \"afternoon\", \"afternoon\", \"afternoon\", \"age\", \"age\", \"age\", \"age\", \"age\", \"age\", \"age\", \"agency\", \"agency\", \"agency\", \"agency\", \"agency\", \"agenda\", \"agenda\", \"agent\", \"agent\", \"agent\", \"agent\", \"agree\", \"agree\", \"agree\", \"agree\", \"agree\", \"agree\", \"agreement\", \"air\", \"air\", \"air\", \"air\", \"air\", \"air\", \"air\", \"alcohol\", \"alcohol\", \"alcohol\", \"alert\", \"alert\", \"alert\", \"alert\", \"algerian\", \"algerian\", \"algorithm\", \"algorithm\", \"algorithm\", \"algorithm\", \"align\", \"align\", \"alliance\", \"alliance\", \"allow\", \"allow\", \"allow\", \"allow\", \"allow\", \"allow\", \"allow\", \"allow\", \"allow\", \"allow\", \"allow\", \"allow\", \"allow\", \"already\", \"already\", \"already\", \"already\", \"already\", \"already\", \"already\", \"already\", \"already\", \"already\", \"alter\", \"alter\", \"always\", \"always\", \"always\", \"always\", \"always\", \"always\", \"always\", \"always\", \"always\", \"amazon\", \"amazon\", \"amazon\", \"america\", \"america\", \"america\", \"america\", \"america\", \"america\", \"american\", \"american\", \"american\", \"american\", \"american\", \"american\", \"american\", \"american\", \"american\", \"american\", \"american\", \"americans\", \"americans\", \"americans\", \"amount\", \"amount\", \"amount\", \"amount\", \"amount\", \"amount\", \"amount_money\", \"amount_money\", \"analysis\", \"analysis\", \"analysis\", \"analysis\", \"analysis\", \"analysis\", \"analyst\", \"analyst\", \"analyst\", \"analyst\", \"analyst\", \"ancient\", \"ancient\", \"ancient\", \"ancient\", \"ancient\", \"android\", \"android\", \"android\", \"animal\", \"animal\", \"animal\", \"animal\", \"animal\", \"animal\", \"animal\", \"animal\", \"animal\", \"animal\", \"animals\", \"animals\", \"anniversary\", \"announcement\", \"announcement\", \"announcement\", \"announcement\", \"annual\", \"annual\", \"annual\", \"another\", \"another\", \"another\", \"another\", \"another\", \"another\", \"another\", \"another\", \"another\", \"another\", \"another\", \"another\", \"another\", \"another\", \"another\", \"another\", \"ansar_dine\", \"ansar_dine\", \"ansar_dine\", \"ansar_dine\", \"ansar_dine\", \"answer\", \"answer\", \"answer\", \"answer\", \"ant\", \"ant\", \"apologise\", \"apologise\", \"apologise\", \"app\", \"app\", \"app\", \"app\", \"app\", \"app\", \"app_available_download\", \"app_store_find\", \"approach\", \"approach\", \"approach\", \"approach\", \"approach\", \"approach\", \"approach\", \"approach\", \"appropriate\", \"appropriate\", \"area\", \"area\", \"area\", \"area\", \"area\", \"area\", \"area\", \"area\", \"area\", \"area\", \"area\", \"area\", \"area\", \"area\", \"around\", \"around\", \"around\", \"around\", \"around\", \"around\", \"around\", \"around\", \"around\", \"around\", \"around\", \"around\", \"around\", \"around\", \"around_million\", \"around_million\", \"arrest\", \"arrest\", \"arrest\", \"arrival\", \"arrival\", \"artificial\", \"artificial\", \"artist\", \"artist\", \"artist\", \"artist\", \"artist\", \"ask_look\", \"ask_look\", \"asset\", \"asset\", \"asset\", \"assumption\", \"assumption\", \"attack\", \"attack\", \"attack\", \"attack\", \"attack\", \"attack\", \"attack\", \"attack\", \"attack\", \"attack\", \"attack\", \"attack\", \"attenborough_earth\", \"attribute\", \"attribute\", \"audience\", \"audience\", \"audience\", \"audience\", \"audience\", \"august\", \"august\", \"august\", \"august\", \"august\", \"australian\", \"australian\", \"authority\", \"authority\", \"authority\", \"authority\", \"awareness\", \"awareness\", \"awareness\", \"awareness\", \"back\", \"back\", \"back\", \"back\", \"back\", \"back\", \"back\", \"back\", \"back\", \"back\", \"back\", \"back\", \"back\", \"back\", \"back\", \"back\", \"back\", \"backdrop\", \"backdrop\", \"bacteria\", \"bacteria\", \"barack_obama\", \"base\", \"base\", \"base\", \"base\", \"base\", \"base\", \"base\", \"base\", \"base\", \"battle\", \"battle\", \"battle\", \"bbcnewsents_instagram\", \"beast\", \"beauty\", \"beauty\", \"beauty\", \"become\", \"become\", \"become\", \"become\", \"become\", \"become\", \"become\", \"become\", \"become\", \"become\", \"become\", \"become\", \"become\", \"bed\", \"bed\", \"bed\", \"bee\", \"bee\", \"beetle\", \"beetle\", \"beetle\", \"beetle\", \"beetle\", \"behaviour\", \"behaviour\", \"behaviour\", \"behaviour\", \"behaviour\", \"benefit\", \"benefit\", \"benefit\", \"benefit\", \"benefit\", \"benefit\", \"benefit\", \"benefit\", \"big\", \"big\", \"big\", \"big\", \"big\", \"big\", \"big\", \"big\", \"big\", \"big\", \"billionaire\", \"billionaire\", \"bird\", \"bird\", \"bird\", \"bird\", \"bloc\", \"bloc\", \"blogger\", \"bloody\", \"bloody\", \"blow\", \"blow\", \"blow\", \"blow\", \"blow\", \"blow\", \"board\", \"board\", \"board\", \"board\", \"board\", \"board\", \"body\", \"body\", \"body\", \"body\", \"body\", \"body\", \"body\", \"body\", \"body\", \"body\", \"body\", \"body\", \"body\", \"body\", \"body\", \"bomb\", \"bomb\", \"bomb\", \"bone\", \"bone\", \"book\", \"book\", \"book\", \"book\", \"book\", \"book\", \"book\", \"border\", \"border\", \"border\", \"border\", \"border\", \"border\", \"border\", \"border\", \"border\", \"boy\", \"boy\", \"brain\", \"brain\", \"brain\", \"breathing\", \"breathing\", \"breathing\", \"brexit\", \"brexit\", \"brexit\", \"brexit\", \"brexit_transition\", \"brexit_transition\", \"brexiteers\", \"brexiteers\", \"bright\", \"bright\", \"bring\", \"bring\", \"bring\", \"bring\", \"bring\", \"bring\", \"bring\", \"bring\", \"bring\", \"bring\", \"britain\", \"britain\", \"britain\", \"britain\", \"british\", \"british\", \"british\", \"british\", \"british\", \"british\", \"british\", \"broadcaster\", \"broadcaster\", \"broadcaster\", \"broadly\", \"broadly\", \"brown\", \"brown\", \"browser\", \"browser\", \"browser\", \"browser\", \"brussels\", \"brussels\", \"building\", \"building\", \"building\", \"building\", \"building\", \"bull\", \"bull\", \"business\", \"business\", \"business\", \"business\", \"business\", \"business\", \"business\", \"business\", \"business\", \"business\", \"businessmen\", \"businessmen\", \"button\", \"button\", \"button\", \"cabinet\", \"cabinet\", \"cabinet\", \"call\", \"call\", \"call\", \"call\", \"call\", \"call\", \"call\", \"call\", \"call\", \"call\", \"call\", \"call\", \"call\", \"call\", \"call\", \"call\", \"call\", \"call\", \"call\", \"camouflage\", \"camouflage\", \"campaign\", \"campaign\", \"campaign\", \"campaign\", \"campaign\", \"campaign\", \"campaign\", \"cancer\", \"cancer\", \"candidate\", \"capital\", \"capital\", \"capital\", \"capital\", \"capital\", \"capital\", \"capital\", \"capital\", \"capital\", \"captain\", \"captain\", \"capture\", \"capture\", \"capture\", \"capture\", \"capture\", \"capture\", \"career\", \"career\", \"career\", \"career\", \"caribbean\", \"caribbean\", \"carl\", \"carl\", \"carl\", \"case\", \"case\", \"case\", \"case\", \"case\", \"case\", \"case\", \"case\", \"case\", \"case\", \"case\", \"case\", \"case\", \"cave\", \"cave\", \"cave\", \"certainly\", \"certainly\", \"chain\", \"chain\", \"chance\", \"chance\", \"chance\", \"chance\", \"chance\", \"chance\", \"change\", \"change\", \"change\", \"change\", \"change\", \"change\", \"change\", \"change\", \"change\", \"change\", \"charity\", \"charity\", \"chef\", \"chef\", \"chicken\", \"chief\", \"chief\", \"chief\", \"chief\", \"chief_executive\", \"chief_executive\", \"chief_executive\", \"chief_executive\", \"chief_executive\", \"child\", \"child\", \"child\", \"child\", \"child\", \"child\", \"child\", \"child\", \"child\", \"child\", \"child\", \"child\", \"china\", \"china\", \"china\", \"china\", \"china\", \"china\", \"china\", \"china\", \"chinese\", \"chinese\", \"chinese\", \"chinese\", \"chris\", \"chris\", \"chris\", \"chris\", \"chris\", \"christopher\", \"christopher\", \"cia\", \"cia\", \"cia\", \"circumstance\", \"circumstance\", \"circumstance\", \"circumstance\", \"circumstance\", \"city\", \"city\", \"city\", \"city\", \"city\", \"city\", \"city\", \"city\", \"city_centre\", \"civil\", \"civil\", \"civil\", \"claim\", \"claim\", \"claim\", \"claim\", \"claim\", \"claim\", \"claim\", \"claim\", \"claim\", \"claim\", \"clear\", \"clear\", \"clear\", \"clear\", \"clear\", \"clear\", \"clear\", \"clear\", \"clear\", \"closely\", \"closely\", \"club\", \"club\", \"club\", \"club\", \"coalition\", \"coalition\", \"coalition\", \"code\", \"code\", \"code\", \"code\", \"cognitive\", \"cognitive\", \"collaboration_sir_david\", \"combat\", \"combat\", \"comment_story\", \"comment_story\", \"commonly\", \"company\", \"company\", \"company\", \"company\", \"company\", \"company\", \"company\", \"company\", \"company\", \"company\", \"company\", \"company\", \"company_akqa\", \"complain\", \"complain\", \"complaint\", \"complaint\", \"complaint\", \"complaint\", \"complicate\", \"complicate\", \"complicate\", \"compromise\", \"compromise\", \"concentrate\", \"concentrate\", \"concert\", \"concert\", \"concert\", \"conduct\", \"conduct\", \"conduct\", \"conduct\", \"conduct\", \"confident\", \"confident\", \"confident\", \"confirm_marriage\", \"confront\", \"confront\", \"connected\", \"connected\", \"connection\", \"connection\", \"connection\", \"consider\", \"consider\", \"consider\", \"consider\", \"consider\", \"consider\", \"consider\", \"consider\", \"consider\", \"consider\", \"consider\", \"consume\", \"consume\", \"consume\", \"content\", \"content\", \"content\", \"content\", \"content\", \"content\", \"content\", \"content\", \"contest\", \"contest\", \"continent\", \"continent\", \"continually\", \"continually\", \"continually\", \"continue\", \"continue\", \"continue\", \"continue\", \"continue\", \"continue\", \"continue\", \"continue\", \"continue\", \"contrast\", \"contrast\", \"contrast\", \"controversial\", \"controversial\", \"controversial\", \"conventional\", \"conventional\", \"conventional\", \"coral\", \"coral\", \"corner\", \"corner\", \"corner\", \"correspondent\", \"correspondent\", \"correspondent\", \"correspondent\", \"correspondent\", \"could\", \"could\", \"could\", \"could\", \"could\", \"could\", \"could\", \"could\", \"could\", \"could\", \"could\", \"could\", \"could\", \"could\", \"could\", \"could\", \"could\", \"could\", \"could_potentially\", \"could_potentially\", \"council\", \"council\", \"council\", \"council\", \"council\", \"counter\", \"counter\", \"country\", \"country\", \"country\", \"country\", \"country\", \"country\", \"country\", \"country\", \"country\", \"country\", \"country\", \"country\", \"country\", \"country\", \"country\", \"coup\", \"coup\", \"coup\", \"couple\", \"couple\", \"couple\", \"couple\", \"couple\", \"couple\", \"couple\", \"couple\", \"cousin\", \"craft\", \"craft\", \"craft\", \"creative\", \"creative\", \"creative\", \"creature\", \"creature\", \"creature\", \"crest\", \"criminal\", \"criminal\", \"criminal\", \"criminal\", \"crisis\", \"crisis\", \"crisis\", \"crisis\", \"crisis\", \"crisis\", \"cross\", \"cross\", \"cross\", \"cross\", \"cup\", \"curious\", \"curious\", \"curious\", \"customer\", \"customer\", \"customer\", \"customer\", \"customer\", \"daily\", \"daily\", \"daily\", \"data\", \"data\", \"data\", \"data\", \"data\", \"data\", \"data\", \"data\", \"data\", \"data\", \"date\", \"date\", \"date\", \"davos\", \"davos\", \"day\", \"day\", \"day\", \"day\", \"day\", \"day\", \"day\", \"day\", \"day\", \"day\", \"day\", \"day\", \"day\", \"day\", \"day\", \"day\", \"deal\", \"deal\", \"deal\", \"deal\", \"deal\", \"deal\", \"deal\", \"deal\", \"deal\", \"deal\", \"deal\", \"deal\", \"dealer\", \"dealer\", \"decade\", \"decade\", \"decade\", \"decade\", \"decade\", \"decade\", \"decade\", \"decade\", \"declare\", \"declare\", \"declare\", \"delivery\", \"democrats\", \"depth\", \"depth\", \"deputy\", \"deputy\", \"desert\", \"desert\", \"desert\", \"desert\", \"desert\", \"design\", \"design\", \"design\", \"design\", \"design\", \"design\", \"design\", \"design\", \"design\", \"design\", \"destruction\", \"destruction\", \"detain\", \"detain\", \"deter\", \"deter\", \"device\", \"device\", \"device\", \"device\", \"device\", \"device\", \"device\", \"device\", \"device_even\", \"devil\", \"devil\", \"devil\", \"devour\", \"devour\", \"devour\", \"die\", \"die\", \"die\", \"die\", \"die\", \"difficult_us\", \"difficult_us\", \"digital\", \"digital\", \"digital\", \"digital\", \"diplomat\", \"disclose\", \"disclose\", \"disclose\", \"disease\", \"disease\", \"disease\", \"disease\", \"dish\", \"dish\", \"dish\", \"dish\", \"district\", \"district\", \"district\", \"district\", \"disturb\", \"disturb\", \"divide\", \"divide\", \"dmitry_peskov\", \"doctor\", \"doctor\", \"doctor\", \"doctor\", \"document\", \"document\", \"document\", \"document\", \"document\", \"documentary\", \"documentary\", \"documentary\", \"documentary\", \"documentary\", \"dr\", \"dr\", \"dr\", \"dr\", \"dr\", \"dr\", \"drama\", \"drama\", \"drama\", \"drop\", \"drop\", \"drop\", \"drop\", \"drop\", \"drop\", \"drug\", \"drug\", \"drug\", \"drug\", \"duchess_cambridge\", \"duchess_cambridge\", \"duchess_cambridge\", \"dutch\", \"dutch\", \"dutch\", \"dutch\", \"dutch\", \"earlier_month\", \"earlier_month\", \"east\", \"east\", \"east\", \"east\", \"east\", \"east\", \"eat\", \"eat\", \"eat\", \"eat\", \"eat\", \"eat\", \"economic\", \"economic\", \"economic\", \"economic\", \"economic\", \"economic\", \"economic\", \"economic\", \"economic\", \"economic\", \"edge\", \"edge\", \"edge\", \"edge\", \"education\", \"education\", \"effect\", \"effect\", \"effect\", \"effect\", \"effect\", \"effect\", \"effect\", \"effect\", \"effectively\", \"effectively\", \"effectively\", \"effort\", \"effort\", \"effort\", \"effort\", \"effort\", \"effort\", \"effort\", \"effort\", \"effort\", \"egg\", \"egg\", \"eight\", \"election\", \"election\", \"election\", \"election\", \"election\", \"election\", \"election\", \"emit\", \"emit\", \"employer\", \"employer\", \"end\", \"end\", \"end\", \"end\", \"end\", \"end\", \"end\", \"end\", \"end\", \"end\", \"end\", \"end\", \"end\", \"end\", \"end\", \"end\", \"endless\", \"endless\", \"energy\", \"energy\", \"energy\", \"energy\", \"engine\", \"engine\", \"engine\", \"engineer\", \"engineer\", \"engineer\", \"entertain\", \"entertain\", \"entertain\", \"epa\", \"epa\", \"epa\", \"epa\", \"epa\", \"epa\", \"epa\", \"epa\", \"equip\", \"equip\", \"equivalent\", \"equivalent\", \"error\", \"error\", \"escape\", \"establishment\", \"establishment\", \"etc\", \"etc\", \"eu\", \"eu\", \"eu\", \"eu\", \"eu_uk\", \"eu_uk\", \"euro\", \"euro\", \"euro\", \"europe\", \"europe\", \"europe\", \"europe\", \"europe\", \"europe\", \"europe\", \"europe\", \"european\", \"european\", \"european\", \"european\", \"european\", \"european\", \"even\", \"even\", \"even\", \"even\", \"even\", \"even\", \"even\", \"even\", \"even\", \"even\", \"even\", \"even\", \"even\", \"even\", \"even\", \"even\", \"even\", \"evening\", \"event\", \"event\", \"event\", \"event\", \"event\", \"event\", \"event\", \"event\", \"ever\", \"ever\", \"ever\", \"ever\", \"ever\", \"ever\", \"ever\", \"ever\", \"every_day\", \"every_day\", \"every_day\", \"every_day\", \"every_year\", \"every_year\", \"every_year\", \"evidence\", \"evidence\", \"evidence\", \"evidence\", \"evidence\", \"evidence\", \"evidence\", \"evidence\", \"evolve\", \"evolve\", \"evolve\", \"evolve\", \"evolve\", \"excellent\", \"excellent\", \"excellent\", \"exciting\", \"exciting\", \"exciting\", \"expect\", \"expect\", \"expect\", \"expect\", \"expect\", \"expect\", \"expect\", \"expect\", \"expect\", \"expect\", \"expect\", \"experiment\", \"experiment\", \"experiment\", \"experiment\", \"expert\", \"expert\", \"expert\", \"expert\", \"expert\", \"expert\", \"expert\", \"explanation\", \"explanation\", \"explanation\", \"extent\", \"eye\", \"eye\", \"eye\", \"eye\", \"eye\", \"fact\", \"fact\", \"fact\", \"fact\", \"fact\", \"fact\", \"fact\", \"fact\", \"fall\", \"fall\", \"fall\", \"fall\", \"fall\", \"fall\", \"fall\", \"fall\", \"fantastic\", \"fantastic\", \"fantastic\", \"far\", \"far\", \"far\", \"far\", \"far\", \"far\", \"far\", \"far\", \"far\", \"far\", \"far\", \"far\", \"far\", \"far\", \"far\", \"fashion\", \"fashion\", \"fashion\", \"fashion\", \"fast\", \"fast\", \"fast\", \"fast\", \"fast\", \"fast\", \"fat\", \"fat\", \"fee\", \"fee\", \"fee\", \"feel\", \"feel\", \"feel\", \"feel\", \"feel\", \"feel\", \"feel\", \"feel\", \"feel\", \"feel\", \"feel\", \"feel\", \"feel\", \"feel\", \"female\", \"female\", \"female\", \"fighter\", \"fighter\", \"fighter\", \"film\", \"film\", \"film\", \"film\", \"film\", \"film\", \"film\", \"film\", \"film\", \"film\", \"film\", \"filmmaker\", \"filmmaker\", \"fin\", \"fin\", \"find\", \"find\", \"find\", \"find\", \"find\", \"find\", \"find\", \"find\", \"find\", \"find\", \"find\", \"find\", \"find\", \"find\", \"find\", \"find\", \"find\", \"find\", \"find\", \"fire\", \"fire\", \"fire\", \"fire\", \"fire\", \"fire\", \"fire\", \"firm\", \"firm\", \"firm\", \"firm\", \"firm\", \"firm\", \"first\", \"first\", \"first\", \"first\", \"first\", \"first\", \"first\", \"first\", \"first\", \"first\", \"first\", \"first\", \"first\", \"first\", \"first\", \"first\", \"first\", \"first_state_union\", \"five_year\", \"five_year\", \"five_year\", \"flight\", \"flight\", \"flight\", \"flight\", \"flight\", \"flight\", \"flight\", \"florida\", \"florida\", \"florida\", \"florida\", \"fly\", \"fly\", \"fly\", \"fly\", \"fly\", \"fly\", \"follow_us_facebook_twitter\", \"follow_us_facebook_twitter\", \"following\", \"following\", \"following\", \"following\", \"following\", \"following_year\", \"food\", \"food\", \"food\", \"food\", \"food\", \"food\", \"food\", \"food\", \"food\", \"footage\", \"footage\", \"footage\", \"force\", \"force\", \"force\", \"force\", \"force\", \"force\", \"force\", \"force\", \"force\", \"forest\", \"forest\", \"forest\", \"forest\", \"form\", \"form\", \"form\", \"form\", \"form\", \"form\", \"form\", \"form\", \"form\", \"form\", \"four\", \"four\", \"four\", \"four\", \"four\", \"four\", \"framework\", \"framework\", \"framework\", \"france\", \"france\", \"france\", \"france\", \"france\", \"france\", \"free_anytime\", \"fruit\", \"fruit\", \"function\", \"function\", \"funny\", \"funny\", \"funny\", \"game\", \"game\", \"game\", \"gathering\", \"gathering\", \"gathering\", \"genus\", \"genus\", \"geological\", \"girl\", \"girl\", \"girl\", \"girl\", \"girl\", \"girl\", \"give\", \"give\", \"give\", \"give\", \"give\", \"give\", \"give\", \"give\", \"give\", \"give\", \"give\", \"give\", \"give\", \"give\", \"give\", \"give\", \"glass\", \"glass\", \"global\", \"global\", \"global\", \"global\", \"global\", \"global\", \"global\", \"glow\", \"glow\", \"glow\", \"glowing\", \"glowing\", \"gold\", \"gold\", \"good\", \"good\", \"good\", \"good\", \"good\", \"good\", \"good\", \"good\", \"good\", \"good\", \"good\", \"good\", \"good\", \"good\", \"good\", \"govern\", \"govern\", \"govern\", \"government\", \"government\", \"government\", \"government\", \"government\", \"government\", \"government\", \"government\", \"government\", \"government\", \"government\", \"government\", \"government\", \"government\", \"government_meet\", \"government_meet\", \"gradual\", \"gradual\", \"grassland\", \"greeks\", \"group\", \"group\", \"group\", \"group\", \"group\", \"group\", \"group\", \"group\", \"group\", \"group\", \"group\", \"group\", \"group\", \"group\", \"group\", \"group\", \"grow\", \"grow\", \"grow\", \"grow\", \"grow\", \"grow\", \"grow\", \"grow\", \"grow_body\", \"grow_body\", \"guidance\", \"guidance\", \"guidance\", \"guidance\", \"guidance\", \"guidance\", \"guide\", \"hack\", \"hand\", \"hand\", \"hand\", \"hand\", \"hand\", \"hand\", \"hand\", \"hand\", \"handful\", \"handful\", \"happen\", \"happen\", \"happen\", \"happen\", \"happen\", \"happen\", \"happen\", \"happen\", \"happen\", \"happen\", \"happen\", \"happen\", \"harbour\", \"haunt\", \"health\", \"health\", \"health\", \"health\", \"health\", \"health\", \"health\", \"health\", \"health\", \"healthcare\", \"healthcare\", \"healthcare\", \"healthcare\", \"healthy\", \"healthy\", \"healthy\", \"help\", \"help\", \"help\", \"help\", \"help\", \"help\", \"help\", \"help\", \"help\", \"help\", \"help\", \"help\", \"help\", \"help\", \"help\", \"help\", \"help_stay\", \"help_stay\", \"hero\", \"hero\", \"hero\", \"high_level\", \"high_level\", \"hill\", \"hill\", \"historic\", \"historic\", \"historically\", \"historically\", \"home\", \"home\", \"home\", \"home\", \"home\", \"home\", \"home\", \"home\", \"home\", \"home\", \"home\", \"homeless\", \"homeless\", \"horizon\", \"horizon\", \"host\", \"host\", \"host\", \"host\", \"host\", \"host\", \"host\", \"host\", \"hostage\", \"hostage\", \"house\", \"house\", \"house\", \"house\", \"house\", \"house\", \"house\", \"house\", \"house\", \"however\", \"however\", \"however\", \"however\", \"however\", \"however\", \"however\", \"however\", \"however\", \"however\", \"however\", \"however\", \"http\", \"http\", \"http_story\", \"human\", \"human\", \"human\", \"human\", \"human\", \"human\", \"human\", \"human\", \"human\", \"hunger\", \"hunger\", \"hunger\", \"hunter\", \"hunter\", \"hunting\", \"hunting\", \"hunting\", \"idea\", \"idea\", \"idea\", \"idea\", \"idea\", \"idea\", \"idea\", \"idea_innovation\", \"identify\", \"identify\", \"identify\", \"identify\", \"identify\", \"identity\", \"identity\", \"ii\", \"images\", \"images\", \"images\", \"images\", \"images\", \"images\", \"images\", \"images\", \"images\", \"images\", \"images\", \"images\", \"images_grow\", \"images_grow\", \"immediately_clear\", \"immediately_clear\", \"immigrant\", \"immigrant\", \"importantly\", \"importantly\", \"importantly\", \"impress\", \"impress\", \"impression\", \"improved\", \"improved\", \"improvement\", \"improvement\", \"include\", \"include\", \"include\", \"include\", \"include\", \"include\", \"include\", \"include\", \"include\", \"include\", \"include\", \"include\", \"include\", \"include\", \"include\", \"include\", \"include\", \"inevitable\", \"inevitable\", \"influential\", \"information\", \"information\", \"information\", \"information\", \"information\", \"information\", \"information\", \"information\", \"information\", \"initially\", \"initially\", \"initially\", \"initiative\", \"initiative\", \"initiative\", \"innocent\", \"innocent\", \"insect\", \"insect\", \"instagram\", \"instance\", \"instance\", \"instance\", \"instance\", \"international\", \"international\", \"international\", \"international\", \"international\", \"international\", \"international\", \"international\", \"international\", \"international\", \"intervention\", \"intervention\", \"interview\", \"interview\", \"interview\", \"interview\", \"interview\", \"interview\", \"investor\", \"investor\", \"investor\", \"iplayer\", \"iplayer\", \"iplayer\", \"islamist\", \"islamist\", \"island\", \"island\", \"island\", \"island\", \"island\", \"island\", \"israel\", \"israel\", \"israel\", \"israel\", \"israel\", \"israel\", \"israeli\", \"israeli\", \"issue\", \"issue\", \"issue\", \"issue\", \"issue\", \"issue\", \"issue\", \"issue\", \"issue\", \"issue\", \"issue\", \"item\", \"item\", \"item\", \"jacob\", \"jacob\", \"jail\", \"jail\", \"japan\", \"japan\", \"jaw\", \"jaw\", \"job\", \"job\", \"job\", \"job\", \"job\", \"job\", \"job\", \"job\", \"job\", \"jonathan\", \"jonathan\", \"jonathan\", \"jones\", \"jones\", \"jones\", \"jones\", \"jones\", \"journalism\", \"journalism\", \"journalism\", \"journalism\", \"journalist\", \"journalist\", \"journalist\", \"journalist\", \"journalist\", \"journalist\", \"journalist\", \"journalist\", \"joy\", \"joy\", \"judge\", \"judge\", \"judge\", \"judge\", \"judge\", \"judge\", \"keep\", \"keep\", \"keep\", \"keep\", \"keep\", \"keep\", \"keep\", \"keep\", \"key\", \"key\", \"key\", \"key\", \"key\", \"key\", \"key\", \"key\", \"key\", \"key\", \"key\", \"key\", \"kick\", \"kick\", \"kick\", \"kick\", \"kick\", \"kick\", \"kick\", \"kidal\", \"kidnap\", \"kidnap\", \"kill\", \"kill\", \"kill\", \"kill\", \"kill\", \"kill\", \"kill\", \"kill\", \"kill\", \"kill\", \"korea\", \"korea\", \"kremlin\", \"land\", \"land\", \"land\", \"land\", \"land\", \"land\", \"land\", \"land\", \"large_city\", \"last\", \"last\", \"last\", \"last\", \"last\", \"last\", \"last\", \"last\", \"last\", \"last\", \"last\", \"last\", \"last\", \"last\", \"last_year\", \"last_year\", \"last_year\", \"last_year\", \"last_year\", \"last_year\", \"last_year\", \"last_year\", \"last_year\", \"last_year\", \"last_year\", \"latin\", \"latin\", \"launch\", \"launch\", \"launch\", \"launch\", \"launch\", \"launch\", \"launch\", \"launch\", \"law\", \"law\", \"law\", \"law\", \"law\", \"law\", \"law\", \"law\", \"law\", \"lead\", \"lead\", \"lead\", \"lead\", \"lead\", \"lead\", \"lead\", \"lead\", \"lead\", \"lead\", \"lead\", \"lead\", \"lead\", \"leadership\", \"leadership\", \"leadership\", \"leave\", \"leave\", \"leave\", \"leave\", \"leave\", \"leave\", \"leave\", \"leave\", \"leave\", \"leave\", \"leave\", \"leave\", \"leave\", \"leave_eu\", \"left\", \"left\", \"less\", \"less\", \"less\", \"less\", \"less\", \"less\", \"less\", \"less\", \"less\", \"less\", \"lesson\", \"lesson\", \"lesson\", \"level\", \"level\", \"level\", \"level\", \"level\", \"level\", \"level\", \"level\", \"level\", \"level\", \"library\", \"life\", \"life\", \"life\", \"life\", \"life\", \"life\", \"life\", \"life\", \"life\", \"life\", \"life\", \"life\", \"life\", \"life\", \"life\", \"life_produce\", \"lift\", \"lift\", \"light\", \"light\", \"light\", \"light\", \"light\", \"light\", \"light\", \"light\", \"light\", \"light\", \"limited\", \"limited\", \"link\", \"link\", \"link\", \"link\", \"link\", \"link\", \"lion\", \"lion\", \"lion\", \"list\", \"list\", \"list\", \"list\", \"list\", \"list\", \"list\", \"listen\", \"listen\", \"listen\", \"listen\", \"listen\", \"listen\", \"listen_back\", \"listen_back\", \"listen_newsbeat\", \"listen_newsbeat\", \"listener\", \"listener\", \"live\", \"live\", \"live\", \"live\", \"live\", \"live\", \"live\", \"live\", \"live\", \"live\", \"live\", \"live\", \"live\", \"live\", \"live\", \"live_every\", \"live_every\", \"loan\", \"loan\", \"local\", \"local\", \"local\", \"local\", \"local\", \"local\", \"local\", \"local\", \"local\", \"local\", \"local\", \"local\", \"logo\", \"logo\", \"long\", \"long\", \"long\", \"long\", \"long\", \"long\", \"long\", \"long\", \"long\", \"long\", \"long\", \"long\", \"long\", \"long\", \"look\", \"look\", \"look\", \"look\", \"look\", \"look\", \"look\", \"look\", \"look\", \"look\", \"look\", \"look\", \"look\", \"look\", \"look_back\", \"look_back\", \"los_angeles\", \"los_angeles\", \"love\", \"love\", \"love\", \"love\", \"love\", \"love\", \"lucky\", \"machine\", \"machine\", \"machine\", \"machine\", \"machine\", \"magazine\", \"magazine\", \"magazine\", \"magazine\", \"main\", \"main\", \"mainstream\", \"mainstream\", \"male\", \"male\", \"male\", \"male\", \"male\", \"male\", \"mali\", \"mali\", \"man\", \"man\", \"man\", \"man\", \"man\", \"man\", \"man\", \"man\", \"man\", \"man\", \"manage\", \"manage\", \"manage\", \"manage\", \"manage\", \"manage\", \"manage\", \"many\", \"many\", \"many\", \"many\", \"many\", \"many\", \"many\", \"many\", \"many\", \"many\", \"many\", \"many\", \"many\", \"many\", \"many\", \"many\", \"many\", \"many\", \"many_thing\", \"many_thing\", \"many_thing\", \"marine\", \"marine\", \"market\", \"market\", \"market\", \"martin\", \"martin\", \"mate\", \"mate\", \"material\", \"material\", \"material\", \"material\", \"material\", \"matter\", \"matter\", \"matter\", \"matter\", \"matter\", \"matter\", \"matter\", \"matter\", \"matter\", \"matter\", \"measure\", \"measure\", \"measure\", \"measure\", \"measure\", \"measure\", \"measure\", \"measure\", \"media_investigation\", \"medium\", \"medium\", \"medium\", \"medium\", \"medium_play\", \"medium_play\", \"meet\", \"meet\", \"meet\", \"meet\", \"meet\", \"meet\", \"meet\", \"meet\", \"meet\", \"meet\", \"meeting\", \"meeting\", \"meeting\", \"meeting\", \"meeting\", \"meeting\", \"meeting\", \"meeting\", \"member\", \"member\", \"member\", \"member\", \"member\", \"member\", \"member\", \"members\", \"memorable_moment\", \"mention\", \"message\", \"message\", \"message\", \"message\", \"message\", \"met_police\", \"met_police\", \"met_police\", \"mexico\", \"mexico\", \"mexico\", \"might\", \"might\", \"might\", \"might\", \"might\", \"might\", \"might\", \"might\", \"might\", \"might\", \"might\", \"might\", \"might\", \"might\", \"mile\", \"mile\", \"mile\", \"militant\", \"militant\", \"militant\", \"militant\", \"military\", \"military\", \"military\", \"military\", \"military\", \"military\", \"millipede\", \"millipede\", \"millipede\", \"minister\", \"minister\", \"minister\", \"minister\", \"minister\", \"minister\", \"minister\", \"minister\", \"miss_us\", \"miss_us\", \"mission\", \"mission\", \"mission\", \"mission\", \"mixed\", \"mixed\", \"mode\", \"mode\", \"model\", \"model\", \"model\", \"model\", \"model\", \"model\", \"money\", \"money\", \"money\", \"money\", \"money\", \"money\", \"money\", \"money\", \"money\", \"money\", \"money\", \"monkey\", \"monkey\", \"monkey\", \"monkey\", \"mount\", \"mount\", \"mount\", \"mount\", \"mouth\", \"mouth\", \"move\", \"move\", \"move\", \"move\", \"move\", \"move\", \"move\", \"move\", \"move\", \"move\", \"move\", \"move\", \"move\", \"move_around\", \"move_around\", \"much\", \"much\", \"much\", \"much\", \"much\", \"much\", \"much\", \"much\", \"much\", \"much\", \"much\", \"much\", \"much\", \"much\", \"music\", \"music\", \"music\", \"music\", \"music\", \"music\", \"music\", \"name\", \"name\", \"name\", \"name\", \"name\", \"name\", \"name\", \"name\", \"name\", \"name\", \"name\", \"national\", \"national\", \"national\", \"national\", \"national\", \"national\", \"national\", \"natural_history\", \"natural_history\", \"negotiate\", \"negotiate\", \"negotiate\", \"netherlands\", \"netherlands\", \"never_miss_moment_earth\", \"never_miss_moment_earth\", \"new\", \"new\", \"new\", \"new\", \"new\", \"new\", \"new\", \"new\", \"new\", \"new\", \"new\", \"new\", \"new\", \"new_sanction\", \"new_york\", \"new_york\", \"new_york\", \"new_york\", \"new_york\", \"news\", \"news\", \"news\", \"news\", \"news\", \"news\", \"news\", \"news\", \"news\", \"news\", \"news\", \"news\", \"news\", \"news\", \"news\", \"news_agency\", \"news_agency\", \"news_app\", \"news_app\", \"news_app\", \"news_app\", \"newsletter\", \"newsletter\", \"newsletter\", \"newsroom\", \"newsroom\", \"newsroom\", \"nice\", \"nice\", \"night\", \"night\", \"night\", \"night\", \"night\", \"night\", \"night\", \"night\", \"night_shift\", \"night_shift\", \"nomination\", \"none\", \"none\", \"normal\", \"normal\", \"normal\", \"normal\", \"north\", \"north\", \"north\", \"north\", \"north\", \"north\", \"north_korea\", \"north_korea\", \"north_korea\", \"northern_mali\", \"northern_mali\", \"northern_mali\", \"northern_mali\", \"note\", \"note\", \"note\", \"novel\", \"number\", \"number\", \"number\", \"number\", \"number\", \"number\", \"number\", \"number\", \"number\", \"number\", \"number\", \"number\", \"number\", \"number\", \"ocean\", \"ocean\", \"ocean\", \"ocean\", \"october\", \"october\", \"october\", \"october\", \"october\", \"official\", \"official\", \"official\", \"official\", \"official\", \"official\", \"official\", \"official\", \"official\", \"official\", \"official\", \"old\", \"old\", \"old\", \"old\", \"old\", \"old\", \"old\", \"old\", \"old\", \"old\", \"oligarch\", \"open\", \"open\", \"open\", \"open\", \"open\", \"open\", \"open\", \"open\", \"open\", \"open\", \"open\", \"open\", \"opinion\", \"opinion\", \"opinion\", \"oppose\", \"oppose\", \"opposition_leader\", \"opposition_leader\", \"order\", \"order\", \"order\", \"order\", \"order\", \"order\", \"order\", \"order\", \"order\", \"organisation\", \"organisation\", \"organisation\", \"organisation\", \"organisation\", \"organisation\", \"organisation\", \"organisation\", \"organisation\", \"organism\", \"organism\", \"others\", \"others\", \"others\", \"others\", \"others\", \"others\", \"others\", \"others\", \"others\", \"others\", \"others\", \"others\", \"output\", \"output\", \"output\", \"overall\", \"overall\", \"overall\", \"overnight\", \"overnight\", \"overnight\", \"pa\", \"pa\", \"pa\", \"pa\", \"pa\", \"pack\", \"pack\", \"pack\", \"pack\", \"page\", \"page\", \"page\", \"parent\", \"parent\", \"parent\", \"part\", \"part\", \"part\", \"part\", \"part\", \"part\", \"part\", \"part\", \"part\", \"part\", \"part\", \"part\", \"part\", \"part\", \"part\", \"part\", \"part\", \"past_year\", \"past_year\", \"past_year\", \"past_year\", \"penalty\", \"penalty\", \"penalty\", \"people\", \"people\", \"people\", \"people\", \"people\", \"people\", \"people\", \"people\", \"people\", \"people\", \"people\", \"people\", \"people\", \"people\", \"people\", \"people\", \"people\", \"people\", \"people\", \"perform\", \"perform\", \"perform\", \"perform\", \"perform\", \"perform\", \"perform\", \"performer\", \"performer\", \"performer\", \"petrol\", \"phone\", \"phone\", \"phone\", \"phone\", \"phone\", \"photo\", \"photo\", \"photo\", \"photo\", \"photo\", \"photo\", \"photo\", \"photo\", \"photographer\", \"photographer\", \"photographer\", \"pick\", \"pick\", \"pick\", \"pick\", \"pick\", \"pick\", \"pick\", \"pick\", \"pick\", \"pick\", \"pick_phone\", \"pick_phone\", \"pioneering\", \"pitch\", \"pitch\", \"pitch\", \"pitch\", \"pitch\", \"pizza\", \"place\", \"place\", \"place\", \"place\", \"place\", \"place\", \"place\", \"place\", \"place\", \"place\", \"place\", \"place\", \"place\", \"plan\", \"plan\", \"plan\", \"plan\", \"plan\", \"plan\", \"plan\", \"plan\", \"plan\", \"plan\", \"plan\", \"plan\", \"platform\", \"platform\", \"platform\", \"play\", \"play\", \"play\", \"play\", \"play\", \"play\", \"play\", \"play\", \"play\", \"play\", \"play\", \"play_apple\", \"please\", \"please\", \"please\", \"please\", \"plenty\", \"plenty\", \"plenty\", \"plenty\", \"plenty\", \"plus\", \"plus\", \"pm\", \"pm\", \"pm\", \"police\", \"police\", \"police\", \"police\", \"police\", \"police\", \"police\", \"police\", \"police\", \"police\", \"political\", \"political\", \"political\", \"political\", \"political\", \"political\", \"political\", \"political\", \"pollution\", \"pollution\", \"pollution\", \"pollution\", \"popularity\", \"population\", \"population\", \"population\", \"population\", \"population\", \"possess\", \"possess\", \"power\", \"power\", \"power\", \"power\", \"power\", \"power\", \"power\", \"predator\", \"predator\", \"predator\", \"predator\", \"predator\", \"predator\", \"president\", \"president\", \"president\", \"president\", \"president\", \"president\", \"president\", \"president\", \"president\", \"president\", \"president\", \"president\", \"president_donald_trump\", \"president_donald_trump\", \"president_donald_trump\", \"president_donald_trump\", \"presidential_election\", \"presidential_election\", \"press\", \"press\", \"press\", \"press\", \"pressure\", \"pressure\", \"pressure\", \"pressure\", \"prey\", \"prey\", \"prey\", \"prey\", \"prey\", \"prime_minister\", \"prime_minister\", \"prime_minister\", \"prime_minister\", \"prince\", \"prince\", \"prince\", \"problem\", \"problem\", \"problem\", \"problem\", \"problem\", \"problem\", \"problem\", \"problem\", \"problem\", \"problem\", \"problem\", \"problem\", \"problem\", \"problem\", \"problem\", \"process\", \"process\", \"process\", \"process\", \"process\", \"process\", \"producer\", \"producer\", \"producer\", \"product\", \"product\", \"product\", \"product\", \"product\", \"product\", \"product\", \"product\", \"product\", \"productive\", \"productivity\", \"productivity\", \"programme\", \"programme\", \"programme\", \"programme\", \"programme\", \"programme\", \"programme\", \"programme\", \"properly\", \"properly\", \"proposal\", \"prosecution\", \"prosecution\", \"prosecution\", \"prosecutor\", \"prosecutor\", \"prosecutor\", \"prospect\", \"prospect\", \"prospect\", \"protect\", \"protect\", \"protect\", \"protect\", \"protect\", \"protect\", \"protect\", \"protect\", \"provide\", \"provide\", \"provide\", \"provide\", \"provide\", \"provide\", \"provide\", \"provide\", \"provide\", \"publish\", \"publish\", \"publish\", \"publish\", \"publish\", \"publish\", \"publish\", \"publish\", \"publish\", \"publish\", \"pump\", \"pump\", \"pump\", \"pursue\", \"pursue\", \"pursue\", \"put\", \"put\", \"put\", \"put\", \"put\", \"put\", \"put\", \"put\", \"put\", \"put\", \"put\", \"put\", \"put\", \"put_notice\", \"put_notice\", \"putin\", \"putin\", \"queen\", \"queen\", \"queen\", \"question\", \"question\", \"question\", \"question\", \"question\", \"question\", \"question\", \"question\", \"question\", \"question_whether\", \"question_whether\", \"quick\", \"quick\", \"radio\", \"radio\", \"radio\", \"radio\", \"radio\", \"radio\", \"radio\", \"radio\", \"radio\", \"radio\", \"radio\", \"radio\", \"raise\", \"raise\", \"raise\", \"raise\", \"raise\", \"raise\", \"raise\", \"raise\", \"raise\", \"range\", \"range\", \"range\", \"range\", \"range\", \"range\", \"range\", \"range\", \"rate\", \"rate\", \"rate\", \"rate\", \"rate\", \"rating\", \"rating\", \"raw\", \"raw\", \"raw\", \"reality\", \"reality\", \"reality\", \"reality\", \"reality\", \"reality\", \"rebel\", \"rebel\", \"rebel\", \"rebel\", \"rebel\", \"receive\", \"receive\", \"receive\", \"receive\", \"receive\", \"receive\", \"receive\", \"receive\", \"receive\", \"receive\", \"recommendation\", \"recommendation\", \"recommendation\", \"recording\", \"recording\", \"reference\", \"reference\", \"reference\", \"regime\", \"regime\", \"regime\", \"regional\", \"regional\", \"register\", \"register\", \"register\", \"regret\", \"regret\", \"regret\", \"reject\", \"reject\", \"release\", \"release\", \"release\", \"release\", \"release\", \"release\", \"release\", \"release\", \"release\", \"release\", \"release\", \"relevant\", \"relevant\", \"report\", \"report\", \"report\", \"report\", \"report\", \"report\", \"report\", \"report\", \"report\", \"report\", \"report\", \"report\", \"report\", \"report\", \"report\", \"report\", \"report\", \"report\", \"reportedly\", \"reportedly\", \"reporter\", \"reporter\", \"republic\", \"republic\", \"republican\", \"rescue\", \"rescue\", \"rescue\", \"researchers\", \"researchers\", \"reserve\", \"reserve\", \"respect\", \"respect\", \"respect\", \"respect\", \"restaurant\", \"restaurant\", \"restaurant\", \"restaurant\", \"restaurant\", \"resurface\", \"retail\", \"retail\", \"retail\", \"retaliate\", \"retaliate\", \"retire\", \"return\", \"return\", \"return\", \"return\", \"return\", \"return\", \"return\", \"return\", \"return\", \"return\", \"return\", \"reuters\", \"reuters\", \"reuters\", \"reuters\", \"reuters\", \"reuters\", \"reuters\", \"reuters\", \"reuters\", \"revenue\", \"revenue\", \"review\", \"review\", \"review\", \"review\", \"review\", \"review\", \"review\", \"review\", \"review\", \"review\", \"richard\", \"richard\", \"right\", \"right\", \"right\", \"right\", \"right\", \"right\", \"right\", \"right\", \"right\", \"right\", \"right\", \"right\", \"robot\", \"rocket\", \"rocket\", \"role\", \"role\", \"role\", \"role\", \"role\", \"roof\", \"roof\", \"route\", \"route\", \"route\", \"route\", \"route\", \"royal\", \"royal\", \"royal\", \"ruin\", \"run\", \"run\", \"run\", \"run\", \"run\", \"run\", \"run\", \"run\", \"run\", \"russia\", \"russia\", \"russia\", \"russia\", \"russia\", \"russia\", \"russian\", \"russian\", \"russian\", \"russian\", \"russians\", \"russians\", \"sacred\", \"sad\", \"sad\", \"sad\", \"safety_risk\", \"safety_risk\", \"sally\", \"sally\", \"sanction\", \"sanction\", \"sanction\", \"sanction\", \"sanction_individual\", \"sand\", \"sand\", \"satellite\", \"satellite\", \"satellite\", \"satellite\", \"satellite\", \"saudi_arabia\", \"saudi_arabia\", \"saudi_arabia\", \"scandal\", \"scandal\", \"scenario\", \"scenario\", \"school_child\", \"school_child\", \"science\", \"science\", \"science\", \"seal\", \"seal\", \"seal\", \"search\", \"search\", \"search\", \"search\", \"search\", \"search\", \"search\", \"seat\", \"seat\", \"seat\", \"seat\", \"seat\", \"sector\", \"sector\", \"sector\", \"sector\", \"sector\", \"security\", \"security\", \"security\", \"security\", \"security\", \"security\", \"security_service\", \"security_service\", \"seem\", \"seem\", \"seem\", \"seem\", \"seem\", \"seem\", \"seem\", \"seem\", \"seem\", \"seem\", \"seem\", \"seem\", \"seem\", \"seem\", \"senate\", \"senate\", \"send\", \"send\", \"send\", \"send\", \"send\", \"send\", \"send\", \"send\", \"send\", \"send\", \"senior\", \"senior\", \"senior\", \"senior\", \"senior\", \"sentence\", \"sentence\", \"sentence\", \"sentence\", \"separatist\", \"separatist\", \"separatist\", \"separatist\", \"september\", \"service\", \"service\", \"service\", \"service\", \"service\", \"service\", \"service\", \"service\", \"service\", \"service\", \"set\", \"set\", \"set\", \"set\", \"set\", \"set\", \"set\", \"set\", \"set\", \"set\", \"set\", \"set\", \"set\", \"set\", \"seven_year\", \"seven_year\", \"several\", \"several\", \"several\", \"several\", \"several\", \"several\", \"several\", \"several\", \"several\", \"several\", \"several\", \"several\", \"several\", \"several\", \"sew\", \"sexual\", \"sexual\", \"ship\", \"ship\", \"shore\", \"shore\", \"short\", \"short\", \"short\", \"shortly\", \"show\", \"show\", \"show\", \"show\", \"show\", \"show\", \"show\", \"show\", \"show\", \"show\", \"show\", \"show\", \"show\", \"show\", \"show\", \"show\", \"show\", \"shrimp\", \"shrimp\", \"shrimp\", \"shrimp\", \"shut\", \"shut\", \"shut\", \"shy\", \"shy\", \"since\", \"since\", \"since\", \"since\", \"since\", \"since\", \"since\", \"since\", \"since\", \"since\", \"since\", \"since\", \"since\", \"since\", \"since\", \"since\", \"since_last\", \"since_last\", \"single\", \"single\", \"single\", \"single\", \"single\", \"single\", \"single\", \"single_market\", \"single_market\", \"sir_david_attenborough\", \"size\", \"size\", \"size\", \"size\", \"size\", \"size\", \"size\", \"sleep\", \"sleep\", \"sleep\", \"sleep\", \"sleep\", \"small\", \"small\", \"small\", \"small\", \"small\", \"small\", \"small\", \"small\", \"small\", \"small\", \"small\", \"smartphone_tablet\", \"smartphones\", \"smartphones\", \"smartphones\", \"smith\", \"smith\", \"smith\", \"smoke\", \"smoke\", \"snap\", \"snap\", \"snow\", \"snow\", \"social\", \"social\", \"social\", \"social\", \"social\", \"social\", \"software\", \"software\", \"software\", \"software\", \"somewhere\", \"somewhere\", \"somewhere\", \"song\", \"song\", \"soon\", \"soon\", \"soon\", \"soon\", \"soon\", \"soon\", \"source\", \"source\", \"source\", \"source\", \"source\", \"source\", \"source\", \"source_tell\", \"source_tell\", \"south\", \"south\", \"south\", \"south\", \"south\", \"south\", \"south_london\", \"south_london\", \"south_london\", \"spain\", \"spain\", \"spain\", \"spain\", \"span\", \"span\", \"spanish\", \"spanish\", \"spanish\", \"spark\", \"spark\", \"spark\", \"spark\", \"special\", \"special\", \"special\", \"special\", \"special\", \"special\", \"special\", \"special\", \"specialist\", \"specialist\", \"specialist\", \"specie\", \"specie\", \"specie\", \"specie\", \"specie\", \"specie\", \"specie\", \"specie\", \"specie\", \"specie\", \"spectacular\", \"spectacular\", \"spectacular\", \"spice\", \"sport\", \"sport\", \"sport\", \"spy\", \"spy\", \"stability\", \"stability\", \"stage\", \"stage\", \"stage\", \"stage\", \"stage\", \"stage\", \"standard\", \"standard\", \"star\", \"star\", \"star\", \"star\", \"star\", \"star\", \"star\", \"start\", \"start\", \"start\", \"start\", \"start\", \"start\", \"start\", \"start\", \"start\", \"start\", \"start\", \"start\", \"start\", \"state\", \"state\", \"state\", \"state\", \"state\", \"state\", \"state\", \"state\", \"state\", \"state\", \"state\", \"state\", \"state\", \"state_union_address\", \"statement_call\", \"statement_call\", \"status\", \"status\", \"status\", \"status_quo\", \"stay_touch\", \"stay_touch\", \"steal\", \"steal\", \"steal\", \"steep\", \"steep\", \"still\", \"still\", \"still\", \"still\", \"still\", \"still\", \"still\", \"still\", \"still\", \"still\", \"still\", \"still\", \"store\", \"store\", \"store\", \"store\", \"store\", \"store\", \"story\", \"story\", \"story\", \"story\", \"story\", \"story\", \"story\", \"story\", \"story\", \"story\", \"story\", \"story\", \"story\", \"story_life\", \"strategy\", \"strategy\", \"strategy\", \"strategy\", \"street\", \"street\", \"street\", \"street\", \"street\", \"stress\", \"stress\", \"stress\", \"strip\", \"strip\", \"strongly\", \"strongly\", \"strongly\", \"student\", \"student\", \"student\", \"student\", \"student\", \"student\", \"study\", \"study\", \"study\", \"study\", \"study\", \"study\", \"study\", \"study\", \"study\", \"study\", \"study\", \"study\", \"study\", \"study\", \"stuff\", \"stuff\", \"stuff\", \"stuff\", \"stuff\", \"style\", \"success\", \"success\", \"success\", \"success\", \"success\", \"suddenly\", \"suddenly\", \"sue\", \"sue\", \"sue\", \"suggestion\", \"suggestion\", \"suggestion\", \"sunday\", \"sunday\", \"sunday\", \"sunday\", \"sunday\", \"sunday\", \"super\", \"super\", \"super\", \"supermarket\", \"supermarket\", \"supermarket\", \"supporter\", \"supporter\", \"supporter\", \"supporter\", \"supporter\", \"suppose\", \"suppose\", \"suppose\", \"suppose\", \"surface\", \"surface\", \"surface\", \"surface\", \"sweden\", \"sweden\", \"swedish\", \"swedish\", \"swedish\", \"system\", \"system\", \"system\", \"system\", \"system\", \"system\", \"system\", \"system\", \"system\", \"tablet\", \"tablet\", \"tablet\", \"taiwan\", \"taiwan\", \"talk\", \"talk\", \"talk\", \"talk\", \"talk\", \"talk\", \"talk\", \"talk\", \"talk\", \"tax\", \"team\", \"team\", \"team\", \"team\", \"team\", \"team\", \"team\", \"team\", \"team\", \"team\", \"team\", \"tech\", \"tech\", \"tech\", \"technique\", \"technique\", \"technique\", \"technique\", \"technique\", \"technique\", \"television\", \"television\", \"television\", \"television\", \"tell\", \"tell\", \"tell\", \"tell\", \"tell\", \"tell\", \"tell\", \"tell\", \"tell\", \"tell\", \"tell\", \"tell\", \"tell\", \"tell\", \"tell\", \"tell\", \"tell\", \"tension\", \"tension\", \"tension\", \"test\", \"test\", \"test\", \"test\", \"test\", \"test\", \"test\", \"test\", \"test\", \"testing\", \"testing\", \"testing\", \"texas\", \"texas\", \"texas\", \"texas\", \"thank\", \"thank\", \"thank\", \"thank\", \"theft\", \"theft\", \"theft\", \"theresa\", \"theresa\", \"think\", \"think\", \"think\", \"think\", \"think\", \"think\", \"think\", \"think\", \"think\", \"think\", \"think\", \"think\", \"think\", \"think\", \"think\", \"think\", \"think\", \"thomas\", \"thomas\", \"thomas\", \"though\", \"though\", \"though\", \"though\", \"though\", \"though\", \"though\", \"though\", \"though\", \"though\", \"though\", \"though\", \"threaten\", \"three_decade\", \"three_decade\", \"three_month\", \"three_month\", \"three_month\", \"thrill\", \"thrill\", \"thrill\", \"thrill\", \"thrill\", \"throw\", \"throw\", \"thursday\", \"thursday\", \"time\", \"time\", \"time\", \"time\", \"time\", \"time\", \"time\", \"time\", \"time\", \"time\", \"time\", \"time\", \"time\", \"time\", \"time\", \"time\", \"time\", \"tiny\", \"tiny\", \"tiny\", \"tiny\", \"tiny\", \"tiny\", \"tiny\", \"tony\", \"tony\", \"tony\", \"toss\", \"totally\", \"totally\", \"tourism\", \"tourism\", \"tourism\", \"tourist\", \"tourist\", \"tourist\", \"tourist\", \"tourist\", \"tourist\", \"town\", \"town\", \"town\", \"town\", \"town\", \"town\", \"town\", \"town\", \"trace\", \"trace\", \"trade\", \"trade\", \"trade\", \"trade\", \"trade\", \"trade\", \"traffic\", \"traffic\", \"traffic\", \"transition\", \"transition_period\", \"transparent\", \"transparent\", \"transparent\", \"transparent\", \"transparent\", \"transport\", \"transport\", \"transport\", \"travel\", \"travel\", \"travel\", \"travel\", \"travel\", \"travel\", \"travel\", \"travel\", \"travel\", \"travel_show\", \"travel_show\", \"travel_show\", \"treatment\", \"treatment\", \"treatment\", \"treatment\", \"tree\", \"tree\", \"trial\", \"trial\", \"trial\", \"trouble\", \"trouble\", \"trump\", \"trump\", \"trump\", \"trump\", \"trump\", \"trump\", \"trump\", \"trump\", \"trump_state\", \"trump_state\", \"trust\", \"trust\", \"trust\", \"trust\", \"trust\", \"try\", \"try\", \"try\", \"try\", \"try\", \"try\", \"try\", \"try\", \"try\", \"try\", \"try\", \"try\", \"try\", \"tuareg\", \"tuareg\", \"tuareg\", \"tuareg\", \"tunnel\", \"tunnel\", \"tunnel\", \"tv\", \"tv\", \"tv\", \"tv\", \"tv\", \"tv\", \"tv\", \"twitter\", \"twitter\", \"twitter\", \"twitter\", \"twitter\", \"twitter\", \"twitter\", \"two\", \"two\", \"two\", \"two\", \"two\", \"two\", \"two\", \"two\", \"two\", \"two\", \"two\", \"two\", \"two\", \"two\", \"two\", \"two_three\", \"type\", \"type\", \"type\", \"type\", \"uk\", \"uk\", \"uk\", \"uk\", \"uk\", \"uk\", \"uk\", \"uk\", \"uk\", \"uk\", \"uk\", \"uk\", \"uk\", \"uk\", \"un\", \"un\", \"un\", \"un\", \"unable\", \"unable\", \"uncertainty\", \"uncertainty\", \"unclear\", \"unclear\", \"underwater\", \"underwater\", \"underwater\", \"university\", \"university\", \"university\", \"university\", \"university\", \"university\", \"university\", \"university\", \"university\", \"unrelated\", \"unrelated\", \"unrelated\", \"unveil\", \"unveil\", \"urban\", \"urban\", \"us\", \"us\", \"us\", \"us\", \"us\", \"us\", \"us\", \"us\", \"us\", \"us\", \"us\", \"us\", \"us\", \"us\", \"us\", \"us\", \"us\", \"us\", \"us_intelligence\", \"us_intelligence\", \"us_official\", \"us_treasury_report\", \"user_ask\", \"user_ask\", \"using\", \"using\", \"usually\", \"usually\", \"usually\", \"usually\", \"usually\", \"usually\", \"usually\", \"usually\", \"vacuum\", \"vacuum\", \"valuable\", \"valuable\", \"valuable\", \"value\", \"value\", \"value\", \"value\", \"value\", \"value\", \"vehicle\", \"vehicle\", \"vehicle\", \"vertical\", \"vertical\", \"vertical\", \"veteran\", \"via_attenborough\", \"via_google\", \"vice\", \"vice\", \"vice\", \"victim\", \"victim\", \"victim\", \"victim\", \"victory\", \"victory\", \"video\", \"video\", \"video\", \"video\", \"video\", \"video\", \"video\", \"video\", \"video\", \"video\", \"video\", \"viewer\", \"viewer\", \"village\", \"village\", \"village\", \"visible\", \"visible\", \"visible\", \"vision\", \"vision\", \"vision\", \"vision\", \"visit\", \"visit\", \"visit\", \"visit\", \"visit\", \"visit\", \"visit\", \"visit\", \"visit\", \"visit\", \"visitor\", \"visitor\", \"visual\", \"visual\", \"visual\", \"vladimir_putin\", \"vladimir_putin\", \"wake\", \"wake\", \"warn\", \"warn\", \"warn\", \"warn\", \"warn\", \"warn\", \"warn\", \"warning\", \"wash\", \"wash\", \"washington\", \"washington\", \"washington\", \"watch_moment\", \"water\", \"water\", \"water\", \"water\", \"water\", \"water\", \"water\", \"water\", \"water\", \"water\", \"water\", \"water\", \"wave\", \"wave\", \"wave\", \"wave\", \"wave\", \"way\", \"way\", \"way\", \"way\", \"way\", \"way\", \"way\", \"way\", \"way\", \"way\", \"way\", \"way\", \"way\", \"way\", \"way\", \"weakness\", \"weakness\", \"wear\", \"wear\", \"wear\", \"wear_white\", \"wednesday\", \"wednesday\", \"wednesday\", \"week\", \"week\", \"week\", \"week\", \"week\", \"week\", \"week\", \"week\", \"week\", \"week\", \"week\", \"weekday_radio\", \"weekday_radio\", \"welcome\", \"welcome\", \"welcome\", \"welcome\", \"well\", \"well\", \"well\", \"well\", \"well\", \"well\", \"well\", \"well\", \"well\", \"well\", \"well\", \"well\", \"well\", \"well\", \"well_watch\", \"whale\", \"wheel\", \"wheel\", \"wheel\", \"wheel\", \"whenever\", \"whenever\", \"whenever\", \"wide_range\", \"wide_range\", \"wide_range\", \"wipe\", \"wipe\", \"wipe\", \"wipe\", \"wipe\", \"within\", \"within\", \"within\", \"within\", \"within\", \"within\", \"within\", \"within\", \"without\", \"without\", \"without\", \"without\", \"without\", \"without\", \"without\", \"without\", \"without\", \"without\", \"without\", \"woman\", \"woman\", \"woman\", \"woman\", \"woman\", \"woman\", \"woman\", \"woman\", \"woman\", \"wonder_whether\", \"wood\", \"wood\", \"wood\", \"wood\", \"wood\", \"wood\", \"work\", \"work\", \"work\", \"work\", \"work\", \"work\", \"work\", \"work\", \"work\", \"work\", \"work\", \"work\", \"work\", \"work\", \"work\", \"work\", \"work\", \"work\", \"work\", \"worker\", \"worker\", \"worker\", \"worker\", \"worker\", \"world\", \"world\", \"world\", \"world\", \"world\", \"world\", \"world\", \"world\", \"world\", \"world\", \"world\", \"world\", \"world\", \"world\", \"world\", \"world\", \"world\", \"world_service\", \"world_service\", \"world_service\", \"world_service\", \"worn\", \"worn\", \"worn\", \"write\", \"write\", \"write\", \"write\", \"write\", \"write\", \"write\", \"write\", \"write\", \"write\", \"writer\", \"writer\", \"writer\", \"writer\", \"writer\", \"year\", \"year\", \"year\", \"year\", \"year\", \"year\", \"year\", \"year\", \"year\", \"year\", \"year\", \"year\", \"year\", \"year\", \"year\", \"year\", \"year\", \"year_old\", \"year_old\", \"year_old\", \"year_old\", \"yemen\", \"yemen\", \"yet\", \"yet\", \"yet\", \"yet\", \"yet\", \"yet\", \"yet\", \"yet\", \"yet\", \"yet\", \"yet\", \"young\", \"young\", \"young\", \"young\", \"young\", \"young\", \"young\", \"young\", \"young\", \"young\"]}, \"R\": 30, \"lambda.step\": 0.01, \"plot.opts\": {\"xlab\": \"PC1\", \"ylab\": \"PC2\"}, \"topic.order\": [3, 11, 5, 17, 2, 15, 1, 18, 16, 19, 9, 13, 4, 10, 6, 12, 7, 8, 14, 20]};\n",
       "\n",
       "function LDAvis_load_lib(url, callback){\n",
       "  var s = document.createElement('script');\n",
       "  s.src = url;\n",
       "  s.async = true;\n",
       "  s.onreadystatechange = s.onload = callback;\n",
       "  s.onerror = function(){console.warn(\"failed to load library \" + url);};\n",
       "  document.getElementsByTagName(\"head\")[0].appendChild(s);\n",
       "}\n",
       "\n",
       "if(typeof(LDAvis) !== \"undefined\"){\n",
       "   // already loaded: just create the visualization\n",
       "   !function(LDAvis){\n",
       "       new LDAvis(\"#\" + \"ldavis_el5653750683470888166985087\", ldavis_el5653750683470888166985087_data);\n",
       "   }(LDAvis);\n",
       "}else if(typeof define === \"function\" && define.amd){\n",
       "   // require.js is available: use it to load d3/LDAvis\n",
       "   require.config({paths: {d3: \"https://cdnjs.cloudflare.com/ajax/libs/d3/3.5.5/d3.min\"}});\n",
       "   require([\"d3\"], function(d3){\n",
       "      window.d3 = d3;\n",
       "      LDAvis_load_lib(\"https://cdn.rawgit.com/bmabey/pyLDAvis/files/ldavis.v1.0.0.js\", function(){\n",
       "        new LDAvis(\"#\" + \"ldavis_el5653750683470888166985087\", ldavis_el5653750683470888166985087_data);\n",
       "      });\n",
       "    });\n",
       "}else{\n",
       "    // require.js not available: dynamically load d3 & LDAvis\n",
       "    LDAvis_load_lib(\"https://cdnjs.cloudflare.com/ajax/libs/d3/3.5.5/d3.min.js\", function(){\n",
       "         LDAvis_load_lib(\"https://cdn.rawgit.com/bmabey/pyLDAvis/files/ldavis.v1.0.0.js\", function(){\n",
       "                 new LDAvis(\"#\" + \"ldavis_el5653750683470888166985087\", ldavis_el5653750683470888166985087_data);\n",
       "            })\n",
       "         });\n",
       "}\n",
       "</script>"
      ],
      "text/plain": [
       "<IPython.core.display.HTML object>"
      ]
     },
     "execution_count": 49,
     "metadata": {},
     "output_type": "execute_result"
    }
   ],
   "source": [
    "# https://cran.r-project.org/web/packages/LDAvis/vignettes/details.pdf\n",
    "# Here a short legend to explain the vis:\n",
    "# size of bubble: proportional to the proportions of the topics across the N total tokens in the corpus\n",
    "# red bars: estimated number of times a given term was generated by a given topic\n",
    "# blue bars: overall frequency of each term in the corpus\n",
    "# -- Relevance of words is computed with a parameter lambda\n",
    "# -- Lambda optimal value ~0.6 (https://nlp.stanford.edu/events/illvi2014/papers/sievert-illvi2014.pdf)\n",
    "%matplotlib inline\n",
    "import pyLDAvis\n",
    "import pyLDAvis.gensim\n",
    "vis = pyLDAvis.gensim.prepare(topic_model=lda_model, corpus=corpus, dictionary=dictionary_LDA)\n",
    "pyLDAvis.enable_notebook()\n",
    "pyLDAvis.display(vis)"
   ]
  },
  {
   "cell_type": "code",
   "execution_count": null,
   "metadata": {
    "colab": {},
    "colab_type": "code",
    "id": "rd6x6Mf-XIp9"
   },
   "outputs": [],
   "source": []
  }
 ],
 "metadata": {
  "accelerator": "GPU",
  "colab": {
   "name": "LDA-BBC.ipynb",
   "provenance": [],
   "toc_visible": true
  },
  "kernelspec": {
   "display_name": "Python 3",
   "language": "python",
   "name": "python3"
  },
  "language_info": {
   "codemirror_mode": {
    "name": "ipython",
    "version": 3
   },
   "file_extension": ".py",
   "mimetype": "text/x-python",
   "name": "python",
   "nbconvert_exporter": "python",
   "pygments_lexer": "ipython3",
   "version": "3.7.6"
  },
  "widgets": {
   "application/vnd.jupyter.widget-state+json": {
    "07376b3625634908935bb67a326c10e1": {
     "model_module": "@jupyter-widgets/controls",
     "model_name": "ProgressStyleModel",
     "state": {
      "_model_module": "@jupyter-widgets/controls",
      "_model_module_version": "1.5.0",
      "_model_name": "ProgressStyleModel",
      "_view_count": null,
      "_view_module": "@jupyter-widgets/base",
      "_view_module_version": "1.2.0",
      "_view_name": "StyleView",
      "bar_color": null,
      "description_width": "initial"
     }
    },
    "08d12b4391664079ac12e056eed69186": {
     "model_module": "@jupyter-widgets/base",
     "model_name": "LayoutModel",
     "state": {
      "_model_module": "@jupyter-widgets/base",
      "_model_module_version": "1.2.0",
      "_model_name": "LayoutModel",
      "_view_count": null,
      "_view_module": "@jupyter-widgets/base",
      "_view_module_version": "1.2.0",
      "_view_name": "LayoutView",
      "align_content": null,
      "align_items": null,
      "align_self": null,
      "border": null,
      "bottom": null,
      "display": null,
      "flex": null,
      "flex_flow": null,
      "grid_area": null,
      "grid_auto_columns": null,
      "grid_auto_flow": null,
      "grid_auto_rows": null,
      "grid_column": null,
      "grid_gap": null,
      "grid_row": null,
      "grid_template_areas": null,
      "grid_template_columns": null,
      "grid_template_rows": null,
      "height": null,
      "justify_content": null,
      "justify_items": null,
      "left": null,
      "margin": null,
      "max_height": null,
      "max_width": null,
      "min_height": null,
      "min_width": null,
      "object_fit": null,
      "object_position": null,
      "order": null,
      "overflow": null,
      "overflow_x": null,
      "overflow_y": null,
      "padding": null,
      "right": null,
      "top": null,
      "visibility": null,
      "width": null
     }
    },
    "0e13000f1fcc45f790764cc4ca0132b0": {
     "model_module": "@jupyter-widgets/controls",
     "model_name": "HBoxModel",
     "state": {
      "_dom_classes": [],
      "_model_module": "@jupyter-widgets/controls",
      "_model_module_version": "1.5.0",
      "_model_name": "HBoxModel",
      "_view_count": null,
      "_view_module": "@jupyter-widgets/controls",
      "_view_module_version": "1.5.0",
      "_view_name": "HBoxView",
      "box_style": "",
      "children": [
       "IPY_MODEL_f01526f44f214a9a9bf4d5bd6381e9a6",
       "IPY_MODEL_1a11b724a5404ec5b2c3a8d7d9b38474"
      ],
      "layout": "IPY_MODEL_bae2e1044667445db4d325b27aa80531"
     }
    },
    "1513ab5644d24284b88665586d1763e9": {
     "model_module": "@jupyter-widgets/base",
     "model_name": "LayoutModel",
     "state": {
      "_model_module": "@jupyter-widgets/base",
      "_model_module_version": "1.2.0",
      "_model_name": "LayoutModel",
      "_view_count": null,
      "_view_module": "@jupyter-widgets/base",
      "_view_module_version": "1.2.0",
      "_view_name": "LayoutView",
      "align_content": null,
      "align_items": null,
      "align_self": null,
      "border": null,
      "bottom": null,
      "display": null,
      "flex": null,
      "flex_flow": null,
      "grid_area": null,
      "grid_auto_columns": null,
      "grid_auto_flow": null,
      "grid_auto_rows": null,
      "grid_column": null,
      "grid_gap": null,
      "grid_row": null,
      "grid_template_areas": null,
      "grid_template_columns": null,
      "grid_template_rows": null,
      "height": null,
      "justify_content": null,
      "justify_items": null,
      "left": null,
      "margin": null,
      "max_height": null,
      "max_width": null,
      "min_height": null,
      "min_width": null,
      "object_fit": null,
      "object_position": null,
      "order": null,
      "overflow": null,
      "overflow_x": null,
      "overflow_y": null,
      "padding": null,
      "right": null,
      "top": null,
      "visibility": null,
      "width": null
     }
    },
    "1a11b724a5404ec5b2c3a8d7d9b38474": {
     "model_module": "@jupyter-widgets/controls",
     "model_name": "HTMLModel",
     "state": {
      "_dom_classes": [],
      "_model_module": "@jupyter-widgets/controls",
      "_model_module_version": "1.5.0",
      "_model_name": "HTMLModel",
      "_view_count": null,
      "_view_module": "@jupyter-widgets/controls",
      "_view_module_version": "1.5.0",
      "_view_name": "HTMLView",
      "description": "",
      "description_tooltip": null,
      "layout": "IPY_MODEL_3e2c17e2fa9b4d6482eb04e5fdb46b1e",
      "placeholder": "​",
      "style": "IPY_MODEL_4d27cd634bc44a71924c3322d14cea84",
      "value": " 256/256 [00:08&lt;00:00, 28.63it/s]"
     }
    },
    "3e2c17e2fa9b4d6482eb04e5fdb46b1e": {
     "model_module": "@jupyter-widgets/base",
     "model_name": "LayoutModel",
     "state": {
      "_model_module": "@jupyter-widgets/base",
      "_model_module_version": "1.2.0",
      "_model_name": "LayoutModel",
      "_view_count": null,
      "_view_module": "@jupyter-widgets/base",
      "_view_module_version": "1.2.0",
      "_view_name": "LayoutView",
      "align_content": null,
      "align_items": null,
      "align_self": null,
      "border": null,
      "bottom": null,
      "display": null,
      "flex": null,
      "flex_flow": null,
      "grid_area": null,
      "grid_auto_columns": null,
      "grid_auto_flow": null,
      "grid_auto_rows": null,
      "grid_column": null,
      "grid_gap": null,
      "grid_row": null,
      "grid_template_areas": null,
      "grid_template_columns": null,
      "grid_template_rows": null,
      "height": null,
      "justify_content": null,
      "justify_items": null,
      "left": null,
      "margin": null,
      "max_height": null,
      "max_width": null,
      "min_height": null,
      "min_width": null,
      "object_fit": null,
      "object_position": null,
      "order": null,
      "overflow": null,
      "overflow_x": null,
      "overflow_y": null,
      "padding": null,
      "right": null,
      "top": null,
      "visibility": null,
      "width": null
     }
    },
    "4477369ca5e94505982067658c124474": {
     "model_module": "@jupyter-widgets/controls",
     "model_name": "HBoxModel",
     "state": {
      "_dom_classes": [],
      "_model_module": "@jupyter-widgets/controls",
      "_model_module_version": "1.5.0",
      "_model_name": "HBoxModel",
      "_view_count": null,
      "_view_module": "@jupyter-widgets/controls",
      "_view_module_version": "1.5.0",
      "_view_name": "HBoxView",
      "box_style": "",
      "children": [
       "IPY_MODEL_65c91f960e0645f4902d762df7b38e70",
       "IPY_MODEL_ac80a09d77db4c39bd8b3d2faa0c6276"
      ],
      "layout": "IPY_MODEL_5dcb98eae3d74712aa93d7623b5db85d"
     }
    },
    "4d27cd634bc44a71924c3322d14cea84": {
     "model_module": "@jupyter-widgets/controls",
     "model_name": "DescriptionStyleModel",
     "state": {
      "_model_module": "@jupyter-widgets/controls",
      "_model_module_version": "1.5.0",
      "_model_name": "DescriptionStyleModel",
      "_view_count": null,
      "_view_module": "@jupyter-widgets/base",
      "_view_module_version": "1.2.0",
      "_view_name": "StyleView",
      "description_width": ""
     }
    },
    "5184aa40fcd44d0882914b66ae581430": {
     "model_module": "@jupyter-widgets/base",
     "model_name": "LayoutModel",
     "state": {
      "_model_module": "@jupyter-widgets/base",
      "_model_module_version": "1.2.0",
      "_model_name": "LayoutModel",
      "_view_count": null,
      "_view_module": "@jupyter-widgets/base",
      "_view_module_version": "1.2.0",
      "_view_name": "LayoutView",
      "align_content": null,
      "align_items": null,
      "align_self": null,
      "border": null,
      "bottom": null,
      "display": null,
      "flex": null,
      "flex_flow": null,
      "grid_area": null,
      "grid_auto_columns": null,
      "grid_auto_flow": null,
      "grid_auto_rows": null,
      "grid_column": null,
      "grid_gap": null,
      "grid_row": null,
      "grid_template_areas": null,
      "grid_template_columns": null,
      "grid_template_rows": null,
      "height": null,
      "justify_content": null,
      "justify_items": null,
      "left": null,
      "margin": null,
      "max_height": null,
      "max_width": null,
      "min_height": null,
      "min_width": null,
      "object_fit": null,
      "object_position": null,
      "order": null,
      "overflow": null,
      "overflow_x": null,
      "overflow_y": null,
      "padding": null,
      "right": null,
      "top": null,
      "visibility": null,
      "width": null
     }
    },
    "5cd06d52ea4647cfb456bf9966ef9e44": {
     "model_module": "@jupyter-widgets/controls",
     "model_name": "HTMLModel",
     "state": {
      "_dom_classes": [],
      "_model_module": "@jupyter-widgets/controls",
      "_model_module_version": "1.5.0",
      "_model_name": "HTMLModel",
      "_view_count": null,
      "_view_module": "@jupyter-widgets/controls",
      "_view_module_version": "1.5.0",
      "_view_name": "HTMLView",
      "description": "",
      "description_tooltip": null,
      "layout": "IPY_MODEL_6d0415edbb374dd3a693fdeae73db482",
      "placeholder": "​",
      "style": "IPY_MODEL_6ceffdb4ce7e4842b4c302a9fa7f29da",
      "value": " 256/256 [06:00&lt;00:00,  1.41s/it]"
     }
    },
    "5da011677ee54269adb8d09579b593ba": {
     "model_module": "@jupyter-widgets/controls",
     "model_name": "DescriptionStyleModel",
     "state": {
      "_model_module": "@jupyter-widgets/controls",
      "_model_module_version": "1.5.0",
      "_model_name": "DescriptionStyleModel",
      "_view_count": null,
      "_view_module": "@jupyter-widgets/base",
      "_view_module_version": "1.2.0",
      "_view_name": "StyleView",
      "description_width": ""
     }
    },
    "5dcb98eae3d74712aa93d7623b5db85d": {
     "model_module": "@jupyter-widgets/base",
     "model_name": "LayoutModel",
     "state": {
      "_model_module": "@jupyter-widgets/base",
      "_model_module_version": "1.2.0",
      "_model_name": "LayoutModel",
      "_view_count": null,
      "_view_module": "@jupyter-widgets/base",
      "_view_module_version": "1.2.0",
      "_view_name": "LayoutView",
      "align_content": null,
      "align_items": null,
      "align_self": null,
      "border": null,
      "bottom": null,
      "display": null,
      "flex": null,
      "flex_flow": null,
      "grid_area": null,
      "grid_auto_columns": null,
      "grid_auto_flow": null,
      "grid_auto_rows": null,
      "grid_column": null,
      "grid_gap": null,
      "grid_row": null,
      "grid_template_areas": null,
      "grid_template_columns": null,
      "grid_template_rows": null,
      "height": null,
      "justify_content": null,
      "justify_items": null,
      "left": null,
      "margin": null,
      "max_height": null,
      "max_width": null,
      "min_height": null,
      "min_width": null,
      "object_fit": null,
      "object_position": null,
      "order": null,
      "overflow": null,
      "overflow_x": null,
      "overflow_y": null,
      "padding": null,
      "right": null,
      "top": null,
      "visibility": null,
      "width": null
     }
    },
    "61ba5c224a514493985e5d1b686a4913": {
     "model_module": "@jupyter-widgets/controls",
     "model_name": "ProgressStyleModel",
     "state": {
      "_model_module": "@jupyter-widgets/controls",
      "_model_module_version": "1.5.0",
      "_model_name": "ProgressStyleModel",
      "_view_count": null,
      "_view_module": "@jupyter-widgets/base",
      "_view_module_version": "1.2.0",
      "_view_name": "StyleView",
      "bar_color": null,
      "description_width": "initial"
     }
    },
    "65c91f960e0645f4902d762df7b38e70": {
     "model_module": "@jupyter-widgets/controls",
     "model_name": "FloatProgressModel",
     "state": {
      "_dom_classes": [],
      "_model_module": "@jupyter-widgets/controls",
      "_model_module_version": "1.5.0",
      "_model_name": "FloatProgressModel",
      "_view_count": null,
      "_view_module": "@jupyter-widgets/controls",
      "_view_module_version": "1.5.0",
      "_view_name": "ProgressView",
      "bar_style": "success",
      "description": "",
      "description_tooltip": null,
      "layout": "IPY_MODEL_bd40fd9cbd344eddb35495cb46e14103",
      "max": 1,
      "min": 0,
      "orientation": "horizontal",
      "style": "IPY_MODEL_cef623c21a1346038f7a75254b071573",
      "value": 0
     }
    },
    "6cceca6a2c0c42e9bc694ceb1bd0febd": {
     "model_module": "@jupyter-widgets/controls",
     "model_name": "FloatProgressModel",
     "state": {
      "_dom_classes": [],
      "_model_module": "@jupyter-widgets/controls",
      "_model_module_version": "1.5.0",
      "_model_name": "FloatProgressModel",
      "_view_count": null,
      "_view_module": "@jupyter-widgets/controls",
      "_view_module_version": "1.5.0",
      "_view_name": "ProgressView",
      "bar_style": "success",
      "description": "100%",
      "description_tooltip": null,
      "layout": "IPY_MODEL_5184aa40fcd44d0882914b66ae581430",
      "max": 256,
      "min": 0,
      "orientation": "horizontal",
      "style": "IPY_MODEL_61ba5c224a514493985e5d1b686a4913",
      "value": 256
     }
    },
    "6ceffdb4ce7e4842b4c302a9fa7f29da": {
     "model_module": "@jupyter-widgets/controls",
     "model_name": "DescriptionStyleModel",
     "state": {
      "_model_module": "@jupyter-widgets/controls",
      "_model_module_version": "1.5.0",
      "_model_name": "DescriptionStyleModel",
      "_view_count": null,
      "_view_module": "@jupyter-widgets/base",
      "_view_module_version": "1.2.0",
      "_view_name": "StyleView",
      "description_width": ""
     }
    },
    "6d0415edbb374dd3a693fdeae73db482": {
     "model_module": "@jupyter-widgets/base",
     "model_name": "LayoutModel",
     "state": {
      "_model_module": "@jupyter-widgets/base",
      "_model_module_version": "1.2.0",
      "_model_name": "LayoutModel",
      "_view_count": null,
      "_view_module": "@jupyter-widgets/base",
      "_view_module_version": "1.2.0",
      "_view_name": "LayoutView",
      "align_content": null,
      "align_items": null,
      "align_self": null,
      "border": null,
      "bottom": null,
      "display": null,
      "flex": null,
      "flex_flow": null,
      "grid_area": null,
      "grid_auto_columns": null,
      "grid_auto_flow": null,
      "grid_auto_rows": null,
      "grid_column": null,
      "grid_gap": null,
      "grid_row": null,
      "grid_template_areas": null,
      "grid_template_columns": null,
      "grid_template_rows": null,
      "height": null,
      "justify_content": null,
      "justify_items": null,
      "left": null,
      "margin": null,
      "max_height": null,
      "max_width": null,
      "min_height": null,
      "min_width": null,
      "object_fit": null,
      "object_position": null,
      "order": null,
      "overflow": null,
      "overflow_x": null,
      "overflow_y": null,
      "padding": null,
      "right": null,
      "top": null,
      "visibility": null,
      "width": null
     }
    },
    "74e98cc443b240798358f4281be5f677": {
     "model_module": "@jupyter-widgets/base",
     "model_name": "LayoutModel",
     "state": {
      "_model_module": "@jupyter-widgets/base",
      "_model_module_version": "1.2.0",
      "_model_name": "LayoutModel",
      "_view_count": null,
      "_view_module": "@jupyter-widgets/base",
      "_view_module_version": "1.2.0",
      "_view_name": "LayoutView",
      "align_content": null,
      "align_items": null,
      "align_self": null,
      "border": null,
      "bottom": null,
      "display": null,
      "flex": null,
      "flex_flow": null,
      "grid_area": null,
      "grid_auto_columns": null,
      "grid_auto_flow": null,
      "grid_auto_rows": null,
      "grid_column": null,
      "grid_gap": null,
      "grid_row": null,
      "grid_template_areas": null,
      "grid_template_columns": null,
      "grid_template_rows": null,
      "height": null,
      "justify_content": null,
      "justify_items": null,
      "left": null,
      "margin": null,
      "max_height": null,
      "max_width": null,
      "min_height": null,
      "min_width": null,
      "object_fit": null,
      "object_position": null,
      "order": null,
      "overflow": null,
      "overflow_x": null,
      "overflow_y": null,
      "padding": null,
      "right": null,
      "top": null,
      "visibility": null,
      "width": null
     }
    },
    "80ff2aba47da4f669f1901cf3501dcaa": {
     "model_module": "@jupyter-widgets/controls",
     "model_name": "HBoxModel",
     "state": {
      "_dom_classes": [],
      "_model_module": "@jupyter-widgets/controls",
      "_model_module_version": "1.5.0",
      "_model_name": "HBoxModel",
      "_view_count": null,
      "_view_module": "@jupyter-widgets/controls",
      "_view_module_version": "1.5.0",
      "_view_name": "HBoxView",
      "box_style": "",
      "children": [
       "IPY_MODEL_91d6b6a3ee74436da244a0eb3b2c318b",
       "IPY_MODEL_88d27b6f0c7f40d18417e49568605277"
      ],
      "layout": "IPY_MODEL_1513ab5644d24284b88665586d1763e9"
     }
    },
    "88d27b6f0c7f40d18417e49568605277": {
     "model_module": "@jupyter-widgets/controls",
     "model_name": "HTMLModel",
     "state": {
      "_dom_classes": [],
      "_model_module": "@jupyter-widgets/controls",
      "_model_module_version": "1.5.0",
      "_model_name": "HTMLModel",
      "_view_count": null,
      "_view_module": "@jupyter-widgets/controls",
      "_view_module_version": "1.5.0",
      "_view_name": "HTMLView",
      "description": "",
      "description_tooltip": null,
      "layout": "IPY_MODEL_f3d3f20064994daf99f6df9b5f3fa641",
      "placeholder": "​",
      "style": "IPY_MODEL_c682c1d895b74f5db0563bfd1801a39b",
      "value": " 256/256 [00:01&lt;00:00, 146.14it/s]"
     }
    },
    "8c1877aa0cc247daa4232877681f39af": {
     "model_module": "@jupyter-widgets/controls",
     "model_name": "FloatProgressModel",
     "state": {
      "_dom_classes": [],
      "_model_module": "@jupyter-widgets/controls",
      "_model_module_version": "1.5.0",
      "_model_name": "FloatProgressModel",
      "_view_count": null,
      "_view_module": "@jupyter-widgets/controls",
      "_view_module_version": "1.5.0",
      "_view_name": "ProgressView",
      "bar_style": "success",
      "description": "100%",
      "description_tooltip": null,
      "layout": "IPY_MODEL_eec3946e73864c1593d09cf70cf1fb49",
      "max": 256,
      "min": 0,
      "orientation": "horizontal",
      "style": "IPY_MODEL_8dec687b55aa4ab1a18467d76732834c",
      "value": 256
     }
    },
    "8dec687b55aa4ab1a18467d76732834c": {
     "model_module": "@jupyter-widgets/controls",
     "model_name": "ProgressStyleModel",
     "state": {
      "_model_module": "@jupyter-widgets/controls",
      "_model_module_version": "1.5.0",
      "_model_name": "ProgressStyleModel",
      "_view_count": null,
      "_view_module": "@jupyter-widgets/base",
      "_view_module_version": "1.2.0",
      "_view_name": "StyleView",
      "bar_color": null,
      "description_width": "initial"
     }
    },
    "91d6b6a3ee74436da244a0eb3b2c318b": {
     "model_module": "@jupyter-widgets/controls",
     "model_name": "FloatProgressModel",
     "state": {
      "_dom_classes": [],
      "_model_module": "@jupyter-widgets/controls",
      "_model_module_version": "1.5.0",
      "_model_name": "FloatProgressModel",
      "_view_count": null,
      "_view_module": "@jupyter-widgets/controls",
      "_view_module_version": "1.5.0",
      "_view_name": "ProgressView",
      "bar_style": "success",
      "description": "100%",
      "description_tooltip": null,
      "layout": "IPY_MODEL_74e98cc443b240798358f4281be5f677",
      "max": 256,
      "min": 0,
      "orientation": "horizontal",
      "style": "IPY_MODEL_b5dab458a1a54de1839c05cc2095b100",
      "value": 256
     }
    },
    "a1ac4b3b37ad4746a667c0dd80bcd43d": {
     "model_module": "@jupyter-widgets/base",
     "model_name": "LayoutModel",
     "state": {
      "_model_module": "@jupyter-widgets/base",
      "_model_module_version": "1.2.0",
      "_model_name": "LayoutModel",
      "_view_count": null,
      "_view_module": "@jupyter-widgets/base",
      "_view_module_version": "1.2.0",
      "_view_name": "LayoutView",
      "align_content": null,
      "align_items": null,
      "align_self": null,
      "border": null,
      "bottom": null,
      "display": null,
      "flex": null,
      "flex_flow": null,
      "grid_area": null,
      "grid_auto_columns": null,
      "grid_auto_flow": null,
      "grid_auto_rows": null,
      "grid_column": null,
      "grid_gap": null,
      "grid_row": null,
      "grid_template_areas": null,
      "grid_template_columns": null,
      "grid_template_rows": null,
      "height": null,
      "justify_content": null,
      "justify_items": null,
      "left": null,
      "margin": null,
      "max_height": null,
      "max_width": null,
      "min_height": null,
      "min_width": null,
      "object_fit": null,
      "object_position": null,
      "order": null,
      "overflow": null,
      "overflow_x": null,
      "overflow_y": null,
      "padding": null,
      "right": null,
      "top": null,
      "visibility": null,
      "width": null
     }
    },
    "a27eaccc357c422d996f751a7a232e37": {
     "model_module": "@jupyter-widgets/base",
     "model_name": "LayoutModel",
     "state": {
      "_model_module": "@jupyter-widgets/base",
      "_model_module_version": "1.2.0",
      "_model_name": "LayoutModel",
      "_view_count": null,
      "_view_module": "@jupyter-widgets/base",
      "_view_module_version": "1.2.0",
      "_view_name": "LayoutView",
      "align_content": null,
      "align_items": null,
      "align_self": null,
      "border": null,
      "bottom": null,
      "display": null,
      "flex": null,
      "flex_flow": null,
      "grid_area": null,
      "grid_auto_columns": null,
      "grid_auto_flow": null,
      "grid_auto_rows": null,
      "grid_column": null,
      "grid_gap": null,
      "grid_row": null,
      "grid_template_areas": null,
      "grid_template_columns": null,
      "grid_template_rows": null,
      "height": null,
      "justify_content": null,
      "justify_items": null,
      "left": null,
      "margin": null,
      "max_height": null,
      "max_width": null,
      "min_height": null,
      "min_width": null,
      "object_fit": null,
      "object_position": null,
      "order": null,
      "overflow": null,
      "overflow_x": null,
      "overflow_y": null,
      "padding": null,
      "right": null,
      "top": null,
      "visibility": null,
      "width": null
     }
    },
    "a9035e95770145fa9814c64a1e77414e": {
     "model_module": "@jupyter-widgets/base",
     "model_name": "LayoutModel",
     "state": {
      "_model_module": "@jupyter-widgets/base",
      "_model_module_version": "1.2.0",
      "_model_name": "LayoutModel",
      "_view_count": null,
      "_view_module": "@jupyter-widgets/base",
      "_view_module_version": "1.2.0",
      "_view_name": "LayoutView",
      "align_content": null,
      "align_items": null,
      "align_self": null,
      "border": null,
      "bottom": null,
      "display": null,
      "flex": null,
      "flex_flow": null,
      "grid_area": null,
      "grid_auto_columns": null,
      "grid_auto_flow": null,
      "grid_auto_rows": null,
      "grid_column": null,
      "grid_gap": null,
      "grid_row": null,
      "grid_template_areas": null,
      "grid_template_columns": null,
      "grid_template_rows": null,
      "height": null,
      "justify_content": null,
      "justify_items": null,
      "left": null,
      "margin": null,
      "max_height": null,
      "max_width": null,
      "min_height": null,
      "min_width": null,
      "object_fit": null,
      "object_position": null,
      "order": null,
      "overflow": null,
      "overflow_x": null,
      "overflow_y": null,
      "padding": null,
      "right": null,
      "top": null,
      "visibility": null,
      "width": null
     }
    },
    "ac80a09d77db4c39bd8b3d2faa0c6276": {
     "model_module": "@jupyter-widgets/controls",
     "model_name": "HTMLModel",
     "state": {
      "_dom_classes": [],
      "_model_module": "@jupyter-widgets/controls",
      "_model_module_version": "1.5.0",
      "_model_name": "HTMLModel",
      "_view_count": null,
      "_view_module": "@jupyter-widgets/controls",
      "_view_module_version": "1.5.0",
      "_view_name": "HTMLView",
      "description": "",
      "description_tooltip": null,
      "layout": "IPY_MODEL_e2164b3b9276459899dc33a008bdddf8",
      "placeholder": "​",
      "style": "IPY_MODEL_d6b90db4a82f46ac8608cb426b07639d",
      "value": " 0/? [00:02&lt;?, ?it/s]"
     }
    },
    "ae65c6ae1f6843d2872846423b943e60": {
     "model_module": "@jupyter-widgets/base",
     "model_name": "LayoutModel",
     "state": {
      "_model_module": "@jupyter-widgets/base",
      "_model_module_version": "1.2.0",
      "_model_name": "LayoutModel",
      "_view_count": null,
      "_view_module": "@jupyter-widgets/base",
      "_view_module_version": "1.2.0",
      "_view_name": "LayoutView",
      "align_content": null,
      "align_items": null,
      "align_self": null,
      "border": null,
      "bottom": null,
      "display": null,
      "flex": null,
      "flex_flow": null,
      "grid_area": null,
      "grid_auto_columns": null,
      "grid_auto_flow": null,
      "grid_auto_rows": null,
      "grid_column": null,
      "grid_gap": null,
      "grid_row": null,
      "grid_template_areas": null,
      "grid_template_columns": null,
      "grid_template_rows": null,
      "height": null,
      "justify_content": null,
      "justify_items": null,
      "left": null,
      "margin": null,
      "max_height": null,
      "max_width": null,
      "min_height": null,
      "min_width": null,
      "object_fit": null,
      "object_position": null,
      "order": null,
      "overflow": null,
      "overflow_x": null,
      "overflow_y": null,
      "padding": null,
      "right": null,
      "top": null,
      "visibility": null,
      "width": null
     }
    },
    "af4d083911b04ec1b010f622397d56f4": {
     "model_module": "@jupyter-widgets/controls",
     "model_name": "HTMLModel",
     "state": {
      "_dom_classes": [],
      "_model_module": "@jupyter-widgets/controls",
      "_model_module_version": "1.5.0",
      "_model_name": "HTMLModel",
      "_view_count": null,
      "_view_module": "@jupyter-widgets/controls",
      "_view_module_version": "1.5.0",
      "_view_name": "HTMLView",
      "description": "",
      "description_tooltip": null,
      "layout": "IPY_MODEL_a27eaccc357c422d996f751a7a232e37",
      "placeholder": "​",
      "style": "IPY_MODEL_cd31018580c946d981189561fd71cd8a",
      "value": " 256/256 [10:06&lt;00:00,  2.37s/it]"
     }
    },
    "b5dab458a1a54de1839c05cc2095b100": {
     "model_module": "@jupyter-widgets/controls",
     "model_name": "ProgressStyleModel",
     "state": {
      "_model_module": "@jupyter-widgets/controls",
      "_model_module_version": "1.5.0",
      "_model_name": "ProgressStyleModel",
      "_view_count": null,
      "_view_module": "@jupyter-widgets/base",
      "_view_module_version": "1.2.0",
      "_view_name": "StyleView",
      "bar_color": null,
      "description_width": "initial"
     }
    },
    "bae2e1044667445db4d325b27aa80531": {
     "model_module": "@jupyter-widgets/base",
     "model_name": "LayoutModel",
     "state": {
      "_model_module": "@jupyter-widgets/base",
      "_model_module_version": "1.2.0",
      "_model_name": "LayoutModel",
      "_view_count": null,
      "_view_module": "@jupyter-widgets/base",
      "_view_module_version": "1.2.0",
      "_view_name": "LayoutView",
      "align_content": null,
      "align_items": null,
      "align_self": null,
      "border": null,
      "bottom": null,
      "display": null,
      "flex": null,
      "flex_flow": null,
      "grid_area": null,
      "grid_auto_columns": null,
      "grid_auto_flow": null,
      "grid_auto_rows": null,
      "grid_column": null,
      "grid_gap": null,
      "grid_row": null,
      "grid_template_areas": null,
      "grid_template_columns": null,
      "grid_template_rows": null,
      "height": null,
      "justify_content": null,
      "justify_items": null,
      "left": null,
      "margin": null,
      "max_height": null,
      "max_width": null,
      "min_height": null,
      "min_width": null,
      "object_fit": null,
      "object_position": null,
      "order": null,
      "overflow": null,
      "overflow_x": null,
      "overflow_y": null,
      "padding": null,
      "right": null,
      "top": null,
      "visibility": null,
      "width": null
     }
    },
    "bcd83aa9f78b468bb9d62ba4c0a59324": {
     "model_module": "@jupyter-widgets/controls",
     "model_name": "HBoxModel",
     "state": {
      "_dom_classes": [],
      "_model_module": "@jupyter-widgets/controls",
      "_model_module_version": "1.5.0",
      "_model_name": "HBoxModel",
      "_view_count": null,
      "_view_module": "@jupyter-widgets/controls",
      "_view_module_version": "1.5.0",
      "_view_name": "HBoxView",
      "box_style": "",
      "children": [
       "IPY_MODEL_8c1877aa0cc247daa4232877681f39af",
       "IPY_MODEL_af4d083911b04ec1b010f622397d56f4"
      ],
      "layout": "IPY_MODEL_f5d3979f34a640318a660104c9e8ba50"
     }
    },
    "bd40fd9cbd344eddb35495cb46e14103": {
     "model_module": "@jupyter-widgets/base",
     "model_name": "LayoutModel",
     "state": {
      "_model_module": "@jupyter-widgets/base",
      "_model_module_version": "1.2.0",
      "_model_name": "LayoutModel",
      "_view_count": null,
      "_view_module": "@jupyter-widgets/base",
      "_view_module_version": "1.2.0",
      "_view_name": "LayoutView",
      "align_content": null,
      "align_items": null,
      "align_self": null,
      "border": null,
      "bottom": null,
      "display": null,
      "flex": null,
      "flex_flow": null,
      "grid_area": null,
      "grid_auto_columns": null,
      "grid_auto_flow": null,
      "grid_auto_rows": null,
      "grid_column": null,
      "grid_gap": null,
      "grid_row": null,
      "grid_template_areas": null,
      "grid_template_columns": null,
      "grid_template_rows": null,
      "height": null,
      "justify_content": null,
      "justify_items": null,
      "left": null,
      "margin": null,
      "max_height": null,
      "max_width": null,
      "min_height": null,
      "min_width": null,
      "object_fit": null,
      "object_position": null,
      "order": null,
      "overflow": null,
      "overflow_x": null,
      "overflow_y": null,
      "padding": null,
      "right": null,
      "top": null,
      "visibility": null,
      "width": null
     }
    },
    "bef09922dc034405903324c1f9948c07": {
     "model_module": "@jupyter-widgets/controls",
     "model_name": "ProgressStyleModel",
     "state": {
      "_model_module": "@jupyter-widgets/controls",
      "_model_module_version": "1.5.0",
      "_model_name": "ProgressStyleModel",
      "_view_count": null,
      "_view_module": "@jupyter-widgets/base",
      "_view_module_version": "1.2.0",
      "_view_name": "StyleView",
      "bar_color": null,
      "description_width": "initial"
     }
    },
    "c682c1d895b74f5db0563bfd1801a39b": {
     "model_module": "@jupyter-widgets/controls",
     "model_name": "DescriptionStyleModel",
     "state": {
      "_model_module": "@jupyter-widgets/controls",
      "_model_module_version": "1.5.0",
      "_model_name": "DescriptionStyleModel",
      "_view_count": null,
      "_view_module": "@jupyter-widgets/base",
      "_view_module_version": "1.2.0",
      "_view_name": "StyleView",
      "description_width": ""
     }
    },
    "cd31018580c946d981189561fd71cd8a": {
     "model_module": "@jupyter-widgets/controls",
     "model_name": "DescriptionStyleModel",
     "state": {
      "_model_module": "@jupyter-widgets/controls",
      "_model_module_version": "1.5.0",
      "_model_name": "DescriptionStyleModel",
      "_view_count": null,
      "_view_module": "@jupyter-widgets/base",
      "_view_module_version": "1.2.0",
      "_view_name": "StyleView",
      "description_width": ""
     }
    },
    "cef623c21a1346038f7a75254b071573": {
     "model_module": "@jupyter-widgets/controls",
     "model_name": "ProgressStyleModel",
     "state": {
      "_model_module": "@jupyter-widgets/controls",
      "_model_module_version": "1.5.0",
      "_model_name": "ProgressStyleModel",
      "_view_count": null,
      "_view_module": "@jupyter-widgets/base",
      "_view_module_version": "1.2.0",
      "_view_name": "StyleView",
      "bar_color": null,
      "description_width": "initial"
     }
    },
    "d6b90db4a82f46ac8608cb426b07639d": {
     "model_module": "@jupyter-widgets/controls",
     "model_name": "DescriptionStyleModel",
     "state": {
      "_model_module": "@jupyter-widgets/controls",
      "_model_module_version": "1.5.0",
      "_model_name": "DescriptionStyleModel",
      "_view_count": null,
      "_view_module": "@jupyter-widgets/base",
      "_view_module_version": "1.2.0",
      "_view_name": "StyleView",
      "description_width": ""
     }
    },
    "dc4769adbbf3497db8620a743da82b58": {
     "model_module": "@jupyter-widgets/controls",
     "model_name": "HBoxModel",
     "state": {
      "_dom_classes": [],
      "_model_module": "@jupyter-widgets/controls",
      "_model_module_version": "1.5.0",
      "_model_name": "HBoxModel",
      "_view_count": null,
      "_view_module": "@jupyter-widgets/controls",
      "_view_module_version": "1.5.0",
      "_view_name": "HBoxView",
      "box_style": "",
      "children": [
       "IPY_MODEL_f54b251a7c3f4331bbb9a139c93dc8d1",
       "IPY_MODEL_f9aed9464eac4b77b13e4ba98835f414"
      ],
      "layout": "IPY_MODEL_a9035e95770145fa9814c64a1e77414e"
     }
    },
    "e2164b3b9276459899dc33a008bdddf8": {
     "model_module": "@jupyter-widgets/base",
     "model_name": "LayoutModel",
     "state": {
      "_model_module": "@jupyter-widgets/base",
      "_model_module_version": "1.2.0",
      "_model_name": "LayoutModel",
      "_view_count": null,
      "_view_module": "@jupyter-widgets/base",
      "_view_module_version": "1.2.0",
      "_view_name": "LayoutView",
      "align_content": null,
      "align_items": null,
      "align_self": null,
      "border": null,
      "bottom": null,
      "display": null,
      "flex": null,
      "flex_flow": null,
      "grid_area": null,
      "grid_auto_columns": null,
      "grid_auto_flow": null,
      "grid_auto_rows": null,
      "grid_column": null,
      "grid_gap": null,
      "grid_row": null,
      "grid_template_areas": null,
      "grid_template_columns": null,
      "grid_template_rows": null,
      "height": null,
      "justify_content": null,
      "justify_items": null,
      "left": null,
      "margin": null,
      "max_height": null,
      "max_width": null,
      "min_height": null,
      "min_width": null,
      "object_fit": null,
      "object_position": null,
      "order": null,
      "overflow": null,
      "overflow_x": null,
      "overflow_y": null,
      "padding": null,
      "right": null,
      "top": null,
      "visibility": null,
      "width": null
     }
    },
    "eec3946e73864c1593d09cf70cf1fb49": {
     "model_module": "@jupyter-widgets/base",
     "model_name": "LayoutModel",
     "state": {
      "_model_module": "@jupyter-widgets/base",
      "_model_module_version": "1.2.0",
      "_model_name": "LayoutModel",
      "_view_count": null,
      "_view_module": "@jupyter-widgets/base",
      "_view_module_version": "1.2.0",
      "_view_name": "LayoutView",
      "align_content": null,
      "align_items": null,
      "align_self": null,
      "border": null,
      "bottom": null,
      "display": null,
      "flex": null,
      "flex_flow": null,
      "grid_area": null,
      "grid_auto_columns": null,
      "grid_auto_flow": null,
      "grid_auto_rows": null,
      "grid_column": null,
      "grid_gap": null,
      "grid_row": null,
      "grid_template_areas": null,
      "grid_template_columns": null,
      "grid_template_rows": null,
      "height": null,
      "justify_content": null,
      "justify_items": null,
      "left": null,
      "margin": null,
      "max_height": null,
      "max_width": null,
      "min_height": null,
      "min_width": null,
      "object_fit": null,
      "object_position": null,
      "order": null,
      "overflow": null,
      "overflow_x": null,
      "overflow_y": null,
      "padding": null,
      "right": null,
      "top": null,
      "visibility": null,
      "width": null
     }
    },
    "f01526f44f214a9a9bf4d5bd6381e9a6": {
     "model_module": "@jupyter-widgets/controls",
     "model_name": "FloatProgressModel",
     "state": {
      "_dom_classes": [],
      "_model_module": "@jupyter-widgets/controls",
      "_model_module_version": "1.5.0",
      "_model_name": "FloatProgressModel",
      "_view_count": null,
      "_view_module": "@jupyter-widgets/controls",
      "_view_module_version": "1.5.0",
      "_view_name": "ProgressView",
      "bar_style": "success",
      "description": "100%",
      "description_tooltip": null,
      "layout": "IPY_MODEL_f368bb046a2740999f19892434ca022e",
      "max": 256,
      "min": 0,
      "orientation": "horizontal",
      "style": "IPY_MODEL_07376b3625634908935bb67a326c10e1",
      "value": 256
     }
    },
    "f368bb046a2740999f19892434ca022e": {
     "model_module": "@jupyter-widgets/base",
     "model_name": "LayoutModel",
     "state": {
      "_model_module": "@jupyter-widgets/base",
      "_model_module_version": "1.2.0",
      "_model_name": "LayoutModel",
      "_view_count": null,
      "_view_module": "@jupyter-widgets/base",
      "_view_module_version": "1.2.0",
      "_view_name": "LayoutView",
      "align_content": null,
      "align_items": null,
      "align_self": null,
      "border": null,
      "bottom": null,
      "display": null,
      "flex": null,
      "flex_flow": null,
      "grid_area": null,
      "grid_auto_columns": null,
      "grid_auto_flow": null,
      "grid_auto_rows": null,
      "grid_column": null,
      "grid_gap": null,
      "grid_row": null,
      "grid_template_areas": null,
      "grid_template_columns": null,
      "grid_template_rows": null,
      "height": null,
      "justify_content": null,
      "justify_items": null,
      "left": null,
      "margin": null,
      "max_height": null,
      "max_width": null,
      "min_height": null,
      "min_width": null,
      "object_fit": null,
      "object_position": null,
      "order": null,
      "overflow": null,
      "overflow_x": null,
      "overflow_y": null,
      "padding": null,
      "right": null,
      "top": null,
      "visibility": null,
      "width": null
     }
    },
    "f3d3f20064994daf99f6df9b5f3fa641": {
     "model_module": "@jupyter-widgets/base",
     "model_name": "LayoutModel",
     "state": {
      "_model_module": "@jupyter-widgets/base",
      "_model_module_version": "1.2.0",
      "_model_name": "LayoutModel",
      "_view_count": null,
      "_view_module": "@jupyter-widgets/base",
      "_view_module_version": "1.2.0",
      "_view_name": "LayoutView",
      "align_content": null,
      "align_items": null,
      "align_self": null,
      "border": null,
      "bottom": null,
      "display": null,
      "flex": null,
      "flex_flow": null,
      "grid_area": null,
      "grid_auto_columns": null,
      "grid_auto_flow": null,
      "grid_auto_rows": null,
      "grid_column": null,
      "grid_gap": null,
      "grid_row": null,
      "grid_template_areas": null,
      "grid_template_columns": null,
      "grid_template_rows": null,
      "height": null,
      "justify_content": null,
      "justify_items": null,
      "left": null,
      "margin": null,
      "max_height": null,
      "max_width": null,
      "min_height": null,
      "min_width": null,
      "object_fit": null,
      "object_position": null,
      "order": null,
      "overflow": null,
      "overflow_x": null,
      "overflow_y": null,
      "padding": null,
      "right": null,
      "top": null,
      "visibility": null,
      "width": null
     }
    },
    "f54b251a7c3f4331bbb9a139c93dc8d1": {
     "model_module": "@jupyter-widgets/controls",
     "model_name": "FloatProgressModel",
     "state": {
      "_dom_classes": [],
      "_model_module": "@jupyter-widgets/controls",
      "_model_module_version": "1.5.0",
      "_model_name": "FloatProgressModel",
      "_view_count": null,
      "_view_module": "@jupyter-widgets/controls",
      "_view_module_version": "1.5.0",
      "_view_name": "ProgressView",
      "bar_style": "success",
      "description": "100%",
      "description_tooltip": null,
      "layout": "IPY_MODEL_a1ac4b3b37ad4746a667c0dd80bcd43d",
      "max": 308,
      "min": 0,
      "orientation": "horizontal",
      "style": "IPY_MODEL_bef09922dc034405903324c1f9948c07",
      "value": 308
     }
    },
    "f5d3979f34a640318a660104c9e8ba50": {
     "model_module": "@jupyter-widgets/base",
     "model_name": "LayoutModel",
     "state": {
      "_model_module": "@jupyter-widgets/base",
      "_model_module_version": "1.2.0",
      "_model_name": "LayoutModel",
      "_view_count": null,
      "_view_module": "@jupyter-widgets/base",
      "_view_module_version": "1.2.0",
      "_view_name": "LayoutView",
      "align_content": null,
      "align_items": null,
      "align_self": null,
      "border": null,
      "bottom": null,
      "display": null,
      "flex": null,
      "flex_flow": null,
      "grid_area": null,
      "grid_auto_columns": null,
      "grid_auto_flow": null,
      "grid_auto_rows": null,
      "grid_column": null,
      "grid_gap": null,
      "grid_row": null,
      "grid_template_areas": null,
      "grid_template_columns": null,
      "grid_template_rows": null,
      "height": null,
      "justify_content": null,
      "justify_items": null,
      "left": null,
      "margin": null,
      "max_height": null,
      "max_width": null,
      "min_height": null,
      "min_width": null,
      "object_fit": null,
      "object_position": null,
      "order": null,
      "overflow": null,
      "overflow_x": null,
      "overflow_y": null,
      "padding": null,
      "right": null,
      "top": null,
      "visibility": null,
      "width": null
     }
    },
    "f693f6ce93f44ecf8159214f91a65864": {
     "model_module": "@jupyter-widgets/controls",
     "model_name": "HBoxModel",
     "state": {
      "_dom_classes": [],
      "_model_module": "@jupyter-widgets/controls",
      "_model_module_version": "1.5.0",
      "_model_name": "HBoxModel",
      "_view_count": null,
      "_view_module": "@jupyter-widgets/controls",
      "_view_module_version": "1.5.0",
      "_view_name": "HBoxView",
      "box_style": "",
      "children": [
       "IPY_MODEL_6cceca6a2c0c42e9bc694ceb1bd0febd",
       "IPY_MODEL_5cd06d52ea4647cfb456bf9966ef9e44"
      ],
      "layout": "IPY_MODEL_ae65c6ae1f6843d2872846423b943e60"
     }
    },
    "f9aed9464eac4b77b13e4ba98835f414": {
     "model_module": "@jupyter-widgets/controls",
     "model_name": "HTMLModel",
     "state": {
      "_dom_classes": [],
      "_model_module": "@jupyter-widgets/controls",
      "_model_module_version": "1.5.0",
      "_model_name": "HTMLModel",
      "_view_count": null,
      "_view_module": "@jupyter-widgets/controls",
      "_view_module_version": "1.5.0",
      "_view_name": "HTMLView",
      "description": "",
      "description_tooltip": null,
      "layout": "IPY_MODEL_08d12b4391664079ac12e056eed69186",
      "placeholder": "​",
      "style": "IPY_MODEL_5da011677ee54269adb8d09579b593ba",
      "value": " 308/308 [00:19&lt;00:00, 15.91it/s]"
     }
    }
   }
  }
 },
 "nbformat": 4,
 "nbformat_minor": 4
}
