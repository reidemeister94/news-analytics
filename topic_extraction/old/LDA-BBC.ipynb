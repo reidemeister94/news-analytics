{
 "cells": [
  {
   "cell_type": "markdown",
   "metadata": {
    "colab_type": "text",
    "id": "PjNuAtvtXInN"
   },
   "source": [
    "# Reading data"
   ]
  },
  {
   "cell_type": "code",
   "execution_count": 1,
   "metadata": {
    "colab": {},
    "colab_type": "code",
    "id": "wSIXNM1_XInT"
   },
   "outputs": [],
   "source": [
    "import pandas as pd\n",
    "import numpy as np"
   ]
  },
  {
   "cell_type": "code",
   "execution_count": 2,
   "metadata": {
    "colab": {},
    "colab_type": "code",
    "id": "X0p3mOtOXInh"
   },
   "outputs": [],
   "source": [
    "data = pd.read_csv('articles_bbc_2018_01_30.csv')"
   ]
  },
  {
   "cell_type": "code",
   "execution_count": 3,
   "metadata": {
    "colab": {
     "base_uri": "https://localhost:8080/",
     "height": 34
    },
    "colab_type": "code",
    "id": "GecBuDPxXInp",
    "outputId": "8e8a1893-d36b-45ff-9e04-1ddd04856f88",
    "scrolled": true
   },
   "outputs": [
    {
     "data": {
      "text/plain": [
       "(309, 2)"
      ]
     },
     "execution_count": 3,
     "metadata": {},
     "output_type": "execute_result"
    }
   ],
   "source": [
    "data.shape"
   ]
  },
  {
   "cell_type": "code",
   "execution_count": 4,
   "metadata": {
    "colab": {},
    "colab_type": "code",
    "id": "2Kh7j_HBXInx"
   },
   "outputs": [],
   "source": [
    "data = data.dropna().reset_index(drop=True)"
   ]
  },
  {
   "cell_type": "code",
   "execution_count": 5,
   "metadata": {
    "colab": {
     "base_uri": "https://localhost:8080/",
     "height": 34
    },
    "colab_type": "code",
    "id": "i5As9JcCXIn1",
    "outputId": "6225943b-ec82-4b19-86d5-997f566b0017"
   },
   "outputs": [
    {
     "data": {
      "text/plain": [
       "(308, 2)"
      ]
     },
     "execution_count": 5,
     "metadata": {},
     "output_type": "execute_result"
    }
   ],
   "source": [
    "data.shape"
   ]
  },
  {
   "cell_type": "markdown",
   "metadata": {
    "colab_type": "text",
    "id": "QBU8fQsvXIn7"
   },
   "source": [
    "# Cleaning"
   ]
  },
  {
   "cell_type": "markdown",
   "metadata": {
    "colab_type": "text",
    "id": "GMrFAVvuXIn8"
   },
   "source": [
    "#### Keeping English articles"
   ]
  },
  {
   "cell_type": "code",
   "execution_count": 6,
   "metadata": {
    "colab": {
     "base_uri": "https://localhost:8080/",
     "height": 120,
     "referenced_widgets": [
      "4477369ca5e94505982067658c124474",
      "5dcb98eae3d74712aa93d7623b5db85d",
      "65c91f960e0645f4902d762df7b38e70",
      "ac80a09d77db4c39bd8b3d2faa0c6276",
      "cef623c21a1346038f7a75254b071573",
      "bd40fd9cbd344eddb35495cb46e14103",
      "d6b90db4a82f46ac8608cb426b07639d",
      "e2164b3b9276459899dc33a008bdddf8"
     ]
    },
    "colab_type": "code",
    "id": "909gH72HXIn9",
    "outputId": "d06cf694-d957-497a-f1e8-39ae5346e1df"
   },
   "outputs": [],
   "source": [
    "from langdetect import detect\n",
    "#from tqdm import tqdm_notebook\n",
    "#tqdm_notebook().pandas()"
   ]
  },
  {
   "cell_type": "code",
   "execution_count": 7,
   "metadata": {
    "colab": {
     "base_uri": "https://localhost:8080/",
     "height": 83,
     "referenced_widgets": [
      "dc4769adbbf3497db8620a743da82b58",
      "a9035e95770145fa9814c64a1e77414e",
      "f54b251a7c3f4331bbb9a139c93dc8d1",
      "f9aed9464eac4b77b13e4ba98835f414",
      "bef09922dc034405903324c1f9948c07",
      "a1ac4b3b37ad4746a667c0dd80bcd43d",
      "5da011677ee54269adb8d09579b593ba",
      "08d12b4391664079ac12e056eed69186"
     ]
    },
    "colab_type": "code",
    "id": "Cj9n1yXgXIoB",
    "outputId": "77805696-d0c9-4528-cca9-22531196514a"
   },
   "outputs": [],
   "source": [
    "# Ri-crea la colonna 'lang' usando il detector per capire che lingua è\n",
    "# (risolvendo possibili entry sbagliate)\n",
    "#data['lang'] = data.articles.progress_map(detect)\n",
    "data['lang'] = pd.Series([detect(article) for article in data.articles])"
   ]
  },
  {
   "cell_type": "code",
   "execution_count": 8,
   "metadata": {
    "colab": {
     "base_uri": "https://localhost:8080/",
     "height": 272
    },
    "colab_type": "code",
    "id": "z33dlSd0XIoG",
    "outputId": "c11ec897-5e77-42a6-bde7-da55796d1eee"
   },
   "outputs": [
    {
     "data": {
      "text/plain": [
       "en    257\n",
       "fa      9\n",
       "fr      7\n",
       "id      5\n",
       "vi      4\n",
       "ru      4\n",
       "hi      4\n",
       "uk      4\n",
       "ar      4\n",
       "sw      3\n",
       "pt      2\n",
       "es      2\n",
       "tr      2\n",
       "de      1\n",
       "Name: lang, dtype: int64"
      ]
     },
     "execution_count": 8,
     "metadata": {},
     "output_type": "execute_result"
    }
   ],
   "source": [
    "data.lang.value_counts()"
   ]
  },
  {
   "cell_type": "code",
   "execution_count": 9,
   "metadata": {
    "colab": {
     "base_uri": "https://localhost:8080/",
     "height": 34
    },
    "colab_type": "code",
    "id": "bgjlrTOhXIoK",
    "outputId": "e5af4f68-a2cb-40f0-feb9-4a683267db8d"
   },
   "outputs": [
    {
     "data": {
      "text/plain": [
       "(257, 2)"
      ]
     },
     "execution_count": 9,
     "metadata": {},
     "output_type": "execute_result"
    }
   ],
   "source": [
    "# Mi tengo solo quelli inglesi\n",
    "data = data.loc[data.lang=='en']\n",
    "data.shape"
   ]
  },
  {
   "cell_type": "markdown",
   "metadata": {
    "colab_type": "text",
    "id": "Id5HL3CYXIoO"
   },
   "source": [
    "#### Tokenization"
   ]
  },
  {
   "cell_type": "code",
   "execution_count": 10,
   "metadata": {
    "colab": {},
    "colab_type": "code",
    "id": "ZAMRnf3SXIoO"
   },
   "outputs": [],
   "source": [
    "from nltk.tokenize import sent_tokenize"
   ]
  },
  {
   "cell_type": "code",
   "execution_count": 11,
   "metadata": {
    "colab": {
     "base_uri": "https://localhost:8080/",
     "height": 187
    },
    "colab_type": "code",
    "id": "g9lYFfoQXIoR",
    "outputId": "de2619fd-8b6a-421a-977d-e00c1f4644f8"
   },
   "outputs": [
    {
     "name": "stderr",
     "output_type": "stream",
     "text": [
      "[nltk_data] Downloading package punkt to\n",
      "[nltk_data]     /Users/lorenzocorti/nltk_data...\n",
      "[nltk_data]   Package punkt is already up-to-date!\n",
      "[nltk_data] Downloading package averaged_perceptron_tagger to\n",
      "[nltk_data]     /Users/lorenzocorti/nltk_data...\n",
      "[nltk_data]   Package averaged_perceptron_tagger is already up-to-\n",
      "[nltk_data]       date!\n",
      "[nltk_data] Downloading package wordnet to\n",
      "[nltk_data]     /Users/lorenzocorti/nltk_data...\n",
      "[nltk_data]   Package wordnet is already up-to-date!\n",
      "[nltk_data] Downloading package stopwords to\n",
      "[nltk_data]     /Users/lorenzocorti/nltk_data...\n",
      "[nltk_data]   Package stopwords is already up-to-date!\n"
     ]
    },
    {
     "data": {
      "text/plain": [
       "True"
      ]
     },
     "execution_count": 11,
     "metadata": {},
     "output_type": "execute_result"
    }
   ],
   "source": [
    "import nltk\n",
    "nltk.download('punkt')\n",
    "nltk.download('averaged_perceptron_tagger')\n",
    "nltk.download('wordnet')\n",
    "nltk.download('stopwords')"
   ]
  },
  {
   "cell_type": "code",
   "execution_count": 12,
   "metadata": {
    "colab": {},
    "colab_type": "code",
    "id": "dXOKmhlkeNuG"
   },
   "outputs": [
    {
     "data": {
      "text/plain": [
       "\"\\n>> punkt: divide in frasi il testo per costruire un modello per abbreviazioni,\\ncollocations (come le parole sono abbinate) e parole con cui si iniziano frasi.\\n\\n>> averaged_perceptron_tagger: POS tagger\\n\\n>> wordnet: database lessicale per la lingua inglese\\n\\n>> stopwords: parole molto comuni come 'the', 'a', ...\\n\\n\""
      ]
     },
     "execution_count": 12,
     "metadata": {},
     "output_type": "execute_result"
    }
   ],
   "source": [
    "'''\n",
    ">> punkt: divide in frasi il testo per costruire un modello per abbreviazioni,\n",
    "collocations (come le parole sono abbinate) e parole con cui si iniziano frasi.\n",
    "\n",
    ">> averaged_perceptron_tagger: POS tagger\n",
    "\n",
    ">> wordnet: database lessicale per la lingua inglese\n",
    "\n",
    ">> stopwords: parole molto comuni come 'the', 'a', ...\n",
    "\n",
    "'''"
   ]
  },
  {
   "cell_type": "code",
   "execution_count": 13,
   "metadata": {},
   "outputs": [
    {
     "data": {
      "text/html": [
       "<div>\n",
       "<style scoped>\n",
       "    .dataframe tbody tr th:only-of-type {\n",
       "        vertical-align: middle;\n",
       "    }\n",
       "\n",
       "    .dataframe tbody tr th {\n",
       "        vertical-align: top;\n",
       "    }\n",
       "\n",
       "    .dataframe thead th {\n",
       "        text-align: right;\n",
       "    }\n",
       "</style>\n",
       "<table border=\"1\" class=\"dataframe\">\n",
       "  <thead>\n",
       "    <tr style=\"text-align: right;\">\n",
       "      <th></th>\n",
       "      <th>articles</th>\n",
       "      <th>lang</th>\n",
       "    </tr>\n",
       "  </thead>\n",
       "  <tbody>\n",
       "    <tr>\n",
       "      <td>0</td>\n",
       "      <td>Image copyright PA/EPA Image caption Oligarch ...</td>\n",
       "      <td>en</td>\n",
       "    </tr>\n",
       "    <tr>\n",
       "      <td>1</td>\n",
       "      <td>Husband admits killing French jogger\\r\\n\\r\\nTh...</td>\n",
       "      <td>en</td>\n",
       "    </tr>\n",
       "    <tr>\n",
       "      <td>2</td>\n",
       "      <td>Media playback is unsupported on your device M...</td>\n",
       "      <td>en</td>\n",
       "    </tr>\n",
       "    <tr>\n",
       "      <td>3</td>\n",
       "      <td>Manchester City's Leroy Sane is ruled out for ...</td>\n",
       "      <td>en</td>\n",
       "    </tr>\n",
       "    <tr>\n",
       "      <td>4</td>\n",
       "      <td>Image copyright AFP Image caption Sebastien Br...</td>\n",
       "      <td>en</td>\n",
       "    </tr>\n",
       "  </tbody>\n",
       "</table>\n",
       "</div>"
      ],
      "text/plain": [
       "                                            articles lang\n",
       "0  Image copyright PA/EPA Image caption Oligarch ...   en\n",
       "1  Husband admits killing French jogger\\r\\n\\r\\nTh...   en\n",
       "2  Media playback is unsupported on your device M...   en\n",
       "3  Manchester City's Leroy Sane is ruled out for ...   en\n",
       "4  Image copyright AFP Image caption Sebastien Br...   en"
      ]
     },
     "execution_count": 13,
     "metadata": {},
     "output_type": "execute_result"
    }
   ],
   "source": [
    "data.head()"
   ]
  },
  {
   "cell_type": "code",
   "execution_count": 14,
   "metadata": {
    "colab": {
     "base_uri": "https://localhost:8080/",
     "height": 137,
     "referenced_widgets": [
      "0e13000f1fcc45f790764cc4ca0132b0",
      "bae2e1044667445db4d325b27aa80531",
      "f01526f44f214a9a9bf4d5bd6381e9a6",
      "1a11b724a5404ec5b2c3a8d7d9b38474",
      "07376b3625634908935bb67a326c10e1",
      "f368bb046a2740999f19892434ca022e",
      "4d27cd634bc44a71924c3322d14cea84",
      "3e2c17e2fa9b4d6482eb04e5fdb46b1e"
     ]
    },
    "colab_type": "code",
    "id": "PJgfi1w2XIoV",
    "outputId": "d3ff668b-d397-4a97-9672-76140d30377d"
   },
   "outputs": [],
   "source": [
    "#data['sentences'] = data.articles.progress_map(sent_tokenize) # divido in frasi\n",
    "#data['sentences'] = pd.Series([sent_tokenize(article) for article in data.articles])\n",
    "data['sentences'] = data.articles.map(sent_tokenize)\n",
    "#data['sentences'].head(1).tolist()[0][:3] # Print the first 3 sentences of the 1st article"
   ]
  },
  {
   "cell_type": "code",
   "execution_count": 15,
   "metadata": {},
   "outputs": [
    {
     "data": {
      "text/html": [
       "<div>\n",
       "<style scoped>\n",
       "    .dataframe tbody tr th:only-of-type {\n",
       "        vertical-align: middle;\n",
       "    }\n",
       "\n",
       "    .dataframe tbody tr th {\n",
       "        vertical-align: top;\n",
       "    }\n",
       "\n",
       "    .dataframe thead th {\n",
       "        text-align: right;\n",
       "    }\n",
       "</style>\n",
       "<table border=\"1\" class=\"dataframe\">\n",
       "  <thead>\n",
       "    <tr style=\"text-align: right;\">\n",
       "      <th></th>\n",
       "      <th>articles</th>\n",
       "      <th>lang</th>\n",
       "      <th>sentences</th>\n",
       "    </tr>\n",
       "  </thead>\n",
       "  <tbody>\n",
       "    <tr>\n",
       "      <td>0</td>\n",
       "      <td>Image copyright PA/EPA Image caption Oligarch ...</td>\n",
       "      <td>en</td>\n",
       "      <td>[Image copyright PA/EPA Image caption Oligarch...</td>\n",
       "    </tr>\n",
       "    <tr>\n",
       "      <td>1</td>\n",
       "      <td>Husband admits killing French jogger\\r\\n\\r\\nTh...</td>\n",
       "      <td>en</td>\n",
       "      <td>[Husband admits killing French jogger\\r\\n\\r\\nT...</td>\n",
       "    </tr>\n",
       "    <tr>\n",
       "      <td>2</td>\n",
       "      <td>Media playback is unsupported on your device M...</td>\n",
       "      <td>en</td>\n",
       "      <td>[Media playback is unsupported on your device ...</td>\n",
       "    </tr>\n",
       "    <tr>\n",
       "      <td>3</td>\n",
       "      <td>Manchester City's Leroy Sane is ruled out for ...</td>\n",
       "      <td>en</td>\n",
       "      <td>[Manchester City's Leroy Sane is ruled out for...</td>\n",
       "    </tr>\n",
       "    <tr>\n",
       "      <td>4</td>\n",
       "      <td>Image copyright AFP Image caption Sebastien Br...</td>\n",
       "      <td>en</td>\n",
       "      <td>[Image copyright AFP Image caption Sebastien B...</td>\n",
       "    </tr>\n",
       "  </tbody>\n",
       "</table>\n",
       "</div>"
      ],
      "text/plain": [
       "                                            articles lang  \\\n",
       "0  Image copyright PA/EPA Image caption Oligarch ...   en   \n",
       "1  Husband admits killing French jogger\\r\\n\\r\\nTh...   en   \n",
       "2  Media playback is unsupported on your device M...   en   \n",
       "3  Manchester City's Leroy Sane is ruled out for ...   en   \n",
       "4  Image copyright AFP Image caption Sebastien Br...   en   \n",
       "\n",
       "                                           sentences  \n",
       "0  [Image copyright PA/EPA Image caption Oligarch...  \n",
       "1  [Husband admits killing French jogger\\r\\n\\r\\nT...  \n",
       "2  [Media playback is unsupported on your device ...  \n",
       "3  [Manchester City's Leroy Sane is ruled out for...  \n",
       "4  [Image copyright AFP Image caption Sebastien B...  "
      ]
     },
     "execution_count": 15,
     "metadata": {},
     "output_type": "execute_result"
    }
   ],
   "source": [
    "data.head()"
   ]
  },
  {
   "cell_type": "code",
   "execution_count": 16,
   "metadata": {
    "colab": {},
    "colab_type": "code",
    "id": "8R1XrUTCXIoY"
   },
   "outputs": [],
   "source": [
    "from nltk.tokenize import word_tokenize"
   ]
  },
  {
   "cell_type": "code",
   "execution_count": 17,
   "metadata": {
    "colab": {
     "base_uri": "https://localhost:8080/",
     "height": 103,
     "referenced_widgets": [
      "bcd83aa9f78b468bb9d62ba4c0a59324",
      "f5d3979f34a640318a660104c9e8ba50",
      "8c1877aa0cc247daa4232877681f39af",
      "af4d083911b04ec1b010f622397d56f4",
      "8dec687b55aa4ab1a18467d76732834c",
      "eec3946e73864c1593d09cf70cf1fb49",
      "cd31018580c946d981189561fd71cd8a",
      "a27eaccc357c422d996f751a7a232e37"
     ]
    },
    "colab_type": "code",
    "id": "IvYQUgYQXIoa",
    "outputId": "a7d799e2-f850-4788-ef72-38631a2dac3d",
    "scrolled": true
   },
   "outputs": [],
   "source": [
    "data['tokens_sentences'] = data['sentences'].map(lambda sentences: [word_tokenize(sentence) for sentence in sentences])\n",
    "# trasformo le frasi in liste di parole isolate\n",
    "#print(data['tokens_sentences'].head(1).tolist()[:3])"
   ]
  },
  {
   "cell_type": "code",
   "execution_count": 18,
   "metadata": {},
   "outputs": [
    {
     "data": {
      "text/html": [
       "<div>\n",
       "<style scoped>\n",
       "    .dataframe tbody tr th:only-of-type {\n",
       "        vertical-align: middle;\n",
       "    }\n",
       "\n",
       "    .dataframe tbody tr th {\n",
       "        vertical-align: top;\n",
       "    }\n",
       "\n",
       "    .dataframe thead th {\n",
       "        text-align: right;\n",
       "    }\n",
       "</style>\n",
       "<table border=\"1\" class=\"dataframe\">\n",
       "  <thead>\n",
       "    <tr style=\"text-align: right;\">\n",
       "      <th></th>\n",
       "      <th>articles</th>\n",
       "      <th>lang</th>\n",
       "      <th>sentences</th>\n",
       "      <th>tokens_sentences</th>\n",
       "    </tr>\n",
       "  </thead>\n",
       "  <tbody>\n",
       "    <tr>\n",
       "      <td>0</td>\n",
       "      <td>Image copyright PA/EPA Image caption Oligarch ...</td>\n",
       "      <td>en</td>\n",
       "      <td>[Image copyright PA/EPA Image caption Oligarch...</td>\n",
       "      <td>[[Image, copyright, PA/EPA, Image, caption, Ol...</td>\n",
       "    </tr>\n",
       "    <tr>\n",
       "      <td>1</td>\n",
       "      <td>Husband admits killing French jogger\\r\\n\\r\\nTh...</td>\n",
       "      <td>en</td>\n",
       "      <td>[Husband admits killing French jogger\\r\\n\\r\\nT...</td>\n",
       "      <td>[[Husband, admits, killing, French, jogger, Th...</td>\n",
       "    </tr>\n",
       "    <tr>\n",
       "      <td>2</td>\n",
       "      <td>Media playback is unsupported on your device M...</td>\n",
       "      <td>en</td>\n",
       "      <td>[Media playback is unsupported on your device ...</td>\n",
       "      <td>[[Media, playback, is, unsupported, on, your, ...</td>\n",
       "    </tr>\n",
       "    <tr>\n",
       "      <td>3</td>\n",
       "      <td>Manchester City's Leroy Sane is ruled out for ...</td>\n",
       "      <td>en</td>\n",
       "      <td>[Manchester City's Leroy Sane is ruled out for...</td>\n",
       "      <td>[[Manchester, City, 's, Leroy, Sane, is, ruled...</td>\n",
       "    </tr>\n",
       "    <tr>\n",
       "      <td>4</td>\n",
       "      <td>Image copyright AFP Image caption Sebastien Br...</td>\n",
       "      <td>en</td>\n",
       "      <td>[Image copyright AFP Image caption Sebastien B...</td>\n",
       "      <td>[[Image, copyright, AFP, Image, caption, Sebas...</td>\n",
       "    </tr>\n",
       "  </tbody>\n",
       "</table>\n",
       "</div>"
      ],
      "text/plain": [
       "                                            articles lang  \\\n",
       "0  Image copyright PA/EPA Image caption Oligarch ...   en   \n",
       "1  Husband admits killing French jogger\\r\\n\\r\\nTh...   en   \n",
       "2  Media playback is unsupported on your device M...   en   \n",
       "3  Manchester City's Leroy Sane is ruled out for ...   en   \n",
       "4  Image copyright AFP Image caption Sebastien Br...   en   \n",
       "\n",
       "                                           sentences  \\\n",
       "0  [Image copyright PA/EPA Image caption Oligarch...   \n",
       "1  [Husband admits killing French jogger\\r\\n\\r\\nT...   \n",
       "2  [Media playback is unsupported on your device ...   \n",
       "3  [Manchester City's Leroy Sane is ruled out for...   \n",
       "4  [Image copyright AFP Image caption Sebastien B...   \n",
       "\n",
       "                                    tokens_sentences  \n",
       "0  [[Image, copyright, PA/EPA, Image, caption, Ol...  \n",
       "1  [[Husband, admits, killing, French, jogger, Th...  \n",
       "2  [[Media, playback, is, unsupported, on, your, ...  \n",
       "3  [[Manchester, City, 's, Leroy, Sane, is, ruled...  \n",
       "4  [[Image, copyright, AFP, Image, caption, Sebas...  "
      ]
     },
     "execution_count": 18,
     "metadata": {},
     "output_type": "execute_result"
    }
   ],
   "source": [
    "data.head()"
   ]
  },
  {
   "cell_type": "markdown",
   "metadata": {
    "colab_type": "text",
    "id": "ouDbv5BcXIod"
   },
   "source": [
    "#### Lemmatizing with POS tagging"
   ]
  },
  {
   "cell_type": "code",
   "execution_count": 19,
   "metadata": {
    "colab": {},
    "colab_type": "code",
    "id": "bn7a7X2NXIoe"
   },
   "outputs": [],
   "source": [
    "from nltk import pos_tag"
   ]
  },
  {
   "cell_type": "code",
   "execution_count": 20,
   "metadata": {
    "colab": {
     "base_uri": "https://localhost:8080/",
     "height": 103,
     "referenced_widgets": [
      "f693f6ce93f44ecf8159214f91a65864",
      "ae65c6ae1f6843d2872846423b943e60",
      "6cceca6a2c0c42e9bc694ceb1bd0febd",
      "5cd06d52ea4647cfb456bf9966ef9e44",
      "61ba5c224a514493985e5d1b686a4913",
      "5184aa40fcd44d0882914b66ae581430",
      "6ceffdb4ce7e4842b4c302a9fa7f29da",
      "6d0415edbb374dd3a693fdeae73db482"
     ]
    },
    "colab_type": "code",
    "id": "-_l94QYcXIoh",
    "outputId": "c687965e-9eac-4d81-a72c-405fde023496"
   },
   "outputs": [
    {
     "name": "stdout",
     "output_type": "stream",
     "text": [
      "[[('Image', 'NN'), ('copyright', 'NN'), ('PA/EPA', 'NNP'), ('Image', 'NNP'), ('caption', 'NN'), ('Oligarch', 'NNP'), ('Roman', 'NNP'), ('Abramovich', 'NNP'), ('(', '('), ('l', 'NN'), (')', ')'), ('and', 'CC'), ('PM', 'NNP'), ('Dmitry', 'NNP'), ('Medvedev', 'NNP'), ('are', 'VBP'), ('on', 'IN'), ('the', 'DT'), ('list', 'NN'), ('Russian', 'NNP'), ('President', 'NNP'), ('Vladimir', 'NNP'), ('Putin', 'NNP'), ('says', 'VBZ'), ('a', 'DT'), ('list', 'NN'), ('of', 'IN'), ('officials', 'NNS'), ('and', 'CC'), ('businessmen', 'NNS'), ('close', 'RB'), ('to', 'TO'), ('the', 'DT'), ('Kremlin', 'NNP'), ('published', 'VBN'), ('by', 'IN'), ('the', 'DT'), ('US', 'NNP'), ('has', 'VBZ'), ('in', 'IN'), ('effect', 'NN'), ('targeted', 'VBN'), ('all', 'DT'), ('Russian', 'JJ'), ('people', 'NNS'), ('.', '.')], [('The', 'DT'), ('list', 'NN'), ('names', 'RB'), ('210', 'CD'), ('top', 'JJ'), ('Russians', 'NNPS'), ('as', 'IN'), ('part', 'NN'), ('of', 'IN'), ('a', 'DT'), ('sanctions', 'NNS'), ('law', 'NN'), ('aimed', 'VBN'), ('at', 'IN'), ('punishing', 'VBG'), ('Moscow', 'NNP'), ('for', 'IN'), ('meddling', 'VBG'), ('in', 'IN'), ('the', 'DT'), ('US', 'NNP'), ('election', 'NN'), ('.', '.')], [('However', 'RB'), (',', ','), ('the', 'DT'), ('US', 'NNP'), ('stressed', 'VBD'), ('those', 'DT'), ('named', 'VBN'), ('were', 'VBD'), ('not', 'RB'), ('subject', 'JJ'), ('to', 'TO'), ('new', 'JJ'), ('sanctions', 'NNS'), ('.', '.')]]\n"
     ]
    }
   ],
   "source": [
    "data['POS_tokens'] = data['tokens_sentences'].map(lambda tokens_sentences: [pos_tag(tokens) for tokens in tokens_sentences])\n",
    "print(data['POS_tokens'].head(1).tolist()[0][:3])\n",
    "# associo un POS tag ai token"
   ]
  },
  {
   "cell_type": "code",
   "execution_count": 21,
   "metadata": {
    "colab": {},
    "colab_type": "code",
    "id": "pzeQQ-TXXIol"
   },
   "outputs": [],
   "source": [
    "# Inspired from https://stackoverflow.com/a/15590384\n",
    "from nltk.corpus import wordnet\n",
    "\n",
    "# il POS tagger di nltk è stato allenato con il corpus Treebank e quindi usa\n",
    "# il set di tag suoi (J, V, N, R). Il pezzetto qui sotto mappa da quei tag a\n",
    "# quelli di wordnet\n",
    "\n",
    "def get_wordnet_pos(treebank_tag):\n",
    "\n",
    "    if treebank_tag.startswith('J'):\n",
    "        return wordnet.ADJ\n",
    "    elif treebank_tag.startswith('V'):\n",
    "        return wordnet.VERB\n",
    "    elif treebank_tag.startswith('N'):\n",
    "        return wordnet.NOUN\n",
    "    elif treebank_tag.startswith('R'):\n",
    "        return wordnet.ADV\n",
    "    else:\n",
    "        return ''\n",
    "\n",
    "from nltk.stem.wordnet import WordNetLemmatizer\n",
    "lemmatizer = WordNetLemmatizer() # per avere le forme 'basi' delle parole"
   ]
  },
  {
   "cell_type": "code",
   "execution_count": 22,
   "metadata": {
    "colab": {
     "base_uri": "https://localhost:8080/",
     "height": 66,
     "referenced_widgets": [
      "80ff2aba47da4f669f1901cf3501dcaa",
      "1513ab5644d24284b88665586d1763e9",
      "91d6b6a3ee74436da244a0eb3b2c318b",
      "88d27b6f0c7f40d18417e49568605277",
      "b5dab458a1a54de1839c05cc2095b100",
      "74e98cc443b240798358f4281be5f677",
      "c682c1d895b74f5db0563bfd1801a39b",
      "f3d3f20064994daf99f6df9b5f3fa641"
     ]
    },
    "colab_type": "code",
    "id": "PbTSCpZmXIoq",
    "outputId": "b7685884-8968-4f75-b058-5e0a9bd8c9b0"
   },
   "outputs": [],
   "source": [
    "# Lemmatizing each word with its POS tag, in each sentence\n",
    "data['tokens_sentences_lemmatized'] = data['POS_tokens'].map(\n",
    "    lambda list_tokens_POS: [\n",
    "        [\n",
    "            lemmatizer.lemmatize(el[0], get_wordnet_pos(el[1])) \n",
    "            if get_wordnet_pos(el[1]) != '' else el[0] for el in tokens_POS\n",
    "        ] \n",
    "        for tokens_POS in list_tokens_POS\n",
    "    ]\n",
    ")"
   ]
  },
  {
   "cell_type": "code",
   "execution_count": 23,
   "metadata": {
    "colab": {
     "base_uri": "https://localhost:8080/",
     "height": 1000
    },
    "colab_type": "code",
    "id": "2iymqLJzXIos",
    "outputId": "c6684b41-20b4-4f34-dbae-2ace7287da2d",
    "scrolled": true
   },
   "outputs": [
    {
     "data": {
      "text/plain": [
       "[['Image',\n",
       "  'copyright',\n",
       "  'PA/EPA',\n",
       "  'Image',\n",
       "  'caption',\n",
       "  'Oligarch',\n",
       "  'Roman',\n",
       "  'Abramovich',\n",
       "  '(',\n",
       "  'l',\n",
       "  ')',\n",
       "  'and',\n",
       "  'PM',\n",
       "  'Dmitry',\n",
       "  'Medvedev',\n",
       "  'be',\n",
       "  'on',\n",
       "  'the',\n",
       "  'list',\n",
       "  'Russian',\n",
       "  'President',\n",
       "  'Vladimir',\n",
       "  'Putin',\n",
       "  'say',\n",
       "  'a',\n",
       "  'list',\n",
       "  'of',\n",
       "  'official',\n",
       "  'and',\n",
       "  'businessmen',\n",
       "  'close',\n",
       "  'to',\n",
       "  'the',\n",
       "  'Kremlin',\n",
       "  'publish',\n",
       "  'by',\n",
       "  'the',\n",
       "  'US',\n",
       "  'have',\n",
       "  'in',\n",
       "  'effect',\n",
       "  'target',\n",
       "  'all',\n",
       "  'Russian',\n",
       "  'people',\n",
       "  '.'],\n",
       " ['The',\n",
       "  'list',\n",
       "  'names',\n",
       "  '210',\n",
       "  'top',\n",
       "  'Russians',\n",
       "  'as',\n",
       "  'part',\n",
       "  'of',\n",
       "  'a',\n",
       "  'sanction',\n",
       "  'law',\n",
       "  'aim',\n",
       "  'at',\n",
       "  'punish',\n",
       "  'Moscow',\n",
       "  'for',\n",
       "  'meddle',\n",
       "  'in',\n",
       "  'the',\n",
       "  'US',\n",
       "  'election',\n",
       "  '.'],\n",
       " ['However',\n",
       "  ',',\n",
       "  'the',\n",
       "  'US',\n",
       "  'stress',\n",
       "  'those',\n",
       "  'name',\n",
       "  'be',\n",
       "  'not',\n",
       "  'subject',\n",
       "  'to',\n",
       "  'new',\n",
       "  'sanction',\n",
       "  '.']]"
      ]
     },
     "execution_count": 23,
     "metadata": {},
     "output_type": "execute_result"
    }
   ],
   "source": [
    "data['tokens_sentences_lemmatized'].head(1).tolist()[0][:3]"
   ]
  },
  {
   "cell_type": "markdown",
   "metadata": {
    "colab_type": "text",
    "id": "m5_zaKmfXIov"
   },
   "source": [
    "#### Regrouping tokens and removing stop words"
   ]
  },
  {
   "cell_type": "code",
   "execution_count": 24,
   "metadata": {
    "colab": {},
    "colab_type": "code",
    "id": "pLyDaMB7XIow"
   },
   "outputs": [],
   "source": [
    "from nltk.corpus import stopwords\n",
    "stopwords_verbs = ['say', 'get', 'go', 'know', 'may', 'need', 'like', 'make', 'see', 'want', 'come', 'take', 'use', 'would', 'can']\n",
    "stopwords_other = ['one', 'mr', 'bbc', 'image', 'getty', 'de', 'en', 'caption', 'also', 'copyright', 'something']\n",
    "my_stopwords = stopwords.words('english') + stopwords_verbs + stopwords_other\n",
    "# rimuovo le stop words: uso quelle fornite dal modulo per l'inglese con anche\n",
    "# queste qui sopra in più"
   ]
  },
  {
   "cell_type": "code",
   "execution_count": 25,
   "metadata": {
    "colab": {},
    "colab_type": "code",
    "id": "fJel4CK1XIoy"
   },
   "outputs": [],
   "source": [
    "from itertools import chain # to flatten list of sentences of tokens into list of tokens"
   ]
  },
  {
   "cell_type": "code",
   "execution_count": 26,
   "metadata": {
    "colab": {},
    "colab_type": "code",
    "id": "VTMltbe3XIo3"
   },
   "outputs": [],
   "source": [
    "# aggiorna i token\n",
    "data['tokens'] = data['tokens_sentences_lemmatized'].map(lambda sentences: list(chain.from_iterable(sentences)))\n",
    "# fa stopwords removal\n",
    "data['tokens'] = data['tokens'].map(lambda tokens: [token.lower() for token in tokens if token.isalpha() \n",
    "                                                    and token.lower() not in my_stopwords and len(token)>1])\n",
    "\n",
    "# ==> Mi ritrovo con 257 (numero di articoli) liste di token ripuliti <=="
   ]
  },
  {
   "cell_type": "code",
   "execution_count": 27,
   "metadata": {
    "colab": {
     "base_uri": "https://localhost:8080/",
     "height": 527
    },
    "colab_type": "code",
    "id": "ASb2Gy21XIo9",
    "outputId": "170fb178-d335-4620-8caa-4d5683e6648a",
    "scrolled": true
   },
   "outputs": [
    {
     "data": {
      "text/plain": [
       "['oligarch',\n",
       " 'roman',\n",
       " 'abramovich',\n",
       " 'pm',\n",
       " 'dmitry',\n",
       " 'medvedev',\n",
       " 'list',\n",
       " 'russian',\n",
       " 'president',\n",
       " 'vladimir',\n",
       " 'putin',\n",
       " 'list',\n",
       " 'official',\n",
       " 'businessmen',\n",
       " 'close',\n",
       " 'kremlin',\n",
       " 'publish',\n",
       " 'us',\n",
       " 'effect',\n",
       " 'target',\n",
       " 'russian',\n",
       " 'people',\n",
       " 'list',\n",
       " 'names',\n",
       " 'top',\n",
       " 'russians',\n",
       " 'part',\n",
       " 'sanction',\n",
       " 'law',\n",
       " 'aim']"
      ]
     },
     "execution_count": 27,
     "metadata": {},
     "output_type": "execute_result"
    }
   ],
   "source": [
    "data['tokens'].head(1).tolist()[0][:30]"
   ]
  },
  {
   "cell_type": "markdown",
   "metadata": {
    "colab_type": "text",
    "id": "omsJ_MG2XIpA"
   },
   "source": [
    "# LDA"
   ]
  },
  {
   "cell_type": "markdown",
   "metadata": {
    "colab_type": "text",
    "id": "1NgseEFfXIpA"
   },
   "source": [
    "## Data preparation"
   ]
  },
  {
   "cell_type": "markdown",
   "metadata": {
    "colab_type": "text",
    "id": "2FcljwyJXIpB"
   },
   "source": [
    "#### Prepare bi-grams and tri-grams"
   ]
  },
  {
   "cell_type": "code",
   "execution_count": 28,
   "metadata": {
    "colab": {},
    "colab_type": "code",
    "id": "zOD3n_1dXIpC"
   },
   "outputs": [],
   "source": [
    "from gensim.models import Phrases"
   ]
  },
  {
   "cell_type": "code",
   "execution_count": 29,
   "metadata": {},
   "outputs": [
    {
     "data": {
      "text/plain": [
       "'data.to_csv(\"data_test.csv\", index = False)'"
      ]
     },
     "execution_count": 29,
     "metadata": {},
     "output_type": "execute_result"
    }
   ],
   "source": [
    "'''data.to_csv(\"data_test.csv\", index = False)'''"
   ]
  },
  {
   "cell_type": "code",
   "execution_count": 30,
   "metadata": {},
   "outputs": [
    {
     "data": {
      "text/plain": [
       "'magheggi = pd.read_csv(\"data_test.csv\")'"
      ]
     },
     "execution_count": 30,
     "metadata": {},
     "output_type": "execute_result"
    }
   ],
   "source": [
    "'''magheggi = pd.read_csv(\"data_test.csv\")'''"
   ]
  },
  {
   "cell_type": "code",
   "execution_count": 31,
   "metadata": {
    "colab": {
     "base_uri": "https://localhost:8080/",
     "height": 71
    },
    "colab_type": "code",
    "id": "kCkU_UNUXIpE",
    "outputId": "1d096393-2d10-40d7-fd83-5f70cb81229e"
   },
   "outputs": [],
   "source": [
    "tokens = data['tokens'].tolist()\n",
    "bigram_model = Phrases(tokens) # combina le parole che compaiono comunemente insieme\n",
    "trigram_model = Phrases(bigram_model[tokens], min_count=1) #stessa cosa ma a livello di (eventuali) tri-gram\n",
    "tokens = list(trigram_model[bigram_model[tokens]])"
   ]
  },
  {
   "cell_type": "code",
   "execution_count": 32,
   "metadata": {},
   "outputs": [
    {
     "name": "stdout",
     "output_type": "stream",
     "text": [
      "299\n",
      "11\n",
      "260\n",
      "15\n",
      "296\n",
      "109\n",
      "54\n",
      "9\n",
      "364\n",
      "157\n",
      "13\n",
      "283\n",
      "7\n",
      "12\n",
      "40\n",
      "82\n",
      "616\n",
      "454\n",
      "359\n",
      "263\n"
     ]
    }
   ],
   "source": [
    "for i in range(len(tokens[:20])):\n",
    "    print(len(tokens[i]))"
   ]
  },
  {
   "cell_type": "markdown",
   "metadata": {
    "colab_type": "text",
    "id": "pkJuiKZTXIpH"
   },
   "source": [
    "#### Prepare objects for LDA gensim implementation"
   ]
  },
  {
   "cell_type": "code",
   "execution_count": 33,
   "metadata": {
    "colab": {},
    "colab_type": "code",
    "id": "__aON3x8XIpJ"
   },
   "outputs": [],
   "source": [
    "from gensim import corpora"
   ]
  },
  {
   "cell_type": "code",
   "execution_count": 34,
   "metadata": {
    "colab": {},
    "colab_type": "code",
    "id": "6LgdHAscXIpL"
   },
   "outputs": [],
   "source": [
    "dictionary_LDA = corpora.Dictionary(tokens) # creo un dizionario con le mie parole (ripulite, abbinate, etc...)\n",
    "dictionary_LDA.filter_extremes(no_below=3) # rimuovo i token che compaiono in meno di 3 documenti (≥ 3 li tengo)\n",
    "\n",
    "# traformo ogni documento in una bag of words\n",
    "# ogni documento lista di (numero parola, numero documento)\n",
    "corpus = [dictionary_LDA.doc2bow(tok) for tok in tokens]"
   ]
  },
  {
   "cell_type": "markdown",
   "metadata": {
    "colab_type": "text",
    "id": "EIl_16feXIpN"
   },
   "source": [
    "## Running LDA"
   ]
  },
  {
   "cell_type": "code",
   "execution_count": 35,
   "metadata": {
    "colab": {},
    "colab_type": "code",
    "id": "10NUkLzXXIpO"
   },
   "outputs": [],
   "source": [
    "from gensim import models"
   ]
  },
  {
   "cell_type": "code",
   "execution_count": 36,
   "metadata": {
    "colab": {
     "base_uri": "https://localhost:8080/",
     "height": 85
    },
    "colab_type": "code",
    "id": "_MlvyMLDXIpP",
    "outputId": "a25b5675-f28b-42fa-901c-e9cc23c5a2c1"
   },
   "outputs": [
    {
     "name": "stdout",
     "output_type": "stream",
     "text": [
      "CPU times: user 1.6 s, sys: 15.2 ms, total: 1.62 s\n",
      "Wall time: 1.66 s\n"
     ]
    }
   ],
   "source": [
    "np.random.seed(123456)\n",
    "num_topics = 20 # cerco 20 topic\n",
    "'''\n",
    "LDA model estimation\n",
    "- allenato su corpus\n",
    "- id2word: dizionario con mapping ID -> parola\n",
    "- passes: training loops\n",
    "- alpha: probabilità che un topic ci sia in un documento (priori)\n",
    "- eta: probabilità che una parola sia legata ad un topic\n",
    "'''\n",
    "%time lda_model = models.LdaModel(corpus, num_topics=num_topics, \\\n",
    "                                  id2word=dictionary_LDA, \\\n",
    "                                  passes=4, alpha=[0.01]*num_topics, \\\n",
    "                                  eta=[0.01]*len(dictionary_LDA.keys()))"
   ]
  },
  {
   "cell_type": "markdown",
   "metadata": {
    "colab_type": "text",
    "id": "UaXMTCESXIpS"
   },
   "source": [
    "## Quick exploration of LDA results"
   ]
  },
  {
   "cell_type": "markdown",
   "metadata": {
    "colab_type": "text",
    "id": "J0xw2ZBvXIpT"
   },
   "source": [
    "#### Looking at topics"
   ]
  },
  {
   "cell_type": "code",
   "execution_count": 37,
   "metadata": {
    "colab": {
     "base_uri": "https://localhost:8080/",
     "height": 717
    },
    "colab_type": "code",
    "id": "tXVeDIEUXIpX",
    "outputId": "76d0ce1f-903c-407f-ad01-154a69c3d449",
    "scrolled": true
   },
   "outputs": [
    {
     "name": "stdout",
     "output_type": "stream",
     "text": [
      "0: 0.012*\"specie\" + 0.010*\"prey\" + 0.007*\"act\" + 0.006*\"animal\" + 0.006*\"help\" + 0.005*\"back\" + 0.005*\"find\" + 0.005*\"become\" + 0.005*\"behaviour\" + 0.005*\"number\" + 0.005*\"area\" + 0.005*\"include\" + 0.004*\"order\" + 0.004*\"kill\" + 0.004*\"approach\" + 0.004*\"however\" + 0.004*\"move\" + 0.004*\"host\" + 0.004*\"evolve\" + 0.004*\"well\"\n",
      "\n",
      "1: 0.010*\"show\" + 0.008*\"game\" + 0.007*\"another\" + 0.007*\"light\" + 0.007*\"night\" + 0.006*\"find\" + 0.006*\"could\" + 0.006*\"predator\" + 0.006*\"animal\" + 0.006*\"give\" + 0.006*\"images\" + 0.006*\"question\" + 0.006*\"however\" + 0.006*\"group\" + 0.006*\"live\" + 0.006*\"time\" + 0.005*\"transparent\" + 0.005*\"drug\" + 0.005*\"eye\" + 0.005*\"call\"\n",
      "\n",
      "2: 0.006*\"first\" + 0.006*\"people\" + 0.006*\"work\" + 0.005*\"city\" + 0.005*\"time\" + 0.005*\"year\" + 0.004*\"day\" + 0.004*\"part\" + 0.004*\"find\" + 0.004*\"could\" + 0.004*\"us\" + 0.003*\"run\" + 0.003*\"restaurant\" + 0.003*\"plan\" + 0.003*\"home\" + 0.003*\"start\" + 0.003*\"tunnel\" + 0.003*\"include\" + 0.003*\"bring\" + 0.003*\"dish\"\n",
      "\n",
      "3: 0.014*\"separatist\" + 0.011*\"people\" + 0.008*\"die\" + 0.008*\"call\" + 0.007*\"coalition\" + 0.007*\"northern_mali\" + 0.007*\"ansar_dine\" + 0.007*\"city\" + 0.006*\"force\" + 0.006*\"play\" + 0.006*\"islamist\" + 0.005*\"government\" + 0.005*\"around\" + 0.005*\"victim\" + 0.005*\"steal\" + 0.005*\"talk\" + 0.005*\"year\" + 0.005*\"prime_minister\" + 0.005*\"show\" + 0.005*\"add\"\n",
      "\n",
      "4: 0.008*\"people\" + 0.007*\"wave\" + 0.006*\"tell\" + 0.006*\"town\" + 0.006*\"water\" + 0.006*\"ocean\" + 0.005*\"benefit\" + 0.005*\"village\" + 0.005*\"world\" + 0.005*\"back\" + 0.005*\"leave\" + 0.004*\"us\" + 0.004*\"time\" + 0.004*\"fin\" + 0.004*\"work\" + 0.004*\"man\" + 0.004*\"look\" + 0.004*\"way\" + 0.004*\"first\" + 0.004*\"city\"\n",
      "\n",
      "5: 0.022*\"dutch\" + 0.011*\"issue\" + 0.010*\"border\" + 0.010*\"news\" + 0.009*\"become\" + 0.009*\"israel\" + 0.008*\"netherlands\" + 0.008*\"agency\" + 0.008*\"story\" + 0.007*\"report\" + 0.007*\"service\" + 0.007*\"un\" + 0.007*\"several\" + 0.006*\"international\" + 0.006*\"might\" + 0.006*\"part\" + 0.006*\"shy\" + 0.005*\"output\" + 0.005*\"problem\" + 0.005*\"local\"\n",
      "\n",
      "6: 0.012*\"event\" + 0.011*\"people\" + 0.009*\"president\" + 0.009*\"digital\" + 0.008*\"authority\" + 0.008*\"show\" + 0.007*\"news\" + 0.007*\"end\" + 0.007*\"election\" + 0.007*\"supporter\" + 0.007*\"correspondent\" + 0.006*\"capital\" + 0.006*\"grow\" + 0.006*\"still\" + 0.006*\"report\" + 0.006*\"well\" + 0.006*\"leave\" + 0.006*\"national\" + 0.006*\"film\" + 0.005*\"programme\"\n",
      "\n",
      "7: 0.011*\"news\" + 0.010*\"ant\" + 0.008*\"twitter\" + 0.007*\"single\" + 0.007*\"live\" + 0.006*\"name\" + 0.006*\"specie\" + 0.006*\"small\" + 0.006*\"people\" + 0.006*\"story\" + 0.005*\"welcome\" + 0.005*\"mate\" + 0.005*\"effort\" + 0.005*\"alert\" + 0.005*\"receive\" + 0.005*\"power\" + 0.005*\"millipede\" + 0.005*\"consider\" + 0.005*\"pollution\" + 0.005*\"tiny\"\n",
      "\n",
      "8: 0.012*\"us\" + 0.008*\"russia\" + 0.007*\"could\" + 0.007*\"time\" + 0.007*\"write\" + 0.006*\"president\" + 0.006*\"rocket\" + 0.006*\"call\" + 0.006*\"satellite\" + 0.006*\"trump\" + 0.005*\"many\" + 0.005*\"people\" + 0.005*\"raise\" + 0.005*\"flight\" + 0.005*\"set\" + 0.005*\"political\" + 0.005*\"tell\" + 0.004*\"try\" + 0.004*\"job\" + 0.004*\"mission\"\n",
      "\n",
      "9: 0.014*\"case\" + 0.010*\"male\" + 0.009*\"review\" + 0.009*\"prey\" + 0.008*\"find\" + 0.007*\"evidence\" + 0.007*\"kick\" + 0.007*\"message\" + 0.007*\"live\" + 0.006*\"life\" + 0.006*\"place\" + 0.006*\"study\" + 0.006*\"predator\" + 0.006*\"give\" + 0.006*\"part\" + 0.006*\"people\" + 0.006*\"number\" + 0.005*\"mate\" + 0.005*\"put\" + 0.004*\"store\"\n",
      "\n",
      "10: 0.009*\"people\" + 0.006*\"government\" + 0.006*\"uk\" + 0.006*\"think\" + 0.006*\"brexit\" + 0.005*\"tell\" + 0.005*\"time\" + 0.005*\"could\" + 0.005*\"us\" + 0.005*\"work\" + 0.004*\"even\" + 0.004*\"find\" + 0.004*\"minister\" + 0.004*\"day\" + 0.004*\"already\" + 0.004*\"help\" + 0.004*\"test\" + 0.004*\"bee\" + 0.004*\"still\" + 0.004*\"back\"\n",
      "\n",
      "11: 0.015*\"us\" + 0.014*\"stress\" + 0.011*\"healthcare\" + 0.008*\"day\" + 0.008*\"sleep\" + 0.007*\"could\" + 0.007*\"president\" + 0.007*\"test\" + 0.007*\"find\" + 0.007*\"keep\" + 0.006*\"put\" + 0.006*\"try\" + 0.006*\"images\" + 0.006*\"amazon\" + 0.006*\"provide\" + 0.006*\"team\" + 0.005*\"benefit\" + 0.005*\"expert\" + 0.005*\"body\" + 0.005*\"meeting\"\n",
      "\n",
      "12: 0.017*\"work\" + 0.013*\"people\" + 0.011*\"call\" + 0.008*\"model\" + 0.007*\"help\" + 0.007*\"find\" + 0.007*\"woman\" + 0.006*\"sleep\" + 0.006*\"spanish\" + 0.006*\"age\" + 0.006*\"radio\" + 0.006*\"happen\" + 0.006*\"report\" + 0.005*\"well\" + 0.005*\"add\" + 0.005*\"include\" + 0.005*\"accord\" + 0.005*\"police\" + 0.005*\"much\" + 0.005*\"job\"\n",
      "\n",
      "13: 0.034*\"video\" + 0.021*\"logo\" + 0.020*\"design\" + 0.015*\"platform\" + 0.014*\"tourism\" + 0.012*\"app\" + 0.012*\"animal\" + 0.012*\"country\" + 0.011*\"respect\" + 0.010*\"new\" + 0.009*\"include\" + 0.009*\"device\" + 0.009*\"call\" + 0.007*\"content\" + 0.007*\"around\" + 0.006*\"home\" + 0.006*\"others\" + 0.006*\"key\" + 0.006*\"television\" + 0.006*\"news_app\"\n",
      "\n",
      "14: 0.017*\"us\" + 0.007*\"time\" + 0.006*\"first\" + 0.006*\"america\" + 0.006*\"year\" + 0.006*\"product\" + 0.005*\"find\" + 0.005*\"amazon\" + 0.005*\"company\" + 0.005*\"still\" + 0.005*\"call\" + 0.005*\"president\" + 0.004*\"customer\" + 0.004*\"live\" + 0.004*\"store\" + 0.004*\"trump\" + 0.004*\"even\" + 0.004*\"put\" + 0.004*\"back\" + 0.004*\"light\"\n",
      "\n",
      "15: 0.014*\"list\" + 0.012*\"data\" + 0.012*\"us\" + 0.011*\"publish\" + 0.010*\"name\" + 0.010*\"could\" + 0.010*\"base\" + 0.009*\"study\" + 0.009*\"human\" + 0.007*\"russian\" + 0.007*\"security\" + 0.006*\"work\" + 0.006*\"journalist\" + 0.006*\"report\" + 0.006*\"activity\" + 0.005*\"level\" + 0.005*\"think\" + 0.005*\"system\" + 0.005*\"add\" + 0.005*\"afghanistan\"\n",
      "\n",
      "16: 0.009*\"find\" + 0.008*\"light\" + 0.008*\"us\" + 0.007*\"people\" + 0.006*\"work\" + 0.006*\"help\" + 0.005*\"day\" + 0.005*\"much\" + 0.005*\"think\" + 0.005*\"year\" + 0.005*\"images\" + 0.005*\"first\" + 0.005*\"actor\" + 0.005*\"write\" + 0.005*\"africa\" + 0.005*\"company\" + 0.004*\"right\" + 0.004*\"feel\" + 0.004*\"give\" + 0.004*\"week\"\n",
      "\n",
      "17: 0.010*\"idea\" + 0.008*\"work\" + 0.008*\"link\" + 0.007*\"news\" + 0.007*\"find\" + 0.007*\"world\" + 0.007*\"fast\" + 0.006*\"place\" + 0.006*\"information\" + 0.005*\"note\" + 0.005*\"start\" + 0.005*\"content\" + 0.005*\"chris\" + 0.005*\"audience\" + 0.005*\"human\" + 0.005*\"body\" + 0.005*\"include\" + 0.004*\"pick\" + 0.004*\"material\" + 0.004*\"journalism\"\n",
      "\n",
      "18: 0.020*\"eu\" + 0.008*\"tell\" + 0.008*\"government\" + 0.007*\"europe\" + 0.007*\"country\" + 0.006*\"visit\" + 0.006*\"include\" + 0.006*\"brexit\" + 0.006*\"work\" + 0.006*\"day\" + 0.006*\"new\" + 0.006*\"flight\" + 0.005*\"travel\" + 0.005*\"two\" + 0.005*\"deal\" + 0.005*\"vision\" + 0.005*\"couple\" + 0.005*\"reuters\" + 0.004*\"part\" + 0.004*\"route\"\n",
      "\n",
      "19: 0.026*\"video\" + 0.019*\"http\" + 0.017*\"drama\" + 0.013*\"set\" + 0.013*\"code\" + 0.011*\"always\" + 0.011*\"reference\" + 0.010*\"thank\" + 0.010*\"music\" + 0.009*\"listen\" + 0.009*\"young\" + 0.009*\"decade\" + 0.008*\"could\" + 0.008*\"live\" + 0.008*\"think\" + 0.008*\"end\" + 0.008*\"state\" + 0.008*\"love\" + 0.008*\"show\" + 0.008*\"receive\"\n",
      "\n"
     ]
    }
   ],
   "source": [
    "for i,topic in lda_model.show_topics(formatted=True, num_topics=num_topics, num_words=20):\n",
    "    print(str(i)+\": \"+ topic)\n",
    "    print()"
   ]
  },
  {
   "cell_type": "markdown",
   "metadata": {
    "colab_type": "text",
    "id": "VzPTruczXIpZ"
   },
   "source": [
    "#### Allocating topics to documents"
   ]
  },
  {
   "cell_type": "code",
   "execution_count": 38,
   "metadata": {
    "colab": {
     "base_uri": "https://localhost:8080/",
     "height": 170
    },
    "colab_type": "code",
    "id": "jmhFbhAbXIpa",
    "outputId": "ff38f889-4b18-4e90-e3a2-b7b793267c5d"
   },
   "outputs": [
    {
     "name": "stdout",
     "output_type": "stream",
     "text": [
      "Image copyright PA/EPA Image caption Oligarch Roman Abramovich (l) and PM Dmitry Medvedev are on the list\n",
      "\n",
      "Russian President Vladimir Putin says a list of officials and businessmen close to the Kremlin published by the US has in effect targeted all Russian people.\n",
      "\n",
      "The list names 210 top Russians as part of a sanctions law aimed at punishing Moscow for meddling in the US election.\n",
      "\n",
      "However, the US stressed those named were not subject to new sanctions.\n",
      "\n",
      "Mr Putin said the list was an unfr\n"
     ]
    }
   ],
   "source": [
    "print(data.articles.loc[0][:500])"
   ]
  },
  {
   "cell_type": "code",
   "execution_count": 39,
   "metadata": {
    "colab": {
     "base_uri": "https://localhost:8080/",
     "height": 34
    },
    "colab_type": "code",
    "id": "cqhdkaStXIpf",
    "outputId": "238cd4e4-e49d-4bdf-a858-c6da7da56a38"
   },
   "outputs": [
    {
     "data": {
      "text/plain": [
       "[(2, 0.6173629), (6, 0.06035658), (10, 0.32138637)]"
      ]
     },
     "execution_count": 39,
     "metadata": {},
     "output_type": "execute_result"
    }
   ],
   "source": [
    "lda_model[corpus[11]] # ad ogni documento sono stati associati i topic (con le rispettive probabilità)"
   ]
  },
  {
   "cell_type": "markdown",
   "metadata": {
    "colab_type": "text",
    "id": "7x_Vx5_wXIph"
   },
   "source": [
    "#### Predicting topics on unseen documents"
   ]
  },
  {
   "cell_type": "code",
   "execution_count": 60,
   "metadata": {
    "colab": {
     "base_uri": "https://localhost:8080/",
     "height": 173
    },
    "colab_type": "code",
    "id": "r0xDdbM3XIph",
    "outputId": "1d30a9ae-ab24-48ef-ead7-01056d9b34ee"
   },
   "outputs": [
    {
     "data": {
      "text/html": [
       "<div>\n",
       "<style scoped>\n",
       "    .dataframe tbody tr th:only-of-type {\n",
       "        vertical-align: middle;\n",
       "    }\n",
       "\n",
       "    .dataframe tbody tr th {\n",
       "        vertical-align: top;\n",
       "    }\n",
       "\n",
       "    .dataframe thead th {\n",
       "        text-align: right;\n",
       "    }\n",
       "</style>\n",
       "<table border=\"1\" class=\"dataframe\">\n",
       "  <thead>\n",
       "    <tr style=\"text-align: right;\">\n",
       "      <th></th>\n",
       "      <th>topic #</th>\n",
       "      <th>weight</th>\n",
       "      <th>words in topic</th>\n",
       "    </tr>\n",
       "  </thead>\n",
       "  <tbody>\n",
       "    <tr>\n",
       "      <td>0</td>\n",
       "      <td>2</td>\n",
       "      <td>0.38</td>\n",
       "      <td>0.006*\"first\" + 0.006*\"people\" + 0.006*\"work\" ...</td>\n",
       "    </tr>\n",
       "    <tr>\n",
       "      <td>1</td>\n",
       "      <td>4</td>\n",
       "      <td>0.05</td>\n",
       "      <td>0.008*\"people\" + 0.007*\"wave\" + 0.006*\"tell\" +...</td>\n",
       "    </tr>\n",
       "    <tr>\n",
       "      <td>2</td>\n",
       "      <td>5</td>\n",
       "      <td>0.08</td>\n",
       "      <td>0.022*\"dutch\" + 0.011*\"issue\" + 0.010*\"border\"...</td>\n",
       "    </tr>\n",
       "    <tr>\n",
       "      <td>3</td>\n",
       "      <td>8</td>\n",
       "      <td>0.21</td>\n",
       "      <td>0.012*\"us\" + 0.008*\"russia\" + 0.007*\"could\" + ...</td>\n",
       "    </tr>\n",
       "    <tr>\n",
       "      <td>4</td>\n",
       "      <td>10</td>\n",
       "      <td>0.28</td>\n",
       "      <td>0.009*\"people\" + 0.006*\"government\" + 0.006*\"u...</td>\n",
       "    </tr>\n",
       "  </tbody>\n",
       "</table>\n",
       "</div>"
      ],
      "text/plain": [
       "   topic #  weight                                     words in topic\n",
       "0        2    0.38  0.006*\"first\" + 0.006*\"people\" + 0.006*\"work\" ...\n",
       "1        4    0.05  0.008*\"people\" + 0.007*\"wave\" + 0.006*\"tell\" +...\n",
       "2        5    0.08  0.022*\"dutch\" + 0.011*\"issue\" + 0.010*\"border\"...\n",
       "3        8    0.21  0.012*\"us\" + 0.008*\"russia\" + 0.007*\"could\" + ...\n",
       "4       10    0.28  0.009*\"people\" + 0.006*\"government\" + 0.006*\"u..."
      ]
     },
     "execution_count": 60,
     "metadata": {},
     "output_type": "execute_result"
    }
   ],
   "source": [
    "document = '''Eric Tucker, a 35-year-old co-founder of a marketing company in Austin, Tex., had just about 40 Twitter followers. But his recent tweet about paid protesters being bused to demonstrations against President-elect Donald J. Trump fueled a nationwide conspiracy theory — one that Mr. Trump joined in promoting. \n",
    "\n",
    "Mr. Tucker's post was shared at least 16,000 times on Twitter and more than 350,000 times on Facebook. The problem is that Mr. Tucker got it wrong. There were no such buses packed with paid protesters.\n",
    "\n",
    "But that didn't matter.\n",
    "\n",
    "While some fake news is produced purposefully by teenagers in the Balkans or entrepreneurs in the United States seeking to make money from advertising, false information can also arise from misinformed social media posts by regular people that are seized on and spread through a hyperpartisan blogosphere.\n",
    "\n",
    "Here, The New York Times deconstructs how Mr. Tucker’s now-deleted declaration on Twitter the night after the election turned into a fake-news phenomenon. It is an example of how, in an ever-connected world where speed often takes precedence over truth, an observation by a private citizen can quickly become a talking point, even as it is being proved false.'''\n",
    "tokens = word_tokenize(document)\n",
    "\n",
    "# Recupero i topics, formattati come stringhe, 20 parole max per ognuno\n",
    "topics = lda_model.show_topics(formatted=True, num_topics=num_topics, num_words=20)\n",
    "# creo un dataframe con i topic abbinati al documento qui sopra\n",
    "# per ogni topic recupero il numero, la sua probabilità e le parole associate (topics[el[0]][1])\n",
    "pd.DataFrame([(el[0], round(el[1],2), topics[el[0]][1]) for el in lda_model[dictionary_LDA.doc2bow(tokens)]], columns=['topic #', 'weight', 'words in topic'])"
   ]
  },
  {
   "cell_type": "markdown",
   "metadata": {
    "colab_type": "text",
    "id": "LGtwgoy5XIpj"
   },
   "source": [
    "## Advanced exploration of LDA results"
   ]
  },
  {
   "cell_type": "markdown",
   "metadata": {
    "colab_type": "text",
    "id": "dZVA4mW7XIpk"
   },
   "source": [
    "#### Allocation of topics in all documents"
   ]
  },
  {
   "cell_type": "code",
   "execution_count": 62,
   "metadata": {
    "colab": {},
    "colab_type": "code",
    "id": "oYezjcvfXIpl"
   },
   "outputs": [],
   "source": [
    "# abbino ogni topic ad un documento\n",
    "topics = [lda_model[corpus[i]] for i in range(len(data))]"
   ]
  },
  {
   "cell_type": "code",
   "execution_count": 63,
   "metadata": {
    "colab": {
     "base_uri": "https://localhost:8080/",
     "height": 80
    },
    "colab_type": "code",
    "id": "9mbogAo2XIpn",
    "outputId": "c43dcecc-5a56-4af5-e086-1d121e183223"
   },
   "outputs": [
    {
     "data": {
      "text/html": [
       "<div>\n",
       "<style scoped>\n",
       "    .dataframe tbody tr th:only-of-type {\n",
       "        vertical-align: middle;\n",
       "    }\n",
       "\n",
       "    .dataframe tbody tr th {\n",
       "        vertical-align: top;\n",
       "    }\n",
       "\n",
       "    .dataframe thead th {\n",
       "        text-align: right;\n",
       "    }\n",
       "</style>\n",
       "<table border=\"1\" class=\"dataframe\">\n",
       "  <thead>\n",
       "    <tr style=\"text-align: right;\">\n",
       "      <th></th>\n",
       "      <th>0</th>\n",
       "      <th>1</th>\n",
       "      <th>2</th>\n",
       "      <th>3</th>\n",
       "      <th>4</th>\n",
       "      <th>5</th>\n",
       "      <th>6</th>\n",
       "      <th>7</th>\n",
       "      <th>8</th>\n",
       "      <th>9</th>\n",
       "      <th>10</th>\n",
       "      <th>11</th>\n",
       "      <th>12</th>\n",
       "      <th>13</th>\n",
       "      <th>14</th>\n",
       "      <th>15</th>\n",
       "      <th>16</th>\n",
       "      <th>17</th>\n",
       "      <th>18</th>\n",
       "      <th>19</th>\n",
       "    </tr>\n",
       "  </thead>\n",
       "  <tbody>\n",
       "    <tr>\n",
       "      <td>0</td>\n",
       "      <td>NaN</td>\n",
       "      <td>NaN</td>\n",
       "      <td>NaN</td>\n",
       "      <td>NaN</td>\n",
       "      <td>NaN</td>\n",
       "      <td>NaN</td>\n",
       "      <td>NaN</td>\n",
       "      <td>NaN</td>\n",
       "      <td>NaN</td>\n",
       "      <td>0.0385366</td>\n",
       "      <td>NaN</td>\n",
       "      <td>NaN</td>\n",
       "      <td>NaN</td>\n",
       "      <td>NaN</td>\n",
       "      <td>NaN</td>\n",
       "      <td>0.0913012</td>\n",
       "      <td>NaN</td>\n",
       "      <td>NaN</td>\n",
       "      <td>0.869287</td>\n",
       "      <td>NaN</td>\n",
       "    </tr>\n",
       "  </tbody>\n",
       "</table>\n",
       "</div>"
      ],
      "text/plain": [
       "     0    1    2    3    4    5    6    7    8          9   10   11   12   13  \\\n",
       "0  NaN  NaN  NaN  NaN  NaN  NaN  NaN  NaN  NaN  0.0385366  NaN  NaN  NaN  NaN   \n",
       "\n",
       "    14         15   16   17        18   19  \n",
       "0  NaN  0.0913012  NaN  NaN  0.869287  NaN  "
      ]
     },
     "execution_count": 63,
     "metadata": {},
     "output_type": "execute_result"
    }
   ],
   "source": [
    "def topics_document_to_dataframe(topics_document, num_topics):\n",
    "    res = pd.DataFrame(columns=range(num_topics))\n",
    "    for topic_weight in topics_document:\n",
    "        res.loc[0, topic_weight[0]] = topic_weight[1]\n",
    "    return res\n",
    "\n",
    "topics_document_to_dataframe([(9, 0.03853655432967504), (15, 0.09130117862212643), (18, 0.8692868808484044)], 20)"
   ]
  },
  {
   "cell_type": "code",
   "execution_count": 64,
   "metadata": {
    "colab": {},
    "colab_type": "code",
    "id": "EB2sj066XIpp"
   },
   "outputs": [],
   "source": [
    "# Like TF-IDF, create a matrix of topic weighting, with documents as rows and topics as columns\n",
    "document_topic = \\\n",
    "pd.concat([topics_document_to_dataframe(topics_document, num_topics=num_topics) for topics_document in topics]) \\\n",
    "  .reset_index(drop=True).fillna(0)"
   ]
  },
  {
   "cell_type": "code",
   "execution_count": 65,
   "metadata": {
    "colab": {
     "base_uri": "https://localhost:8080/",
     "height": 204
    },
    "colab_type": "code",
    "id": "nF_Zdbh7XIpr",
    "outputId": "14730814-2a61-469d-f8d9-d7ca4f009980",
    "scrolled": true
   },
   "outputs": [
    {
     "data": {
      "text/html": [
       "<div>\n",
       "<style scoped>\n",
       "    .dataframe tbody tr th:only-of-type {\n",
       "        vertical-align: middle;\n",
       "    }\n",
       "\n",
       "    .dataframe tbody tr th {\n",
       "        vertical-align: top;\n",
       "    }\n",
       "\n",
       "    .dataframe thead th {\n",
       "        text-align: right;\n",
       "    }\n",
       "</style>\n",
       "<table border=\"1\" class=\"dataframe\">\n",
       "  <thead>\n",
       "    <tr style=\"text-align: right;\">\n",
       "      <th></th>\n",
       "      <th>0</th>\n",
       "      <th>1</th>\n",
       "      <th>2</th>\n",
       "      <th>3</th>\n",
       "      <th>4</th>\n",
       "      <th>5</th>\n",
       "      <th>6</th>\n",
       "      <th>7</th>\n",
       "      <th>8</th>\n",
       "      <th>9</th>\n",
       "      <th>10</th>\n",
       "      <th>11</th>\n",
       "      <th>12</th>\n",
       "      <th>13</th>\n",
       "      <th>14</th>\n",
       "      <th>15</th>\n",
       "      <th>16</th>\n",
       "      <th>17</th>\n",
       "      <th>18</th>\n",
       "      <th>19</th>\n",
       "    </tr>\n",
       "  </thead>\n",
       "  <tbody>\n",
       "    <tr>\n",
       "      <td>0</td>\n",
       "      <td>0.0</td>\n",
       "      <td>0.0</td>\n",
       "      <td>0.000000</td>\n",
       "      <td>0.000000</td>\n",
       "      <td>0.0</td>\n",
       "      <td>0.0</td>\n",
       "      <td>0.0</td>\n",
       "      <td>0.0</td>\n",
       "      <td>0.000000</td>\n",
       "      <td>0.0</td>\n",
       "      <td>0.0</td>\n",
       "      <td>0.0</td>\n",
       "      <td>0.0</td>\n",
       "      <td>0.0</td>\n",
       "      <td>0.0</td>\n",
       "      <td>0.998306</td>\n",
       "      <td>0.0</td>\n",
       "      <td>0.0</td>\n",
       "      <td>0.0</td>\n",
       "      <td>0.0</td>\n",
       "    </tr>\n",
       "    <tr>\n",
       "      <td>1</td>\n",
       "      <td>0.0</td>\n",
       "      <td>0.0</td>\n",
       "      <td>0.000000</td>\n",
       "      <td>0.000000</td>\n",
       "      <td>0.0</td>\n",
       "      <td>0.0</td>\n",
       "      <td>0.0</td>\n",
       "      <td>0.0</td>\n",
       "      <td>0.976827</td>\n",
       "      <td>0.0</td>\n",
       "      <td>0.0</td>\n",
       "      <td>0.0</td>\n",
       "      <td>0.0</td>\n",
       "      <td>0.0</td>\n",
       "      <td>0.0</td>\n",
       "      <td>0.000000</td>\n",
       "      <td>0.0</td>\n",
       "      <td>0.0</td>\n",
       "      <td>0.0</td>\n",
       "      <td>0.0</td>\n",
       "    </tr>\n",
       "    <tr>\n",
       "      <td>2</td>\n",
       "      <td>0.0</td>\n",
       "      <td>0.0</td>\n",
       "      <td>0.000000</td>\n",
       "      <td>0.948775</td>\n",
       "      <td>0.0</td>\n",
       "      <td>0.0</td>\n",
       "      <td>0.0</td>\n",
       "      <td>0.0</td>\n",
       "      <td>0.050115</td>\n",
       "      <td>0.0</td>\n",
       "      <td>0.0</td>\n",
       "      <td>0.0</td>\n",
       "      <td>0.0</td>\n",
       "      <td>0.0</td>\n",
       "      <td>0.0</td>\n",
       "      <td>0.000000</td>\n",
       "      <td>0.0</td>\n",
       "      <td>0.0</td>\n",
       "      <td>0.0</td>\n",
       "      <td>0.0</td>\n",
       "    </tr>\n",
       "    <tr>\n",
       "      <td>3</td>\n",
       "      <td>0.0</td>\n",
       "      <td>0.0</td>\n",
       "      <td>0.000000</td>\n",
       "      <td>0.000000</td>\n",
       "      <td>0.0</td>\n",
       "      <td>0.0</td>\n",
       "      <td>0.0</td>\n",
       "      <td>0.0</td>\n",
       "      <td>0.973608</td>\n",
       "      <td>0.0</td>\n",
       "      <td>0.0</td>\n",
       "      <td>0.0</td>\n",
       "      <td>0.0</td>\n",
       "      <td>0.0</td>\n",
       "      <td>0.0</td>\n",
       "      <td>0.000000</td>\n",
       "      <td>0.0</td>\n",
       "      <td>0.0</td>\n",
       "      <td>0.0</td>\n",
       "      <td>0.0</td>\n",
       "    </tr>\n",
       "    <tr>\n",
       "      <td>4</td>\n",
       "      <td>0.0</td>\n",
       "      <td>0.0</td>\n",
       "      <td>0.999021</td>\n",
       "      <td>0.000000</td>\n",
       "      <td>0.0</td>\n",
       "      <td>0.0</td>\n",
       "      <td>0.0</td>\n",
       "      <td>0.0</td>\n",
       "      <td>0.000000</td>\n",
       "      <td>0.0</td>\n",
       "      <td>0.0</td>\n",
       "      <td>0.0</td>\n",
       "      <td>0.0</td>\n",
       "      <td>0.0</td>\n",
       "      <td>0.0</td>\n",
       "      <td>0.000000</td>\n",
       "      <td>0.0</td>\n",
       "      <td>0.0</td>\n",
       "      <td>0.0</td>\n",
       "      <td>0.0</td>\n",
       "    </tr>\n",
       "  </tbody>\n",
       "</table>\n",
       "</div>"
      ],
      "text/plain": [
       "     0    1         2         3    4    5    6    7         8    9   10   11  \\\n",
       "0  0.0  0.0  0.000000  0.000000  0.0  0.0  0.0  0.0  0.000000  0.0  0.0  0.0   \n",
       "1  0.0  0.0  0.000000  0.000000  0.0  0.0  0.0  0.0  0.976827  0.0  0.0  0.0   \n",
       "2  0.0  0.0  0.000000  0.948775  0.0  0.0  0.0  0.0  0.050115  0.0  0.0  0.0   \n",
       "3  0.0  0.0  0.000000  0.000000  0.0  0.0  0.0  0.0  0.973608  0.0  0.0  0.0   \n",
       "4  0.0  0.0  0.999021  0.000000  0.0  0.0  0.0  0.0  0.000000  0.0  0.0  0.0   \n",
       "\n",
       "    12   13   14        15   16   17   18   19  \n",
       "0  0.0  0.0  0.0  0.998306  0.0  0.0  0.0  0.0  \n",
       "1  0.0  0.0  0.0  0.000000  0.0  0.0  0.0  0.0  \n",
       "2  0.0  0.0  0.0  0.000000  0.0  0.0  0.0  0.0  \n",
       "3  0.0  0.0  0.0  0.000000  0.0  0.0  0.0  0.0  \n",
       "4  0.0  0.0  0.0  0.000000  0.0  0.0  0.0  0.0  "
      ]
     },
     "execution_count": 65,
     "metadata": {},
     "output_type": "execute_result"
    }
   ],
   "source": [
    "document_topic.head()"
   ]
  },
  {
   "cell_type": "code",
   "execution_count": 45,
   "metadata": {
    "colab": {
     "base_uri": "https://localhost:8080/",
     "height": 374
    },
    "colab_type": "code",
    "id": "xH6IAJakXIpw",
    "outputId": "1a44672a-a5d8-405e-dbb0-622327e30a59"
   },
   "outputs": [
    {
     "data": {
      "text/plain": [
       "248    0.999237\n",
       "58     0.999117\n",
       "256    0.997293\n",
       "15     0.996790\n",
       "41     0.993013\n",
       "244    0.992777\n",
       "218    0.991440\n",
       "116    0.973609\n",
       "170    0.963455\n",
       "163    0.954756\n",
       "225    0.913619\n",
       "66     0.816264\n",
       "161    0.617414\n",
       "237    0.366401\n",
       "16     0.294009\n",
       "34     0.284694\n",
       "236    0.283281\n",
       "167    0.143204\n",
       "252    0.110726\n",
       "8      0.088888\n",
       "Name: 14, dtype: float64"
      ]
     },
     "execution_count": 45,
     "metadata": {},
     "output_type": "execute_result"
    }
   ],
   "source": [
    "# Which document are about topic 14\n",
    "document_topic.sort_values(14, ascending=False)[14].head(20)"
   ]
  },
  {
   "cell_type": "code",
   "execution_count": 46,
   "metadata": {
    "colab": {
     "base_uri": "https://localhost:8080/",
     "height": 340
    },
    "colab_type": "code",
    "id": "WQlnaAsaXIpz",
    "outputId": "3ba5e070-7fc3-4dea-bc4a-a10910a2d225",
    "scrolled": true
   },
   "outputs": [
    {
     "name": "stdout",
     "output_type": "stream",
     "text": [
      "Image caption Brendan Cole was a professional dancer on Strictly Come Dancing for 13 years\n",
      "\n",
      "Brendan Cole has announced he will not be returning to Strictly Come Dancing.\n",
      "\n",
      "The professional dancer revealed during a TV interview on Tuesday that the decision was made by the BBC, saying he was \"in shock\".\n",
      "\n",
      "\"They made an editorial decision not to have me back on the show,\" he said on ITV's Lorraine.\n",
      "\n",
      "A spokesman for the BBC One show thanked Cole for \"being part of the show since the beginning\" and contributing to its success.\n",
      "\n",
      "'Emotional and raw'\n",
      "\n",
      "Cole said: \"I'm a little bit in shock at the moment.\n",
      "\n",
      "\"I'm quite emotional and a bit raw about it. I am very disappointed. It's an editorial decision. I will never know the ins and outs.\n",
      "\n",
      "\"I have had 15 incredible series on the show, I'm very proud of the whole show, they're a great team.\"\n",
      "\n",
      "Media playback is unsupported on your device Media caption In an interview on 16 January, Brendan Cole told 5 live he wanted to return to Stri\n"
     ]
    }
   ],
   "source": [
    "print(data.articles.loc[91][:1000])"
   ]
  },
  {
   "cell_type": "markdown",
   "metadata": {
    "colab_type": "text",
    "id": "xkvBPOQ_XIp1"
   },
   "source": [
    "#### Looking at the distribution of topics in all documents"
   ]
  },
  {
   "cell_type": "code",
   "execution_count": 47,
   "metadata": {
    "colab": {
     "base_uri": "https://localhost:8080/",
     "height": 1000
    },
    "colab_type": "code",
    "id": "FM64wOE3XIp2",
    "outputId": "5e50a0ef-15e4-449d-9cf3-f19dc4a0b83d"
   },
   "outputs": [
    {
     "data": {
      "text/plain": [
       "<matplotlib.axes._subplots.AxesSubplot at 0x128b605d0>"
      ]
     },
     "execution_count": 47,
     "metadata": {},
     "output_type": "execute_result"
    },
    {
     "data": {
      "image/png": "[encoded data removed]",
      "text/plain": [
       "<Figure size 720x1440 with 2 Axes>"
      ]
     },
     "metadata": {},
     "output_type": "display_data"
    }
   ],
   "source": [
    "%matplotlib inline\n",
    "import seaborn as sns; sns.set(rc={'figure.figsize':(10,20)})\n",
    "sns.heatmap(document_topic.loc[document_topic.idxmax(axis=1).sort_values().index])"
   ]
  },
  {
   "cell_type": "code",
   "execution_count": 48,
   "metadata": {
    "colab": {
     "base_uri": "https://localhost:8080/",
     "height": 343
    },
    "colab_type": "code",
    "id": "oV4nDst4XIp4",
    "outputId": "2314c444-2b42-4ce8-a867-40c6b12ffc55"
   },
   "outputs": [
    {
     "data": {
      "text/plain": [
       "<matplotlib.axes._subplots.AxesSubplot at 0x128c118d0>"
      ]
     },
     "execution_count": 48,
     "metadata": {},
     "output_type": "execute_result"
    },
    {
     "data": {
      "image/png": "[encoded data removed]",
      "text/plain": [
       "<Figure size 720x360 with 1 Axes>"
      ]
     },
     "metadata": {},
     "output_type": "display_data"
    }
   ],
   "source": [
    "sns.set(rc={'figure.figsize':(10,5)})\n",
    "document_topic.idxmax(axis=1).value_counts().plot.bar(color='lightblue')"
   ]
  },
  {
   "cell_type": "markdown",
   "metadata": {
    "colab_type": "text",
    "id": "qf2PrF6eXIp6"
   },
   "source": [
    "#### Visualizing topics"
   ]
  },
  {
   "cell_type": "code",
   "execution_count": null,
   "metadata": {
    "colab": {},
    "colab_type": "code",
    "id": "SP32LP6-XIp6",
    "outputId": "6e9a8f5d-b5f5-4f64-f114-6bc99e3666c1"
   },
   "outputs": [],
   "source": [
    "# https://cran.r-project.org/web/packages/LDAvis/vignettes/details.pdf\n",
    "# Here a short legend to explain the vis:\n",
    "# size of bubble: proportional to the proportions of the topics across the N total tokens in the corpus\n",
    "# red bars: estimated number of times a given term was generated by a given topic\n",
    "# blue bars: overall frequency of each term in the corpus\n",
    "# -- Relevance of words is computed with a parameter lambda\n",
    "# -- Lambda optimal value ~0.6 (https://nlp.stanford.edu/events/illvi2014/papers/sievert-illvi2014.pdf)\n",
    "%matplotlib inline\n",
    "import pyLDAvis\n",
    "import pyLDAvis.gensim\n",
    "vis = pyLDAvis.gensim.prepare(topic_model=lda_model, corpus=corpus, dictionary=dictionary_LDA)\n",
    "pyLDAvis.enable_notebook()\n",
    "pyLDAvis.display(vis)"
   ]
  },
  {
   "cell_type": "markdown",
   "metadata": {},
   "source": [
    "Export per Toc"
   ]
  },
  {
   "cell_type": "code",
   "execution_count": 126,
   "metadata": {},
   "outputs": [],
   "source": [
    "topics_doc_dict = {}\n",
    "for i in range(len(data)):\n",
    "    #print('---- Documento ',i,' ----')\n",
    "    current_doc_topics = topics[i]\n",
    "    for j in range(len(current_doc_topics)):\n",
    "        topic = current_doc_topics[j]\n",
    "        if len(topic) == 1:\n",
    "            topic = topic[0]\n",
    "        #print(topic)\n",
    "        topic = (topic[0], str(topic[1]))\n",
    "        current_doc_topics[j] = topic\n",
    "    \n",
    "    topics_doc_dict[str(i)] = {'topic': current_doc_topics, 'words': lda_model.show_topics(formatted = True, num_topics = num_topics, num_words = 20)[topics[i][0][0]]}\n",
    "    \n",
    "#topics_doc_dict['2']['topic'][0]"
   ]
  },
  {
   "cell_type": "code",
   "execution_count": 128,
   "metadata": {},
   "outputs": [],
   "source": [
    "import json\n",
    "with open('doc_topic.json', 'w') as fp:\n",
    "    json.dump(topics_doc_dict, fp)"
   ]
  },
  {
   "cell_type": "code",
   "execution_count": null,
   "metadata": {
    "colab": {},
    "colab_type": "code",
    "id": "rd6x6Mf-XIp9"
   },
   "outputs": [],
   "source": []
  }
 ],
 "metadata": {
  "accelerator": "GPU",
  "colab": {
   "name": "LDA-BBC.ipynb",
   "provenance": [],
   "toc_visible": true
  },
  "kernelspec": {
   "display_name": "Python 3",
   "language": "python",
   "name": "python3"
  },
  "language_info": {
   "codemirror_mode": {
    "name": "ipython",
    "version": 3
   },
   "file_extension": ".py",
   "mimetype": "text/x-python",
   "name": "python",
   "nbconvert_exporter": "python",
   "pygments_lexer": "ipython3",
   "version": "3.7.6"
  },
  "widgets": {
   "application/vnd.jupyter.widget-state+json": {
    "07376b3625634908935bb67a326c10e1": {
     "model_module": "@jupyter-widgets/controls",
     "model_name": "ProgressStyleModel",
     "state": {
      "_model_module": "@jupyter-widgets/controls",
      "_model_module_version": "1.5.0",
      "_model_name": "ProgressStyleModel",
      "_view_count": null,
      "_view_module": "@jupyter-widgets/base",
      "_view_module_version": "1.2.0",
      "_view_name": "StyleView",
      "bar_color": null,
      "description_width": "initial"
     }
    },
    "08d12b4391664079ac12e056eed69186": {
     "model_module": "@jupyter-widgets/base",
     "model_name": "LayoutModel",
     "state": {
      "_model_module": "@jupyter-widgets/base",
      "_model_module_version": "1.2.0",
      "_model_name": "LayoutModel",
      "_view_count": null,
      "_view_module": "@jupyter-widgets/base",
      "_view_module_version": "1.2.0",
      "_view_name": "LayoutView",
      "align_content": null,
      "align_items": null,
      "align_self": null,
      "border": null,
      "bottom": null,
      "display": null,
      "flex": null,
      "flex_flow": null,
      "grid_area": null,
      "grid_auto_columns": null,
      "grid_auto_flow": null,
      "grid_auto_rows": null,
      "grid_column": null,
      "grid_gap": null,
      "grid_row": null,
      "grid_template_areas": null,
      "grid_template_columns": null,
      "grid_template_rows": null,
      "height": null,
      "justify_content": null,
      "justify_items": null,
      "left": null,
      "margin": null,
      "max_height": null,
      "max_width": null,
      "min_height": null,
      "min_width": null,
      "object_fit": null,
      "object_position": null,
      "order": null,
      "overflow": null,
      "overflow_x": null,
      "overflow_y": null,
      "padding": null,
      "right": null,
      "top": null,
      "visibility": null,
      "width": null
     }
    },
    "0e13000f1fcc45f790764cc4ca0132b0": {
     "model_module": "@jupyter-widgets/controls",
     "model_name": "HBoxModel",
     "state": {
      "_dom_classes": [],
      "_model_module": "@jupyter-widgets/controls",
      "_model_module_version": "1.5.0",
      "_model_name": "HBoxModel",
      "_view_count": null,
      "_view_module": "@jupyter-widgets/controls",
      "_view_module_version": "1.5.0",
      "_view_name": "HBoxView",
      "box_style": "",
      "children": [
       "IPY_MODEL_f01526f44f214a9a9bf4d5bd6381e9a6",
       "IPY_MODEL_1a11b724a5404ec5b2c3a8d7d9b38474"
      ],
      "layout": "IPY_MODEL_bae2e1044667445db4d325b27aa80531"
     }
    },
    "1513ab5644d24284b88665586d1763e9": {
     "model_module": "@jupyter-widgets/base",
     "model_name": "LayoutModel",
     "state": {
      "_model_module": "@jupyter-widgets/base",
      "_model_module_version": "1.2.0",
      "_model_name": "LayoutModel",
      "_view_count": null,
      "_view_module": "@jupyter-widgets/base",
      "_view_module_version": "1.2.0",
      "_view_name": "LayoutView",
      "align_content": null,
      "align_items": null,
      "align_self": null,
      "border": null,
      "bottom": null,
      "display": null,
      "flex": null,
      "flex_flow": null,
      "grid_area": null,
      "grid_auto_columns": null,
      "grid_auto_flow": null,
      "grid_auto_rows": null,
      "grid_column": null,
      "grid_gap": null,
      "grid_row": null,
      "grid_template_areas": null,
      "grid_template_columns": null,
      "grid_template_rows": null,
      "height": null,
      "justify_content": null,
      "justify_items": null,
      "left": null,
      "margin": null,
      "max_height": null,
      "max_width": null,
      "min_height": null,
      "min_width": null,
      "object_fit": null,
      "object_position": null,
      "order": null,
      "overflow": null,
      "overflow_x": null,
      "overflow_y": null,
      "padding": null,
      "right": null,
      "top": null,
      "visibility": null,
      "width": null
     }
    },
    "1a11b724a5404ec5b2c3a8d7d9b38474": {
     "model_module": "@jupyter-widgets/controls",
     "model_name": "HTMLModel",
     "state": {
      "_dom_classes": [],
      "_model_module": "@jupyter-widgets/controls",
      "_model_module_version": "1.5.0",
      "_model_name": "HTMLModel",
      "_view_count": null,
      "_view_module": "@jupyter-widgets/controls",
      "_view_module_version": "1.5.0",
      "_view_name": "HTMLView",
      "description": "",
      "description_tooltip": null,
      "layout": "IPY_MODEL_3e2c17e2fa9b4d6482eb04e5fdb46b1e",
      "placeholder": "​",
      "style": "IPY_MODEL_4d27cd634bc44a71924c3322d14cea84",
      "value": " 256/256 [00:08&lt;00:00, 28.63it/s]"
     }
    },
    "3e2c17e2fa9b4d6482eb04e5fdb46b1e": {
     "model_module": "@jupyter-widgets/base",
     "model_name": "LayoutModel",
     "state": {
      "_model_module": "@jupyter-widgets/base",
      "_model_module_version": "1.2.0",
      "_model_name": "LayoutModel",
      "_view_count": null,
      "_view_module": "@jupyter-widgets/base",
      "_view_module_version": "1.2.0",
      "_view_name": "LayoutView",
      "align_content": null,
      "align_items": null,
      "align_self": null,
      "border": null,
      "bottom": null,
      "display": null,
      "flex": null,
      "flex_flow": null,
      "grid_area": null,
      "grid_auto_columns": null,
      "grid_auto_flow": null,
      "grid_auto_rows": null,
      "grid_column": null,
      "grid_gap": null,
      "grid_row": null,
      "grid_template_areas": null,
      "grid_template_columns": null,
      "grid_template_rows": null,
      "height": null,
      "justify_content": null,
      "justify_items": null,
      "left": null,
      "margin": null,
      "max_height": null,
      "max_width": null,
      "min_height": null,
      "min_width": null,
      "object_fit": null,
      "object_position": null,
      "order": null,
      "overflow": null,
      "overflow_x": null,
      "overflow_y": null,
      "padding": null,
      "right": null,
      "top": null,
      "visibility": null,
      "width": null
     }
    },
    "4477369ca5e94505982067658c124474": {
     "model_module": "@jupyter-widgets/controls",
     "model_name": "HBoxModel",
     "state": {
      "_dom_classes": [],
      "_model_module": "@jupyter-widgets/controls",
      "_model_module_version": "1.5.0",
      "_model_name": "HBoxModel",
      "_view_count": null,
      "_view_module": "@jupyter-widgets/controls",
      "_view_module_version": "1.5.0",
      "_view_name": "HBoxView",
      "box_style": "",
      "children": [
       "IPY_MODEL_65c91f960e0645f4902d762df7b38e70",
       "IPY_MODEL_ac80a09d77db4c39bd8b3d2faa0c6276"
      ],
      "layout": "IPY_MODEL_5dcb98eae3d74712aa93d7623b5db85d"
     }
    },
    "4d27cd634bc44a71924c3322d14cea84": {
     "model_module": "@jupyter-widgets/controls",
     "model_name": "DescriptionStyleModel",
     "state": {
      "_model_module": "@jupyter-widgets/controls",
      "_model_module_version": "1.5.0",
      "_model_name": "DescriptionStyleModel",
      "_view_count": null,
      "_view_module": "@jupyter-widgets/base",
      "_view_module_version": "1.2.0",
      "_view_name": "StyleView",
      "description_width": ""
     }
    },
    "5184aa40fcd44d0882914b66ae581430": {
     "model_module": "@jupyter-widgets/base",
     "model_name": "LayoutModel",
     "state": {
      "_model_module": "@jupyter-widgets/base",
      "_model_module_version": "1.2.0",
      "_model_name": "LayoutModel",
      "_view_count": null,
      "_view_module": "@jupyter-widgets/base",
      "_view_module_version": "1.2.0",
      "_view_name": "LayoutView",
      "align_content": null,
      "align_items": null,
      "align_self": null,
      "border": null,
      "bottom": null,
      "display": null,
      "flex": null,
      "flex_flow": null,
      "grid_area": null,
      "grid_auto_columns": null,
      "grid_auto_flow": null,
      "grid_auto_rows": null,
      "grid_column": null,
      "grid_gap": null,
      "grid_row": null,
      "grid_template_areas": null,
      "grid_template_columns": null,
      "grid_template_rows": null,
      "height": null,
      "justify_content": null,
      "justify_items": null,
      "left": null,
      "margin": null,
      "max_height": null,
      "max_width": null,
      "min_height": null,
      "min_width": null,
      "object_fit": null,
      "object_position": null,
      "order": null,
      "overflow": null,
      "overflow_x": null,
      "overflow_y": null,
      "padding": null,
      "right": null,
      "top": null,
      "visibility": null,
      "width": null
     }
    },
    "5cd06d52ea4647cfb456bf9966ef9e44": {
     "model_module": "@jupyter-widgets/controls",
     "model_name": "HTMLModel",
     "state": {
      "_dom_classes": [],
      "_model_module": "@jupyter-widgets/controls",
      "_model_module_version": "1.5.0",
      "_model_name": "HTMLModel",
      "_view_count": null,
      "_view_module": "@jupyter-widgets/controls",
      "_view_module_version": "1.5.0",
      "_view_name": "HTMLView",
      "description": "",
      "description_tooltip": null,
      "layout": "IPY_MODEL_6d0415edbb374dd3a693fdeae73db482",
      "placeholder": "​",
      "style": "IPY_MODEL_6ceffdb4ce7e4842b4c302a9fa7f29da",
      "value": " 256/256 [06:00&lt;00:00,  1.41s/it]"
     }
    },
    "5da011677ee54269adb8d09579b593ba": {
     "model_module": "@jupyter-widgets/controls",
     "model_name": "DescriptionStyleModel",
     "state": {
      "_model_module": "@jupyter-widgets/controls",
      "_model_module_version": "1.5.0",
      "_model_name": "DescriptionStyleModel",
      "_view_count": null,
      "_view_module": "@jupyter-widgets/base",
      "_view_module_version": "1.2.0",
      "_view_name": "StyleView",
      "description_width": ""
     }
    },
    "5dcb98eae3d74712aa93d7623b5db85d": {
     "model_module": "@jupyter-widgets/base",
     "model_name": "LayoutModel",
     "state": {
      "_model_module": "@jupyter-widgets/base",
      "_model_module_version": "1.2.0",
      "_model_name": "LayoutModel",
      "_view_count": null,
      "_view_module": "@jupyter-widgets/base",
      "_view_module_version": "1.2.0",
      "_view_name": "LayoutView",
      "align_content": null,
      "align_items": null,
      "align_self": null,
      "border": null,
      "bottom": null,
      "display": null,
      "flex": null,
      "flex_flow": null,
      "grid_area": null,
      "grid_auto_columns": null,
      "grid_auto_flow": null,
      "grid_auto_rows": null,
      "grid_column": null,
      "grid_gap": null,
      "grid_row": null,
      "grid_template_areas": null,
      "grid_template_columns": null,
      "grid_template_rows": null,
      "height": null,
      "justify_content": null,
      "justify_items": null,
      "left": null,
      "margin": null,
      "max_height": null,
      "max_width": null,
      "min_height": null,
      "min_width": null,
      "object_fit": null,
      "object_position": null,
      "order": null,
      "overflow": null,
      "overflow_x": null,
      "overflow_y": null,
      "padding": null,
      "right": null,
      "top": null,
      "visibility": null,
      "width": null
     }
    },
    "61ba5c224a514493985e5d1b686a4913": {
     "model_module": "@jupyter-widgets/controls",
     "model_name": "ProgressStyleModel",
     "state": {
      "_model_module": "@jupyter-widgets/controls",
      "_model_module_version": "1.5.0",
      "_model_name": "ProgressStyleModel",
      "_view_count": null,
      "_view_module": "@jupyter-widgets/base",
      "_view_module_version": "1.2.0",
      "_view_name": "StyleView",
      "bar_color": null,
      "description_width": "initial"
     }
    },
    "65c91f960e0645f4902d762df7b38e70": {
     "model_module": "@jupyter-widgets/controls",
     "model_name": "FloatProgressModel",
     "state": {
      "_dom_classes": [],
      "_model_module": "@jupyter-widgets/controls",
      "_model_module_version": "1.5.0",
      "_model_name": "FloatProgressModel",
      "_view_count": null,
      "_view_module": "@jupyter-widgets/controls",
      "_view_module_version": "1.5.0",
      "_view_name": "ProgressView",
      "bar_style": "success",
      "description": "",
      "description_tooltip": null,
      "layout": "IPY_MODEL_bd40fd9cbd344eddb35495cb46e14103",
      "max": 1,
      "min": 0,
      "orientation": "horizontal",
      "style": "IPY_MODEL_cef623c21a1346038f7a75254b071573",
      "value": 0
     }
    },
    "6cceca6a2c0c42e9bc694ceb1bd0febd": {
     "model_module": "@jupyter-widgets/controls",
     "model_name": "FloatProgressModel",
     "state": {
      "_dom_classes": [],
      "_model_module": "@jupyter-widgets/controls",
      "_model_module_version": "1.5.0",
      "_model_name": "FloatProgressModel",
      "_view_count": null,
      "_view_module": "@jupyter-widgets/controls",
      "_view_module_version": "1.5.0",
      "_view_name": "ProgressView",
      "bar_style": "success",
      "description": "100%",
      "description_tooltip": null,
      "layout": "IPY_MODEL_5184aa40fcd44d0882914b66ae581430",
      "max": 256,
      "min": 0,
      "orientation": "horizontal",
      "style": "IPY_MODEL_61ba5c224a514493985e5d1b686a4913",
      "value": 256
     }
    },
    "6ceffdb4ce7e4842b4c302a9fa7f29da": {
     "model_module": "@jupyter-widgets/controls",
     "model_name": "DescriptionStyleModel",
     "state": {
      "_model_module": "@jupyter-widgets/controls",
      "_model_module_version": "1.5.0",
      "_model_name": "DescriptionStyleModel",
      "_view_count": null,
      "_view_module": "@jupyter-widgets/base",
      "_view_module_version": "1.2.0",
      "_view_name": "StyleView",
      "description_width": ""
     }
    },
    "6d0415edbb374dd3a693fdeae73db482": {
     "model_module": "@jupyter-widgets/base",
     "model_name": "LayoutModel",
     "state": {
      "_model_module": "@jupyter-widgets/base",
      "_model_module_version": "1.2.0",
      "_model_name": "LayoutModel",
      "_view_count": null,
      "_view_module": "@jupyter-widgets/base",
      "_view_module_version": "1.2.0",
      "_view_name": "LayoutView",
      "align_content": null,
      "align_items": null,
      "align_self": null,
      "border": null,
      "bottom": null,
      "display": null,
      "flex": null,
      "flex_flow": null,
      "grid_area": null,
      "grid_auto_columns": null,
      "grid_auto_flow": null,
      "grid_auto_rows": null,
      "grid_column": null,
      "grid_gap": null,
      "grid_row": null,
      "grid_template_areas": null,
      "grid_template_columns": null,
      "grid_template_rows": null,
      "height": null,
      "justify_content": null,
      "justify_items": null,
      "left": null,
      "margin": null,
      "max_height": null,
      "max_width": null,
      "min_height": null,
      "min_width": null,
      "object_fit": null,
      "object_position": null,
      "order": null,
      "overflow": null,
      "overflow_x": null,
      "overflow_y": null,
      "padding": null,
      "right": null,
      "top": null,
      "visibility": null,
      "width": null
     }
    },
    "74e98cc443b240798358f4281be5f677": {
     "model_module": "@jupyter-widgets/base",
     "model_name": "LayoutModel",
     "state": {
      "_model_module": "@jupyter-widgets/base",
      "_model_module_version": "1.2.0",
      "_model_name": "LayoutModel",
      "_view_count": null,
      "_view_module": "@jupyter-widgets/base",
      "_view_module_version": "1.2.0",
      "_view_name": "LayoutView",
      "align_content": null,
      "align_items": null,
      "align_self": null,
      "border": null,
      "bottom": null,
      "display": null,
      "flex": null,
      "flex_flow": null,
      "grid_area": null,
      "grid_auto_columns": null,
      "grid_auto_flow": null,
      "grid_auto_rows": null,
      "grid_column": null,
      "grid_gap": null,
      "grid_row": null,
      "grid_template_areas": null,
      "grid_template_columns": null,
      "grid_template_rows": null,
      "height": null,
      "justify_content": null,
      "justify_items": null,
      "left": null,
      "margin": null,
      "max_height": null,
      "max_width": null,
      "min_height": null,
      "min_width": null,
      "object_fit": null,
      "object_position": null,
      "order": null,
      "overflow": null,
      "overflow_x": null,
      "overflow_y": null,
      "padding": null,
      "right": null,
      "top": null,
      "visibility": null,
      "width": null
     }
    },
    "80ff2aba47da4f669f1901cf3501dcaa": {
     "model_module": "@jupyter-widgets/controls",
     "model_name": "HBoxModel",
     "state": {
      "_dom_classes": [],
      "_model_module": "@jupyter-widgets/controls",
      "_model_module_version": "1.5.0",
      "_model_name": "HBoxModel",
      "_view_count": null,
      "_view_module": "@jupyter-widgets/controls",
      "_view_module_version": "1.5.0",
      "_view_name": "HBoxView",
      "box_style": "",
      "children": [
       "IPY_MODEL_91d6b6a3ee74436da244a0eb3b2c318b",
       "IPY_MODEL_88d27b6f0c7f40d18417e49568605277"
      ],
      "layout": "IPY_MODEL_1513ab5644d24284b88665586d1763e9"
     }
    },
    "88d27b6f0c7f40d18417e49568605277": {
     "model_module": "@jupyter-widgets/controls",
     "model_name": "HTMLModel",
     "state": {
      "_dom_classes": [],
      "_model_module": "@jupyter-widgets/controls",
      "_model_module_version": "1.5.0",
      "_model_name": "HTMLModel",
      "_view_count": null,
      "_view_module": "@jupyter-widgets/controls",
      "_view_module_version": "1.5.0",
      "_view_name": "HTMLView",
      "description": "",
      "description_tooltip": null,
      "layout": "IPY_MODEL_f3d3f20064994daf99f6df9b5f3fa641",
      "placeholder": "​",
      "style": "IPY_MODEL_c682c1d895b74f5db0563bfd1801a39b",
      "value": " 256/256 [00:01&lt;00:00, 146.14it/s]"
     }
    },
    "8c1877aa0cc247daa4232877681f39af": {
     "model_module": "@jupyter-widgets/controls",
     "model_name": "FloatProgressModel",
     "state": {
      "_dom_classes": [],
      "_model_module": "@jupyter-widgets/controls",
      "_model_module_version": "1.5.0",
      "_model_name": "FloatProgressModel",
      "_view_count": null,
      "_view_module": "@jupyter-widgets/controls",
      "_view_module_version": "1.5.0",
      "_view_name": "ProgressView",
      "bar_style": "success",
      "description": "100%",
      "description_tooltip": null,
      "layout": "IPY_MODEL_eec3946e73864c1593d09cf70cf1fb49",
      "max": 256,
      "min": 0,
      "orientation": "horizontal",
      "style": "IPY_MODEL_8dec687b55aa4ab1a18467d76732834c",
      "value": 256
     }
    },
    "8dec687b55aa4ab1a18467d76732834c": {
     "model_module": "@jupyter-widgets/controls",
     "model_name": "ProgressStyleModel",
     "state": {
      "_model_module": "@jupyter-widgets/controls",
      "_model_module_version": "1.5.0",
      "_model_name": "ProgressStyleModel",
      "_view_count": null,
      "_view_module": "@jupyter-widgets/base",
      "_view_module_version": "1.2.0",
      "_view_name": "StyleView",
      "bar_color": null,
      "description_width": "initial"
     }
    },
    "91d6b6a3ee74436da244a0eb3b2c318b": {
     "model_module": "@jupyter-widgets/controls",
     "model_name": "FloatProgressModel",
     "state": {
      "_dom_classes": [],
      "_model_module": "@jupyter-widgets/controls",
      "_model_module_version": "1.5.0",
      "_model_name": "FloatProgressModel",
      "_view_count": null,
      "_view_module": "@jupyter-widgets/controls",
      "_view_module_version": "1.5.0",
      "_view_name": "ProgressView",
      "bar_style": "success",
      "description": "100%",
      "description_tooltip": null,
      "layout": "IPY_MODEL_74e98cc443b240798358f4281be5f677",
      "max": 256,
      "min": 0,
      "orientation": "horizontal",
      "style": "IPY_MODEL_b5dab458a1a54de1839c05cc2095b100",
      "value": 256
     }
    },
    "a1ac4b3b37ad4746a667c0dd80bcd43d": {
     "model_module": "@jupyter-widgets/base",
     "model_name": "LayoutModel",
     "state": {
      "_model_module": "@jupyter-widgets/base",
      "_model_module_version": "1.2.0",
      "_model_name": "LayoutModel",
      "_view_count": null,
      "_view_module": "@jupyter-widgets/base",
      "_view_module_version": "1.2.0",
      "_view_name": "LayoutView",
      "align_content": null,
      "align_items": null,
      "align_self": null,
      "border": null,
      "bottom": null,
      "display": null,
      "flex": null,
      "flex_flow": null,
      "grid_area": null,
      "grid_auto_columns": null,
      "grid_auto_flow": null,
      "grid_auto_rows": null,
      "grid_column": null,
      "grid_gap": null,
      "grid_row": null,
      "grid_template_areas": null,
      "grid_template_columns": null,
      "grid_template_rows": null,
      "height": null,
      "justify_content": null,
      "justify_items": null,
      "left": null,
      "margin": null,
      "max_height": null,
      "max_width": null,
      "min_height": null,
      "min_width": null,
      "object_fit": null,
      "object_position": null,
      "order": null,
      "overflow": null,
      "overflow_x": null,
      "overflow_y": null,
      "padding": null,
      "right": null,
      "top": null,
      "visibility": null,
      "width": null
     }
    },
    "a27eaccc357c422d996f751a7a232e37": {
     "model_module": "@jupyter-widgets/base",
     "model_name": "LayoutModel",
     "state": {
      "_model_module": "@jupyter-widgets/base",
      "_model_module_version": "1.2.0",
      "_model_name": "LayoutModel",
      "_view_count": null,
      "_view_module": "@jupyter-widgets/base",
      "_view_module_version": "1.2.0",
      "_view_name": "LayoutView",
      "align_content": null,
      "align_items": null,
      "align_self": null,
      "border": null,
      "bottom": null,
      "display": null,
      "flex": null,
      "flex_flow": null,
      "grid_area": null,
      "grid_auto_columns": null,
      "grid_auto_flow": null,
      "grid_auto_rows": null,
      "grid_column": null,
      "grid_gap": null,
      "grid_row": null,
      "grid_template_areas": null,
      "grid_template_columns": null,
      "grid_template_rows": null,
      "height": null,
      "justify_content": null,
      "justify_items": null,
      "left": null,
      "margin": null,
      "max_height": null,
      "max_width": null,
      "min_height": null,
      "min_width": null,
      "object_fit": null,
      "object_position": null,
      "order": null,
      "overflow": null,
      "overflow_x": null,
      "overflow_y": null,
      "padding": null,
      "right": null,
      "top": null,
      "visibility": null,
      "width": null
     }
    },
    "a9035e95770145fa9814c64a1e77414e": {
     "model_module": "@jupyter-widgets/base",
     "model_name": "LayoutModel",
     "state": {
      "_model_module": "@jupyter-widgets/base",
      "_model_module_version": "1.2.0",
      "_model_name": "LayoutModel",
      "_view_count": null,
      "_view_module": "@jupyter-widgets/base",
      "_view_module_version": "1.2.0",
      "_view_name": "LayoutView",
      "align_content": null,
      "align_items": null,
      "align_self": null,
      "border": null,
      "bottom": null,
      "display": null,
      "flex": null,
      "flex_flow": null,
      "grid_area": null,
      "grid_auto_columns": null,
      "grid_auto_flow": null,
      "grid_auto_rows": null,
      "grid_column": null,
      "grid_gap": null,
      "grid_row": null,
      "grid_template_areas": null,
      "grid_template_columns": null,
      "grid_template_rows": null,
      "height": null,
      "justify_content": null,
      "justify_items": null,
      "left": null,
      "margin": null,
      "max_height": null,
      "max_width": null,
      "min_height": null,
      "min_width": null,
      "object_fit": null,
      "object_position": null,
      "order": null,
      "overflow": null,
      "overflow_x": null,
      "overflow_y": null,
      "padding": null,
      "right": null,
      "top": null,
      "visibility": null,
      "width": null
     }
    },
    "ac80a09d77db4c39bd8b3d2faa0c6276": {
     "model_module": "@jupyter-widgets/controls",
     "model_name": "HTMLModel",
     "state": {
      "_dom_classes": [],
      "_model_module": "@jupyter-widgets/controls",
      "_model_module_version": "1.5.0",
      "_model_name": "HTMLModel",
      "_view_count": null,
      "_view_module": "@jupyter-widgets/controls",
      "_view_module_version": "1.5.0",
      "_view_name": "HTMLView",
      "description": "",
      "description_tooltip": null,
      "layout": "IPY_MODEL_e2164b3b9276459899dc33a008bdddf8",
      "placeholder": "​",
      "style": "IPY_MODEL_d6b90db4a82f46ac8608cb426b07639d",
      "value": " 0/? [00:02&lt;?, ?it/s]"
     }
    },
    "ae65c6ae1f6843d2872846423b943e60": {
     "model_module": "@jupyter-widgets/base",
     "model_name": "LayoutModel",
     "state": {
      "_model_module": "@jupyter-widgets/base",
      "_model_module_version": "1.2.0",
      "_model_name": "LayoutModel",
      "_view_count": null,
      "_view_module": "@jupyter-widgets/base",
      "_view_module_version": "1.2.0",
      "_view_name": "LayoutView",
      "align_content": null,
      "align_items": null,
      "align_self": null,
      "border": null,
      "bottom": null,
      "display": null,
      "flex": null,
      "flex_flow": null,
      "grid_area": null,
      "grid_auto_columns": null,
      "grid_auto_flow": null,
      "grid_auto_rows": null,
      "grid_column": null,
      "grid_gap": null,
      "grid_row": null,
      "grid_template_areas": null,
      "grid_template_columns": null,
      "grid_template_rows": null,
      "height": null,
      "justify_content": null,
      "justify_items": null,
      "left": null,
      "margin": null,
      "max_height": null,
      "max_width": null,
      "min_height": null,
      "min_width": null,
      "object_fit": null,
      "object_position": null,
      "order": null,
      "overflow": null,
      "overflow_x": null,
      "overflow_y": null,
      "padding": null,
      "right": null,
      "top": null,
      "visibility": null,
      "width": null
     }
    },
    "af4d083911b04ec1b010f622397d56f4": {
     "model_module": "@jupyter-widgets/controls",
     "model_name": "HTMLModel",
     "state": {
      "_dom_classes": [],
      "_model_module": "@jupyter-widgets/controls",
      "_model_module_version": "1.5.0",
      "_model_name": "HTMLModel",
      "_view_count": null,
      "_view_module": "@jupyter-widgets/controls",
      "_view_module_version": "1.5.0",
      "_view_name": "HTMLView",
      "description": "",
      "description_tooltip": null,
      "layout": "IPY_MODEL_a27eaccc357c422d996f751a7a232e37",
      "placeholder": "​",
      "style": "IPY_MODEL_cd31018580c946d981189561fd71cd8a",
      "value": " 256/256 [10:06&lt;00:00,  2.37s/it]"
     }
    },
    "b5dab458a1a54de1839c05cc2095b100": {
     "model_module": "@jupyter-widgets/controls",
     "model_name": "ProgressStyleModel",
     "state": {
      "_model_module": "@jupyter-widgets/controls",
      "_model_module_version": "1.5.0",
      "_model_name": "ProgressStyleModel",
      "_view_count": null,
      "_view_module": "@jupyter-widgets/base",
      "_view_module_version": "1.2.0",
      "_view_name": "StyleView",
      "bar_color": null,
      "description_width": "initial"
     }
    },
    "bae2e1044667445db4d325b27aa80531": {
     "model_module": "@jupyter-widgets/base",
     "model_name": "LayoutModel",
     "state": {
      "_model_module": "@jupyter-widgets/base",
      "_model_module_version": "1.2.0",
      "_model_name": "LayoutModel",
      "_view_count": null,
      "_view_module": "@jupyter-widgets/base",
      "_view_module_version": "1.2.0",
      "_view_name": "LayoutView",
      "align_content": null,
      "align_items": null,
      "align_self": null,
      "border": null,
      "bottom": null,
      "display": null,
      "flex": null,
      "flex_flow": null,
      "grid_area": null,
      "grid_auto_columns": null,
      "grid_auto_flow": null,
      "grid_auto_rows": null,
      "grid_column": null,
      "grid_gap": null,
      "grid_row": null,
      "grid_template_areas": null,
      "grid_template_columns": null,
      "grid_template_rows": null,
      "height": null,
      "justify_content": null,
      "justify_items": null,
      "left": null,
      "margin": null,
      "max_height": null,
      "max_width": null,
      "min_height": null,
      "min_width": null,
      "object_fit": null,
      "object_position": null,
      "order": null,
      "overflow": null,
      "overflow_x": null,
      "overflow_y": null,
      "padding": null,
      "right": null,
      "top": null,
      "visibility": null,
      "width": null
     }
    },
    "bcd83aa9f78b468bb9d62ba4c0a59324": {
     "model_module": "@jupyter-widgets/controls",
     "model_name": "HBoxModel",
     "state": {
      "_dom_classes": [],
      "_model_module": "@jupyter-widgets/controls",
      "_model_module_version": "1.5.0",
      "_model_name": "HBoxModel",
      "_view_count": null,
      "_view_module": "@jupyter-widgets/controls",
      "_view_module_version": "1.5.0",
      "_view_name": "HBoxView",
      "box_style": "",
      "children": [
       "IPY_MODEL_8c1877aa0cc247daa4232877681f39af",
       "IPY_MODEL_af4d083911b04ec1b010f622397d56f4"
      ],
      "layout": "IPY_MODEL_f5d3979f34a640318a660104c9e8ba50"
     }
    },
    "bd40fd9cbd344eddb35495cb46e14103": {
     "model_module": "@jupyter-widgets/base",
     "model_name": "LayoutModel",
     "state": {
      "_model_module": "@jupyter-widgets/base",
      "_model_module_version": "1.2.0",
      "_model_name": "LayoutModel",
      "_view_count": null,
      "_view_module": "@jupyter-widgets/base",
      "_view_module_version": "1.2.0",
      "_view_name": "LayoutView",
      "align_content": null,
      "align_items": null,
      "align_self": null,
      "border": null,
      "bottom": null,
      "display": null,
      "flex": null,
      "flex_flow": null,
      "grid_area": null,
      "grid_auto_columns": null,
      "grid_auto_flow": null,
      "grid_auto_rows": null,
      "grid_column": null,
      "grid_gap": null,
      "grid_row": null,
      "grid_template_areas": null,
      "grid_template_columns": null,
      "grid_template_rows": null,
      "height": null,
      "justify_content": null,
      "justify_items": null,
      "left": null,
      "margin": null,
      "max_height": null,
      "max_width": null,
      "min_height": null,
      "min_width": null,
      "object_fit": null,
      "object_position": null,
      "order": null,
      "overflow": null,
      "overflow_x": null,
      "overflow_y": null,
      "padding": null,
      "right": null,
      "top": null,
      "visibility": null,
      "width": null
     }
    },
    "bef09922dc034405903324c1f9948c07": {
     "model_module": "@jupyter-widgets/controls",
     "model_name": "ProgressStyleModel",
     "state": {
      "_model_module": "@jupyter-widgets/controls",
      "_model_module_version": "1.5.0",
      "_model_name": "ProgressStyleModel",
      "_view_count": null,
      "_view_module": "@jupyter-widgets/base",
      "_view_module_version": "1.2.0",
      "_view_name": "StyleView",
      "bar_color": null,
      "description_width": "initial"
     }
    },
    "c682c1d895b74f5db0563bfd1801a39b": {
     "model_module": "@jupyter-widgets/controls",
     "model_name": "DescriptionStyleModel",
     "state": {
      "_model_module": "@jupyter-widgets/controls",
      "_model_module_version": "1.5.0",
      "_model_name": "DescriptionStyleModel",
      "_view_count": null,
      "_view_module": "@jupyter-widgets/base",
      "_view_module_version": "1.2.0",
      "_view_name": "StyleView",
      "description_width": ""
     }
    },
    "cd31018580c946d981189561fd71cd8a": {
     "model_module": "@jupyter-widgets/controls",
     "model_name": "DescriptionStyleModel",
     "state": {
      "_model_module": "@jupyter-widgets/controls",
      "_model_module_version": "1.5.0",
      "_model_name": "DescriptionStyleModel",
      "_view_count": null,
      "_view_module": "@jupyter-widgets/base",
      "_view_module_version": "1.2.0",
      "_view_name": "StyleView",
      "description_width": ""
     }
    },
    "cef623c21a1346038f7a75254b071573": {
     "model_module": "@jupyter-widgets/controls",
     "model_name": "ProgressStyleModel",
     "state": {
      "_model_module": "@jupyter-widgets/controls",
      "_model_module_version": "1.5.0",
      "_model_name": "ProgressStyleModel",
      "_view_count": null,
      "_view_module": "@jupyter-widgets/base",
      "_view_module_version": "1.2.0",
      "_view_name": "StyleView",
      "bar_color": null,
      "description_width": "initial"
     }
    },
    "d6b90db4a82f46ac8608cb426b07639d": {
     "model_module": "@jupyter-widgets/controls",
     "model_name": "DescriptionStyleModel",
     "state": {
      "_model_module": "@jupyter-widgets/controls",
      "_model_module_version": "1.5.0",
      "_model_name": "DescriptionStyleModel",
      "_view_count": null,
      "_view_module": "@jupyter-widgets/base",
      "_view_module_version": "1.2.0",
      "_view_name": "StyleView",
      "description_width": ""
     }
    },
    "dc4769adbbf3497db8620a743da82b58": {
     "model_module": "@jupyter-widgets/controls",
     "model_name": "HBoxModel",
     "state": {
      "_dom_classes": [],
      "_model_module": "@jupyter-widgets/controls",
      "_model_module_version": "1.5.0",
      "_model_name": "HBoxModel",
      "_view_count": null,
      "_view_module": "@jupyter-widgets/controls",
      "_view_module_version": "1.5.0",
      "_view_name": "HBoxView",
      "box_style": "",
      "children": [
       "IPY_MODEL_f54b251a7c3f4331bbb9a139c93dc8d1",
       "IPY_MODEL_f9aed9464eac4b77b13e4ba98835f414"
      ],
      "layout": "IPY_MODEL_a9035e95770145fa9814c64a1e77414e"
     }
    },
    "e2164b3b9276459899dc33a008bdddf8": {
     "model_module": "@jupyter-widgets/base",
     "model_name": "LayoutModel",
     "state": {
      "_model_module": "@jupyter-widgets/base",
      "_model_module_version": "1.2.0",
      "_model_name": "LayoutModel",
      "_view_count": null,
      "_view_module": "@jupyter-widgets/base",
      "_view_module_version": "1.2.0",
      "_view_name": "LayoutView",
      "align_content": null,
      "align_items": null,
      "align_self": null,
      "border": null,
      "bottom": null,
      "display": null,
      "flex": null,
      "flex_flow": null,
      "grid_area": null,
      "grid_auto_columns": null,
      "grid_auto_flow": null,
      "grid_auto_rows": null,
      "grid_column": null,
      "grid_gap": null,
      "grid_row": null,
      "grid_template_areas": null,
      "grid_template_columns": null,
      "grid_template_rows": null,
      "height": null,
      "justify_content": null,
      "justify_items": null,
      "left": null,
      "margin": null,
      "max_height": null,
      "max_width": null,
      "min_height": null,
      "min_width": null,
      "object_fit": null,
      "object_position": null,
      "order": null,
      "overflow": null,
      "overflow_x": null,
      "overflow_y": null,
      "padding": null,
      "right": null,
      "top": null,
      "visibility": null,
      "width": null
     }
    },
    "eec3946e73864c1593d09cf70cf1fb49": {
     "model_module": "@jupyter-widgets/base",
     "model_name": "LayoutModel",
     "state": {
      "_model_module": "@jupyter-widgets/base",
      "_model_module_version": "1.2.0",
      "_model_name": "LayoutModel",
      "_view_count": null,
      "_view_module": "@jupyter-widgets/base",
      "_view_module_version": "1.2.0",
      "_view_name": "LayoutView",
      "align_content": null,
      "align_items": null,
      "align_self": null,
      "border": null,
      "bottom": null,
      "display": null,
      "flex": null,
      "flex_flow": null,
      "grid_area": null,
      "grid_auto_columns": null,
      "grid_auto_flow": null,
      "grid_auto_rows": null,
      "grid_column": null,
      "grid_gap": null,
      "grid_row": null,
      "grid_template_areas": null,
      "grid_template_columns": null,
      "grid_template_rows": null,
      "height": null,
      "justify_content": null,
      "justify_items": null,
      "left": null,
      "margin": null,
      "max_height": null,
      "max_width": null,
      "min_height": null,
      "min_width": null,
      "object_fit": null,
      "object_position": null,
      "order": null,
      "overflow": null,
      "overflow_x": null,
      "overflow_y": null,
      "padding": null,
      "right": null,
      "top": null,
      "visibility": null,
      "width": null
     }
    },
    "f01526f44f214a9a9bf4d5bd6381e9a6": {
     "model_module": "@jupyter-widgets/controls",
     "model_name": "FloatProgressModel",
     "state": {
      "_dom_classes": [],
      "_model_module": "@jupyter-widgets/controls",
      "_model_module_version": "1.5.0",
      "_model_name": "FloatProgressModel",
      "_view_count": null,
      "_view_module": "@jupyter-widgets/controls",
      "_view_module_version": "1.5.0",
      "_view_name": "ProgressView",
      "bar_style": "success",
      "description": "100%",
      "description_tooltip": null,
      "layout": "IPY_MODEL_f368bb046a2740999f19892434ca022e",
      "max": 256,
      "min": 0,
      "orientation": "horizontal",
      "style": "IPY_MODEL_07376b3625634908935bb67a326c10e1",
      "value": 256
     }
    },
    "f368bb046a2740999f19892434ca022e": {
     "model_module": "@jupyter-widgets/base",
     "model_name": "LayoutModel",
     "state": {
      "_model_module": "@jupyter-widgets/base",
      "_model_module_version": "1.2.0",
      "_model_name": "LayoutModel",
      "_view_count": null,
      "_view_module": "@jupyter-widgets/base",
      "_view_module_version": "1.2.0",
      "_view_name": "LayoutView",
      "align_content": null,
      "align_items": null,
      "align_self": null,
      "border": null,
      "bottom": null,
      "display": null,
      "flex": null,
      "flex_flow": null,
      "grid_area": null,
      "grid_auto_columns": null,
      "grid_auto_flow": null,
      "grid_auto_rows": null,
      "grid_column": null,
      "grid_gap": null,
      "grid_row": null,
      "grid_template_areas": null,
      "grid_template_columns": null,
      "grid_template_rows": null,
      "height": null,
      "justify_content": null,
      "justify_items": null,
      "left": null,
      "margin": null,
      "max_height": null,
      "max_width": null,
      "min_height": null,
      "min_width": null,
      "object_fit": null,
      "object_position": null,
      "order": null,
      "overflow": null,
      "overflow_x": null,
      "overflow_y": null,
      "padding": null,
      "right": null,
      "top": null,
      "visibility": null,
      "width": null
     }
    },
    "f3d3f20064994daf99f6df9b5f3fa641": {
     "model_module": "@jupyter-widgets/base",
     "model_name": "LayoutModel",
     "state": {
      "_model_module": "@jupyter-widgets/base",
      "_model_module_version": "1.2.0",
      "_model_name": "LayoutModel",
      "_view_count": null,
      "_view_module": "@jupyter-widgets/base",
      "_view_module_version": "1.2.0",
      "_view_name": "LayoutView",
      "align_content": null,
      "align_items": null,
      "align_self": null,
      "border": null,
      "bottom": null,
      "display": null,
      "flex": null,
      "flex_flow": null,
      "grid_area": null,
      "grid_auto_columns": null,
      "grid_auto_flow": null,
      "grid_auto_rows": null,
      "grid_column": null,
      "grid_gap": null,
      "grid_row": null,
      "grid_template_areas": null,
      "grid_template_columns": null,
      "grid_template_rows": null,
      "height": null,
      "justify_content": null,
      "justify_items": null,
      "left": null,
      "margin": null,
      "max_height": null,
      "max_width": null,
      "min_height": null,
      "min_width": null,
      "object_fit": null,
      "object_position": null,
      "order": null,
      "overflow": null,
      "overflow_x": null,
      "overflow_y": null,
      "padding": null,
      "right": null,
      "top": null,
      "visibility": null,
      "width": null
     }
    },
    "f54b251a7c3f4331bbb9a139c93dc8d1": {
     "model_module": "@jupyter-widgets/controls",
     "model_name": "FloatProgressModel",
     "state": {
      "_dom_classes": [],
      "_model_module": "@jupyter-widgets/controls",
      "_model_module_version": "1.5.0",
      "_model_name": "FloatProgressModel",
      "_view_count": null,
      "_view_module": "@jupyter-widgets/controls",
      "_view_module_version": "1.5.0",
      "_view_name": "ProgressView",
      "bar_style": "success",
      "description": "100%",
      "description_tooltip": null,
      "layout": "IPY_MODEL_a1ac4b3b37ad4746a667c0dd80bcd43d",
      "max": 308,
      "min": 0,
      "orientation": "horizontal",
      "style": "IPY_MODEL_bef09922dc034405903324c1f9948c07",
      "value": 308
     }
    },
    "f5d3979f34a640318a660104c9e8ba50": {
     "model_module": "@jupyter-widgets/base",
     "model_name": "LayoutModel",
     "state": {
      "_model_module": "@jupyter-widgets/base",
      "_model_module_version": "1.2.0",
      "_model_name": "LayoutModel",
      "_view_count": null,
      "_view_module": "@jupyter-widgets/base",
      "_view_module_version": "1.2.0",
      "_view_name": "LayoutView",
      "align_content": null,
      "align_items": null,
      "align_self": null,
      "border": null,
      "bottom": null,
      "display": null,
      "flex": null,
      "flex_flow": null,
      "grid_area": null,
      "grid_auto_columns": null,
      "grid_auto_flow": null,
      "grid_auto_rows": null,
      "grid_column": null,
      "grid_gap": null,
      "grid_row": null,
      "grid_template_areas": null,
      "grid_template_columns": null,
      "grid_template_rows": null,
      "height": null,
      "justify_content": null,
      "justify_items": null,
      "left": null,
      "margin": null,
      "max_height": null,
      "max_width": null,
      "min_height": null,
      "min_width": null,
      "object_fit": null,
      "object_position": null,
      "order": null,
      "overflow": null,
      "overflow_x": null,
      "overflow_y": null,
      "padding": null,
      "right": null,
      "top": null,
      "visibility": null,
      "width": null
     }
    },
    "f693f6ce93f44ecf8159214f91a65864": {
     "model_module": "@jupyter-widgets/controls",
     "model_name": "HBoxModel",
     "state": {
      "_dom_classes": [],
      "_model_module": "@jupyter-widgets/controls",
      "_model_module_version": "1.5.0",
      "_model_name": "HBoxModel",
      "_view_count": null,
      "_view_module": "@jupyter-widgets/controls",
      "_view_module_version": "1.5.0",
      "_view_name": "HBoxView",
      "box_style": "",
      "children": [
       "IPY_MODEL_6cceca6a2c0c42e9bc694ceb1bd0febd",
       "IPY_MODEL_5cd06d52ea4647cfb456bf9966ef9e44"
      ],
      "layout": "IPY_MODEL_ae65c6ae1f6843d2872846423b943e60"
     }
    },
    "f9aed9464eac4b77b13e4ba98835f414": {
     "model_module": "@jupyter-widgets/controls",
     "model_name": "HTMLModel",
     "state": {
      "_dom_classes": [],
      "_model_module": "@jupyter-widgets/controls",
      "_model_module_version": "1.5.0",
      "_model_name": "HTMLModel",
      "_view_count": null,
      "_view_module": "@jupyter-widgets/controls",
      "_view_module_version": "1.5.0",
      "_view_name": "HTMLView",
      "description": "",
      "description_tooltip": null,
      "layout": "IPY_MODEL_08d12b4391664079ac12e056eed69186",
      "placeholder": "​",
      "style": "IPY_MODEL_5da011677ee54269adb8d09579b593ba",
      "value": " 308/308 [00:19&lt;00:00, 15.91it/s]"
     }
    }
   }
  }
 },
 "nbformat": 4,
 "nbformat_minor": 4
}
