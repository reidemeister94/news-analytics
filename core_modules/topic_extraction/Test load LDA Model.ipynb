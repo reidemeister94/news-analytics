{
 "cells": [
  {
   "cell_type": "code",
   "execution_count": 35,
   "metadata": {},
   "outputs": [],
   "source": [
    "import sys\n",
    "sys.path.append(\"../\")\n",
    "import yaml\n",
    "import logging\n",
    "import requests\n",
    "from pprint import pprint\n",
    "import json\n",
    "import time\n",
    "import os\n",
    "from pymongo import MongoClient\n",
    "import dateparser\n",
    "import psutil\n",
    "from nlp_utils import NLPUtils\n",
    "from lda_module import LdaModule\n",
    "import pandas as pd\n",
    "from pprint import pprint"
   ]
  },
  {
   "cell_type": "code",
   "execution_count": 2,
   "metadata": {},
   "outputs": [],
   "source": [
    "lda_module = LdaModule(trained=True)"
   ]
  },
  {
   "cell_type": "code",
   "execution_count": 3,
   "metadata": {},
   "outputs": [],
   "source": [
    "text = \"\"\"The nationwide protests over the killing of George Floyd will test two competing notions of how voters respond to crises that provoke both anger and grief.\n",
    "\n",
    "Could the demonstrations that have devolved into mayhem, looting and assault lead to victory for President Trump? Will they empower Republicans in the way that Richard Nixon used his “silent majority” and Ronald Reagan invoked the idea that “the jungle is always there, waiting to take us over” to propel themselves politically in the wake of the riots and rebellion in Watts, Newark and Detroit in the 1960s?\n",
    "\n",
    "Or could Trump’s authoritarian reaction, both rhetorically (“You have to dominate,” “I am your president of law and order”) and actual (ordering military units and equipment to the nation’s capital) enrage and energize the knowledge class, white liberals and the young to more tightly ally with African-Americans, Hispanics and other minorities to produce a Democratic surge?\n",
    "\n",
    "In Minnesota, where the protests first began, there are Democrats who worry that voters will turn to the right.\"\"\""
   ]
  },
  {
   "cell_type": "code",
   "execution_count": 4,
   "metadata": {},
   "outputs": [],
   "source": [
    "nlp_utils = NLPUtils(lang='en')"
   ]
  },
  {
   "cell_type": "code",
   "execution_count": 5,
   "metadata": {},
   "outputs": [],
   "source": [
    "parsed_text = nlp_utils.parse_text(text)"
   ]
  },
  {
   "cell_type": "code",
   "execution_count": 32,
   "metadata": {},
   "outputs": [],
   "source": [
    "topics = lda_module.model.show_topics(formatted=True, num_topics=20, num_words=20)"
   ]
  },
  {
   "cell_type": "code",
   "execution_count": 38,
   "metadata": {},
   "outputs": [],
   "source": [
    "document_info = pd.DataFrame([(el[0], round(el[1], 2), topics[el[0]][1])\n",
    "                                      for el in lda_module.model[lda_module.dictionary.doc2bow(parsed_text)]],\n",
    "                                     columns=['topic #', 'weight', 'words in topic'])"
   ]
  },
  {
   "cell_type": "code",
   "execution_count": 39,
   "metadata": {},
   "outputs": [
    {
     "data": {
      "text/html": [
       "<div>\n",
       "<style scoped>\n",
       "    .dataframe tbody tr th:only-of-type {\n",
       "        vertical-align: middle;\n",
       "    }\n",
       "\n",
       "    .dataframe tbody tr th {\n",
       "        vertical-align: top;\n",
       "    }\n",
       "\n",
       "    .dataframe thead th {\n",
       "        text-align: right;\n",
       "    }\n",
       "</style>\n",
       "<table border=\"1\" class=\"dataframe\">\n",
       "  <thead>\n",
       "    <tr style=\"text-align: right;\">\n",
       "      <th></th>\n",
       "      <th>topic #</th>\n",
       "      <th>weight</th>\n",
       "      <th>words in topic</th>\n",
       "    </tr>\n",
       "  </thead>\n",
       "  <tbody>\n",
       "    <tr>\n",
       "      <th>0</th>\n",
       "      <td>3</td>\n",
       "      <td>0.14</td>\n",
       "      <td>0.015*\"spread\" + 0.012*\"disease\" + 0.009*\"coun...</td>\n",
       "    </tr>\n",
       "    <tr>\n",
       "      <th>1</th>\n",
       "      <td>4</td>\n",
       "      <td>0.07</td>\n",
       "      <td>0.010*\"new\" + 0.010*\"city\" + 0.009*\"spread\" + ...</td>\n",
       "    </tr>\n",
       "    <tr>\n",
       "      <th>2</th>\n",
       "      <td>8</td>\n",
       "      <td>0.15</td>\n",
       "      <td>0.013*\"infection\" + 0.013*\"spread\" + 0.007*\"di...</td>\n",
       "    </tr>\n",
       "    <tr>\n",
       "      <th>3</th>\n",
       "      <td>12</td>\n",
       "      <td>0.17</td>\n",
       "      <td>0.009*\"new\" + 0.007*\"test\" + 0.007*\"spread\" + ...</td>\n",
       "    </tr>\n",
       "    <tr>\n",
       "      <th>4</th>\n",
       "      <td>13</td>\n",
       "      <td>0.16</td>\n",
       "      <td>0.016*\"March\" + 0.012*\"postpone\" + 0.009*\"canc...</td>\n",
       "    </tr>\n",
       "    <tr>\n",
       "      <th>5</th>\n",
       "      <td>16</td>\n",
       "      <td>0.20</td>\n",
       "      <td>0.011*\"spread\" + 0.010*\"new\" + 0.009*\"travel\" ...</td>\n",
       "    </tr>\n",
       "    <tr>\n",
       "      <th>6</th>\n",
       "      <td>18</td>\n",
       "      <td>0.11</td>\n",
       "      <td>0.010*\"travel\" + 0.009*\"new\" + 0.008*\"know\" + ...</td>\n",
       "    </tr>\n",
       "  </tbody>\n",
       "</table>\n",
       "</div>"
      ],
      "text/plain": [
       "   topic #  weight                                     words in topic\n",
       "0        3    0.14  0.015*\"spread\" + 0.012*\"disease\" + 0.009*\"coun...\n",
       "1        4    0.07  0.010*\"new\" + 0.010*\"city\" + 0.009*\"spread\" + ...\n",
       "2        8    0.15  0.013*\"infection\" + 0.013*\"spread\" + 0.007*\"di...\n",
       "3       12    0.17  0.009*\"new\" + 0.007*\"test\" + 0.007*\"spread\" + ...\n",
       "4       13    0.16  0.016*\"March\" + 0.012*\"postpone\" + 0.009*\"canc...\n",
       "5       16    0.20  0.011*\"spread\" + 0.010*\"new\" + 0.009*\"travel\" ...\n",
       "6       18    0.11  0.010*\"travel\" + 0.009*\"new\" + 0.008*\"know\" + ..."
      ]
     },
     "execution_count": 39,
     "metadata": {},
     "output_type": "execute_result"
    }
   ],
   "source": [
    "document_info"
   ]
  }
 ],
 "metadata": {
  "kernelspec": {
   "display_name": "ricerca",
   "language": "python",
   "name": "ricerca"
  },
  "language_info": {
   "codemirror_mode": {
    "name": "ipython",
    "version": 3
   },
   "file_extension": ".py",
   "mimetype": "text/x-python",
   "name": "python",
   "nbconvert_exporter": "python",
   "pygments_lexer": "ipython3",
   "version": "3.7.6"
  }
 },
 "nbformat": 4,
 "nbformat_minor": 4
}
