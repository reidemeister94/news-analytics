{
 "cells": [
  {
   "cell_type": "code",
   "execution_count": 1,
   "metadata": {},
   "outputs": [
    {
     "data": {
      "application/javascript": [
       "\n",
       "            setTimeout(function() {\n",
       "                var nbb_cell_id = 1;\n",
       "                var nbb_unformatted_code = \"%load_ext nb_black\";\n",
       "                var nbb_formatted_code = \"%load_ext nb_black\";\n",
       "                var nbb_cells = Jupyter.notebook.get_cells();\n",
       "                for (var i = 0; i < nbb_cells.length; ++i) {\n",
       "                    if (nbb_cells[i].input_prompt_number == nbb_cell_id) {\n",
       "                        if (nbb_cells[i].get_text() == nbb_unformatted_code) {\n",
       "                             nbb_cells[i].set_text(nbb_formatted_code);\n",
       "                        }\n",
       "                        break;\n",
       "                    }\n",
       "                }\n",
       "            }, 500);\n",
       "            "
      ],
      "text/plain": [
       "<IPython.core.display.Javascript object>"
      ]
     },
     "metadata": {},
     "output_type": "display_data"
    }
   ],
   "source": [
    "%load_ext nb_black"
   ]
  },
  {
   "cell_type": "code",
   "execution_count": 2,
   "metadata": {},
   "outputs": [
    {
     "data": {
      "application/javascript": [
       "\n",
       "            setTimeout(function() {\n",
       "                var nbb_cell_id = 2;\n",
       "                var nbb_unformatted_code = \"import sys\\n\\nsys.path.append(\\\"../\\\")\\nimport yaml\\nimport logging\\nimport requests\\nfrom pprint import pprint\\nimport json\\nimport time\\nimport os\\nfrom pymongo import MongoClient\\nimport dateparser\\nimport psutil\";\n",
       "                var nbb_formatted_code = \"import sys\\n\\nsys.path.append(\\\"../\\\")\\nimport yaml\\nimport logging\\nimport requests\\nfrom pprint import pprint\\nimport json\\nimport time\\nimport os\\nfrom pymongo import MongoClient\\nimport dateparser\\nimport psutil\";\n",
       "                var nbb_cells = Jupyter.notebook.get_cells();\n",
       "                for (var i = 0; i < nbb_cells.length; ++i) {\n",
       "                    if (nbb_cells[i].input_prompt_number == nbb_cell_id) {\n",
       "                        if (nbb_cells[i].get_text() == nbb_unformatted_code) {\n",
       "                             nbb_cells[i].set_text(nbb_formatted_code);\n",
       "                        }\n",
       "                        break;\n",
       "                    }\n",
       "                }\n",
       "            }, 500);\n",
       "            "
      ],
      "text/plain": [
       "<IPython.core.display.Javascript object>"
      ]
     },
     "metadata": {},
     "output_type": "display_data"
    }
   ],
   "source": [
    "import sys\n",
    "\n",
    "sys.path.append(\"../\")\n",
    "import yaml\n",
    "import logging\n",
    "import requests\n",
    "from pprint import pprint\n",
    "import json\n",
    "import time\n",
    "import os\n",
    "from pymongo import MongoClient\n",
    "import dateparser\n",
    "import psutil"
   ]
  },
  {
   "cell_type": "code",
   "execution_count": 3,
   "metadata": {},
   "outputs": [
    {
     "data": {
      "application/javascript": [
       "\n",
       "            setTimeout(function() {\n",
       "                var nbb_cell_id = 3;\n",
       "                var nbb_unformatted_code = \"mongourl = \\\"mongodb://localhost:27017/\\\"\\nMONGO_CLIENT = MongoClient(mongourl)\";\n",
       "                var nbb_formatted_code = \"mongourl = \\\"mongodb://localhost:27017/\\\"\\nMONGO_CLIENT = MongoClient(mongourl)\";\n",
       "                var nbb_cells = Jupyter.notebook.get_cells();\n",
       "                for (var i = 0; i < nbb_cells.length; ++i) {\n",
       "                    if (nbb_cells[i].input_prompt_number == nbb_cell_id) {\n",
       "                        if (nbb_cells[i].get_text() == nbb_unformatted_code) {\n",
       "                             nbb_cells[i].set_text(nbb_formatted_code);\n",
       "                        }\n",
       "                        break;\n",
       "                    }\n",
       "                }\n",
       "            }, 500);\n",
       "            "
      ],
      "text/plain": [
       "<IPython.core.display.Javascript object>"
      ]
     },
     "metadata": {},
     "output_type": "display_data"
    }
   ],
   "source": [
    "mongourl = \"mongodb://localhost:27017/\"\n",
    "MONGO_CLIENT = MongoClient(mongourl)"
   ]
  },
  {
   "cell_type": "code",
   "execution_count": 4,
   "metadata": {},
   "outputs": [
    {
     "data": {
      "application/javascript": [
       "\n",
       "            setTimeout(function() {\n",
       "                var nbb_cell_id = 4;\n",
       "                var nbb_unformatted_code = \"collection = MONGO_CLIENT[\\\"news\\\"][\\\"article_en\\\"]\\nnot_processed_docs = collection.find()\\n# for doc in not_processed_docs:\\n#    print(doc)\\n#    time.sleep(10)\";\n",
       "                var nbb_formatted_code = \"collection = MONGO_CLIENT[\\\"news\\\"][\\\"article_en\\\"]\\nnot_processed_docs = collection.find()\\n# for doc in not_processed_docs:\\n#    print(doc)\\n#    time.sleep(10)\";\n",
       "                var nbb_cells = Jupyter.notebook.get_cells();\n",
       "                for (var i = 0; i < nbb_cells.length; ++i) {\n",
       "                    if (nbb_cells[i].input_prompt_number == nbb_cell_id) {\n",
       "                        if (nbb_cells[i].get_text() == nbb_unformatted_code) {\n",
       "                             nbb_cells[i].set_text(nbb_formatted_code);\n",
       "                        }\n",
       "                        break;\n",
       "                    }\n",
       "                }\n",
       "            }, 500);\n",
       "            "
      ],
      "text/plain": [
       "<IPython.core.display.Javascript object>"
      ]
     },
     "metadata": {},
     "output_type": "display_data"
    }
   ],
   "source": [
    "collection = MONGO_CLIENT[\"news\"][\"article_en\"]\n",
    "not_processed_docs = collection.find()\n",
    "# for doc in not_processed_docs:\n",
    "#    print(doc)\n",
    "#    time.sleep(10)"
   ]
  },
  {
   "cell_type": "code",
   "execution_count": null,
   "metadata": {},
   "outputs": [
    {
     "name": "stdout",
     "output_type": "stream",
     "text": [
      "0\n",
      "svmem(total=4127457280, available=2405003264, percent=41.7, used=1515806720, free=2450673664, active=1449717760, inactive=97148928, buffers=14172160, cached=146804736, shared=954368, slab=82419712)\n",
      "10000\n",
      "svmem(total=4127457280, available=2300735488, percent=44.3, used=1619873792, free=2346217472, active=1555746816, inactive=97464320, buffers=14172160, cached=147193856, shared=954368, slab=82432000)\n",
      "20000\n",
      "svmem(total=4127457280, available=2237829120, percent=45.8, used=1682817024, free=2283294720, active=1618845696, inactive=97492992, buffers=14172160, cached=147173376, shared=954368, slab=82472960)\n",
      "30000\n",
      "svmem(total=4127457280, available=2177179648, percent=47.3, used=1743466496, free=2222645248, active=1679712256, inactive=97492992, buffers=14172160, cached=147173376, shared=954368, slab=82440192)\n",
      "40000\n",
      "svmem(total=4127457280, available=2127990784, percent=48.4, used=1792655360, free=2173456384, active=1729048576, inactive=97492992, buffers=14172160, cached=147173376, shared=954368, slab=82440192)\n",
      "50000\n",
      "svmem(total=4127457280, available=2065010688, percent=50.0, used=1855635456, free=2110476288, active=1791909888, inactive=97492992, buffers=14172160, cached=147173376, shared=954368, slab=82440192)\n",
      "60000\n",
      "svmem(total=4127457280, available=2001006592, percent=51.5, used=1919639552, free=2046472192, active=1854619648, inactive=97492992, buffers=14172160, cached=147173376, shared=954368, slab=82448384)\n",
      "70000\n",
      "svmem(total=4127457280, available=1950388224, percent=52.7, used=1970257920, free=1995853824, active=1905336320, inactive=97492992, buffers=14180352, cached=147165184, shared=954368, slab=82440192)\n",
      "80000\n",
      "svmem(total=4127457280, available=1890549760, percent=54.2, used=2030092288, free=1936011264, active=1965830144, inactive=97492992, buffers=14180352, cached=147173376, shared=954368, slab=82382848)\n",
      "90000\n",
      "svmem(total=4127457280, available=1827733504, percent=55.7, used=2092908544, free=1873195008, active=2028670976, inactive=97492992, buffers=14180352, cached=147173376, shared=954368, slab=82481152)\n",
      "100000\n",
      "svmem(total=4127457280, available=1778438144, percent=56.9, used=2142203904, free=1823899648, active=2078048256, inactive=97492992, buffers=14180352, cached=147173376, shared=954368, slab=82489344)\n",
      "110000\n",
      "svmem(total=4127457280, available=1716121600, percent=58.4, used=2204520448, free=1761583104, active=2140307456, inactive=97492992, buffers=14180352, cached=147173376, shared=954368, slab=82374656)\n",
      "120000\n",
      "svmem(total=4127457280, available=1652178944, percent=60.0, used=2268463104, free=1697640448, active=2203439104, inactive=97492992, buffers=14180352, cached=147173376, shared=954368, slab=82485248)\n",
      "130000\n",
      "svmem(total=4127457280, available=1601527808, percent=61.2, used=2319114240, free=1646989312, active=2254065664, inactive=97492992, buffers=14180352, cached=147173376, shared=954368, slab=82452480)\n",
      "140000\n",
      "svmem(total=4127457280, available=1515012096, percent=63.3, used=2400829440, free=1555673088, active=2335645696, inactive=107069440, buffers=14192640, cached=156762112, shared=954368, slab=82493440)\n",
      "150000\n",
      "svmem(total=4127457280, available=1354301440, percent=67.2, used=2543554560, free=1376976896, active=2478153728, inactive=142962688, buffers=14192640, cached=192733184, shared=954368, slab=82591744)\n",
      "160000\n",
      "svmem(total=4127457280, available=1287647232, percent=68.8, used=2607124480, free=1284247552, active=2541453312, inactive=172056576, buffers=14192640, cached=221892608, shared=954368, slab=82616320)\n",
      "170000\n",
      "svmem(total=4127457280, available=1212375040, percent=70.6, used=2682327040, free=1169350656, active=2616696832, inactive=211636224, buffers=14192640, cached=261586944, shared=954368, slab=82755584)\n",
      "180000\n",
      "svmem(total=4127457280, available=1161527296, percent=71.9, used=2733150208, free=1092087808, active=2667560960, inactive=238022656, buffers=14192640, cached=288026624, shared=954368, slab=82788352)\n",
      "190000\n",
      "svmem(total=4127457280, available=1096970240, percent=73.4, used=2797682688, free=990593024, active=2731134976, inactive=274870272, buffers=14192640, cached=324988928, shared=954368, slab=82870272)\n",
      "200000\n",
      "svmem(total=4127457280, available=1034743808, percent=74.9, used=2859855872, free=890388480, active=2793967616, inactive=312799232, buffers=14200832, cached=363012096, shared=954368, slab=82919424)\n",
      "210000\n",
      "svmem(total=4127457280, available=963010560, percent=76.7, used=2931511296, free=782450688, active=2865389568, inactive=348958720, buffers=14200832, cached=399294464, shared=954368, slab=82993152)\n",
      "220000\n",
      "svmem(total=4127457280, available=899940352, percent=78.2, used=2994700288, free=683245568, active=2928472064, inactive=385044480, buffers=14200832, cached=435310592, shared=954368, slab=82952192)\n",
      "230000\n",
      "svmem(total=4127457280, available=849698816, percent=79.4, used=3044794368, free=602628096, active=2978435072, inactive=415338496, buffers=14200832, cached=465833984, shared=954368, slab=83173376)\n",
      "240000\n",
      "svmem(total=4127457280, available=773738496, percent=81.3, used=3120713728, free=490078208, active=3053469696, inactive=451887104, buffers=14200832, cached=502464512, shared=954368, slab=83255296)\n",
      "250000\n",
      "svmem(total=4127457280, available=711434240, percent=82.8, used=3182968832, free=391004160, active=3116630016, inactive=488574976, buffers=14209024, cached=539275264, shared=954368, slab=83230720)\n",
      "260000\n",
      "svmem(total=4127457280, available=633827328, percent=84.6, used=3260448768, free=264929280, active=3193909248, inactive=536272896, buffers=14913536, cached=587165696, shared=954368, slab=83456000)\n",
      "270000\n",
      "svmem(total=4127457280, available=584114176, percent=85.8, used=3310149632, free=186224640, active=3244183552, inactive=565166080, buffers=14913536, cached=616169472, shared=954368, slab=83456000)\n",
      "280000\n",
      "svmem(total=4127457280, available=518144000, percent=87.4, used=3376156672, free=119697408, active=3322896384, inactive=551530496, buffers=14913536, cached=616689664, shared=954368, slab=83464192)\n",
      "290000\n",
      "svmem(total=4127457280, available=456286208, percent=88.9, used=3437965312, free=110063616, active=3386384384, inactive=498262016, buffers=14901248, cached=564527104, shared=954368, slab=83685376)\n",
      "300000\n",
      "svmem(total=4127457280, available=376320000, percent=90.9, used=3517857792, free=127389696, active=3466792960, inactive=398872576, buffers=14753792, cached=467456000, shared=954368, slab=83587072)\n",
      "310000\n",
      "svmem(total=4127457280, available=315031552, percent=92.4, used=3579060224, free=107327488, active=3528511488, inactive=359362560, buffers=14413824, cached=426655744, shared=954368, slab=83873792)\n",
      "320000\n",
      "svmem(total=4127457280, available=247787520, percent=94.0, used=3646255104, free=113418240, active=3595038720, inactive=285642752, buffers=13852672, cached=353931264, shared=954368, slab=83857408)\n",
      "330000\n",
      "svmem(total=4127457280, available=183746560, percent=95.5, used=3710279680, free=119308288, active=3655892992, inactive=217690112, buffers=13582336, cached=284286976, shared=954368, slab=84045824)\n",
      "340000\n",
      "svmem(total=4127457280, available=121188352, percent=97.1, used=3772817408, free=123998208, active=3714465792, inactive=155602944, buffers=10207232, cached=220434432, shared=954368, slab=84127744)\n",
      "350000\n",
      "svmem(total=4127457280, available=72323072, percent=98.2, used=3850354688, free=119824384, active=3783999488, inactive=88281088, buffers=3198976, cached=154079232, shared=954368, slab=84197376)\n",
      "360000\n",
      "svmem(total=4127457280, available=37257216, percent=99.1, used=3912962048, free=112402432, active=3841552384, inactive=38318080, buffers=794624, cached=101298176, shared=954368, slab=84238336)\n"
     ]
    }
   ],
   "source": [
    "training_set = []\n",
    "i = 0\n",
    "for document in not_processed_docs:\n",
    "    if i % 10000 == 0:\n",
    "        print(i)\n",
    "        print(psutil.virtual_memory())\n",
    "    training_set.append(document['text'])\n",
    "    i += 1"
   ]
  },
  {
   "cell_type": "code",
   "execution_count": null,
   "metadata": {},
   "outputs": [],
   "source": []
  }
 ],
 "metadata": {
  "kernelspec": {
   "display_name": "research",
   "language": "python",
   "name": "research"
  },
  "language_info": {
   "codemirror_mode": {
    "name": "ipython",
    "version": 3
   },
   "file_extension": ".py",
   "mimetype": "text/x-python",
   "name": "python",
   "nbconvert_exporter": "python",
   "pygments_lexer": "ipython3",
   "version": "3.6.10"
  }
 },
 "nbformat": 4,
 "nbformat_minor": 4
}
