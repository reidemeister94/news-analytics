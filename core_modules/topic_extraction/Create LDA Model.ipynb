{
 "cells": [
  {
   "cell_type": "code",
   "execution_count": 1,
   "metadata": {},
   "outputs": [],
   "source": [
    "#%load_ext nb_black"
   ]
  },
  {
   "cell_type": "code",
   "execution_count": 2,
   "metadata": {},
   "outputs": [],
   "source": [
    "import sys\n",
    "\n",
    "sys.path.append(\"../\")\n",
    "import yaml\n",
    "import logging\n",
    "import requests\n",
    "from pprint import pprint\n",
    "import json\n",
    "import time\n",
    "import os\n",
    "from pymongo import MongoClient\n",
    "import dateparser\n",
    "import psutil\n",
    "from nlp_utils import NLPUtils\n",
    "from lda_module import LdaModule"
   ]
  },
  {
   "cell_type": "code",
   "execution_count": 3,
   "metadata": {},
   "outputs": [],
   "source": [
    "mongourl = \"mongodb://localhost:27017/\"\n",
    "MONGO_CLIENT = MongoClient(mongourl)\n",
    "LANG_CODE = 'nl'"
   ]
  },
  {
   "cell_type": "code",
   "execution_count": 4,
   "metadata": {},
   "outputs": [],
   "source": [
    "collection = MONGO_CLIENT[\"news\"][\"article\" + \"_\" + LANG_CODE]\n",
    "not_processed_docs = collection.find()\n",
    "# for doc in not_processed_docs:\n",
    "#    print(doc)\n",
    "#    time.sleep(10)"
   ]
  },
  {
   "cell_type": "code",
   "execution_count": 5,
   "metadata": {},
   "outputs": [
    {
     "name": "stdout",
     "output_type": "stream",
     "text": [
      "0\n",
      "svmem(total=8589934592, available=3141836800, percent=63.4, used=4097929216, free=545914880, active=1749180416, inactive=2241425408, wired=2348748800)\n",
      "10000\n",
      "svmem(total=8589934592, available=3031863296, percent=64.7, used=4207144960, free=431042560, active=1841582080, inactive=2244763648, wired=2365562880)\n",
      "20000\n",
      "svmem(total=8589934592, available=2797834240, percent=67.4, used=4341575680, free=187084800, active=1975648256, inactive=2250518528, wired=2365927424)\n",
      "30000\n",
      "svmem(total=8589934592, available=2760675328, percent=67.9, used=4377681920, free=147648512, active=2011512832, inactive=2251399168, wired=2366169088)\n",
      "40000\n",
      "svmem(total=8589934592, available=2591199232, percent=69.8, used=4545417216, free=15335424, active=2194051072, inactive=2254667776, wired=2351366144)\n",
      "50000\n",
      "svmem(total=8589934592, available=2604851200, percent=69.7, used=4548964352, free=68800512, active=2197225472, inactive=2255437824, wired=2351738880)\n",
      "60000\n",
      "svmem(total=8589934592, available=2461089792, percent=71.3, used=4670980096, free=49987584, active=2319929344, inactive=2259791872, wired=2351050752)\n",
      "70000\n",
      "svmem(total=8589934592, available=2426802176, percent=71.7, used=4705816576, free=42475520, active=2366345216, inactive=2234425344, wired=2339471360)\n",
      "80000\n",
      "svmem(total=8589934592, available=2381651968, percent=72.3, used=4728836096, free=16400384, active=2370478080, inactive=2238144512, wired=2358358016)\n",
      "90000\n",
      "svmem(total=8589934592, available=2421460992, percent=71.8, used=4688363520, free=68698112, active=2336227328, inactive=2263785472, wired=2352136192)\n",
      "100000\n",
      "svmem(total=8589934592, available=2382036992, percent=72.3, used=4729061376, free=15745024, active=2371031040, inactive=2329092096, wired=2358030336)\n",
      "110000\n",
      "svmem(total=8589934592, available=2303217664, percent=73.2, used=4667043840, free=17731584, active=2314817536, inactive=2251268096, wired=2352226304)\n"
     ]
    }
   ],
   "source": [
    "training_set = []\n",
    "i = 0\n",
    "for document in not_processed_docs:\n",
    "    if i % 10000 == 0:\n",
    "        print(i)\n",
    "        print(psutil.virtual_memory())\n",
    "    training_set.append(document['text'])\n",
    "    i += 1"
   ]
  },
  {
   "cell_type": "code",
   "execution_count": 6,
   "metadata": {},
   "outputs": [],
   "source": [
    "# Load custom stop words from file\n",
    "with open('custom_stop_words.json', 'r') as sw:\n",
    "    custom_stop_words = json.load(sw)\n",
    "custom_stop_words = custom_stop_words['s_words']"
   ]
  },
  {
   "cell_type": "code",
   "execution_count": 7,
   "metadata": {},
   "outputs": [],
   "source": [
    "nlp_utils = NLPUtils(lang=LANG_CODE)"
   ]
  },
  {
   "cell_type": "code",
   "execution_count": 8,
   "metadata": {},
   "outputs": [
    {
     "name": "stdout",
     "output_type": "stream",
     "text": [
      "Parsing articles...\n",
      "0\n",
      "100\n",
      "200\n",
      "300\n",
      "400\n",
      "500\n",
      "600\n",
      "700\n",
      "800\n",
      "900\n"
     ]
    }
   ],
   "source": [
    "# Some preparation before running LDA\n",
    "doc_collection = []\n",
    "print(\"Parsing articles...\")\n",
    "i = 0\n",
    "for doc in training_set[:1000]:\n",
    "    if i % 100 == 0: print(i)\n",
    "    tokens = nlp_utils.parse_text(doc)\n",
    "    doc_collection.append(tokens)\n",
    "    i += 1"
   ]
  },
  {
   "cell_type": "code",
   "execution_count": 9,
   "metadata": {},
   "outputs": [
    {
     "name": "stdout",
     "output_type": "stream",
     "text": [
      "Completed parsing 1000 articles\n",
      "... Building dictionary ...\n",
      "... Finding collocations ...\n",
      "... Building corpus ...\n",
      "... Building LDA model ...\n",
      "... Retrieving topics ...\n"
     ]
    }
   ],
   "source": [
    "print(\"Completed parsing {} articles\".format(len(doc_collection)))\n",
    "\n",
    "num_docs = len(doc_collection)\n",
    "num_topics = 20\n",
    "lda = LdaModule(lang = LANG_CODE, num_docs = num_docs, doc_collection = doc_collection, num_topics = num_topics, trained = False)\n",
    "lda.runLDA()\n",
    "\n",
    "docs_topics_dict = lda.get_docs_topics_dict()"
   ]
  },
  {
   "cell_type": "code",
   "execution_count": 10,
   "metadata": {},
   "outputs": [],
   "source": [
    "# == Saving model checkpoint ==\n",
    "lda.save_LDA_model()"
   ]
  }
 ],
 "metadata": {
  "kernelspec": {
   "display_name": "ricerca",
   "language": "python",
   "name": "ricerca"
  },
  "language_info": {
   "codemirror_mode": {
    "name": "ipython",
    "version": 3
   },
   "file_extension": ".py",
   "mimetype": "text/x-python",
   "name": "python",
   "nbconvert_exporter": "python",
   "pygments_lexer": "ipython3",
   "version": "3.7.6"
  }
 },
 "nbformat": 4,
 "nbformat_minor": 4
}
