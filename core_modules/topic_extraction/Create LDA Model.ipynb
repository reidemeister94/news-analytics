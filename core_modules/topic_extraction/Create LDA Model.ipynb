{
 "cells": [
  {
   "cell_type": "code",
   "execution_count": 1,
   "metadata": {},
   "outputs": [],
   "source": [
    "#%load_ext nb_black"
   ]
  },
  {
   "cell_type": "code",
   "execution_count": 2,
   "metadata": {},
   "outputs": [],
   "source": [
    "import sys\n",
    "\n",
    "sys.path.append(\"../\")\n",
    "import yaml\n",
    "import logging\n",
    "import requests\n",
    "from pprint import pprint\n",
    "import json\n",
    "import time\n",
    "import os\n",
    "from pymongo import MongoClient\n",
    "import dateparser\n",
    "import psutil\n",
    "from nlp_utils import NLPUtils\n",
    "from lda_module import LdaModule"
   ]
  },
  {
   "cell_type": "code",
   "execution_count": 3,
   "metadata": {},
   "outputs": [],
   "source": [
    "mongourl = \"mongodb://localhost:27017/\"\n",
    "MONGO_CLIENT = MongoClient(mongourl)"
   ]
  },
  {
   "cell_type": "code",
   "execution_count": 4,
   "metadata": {},
   "outputs": [],
   "source": [
    "collection = MONGO_CLIENT[\"news\"][\"article_en\"]\n",
    "not_processed_docs = collection.find()\n",
    "# for doc in not_processed_docs:\n",
    "#    print(doc)\n",
    "#    time.sleep(10)"
   ]
  },
  {
   "cell_type": "code",
   "execution_count": 5,
   "metadata": {},
   "outputs": [
    {
     "name": "stdout",
     "output_type": "stream",
     "text": [
      "0\n",
      "svmem(total=8589934592, available=3467591680, percent=59.6, used=4421881856, free=753553408, active=1808277504, inactive=2334334976, wired=2613604352)\n",
      "10000\n",
      "svmem(total=8589934592, available=2960384000, percent=65.5, used=4627853312, free=239079424, active=2078597120, inactive=2340159488, wired=2549256192)\n",
      "20000\n",
      "svmem(total=8589934592, available=2569011200, percent=70.1, used=4773064704, free=29667328, active=2288259072, inactive=2361139200, wired=2484805632)\n",
      "30000\n",
      "svmem(total=8589934592, available=2233610240, percent=74.0, used=4494913536, free=195264512, active=2041176064, inactive=1966297088, wired=2453737472)\n",
      "40000\n",
      "svmem(total=8589934592, available=2159792128, percent=74.9, used=4657033216, free=28495872, active=2135535616, inactive=2049372160, wired=2521497600)\n",
      "50000\n",
      "svmem(total=8589934592, available=2078982144, percent=75.8, used=4548829184, free=86376448, active=1995329536, inactive=1936846848, wired=2553499648)\n",
      "60000\n",
      "svmem(total=8589934592, available=1931239424, percent=77.5, used=4405493760, free=17608704, active=1916551168, inactive=1863376896, wired=2488942592)\n",
      "70000\n",
      "svmem(total=8589934592, available=2043682816, percent=76.2, used=4437663744, free=119758848, active=1926582272, inactive=1858969600, wired=2511081472)\n",
      "80000\n",
      "svmem(total=8589934592, available=1834524672, percent=78.6, used=4257902592, free=38731776, active=1786646528, inactive=1728503808, wired=2471256064)\n",
      "90000\n",
      "svmem(total=8589934592, available=1599389696, percent=81.4, used=4123992064, free=18673664, active=1584271360, inactive=1503072256, wired=2539720704)\n",
      "100000\n",
      "svmem(total=8589934592, available=1782587392, percent=79.2, used=4157767680, free=155742208, active=1628401664, inactive=1527504896, wired=2529366016)\n",
      "110000\n",
      "svmem(total=8589934592, available=1635807232, percent=81.0, used=4130402304, free=19423232, active=1619709952, inactive=1524912128, wired=2510692352)\n",
      "120000\n",
      "svmem(total=8589934592, available=1587929088, percent=81.5, used=3970863104, free=26914816, active=1567002624, inactive=1458946048, wired=2403860480)\n",
      "130000\n",
      "svmem(total=8589934592, available=1552113664, percent=81.9, used=3891630080, free=63959040, active=1491496960, inactive=1397633024, wired=2400133120)\n",
      "140000\n",
      "svmem(total=8589934592, available=1495986176, percent=82.6, used=3889078272, free=24817664, active=1479524352, inactive=1381433344, wired=2409553920)\n",
      "150000\n",
      "svmem(total=8589934592, available=1568911360, percent=81.7, used=3942846464, free=29544448, active=1544105984, inactive=1452601344, wired=2398740480)\n",
      "160000\n",
      "svmem(total=8589934592, available=1483747328, percent=82.7, used=3767021568, free=89772032, active=1398808576, inactive=1310683136, wired=2368212992)\n",
      "170000\n",
      "svmem(total=8589934592, available=1510510592, percent=82.4, used=3883454464, free=15380480, active=1500864512, inactive=1397825536, wired=2382589952)\n",
      "180000\n",
      "svmem(total=8589934592, available=1314758656, percent=84.7, used=3740446720, free=49741824, active=1267576832, inactive=1190641664, wired=2472869888)\n",
      "190000\n",
      "svmem(total=8589934592, available=1512861696, percent=82.4, used=3951464448, free=147365888, active=1369317376, inactive=1287823360, wired=2582147072)\n",
      "200000\n",
      "svmem(total=8589934592, available=1521012736, percent=82.3, used=3969376256, free=88821760, active=1436082176, inactive=1353166848, wired=2533294080)\n",
      "210000\n",
      "svmem(total=8589934592, available=1526779904, percent=82.2, used=3897864192, free=54403072, active=1459482624, inactive=1409646592, wired=2438381568)\n",
      "220000\n",
      "svmem(total=8589934592, available=1607716864, percent=81.3, used=4049195008, free=31698944, active=1579589632, inactive=1493749760, wired=2469605376)\n",
      "230000\n",
      "svmem(total=8589934592, available=1598623744, percent=81.4, used=4015112192, free=52613120, active=1548595200, inactive=1476050944, wired=2466516992)\n",
      "240000\n",
      "svmem(total=8589934592, available=1782890496, percent=79.2, used=3985645568, free=277458944, active=1509494784, inactive=1434411008, wired=2476150784)\n",
      "250000\n",
      "svmem(total=8589934592, available=1654439936, percent=80.7, used=4130816000, free=95043584, active=1563279360, inactive=1490276352, wired=2567536640)\n",
      "260000\n",
      "svmem(total=8589934592, available=1737613312, percent=79.8, used=4214165504, free=16490496, active=1724989440, inactive=1648205824, wired=2489176064)\n",
      "270000\n",
      "svmem(total=8589934592, available=1831116800, percent=78.7, used=4246593536, free=82341888, active=1749348352, inactive=1685975040, wired=2497245184)\n",
      "280000\n",
      "svmem(total=8589934592, available=1751269376, percent=79.6, used=4176953344, free=52465664, active=1702645760, inactive=1628491776, wired=2474307584)\n",
      "290000\n",
      "svmem(total=8589934592, available=1819062272, percent=78.8, used=4118024192, free=85352448, active=1737805824, inactive=1661411328, wired=2380218368)\n",
      "300000\n",
      "svmem(total=8589934592, available=1748131840, percent=79.6, used=4143403008, free=20840448, active=1733021696, inactive=1652756480, wired=2410381312)\n",
      "310000\n",
      "svmem(total=8589934592, available=1700806656, percent=80.2, used=4181372928, free=25382912, active=1752412160, inactive=1607860224, wired=2428960768)\n",
      "320000\n",
      "svmem(total=8589934592, available=1837871104, percent=78.6, used=4157112320, free=86401024, active=1754861568, inactive=1691705344, wired=2402250752)\n",
      "330000\n",
      "svmem(total=8589934592, available=1839771648, percent=78.6, used=4276375552, free=59432960, active=1784664064, inactive=1719988224, wired=2491711488)\n",
      "340000\n",
      "svmem(total=8589934592, available=1840730112, percent=78.6, used=4201185280, free=69021696, active=1775943680, inactive=1713713152, wired=2425241600)\n",
      "350000\n",
      "svmem(total=8589934592, available=1895972864, percent=77.9, used=4261785600, free=16617472, active=1881980928, inactive=1813270528, wired=2379804672)\n",
      "360000\n",
      "svmem(total=8589934592, available=2117099520, percent=75.4, used=4336455680, free=161198080, active=1959800832, inactive=1889841152, wired=2376654848)\n",
      "370000\n",
      "svmem(total=8589934592, available=1919467520, percent=77.7, used=4200493056, free=48349184, active=1873195008, inactive=1804292096, wired=2327298048)\n",
      "380000\n",
      "svmem(total=8589934592, available=1994002432, percent=76.8, used=4296671232, free=34807808, active=1962733568, inactive=1802547200, wired=2333937664)\n",
      "390000\n",
      "svmem(total=8589934592, available=1944285184, percent=77.4, used=4247023616, free=29782016, active=1919483904, inactive=1772707840, wired=2327539712)\n",
      "400000\n",
      "svmem(total=8589934592, available=1935077376, percent=77.5, used=4143357952, free=55840768, active=1882771456, inactive=1737859072, wired=2260586496)\n"
     ]
    }
   ],
   "source": [
    "training_set = []\n",
    "i = 0\n",
    "for document in not_processed_docs:\n",
    "    if i % 10000 == 0:\n",
    "        print(i)\n",
    "        print(psutil.virtual_memory())\n",
    "    training_set.append(document['text'])\n",
    "    i += 1"
   ]
  },
  {
   "cell_type": "code",
   "execution_count": null,
   "metadata": {},
   "outputs": [],
   "source": [
    "# Load custom stop words from file\n",
    "with open('custom_stop_words.json', 'r') as sw:\n",
    "    custom_stop_words = json.load(sw)\n",
    "custom_stop_words = custom_stop_words['s_words']"
   ]
  },
  {
   "cell_type": "code",
   "execution_count": 6,
   "metadata": {},
   "outputs": [],
   "source": [
    "nlp_utils = NLPUtils(lang='en', custom_stop_words = custom_stop_words)"
   ]
  },
  {
   "cell_type": "code",
   "execution_count": 7,
   "metadata": {},
   "outputs": [
    {
     "name": "stdout",
     "output_type": "stream",
     "text": [
      "Parsing articles...\n",
      "0\n",
      "100\n",
      "200\n",
      "300\n",
      "400\n",
      "500\n",
      "600\n",
      "700\n",
      "800\n",
      "900\n"
     ]
    }
   ],
   "source": [
    "# Some preparation before running LDA\n",
    "doc_collection = []\n",
    "print(\"Parsing articles...\")\n",
    "i = 0\n",
    "for doc in training_set[:1000]:\n",
    "    if i % 100 == 0: print(i)\n",
    "    tokens = nlp_utils.parse_text(doc)\n",
    "    doc_collection.append(tokens)\n",
    "    i += 1"
   ]
  },
  {
   "cell_type": "code",
   "execution_count": 8,
   "metadata": {},
   "outputs": [
    {
     "name": "stdout",
     "output_type": "stream",
     "text": [
      "Completed parsing 1000 articles\n",
      "... Building dictionary ...\n",
      "... Finding collocations ...\n",
      "... Building corpus ...\n",
      "... Building LDA model ...\n",
      "... Retrieving topics ...\n"
     ]
    }
   ],
   "source": [
    "print(\"Completed parsing {} articles\".format(len(doc_collection)))\n",
    "\n",
    "num_docs = len(doc_collection)\n",
    "num_topics = 20\n",
    "lda = LdaModule(lang = 'en', num_docs = num_docs, doc_collection = doc_collection, num_topics = num_topics, trained = False)\n",
    "lda.runLDA()\n",
    "\n",
    "docs_topics_dict = lda.get_docs_topics_dict()"
   ]
  },
  {
   "cell_type": "code",
   "execution_count": 9,
   "metadata": {},
   "outputs": [],
   "source": [
    "# == Saving model checkpoint ==\n",
    "lda.save_LDA_model()"
   ]
  }
 ],
 "metadata": {
  "kernelspec": {
   "display_name": "Python 3.7.6 64-bit ('research': conda)",
   "language": "python",
   "name": "python37664bitresearchconda7a6e84f595e54c6c827badd96b766ec6"
  },
  "language_info": {
   "codemirror_mode": {
    "name": "ipython",
    "version": 3
   },
   "file_extension": ".py",
   "mimetype": "text/x-python",
   "name": "python",
   "nbconvert_exporter": "python",
   "pygments_lexer": "ipython3",
   "version": "3.7.7"
  }
 },
 "nbformat": 4,
 "nbformat_minor": 4
}
