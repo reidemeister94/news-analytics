{
 "cells": [
  {
   "cell_type": "code",
   "execution_count": 1,
   "metadata": {},
   "outputs": [],
   "source": [
    "import spacy\n",
    "import json\n",
    "import datetime\n",
    "import ast\n",
    "import numpy as np\n",
    "import pandas as pd\n",
    "\n",
    "from gensim.utils import ClippedCorpus\n",
    "from gensim.models import Phrases, CoherenceModel\n",
    "from gensim import corpora, models\n",
    "\n",
    "from pymongo import MongoClient\n",
    "from itertools import chain"
   ]
  },
  {
   "cell_type": "code",
   "execution_count": 2,
   "metadata": {},
   "outputs": [],
   "source": [
    "'''import sys\n",
    "sys.path.append('../..')\n",
    "\n",
    "from core_modules.topic_extraction.lda_utils import LdaUtils\n",
    "from core_modules.topic_extraction.nlp_utils import NLPUtils\n",
    "from core_modules.topic_extraction.lda_module import LdaModule'''"
   ]
  },
  {
   "cell_type": "markdown",
   "metadata": {},
   "source": [
    "# Connection to mongo"
   ]
  },
  {
   "cell_type": "code",
   "execution_count": 4,
   "metadata": {},
   "outputs": [],
   "source": [
    "mongourl = \"mongodb://localhost:27017\"\n",
    "mongo_client = MongoClient(mongourl)\n",
    "\n",
    "collection = mongo_client[\"news\"][\"article_en\"]\n",
    "not_processed_docs = collection.find(\n",
    "    {\n",
    "        \"$or\": [\n",
    "            {\"processedEncoding\": False},\n",
    "            {\"processedEncoding\": {\"$exists\": False}},\n",
    "        ]\n",
    "    }\n",
    ").limit(1000)"
   ]
  },
  {
   "cell_type": "markdown",
   "metadata": {},
   "source": [
    "# Pre-processing documents"
   ]
  },
  {
   "cell_type": "code",
   "execution_count": 5,
   "metadata": {},
   "outputs": [],
   "source": [
    "nlp = spacy.load(\"en_core_web_md\")"
   ]
  },
  {
   "cell_type": "code",
   "execution_count": 6,
   "metadata": {},
   "outputs": [],
   "source": [
    "def fix_stop_words():\n",
    "    for word in nlp.Defaults.stop_words:\n",
    "        nlp.vocab[word].is_stop = True\n",
    "    return\n",
    "\n",
    "def add_custom_stop_words(custom_stop_words):\n",
    "    for cw in custom_stop_words:\n",
    "        nlp.vocab[cw].is_stop = True\n",
    "    return\n",
    "\n",
    "def sentence_tokenize(data):\n",
    "    return [sent for sent in data.sents]\n",
    "\n",
    "def lemmatize_tokens(data):\n",
    "    lemmas = []\n",
    "    for sent in data:\n",
    "        lemmas.append(\n",
    "            [\n",
    "                token.lemma_\n",
    "                for token in sent\n",
    "                if (\n",
    "                    not nlp.vocab[token.lower_].is_stop\n",
    "                    and not token.is_punct\n",
    "                    and len(token.text) > 1\n",
    "                )\n",
    "            ]\n",
    "        )\n",
    "    return lemmas\n",
    "\n",
    "def flatten_list(data):\n",
    "    return list(chain.from_iterable(data))\n",
    "\n",
    "fix_stop_words()"
   ]
  },
  {
   "cell_type": "code",
   "execution_count": 7,
   "metadata": {},
   "outputs": [],
   "source": [
    "def parse_text(raw_data):\n",
    "    doc = nlp(raw_data)\n",
    "    # Retrieve sentences\n",
    "    sentences = sentence_tokenize(doc)\n",
    "    # print(len(sentences))\n",
    "    # Lemmatize + remove stop words\n",
    "    lemmas = lemmatize_tokens(sentences)\n",
    "    # print(len(lemmas))\n",
    "    # Flatten results into a single list\n",
    "    parsed_text = flatten_list(lemmas)\n",
    "\n",
    "    return parsed_text"
   ]
  },
  {
   "cell_type": "markdown",
   "metadata": {},
   "source": [
    "Create list with parsed documents"
   ]
  },
  {
   "cell_type": "code",
   "execution_count": 8,
   "metadata": {},
   "outputs": [],
   "source": [
    "documents = []\n",
    "for doc in not_processed_docs:\n",
    "    parsed_doc = parse_text(doc[\"text\"])\n",
    "    documents.append(parsed_doc)"
   ]
  },
  {
   "cell_type": "markdown",
   "metadata": {},
   "source": [
    "# LDA utility functions"
   ]
  },
  {
   "cell_type": "code",
   "execution_count": 9,
   "metadata": {},
   "outputs": [],
   "source": [
    "def get_word_collocations(tokens):\n",
    "    bigrams = Phrases(tokens)\n",
    "    trigrams = Phrases(bigrams[tokens], min_count=1)\n",
    "    return list(trigrams[bigrams[tokens]])\n",
    "\n",
    "def string_to_list(tokens):\n",
    "    return ast.literal_eval(tokens)\n",
    "\n",
    "def save_lda_model(ldaModule, location):\n",
    "    with open(location + \".pickle\", \"wb\") as output:\n",
    "        pickle.dump(ldaModule, output, pickle.HIGHEST_PROTOCOL)\n",
    "\n",
    "def load_lda_model(location):\n",
    "    with open(location + \".pickle\", \"rb\") as input_file:\n",
    "        ldaModule = pickle.load(input_file)\n",
    "    return ldaModule"
   ]
  },
  {
   "cell_type": "markdown",
   "metadata": {},
   "source": [
    "# LDA Module implementation"
   ]
  },
  {
   "cell_type": "code",
   "execution_count": 10,
   "metadata": {},
   "outputs": [],
   "source": [
    "def build_dictionary(doc_collection, use_collocations=True, doc_threshold=3):\n",
    "    if use_collocations:\n",
    "        doc_collection = get_word_collocations(doc_collection)\n",
    "    else:\n",
    "        doc_collection = [string_to_list(t) for t in doc_collection]\n",
    "\n",
    "    dictionary = corpora.Dictionary(doc_collection)\n",
    "\n",
    "    if doc_threshold > 0:\n",
    "        dictionary.filter_extremes(no_below = doc_threshold)\n",
    "\n",
    "    return dictionary\n",
    "\n",
    "def build_corpus(doc_collection, dictionary):\n",
    "    corpus = [dictionary.doc2bow(list_of_tokens) for list_of_tokens in doc_collection]\n",
    "    return corpus\n",
    "\n",
    "def build_lda_model(corpus, dictionary, num_topics = 20, passes = 4, alpha = 0.01, eta = 0.01):\n",
    "    model = models.LdaModel(corpus,\n",
    "                            num_topics = num_topics,\n",
    "                            id2word = dictionary,\n",
    "                            passes = passes,\n",
    "                            alpha = [alpha] * num_topics,\n",
    "                            eta = [eta] * len(dictionary.keys()))\n",
    "    return model\n",
    "\n",
    "def get_topics(model, corpus, num_docs):\n",
    "    topics = [model[corpus[i]] for i in range(num_docs)]\n",
    "    return topics"
   ]
  },
  {
   "cell_type": "code",
   "execution_count": 11,
   "metadata": {},
   "outputs": [],
   "source": [
    "dictionary = build_dictionary(documents)\n",
    "corpus = build_corpus(documents, dictionary)"
   ]
  },
  {
   "cell_type": "markdown",
   "metadata": {},
   "source": [
    "# Topic Coherence"
   ]
  },
  {
   "cell_type": "code",
   "execution_count": 12,
   "metadata": {},
   "outputs": [],
   "source": [
    "def compute_coherence_values(documents, corpus, dictionary, k, a, b, passes):\n",
    "    model = build_lda_model(corpus, \n",
    "                            dictionary, \n",
    "                            num_topics = k,\n",
    "                            passes = passes,\n",
    "                            alpha = a,\n",
    "                            eta = b)\n",
    "    coherence_model_lda = CoherenceModel(model = model, \n",
    "                                         texts = documents, \n",
    "                                         dictionary = dictionary, \n",
    "                                         coherence='c_v')\n",
    "    return coherence_model_lda.get_coherence()"
   ]
  },
  {
   "cell_type": "code",
   "execution_count": 13,
   "metadata": {},
   "outputs": [],
   "source": [
    "# Topics range\n",
    "min_topics = 2\n",
    "max_topics = 11\n",
    "topics_range = range(min_topics, max_topics)\n",
    "\n",
    "# Alpha parameter\n",
    "alpha = list(np.arange(0.01, 1, 0.3))\n",
    "\n",
    "# Beta parameter\n",
    "beta = list(np.arange(0.01, 1, 0.3))"
   ]
  },
  {
   "cell_type": "code",
   "execution_count": 14,
   "metadata": {},
   "outputs": [],
   "source": [
    "num_docs = len(corpus)\n",
    "corpus_sets = [#ClippedCorpus(corpus, num_docs*0.25), \n",
    "               #ClippedCorpus(corpus, num_docs*0.5), \n",
    "               ClippedCorpus(corpus, int(num_docs*0.75)), \n",
    "               corpus]\n",
    "corpus_title = ['75% Corpus', '100% Corpus']"
   ]
  },
  {
   "cell_type": "code",
   "execution_count": 15,
   "metadata": {},
   "outputs": [],
   "source": [
    "model_results = {'Validation_Set': [],\n",
    "                 'Topics': [],\n",
    "                 'Alpha': [],\n",
    "                 'Beta': [],\n",
    "                 'Coherence': []\n",
    "                }"
   ]
  },
  {
   "cell_type": "code",
   "execution_count": 16,
   "metadata": {},
   "outputs": [
    {
     "name": "stdout",
     "output_type": "stream",
     "text": [
      "~~~~~~~~~~~~~~~~~~~~~~~~~~~~~~\n",
      "Starting corpus set 0\n",
      "~~~~~~~~~~~~~~~~~~~~~~~~~~~~~~\n",
      "~~~~~~~~~~~~~~~~~~~~~~~~~~~~~~\n",
      "Starting corpus set 1\n",
      "~~~~~~~~~~~~~~~~~~~~~~~~~~~~~~\n"
     ]
    }
   ],
   "source": [
    "# LDA model training passes\n",
    "passes = 5\n",
    "\n",
    "# iterate through validation corpuses\n",
    "for i in range(len(corpus_sets)):\n",
    "    # iterate through number of topics\n",
    "    print(\"~\"*30)\n",
    "    print(\"Starting corpus set {}\".format(i))\n",
    "    print(\"~\"*30)\n",
    "    for k in topics_range:\n",
    "        # iterate through alpha values\n",
    "        for a in alpha:\n",
    "            # iterare through beta values\n",
    "            for b in beta:\n",
    "                # get the coherence score for the given parameters\n",
    "                cv = compute_coherence_values(documents, \n",
    "                                              corpus = corpus_sets[i], \n",
    "                                              dictionary = dictionary, \n",
    "                                              k = k, a = a, b = b, passes = passes)\n",
    "                # Save the model results\n",
    "                model_results['Validation_Set'].append(corpus_title[i])\n",
    "                model_results['Topics'].append(k)\n",
    "                model_results['Alpha'].append(a)\n",
    "                model_results['Beta'].append(b)\n",
    "                model_results['Coherence'].append(cv)\n",
    "\n",
    "pd.DataFrame(model_results).to_csv('lda_tuning_results.csv', index=False)"
   ]
  },
  {
   "cell_type": "code",
   "execution_count": 17,
   "metadata": {},
   "outputs": [
    {
     "data": {
      "text/html": [
       "<div>\n",
       "<style scoped>\n",
       "    .dataframe tbody tr th:only-of-type {\n",
       "        vertical-align: middle;\n",
       "    }\n",
       "\n",
       "    .dataframe tbody tr th {\n",
       "        vertical-align: top;\n",
       "    }\n",
       "\n",
       "    .dataframe thead th {\n",
       "        text-align: right;\n",
       "    }\n",
       "</style>\n",
       "<table border=\"1\" class=\"dataframe\">\n",
       "  <thead>\n",
       "    <tr style=\"text-align: right;\">\n",
       "      <th></th>\n",
       "      <th>Validation_Set</th>\n",
       "      <th>Topics</th>\n",
       "      <th>Alpha</th>\n",
       "      <th>Beta</th>\n",
       "      <th>Coherence</th>\n",
       "    </tr>\n",
       "  </thead>\n",
       "  <tbody>\n",
       "    <tr>\n",
       "      <th>0</th>\n",
       "      <td>75% Corpus</td>\n",
       "      <td>2</td>\n",
       "      <td>0.01</td>\n",
       "      <td>0.01</td>\n",
       "      <td>0.373680</td>\n",
       "    </tr>\n",
       "    <tr>\n",
       "      <th>1</th>\n",
       "      <td>75% Corpus</td>\n",
       "      <td>2</td>\n",
       "      <td>0.01</td>\n",
       "      <td>0.31</td>\n",
       "      <td>0.429682</td>\n",
       "    </tr>\n",
       "    <tr>\n",
       "      <th>2</th>\n",
       "      <td>75% Corpus</td>\n",
       "      <td>2</td>\n",
       "      <td>0.01</td>\n",
       "      <td>0.61</td>\n",
       "      <td>0.398368</td>\n",
       "    </tr>\n",
       "    <tr>\n",
       "      <th>3</th>\n",
       "      <td>75% Corpus</td>\n",
       "      <td>2</td>\n",
       "      <td>0.01</td>\n",
       "      <td>0.91</td>\n",
       "      <td>0.392982</td>\n",
       "    </tr>\n",
       "    <tr>\n",
       "      <th>4</th>\n",
       "      <td>75% Corpus</td>\n",
       "      <td>2</td>\n",
       "      <td>0.31</td>\n",
       "      <td>0.01</td>\n",
       "      <td>0.467097</td>\n",
       "    </tr>\n",
       "  </tbody>\n",
       "</table>\n",
       "</div>"
      ],
      "text/plain": [
       "  Validation_Set  Topics  Alpha  Beta  Coherence\n",
       "0     75% Corpus       2   0.01  0.01   0.373680\n",
       "1     75% Corpus       2   0.01  0.31   0.429682\n",
       "2     75% Corpus       2   0.01  0.61   0.398368\n",
       "3     75% Corpus       2   0.01  0.91   0.392982\n",
       "4     75% Corpus       2   0.31  0.01   0.467097"
      ]
     },
     "execution_count": 17,
     "metadata": {},
     "output_type": "execute_result"
    }
   ],
   "source": [
    "res = pd.read_csv('lda_tuning_results.csv')\n",
    "res.head()"
   ]
  },
  {
   "cell_type": "code",
   "execution_count": 19,
   "metadata": {},
   "outputs": [],
   "source": [
    "#res['Validation_Set'] = res['Validation_Set'].map(lambda x: 75 if x == \"75% Corpus\" else 100)\n",
    "res_75 = res[res['Validation_Set'] == \"75% Corpus\"]\n",
    "res_100 = res[res['Validation_Set'] == \"100% Corpus\"]"
   ]
  },
  {
   "cell_type": "code",
   "execution_count": 20,
   "metadata": {},
   "outputs": [
    {
     "name": "stdout",
     "output_type": "stream",
     "text": [
      "144\n",
      "144\n"
     ]
    }
   ],
   "source": [
    "print(len(res_75))\n",
    "print(len(res_100))"
   ]
  },
  {
   "cell_type": "code",
   "execution_count": 21,
   "metadata": {},
   "outputs": [],
   "source": [
    "import seaborn as sns\n",
    "import matplotlib.pyplot as plt"
   ]
  },
  {
   "cell_type": "code",
   "execution_count": 22,
   "metadata": {},
   "outputs": [],
   "source": [
    "sns.set(style=\"darkgrid\")"
   ]
  },
  {
   "cell_type": "code",
   "execution_count": 61,
   "metadata": {},
   "outputs": [
    {
     "data": {
      "text/plain": [
       "<seaborn.axisgrid.PairGrid at 0x7ffa711119d0>"
      ]
     },
     "execution_count": 61,
     "metadata": {},
     "output_type": "execute_result"
    },
    {
     "data": {
      "image/png": "[encoded data removed]",
      "text/plain": [
       "<Figure size 1440x1440 with 20 Axes>"
      ]
     },
     "metadata": {},
     "output_type": "display_data"
    }
   ],
   "source": [
    "grid = sns.pairplot(res_75, palette=\"tab20c\", height=5)\n",
    "grid.map(plt.scatter, marker=\"o\")"
   ]
  },
  {
   "cell_type": "code",
   "execution_count": 64,
   "metadata": {},
   "outputs": [
    {
     "data": {
      "text/html": [
       "<div>\n",
       "<style scoped>\n",
       "    .dataframe tbody tr th:only-of-type {\n",
       "        vertical-align: middle;\n",
       "    }\n",
       "\n",
       "    .dataframe tbody tr th {\n",
       "        vertical-align: top;\n",
       "    }\n",
       "\n",
       "    .dataframe thead th {\n",
       "        text-align: right;\n",
       "    }\n",
       "</style>\n",
       "<table border=\"1\" class=\"dataframe\">\n",
       "  <thead>\n",
       "    <tr style=\"text-align: right;\">\n",
       "      <th></th>\n",
       "      <th>Validation_Set</th>\n",
       "      <th>Topics</th>\n",
       "      <th>Alpha</th>\n",
       "      <th>Beta</th>\n",
       "      <th>Coherence</th>\n",
       "    </tr>\n",
       "  </thead>\n",
       "  <tbody>\n",
       "    <tr>\n",
       "      <th>80</th>\n",
       "      <td>75% Corpus</td>\n",
       "      <td>7</td>\n",
       "      <td>0.01</td>\n",
       "      <td>0.01</td>\n",
       "      <td>0.398038</td>\n",
       "    </tr>\n",
       "    <tr>\n",
       "      <th>81</th>\n",
       "      <td>75% Corpus</td>\n",
       "      <td>7</td>\n",
       "      <td>0.01</td>\n",
       "      <td>0.31</td>\n",
       "      <td>0.440564</td>\n",
       "    </tr>\n",
       "    <tr>\n",
       "      <th>82</th>\n",
       "      <td>75% Corpus</td>\n",
       "      <td>7</td>\n",
       "      <td>0.01</td>\n",
       "      <td>0.61</td>\n",
       "      <td>0.475087</td>\n",
       "    </tr>\n",
       "    <tr>\n",
       "      <th>83</th>\n",
       "      <td>75% Corpus</td>\n",
       "      <td>7</td>\n",
       "      <td>0.01</td>\n",
       "      <td>0.91</td>\n",
       "      <td>0.361247</td>\n",
       "    </tr>\n",
       "    <tr>\n",
       "      <th>84</th>\n",
       "      <td>75% Corpus</td>\n",
       "      <td>7</td>\n",
       "      <td>0.31</td>\n",
       "      <td>0.01</td>\n",
       "      <td>0.417640</td>\n",
       "    </tr>\n",
       "    <tr>\n",
       "      <th>85</th>\n",
       "      <td>75% Corpus</td>\n",
       "      <td>7</td>\n",
       "      <td>0.31</td>\n",
       "      <td>0.31</td>\n",
       "      <td>0.434881</td>\n",
       "    </tr>\n",
       "    <tr>\n",
       "      <th>86</th>\n",
       "      <td>75% Corpus</td>\n",
       "      <td>7</td>\n",
       "      <td>0.31</td>\n",
       "      <td>0.61</td>\n",
       "      <td>0.410011</td>\n",
       "    </tr>\n",
       "    <tr>\n",
       "      <th>87</th>\n",
       "      <td>75% Corpus</td>\n",
       "      <td>7</td>\n",
       "      <td>0.31</td>\n",
       "      <td>0.91</td>\n",
       "      <td>0.349700</td>\n",
       "    </tr>\n",
       "    <tr>\n",
       "      <th>88</th>\n",
       "      <td>75% Corpus</td>\n",
       "      <td>7</td>\n",
       "      <td>0.61</td>\n",
       "      <td>0.01</td>\n",
       "      <td>0.416277</td>\n",
       "    </tr>\n",
       "    <tr>\n",
       "      <th>89</th>\n",
       "      <td>75% Corpus</td>\n",
       "      <td>7</td>\n",
       "      <td>0.61</td>\n",
       "      <td>0.31</td>\n",
       "      <td>0.381594</td>\n",
       "    </tr>\n",
       "    <tr>\n",
       "      <th>90</th>\n",
       "      <td>75% Corpus</td>\n",
       "      <td>7</td>\n",
       "      <td>0.61</td>\n",
       "      <td>0.61</td>\n",
       "      <td>0.346575</td>\n",
       "    </tr>\n",
       "    <tr>\n",
       "      <th>91</th>\n",
       "      <td>75% Corpus</td>\n",
       "      <td>7</td>\n",
       "      <td>0.61</td>\n",
       "      <td>0.91</td>\n",
       "      <td>0.360603</td>\n",
       "    </tr>\n",
       "    <tr>\n",
       "      <th>92</th>\n",
       "      <td>75% Corpus</td>\n",
       "      <td>7</td>\n",
       "      <td>0.91</td>\n",
       "      <td>0.01</td>\n",
       "      <td>0.397555</td>\n",
       "    </tr>\n",
       "    <tr>\n",
       "      <th>93</th>\n",
       "      <td>75% Corpus</td>\n",
       "      <td>7</td>\n",
       "      <td>0.91</td>\n",
       "      <td>0.31</td>\n",
       "      <td>0.408196</td>\n",
       "    </tr>\n",
       "    <tr>\n",
       "      <th>94</th>\n",
       "      <td>75% Corpus</td>\n",
       "      <td>7</td>\n",
       "      <td>0.91</td>\n",
       "      <td>0.61</td>\n",
       "      <td>0.434749</td>\n",
       "    </tr>\n",
       "    <tr>\n",
       "      <th>95</th>\n",
       "      <td>75% Corpus</td>\n",
       "      <td>7</td>\n",
       "      <td>0.91</td>\n",
       "      <td>0.91</td>\n",
       "      <td>0.352655</td>\n",
       "    </tr>\n",
       "  </tbody>\n",
       "</table>\n",
       "</div>"
      ],
      "text/plain": [
       "   Validation_Set  Topics  Alpha  Beta  Coherence\n",
       "80     75% Corpus       7   0.01  0.01   0.398038\n",
       "81     75% Corpus       7   0.01  0.31   0.440564\n",
       "82     75% Corpus       7   0.01  0.61   0.475087\n",
       "83     75% Corpus       7   0.01  0.91   0.361247\n",
       "84     75% Corpus       7   0.31  0.01   0.417640\n",
       "85     75% Corpus       7   0.31  0.31   0.434881\n",
       "86     75% Corpus       7   0.31  0.61   0.410011\n",
       "87     75% Corpus       7   0.31  0.91   0.349700\n",
       "88     75% Corpus       7   0.61  0.01   0.416277\n",
       "89     75% Corpus       7   0.61  0.31   0.381594\n",
       "90     75% Corpus       7   0.61  0.61   0.346575\n",
       "91     75% Corpus       7   0.61  0.91   0.360603\n",
       "92     75% Corpus       7   0.91  0.01   0.397555\n",
       "93     75% Corpus       7   0.91  0.31   0.408196\n",
       "94     75% Corpus       7   0.91  0.61   0.434749\n",
       "95     75% Corpus       7   0.91  0.91   0.352655"
      ]
     },
     "execution_count": 64,
     "metadata": {},
     "output_type": "execute_result"
    }
   ],
   "source": [
    "res_75_k7 = res_75[res_75['Topics'] == 7]\n",
    "res_75_k7"
   ]
  },
  {
   "cell_type": "code",
   "execution_count": 70,
   "metadata": {},
   "outputs": [
    {
     "name": "stdout",
     "output_type": "stream",
     "text": [
      "0.4720277648058514\n"
     ]
    }
   ],
   "source": [
    "cv = compute_coherence_values(documents, \n",
    "                              corpus = corpus, \n",
    "                              dictionary = dictionary, \n",
    "                              k = 7, a = 0.01, b = 0.31, passes = 10)\n",
    "print(cv)"
   ]
  },
  {
   "cell_type": "code",
   "execution_count": 68,
   "metadata": {},
   "outputs": [
    {
     "data": {
      "text/html": [
       "<div>\n",
       "<style scoped>\n",
       "    .dataframe tbody tr th:only-of-type {\n",
       "        vertical-align: middle;\n",
       "    }\n",
       "\n",
       "    .dataframe tbody tr th {\n",
       "        vertical-align: top;\n",
       "    }\n",
       "\n",
       "    .dataframe thead th {\n",
       "        text-align: right;\n",
       "    }\n",
       "</style>\n",
       "<table border=\"1\" class=\"dataframe\">\n",
       "  <thead>\n",
       "    <tr style=\"text-align: right;\">\n",
       "      <th></th>\n",
       "      <th>Validation_Set</th>\n",
       "      <th>Topics</th>\n",
       "      <th>Alpha</th>\n",
       "      <th>Beta</th>\n",
       "      <th>Coherence</th>\n",
       "    </tr>\n",
       "  </thead>\n",
       "  <tbody>\n",
       "    <tr>\n",
       "      <th>145</th>\n",
       "      <td>100% Corpus</td>\n",
       "      <td>2</td>\n",
       "      <td>0.01</td>\n",
       "      <td>0.31</td>\n",
       "      <td>0.473459</td>\n",
       "    </tr>\n",
       "  </tbody>\n",
       "</table>\n",
       "</div>"
      ],
      "text/plain": [
       "    Validation_Set  Topics  Alpha  Beta  Coherence\n",
       "145    100% Corpus       2   0.01  0.31   0.473459"
      ]
     },
     "execution_count": 68,
     "metadata": {},
     "output_type": "execute_result"
    }
   ],
   "source": [
    "c = res_100['Coherence']\n",
    "info_max_c = res_100[res_100['Coherence'] == max(res_100['Coherence'])]\n",
    "info_max_c"
   ]
  },
  {
   "cell_type": "code",
   "execution_count": null,
   "metadata": {},
   "outputs": [],
   "source": []
  }
 ],
 "metadata": {
  "kernelspec": {
   "display_name": "Python 3.7.6 64-bit ('research': conda)",
   "language": "python",
   "name": "python37664bitresearchconda7a6e84f595e54c6c827badd96b766ec6"
  },
  "language_info": {
   "codemirror_mode": {
    "name": "ipython",
    "version": 3
   },
   "file_extension": ".py",
   "mimetype": "text/x-python",
   "name": "python",
   "nbconvert_exporter": "python",
   "pygments_lexer": "ipython3",
   "version": "3.7.7"
  }
 },
 "nbformat": 4,
 "nbformat_minor": 4
}
