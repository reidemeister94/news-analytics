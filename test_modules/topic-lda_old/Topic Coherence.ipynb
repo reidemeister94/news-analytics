{
 "cells": [
  {
   "cell_type": "code",
   "execution_count": 40,
   "metadata": {},
   "outputs": [],
   "source": [
    "import spacy\n",
    "import json\n",
    "import datetime\n",
    "import ast\n",
    "import numpy as np\n",
    "import pandas as pd\n",
    "\n",
    "from gensim.utils import ClippedCorpus\n",
    "from gensim.models import Phrases, CoherenceModel\n",
    "from gensim import corpora, models\n",
    "\n",
    "from pymongo import MongoClient\n",
    "from itertools import chain"
   ]
  },
  {
   "cell_type": "code",
   "execution_count": 2,
   "metadata": {},
   "outputs": [],
   "source": [
    "'''import sys\n",
    "sys.path.append('../..')\n",
    "\n",
    "from core_modules.topic_extraction.lda_utils import LdaUtils\n",
    "from core_modules.topic_extraction.nlp_utils import NLPUtils\n",
    "from core_modules.topic_extraction.lda_module import LdaModule'''"
   ]
  },
  {
   "cell_type": "markdown",
   "metadata": {},
   "source": [
    "# Connection to mongo"
   ]
  },
  {
   "cell_type": "code",
   "execution_count": 3,
   "metadata": {},
   "outputs": [],
   "source": [
    "mongourl = \"mongodb://localhost:27017\"\n",
    "mongo_client = MongoClient(mongourl)\n",
    "\n",
    "collection = mongo_client[\"news\"][\"article\"]\n",
    "not_processed_docs = collection.find(\n",
    "    {\n",
    "        \"$or\": [\n",
    "            {\"processedEncoding\": False},\n",
    "            {\"processedEncoding\": {\"$exists\": False}},\n",
    "        ]\n",
    "    }\n",
    ").limit(100)"
   ]
  },
  {
   "cell_type": "markdown",
   "metadata": {},
   "source": [
    "# Pre-processing documents"
   ]
  },
  {
   "cell_type": "code",
   "execution_count": 5,
   "metadata": {},
   "outputs": [],
   "source": [
    "nlp = spacy.load(\"en_core_web_md\")"
   ]
  },
  {
   "cell_type": "code",
   "execution_count": 10,
   "metadata": {},
   "outputs": [],
   "source": [
    "def fix_stop_words():\n",
    "    for word in nlp.Defaults.stop_words:\n",
    "        nlp.vocab[word].is_stop = True\n",
    "    return\n",
    "\n",
    "def add_custom_stop_words(custom_stop_words):\n",
    "    for cw in custom_stop_words:\n",
    "        nlp.vocab[cw].is_stop = True\n",
    "    return\n",
    "\n",
    "def sentence_tokenize(data):\n",
    "    return [sent for sent in data.sents]\n",
    "\n",
    "def lemmatize_tokens(data):\n",
    "    lemmas = []\n",
    "    for sent in data:\n",
    "        lemmas.append(\n",
    "            [\n",
    "                token.lemma_\n",
    "                for token in sent\n",
    "                if (\n",
    "                    not nlp.vocab[token.lower_].is_stop\n",
    "                    and not token.is_punct\n",
    "                    and len(token.text) > 1\n",
    "                )\n",
    "            ]\n",
    "        )\n",
    "    return lemmas\n",
    "\n",
    "def flatten_list(data):\n",
    "    return list(chain.from_iterable(data))\n",
    "\n",
    "fix_stop_words()"
   ]
  },
  {
   "cell_type": "code",
   "execution_count": 11,
   "metadata": {},
   "outputs": [],
   "source": [
    "def parse_text(raw_data):\n",
    "    doc = nlp(raw_data)\n",
    "    # Retrieve sentences\n",
    "    sentences = sentence_tokenize(doc)\n",
    "    # print(len(sentences))\n",
    "    # Lemmatize + remove stop words\n",
    "    lemmas = lemmatize_tokens(sentences)\n",
    "    # print(len(lemmas))\n",
    "    # Flatten results into a single list\n",
    "    parsed_text = flatten_list(lemmas)\n",
    "\n",
    "    return parsed_text"
   ]
  },
  {
   "cell_type": "markdown",
   "metadata": {},
   "source": [
    "Create list with parsed documents"
   ]
  },
  {
   "cell_type": "code",
   "execution_count": 14,
   "metadata": {},
   "outputs": [],
   "source": [
    "documents = []\n",
    "for doc in not_processed_docs:\n",
    "    parsed_doc = parse_text(doc[\"text\"])\n",
    "    documents.append(parsed_doc)"
   ]
  },
  {
   "cell_type": "markdown",
   "metadata": {},
   "source": [
    "# LDA utility functions"
   ]
  },
  {
   "cell_type": "code",
   "execution_count": 23,
   "metadata": {},
   "outputs": [],
   "source": [
    "def get_word_collocations(tokens):\n",
    "    bigrams = Phrases(tokens)\n",
    "    trigrams = Phrases(bigrams[tokens], min_count=1)\n",
    "    return list(trigrams[bigrams[tokens]])\n",
    "\n",
    "def string_to_list(tokens):\n",
    "    return ast.literal_eval(tokens)\n",
    "\n",
    "def save_lda_model(ldaModule, location):\n",
    "    with open(location + \".pickle\", \"wb\") as output:\n",
    "        pickle.dump(ldaModule, output, pickle.HIGHEST_PROTOCOL)\n",
    "\n",
    "def load_lda_model(location):\n",
    "    with open(location + \".pickle\", \"rb\") as input_file:\n",
    "        ldaModule = pickle.load(input_file)\n",
    "    return ldaModule"
   ]
  },
  {
   "cell_type": "markdown",
   "metadata": {},
   "source": [
    "# LDA Module implementation"
   ]
  },
  {
   "cell_type": "code",
   "execution_count": 75,
   "metadata": {},
   "outputs": [],
   "source": [
    "def build_dictionary(doc_collection, use_collocations=True, doc_threshold=3):\n",
    "    if use_collocations:\n",
    "        doc_collection = get_word_collocations(doc_collection)\n",
    "    else:\n",
    "        doc_collection = [string_to_list(t) for t in doc_collection]\n",
    "\n",
    "    dictionary = corpora.Dictionary(doc_collection)\n",
    "\n",
    "    if doc_threshold > 0:\n",
    "        dictionary.filter_extremes(no_below = doc_threshold)\n",
    "\n",
    "    return dictionary\n",
    "\n",
    "def build_corpus(doc_collection, dictionary):\n",
    "    corpus = [dictionary.doc2bow(list_of_tokens) for list_of_tokens in doc_collection]\n",
    "    return corpus\n",
    "\n",
    "def build_lda_model(corpus, dictionary, num_topics = 20, passes = 4, alpha = 0.01, eta = 0.01):\n",
    "    model = models.LdaModel(corpus,\n",
    "                            num_topics = num_topics,\n",
    "                            id2word = dictionary,\n",
    "                            passes = passes,\n",
    "                            alpha = [alpha] * num_topics,\n",
    "                            eta = [eta] * len(dictionary.keys()))\n",
    "    return model\n",
    "\n",
    "def get_topics(model, corpus, num_docs):\n",
    "    topics = [model[corpus[i]] for i in range(num_docs)]\n",
    "    return topics"
   ]
  },
  {
   "cell_type": "code",
   "execution_count": 76,
   "metadata": {},
   "outputs": [],
   "source": [
    "dictionary = build_dictionary(documents)\n",
    "corpus = build_corpus(documents, dictionary)"
   ]
  },
  {
   "cell_type": "markdown",
   "metadata": {},
   "source": [
    "# Topic Coherence"
   ]
  },
  {
   "cell_type": "code",
   "execution_count": 77,
   "metadata": {},
   "outputs": [],
   "source": [
    "def compute_coherence_values(documents, corpus, dictionary, k, a, b, passes):\n",
    "    model = build_lda_model(corpus, \n",
    "                            dictionary, \n",
    "                            num_topics = k,\n",
    "                            passes = passes,\n",
    "                            alpha = a,\n",
    "                            eta = b)\n",
    "    coherence_model_lda = CoherenceModel(model = model, \n",
    "                                         texts = documents, \n",
    "                                         dictionary = dictionary, \n",
    "                                         coherence='c_v')\n",
    "    return coherence_model_lda.get_coherence()"
   ]
  },
  {
   "cell_type": "code",
   "execution_count": 78,
   "metadata": {},
   "outputs": [],
   "source": [
    "# Topics range\n",
    "min_topics = 2\n",
    "max_topics = 11\n",
    "topics_range = range(min_topics, max_topics)\n",
    "\n",
    "# Alpha parameter\n",
    "alpha = list(np.arange(0.01, 1, 0.3))\n",
    "\n",
    "# Beta parameter\n",
    "beta = list(np.arange(0.01, 1, 0.3))"
   ]
  },
  {
   "cell_type": "code",
   "execution_count": 79,
   "metadata": {},
   "outputs": [],
   "source": [
    "num_docs = len(corpus)\n",
    "corpus_sets = [#ClippedCorpus(corpus, num_docs*0.25), \n",
    "               #ClippedCorpus(corpus, num_docs*0.5), \n",
    "               ClippedCorpus(corpus, int(num_docs*0.75)), \n",
    "               corpus]\n",
    "corpus_title = ['75% Corpus', '100% Corpus']"
   ]
  },
  {
   "cell_type": "code",
   "execution_count": 80,
   "metadata": {},
   "outputs": [],
   "source": [
    "model_results = {'Validation_Set': [],\n",
    "                 'Topics': [],\n",
    "                 'Alpha': [],\n",
    "                 'Beta': [],\n",
    "                 'Coherence': []\n",
    "                }"
   ]
  },
  {
   "cell_type": "code",
   "execution_count": null,
   "metadata": {},
   "outputs": [],
   "source": [
    "# LDA model training passes\n",
    "passes = 10\n",
    "\n",
    "# iterate through validation corpuses\n",
    "for i in range(len(corpus_sets)):\n",
    "    # iterate through number of topics\n",
    "    print(\"~\"*30)\n",
    "    print(\"Starting corpus set {}\".format(i))\n",
    "    print(\"~\"*30)\n",
    "    for k in topics_range:\n",
    "        # iterate through alpha values\n",
    "        for a in alpha:\n",
    "            # iterare through beta values\n",
    "            for b in beta:\n",
    "                # get the coherence score for the given parameters\n",
    "                cv = compute_coherence_values(documents, \n",
    "                                              corpus = corpus_sets[i], \n",
    "                                              dictionary = dictionary, \n",
    "                                              k = k, a = a, b = b, passes = passes)\n",
    "                # Save the model results\n",
    "                model_results['Validation_Set'].append(corpus_title[i])\n",
    "                model_results['Topics'].append(k)\n",
    "                model_results['Alpha'].append(a)\n",
    "                model_results['Beta'].append(b)\n",
    "                model_results['Coherence'].append(cv)\n",
    "\n",
    "pd.DataFrame(model_results).to_csv('lda_tuning_results.csv', index=False)"
   ]
  },
  {
   "cell_type": "code",
   "execution_count": 102,
   "metadata": {},
   "outputs": [
    {
     "data": {
      "text/html": [
       "<div>\n",
       "<style scoped>\n",
       "    .dataframe tbody tr th:only-of-type {\n",
       "        vertical-align: middle;\n",
       "    }\n",
       "\n",
       "    .dataframe tbody tr th {\n",
       "        vertical-align: top;\n",
       "    }\n",
       "\n",
       "    .dataframe thead th {\n",
       "        text-align: right;\n",
       "    }\n",
       "</style>\n",
       "<table border=\"1\" class=\"dataframe\">\n",
       "  <thead>\n",
       "    <tr style=\"text-align: right;\">\n",
       "      <th></th>\n",
       "      <th>Validation_Set</th>\n",
       "      <th>Topics</th>\n",
       "      <th>Alpha</th>\n",
       "      <th>Beta</th>\n",
       "      <th>Coherence</th>\n",
       "    </tr>\n",
       "  </thead>\n",
       "  <tbody>\n",
       "    <tr>\n",
       "      <th>0</th>\n",
       "      <td>75% Corpus</td>\n",
       "      <td>2</td>\n",
       "      <td>0.01</td>\n",
       "      <td>0.01</td>\n",
       "      <td>0.290538</td>\n",
       "    </tr>\n",
       "    <tr>\n",
       "      <th>1</th>\n",
       "      <td>75% Corpus</td>\n",
       "      <td>2</td>\n",
       "      <td>0.01</td>\n",
       "      <td>0.31</td>\n",
       "      <td>0.279537</td>\n",
       "    </tr>\n",
       "    <tr>\n",
       "      <th>2</th>\n",
       "      <td>75% Corpus</td>\n",
       "      <td>2</td>\n",
       "      <td>0.01</td>\n",
       "      <td>0.61</td>\n",
       "      <td>0.322594</td>\n",
       "    </tr>\n",
       "    <tr>\n",
       "      <th>3</th>\n",
       "      <td>75% Corpus</td>\n",
       "      <td>2</td>\n",
       "      <td>0.01</td>\n",
       "      <td>0.91</td>\n",
       "      <td>0.248673</td>\n",
       "    </tr>\n",
       "    <tr>\n",
       "      <th>4</th>\n",
       "      <td>75% Corpus</td>\n",
       "      <td>2</td>\n",
       "      <td>0.31</td>\n",
       "      <td>0.01</td>\n",
       "      <td>0.294793</td>\n",
       "    </tr>\n",
       "  </tbody>\n",
       "</table>\n",
       "</div>"
      ],
      "text/plain": [
       "  Validation_Set  Topics  Alpha  Beta  Coherence\n",
       "0     75% Corpus       2   0.01  0.01   0.290538\n",
       "1     75% Corpus       2   0.01  0.31   0.279537\n",
       "2     75% Corpus       2   0.01  0.61   0.322594\n",
       "3     75% Corpus       2   0.01  0.91   0.248673\n",
       "4     75% Corpus       2   0.31  0.01   0.294793"
      ]
     },
     "execution_count": 102,
     "metadata": {},
     "output_type": "execute_result"
    }
   ],
   "source": [
    "res = pd.read_csv('lda_tuning_results.csv')\n",
    "res.head()"
   ]
  },
  {
   "cell_type": "code",
   "execution_count": 103,
   "metadata": {},
   "outputs": [],
   "source": [
    "#res['Validation_Set'] = res['Validation_Set'].map(lambda x: 75 if x == \"75% Corpus\" else 100)\n",
    "res_75 = res[res['Validation_Set'] == \"75% Corpus\"]\n",
    "res_100 = res[res['Validation_Set'] == \"100% Corpus\"]"
   ]
  },
  {
   "cell_type": "code",
   "execution_count": 105,
   "metadata": {},
   "outputs": [
    {
     "name": "stdout",
     "output_type": "stream",
     "text": [
      "144\n",
      "144\n"
     ]
    }
   ],
   "source": [
    "print(len(res_75))\n",
    "print(len(res_100))"
   ]
  },
  {
   "cell_type": "code",
   "execution_count": 107,
   "metadata": {},
   "outputs": [],
   "source": [
    "import seaborn as sns\n",
    "import matplotlib.pyplot as plt"
   ]
  },
  {
   "cell_type": "code",
   "execution_count": 108,
   "metadata": {},
   "outputs": [],
   "source": [
    "sns.set(style=\"darkgrid\")"
   ]
  },
  {
   "cell_type": "code",
   "execution_count": 129,
   "metadata": {},
   "outputs": [
    {
     "data": {
      "image/png": "[encoded data removed]",
      "text/plain": [
       "<Figure size 1800x720 with 9 Axes>"
      ]
     },
     "metadata": {},
     "output_type": "display_data"
    }
   ],
   "source": [
    "grid = sns.FacetGrid(res_75, col=\"Topics\", palette=\"tab20c\", col_wrap=5, height=5)\n",
    "grid.map(plt.plot, \"Alpha\", \"Coherence\", marker=\"o\")\n",
    "grid.set(xticks=np.arange(1), yticks=[0.1, 0.2, 0.3, 0.4, 0.5],\n",
    "         xlim=(-0.1, 1), ylim=(0.2, 0.6))\n",
    "grid.fig.tight_layout(w_pad=1)"
   ]
  },
  {
   "cell_type": "code",
   "execution_count": null,
   "metadata": {},
   "outputs": [],
   "source": []
  }
 ],
 "metadata": {
  "kernelspec": {
   "display_name": "Python 3.7.6 64-bit ('research': conda)",
   "language": "python",
   "name": "python37664bitresearchconda7a6e84f595e54c6c827badd96b766ec6"
  },
  "language_info": {
   "codemirror_mode": {
    "name": "ipython",
    "version": 3
   },
   "file_extension": ".py",
   "mimetype": "text/x-python",
   "name": "python",
   "nbconvert_exporter": "python",
   "pygments_lexer": "ipython3",
   "version": "3.7.7"
  }
 },
 "nbformat": 4,
 "nbformat_minor": 4
}
