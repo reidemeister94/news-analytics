{
 "cells": [
  {
   "cell_type": "code",
   "execution_count": 1,
   "metadata": {
    "colab": {},
    "colab_type": "code",
    "id": "wSIXNM1_XInT"
   },
   "outputs": [],
   "source": [
    "import pandas as pd\n",
    "import numpy as np\n",
    "\n",
    "import gensim\n",
    "import gensim.corpora as corpora\n",
    "#from gensim.models import CoherenceModel <-- lda model evaluation\n",
    "from gensim import models\n",
    "from gensim.models import Phrases\n",
    "\n",
    "import spacy\n",
    "\n",
    "from pprint import pprint"
   ]
  },
  {
   "cell_type": "code",
   "execution_count": 2,
   "metadata": {
    "colab": {},
    "colab_type": "code",
    "id": "X0p3mOtOXInh"
   },
   "outputs": [],
   "source": [
    "data = pd.read_csv('articles_bbc_2018_01_30.csv')"
   ]
  },
  {
   "cell_type": "code",
   "execution_count": 3,
   "metadata": {
    "colab": {},
    "colab_type": "code",
    "id": "2Kh7j_HBXInx"
   },
   "outputs": [],
   "source": [
    "data = data.dropna().reset_index(drop=True)"
   ]
  },
  {
   "cell_type": "code",
   "execution_count": 4,
   "metadata": {
    "colab": {
     "base_uri": "https://localhost:8080/",
     "height": 34
    },
    "colab_type": "code",
    "id": "i5As9JcCXIn1",
    "outputId": "6225943b-ec82-4b19-86d5-997f566b0017"
   },
   "outputs": [
    {
     "data": {
      "text/plain": [
       "(308, 2)"
      ]
     },
     "execution_count": 4,
     "metadata": {},
     "output_type": "execute_result"
    }
   ],
   "source": [
    "data.shape"
   ]
  },
  {
   "cell_type": "code",
   "execution_count": 5,
   "metadata": {},
   "outputs": [],
   "source": [
    "nlp = spacy.load(\"en_core_web_md\")"
   ]
  },
  {
   "cell_type": "code",
   "execution_count": 6,
   "metadata": {},
   "outputs": [],
   "source": [
    "nlp.vocab['\\n\\n'].is_stop = True\n",
    "nlp.vocab['\\r\\n\\r\\n'].is_stop = True"
   ]
  },
  {
   "cell_type": "code",
   "execution_count": 7,
   "metadata": {},
   "outputs": [],
   "source": [
    "# Workaround to fix spaCy's stopwords not being recognized\n",
    "for word in nlp.Defaults.stop_words:\n",
    "    w = nlp.vocab[word]\n",
    "    w.is_stop = True"
   ]
  },
  {
   "cell_type": "code",
   "execution_count": 8,
   "metadata": {},
   "outputs": [],
   "source": [
    "# Adding custom stop words\n",
    "stopwords_verbs = ['say', 'get', 'go', 'know', 'may', 'need', 'like', 'make', 'see', 'want', 'come', 'take', 'use', 'would', 'can']\n",
    "stopwords_other = ['one', 'mr', 'bbc', 'image', 'getty', 'de', 'en', 'caption', 'also', 'copyright', 'something']\n",
    "stopwords_custom = stopwords_verbs + stopwords_other\n",
    "\n",
    "for word in stopwords_custom:\n",
    "    w = nlp.vocab[word]\n",
    "    w.is_stop = True"
   ]
  },
  {
   "cell_type": "markdown",
   "metadata": {
    "colab_type": "text",
    "id": "QBU8fQsvXIn7"
   },
   "source": [
    "# Cleaning"
   ]
  },
  {
   "cell_type": "markdown",
   "metadata": {
    "colab_type": "text",
    "id": "GMrFAVvuXIn8"
   },
   "source": [
    "#### Keeping English articles"
   ]
  },
  {
   "cell_type": "code",
   "execution_count": 9,
   "metadata": {
    "colab": {
     "base_uri": "https://localhost:8080/",
     "height": 120,
     "referenced_widgets": [
      "4477369ca5e94505982067658c124474",
      "5dcb98eae3d74712aa93d7623b5db85d",
      "65c91f960e0645f4902d762df7b38e70",
      "ac80a09d77db4c39bd8b3d2faa0c6276",
      "cef623c21a1346038f7a75254b071573",
      "bd40fd9cbd344eddb35495cb46e14103",
      "d6b90db4a82f46ac8608cb426b07639d",
      "e2164b3b9276459899dc33a008bdddf8"
     ]
    },
    "colab_type": "code",
    "id": "909gH72HXIn9",
    "outputId": "d06cf694-d957-497a-f1e8-39ae5346e1df"
   },
   "outputs": [],
   "source": [
    "from langdetect import detect"
   ]
  },
  {
   "cell_type": "code",
   "execution_count": 10,
   "metadata": {
    "colab": {
     "base_uri": "https://localhost:8080/",
     "height": 83,
     "referenced_widgets": [
      "dc4769adbbf3497db8620a743da82b58",
      "a9035e95770145fa9814c64a1e77414e",
      "f54b251a7c3f4331bbb9a139c93dc8d1",
      "f9aed9464eac4b77b13e4ba98835f414",
      "bef09922dc034405903324c1f9948c07",
      "a1ac4b3b37ad4746a667c0dd80bcd43d",
      "5da011677ee54269adb8d09579b593ba",
      "08d12b4391664079ac12e056eed69186"
     ]
    },
    "colab_type": "code",
    "id": "Cj9n1yXgXIoB",
    "outputId": "77805696-d0c9-4528-cca9-22531196514a"
   },
   "outputs": [],
   "source": [
    "# Ri-crea la colonna 'lang' usando il detector per capire che lingua è\n",
    "# (risolvendo possibili entry sbagliate)\n",
    "data['lang'] = pd.Series([detect(article) for article in data.articles])"
   ]
  },
  {
   "cell_type": "code",
   "execution_count": 11,
   "metadata": {
    "colab": {
     "base_uri": "https://localhost:8080/",
     "height": 272
    },
    "colab_type": "code",
    "id": "z33dlSd0XIoG",
    "outputId": "c11ec897-5e77-42a6-bde7-da55796d1eee"
   },
   "outputs": [
    {
     "data": {
      "text/plain": [
       "en    257\n",
       "fa      9\n",
       "fr      7\n",
       "id      5\n",
       "ar      4\n",
       "ru      4\n",
       "uk      4\n",
       "hi      4\n",
       "vi      4\n",
       "sw      3\n",
       "tr      2\n",
       "es      2\n",
       "pt      2\n",
       "de      1\n",
       "Name: lang, dtype: int64"
      ]
     },
     "execution_count": 11,
     "metadata": {},
     "output_type": "execute_result"
    }
   ],
   "source": [
    "data.lang.value_counts()"
   ]
  },
  {
   "cell_type": "code",
   "execution_count": 12,
   "metadata": {
    "colab": {
     "base_uri": "https://localhost:8080/",
     "height": 34
    },
    "colab_type": "code",
    "id": "bgjlrTOhXIoK",
    "outputId": "e5af4f68-a2cb-40f0-feb9-4a683267db8d"
   },
   "outputs": [
    {
     "data": {
      "text/plain": [
       "(257, 2)"
      ]
     },
     "execution_count": 12,
     "metadata": {},
     "output_type": "execute_result"
    }
   ],
   "source": [
    "# Mi tengo solo quelli inglesi\n",
    "data = data.loc[data.lang=='en']\n",
    "data.shape"
   ]
  },
  {
   "cell_type": "code",
   "execution_count": 13,
   "metadata": {},
   "outputs": [
    {
     "data": {
      "text/plain": [
       "\"\\narticles_dict = {}\\narticles_list = []\\ni = 0\\nfor doc in data['articles']:\\n    a = {}\\n    a['id'] = i\\n    a['text'] = doc\\n    i += 1\\n    articles_list.append(a)\\narticles_dict['articles'] = articles_list\\nimport json\\nfile = '/Users/lorenzocorti/Desktop/Poli/Assegno/Trigger/news-analytics/test_modules/topic_extraction/data.json'\\nwith open(file, 'w') as fp:\\n    json.dump(articles_dict, fp)\\n\""
      ]
     },
     "execution_count": 13,
     "metadata": {},
     "output_type": "execute_result"
    }
   ],
   "source": [
    "# Saving english articles to JSON\n",
    "'''\n",
    "articles_dict = {}\n",
    "articles_list = []\n",
    "i = 0\n",
    "for doc in data['articles']:\n",
    "    a = {}\n",
    "    a['id'] = i\n",
    "    a['text'] = doc\n",
    "    i += 1\n",
    "    articles_list.append(a)\n",
    "articles_dict['articles'] = articles_list\n",
    "import json\n",
    "file = '/Users/lorenzocorti/Desktop/Poli/Assegno/Trigger/news-analytics/test_modules/topic_extraction/data.json'\n",
    "with open(file, 'w') as fp:\n",
    "    json.dump(articles_dict, fp)\n",
    "'''"
   ]
  },
  {
   "cell_type": "markdown",
   "metadata": {
    "colab_type": "text",
    "id": "Id5HL3CYXIoO"
   },
   "source": [
    "#### Tokenization (already done when going string -> doc objects)"
   ]
  },
  {
   "cell_type": "markdown",
   "metadata": {},
   "source": [
    "Convert articles from string to spaCy's doc objects"
   ]
  },
  {
   "cell_type": "code",
   "execution_count": 14,
   "metadata": {},
   "outputs": [
    {
     "data": {
      "text/plain": [
       "\"\\nspaCy already does this:\\n- tokenize\\n- lemmatize\\n- POS tagging\\n- dependency parsing\\n- recognize stop words\\n- pair together noun chunks (e.g. 'the senate')\\n... others\\n\""
      ]
     },
     "execution_count": 14,
     "metadata": {},
     "output_type": "execute_result"
    }
   ],
   "source": [
    "data['articles'] = data['articles'].map(nlp)\n",
    "'''\n",
    "spaCy already does this:\n",
    "- tokenize\n",
    "- lemmatize\n",
    "- POS tagging\n",
    "- dependency parsing\n",
    "- recognize stop words\n",
    "- pair together noun chunks (e.g. 'the senate')\n",
    "... others\n",
    "'''"
   ]
  },
  {
   "cell_type": "code",
   "execution_count": 15,
   "metadata": {},
   "outputs": [
    {
     "data": {
      "text/html": [
       "<div>\n",
       "<style scoped>\n",
       "    .dataframe tbody tr th:only-of-type {\n",
       "        vertical-align: middle;\n",
       "    }\n",
       "\n",
       "    .dataframe tbody tr th {\n",
       "        vertical-align: top;\n",
       "    }\n",
       "\n",
       "    .dataframe thead th {\n",
       "        text-align: right;\n",
       "    }\n",
       "</style>\n",
       "<table border=\"1\" class=\"dataframe\">\n",
       "  <thead>\n",
       "    <tr style=\"text-align: right;\">\n",
       "      <th></th>\n",
       "      <th>articles</th>\n",
       "      <th>lang</th>\n",
       "    </tr>\n",
       "  </thead>\n",
       "  <tbody>\n",
       "    <tr>\n",
       "      <th>0</th>\n",
       "      <td>(Image, copyright, PA, /, EPA, Image, caption,...</td>\n",
       "      <td>en</td>\n",
       "    </tr>\n",
       "    <tr>\n",
       "      <th>1</th>\n",
       "      <td>(Husband, admits, killing, French, jogger, \\r\\...</td>\n",
       "      <td>en</td>\n",
       "    </tr>\n",
       "    <tr>\n",
       "      <th>2</th>\n",
       "      <td>(Media, playback, is, unsupported, on, your, d...</td>\n",
       "      <td>en</td>\n",
       "    </tr>\n",
       "    <tr>\n",
       "      <th>3</th>\n",
       "      <td>(Manchester, City, 's, Leroy, Sane, is, ruled,...</td>\n",
       "      <td>en</td>\n",
       "    </tr>\n",
       "    <tr>\n",
       "      <th>4</th>\n",
       "      <td>(Image, copyright, AFP, Image, caption, Sebast...</td>\n",
       "      <td>en</td>\n",
       "    </tr>\n",
       "  </tbody>\n",
       "</table>\n",
       "</div>"
      ],
      "text/plain": [
       "                                            articles lang\n",
       "0  (Image, copyright, PA, /, EPA, Image, caption,...   en\n",
       "1  (Husband, admits, killing, French, jogger, \\r\\...   en\n",
       "2  (Media, playback, is, unsupported, on, your, d...   en\n",
       "3  (Manchester, City, 's, Leroy, Sane, is, ruled,...   en\n",
       "4  (Image, copyright, AFP, Image, caption, Sebast...   en"
      ]
     },
     "execution_count": 15,
     "metadata": {},
     "output_type": "execute_result"
    }
   ],
   "source": [
    "data.head()"
   ]
  },
  {
   "cell_type": "markdown",
   "metadata": {},
   "source": [
    "Sentences"
   ]
  },
  {
   "cell_type": "code",
   "execution_count": 16,
   "metadata": {},
   "outputs": [],
   "source": [
    "def sentencizer(doc):\n",
    "    #return [sent.text for sent in doc.sents]    # returns sentences in raw text\n",
    "    return [sent for sent in doc.sents]         # returns spaCy's sentence objects\n",
    "\n",
    "data['sentences'] = data['articles'].map(sentencizer)"
   ]
  },
  {
   "cell_type": "code",
   "execution_count": 17,
   "metadata": {},
   "outputs": [
    {
     "data": {
      "text/html": [
       "<div>\n",
       "<style scoped>\n",
       "    .dataframe tbody tr th:only-of-type {\n",
       "        vertical-align: middle;\n",
       "    }\n",
       "\n",
       "    .dataframe tbody tr th {\n",
       "        vertical-align: top;\n",
       "    }\n",
       "\n",
       "    .dataframe thead th {\n",
       "        text-align: right;\n",
       "    }\n",
       "</style>\n",
       "<table border=\"1\" class=\"dataframe\">\n",
       "  <thead>\n",
       "    <tr style=\"text-align: right;\">\n",
       "      <th></th>\n",
       "      <th>articles</th>\n",
       "      <th>lang</th>\n",
       "      <th>sentences</th>\n",
       "    </tr>\n",
       "  </thead>\n",
       "  <tbody>\n",
       "    <tr>\n",
       "      <th>0</th>\n",
       "      <td>(Image, copyright, PA, /, EPA, Image, caption,...</td>\n",
       "      <td>en</td>\n",
       "      <td>[(Image, copyright, PA, /, EPA, Image, caption...</td>\n",
       "    </tr>\n",
       "    <tr>\n",
       "      <th>1</th>\n",
       "      <td>(Husband, admits, killing, French, jogger, \\r\\...</td>\n",
       "      <td>en</td>\n",
       "      <td>[(Husband, admits, killing, French, jogger, \\r...</td>\n",
       "    </tr>\n",
       "    <tr>\n",
       "      <th>2</th>\n",
       "      <td>(Media, playback, is, unsupported, on, your, d...</td>\n",
       "      <td>en</td>\n",
       "      <td>[(Media, playback, is, unsupported, on, your, ...</td>\n",
       "    </tr>\n",
       "    <tr>\n",
       "      <th>3</th>\n",
       "      <td>(Manchester, City, 's, Leroy, Sane, is, ruled,...</td>\n",
       "      <td>en</td>\n",
       "      <td>[(Manchester, City, 's, Leroy, Sane, is, ruled...</td>\n",
       "    </tr>\n",
       "    <tr>\n",
       "      <th>4</th>\n",
       "      <td>(Image, copyright, AFP, Image, caption, Sebast...</td>\n",
       "      <td>en</td>\n",
       "      <td>[(Image, copyright, AFP, Image, caption, Sebas...</td>\n",
       "    </tr>\n",
       "  </tbody>\n",
       "</table>\n",
       "</div>"
      ],
      "text/plain": [
       "                                            articles lang  \\\n",
       "0  (Image, copyright, PA, /, EPA, Image, caption,...   en   \n",
       "1  (Husband, admits, killing, French, jogger, \\r\\...   en   \n",
       "2  (Media, playback, is, unsupported, on, your, d...   en   \n",
       "3  (Manchester, City, 's, Leroy, Sane, is, ruled,...   en   \n",
       "4  (Image, copyright, AFP, Image, caption, Sebast...   en   \n",
       "\n",
       "                                           sentences  \n",
       "0  [(Image, copyright, PA, /, EPA, Image, caption...  \n",
       "1  [(Husband, admits, killing, French, jogger, \\r...  \n",
       "2  [(Media, playback, is, unsupported, on, your, ...  \n",
       "3  [(Manchester, City, 's, Leroy, Sane, is, ruled...  \n",
       "4  [(Image, copyright, AFP, Image, caption, Sebas...  "
      ]
     },
     "execution_count": 17,
     "metadata": {},
     "output_type": "execute_result"
    }
   ],
   "source": [
    "data.head()"
   ]
  },
  {
   "cell_type": "code",
   "execution_count": 18,
   "metadata": {},
   "outputs": [
    {
     "name": "stdout",
     "output_type": "stream",
     "text": [
      "[The middle of nowhere\n",
      "\n",
      ",\n",
      " Five miles from the South Dakota border in the remote northern reaches of the US state of Nebraska, a long dirt road cuts through rolling prairie grasslands and golden wheat fields towards downtown Monowi, a place you can see in its entirety by climbing any of its hay bales.\n",
      "\n",
      ",\n",
      " An abandoned church, whose empty pews are now filled with tractor tyres, stands opposite the decaying skeleton of a grain elevator.,\n",
      " Weeds and brome grass twist around the rotting remnants of homes that are collapsing in on themselves.,\n",
      " And inside a white, squat building with paint peeling off its frame, 84-year-old Elsie Eiler is flipping pork fritters and cracking open beer bottles for a pair of regulars under a sign that reads: “,\n",
      " Welcome To The World Famous Monowi Tavern.,\n",
      " Coldest Beer In Town!”\n",
      "\n",
      ",\n",
      " When Eiler’s husband, Rudy, passed away in 2004, he didn’t just leave her to run the tavern, but the whole town.,\n",
      " Today, according to the US Census, Monowi is the only incorporated place in the US with just one resident, and Eiler is the mayor, clerk, treasurer, librarian, bartender and only person left in the US’ tiniest town.]\n"
     ]
    }
   ],
   "source": [
    "pprint(data['sentences'][5]) # 8 sentences"
   ]
  },
  {
   "cell_type": "markdown",
   "metadata": {
    "colab_type": "text",
    "id": "ouDbv5BcXIod"
   },
   "source": [
    "#### Lemmatizing + stop word removal"
   ]
  },
  {
   "cell_type": "code",
   "execution_count": 19,
   "metadata": {},
   "outputs": [],
   "source": [
    "# lemmatize each token if it's not a stop word and its length > 1\n",
    "def lemmatizer(doc):\n",
    "    lemmas = []\n",
    "    for sent in doc:\n",
    "        lemmas.append([token.lemma_ for token in sent \n",
    "            if (not nlp.vocab[token.lower_].is_stop and not token.is_punct and len(token.text)>1)])\n",
    "    return lemmas\n",
    "\n",
    "data['tokens_sentences_lemmatized'] = data['sentences'].map(lemmatizer)"
   ]
  },
  {
   "cell_type": "code",
   "execution_count": 20,
   "metadata": {},
   "outputs": [
    {
     "data": {
      "text/html": [
       "<div>\n",
       "<style scoped>\n",
       "    .dataframe tbody tr th:only-of-type {\n",
       "        vertical-align: middle;\n",
       "    }\n",
       "\n",
       "    .dataframe tbody tr th {\n",
       "        vertical-align: top;\n",
       "    }\n",
       "\n",
       "    .dataframe thead th {\n",
       "        text-align: right;\n",
       "    }\n",
       "</style>\n",
       "<table border=\"1\" class=\"dataframe\">\n",
       "  <thead>\n",
       "    <tr style=\"text-align: right;\">\n",
       "      <th></th>\n",
       "      <th>articles</th>\n",
       "      <th>lang</th>\n",
       "      <th>sentences</th>\n",
       "      <th>tokens_sentences_lemmatized</th>\n",
       "    </tr>\n",
       "  </thead>\n",
       "  <tbody>\n",
       "    <tr>\n",
       "      <th>0</th>\n",
       "      <td>(Image, copyright, PA, /, EPA, Image, caption,...</td>\n",
       "      <td>en</td>\n",
       "      <td>[(Image, copyright, PA, /, EPA, Image, caption...</td>\n",
       "      <td>[[PA, EPA, oligarch, Roman, Abramovich, PM, Dm...</td>\n",
       "    </tr>\n",
       "    <tr>\n",
       "      <th>1</th>\n",
       "      <td>(Husband, admits, killing, French, jogger, \\r\\...</td>\n",
       "      <td>en</td>\n",
       "      <td>[(Husband, admits, killing, French, jogger, \\r...</td>\n",
       "      <td>[[husband, admit, kill, french, jogger, month,...</td>\n",
       "    </tr>\n",
       "    <tr>\n",
       "      <th>2</th>\n",
       "      <td>(Media, playback, is, unsupported, on, your, d...</td>\n",
       "      <td>en</td>\n",
       "      <td>[(Media, playback, is, unsupported, on, your, ...</td>\n",
       "      <td>[[medium, playback, unsupported, device, media...</td>\n",
       "    </tr>\n",
       "    <tr>\n",
       "      <th>3</th>\n",
       "      <td>(Manchester, City, 's, Leroy, Sane, is, ruled,...</td>\n",
       "      <td>en</td>\n",
       "      <td>[(Manchester, City, 's, Leroy, Sane, is, ruled...</td>\n",
       "      <td>[[Manchester, City, Leroy, Sane, rule, seven, ...</td>\n",
       "    </tr>\n",
       "    <tr>\n",
       "      <th>4</th>\n",
       "      <td>(Image, copyright, AFP, Image, caption, Sebast...</td>\n",
       "      <td>en</td>\n",
       "      <td>[(Image, copyright, AFP, Image, caption, Sebas...</td>\n",
       "      <td>[[AFP, Sebastien, Bras, take, famed, restauran...</td>\n",
       "    </tr>\n",
       "  </tbody>\n",
       "</table>\n",
       "</div>"
      ],
      "text/plain": [
       "                                            articles lang  \\\n",
       "0  (Image, copyright, PA, /, EPA, Image, caption,...   en   \n",
       "1  (Husband, admits, killing, French, jogger, \\r\\...   en   \n",
       "2  (Media, playback, is, unsupported, on, your, d...   en   \n",
       "3  (Manchester, City, 's, Leroy, Sane, is, ruled,...   en   \n",
       "4  (Image, copyright, AFP, Image, caption, Sebast...   en   \n",
       "\n",
       "                                           sentences  \\\n",
       "0  [(Image, copyright, PA, /, EPA, Image, caption...   \n",
       "1  [(Husband, admits, killing, French, jogger, \\r...   \n",
       "2  [(Media, playback, is, unsupported, on, your, ...   \n",
       "3  [(Manchester, City, 's, Leroy, Sane, is, ruled...   \n",
       "4  [(Image, copyright, AFP, Image, caption, Sebas...   \n",
       "\n",
       "                         tokens_sentences_lemmatized  \n",
       "0  [[PA, EPA, oligarch, Roman, Abramovich, PM, Dm...  \n",
       "1  [[husband, admit, kill, french, jogger, month,...  \n",
       "2  [[medium, playback, unsupported, device, media...  \n",
       "3  [[Manchester, City, Leroy, Sane, rule, seven, ...  \n",
       "4  [[AFP, Sebastien, Bras, take, famed, restauran...  "
      ]
     },
     "execution_count": 20,
     "metadata": {},
     "output_type": "execute_result"
    }
   ],
   "source": [
    "data.head()"
   ]
  },
  {
   "cell_type": "code",
   "execution_count": 21,
   "metadata": {
    "colab": {
     "base_uri": "https://localhost:8080/",
     "height": 527
    },
    "colab_type": "code",
    "id": "ASb2Gy21XIo9",
    "outputId": "170fb178-d335-4620-8caa-4d5683e6648a",
    "scrolled": true
   },
   "outputs": [
    {
     "data": {
      "text/html": [
       "<div>\n",
       "<style scoped>\n",
       "    .dataframe tbody tr th:only-of-type {\n",
       "        vertical-align: middle;\n",
       "    }\n",
       "\n",
       "    .dataframe tbody tr th {\n",
       "        vertical-align: top;\n",
       "    }\n",
       "\n",
       "    .dataframe thead th {\n",
       "        text-align: right;\n",
       "    }\n",
       "</style>\n",
       "<table border=\"1\" class=\"dataframe\">\n",
       "  <thead>\n",
       "    <tr style=\"text-align: right;\">\n",
       "      <th></th>\n",
       "      <th>articles</th>\n",
       "      <th>lang</th>\n",
       "      <th>sentences</th>\n",
       "      <th>tokens_sentences_lemmatized</th>\n",
       "      <th>tokens</th>\n",
       "    </tr>\n",
       "  </thead>\n",
       "  <tbody>\n",
       "    <tr>\n",
       "      <th>0</th>\n",
       "      <td>(Image, copyright, PA, /, EPA, Image, caption,...</td>\n",
       "      <td>en</td>\n",
       "      <td>[(Image, copyright, PA, /, EPA, Image, caption...</td>\n",
       "      <td>[[PA, EPA, oligarch, Roman, Abramovich, PM, Dm...</td>\n",
       "      <td>[PA, EPA, oligarch, Roman, Abramovich, PM, Dmi...</td>\n",
       "    </tr>\n",
       "    <tr>\n",
       "      <th>1</th>\n",
       "      <td>(Husband, admits, killing, French, jogger, \\r\\...</td>\n",
       "      <td>en</td>\n",
       "      <td>[(Husband, admits, killing, French, jogger, \\r...</td>\n",
       "      <td>[[husband, admit, kill, french, jogger, month,...</td>\n",
       "      <td>[husband, admit, kill, french, jogger, month, ...</td>\n",
       "    </tr>\n",
       "    <tr>\n",
       "      <th>2</th>\n",
       "      <td>(Media, playback, is, unsupported, on, your, d...</td>\n",
       "      <td>en</td>\n",
       "      <td>[(Media, playback, is, unsupported, on, your, ...</td>\n",
       "      <td>[[medium, playback, unsupported, device, media...</td>\n",
       "      <td>[medium, playback, unsupported, device, media,...</td>\n",
       "    </tr>\n",
       "    <tr>\n",
       "      <th>3</th>\n",
       "      <td>(Manchester, City, 's, Leroy, Sane, is, ruled,...</td>\n",
       "      <td>en</td>\n",
       "      <td>[(Manchester, City, 's, Leroy, Sane, is, ruled...</td>\n",
       "      <td>[[Manchester, City, Leroy, Sane, rule, seven, ...</td>\n",
       "      <td>[Manchester, City, Leroy, Sane, rule, seven, w...</td>\n",
       "    </tr>\n",
       "    <tr>\n",
       "      <th>4</th>\n",
       "      <td>(Image, copyright, AFP, Image, caption, Sebast...</td>\n",
       "      <td>en</td>\n",
       "      <td>[(Image, copyright, AFP, Image, caption, Sebas...</td>\n",
       "      <td>[[AFP, Sebastien, Bras, take, famed, restauran...</td>\n",
       "      <td>[AFP, Sebastien, Bras, take, famed, restaurant...</td>\n",
       "    </tr>\n",
       "  </tbody>\n",
       "</table>\n",
       "</div>"
      ],
      "text/plain": [
       "                                            articles lang  \\\n",
       "0  (Image, copyright, PA, /, EPA, Image, caption,...   en   \n",
       "1  (Husband, admits, killing, French, jogger, \\r\\...   en   \n",
       "2  (Media, playback, is, unsupported, on, your, d...   en   \n",
       "3  (Manchester, City, 's, Leroy, Sane, is, ruled,...   en   \n",
       "4  (Image, copyright, AFP, Image, caption, Sebast...   en   \n",
       "\n",
       "                                           sentences  \\\n",
       "0  [(Image, copyright, PA, /, EPA, Image, caption...   \n",
       "1  [(Husband, admits, killing, French, jogger, \\r...   \n",
       "2  [(Media, playback, is, unsupported, on, your, ...   \n",
       "3  [(Manchester, City, 's, Leroy, Sane, is, ruled...   \n",
       "4  [(Image, copyright, AFP, Image, caption, Sebas...   \n",
       "\n",
       "                         tokens_sentences_lemmatized  \\\n",
       "0  [[PA, EPA, oligarch, Roman, Abramovich, PM, Dm...   \n",
       "1  [[husband, admit, kill, french, jogger, month,...   \n",
       "2  [[medium, playback, unsupported, device, media...   \n",
       "3  [[Manchester, City, Leroy, Sane, rule, seven, ...   \n",
       "4  [[AFP, Sebastien, Bras, take, famed, restauran...   \n",
       "\n",
       "                                              tokens  \n",
       "0  [PA, EPA, oligarch, Roman, Abramovich, PM, Dmi...  \n",
       "1  [husband, admit, kill, french, jogger, month, ...  \n",
       "2  [medium, playback, unsupported, device, media,...  \n",
       "3  [Manchester, City, Leroy, Sane, rule, seven, w...  \n",
       "4  [AFP, Sebastien, Bras, take, famed, restaurant...  "
      ]
     },
     "execution_count": 21,
     "metadata": {},
     "output_type": "execute_result"
    }
   ],
   "source": [
    "from itertools import chain\n",
    "def flatten_tokens(doc):\n",
    "    return list(chain.from_iterable(doc))\n",
    "#data['tokens'] = data['tokens_sentences_lemmatized'].map(lambda sentences: list(chain.from_iterable(sentences)))\n",
    "data['tokens'] = data['tokens_sentences_lemmatized'].map(flatten_tokens)\n",
    "data.head()"
   ]
  },
  {
   "cell_type": "code",
   "execution_count": 22,
   "metadata": {},
   "outputs": [
    {
     "data": {
      "text/plain": [
       "['husband',\n",
       " 'admit',\n",
       " 'kill',\n",
       " 'french',\n",
       " 'jogger',\n",
       " 'month',\n",
       " 'Alexia',\n",
       " 'Daval',\n",
       " 'body',\n",
       " 'find',\n",
       " 'husband',\n",
       " 'tell',\n",
       " 'police',\n",
       " 'kill',\n",
       " 'mistake']"
      ]
     },
     "execution_count": 22,
     "metadata": {},
     "output_type": "execute_result"
    }
   ],
   "source": [
    "data['tokens'][1]"
   ]
  },
  {
   "cell_type": "markdown",
   "metadata": {
    "colab_type": "text",
    "id": "omsJ_MG2XIpA"
   },
   "source": [
    "# LDA"
   ]
  },
  {
   "cell_type": "markdown",
   "metadata": {
    "colab_type": "text",
    "id": "1NgseEFfXIpA"
   },
   "source": [
    "## Data preparation"
   ]
  },
  {
   "cell_type": "markdown",
   "metadata": {
    "colab_type": "text",
    "id": "2FcljwyJXIpB"
   },
   "source": [
    "#### Prepare bi-grams and tri-grams"
   ]
  },
  {
   "cell_type": "code",
   "execution_count": 43,
   "metadata": {
    "colab": {
     "base_uri": "https://localhost:8080/",
     "height": 71
    },
    "colab_type": "code",
    "id": "kCkU_UNUXIpE",
    "outputId": "1d096393-2d10-40d7-fd83-5f70cb81229e"
   },
   "outputs": [],
   "source": [
    "tokens = data['tokens'].tolist()\n",
    "bigram_model = Phrases(tokens) # combina le parole che compaiono comunemente insieme\n",
    "trigram_model = Phrases(bigram_model[tokens], min_count=1) #stessa cosa ma a livello di (eventuali) tri-gram\n",
    "tokens = list(trigram_model[bigram_model[tokens]])"
   ]
  },
  {
   "cell_type": "code",
   "execution_count": 44,
   "metadata": {},
   "outputs": [
    {
     "name": "stdout",
     "output_type": "stream",
     "text": [
      "290\n",
      "11\n",
      "265\n",
      "14\n",
      "307\n",
      "102\n",
      "47\n",
      "8\n",
      "362\n",
      "182\n",
      "14\n",
      "305\n",
      "7\n",
      "11\n",
      "43\n",
      "80\n",
      "631\n",
      "494\n",
      "378\n",
      "265\n"
     ]
    }
   ],
   "source": [
    "for i in range(len(tokens[:20])):\n",
    "    print(len(tokens[i]))"
   ]
  },
  {
   "cell_type": "markdown",
   "metadata": {
    "colab_type": "text",
    "id": "pkJuiKZTXIpH"
   },
   "source": [
    "#### Prepare objects for LDA gensim implementation"
   ]
  },
  {
   "cell_type": "code",
   "execution_count": 45,
   "metadata": {
    "colab": {},
    "colab_type": "code",
    "id": "6LgdHAscXIpL"
   },
   "outputs": [],
   "source": [
    "dictionary_LDA = corpora.Dictionary(tokens) # creo un dizionario con le mie parole (ripulite, abbinate, etc...)\n",
    "dictionary_LDA.filter_extremes(no_below=3) # rimuovo i token che compaiono in meno di 3 documenti (≥ 3 li tengo)\n",
    "\n",
    "# traformo ogni documento in una bag of words\n",
    "# ogni documento lista di (numero parola, numero documento)\n",
    "corpus = [dictionary_LDA.doc2bow(tok) for tok in tokens]"
   ]
  },
  {
   "cell_type": "markdown",
   "metadata": {
    "colab_type": "text",
    "id": "EIl_16feXIpN"
   },
   "source": [
    "## Running LDA"
   ]
  },
  {
   "cell_type": "code",
   "execution_count": 46,
   "metadata": {
    "colab": {
     "base_uri": "https://localhost:8080/",
     "height": 85
    },
    "colab_type": "code",
    "id": "_MlvyMLDXIpP",
    "outputId": "a25b5675-f28b-42fa-901c-e9cc23c5a2c1"
   },
   "outputs": [
    {
     "name": "stdout",
     "output_type": "stream",
     "text": [
      "CPU times: user 2.12 s, sys: 48.5 ms, total: 2.17 s\n",
      "Wall time: 2.71 s\n"
     ]
    }
   ],
   "source": [
    "np.random.seed(123456)\n",
    "num_topics = 20 # cerco 20 topic\n",
    "'''\n",
    "LDA model estimation\n",
    "- allenato su corpus\n",
    "- id2word: dizionario con mapping ID -> parola\n",
    "- passes: training loops\n",
    "- alpha: probabilità che un topic ci sia in un documento (priori)\n",
    "- eta: probabilità che una parola sia legata ad un topic\n",
    "'''\n",
    "%time lda_model = models.LdaModel(corpus, num_topics=num_topics, \\\n",
    "                                  id2word=dictionary_LDA, \\\n",
    "                                  passes=4, alpha=[0.01]*num_topics, \\\n",
    "                                  eta=[0.01]*len(dictionary_LDA.keys()))"
   ]
  },
  {
   "cell_type": "markdown",
   "metadata": {
    "colab_type": "text",
    "id": "UaXMTCESXIpS"
   },
   "source": [
    "## Quick exploration of LDA results"
   ]
  },
  {
   "cell_type": "markdown",
   "metadata": {
    "colab_type": "text",
    "id": "J0xw2ZBvXIpT"
   },
   "source": [
    "#### Looking at topics"
   ]
  },
  {
   "cell_type": "code",
   "execution_count": 47,
   "metadata": {
    "colab": {
     "base_uri": "https://localhost:8080/",
     "height": 717
    },
    "colab_type": "code",
    "id": "tXVeDIEUXIpX",
    "outputId": "76d0ce1f-903c-407f-ad01-154a69c3d449",
    "scrolled": true
   },
   "outputs": [
    {
     "name": "stdout",
     "output_type": "stream",
     "text": [
      "0: 0.029*\"provide\" + 0.020*\"user_ask\" + 0.019*\"issue\" + 0.015*\"user\" + 0.015*\"location\" + 0.015*\"unique\" + 0.015*\"browser\" + 0.015*\"Colin\" + 0.014*\"datum\" + 0.014*\"high\" + 0.014*\"close\" + 0.014*\"value\" + 0.014*\"low\" + 0.014*\"15_minute\" + 0.014*\"accept_responsibility\" + 0.014*\"click\" + 0.008*\"build\" + 0.008*\"life\" + 0.008*\"place\" + 0.008*\"big\"\n",
      "\n",
      "1: 0.014*\"say\" + 0.009*\"year\" + 0.008*\"radio\" + 0.008*\"small\" + 0.008*\"see\" + 0.008*\"add\" + 0.008*\"mate\" + 0.008*\"month\" + 0.008*\"actor\" + 0.007*\"pick\" + 0.006*\"life\" + 0.006*\"world\" + 0.006*\"tiny\" + 0.006*\"decade\" + 0.006*\"live\" + 0.006*\"raise\" + 0.006*\"celebrity\" + 0.006*\"company\" + 0.006*\"Images\" + 0.006*\"scandal\"\n",
      "\n",
      "2: 0.015*\"say\" + 0.013*\"restaurant\" + 0.010*\"town\" + 0.008*\"store\" + 0.008*\"year\" + 0.008*\"star\" + 0.008*\"village\" + 0.006*\"find\" + 0.006*\"time\" + 0.006*\"help\" + 0.005*\"customer\" + 0.005*\"leave\" + 0.005*\"long\" + 0.005*\"history\" + 0.004*\"world\" + 0.004*\"sell\" + 0.004*\"food\" + 0.004*\"open\" + 0.004*\"home\" + 0.004*\"chef\"\n",
      "\n",
      "3: 0.024*\"say\" + 0.007*\"tell\" + 0.007*\"people\" + 0.006*\"work\" + 0.006*\"support\" + 0.005*\"play\" + 0.005*\"time\" + 0.005*\"separatist\" + 0.004*\"way\" + 0.004*\"find\" + 0.004*\"image\" + 0.004*\"year\" + 0.004*\"take\" + 0.004*\"design\" + 0.004*\"go\" + 0.004*\"base\" + 0.004*\"include\" + 0.004*\"government\" + 0.003*\"city\" + 0.003*\"give\"\n",
      "\n",
      "4: 0.013*\"say\" + 0.012*\"water\" + 0.009*\"time\" + 0.009*\"year\" + 0.009*\"ocean\" + 0.008*\"night\" + 0.007*\"animal\" + 0.007*\"call\" + 0.007*\"wave\" + 0.006*\"people\" + 0.006*\"seal\" + 0.005*\"day\" + 0.005*\"find\" + 0.005*\"design\" + 0.005*\"run\" + 0.005*\"help\" + 0.005*\"light\" + 0.005*\"sea\" + 0.005*\"world\" + 0.004*\"air\"\n",
      "\n",
      "5: 0.019*\"say\" + 0.014*\"prey\" + 0.013*\"drug\" + 0.012*\"specie\" + 0.010*\"game\" + 0.007*\"organisation\" + 0.006*\"behaviour\" + 0.006*\"allow\" + 0.006*\"include\" + 0.006*\"example\" + 0.006*\"make\" + 0.006*\"take\" + 0.005*\"area\" + 0.005*\"animal\" + 0.005*\"group\" + 0.005*\"rating\" + 0.005*\"evolve\" + 0.005*\"order\" + 0.005*\"need\" + 0.004*\"insect\"\n",
      "\n",
      "6: 0.017*\"Brexit\" + 0.016*\"EU\" + 0.014*\"UK\" + 0.011*\"government\" + 0.011*\"change\" + 0.010*\"brain\" + 0.009*\"Brexiteers\" + 0.008*\"treatment\" + 0.008*\"transition\" + 0.008*\"help\" + 0.008*\"rule\" + 0.007*\"decision\" + 0.007*\"country\" + 0.007*\"study\" + 0.007*\"say\" + 0.007*\"expect\" + 0.006*\"clear\" + 0.006*\"tell\" + 0.006*\"hope\" + 0.006*\"right\"\n",
      "\n",
      "7: 0.024*\"say\" + 0.012*\"people\" + 0.009*\"day\" + 0.009*\"think\" + 0.008*\"feel\" + 0.007*\"work\" + 0.007*\"time\" + 0.006*\"get\" + 0.006*\"dutch\" + 0.005*\"benefit\" + 0.005*\"year\" + 0.005*\"look\" + 0.005*\"world\" + 0.005*\"take\" + 0.005*\"find\" + 0.005*\"go\" + 0.005*\"city\" + 0.005*\"live\" + 0.005*\"start\" + 0.004*\"place\"\n",
      "\n",
      "8: 0.031*\"say\" + 0.013*\"plan\" + 0.012*\"list\" + 0.010*\"firm\" + 0.010*\"healthcare\" + 0.009*\"Russia\" + 0.008*\"company\" + 0.007*\"find\" + 0.007*\"russian\" + 0.006*\"president\" + 0.006*\"Kremlin\" + 0.006*\"year\" + 0.006*\"name\" + 0.005*\"involve\" + 0.005*\"add\" + 0.005*\"lawyer\" + 0.005*\"husband\" + 0.005*\"people\" + 0.005*\"election\" + 0.004*\"big\"\n",
      "\n",
      "9: 0.019*\"say\" + 0.011*\"write\" + 0.010*\"Images\" + 0.008*\"logo\" + 0.007*\"story\" + 0.007*\"think\" + 0.007*\"act\" + 0.006*\"people\" + 0.006*\"work\" + 0.006*\"perform\" + 0.006*\"design\" + 0.006*\"team\" + 0.006*\"journalist\" + 0.006*\"day\" + 0.006*\"call\" + 0.005*\"come\" + 0.005*\"include\" + 0.005*\"publish\" + 0.005*\"help\" + 0.005*\"tell\"\n",
      "\n",
      "10: 0.012*\"find\" + 0.010*\"say\" + 0.008*\"light\" + 0.008*\"tunnel\" + 0.008*\"work\" + 0.008*\"time\" + 0.007*\"day\" + 0.006*\"live\" + 0.006*\"transparent\" + 0.005*\"help\" + 0.005*\"stress\" + 0.005*\"body\" + 0.005*\"city\" + 0.005*\"make\" + 0.005*\"know\" + 0.005*\"call\" + 0.004*\"report\" + 0.004*\"predator\" + 0.004*\"sleep\" + 0.004*\"home\"\n",
      "\n",
      "11: 0.020*\"say\" + 0.011*\"work\" + 0.007*\"find\" + 0.006*\"see\" + 0.006*\"include\" + 0.005*\"source\" + 0.005*\"year\" + 0.005*\"News\" + 0.005*\"film\" + 0.005*\"tree\" + 0.004*\"model\" + 0.004*\"UK\" + 0.004*\"link\" + 0.004*\"award\" + 0.004*\"set\" + 0.004*\"bee\" + 0.004*\"go\" + 0.004*\"create\" + 0.004*\"old\" + 0.004*\"day\"\n",
      "\n",
      "12: 0.019*\"say\" + 0.010*\"tell\" + 0.009*\"report\" + 0.008*\"Brexit\" + 0.008*\"deal\" + 0.007*\"government\" + 0.007*\"UK\" + 0.007*\"leave\" + 0.006*\"satellite\" + 0.006*\"second\" + 0.006*\"human\" + 0.006*\"system\" + 0.006*\"document\" + 0.006*\"take\" + 0.006*\"rocket\" + 0.005*\"start\" + 0.005*\"time\" + 0.005*\"law\" + 0.005*\"case\" + 0.005*\"child\"\n",
      "\n",
      "13: 0.034*\"say\" + 0.008*\"series\" + 0.008*\"include\" + 0.007*\"northern_Mali\" + 0.007*\"thing\" + 0.006*\"work\" + 0.006*\"Israel\" + 0.006*\"company\" + 0.006*\"year\" + 0.006*\"find\" + 0.005*\"supermarket\" + 0.005*\"go\" + 0.005*\"food\" + 0.005*\"people\" + 0.004*\"customer\" + 0.004*\"american\" + 0.004*\"trade\" + 0.004*\"product\" + 0.004*\"need\" + 0.004*\"militant\"\n",
      "\n",
      "14: 0.012*\"Africa\" + 0.012*\"kick\" + 0.011*\"say\" + 0.008*\"time\" + 0.008*\"study\" + 0.008*\"force\" + 0.007*\"animal\" + 0.007*\"bone\" + 0.006*\"group\" + 0.006*\"Earth\" + 0.006*\"wave\" + 0.005*\"describe\" + 0.005*\"fast\" + 0.005*\"energy\" + 0.005*\"shrimp\" + 0.005*\"male\" + 0.005*\"continent\" + 0.005*\"horse\" + 0.005*\"know\" + 0.005*\"University\"\n",
      "\n",
      "15: 0.029*\"say\" + 0.011*\"come\" + 0.010*\"recall\" + 0.010*\"people\" + 0.009*\"film\" + 0.009*\"woman\" + 0.007*\"play\" + 0.007*\"week\" + 0.007*\"time\" + 0.007*\"night\" + 0.006*\"shoot\" + 0.006*\"show\" + 0.006*\"car\" + 0.006*\"support\" + 0.005*\"town\" + 0.005*\"end\" + 0.005*\"day\" + 0.005*\"turn\" + 0.005*\"1980\" + 0.005*\"live\"\n",
      "\n",
      "16: 0.020*\"India\" + 0.017*\"video\" + 0.017*\"Radio\" + 0.012*\"hospital\" + 0.012*\"rape\" + 0.011*\"live\" + 0.011*\"city\" + 0.010*\"tweet\" + 0.010*\"crime\" + 0.010*\"news\" + 0.009*\"report\" + 0.009*\"baby\" + 0.008*\"run\" + 0.008*\"digital\" + 0.008*\"child\" + 0.008*\"listen\" + 0.008*\"tv\" + 0.008*\"pizza\" + 0.007*\"local\" + 0.007*\"look\"\n",
      "\n",
      "17: 0.025*\"say\" + 0.013*\"president\" + 0.011*\"Trump\" + 0.007*\"America\" + 0.007*\"case\" + 0.006*\"review\" + 0.006*\"China\" + 0.006*\"go\" + 0.006*\"issue\" + 0.005*\"country\" + 0.005*\"people\" + 0.005*\"include\" + 0.005*\"expect\" + 0.005*\"risk\" + 0.005*\"year\" + 0.005*\"see\" + 0.005*\"message\" + 0.005*\"flight\" + 0.005*\"claim\" + 0.005*\"plan\"\n",
      "\n",
      "18: 0.019*\"say\" + 0.009*\"Amazon\" + 0.007*\"datum\" + 0.006*\"tell\" + 0.006*\"add\" + 0.006*\"system\" + 0.005*\"plan\" + 0.005*\"man\" + 0.005*\"public\" + 0.005*\"drink\" + 0.005*\"idea\" + 0.005*\"attack\" + 0.005*\"Sweden\" + 0.005*\"believe\" + 0.004*\"couple\" + 0.004*\"post\" + 0.004*\"people\" + 0.004*\"Reuters\" + 0.004*\"call\" + 0.004*\"London\"\n",
      "\n",
      "19: 0.030*\"say\" + 0.007*\"people\" + 0.006*\"EU\" + 0.006*\"think\" + 0.005*\"time\" + 0.005*\"question\" + 0.005*\"government\" + 0.005*\"country\" + 0.004*\"go\" + 0.004*\"call\" + 0.004*\"tell\" + 0.004*\"day\" + 0.004*\"old\" + 0.004*\"return\" + 0.004*\"year\" + 0.004*\"follow\" + 0.004*\"military\" + 0.003*\"take\" + 0.003*\"hold\" + 0.003*\"leave\"\n",
      "\n"
     ]
    }
   ],
   "source": [
    "for i,topic in lda_model.show_topics(formatted=True, num_topics=num_topics, num_words=20):\n",
    "    print(str(i)+\": \"+ topic)\n",
    "    print()"
   ]
  },
  {
   "cell_type": "markdown",
   "metadata": {
    "colab_type": "text",
    "id": "VzPTruczXIpZ"
   },
   "source": [
    "#### Allocating topics to documents"
   ]
  },
  {
   "cell_type": "code",
   "execution_count": 28,
   "metadata": {
    "colab": {
     "base_uri": "https://localhost:8080/",
     "height": 170
    },
    "colab_type": "code",
    "id": "jmhFbhAbXIpa",
    "outputId": "ff38f889-4b18-4e90-e3a2-b7b793267c5d"
   },
   "outputs": [],
   "source": [
    "#print(data.articles.loc[0][:500])"
   ]
  },
  {
   "cell_type": "code",
   "execution_count": 48,
   "metadata": {
    "colab": {
     "base_uri": "https://localhost:8080/",
     "height": 34
    },
    "colab_type": "code",
    "id": "cqhdkaStXIpf",
    "outputId": "238cd4e4-e49d-4bdf-a858-c6da7da56a38"
   },
   "outputs": [
    {
     "data": {
      "text/plain": [
       "[(2, 0.19425337), (6, 0.19279946), (16, 0.6121021)]"
      ]
     },
     "execution_count": 48,
     "metadata": {},
     "output_type": "execute_result"
    }
   ],
   "source": [
    "lda_model[corpus[11]] # ad ogni documento sono stati associati i topic (con le rispettive probabilità)"
   ]
  },
  {
   "cell_type": "markdown",
   "metadata": {
    "colab_type": "text",
    "id": "7x_Vx5_wXIph"
   },
   "source": [
    "#### Predicting topics on unseen documents"
   ]
  },
  {
   "cell_type": "code",
   "execution_count": 49,
   "metadata": {
    "colab": {
     "base_uri": "https://localhost:8080/",
     "height": 173
    },
    "colab_type": "code",
    "id": "r0xDdbM3XIph",
    "outputId": "1d30a9ae-ab24-48ef-ead7-01056d9b34ee"
   },
   "outputs": [
    {
     "data": {
      "text/html": [
       "<div>\n",
       "<style scoped>\n",
       "    .dataframe tbody tr th:only-of-type {\n",
       "        vertical-align: middle;\n",
       "    }\n",
       "\n",
       "    .dataframe tbody tr th {\n",
       "        vertical-align: top;\n",
       "    }\n",
       "\n",
       "    .dataframe thead th {\n",
       "        text-align: right;\n",
       "    }\n",
       "</style>\n",
       "<table border=\"1\" class=\"dataframe\">\n",
       "  <thead>\n",
       "    <tr style=\"text-align: right;\">\n",
       "      <th></th>\n",
       "      <th>topic #</th>\n",
       "      <th>weight</th>\n",
       "      <th>words in topic</th>\n",
       "    </tr>\n",
       "  </thead>\n",
       "  <tbody>\n",
       "    <tr>\n",
       "      <th>0</th>\n",
       "      <td>2</td>\n",
       "      <td>0.05</td>\n",
       "      <td>0.015*\"say\" + 0.013*\"restaurant\" + 0.010*\"town...</td>\n",
       "    </tr>\n",
       "    <tr>\n",
       "      <th>1</th>\n",
       "      <td>3</td>\n",
       "      <td>0.24</td>\n",
       "      <td>0.024*\"say\" + 0.007*\"tell\" + 0.007*\"people\" + ...</td>\n",
       "    </tr>\n",
       "    <tr>\n",
       "      <th>2</th>\n",
       "      <td>4</td>\n",
       "      <td>0.07</td>\n",
       "      <td>0.013*\"say\" + 0.012*\"water\" + 0.009*\"time\" + 0...</td>\n",
       "    </tr>\n",
       "    <tr>\n",
       "      <th>3</th>\n",
       "      <td>7</td>\n",
       "      <td>0.27</td>\n",
       "      <td>0.024*\"say\" + 0.012*\"people\" + 0.009*\"day\" + 0...</td>\n",
       "    </tr>\n",
       "    <tr>\n",
       "      <th>4</th>\n",
       "      <td>9</td>\n",
       "      <td>0.08</td>\n",
       "      <td>0.019*\"say\" + 0.011*\"write\" + 0.010*\"Images\" +...</td>\n",
       "    </tr>\n",
       "    <tr>\n",
       "      <th>5</th>\n",
       "      <td>12</td>\n",
       "      <td>0.04</td>\n",
       "      <td>0.019*\"say\" + 0.010*\"tell\" + 0.009*\"report\" + ...</td>\n",
       "    </tr>\n",
       "    <tr>\n",
       "      <th>6</th>\n",
       "      <td>17</td>\n",
       "      <td>0.11</td>\n",
       "      <td>0.025*\"say\" + 0.013*\"president\" + 0.011*\"Trump...</td>\n",
       "    </tr>\n",
       "    <tr>\n",
       "      <th>7</th>\n",
       "      <td>19</td>\n",
       "      <td>0.15</td>\n",
       "      <td>0.030*\"say\" + 0.007*\"people\" + 0.006*\"EU\" + 0....</td>\n",
       "    </tr>\n",
       "  </tbody>\n",
       "</table>\n",
       "</div>"
      ],
      "text/plain": [
       "   topic #  weight                                     words in topic\n",
       "0        2    0.05  0.015*\"say\" + 0.013*\"restaurant\" + 0.010*\"town...\n",
       "1        3    0.24  0.024*\"say\" + 0.007*\"tell\" + 0.007*\"people\" + ...\n",
       "2        4    0.07  0.013*\"say\" + 0.012*\"water\" + 0.009*\"time\" + 0...\n",
       "3        7    0.27  0.024*\"say\" + 0.012*\"people\" + 0.009*\"day\" + 0...\n",
       "4        9    0.08  0.019*\"say\" + 0.011*\"write\" + 0.010*\"Images\" +...\n",
       "5       12    0.04  0.019*\"say\" + 0.010*\"tell\" + 0.009*\"report\" + ...\n",
       "6       17    0.11  0.025*\"say\" + 0.013*\"president\" + 0.011*\"Trump...\n",
       "7       19    0.15  0.030*\"say\" + 0.007*\"people\" + 0.006*\"EU\" + 0...."
      ]
     },
     "execution_count": 49,
     "metadata": {},
     "output_type": "execute_result"
    }
   ],
   "source": [
    "document = '''Eric Tucker, a 35-year-old co-founder of a marketing company in Austin, Tex., had just about 40 Twitter followers. But his recent tweet about paid protesters being bused to demonstrations against President-elect Donald J. Trump fueled a nationwide conspiracy theory — one that Mr. Trump joined in promoting. \n",
    "\n",
    "Mr. Tucker's post was shared at least 16,000 times on Twitter and more than 350,000 times on Facebook. The problem is that Mr. Tucker got it wrong. There were no such buses packed with paid protesters.\n",
    "\n",
    "But that didn't matter.\n",
    "\n",
    "While some fake news is produced purposefully by teenagers in the Balkans or entrepreneurs in the United States seeking to make money from advertising, false information can also arise from misinformed social media posts by regular people that are seized on and spread through a hyperpartisan blogosphere.\n",
    "\n",
    "Here, The New York Times deconstructs how Mr. Tucker’s now-deleted declaration on Twitter the night after the election turned into a fake-news phenomenon. It is an example of how, in an ever-connected world where speed often takes precedence over truth, an observation by a private citizen can quickly become a talking point, even as it is being proved false.'''\n",
    "\n",
    "doc = nlp(document)\n",
    "sentences = sentencizer(doc)\n",
    "new_tokens = lemmatizer(sentences)\n",
    "new_tokens = flatten_tokens(new_tokens)\n",
    "\n",
    "# Recupero i topics, formattati come stringhe, 20 parole max per ognuno\n",
    "topics = lda_model.show_topics(formatted=True, num_topics=num_topics, num_words=20)\n",
    "# creo un dataframe con i topic abbinati al documento qui sopra\n",
    "# per ogni topic recupero il numero, la sua probabilità e le parole associate (topics[el[0]][1])\n",
    "pd.DataFrame([(el[0], round(el[1],2), topics[el[0]][1]) for el in lda_model[dictionary_LDA.doc2bow(new_tokens)]], columns=['topic #', 'weight', 'words in topic'])"
   ]
  },
  {
   "cell_type": "markdown",
   "metadata": {},
   "source": [
    "Update LDA model with new document"
   ]
  },
  {
   "cell_type": "code",
   "execution_count": 50,
   "metadata": {},
   "outputs": [],
   "source": [
    "def process_doc(doc):\n",
    "    d = nlp(document)\n",
    "    sentences = sentencizer(d)\n",
    "    new_tokens = lemmatizer(sentences)\n",
    "    new_tokens = flatten_tokens(new_tokens)\n",
    "\n",
    "def update_lda_model(model, doc):\n",
    "    pass\n"
   ]
  },
  {
   "cell_type": "code",
   "execution_count": 52,
   "metadata": {},
   "outputs": [],
   "source": [
    "lda_model.update([dictionary_LDA.doc2bow(new_tokens)])"
   ]
  },
  {
   "cell_type": "markdown",
   "metadata": {
    "colab_type": "text",
    "id": "LGtwgoy5XIpj"
   },
   "source": [
    "## Advanced exploration of LDA results"
   ]
  },
  {
   "cell_type": "markdown",
   "metadata": {
    "colab_type": "text",
    "id": "dZVA4mW7XIpk"
   },
   "source": [
    "#### Allocation of topics in all documents"
   ]
  },
  {
   "cell_type": "code",
   "execution_count": 53,
   "metadata": {
    "colab": {},
    "colab_type": "code",
    "id": "oYezjcvfXIpl"
   },
   "outputs": [],
   "source": [
    "# abbino ogni topic ad un documento\n",
    "topics = [lda_model[corpus[i]] for i in range(len(data))]"
   ]
  },
  {
   "cell_type": "code",
   "execution_count": 54,
   "metadata": {
    "colab": {
     "base_uri": "https://localhost:8080/",
     "height": 80
    },
    "colab_type": "code",
    "id": "9mbogAo2XIpn",
    "outputId": "c43dcecc-5a56-4af5-e086-1d121e183223"
   },
   "outputs": [
    {
     "data": {
      "text/html": [
       "<div>\n",
       "<style scoped>\n",
       "    .dataframe tbody tr th:only-of-type {\n",
       "        vertical-align: middle;\n",
       "    }\n",
       "\n",
       "    .dataframe tbody tr th {\n",
       "        vertical-align: top;\n",
       "    }\n",
       "\n",
       "    .dataframe thead th {\n",
       "        text-align: right;\n",
       "    }\n",
       "</style>\n",
       "<table border=\"1\" class=\"dataframe\">\n",
       "  <thead>\n",
       "    <tr style=\"text-align: right;\">\n",
       "      <th></th>\n",
       "      <th>0</th>\n",
       "      <th>1</th>\n",
       "      <th>2</th>\n",
       "      <th>3</th>\n",
       "      <th>4</th>\n",
       "      <th>5</th>\n",
       "      <th>6</th>\n",
       "      <th>7</th>\n",
       "      <th>8</th>\n",
       "      <th>9</th>\n",
       "      <th>10</th>\n",
       "      <th>11</th>\n",
       "      <th>12</th>\n",
       "      <th>13</th>\n",
       "      <th>14</th>\n",
       "      <th>15</th>\n",
       "      <th>16</th>\n",
       "      <th>17</th>\n",
       "      <th>18</th>\n",
       "      <th>19</th>\n",
       "    </tr>\n",
       "  </thead>\n",
       "  <tbody>\n",
       "    <tr>\n",
       "      <th>0</th>\n",
       "      <td>NaN</td>\n",
       "      <td>NaN</td>\n",
       "      <td>NaN</td>\n",
       "      <td>NaN</td>\n",
       "      <td>NaN</td>\n",
       "      <td>NaN</td>\n",
       "      <td>NaN</td>\n",
       "      <td>NaN</td>\n",
       "      <td>NaN</td>\n",
       "      <td>0.0385366</td>\n",
       "      <td>NaN</td>\n",
       "      <td>NaN</td>\n",
       "      <td>NaN</td>\n",
       "      <td>NaN</td>\n",
       "      <td>NaN</td>\n",
       "      <td>0.0913012</td>\n",
       "      <td>NaN</td>\n",
       "      <td>NaN</td>\n",
       "      <td>0.869287</td>\n",
       "      <td>NaN</td>\n",
       "    </tr>\n",
       "  </tbody>\n",
       "</table>\n",
       "</div>"
      ],
      "text/plain": [
       "     0    1    2    3    4    5    6    7    8          9   10   11   12   13  \\\n",
       "0  NaN  NaN  NaN  NaN  NaN  NaN  NaN  NaN  NaN  0.0385366  NaN  NaN  NaN  NaN   \n",
       "\n",
       "    14         15   16   17        18   19  \n",
       "0  NaN  0.0913012  NaN  NaN  0.869287  NaN  "
      ]
     },
     "execution_count": 54,
     "metadata": {},
     "output_type": "execute_result"
    }
   ],
   "source": [
    "def topics_document_to_dataframe(topics_document, num_topics):\n",
    "    res = pd.DataFrame(columns=range(num_topics))\n",
    "    for topic_weight in topics_document:\n",
    "        res.loc[0, topic_weight[0]] = topic_weight[1]\n",
    "    return res\n",
    "\n",
    "topics_document_to_dataframe([(9, 0.03853655432967504), (15, 0.09130117862212643), (18, 0.8692868808484044)], 20)"
   ]
  },
  {
   "cell_type": "code",
   "execution_count": 55,
   "metadata": {
    "colab": {},
    "colab_type": "code",
    "id": "EB2sj066XIpp"
   },
   "outputs": [],
   "source": [
    "# Like TF-IDF, create a matrix of topic weighting, with documents as rows and topics as columns\n",
    "document_topic = \\\n",
    "pd.concat([topics_document_to_dataframe(topics_document, num_topics=num_topics) for topics_document in topics]) \\\n",
    "  .reset_index(drop=True).fillna(0)"
   ]
  },
  {
   "cell_type": "code",
   "execution_count": 56,
   "metadata": {
    "colab": {
     "base_uri": "https://localhost:8080/",
     "height": 204
    },
    "colab_type": "code",
    "id": "nF_Zdbh7XIpr",
    "outputId": "14730814-2a61-469d-f8d9-d7ca4f009980",
    "scrolled": true
   },
   "outputs": [
    {
     "data": {
      "text/html": [
       "<div>\n",
       "<style scoped>\n",
       "    .dataframe tbody tr th:only-of-type {\n",
       "        vertical-align: middle;\n",
       "    }\n",
       "\n",
       "    .dataframe tbody tr th {\n",
       "        vertical-align: top;\n",
       "    }\n",
       "\n",
       "    .dataframe thead th {\n",
       "        text-align: right;\n",
       "    }\n",
       "</style>\n",
       "<table border=\"1\" class=\"dataframe\">\n",
       "  <thead>\n",
       "    <tr style=\"text-align: right;\">\n",
       "      <th></th>\n",
       "      <th>0</th>\n",
       "      <th>1</th>\n",
       "      <th>2</th>\n",
       "      <th>3</th>\n",
       "      <th>4</th>\n",
       "      <th>5</th>\n",
       "      <th>6</th>\n",
       "      <th>7</th>\n",
       "      <th>8</th>\n",
       "      <th>9</th>\n",
       "      <th>10</th>\n",
       "      <th>11</th>\n",
       "      <th>12</th>\n",
       "      <th>13</th>\n",
       "      <th>14</th>\n",
       "      <th>15</th>\n",
       "      <th>16</th>\n",
       "      <th>17</th>\n",
       "      <th>18</th>\n",
       "      <th>19</th>\n",
       "    </tr>\n",
       "  </thead>\n",
       "  <tbody>\n",
       "    <tr>\n",
       "      <th>0</th>\n",
       "      <td>0.0</td>\n",
       "      <td>0.0</td>\n",
       "      <td>0.000000</td>\n",
       "      <td>0.0</td>\n",
       "      <td>0.0</td>\n",
       "      <td>0.0</td>\n",
       "      <td>0.0</td>\n",
       "      <td>0.0</td>\n",
       "      <td>0.827748</td>\n",
       "      <td>0.0</td>\n",
       "      <td>0.0</td>\n",
       "      <td>0.0</td>\n",
       "      <td>0.000000</td>\n",
       "      <td>0.0</td>\n",
       "      <td>0.0</td>\n",
       "      <td>0.000000</td>\n",
       "      <td>0.0</td>\n",
       "      <td>0.170508</td>\n",
       "      <td>0.0</td>\n",
       "      <td>0.000000</td>\n",
       "    </tr>\n",
       "    <tr>\n",
       "      <th>1</th>\n",
       "      <td>0.0</td>\n",
       "      <td>0.0</td>\n",
       "      <td>0.000000</td>\n",
       "      <td>0.0</td>\n",
       "      <td>0.0</td>\n",
       "      <td>0.0</td>\n",
       "      <td>0.0</td>\n",
       "      <td>0.0</td>\n",
       "      <td>0.677008</td>\n",
       "      <td>0.0</td>\n",
       "      <td>0.0</td>\n",
       "      <td>0.0</td>\n",
       "      <td>0.301036</td>\n",
       "      <td>0.0</td>\n",
       "      <td>0.0</td>\n",
       "      <td>0.000000</td>\n",
       "      <td>0.0</td>\n",
       "      <td>0.000000</td>\n",
       "      <td>0.0</td>\n",
       "      <td>0.000000</td>\n",
       "    </tr>\n",
       "    <tr>\n",
       "      <th>2</th>\n",
       "      <td>0.0</td>\n",
       "      <td>0.0</td>\n",
       "      <td>0.000000</td>\n",
       "      <td>0.0</td>\n",
       "      <td>0.0</td>\n",
       "      <td>0.0</td>\n",
       "      <td>0.0</td>\n",
       "      <td>0.0</td>\n",
       "      <td>0.000000</td>\n",
       "      <td>0.0</td>\n",
       "      <td>0.0</td>\n",
       "      <td>0.0</td>\n",
       "      <td>0.000000</td>\n",
       "      <td>0.0</td>\n",
       "      <td>0.0</td>\n",
       "      <td>0.000000</td>\n",
       "      <td>0.0</td>\n",
       "      <td>0.000000</td>\n",
       "      <td>0.0</td>\n",
       "      <td>0.998828</td>\n",
       "    </tr>\n",
       "    <tr>\n",
       "      <th>3</th>\n",
       "      <td>0.0</td>\n",
       "      <td>0.0</td>\n",
       "      <td>0.000000</td>\n",
       "      <td>0.0</td>\n",
       "      <td>0.0</td>\n",
       "      <td>0.0</td>\n",
       "      <td>0.0</td>\n",
       "      <td>0.0</td>\n",
       "      <td>0.000000</td>\n",
       "      <td>0.0</td>\n",
       "      <td>0.0</td>\n",
       "      <td>0.0</td>\n",
       "      <td>0.000000</td>\n",
       "      <td>0.0</td>\n",
       "      <td>0.0</td>\n",
       "      <td>0.318129</td>\n",
       "      <td>0.0</td>\n",
       "      <td>0.656864</td>\n",
       "      <td>0.0</td>\n",
       "      <td>0.000000</td>\n",
       "    </tr>\n",
       "    <tr>\n",
       "      <th>4</th>\n",
       "      <td>0.0</td>\n",
       "      <td>0.0</td>\n",
       "      <td>0.999001</td>\n",
       "      <td>0.0</td>\n",
       "      <td>0.0</td>\n",
       "      <td>0.0</td>\n",
       "      <td>0.0</td>\n",
       "      <td>0.0</td>\n",
       "      <td>0.000000</td>\n",
       "      <td>0.0</td>\n",
       "      <td>0.0</td>\n",
       "      <td>0.0</td>\n",
       "      <td>0.000000</td>\n",
       "      <td>0.0</td>\n",
       "      <td>0.0</td>\n",
       "      <td>0.000000</td>\n",
       "      <td>0.0</td>\n",
       "      <td>0.000000</td>\n",
       "      <td>0.0</td>\n",
       "      <td>0.000000</td>\n",
       "    </tr>\n",
       "  </tbody>\n",
       "</table>\n",
       "</div>"
      ],
      "text/plain": [
       "     0    1         2    3    4    5    6    7         8    9   10   11  \\\n",
       "0  0.0  0.0  0.000000  0.0  0.0  0.0  0.0  0.0  0.827748  0.0  0.0  0.0   \n",
       "1  0.0  0.0  0.000000  0.0  0.0  0.0  0.0  0.0  0.677008  0.0  0.0  0.0   \n",
       "2  0.0  0.0  0.000000  0.0  0.0  0.0  0.0  0.0  0.000000  0.0  0.0  0.0   \n",
       "3  0.0  0.0  0.000000  0.0  0.0  0.0  0.0  0.0  0.000000  0.0  0.0  0.0   \n",
       "4  0.0  0.0  0.999001  0.0  0.0  0.0  0.0  0.0  0.000000  0.0  0.0  0.0   \n",
       "\n",
       "         12   13   14        15   16        17   18        19  \n",
       "0  0.000000  0.0  0.0  0.000000  0.0  0.170508  0.0  0.000000  \n",
       "1  0.301036  0.0  0.0  0.000000  0.0  0.000000  0.0  0.000000  \n",
       "2  0.000000  0.0  0.0  0.000000  0.0  0.000000  0.0  0.998828  \n",
       "3  0.000000  0.0  0.0  0.318129  0.0  0.656864  0.0  0.000000  \n",
       "4  0.000000  0.0  0.0  0.000000  0.0  0.000000  0.0  0.000000  "
      ]
     },
     "execution_count": 56,
     "metadata": {},
     "output_type": "execute_result"
    }
   ],
   "source": [
    "document_topic.head()"
   ]
  },
  {
   "cell_type": "code",
   "execution_count": 57,
   "metadata": {
    "colab": {
     "base_uri": "https://localhost:8080/",
     "height": 374
    },
    "colab_type": "code",
    "id": "xH6IAJakXIpw",
    "outputId": "1a44672a-a5d8-405e-dbb0-622327e30a59"
   },
   "outputs": [
    {
     "data": {
      "text/plain": [
       "241    0.999438\n",
       "109    0.996895\n",
       "71     0.984424\n",
       "151    0.984424\n",
       "232    0.969351\n",
       "76     0.831271\n",
       "143    0.689240\n",
       "96     0.668776\n",
       "243    0.294629\n",
       "234    0.128494\n",
       "16     0.070669\n",
       "238    0.069059\n",
       "107    0.067530\n",
       "108    0.056969\n",
       "123    0.050000\n",
       "55     0.050000\n",
       "192    0.022944\n",
       "240    0.015589\n",
       "169    0.000000\n",
       "167    0.000000\n",
       "Name: 14, dtype: float64"
      ]
     },
     "execution_count": 57,
     "metadata": {},
     "output_type": "execute_result"
    }
   ],
   "source": [
    "# Which document are about topic 14\n",
    "document_topic.sort_values(14, ascending=False)[14].head(20)"
   ]
  },
  {
   "cell_type": "code",
   "execution_count": 58,
   "metadata": {
    "colab": {
     "base_uri": "https://localhost:8080/",
     "height": 340
    },
    "colab_type": "code",
    "id": "WQlnaAsaXIpz",
    "outputId": "3ba5e070-7fc3-4dea-bc4a-a10910a2d225",
    "scrolled": true
   },
   "outputs": [],
   "source": [
    "#print(data.articles.loc[91][:1000])"
   ]
  },
  {
   "cell_type": "markdown",
   "metadata": {
    "colab_type": "text",
    "id": "xkvBPOQ_XIp1"
   },
   "source": [
    "#### Looking at the distribution of topics in all documents"
   ]
  },
  {
   "cell_type": "code",
   "execution_count": 59,
   "metadata": {
    "colab": {
     "base_uri": "https://localhost:8080/",
     "height": 1000
    },
    "colab_type": "code",
    "id": "FM64wOE3XIp2",
    "outputId": "5e50a0ef-15e4-449d-9cf3-f19dc4a0b83d"
   },
   "outputs": [
    {
     "data": {
      "text/plain": [
       "<matplotlib.axes._subplots.AxesSubplot at 0x7fe79aeff8d0>"
      ]
     },
     "execution_count": 59,
     "metadata": {},
     "output_type": "execute_result"
    },
    {
     "data": {
      "image/png": "[encoded data removed]",
      "text/plain": [
       "<Figure size 720x1440 with 2 Axes>"
      ]
     },
     "metadata": {},
     "output_type": "display_data"
    }
   ],
   "source": [
    "%matplotlib inline\n",
    "import seaborn as sns; sns.set(rc={'figure.figsize':(10,20)})\n",
    "sns.heatmap(document_topic.loc[document_topic.idxmax(axis=1).sort_values().index])"
   ]
  },
  {
   "cell_type": "code",
   "execution_count": 60,
   "metadata": {
    "colab": {
     "base_uri": "https://localhost:8080/",
     "height": 343
    },
    "colab_type": "code",
    "id": "oV4nDst4XIp4",
    "outputId": "2314c444-2b42-4ce8-a867-40c6b12ffc55"
   },
   "outputs": [
    {
     "data": {
      "text/plain": [
       "<matplotlib.axes._subplots.AxesSubplot at 0x7fe79ac2aa50>"
      ]
     },
     "execution_count": 60,
     "metadata": {},
     "output_type": "execute_result"
    },
    {
     "data": {
      "image/png": "[encoded data removed]",
      "text/plain": [
       "<Figure size 720x360 with 1 Axes>"
      ]
     },
     "metadata": {},
     "output_type": "display_data"
    }
   ],
   "source": [
    "sns.set(rc={'figure.figsize':(10,5)})\n",
    "document_topic.idxmax(axis=1).value_counts().plot.bar(color='lightblue')"
   ]
  },
  {
   "cell_type": "markdown",
   "metadata": {},
   "source": [
    "Saving model to file"
   ]
  },
  {
   "cell_type": "code",
   "execution_count": 41,
   "metadata": {},
   "outputs": [
    {
     "name": "stdout",
     "output_type": "stream",
     "text": [
      "'Saving...'\n",
      "'Model saved!'\n",
      "'== Test model loading =='\n",
      "'Loading...'\n",
      "'Model loaded!'\n"
     ]
    }
   ],
   "source": [
    "import pickle\n",
    "\n",
    "pprint(\"Saving...\")\n",
    "def save_lda_model():\n",
    "    file_name = \"./lda_model/lda_checkpoint\"\n",
    "    chekpointfile = open(file_name, \"wb\")\n",
    "    pickle.dump(lda_model, chekpointfile)\n",
    "    chekpointfile.close()\n",
    "    return\n",
    "\n",
    "pprint(\"Model saved!\")\n",
    "pprint(\"== Test model loading ==\")\n",
    "pprint(\"Loading...\")\n",
    "\n",
    "def load_lda_model():\n",
    "    file_name = \"./lda_model/lda_checkpoint\"\n",
    "    checkpointfile = open(file_name,\"rb\")\n",
    "    loaded_lda = pickle.load(checkpointfile)\n",
    "    checkpointfile.close()\n",
    "    return loaded_lda\n",
    "\n",
    "new_lda = load_lda_model()\n",
    "pprint(\"Model loaded!\")\n"
   ]
  },
  {
   "cell_type": "markdown",
   "metadata": {},
   "source": [
    "#### Coherence Score"
   ]
  },
  {
   "cell_type": "code",
   "execution_count": 61,
   "metadata": {},
   "outputs": [
    {
     "data": {
      "text/plain": [
       "0.30810904819523544"
      ]
     },
     "execution_count": 61,
     "metadata": {},
     "output_type": "execute_result"
    }
   ],
   "source": [
    "from gensim.models import CoherenceModel\n",
    "def compute_coherence_values(tokens, corpus, dictionary, k, alpha, beta):\n",
    "    temp_lda_model = gensim.models.LdaModel(corpus = corpus,\n",
    "\t\t\t\t\t\t\t\t\t\t\tid2word = dictionary_LDA,\n",
    "\t\t\t\t\t\t\t\t\t\t\tnum_topics = 10,\n",
    "\t\t\t\t\t\t\t\t\t\t\tpasses = 10,\n",
    "\t\t\t\t\t\t\t\t\t\t\talpha = alpha,\n",
    "\t\t\t\t\t\t\t\t\t\t\teta = beta)\n",
    "    # tokens are (lemmatized tokens + bigram + trigram) -> to list\n",
    "    coherence_model_lda = CoherenceModel(model = temp_lda_model,\n",
    "                                         texts = tokens,\n",
    "                                         dictionary = dictionary_LDA,\n",
    "                                         coherence = 'c_v')\n",
    "    return coherence_model_lda.get_coherence()\n",
    "\n",
    "# FIX THIS CALL\n",
    "compute_coherence_values(tokens, corpus, dictionary, k, alpha, beta)"
   ]
  },
  {
   "cell_type": "markdown",
   "metadata": {
    "colab_type": "text",
    "id": "qf2PrF6eXIp6"
   },
   "source": [
    "#### Visualizing topics"
   ]
  },
  {
   "cell_type": "code",
   "execution_count": 40,
   "metadata": {
    "colab": {},
    "colab_type": "code",
    "id": "SP32LP6-XIp6",
    "outputId": "6e9a8f5d-b5f5-4f64-f114-6bc99e3666c1"
   },
   "outputs": [
    {
     "data": {
      "text/html": [
       "\n",
       "<link rel=\"stylesheet\" type=\"text/css\" href=\"https://cdn.rawgit.com/bmabey/pyLDAvis/files/ldavis.v1.0.0.css\">\n",
       "\n",
       "\n",
       "<div id=\"ldavis_el86001405619468314406694241354\"></div>\n",
       "<script type=\"text/javascript\">\n",
       "\n",
       "var ldavis_el86001405619468314406694241354_data = {\"mdsDat\": {\"x\": [-0.019948774838007232, 0.05879022176985741, -0.0021496071397567396, -0.1309163483008607, -0.04996965912512769, -0.033123511467089584, 0.046115633317238246, 0.06428172756359841, -0.25730730295072146, 0.09878274787174784, 0.03397796618034932, -0.027116898346106127, 0.032633628152963286, 0.005932454184418203, 0.007971873070949055, 0.13385181795707218, 0.038353369555306854, 0.030120333281296825, -0.0352324180867288, 0.004952747349600613], \"y\": [0.022180883107569455, -0.05003080944771999, 0.06731282103992745, -0.06930313335326617, 0.02843741200094473, 0.08449522231100208, -0.05142016646022442, -0.0321263062097567, -0.10031155161222646, 0.014907358047333173, 0.06371174882658061, 0.09745601970707468, 0.04023674135882009, 0.010992601952001744, 0.0424054518894173, -0.12554514996632637, -0.17064089062601553, 0.035214702727500324, 0.08902525579223698, 0.0030017889151284123], \"topics\": [1, 2, 3, 4, 5, 6, 7, 8, 9, 10, 11, 12, 13, 14, 15, 16, 17, 18, 19, 20], \"cluster\": [1, 1, 1, 1, 1, 1, 1, 1, 1, 1, 1, 1, 1, 1, 1, 1, 1, 1, 1, 1], \"Freq\": [19.312015533447266, 10.65241813659668, 10.619351387023926, 10.30471134185791, 6.831977367401123, 5.995879173278809, 4.371386528015137, 3.7129907608032227, 3.6991794109344482, 3.582209825515747, 3.3085551261901855, 2.54925274848938, 2.4285292625427246, 2.336348533630371, 2.3152718544006348, 2.283203125, 1.7542047500610352, 1.4592576026916504, 1.4588197469711304, 1.024435043334961]}, \"tinfo\": {\"Term\": [\"Times\", \"bus\", \"say\", \"Trump\", \"post\", \"seize\", \"false\", \"Twitter\", \"wrong\", \"pack\", \"news\", \"promote\", \"join\", \"truth\", \"recent\", \"twitter\", \"pay\", \"New\", \"tweet\", \"election\", \"night\", \"fuel\", \"information\", \"40\", \"United\", \"president\", \"money\", \"Facebook\", \"company\", \"find\", \"glitter\", \"compromise\", \"coral\", \"spectacular\", \"seal\", \"plus\", \"lower\", \"chemical\", \"disturb\", \"best_know\", \"ongoing\", \"crest\", \"Best\", \"darkness\", \"symbol\", \"mid\", \"marine\", \"physically\", \"pro\", \"large_number\", \"Eastern\", \"bacteria\", \"surprising\", \"knock\", \"impressed\", \"newly\", \"rocket\", \"unit\", \"OurBluePlanet_collaboration\", \"occur\", \"satellite\", \"usually\", \"tree\", \"Australia\", \"Ansar_Dine\", \"EU\", \"recall\", \"release\", \"water\", \"night\", \"highly\", \"2011\", \"natural\", \"coast\", \"Tuareg\", \"chance\", \"shape\", \"time\", \"seek\", \"vision\", \"generation\", \"come\", \"Europe\", \"way\", \"understand\", \"find\", \"say\", \"start\", \"serve\", \"live\", \"day\", \"call\", \"go\", \"year\", \"see\", \"post\", \"end\", \"family\", \"look\", \"know\", \"share\", \"theory\", \"take\", \"world\", \"leave\", \"pay\", \"work\", \"people\", \"produce\", \"example\", \"politic\", \"poverty\", \"race\", \"Actress\", \"God\", \"voice\", \"lady\", \"convince\", \"echo\", \"penalty\", \"income\", \"accusation\", \"email_entertainment.news@bbc.co.uk\", \"importantly\", \"voter\", \"opening\", \"Instagram_bbcnewsent\", \"story_suggestion\", \"twitter_@bbcnewsent\", \"Argentina\", \"month_later\", \"Congress\", \"sport\", \"resolve\", \"global\", \"payment\", \"wear_white\", \"rose\", \"allegation\", \"opposition_leader\", \"performance\", \"EPA\", \"Brexiteers\", \"AFP_Images\", \"sanction\", \"economic\", \"crisis\", \"Images\", \"benefit\", \"party\", \"trade\", \"economy\", \"hospital\", \"prime_minister\", \"military\", \"cut\", \"say\", \"tell\", \"support\", \"go\", \"treatment\", \"political\", \"country\", \"work\", \"leave\", \"report\", \"year\", \"think\", \"people\", \"life\", \"time\", \"help\", \"election\", \"way\", \"day\", \"attack\", \"Brexit\", \"look\", \"feel\", \"government\", \"give\", \"find\", \"devour\", \"engineer\", \"chairman\", \"tunnel\", \"long_time\", \"library\", \"apart\", \"settlement\", \"newborn\", \"average\", \"Museum\", \"stress\", \"fashion\", \"dutch\", \"fruit\", \"tall\", \"preserve\", \"lab\", \"neighbourhood\", \"convert\", \"valuable\", \"corner\", \"Netherlands\", \"cake\", \"define\", \"trend\", \"Wood\", \"Centre\", \"resident\", \"initiative\", \"evolve\", \"building\", \"underground\", \"model\", \"healthcare\", \"prey\", \"neighbour\", \"criminal\", \"city\", \"cafe\", \"school\", \"eat\", \"order\", \"long\", \"border\", \"represent\", \"University\", \"build\", \"say\", \"sleep\", \"day\", \"work\", \"past\", \"founder\", \"time\", \"find\", \"age\", \"remain\", \"away\", \"help\", \"job\", \"include\", \"old\", \"place\", \"world\", \"people\", \"know\", \"feel\", \"false\", \"Facebook\", \"private\", \"medium\", \"citizen\", \"help_stay\", \"speed\", \"talk_family\", \"grow_body\", \"old_girl\", \"teenager\", \"bow\", \"founder\", \"entry\", \"crazy\", \"Anderson\", \"quiet\", \"whale\", \"connect\", \"difference\", \"monitor\", \"cancel\", \"truth\", \"pile\", \"pay\", \"United\", \"spread\", \"prove\", \"theory\", \"regular\", \"social\", \"Trump\", \"election\", \"news\", \"get\", \"co\", \"old\", \"seek\", \"matter\", \"company\", \"President\", \"40\", \"example\", \"turn\", \"time\", \"people\", \"say\", \"take\", \"world\", \"seize\", \"approve\", \"thinking\", \"consultation\", \"council\", \"take_control\", \"enhanced\", \"marriage\", \"backdrop\", \"Parliament\", \"separatist\", \"wrong\", \"blame\", \"pack\", \"promote\", \"rating\", \"coalition\", \"game\", \"intervention\", \"proposal\", \"pollution\", \"fuel\", \"Kidal\", \"yes\", \"wood\", \"40,000\", \"stability\", \"Google\", \"drug\", \"coup\", \"district\", \"worried\", \"chinese\", \"student\", \"tackle\", \"President\", \"review\", \"quickly\", \"question\", \"Twitter\", \"social\", \"case\", \"say\", \"co\", \"problem\", \"force\", \"produce\", \"challenge\", \"take\", \"point\", \"government\", \"example\", \"think\", \"plan\", \"people\", \"join\", \"time\", \"productivity\", \"sunshine\", \"span\", \"cave\", \"organ\", \"bed\", \"transparent\", \"thick\", \"gradual\", \"climate\", \"visible\", \"interfere\", \"sunlight\", \"thousand_year\", \"unable\", \"clever\", \"particularly_badly\", \"minimise\", \"entirely\", \"emit\", \"desert\", \"boost\", \"stronghold\", \"improved\", \"UK_government\", \"mood\", \"flood\", \"distract\", \"village\", \"weird\", \"easily\", \"hide\", \"light\", \"wing\", \"shift\", \"winter\", \"transparency\", \"colour\", \"warm\", \"sleep\", \"predator\", \"eye\", \"live\", \"animal\", \"form\", \"area\", \"make\", \"People\", \"employee\", \"researcher\", \"local\", \"region\", \"house\", \"say\", \"work\", \"body\", \"new\", \"find\", \"long\", \"people\", \"help\", \"little\", \"tell\", \"feel\", \"day\", \"get\", \"company\", \"way\", \"time\", \"haunt\", \"tragedy\", \"Sally\", \"good_news\", \"Christian\", \"February\", \"trip\", \"hero\", \"aftermath\", \"theft\", \"square\", \"assessment\", \"Sweden\", \"22\", \"Mexico\", \"Martin\", \"11:00\", \"bomb\", \"consist\", \"Taiwan\", \"tell_story\", \"photography\", \"civil\", \"circumstance\", \"listener\", \"seriously\", \"israeli\", \"passenger\", \"photo\", \"injure\", \"dish\", \"photograph\", \"China\", \"moment\", \"general\", \"route\", \"eventually\", \"war\", \"die\", \"say\", \"Israel\", \"David\", \"deal\", \"take\", \"show\", \"man\", \"head\", \"flight\", \"include\", \"ask\", \"people\", \"time\", \"return\", \"old\", \"try\", \"go\", \"week\", \"add\", \"tell\", \"year\", \"find\", \"child\", \"rescue\", \"robot\", \"scandal\", \"Russians\", \"algorithm\", \"celebration\", \"manager\", \"mount\", \"accident\", \"suspicion\", \"comfortable\", \"tribute\", \"legend\", \"human_being\", \"era\", \"personality\", \"machine\", \"England\", \"Putin\", \"fan\", \"copy\", \"concern\", \"principle\", \"chase\", \"abuse\", \"scheme\", \"iraqi\", \"suspicious\", \"past_year\", \"Street\", \"chief\", \"govern\", \"laugh\", \"harm\", \"democratic\", \"system\", \"human\", \"technology\", \"datum\", \"Images\", \"report\", \"play\", \"actor\", \"David\", \"club\", \"customer\", \"say\", \"list\", \"journalist\", \"right\", \"teach\", \"company\", \"News\", \"people\", \"test\", \"cause\", \"time\", \"home\", \"take\", \"work\", \"law\", \"bus\", \"twitter\", \"writing\", \"spy\", \"New\", \"tweet\", \"totally\", \"recent\", \"script\", \"anger\", \"alert\", \"post\", \"core\", \"Commission\", \"join\", \"register\", \"block\", \"statistic\", \"rape\", \"Twitter\", \"invest\", \"Palestine\", \"weekday\", \"money\", \"United\", \"India\", \"bull\", \"joy\", \"punishment\", \"write\", \"information\", \"news\", \"40\", \"share\", \"night\", \"point\", \"Israel\", \"turn\", \"produce\", \"Africa\", \"world\", \"people\", \"Trump\", \"matter\", \"time\", \"problem\", \"say\", \"get\", \"take\", \"year\", \"app_store\", \"leave_EU\", \"better_watch\", \"watch_moment\", \"tablet_Attenborough\", \"moment_free\", \"collaboration_Sir_David\", \"download_Google\", \"idea_innovation\", \"Play_Apple\", \"company_AKQA\", \"find_http://www.bbc.com/earth/storyoflife\", \"Sir_David_Attenborough\", \"1,000_memorable\", \"Story_Life_app_available\", \"Story_Life_produce\", \"Attenborough_Earth\", \"anytime_smartphone\", \"filmmaker\", \"phase\", \"coverage\", \"Amazon\", \"transition\", \"item\", \"dirt\", \"officially\", \"overnight\", \"medium_play\", \"forecast\", \"status_quo\", \"Brexit\", \"purchase\", \"store\", \"deal\", \"prize\", \"document\", \"UK\", \"EU\", \"rule\", \"accept\", \"bird\", \"Reuters\", \"app\", \"device\", \"expect\", \"tell\", \"code\", \"open\", \"leave\", \"exist\", \"say\", \"government\", \"year\", \"moment\", \"London\", \"time\", \"accord\", \"go\", \"work\", \"find\", \"logo\", \"girlfriend\", \"flower\", \"Colin\", \"exchange\", \"ant\", \"snap\", \"compete\", \"shrimp\", \"swipe\", \"kick\", \"mate\", \"brain\", \"horse\", \"chair\", \"Friday\", \"bee\", \"grave\", \"male\", \"tight\", \"homeless\", \"organise\", \"trace\", \"tourism\", \"cook\", \"punishment\", \"Travel\", \"15\", \"dedicated\", \"brief\", \"native\", \"part\", \"tiny\", \"suppose\", \"bone\", \"treatment\", \"forest\", \"bird\", \"design\", \"husband\", \"study\", \"die\", \"big\", \"say\", \"call\", \"animal\", \"believe\", \"accord\", \"local\", \"tell\", \"describe\", \"help\", \"look\", \"fast\", \"country\", \"people\", \"travel\", \"output\", \"relevant\", \"software\", \"outline\", \"30/01/2018\", \"arrangement\", \"Android\", \"aircraft\", \"appropriate\", \"routine\", \"weekday\", \"News_app\", \"craft\", \"blog\", \"link\", \"standard\", \"data\", \"error\", \"audience\", \"material\", \"statistic\", \"variety\", \"additional\", \"ultimate\", \"exceptional\", \"iPhone\", \"page\", \"News\", \"source\", \"attribute\", \"datum\", \"competition\", \"mobile\", \"content\", \"journalist\", \"trust\", \"detail\", \"code\", \"design\", \"story\", \"information\", \"run\", \"independent\", \"UK\", \"find\", \"work\", \"subject\", \"news\", \"include\", \"world\", \"call\", \"say\", \"help\", \"time\", \"list\", \"album\", \"Radio_1Xtra\", \"listen_Newsbeat\", \"17:45_weekday\", \"miss_listen\", \"live_12:45\", \"tablet\", \"Bruno_Mars\", \"30_minute\", \"equivalent\", \"Jonathan\", \"tech\", \"product\", \"Grammys\", \"testing\", \"bounce\", \"provoke\", \"human\", \"usual\", \"trump\", \"exact\", \"experiment\", \"typical\", \"super\", \"Video\", \"essential\", \"man_woman\", \"strategy\", \"ask_look\", \"cloud\", \"conduct\", \"professor\", \"music\", \"fast\", \"increase\", \"song\", \"fund\", \"website\", \"study\", \"monkey\", \"test\", \"effect\", \"success\", \"level\", \"America\", \"say\", \"win\", \"know\", \"follow\", \"company\", \"year\", \"work\", \"story\", \"day\", \"report\", \"good\", \"time\", \"photographer\", \"visual\", \"recreate\", \"respect\", \"showcase\", \"image\", \"nice\", \"frontier\", \"designer\", \"Red\", \"unpredictable\", \"ship\", \"handle\", \"sink\", \"split\", \"admire\", \"train\", \"vertical\", \"blog\", \"horizon\", \"art\", \"tool\", \"magazine\", \"artificial\", \"billionaire\", \"Japan\", \"historic\", \"remote\", \"community\", \"Jones\", \"town\", \"artist\", \"account\", \"design\", \"camera\", \"photograph\", \"author\", \"picture\", \"photo\", \"say\", \"video\", \"platform\", \"people\", \"see\", \"home\", \"light\", \"work\", \"official\", \"include\", \"feel\", \"turn\", \"world\", \"time\", \"immediately_clear\", \"look_forward\", \"Americans\", \"good_thing\", \"absolutely\", \"overseas\", \"boy\", \"ticket\", \"2000\", \"accent\", \"crack\", \"wish\", \"cultural\", \"GMT\", \"snack\", \"India\", \"tell_AFP_news_agency\", \"joy\", \"chicken\", \"market\", \"consumer\", \"supermarket\", \"quiz\", \"1,000\", \"broadcaster\", \"quick\", \"Tim\", \"comment_story\", \"engagement\", \"lengthy\", \"bit\", \"found\", \"british\", \"girl\", \"firm\", \"buy\", \"section\", \"son\", \"product\", \"american\", \"daughter\", \"thing\", \"company\", \"UK\", \"say\", \"day\", \"find\", \"introduce\", \"customer\", \"success\", \"state\", \"meet\", \"include\", \"week\", \"come\", \"plan\", \"pack\", \"today\", \"go\", \"study\", \"entity\", \"Dmitry_Peskov\", \"new_sanction\", \"Trump_Russia\", \"Iran_North_Korea\", \"worth_billion\", \"hunter\", \"flawed\", \"murder\", \"alleged_meddling\", \"worth_1bn\", \"russian_official\", \"statement_call\", \"impose_sanction\", \"prosecution\", \"spokeswoman\", \"pizza\", \"march\", \"incident\", \"Vladimir_Putin\", \"guest\", \"elite\", \"renew\", \"block\", \"Kremlin\", \"Dave\", \"reputation\", \"traditionally\", \"prestigious\", \"anger\", \"target\", \"publication\", \"Democrats\", \"list\", \"accuse\", \"russian\", \"sanction\", \"president\", \"plan\", \"man\", \"say\", \"London\", \"kill\", \"police\", \"name\", \"speech\", \"tell\", \"deny\", \"add\", \"activity\", \"South_Africa\", \"politician\", \"attack\", \"Russia\", \"daughter\", \"woman\", \"future\", \"ask\", \"video\", \"political\", \"people\", \"CIA\", \"strand\", \"un\", \"awareness\", \"people_want\", \"survey\", \"sum\", \"curious\", \"Korea\", \"successful\", \"Media\", \"Tim\", \"intelligence\", \"jump\", \"truth\", \"United_States\", \"absurd\", \"engage\", \"trap\", \"dismiss\", \"gold\", \"endanger\", \"deter\", \"ecosystem\", \"unpredictable\", \"assessment\", \"wild\", \"battery\", \"meat\", \"population\", \"reply\", \"Trump\", \"president\", \"America\", \"China\", \"significant\", \"Russia\", \"election\", \"risk\", \"recent\", \"specie\", \"claim\", \"activity\", \"leader\", \"deliver\", \"mean\", \"russian\", \"director\", \"world\", \"stop\", \"say\", \"area\", \"see\", \"country\", \"try\", \"help\", \"matter\", \"issue\", \"15_minute\", \"Chris\", \"2004\", \"beginning\", \"slogan\", \"pair\", \"supermarket\", \"raw\", \"emotional\", \"member_staff\", \"20_year\", \"bloody\", \"regional\", \"girl\", \"dealer\", \"incredible\", \"real_life\", \"pot\", \"stock\", \"pull\", \"accept_responsibility\", \"sad\", \"large_city\", \"presenter\", \"replace\", \"chocolate\", \"flag\", \"price\", \"Britain\", \"exit\", \"shock\", \"judge\", \"series\", \"drug\", \"original\", \"customer\", \"search\", \"thank\", \"defend\", \"photograph\", \"win\", \"scene\", \"push\", \"France\", \"say\", \"discover\", \"live\", \"report\", \"see\", \"tell\", \"take\", \"home\", \"body\", \"family\", \"people\", \"hand\", \"long\", \"add\", \"business\", \"year\", \"close\", \"video\", \"want\", \"second\", \"Times\", \"answer_question\", \"quiz\", \"topic\", \"shy\", \"register\", \"sing\", \"people_want\", \"rage\", \"application\", \"joke\", \"conversation\", \"Florida\", \"Central\", \"32\", \"rate\", \"punish\", \"maker\", \"winner\", \"30/01/2018\", \"contemporary\", \"broad\", \"radical\", \"solid\", \"class\", \"quarter\", \"documentary\", \"asset\", \"dismiss\", \"meat\", \"ingredient\", \"subject\", \"series\", \"join\", \"better\", \"host\", \"100\", \"act\", \"cash\", \"grow\", \"place\", \"pick\", \"school\", \"life\", \"year\", \"see\", \"law\", \"co\", \"time\", \"child\", \"bus\", \"social\", \"people\", \"final\", \"say\", \"go\", \"take\", \"absolute\", \"cousin\", \"petrol\", \"night_shift\", \"university\", \"historic\", \"tank\", \"iraqi\", \"14-year_old\", \"wedding\", \"15_minute\", \"appreciate\", \"sister\", \"dealer\", \"flower\", \"nice\", \"Video\", \"accept_responsibility\", \"stranger\", \"mosque\", \"lean\", \"devil\", \"entertain\", \"far_reach\", \"al\", \"public_service\", \"technician\", \"description\", \"armed\", \"fantastic\", \"analysis\", \"lion\", \"mate\", \"blow\", \"video\", \"fill\", \"Jones\", \"male\", \"say\", \"Radio\", \"find\", \"help\", \"thank\", \"night\", \"decade\", \"military\", \"lot\", \"small\", \"people\", \"pay\", \"job\", \"follow\", \"life\", \"live\", \"day\", \"thing\", \"fuel\"], \"Freq\": [54.0, 68.0, 469.0, 97.0, 94.0, 61.0, 67.0, 87.0, 65.0, 67.0, 90.0, 66.0, 57.0, 41.0, 52.0, 35.0, 92.0, 39.0, 36.0, 56.0, 75.0, 52.0, 50.0, 42.0, 33.0, 36.0, 54.0, 37.0, 82.0, 113.0, 2.993866443634033, 3.0162718296051025, 5.698450565338135, 4.664196014404297, 10.161598205566406, 2.95949649810791, 2.9889893531799316, 3.829946279525757, 3.813429594039917, 2.9269607067108154, 2.905015707015991, 2.876138687133789, 2.882253885269165, 2.8694441318511963, 2.884154796600342, 2.8924264907836914, 3.729924440383911, 3.5831806659698486, 2.846433639526367, 2.8147881031036377, 3.6928586959838867, 3.6993658542633057, 3.4004478454589844, 3.548626661300659, 2.730344295501709, 2.773838758468628, 6.675836086273193, 4.775417804718018, 2.500417709350586, 3.2279486656188965, 9.082812309265137, 9.71484375, 11.301909446716309, 4.292085647583008, 9.011641502380371, 20.777070999145508, 8.521728515625, 17.2923583984375, 19.72098731994629, 33.97132110595703, 7.661477565765381, 5.776966094970703, 5.618372917175293, 4.639979839324951, 5.970813751220703, 10.553361892700195, 10.351802825927734, 52.26095962524414, 21.600534439086914, 6.355858325958252, 8.0382661819458, 22.014373779296875, 10.793764114379883, 22.31451988220215, 9.179429054260254, 30.1500186920166, 73.11663055419922, 17.03972816467285, 12.44274616241455, 18.72453498840332, 26.196504592895508, 19.02509880065918, 22.28070640563965, 22.72283363342285, 16.855188369750977, 21.22136878967285, 12.764604568481445, 13.39354133605957, 16.040176391601562, 15.877249717712402, 14.981571197509766, 14.114542007446289, 18.78038215637207, 18.02519989013672, 14.407870292663574, 16.790149688720703, 17.439279556274414, 17.4802303314209, 13.992596626281738, 14.135725975036621, 3.3299005031585693, 3.3050100803375244, 6.391342639923096, 3.276735305786133, 3.245490789413452, 5.299156188964844, 2.894179344177246, 2.934763193130493, 2.5573432445526123, 4.175299167633057, 5.16441011428833, 3.081944704055786, 4.152994155883789, 2.235650062561035, 3.7876131534576416, 2.221714735031128, 3.2619411945343018, 3.2436110973358154, 3.2498977184295654, 5.097604274749756, 2.5420639514923096, 7.155951499938965, 2.991428852081299, 3.826030731201172, 6.045753002166748, 3.9962263107299805, 2.3125193119049072, 2.309936761856079, 5.427021503448486, 3.0584640502929688, 8.335687637329102, 6.589874744415283, 7.380131244659424, 5.1606831550598145, 11.545960426330566, 8.644289016723633, 6.6606950759887695, 28.44010353088379, 17.943622589111328, 8.232162475585938, 8.34702205657959, 7.323446750640869, 8.303464889526367, 5.560885906219482, 9.344101905822754, 7.523618698120117, 57.57432174682617, 20.58001136779785, 11.209015846252441, 18.154682159423828, 6.3385419845581055, 8.447704315185547, 11.353361129760742, 16.607328414916992, 11.456027030944824, 12.384873390197754, 14.895344734191895, 12.917929649353027, 16.59488296508789, 10.735824584960938, 17.93663787841797, 11.93661880493164, 10.481762886047363, 10.945801734924316, 11.044059753417969, 8.750727653503418, 8.376805305480957, 9.125218391418457, 8.858928680419922, 8.917149543762207, 8.692294120788574, 8.822525978088379, 6.05573844909668, 3.1187219619750977, 2.9621825218200684, 18.055727005004883, 4.022163391113281, 3.078063726425171, 5.014981269836426, 4.4884538650512695, 2.1253468990325928, 3.0421085357666016, 3.250537157058716, 11.242887496948242, 4.953322887420654, 11.982151985168457, 2.42044734954834, 2.707374095916748, 2.962239980697632, 3.1311004161834717, 6.943261623382568, 3.1100456714630127, 3.054492235183716, 2.9606902599334717, 5.791985988616943, 2.948556423187256, 1.8582096099853516, 5.82530403137207, 2.795819044113159, 2.952759027481079, 10.474740028381348, 2.3025588989257812, 6.324285507202148, 15.16965103149414, 5.975593090057373, 9.985703468322754, 8.247718811035156, 14.606691360473633, 5.633350849151611, 4.191981792449951, 17.889564514160156, 4.340205192565918, 9.033366203308105, 9.000811576843262, 8.76032829284668, 14.404699325561523, 7.919637203216553, 5.181454181671143, 9.181715965270996, 9.959334373474121, 46.58795928955078, 7.5832600593566895, 17.409761428833008, 17.769330978393555, 8.283280372619629, 10.248174667358398, 19.29694175720215, 14.58801555633545, 8.302099227905273, 8.725072860717773, 8.878024101257324, 11.76119613647461, 8.419645309448242, 10.183478355407715, 10.350518226623535, 8.840025901794434, 10.047581672668457, 10.205850601196289, 8.963773727416992, 8.79584789276123, 64.39507293701172, 34.14039611816406, 32.83149719238281, 32.80467224121094, 31.9306697845459, 1.2452203035354614, 33.755104064941406, 1.2369486093521118, 1.2385319471359253, 1.234102487564087, 30.8796329498291, 1.1878142356872559, 30.69985008239746, 1.1817911863327026, 1.1754660606384277, 1.9269980192184448, 1.1780860424041748, 1.9060195684432983, 32.185813903808594, 2.2451424598693848, 1.491019606590271, 1.1397329568862915, 27.52924919128418, 1.119761347770691, 59.16110610961914, 21.508071899414062, 29.64722442626953, 29.520999908447266, 29.057315826416016, 28.394105911254883, 25.92230796813965, 51.34907913208008, 29.62228775024414, 38.95515823364258, 34.80147933959961, 23.74738121032715, 34.09170913696289, 25.549972534179688, 24.896268844604492, 32.13310623168945, 20.83636474609375, 18.13058853149414, 25.858901977539062, 22.829370498657227, 50.1153564453125, 35.14004135131836, 51.190006256103516, 28.334768295288086, 26.912763595581055, 57.268341064453125, 2.8001890182495117, 3.4092743396759033, 2.762025833129883, 2.735323905944824, 2.072016716003418, 2.0751543045043945, 2.0543618202209473, 2.043912649154663, 2.6107449531555176, 8.246469497680664, 49.16117858886719, 1.8963361978530884, 49.836891174316406, 48.82291793823242, 4.257241249084473, 4.609298229217529, 8.860186576843262, 2.1371519565582275, 2.1013343334198, 3.4380104541778564, 31.975656509399414, 2.127267599105835, 1.2826142311096191, 2.7213430404663086, 1.291069507598877, 1.1871312856674194, 1.3510782718658447, 8.995819091796875, 1.9840166568756104, 2.9033021926879883, 1.813581943511963, 4.221929550170898, 8.291544914245605, 3.4521749019622803, 19.637643814086914, 8.522866249084473, 18.49551773071289, 8.602364540100098, 22.83031463623047, 12.323987007141113, 11.90231990814209, 48.18157196044922, 11.302623748779297, 12.69302749633789, 7.31120491027832, 10.735562324523926, 5.164134979248047, 12.345296859741211, 9.550199508666992, 8.719265937805176, 9.296425819396973, 9.29748821258545, 7.060035705566406, 11.168554306030273, 7.761318683624268, 10.444998741149902, 4.677377223968506, 2.674015760421753, 2.669752359390259, 4.121038436889648, 4.385878086090088, 4.578496932983398, 12.158461570739746, 3.181239128112793, 1.8815412521362305, 2.4640679359436035, 5.167318344116211, 2.6958706378936768, 3.522254228591919, 1.8649779558181763, 2.4778077602386475, 1.7046838998794556, 1.6794836521148682, 2.7112982273101807, 2.948185443878174, 2.6523780822753906, 3.6247971057891846, 3.27767014503479, 1.8026677370071411, 1.7633918523788452, 1.8687821626663208, 3.727747917175293, 1.826193928718567, 1.888230323791504, 10.08845329284668, 1.3678699731826782, 2.6812214851379395, 8.479913711547852, 22.00494384765625, 3.5247650146484375, 2.924225330352783, 5.477539539337158, 3.397848129272461, 6.404060363769531, 4.946758270263672, 7.748501300811768, 8.785481452941895, 7.630937099456787, 12.460335731506348, 10.13644790649414, 7.539884090423584, 8.36147689819336, 9.216349601745605, 4.181411266326904, 4.580009937286377, 5.968251705169678, 7.973464488983154, 5.797003269195557, 7.032939910888672, 22.116596221923828, 12.228219985961914, 7.580937385559082, 7.761176586151123, 10.838155746459961, 7.467000484466553, 10.234103202819824, 7.496612071990967, 6.07913064956665, 7.347498893737793, 6.382884979248047, 7.081418514251709, 6.525871276855469, 6.499544620513916, 6.295334815979004, 6.382807731628418, 3.484992027282715, 2.4270455837249756, 4.674752712249756, 3.5241005420684814, 2.5433359146118164, 2.4952657222747803, 2.7751221656799316, 2.7567262649536133, 2.5450286865234375, 2.6947643756866455, 2.5767600536346436, 1.7981880903244019, 5.417392253875732, 3.408538818359375, 2.4082870483398438, 1.8141844272613525, 1.8113791942596436, 2.7422397136688232, 1.777161717414856, 2.91211199760437, 1.5515894889831543, 3.632634162902832, 2.399123191833496, 3.59317684173584, 1.6213116645812988, 3.694847345352173, 1.4290107488632202, 2.2150447368621826, 7.362085819244385, 4.615472316741943, 7.802605152130127, 8.487117767333984, 5.8755927085876465, 7.178454399108887, 5.28061580657959, 4.078461170196533, 4.233940601348877, 5.44574499130249, 5.376893043518066, 34.520938873291016, 4.574531555175781, 5.2008795738220215, 5.753121376037598, 9.607353210449219, 6.189990520477295, 5.6732659339904785, 5.462378978729248, 4.199002265930176, 6.714916706085205, 5.372743606567383, 8.368431091308594, 8.271822929382324, 5.168290615081787, 6.505098342895508, 5.260159015655518, 6.227339744567871, 5.246244430541992, 5.406534671783447, 5.685109615325928, 5.736237049102783, 5.444367408752441, 4.781407833099365, 2.2900960445404053, 6.015195846557617, 4.6329426765441895, 2.2663605213165283, 5.893987655639648, 4.250163555145264, 2.7611870765686035, 2.68389892578125, 2.9030373096466064, 3.94325852394104, 1.7211698293685913, 2.296093225479126, 2.297926425933838, 1.6827750205993652, 1.8301347494125366, 1.6498832702636719, 9.428324699401855, 5.054986476898193, 2.1266086101531982, 3.203916549682617, 1.58955979347229, 3.6551570892333984, 2.287012815475464, 1.0114721059799194, 1.679059386253357, 3.013970375061035, 1.1125332117080688, 0.96840900182724, 1.6522845029830933, 1.8263548612594604, 3.6510188579559326, 2.757622003555298, 2.4700820446014404, 2.855159044265747, 2.735163688659668, 9.295797348022461, 8.122697830200195, 4.034788131713867, 6.224547863006592, 10.509830474853516, 10.717833518981934, 7.434518814086914, 4.841738224029541, 4.677413463592529, 3.413858652114868, 4.266332149505615, 17.444223403930664, 5.44140100479126, 4.2595648765563965, 4.930521011352539, 3.117685317993164, 5.784664154052734, 3.995943784713745, 6.380168914794922, 4.331839084625244, 4.091663360595703, 5.8248677253723145, 4.443845272064209, 4.7874298095703125, 4.575394630432129, 3.969672679901123, 63.16683578491211, 32.22946548461914, 1.6176269054412842, 1.2116999626159668, 30.427873611450195, 26.395809173583984, 1.1343538761138916, 27.610551834106445, 3.289022445678711, 1.1774041652679443, 1.7269891500473022, 43.01607894897461, 0.7232413291931152, 0.7877799272537231, 23.763734817504883, 1.1789066791534424, 0.8083385825157166, 1.0504392385482788, 1.9367682933807373, 32.39633560180664, 0.6774207353591919, 0.766104519367218, 0.7748644351959229, 18.783552169799805, 11.508435249328613, 3.0860745906829834, 0.7634273171424866, 0.7053497433662415, 0.6651135087013245, 8.54373836517334, 15.982283592224121, 26.39849281311035, 11.67325210571289, 11.829244613647461, 15.206235885620117, 11.971776962280273, 3.4425675868988037, 10.480945587158203, 9.259446144104004, 2.881617307662964, 11.37298583984375, 10.77906322479248, 8.467386245727539, 6.298512935638428, 10.816230773925781, 4.541966915130615, 8.327306747436523, 4.730238914489746, 3.539710521697998, 3.4295873641967773, 3.234802722930908, 2.4669148921966553, 2.3067259788513184, 2.29939603805542, 2.295018196105957, 2.294009208679199, 2.2909111976623535, 2.2847204208374023, 2.279383420944214, 2.279534339904785, 2.2753312587738037, 2.272141218185425, 2.2729344367980957, 2.2712247371673584, 2.2619073390960693, 2.2588934898376465, 2.2605957984924316, 2.2521932125091553, 2.9170281887054443, 3.6136162281036377, 2.6242825984954834, 11.995641708374023, 6.436976432800293, 5.080170631408691, 1.862226963043213, 2.4311611652374268, 1.7730627059936523, 2.1270673274993896, 3.0399913787841797, 1.7666215896606445, 15.244922637939453, 3.009995222091675, 8.474909782409668, 9.843291282653809, 4.164034843444824, 4.587625503540039, 9.657254219055176, 8.003016471862793, 5.591732501983643, 3.954857110977173, 3.715210199356079, 4.570684909820557, 3.487920045852661, 3.9308254718780518, 4.672040939331055, 6.40353536605835, 3.326653003692627, 4.264167785644531, 5.114297389984131, 3.6238913536071777, 9.218091011047363, 5.139060020446777, 5.615633487701416, 3.761564254760742, 3.8635730743408203, 5.465640544891357, 3.977858781814575, 4.446513652801514, 4.011504173278809, 3.9206180572509766, 5.367153167724609, 1.5986502170562744, 1.5960928201675415, 2.2217397689819336, 2.1683833599090576, 3.817841053009033, 2.041078805923462, 2.7777116298675537, 3.5002453327178955, 1.4999972581863403, 7.888296127319336, 3.9634602069854736, 4.868868350982666, 2.3357980251312256, 2.259478807449341, 1.5636425018310547, 5.580454349517822, 1.6719162464141846, 4.627509593963623, 1.5859200954437256, 1.6598029136657715, 2.5015206336975098, 1.673038125038147, 3.0544378757476807, 0.8055075407028198, 0.7982381582260132, 0.9949859380722046, 2.317197322845459, 0.8366370797157288, 1.2759615182876587, 2.5347657203674316, 4.275369167327881, 3.907198429107666, 1.7067878246307373, 2.2392680644989014, 4.023723602294922, 2.928955316543579, 2.9224159717559814, 6.864985466003418, 2.6482315063476562, 5.702965259552002, 3.707207679748535, 4.631743907928467, 14.87454891204834, 5.807851314544678, 4.67281436920166, 4.645410537719727, 3.91143798828125, 4.038952827453613, 4.706664562225342, 3.5276432037353516, 4.283127307891846, 4.065617561340332, 2.9812026023864746, 3.650090456008911, 4.0657806396484375, 2.9878787994384766, 6.816074848175049, 3.0414021015167236, 5.2871809005737305, 3.5624072551727295, 1.6403449773788452, 1.7291687726974487, 1.947845458984375, 2.9140636920928955, 2.555039167404175, 2.8743655681610107, 1.0567543506622314, 1.9549568891525269, 3.228541851043701, 1.8432519435882568, 9.334156036376953, 1.9182884693145752, 2.507073402404785, 2.260469913482666, 4.685931205749512, 5.031210899353027, 1.1132242679595947, 1.655948519706726, 2.079570770263672, 0.9675167202949524, 0.9745293855667114, 0.9722535014152527, 1.8957573175430298, 7.800326347351074, 7.050553798675537, 1.2127618789672852, 7.786577224731445, 2.871730327606201, 1.976966381072998, 4.371476173400879, 4.779417037963867, 3.811696767807007, 3.5546491146087646, 2.9991090297698975, 5.954958915710449, 4.979050636291504, 5.760422706604004, 4.983727931976318, 2.774198055267334, 4.849715232849121, 6.231424331665039, 6.0111775398254395, 3.33801531791687, 5.2074294090271, 4.1255316734313965, 3.998692750930786, 3.4993929862976074, 3.9229025840759277, 3.338325262069702, 3.4036643505096436, 3.0821752548217773, 3.083524703979492, 1.4043121337890625, 1.3750860691070557, 1.3537044525146484, 1.3518372774124146, 1.347141981124878, 1.733481764793396, 4.104583740234375, 1.4720797538757324, 1.5151643753051758, 4.113950729370117, 2.0257649421691895, 8.280580520629883, 3.4309444427490234, 2.237769603729248, 0.8374837636947632, 1.1445558071136475, 10.228466033935547, 0.9091034531593323, 1.52700674533844, 0.8453579545021057, 2.9226410388946533, 0.7127817273139954, 0.8721376061439514, 0.9091039299964905, 1.6499475240707397, 0.9142352342605591, 1.798205852508545, 0.633963406085968, 0.8301271796226501, 2.1243503093719482, 2.2042770385742188, 3.524874210357666, 4.340561389923096, 4.861234188079834, 2.4237987995147705, 3.787188768386841, 4.228053092956543, 9.115377426147461, 2.802504062652588, 5.973422527313232, 3.657597064971924, 3.085930824279785, 3.5461971759796143, 3.4693453311920166, 12.678049087524414, 3.384706497192383, 5.12785005569458, 4.356330871582031, 4.775938510894775, 4.600919246673584, 4.454574108123779, 3.2514660358428955, 3.949000120162964, 3.3904500007629395, 3.0591635704040527, 2.9722654819488525, 3.84452486038208, 5.476878643035889, 1.613843321800232, 6.290831565856934, 2.4329335689544678, 10.164657592773438, 1.5835028886795044, 1.6174100637435913, 6.783305644989014, 1.4596270322799683, 1.449696660041809, 2.8567922115325928, 1.3491843938827515, 3.5210514068603516, 1.6704860925674438, 1.3954569101333618, 1.4114097356796265, 1.4008126258850098, 1.4592945575714111, 0.8977041244506836, 1.670586347579956, 2.861361265182495, 2.4556779861450195, 1.327677607536316, 1.6744194030761719, 1.31557035446167, 0.6985124349594116, 1.6944825649261475, 5.90562629699707, 3.108771324157715, 9.545063018798828, 3.387277364730835, 3.079044818878174, 7.629853248596191, 2.886713981628418, 3.8275558948516846, 2.7765674591064453, 2.704909324645996, 2.9934940338134766, 14.590137481689453, 2.9971394538879395, 2.2594659328460693, 5.169877529144287, 3.774491786956787, 3.5460805892944336, 3.4431259632110596, 4.226301670074463, 2.4740355014801025, 3.4084787368774414, 3.003857135772705, 2.8773913383483887, 2.7842626571655273, 2.857513189315796, 2.5476956367492676, 1.8001363277435303, 3.8851540088653564, 1.7290610074996948, 1.6937642097473145, 1.605639100074768, 3.3150970935821533, 2.553907871246338, 1.6772115230560303, 1.1510841846466064, 2.359502077102661, 1.6881027221679688, 1.649078607559204, 1.529166340827942, 1.6541950702667236, 3.646758556365967, 1.7702076435089111, 0.8177704215049744, 1.5935331583023071, 5.234224319458008, 0.8407654762268066, 3.221592426300049, 0.8907232284545898, 0.8520618677139282, 1.0624691247940063, 1.574206829071045, 0.9147081971168518, 0.8907191753387451, 1.005333423614502, 0.7365243434906006, 3.5618159770965576, 1.5949419736862183, 3.2455265522003174, 4.085616588592529, 4.877903461456299, 3.2491533756256104, 1.7494407892227173, 2.0815138816833496, 4.263280391693115, 4.5502543449401855, 3.003028392791748, 5.486332893371582, 6.692124843597412, 5.143164157867432, 11.550775527954102, 5.430960655212402, 5.560184001922607, 2.407282590866089, 2.5803744792938232, 2.4654505252838135, 2.8510212898254395, 2.9120891094207764, 3.4997503757476807, 3.03248929977417, 3.1899735927581787, 2.911012887954712, 3.1471192836761475, 2.593017816543579, 2.6772165298461914, 2.639939785003662, 3.238797187805176, 2.2339348793029785, 2.2249302864074707, 2.0826973915100098, 2.067274570465088, 1.7130683660507202, 2.7121832370758057, 1.7282410860061646, 3.778827667236328, 1.6968010663986206, 1.6949049234390259, 1.6782166957855225, 1.7067006826400757, 1.7043286561965942, 1.791507363319397, 1.7554277181625366, 1.8251503705978394, 4.023733615875244, 1.7874789237976074, 2.0106289386749268, 3.5376319885253906, 1.7151151895523071, 0.9604402184486389, 0.8971900939941406, 2.204803466796875, 2.7029216289520264, 1.5731791257858276, 0.9390733242034912, 0.9622898101806641, 0.9060344099998474, 2.567936897277832, 1.7278828620910645, 3.0242674350738525, 8.621609687805176, 4.234710216522217, 4.256422996520996, 4.5170440673828125, 6.866079807281494, 6.116341590881348, 6.015758991241455, 20.9073543548584, 4.601672649383545, 4.720177173614502, 3.749918222427368, 4.741172790527344, 3.3293097019195557, 7.010560989379883, 3.0024783611297607, 5.525563716888428, 3.0867135524749756, 2.7046189308166504, 2.7103054523468018, 3.63393497467041, 2.9322235584259033, 2.7754037380218506, 2.977248430252075, 2.848690986633301, 2.9543075561523438, 2.8635599613189697, 2.7975659370422363, 2.8728435039520264, 5.743560314178467, 1.9589414596557617, 2.3382294178009033, 2.7952535152435303, 1.438920021057129, 1.4148955345153809, 2.055384874343872, 1.573837161064148, 1.5022683143615723, 4.236800670623779, 0.7856630682945251, 0.8852270841598511, 1.5761082172393799, 0.893119752407074, 12.514747619628906, 1.960688591003418, 0.7647268772125244, 2.2287204265594482, 1.4084053039550781, 0.7309743165969849, 0.8743270635604858, 1.1223011016845703, 0.7876722812652588, 1.6766257286071777, 0.7938995361328125, 0.818428635597229, 1.3455922603607178, 0.5786481499671936, 0.6753844022750854, 3.094038963317871, 1.5516384840011597, 19.407861709594727, 7.7664923667907715, 4.7086591720581055, 3.0602617263793945, 2.2676050662994385, 3.9653072357177734, 8.649624824523926, 3.3623206615448, 6.173258304595947, 4.2323384284973145, 3.506040573120117, 2.2765023708343506, 2.6363604068756104, 2.4530558586120605, 3.7602198123931885, 2.4052164554595947, 2.6054532527923584, 4.554494857788086, 2.258869171142578, 5.381364345550537, 2.6683549880981445, 2.9579248428344727, 2.77036190032959, 2.431492567062378, 2.5082762241363525, 2.3325846195220947, 2.305032253265381, 1.6057413816452026, 4.6495513916015625, 1.5314098596572876, 1.51517915725708, 0.7994325160980225, 2.2622392177581787, 3.17340087890625, 1.5058468580245972, 1.5067142248153687, 0.9382383227348328, 0.7848190665245056, 0.8120539784431458, 0.8050310015678406, 4.653678894042969, 0.7970197200775146, 0.7552549839019775, 1.5672765970230103, 0.8012969493865967, 0.8039188385009766, 1.606978416442871, 0.8187994360923767, 0.7740546464920044, 0.8195663094520569, 1.5185827016830444, 0.7839549779891968, 0.7979750037193298, 0.8247737884521484, 1.6139806509017944, 1.567474603652954, 0.763909101486206, 1.5169216394424438, 3.0566768646240234, 3.730875015258789, 3.107487440109253, 1.6149269342422485, 2.451812267303467, 1.5983452796936035, 2.329463243484497, 1.527565360069275, 2.375760555267334, 2.3211467266082764, 1.6175613403320312, 1.602303147315979, 1.5826528072357178, 6.9256720542907715, 1.5980011224746704, 2.5658953189849854, 2.547804832458496, 2.4753201007843018, 2.450066328048706, 2.4631640911102295, 1.8377904891967773, 1.769356369972229, 1.7482341527938843, 1.8597615957260132, 1.7040318250656128, 1.7370312213897705, 1.7345043420791626, 1.6869661808013916, 1.7694225311279297, 1.653188705444336, 1.641330599784851, 1.6339867115020752, 1.6251462697982788, 51.30577850341797, 2.4876339435577393, 1.2857249975204468, 1.8058321475982666, 1.9800196886062622, 1.3428512811660767, 1.899283766746521, 1.2589601278305054, 0.6764560341835022, 1.2505244016647339, 1.2102947235107422, 0.9121668934822083, 1.7931047677993774, 0.5702177882194519, 0.6324089765548706, 1.6585819721221924, 0.6781588196754456, 1.5162739753723145, 1.771480917930603, 0.7899593710899353, 0.715040385723114, 1.2245886325836182, 0.6639824509620667, 1.0669448375701904, 0.812130868434906, 1.6059014797210693, 1.4672625064849854, 1.6389906406402588, 0.6358886361122131, 0.6256188154220581, 1.1046441793441772, 4.24951171875, 3.8343896865844727, 7.945801734924316, 1.2970720529556274, 2.5941174030303955, 2.576310873031616, 3.7897090911865234, 1.486510992050171, 2.4657645225524902, 3.40781307220459, 2.1804089546203613, 2.0785131454467773, 2.73628306388855, 3.4418301582336426, 2.861881732940674, 2.1044461727142334, 2.3852102756500244, 3.203449010848999, 2.186441421508789, 2.402967691421509, 2.139219284057617, 2.610276937484741, 1.8033430576324463, 2.4651589393615723, 2.046013593673706, 2.074944496154785, 1.169948935508728, 1.8478078842163086, 1.2639191150665283, 0.6322042346000671, 1.6148595809936523, 0.746321439743042, 0.6555287837982178, 0.6704815626144409, 0.6395249366760254, 0.6346523761749268, 0.6704829335212708, 1.2487921714782715, 0.6451432108879089, 0.6349018812179565, 0.6283250451087952, 0.6358633637428284, 0.6704872250556946, 0.6740893721580505, 0.6372660398483276, 0.6719550490379333, 0.6729965209960938, 0.8656848669052124, 0.6705629825592041, 0.6306755542755127, 1.3438948392868042, 0.6749264001846313, 0.624902606010437, 0.640982449054718, 0.6339216232299805, 0.6399379968643188, 1.3441174030303955, 1.3146253824234009, 1.323433518409729, 1.3079794645309448, 2.484346628189087, 1.2588391304016113, 1.2768819332122803, 1.3129103183746338, 8.145500183105469, 1.3476505279541016, 3.0236401557922363, 2.540055751800537, 1.294344425201416, 2.253026247024536, 1.4352291822433472, 1.3930494785308838, 1.335159420967102, 1.4364145994186401, 2.2383646965026855, 1.902438759803772, 1.350130558013916, 1.505897879600525, 1.4804564714431763, 1.5349541902542114, 1.6080735921859741, 1.3761262893676758, 1.2637908458709717], \"Total\": [54.0, 68.0, 469.0, 97.0, 94.0, 61.0, 67.0, 87.0, 65.0, 67.0, 90.0, 66.0, 57.0, 41.0, 52.0, 35.0, 92.0, 39.0, 36.0, 56.0, 75.0, 52.0, 50.0, 42.0, 33.0, 36.0, 54.0, 37.0, 82.0, 113.0, 3.370816230773926, 3.420855760574341, 6.47979211807251, 5.308558940887451, 11.591384887695312, 3.3876051902770996, 3.423468589782715, 4.395668983459473, 4.395244121551514, 3.3880343437194824, 3.3980648517608643, 3.369786024093628, 3.385065793991089, 3.3737618923187256, 3.3931939601898193, 3.4067506790161133, 4.393327713012695, 4.236813545227051, 3.369237184524536, 3.344241142272949, 4.396966934204102, 4.420394420623779, 4.143279552459717, 4.354870796203613, 3.3510279655456543, 3.4342880249023438, 8.299185752868652, 5.9574875831604, 3.133653402328491, 4.050430774688721, 11.767086029052734, 13.512040138244629, 16.150653839111328, 5.644901275634766, 13.51152515411377, 37.798004150390625, 12.759283065795898, 30.53567886352539, 36.61017608642578, 75.3497543334961, 11.798199653625488, 8.30040454864502, 8.050836563110352, 6.298723220825195, 8.958965301513672, 19.976192474365234, 19.910869598388672, 209.2109375, 58.33965301513672, 9.98377513885498, 14.105063438415527, 62.689239501953125, 22.259279251098633, 67.25921630859375, 17.67105484008789, 113.40065002441406, 469.7190856933594, 47.263179779052734, 29.17945098876953, 57.35249328613281, 101.91535949707031, 65.95384979248047, 87.6370849609375, 102.31254577636719, 59.03565216064453, 94.2204360961914, 34.31795883178711, 38.76469039916992, 60.51976776123047, 59.046939849853516, 51.61084747314453, 46.8100471496582, 111.98107147216797, 103.85308837890625, 51.82474136352539, 92.41836547851562, 115.52873992919922, 152.33203125, 60.33954620361328, 68.58687591552734, 3.7025630474090576, 3.6754167079925537, 7.132477760314941, 3.6815247535705566, 3.6779215335845947, 6.547788619995117, 3.585419178009033, 3.6420094966888428, 3.208065986633301, 5.256183624267578, 6.676948070526123, 4.110696315765381, 5.558990478515625, 3.0279858112335205, 5.156152725219727, 3.0269737243652344, 4.487784385681152, 4.47615385055542, 4.485547065734863, 7.053225517272949, 3.5473268032073975, 10.257719039916992, 4.302274227142334, 5.532829761505127, 8.855951309204102, 5.865653991699219, 3.405489921569824, 3.4058847427368164, 8.032800674438477, 4.532933712005615, 12.506704330444336, 9.910191535949707, 11.155218124389648, 7.727529048919678, 18.970048904418945, 14.158712387084961, 10.60985279083252, 60.08817672729492, 36.613922119140625, 15.629202842712402, 16.119436264038086, 13.806575775146484, 17.37743377685547, 9.657755851745605, 22.212512969970703, 16.276460647583008, 469.7190856933594, 86.15845489501953, 34.99541473388672, 87.6370849609375, 12.379361152648926, 22.28022575378418, 48.374778747558594, 115.52873992919922, 51.82474136352539, 63.10822296142578, 102.31254577636719, 73.25227355957031, 152.33203125, 47.67407989501953, 209.2109375, 74.7281723022461, 56.389930725097656, 67.25921630859375, 101.91535949707031, 33.53126907348633, 28.45573616027832, 60.51976776123047, 47.80657958984375, 56.380226135253906, 47.1453742980957, 113.40065002441406, 6.7953081130981445, 3.5061237812042236, 3.4625308513641357, 21.964887619018555, 5.015475749969482, 4.000885009765625, 6.6011738777160645, 6.039303779602051, 2.8633010387420654, 4.231950759887695, 4.543447494506836, 15.852871894836426, 7.012395858764648, 17.025304794311523, 3.4492363929748535, 3.88724684715271, 4.260941028594971, 4.5189900398254395, 10.081295013427734, 4.516368389129639, 4.4864373207092285, 4.361978054046631, 8.56164836883545, 4.378749370574951, 2.788799524307251, 8.781537055969238, 4.224028587341309, 4.512279033660889, 16.11971664428711, 3.5634610652923584, 9.877171516418457, 24.54796600341797, 9.674123764038086, 16.98868751525879, 14.159512519836426, 29.749380111694336, 9.48645305633545, 6.632958889007568, 42.67226028442383, 7.307901382446289, 21.13442611694336, 21.09417724609375, 21.095571517944336, 47.34899139404297, 19.753610610961914, 9.868998527526855, 26.618045806884766, 30.74537467956543, 469.7190856933594, 19.161062240600586, 101.91535949707031, 115.52873992919922, 25.33167839050293, 42.56983947753906, 209.2109375, 113.40065002441406, 25.494522094726562, 29.437231063842773, 31.231555938720703, 74.7281723022461, 27.873458862304688, 68.80022430419922, 81.88929748535156, 39.75931930541992, 103.85308837890625, 152.33203125, 59.046939849853516, 47.80657958984375, 67.95428466796875, 37.20029067993164, 39.641658782958984, 40.36000061035156, 39.56465530395508, 1.5644813776016235, 42.41047668457031, 1.5663906335830688, 1.5698492527008057, 1.5662275552749634, 39.78831481933594, 1.6264382600784302, 42.56983947753906, 1.6439862251281738, 1.6358941793441772, 2.683631658554077, 1.6498879194259644, 2.669590711593628, 45.10054016113281, 3.2182719707489014, 2.2117581367492676, 1.6959164142608643, 41.35914993286133, 1.7356115579605103, 92.41836547851562, 33.63700485229492, 46.939815521240234, 46.956825256347656, 46.8100471496582, 45.80278015136719, 42.29909133911133, 97.59819030761719, 56.389930725097656, 90.79854583740234, 81.41259765625, 52.430442810058594, 81.88929748535156, 58.33965301513672, 58.29369354248047, 82.70361328125, 49.29912567138672, 42.89925765991211, 68.58687591552734, 67.14636993408203, 209.2109375, 152.33203125, 469.7190856933594, 111.98107147216797, 103.85308837890625, 61.22344207763672, 3.217128276824951, 3.9459996223449707, 3.214937686920166, 3.2098309993743896, 2.4565234184265137, 2.478087902069092, 2.4757609367370605, 2.4869842529296875, 3.2430312633514404, 10.810505867004395, 65.37993621826172, 2.5263144969940186, 67.24702453613281, 66.19010925292969, 6.517360210418701, 7.076889991760254, 13.781532287597656, 3.4102237224578857, 3.4157156944274902, 5.607666969299316, 52.4891242980957, 3.530038833618164, 2.1559183597564697, 4.625017166137695, 2.2235255241394043, 2.1232995986938477, 2.4291915893554688, 16.17930793762207, 3.600026845932007, 5.352139472961426, 3.2915613651275635, 8.036609649658203, 17.4342041015625, 6.677021026611328, 49.29912567138672, 19.509611129760742, 59.67878723144531, 22.055767059326172, 87.6917953491211, 42.29909133911133, 42.00153732299805, 469.7190856933594, 52.430442810058594, 67.20738983154297, 25.046899795532227, 60.33954620361328, 14.787363052368164, 111.98107147216797, 63.41579055786133, 56.380226135253906, 68.58687591552734, 73.25227355957031, 37.94078063964844, 152.33203125, 57.4814453125, 209.2109375, 5.233918190002441, 3.203465461730957, 3.239046096801758, 5.066401481628418, 5.632047653198242, 5.93214225769043, 16.877750396728516, 4.624139785766602, 2.751102924346924, 3.6077325344085693, 7.684260368347168, 4.039794921875, 5.279158115386963, 2.8195102214813232, 3.83438777923584, 2.682506561279297, 2.654484748840332, 4.285305023193359, 4.7143096923828125, 4.2582502365112305, 5.842977046966553, 5.295408725738525, 2.9403531551361084, 2.917994976043701, 3.1018495559692383, 6.284336090087891, 3.083244800567627, 3.2005724906921387, 17.29433250427246, 2.371880054473877, 4.722001075744629, 16.245595932006836, 48.52062225341797, 6.374571323394775, 5.194523811340332, 10.92507266998291, 6.238333702087402, 13.80743408203125, 10.182778358459473, 19.161062240600586, 26.726835250854492, 22.63547134399414, 57.35249328613281, 40.951263427734375, 25.028892517089844, 31.720308303833008, 38.14546585083008, 9.203306198120117, 10.99134635925293, 19.345836639404297, 38.59162902832031, 19.26947593688965, 30.435468673706055, 469.7190856933594, 115.52873992919922, 36.72964096069336, 44.20968246459961, 113.40065002441406, 47.34899139404297, 152.33203125, 74.7281723022461, 29.389720916748047, 86.15845489501953, 47.80657958984375, 101.91535949707031, 81.41259765625, 82.70361328125, 67.25921630859375, 209.2109375, 4.127693176269531, 3.179866313934326, 6.259992599487305, 4.9391632080078125, 3.604532241821289, 3.5722007751464844, 4.083542346954346, 4.226365089416504, 3.9220786094665527, 4.225770950317383, 4.095409393310547, 3.01222562789917, 9.188940048217773, 5.861293792724609, 4.158795356750488, 3.1698617935180664, 3.191256523132324, 4.902903079986572, 3.256157398223877, 5.42324161529541, 2.9351210594177246, 6.967406749725342, 4.765398979187012, 7.181806564331055, 3.260167360305786, 7.4415435791015625, 2.953023910522461, 4.681490898132324, 15.722028732299805, 9.927691459655762, 17.841264724731445, 20.492633819580078, 13.714530944824219, 20.589658737182617, 14.060924530029297, 10.020683288574219, 10.945570945739746, 17.218202590942383, 18.957536697387695, 469.7190856933594, 14.371475219726562, 19.224580764770508, 28.633398056030273, 111.98107147216797, 38.67326354980469, 37.934165954589844, 34.562103271484375, 16.157543182373047, 68.80022430419922, 34.62527847290039, 152.33203125, 209.2109375, 31.00263786315918, 81.88929748535156, 35.23965072631836, 87.6370849609375, 46.00263595581055, 56.968807220458984, 86.15845489501953, 102.31254577636719, 113.40065002441406, 40.263553619384766, 3.0639431476593018, 8.098173141479492, 6.3457350730896, 3.148916482925415, 8.348126411437988, 6.168717861175537, 4.266243934631348, 4.225137233734131, 4.608300685882568, 6.5926971435546875, 2.887566566467285, 3.9479448795318604, 4.06721830368042, 3.0567305088043213, 3.3329670429229736, 3.075310468673706, 18.043685913085938, 9.684593200683594, 4.309749603271484, 6.513367652893066, 3.239075183868408, 7.465471267700195, 4.833900451660156, 2.1496357917785645, 3.583543062210083, 6.45628547668457, 2.4079580307006836, 2.1423349380493164, 3.6911048889160156, 4.193663120269775, 8.423152923583984, 6.36503791809082, 5.838486194610596, 7.0427656173706055, 6.7736897468566895, 33.38717269897461, 29.927030563354492, 12.099732398986816, 23.78999137878418, 60.08817672729492, 63.10822296142578, 36.327606201171875, 18.420467376708984, 19.224580764770508, 10.658805847167969, 16.970285415649414, 469.7190856933594, 32.47771072387695, 17.943859100341797, 33.65817642211914, 8.850260734558105, 82.70361328125, 21.477426528930664, 152.33203125, 30.338315963745117, 26.767803192138672, 209.2109375, 48.56117248535156, 111.98107147216797, 115.52873992919922, 25.73747444152832, 68.4990234375, 35.55221939086914, 1.970615267753601, 1.521697759628296, 39.325740814208984, 36.16562271118164, 2.047096014022827, 52.3538932800293, 6.371923446655273, 2.511395215988159, 3.7235991954803467, 94.2204360961914, 1.5937687158584595, 1.8483834266662598, 57.4814453125, 2.913339376449585, 2.048382520675659, 2.711988687515259, 5.167579174041748, 87.6917953491211, 1.8551758527755737, 2.1358556747436523, 2.1705777645111084, 54.32442092895508, 33.63700485229492, 9.148831367492676, 2.2775726318359375, 2.1230530738830566, 2.035419225692749, 26.501562118530273, 50.21568298339844, 90.79854583740234, 42.89925765991211, 51.61084747314453, 75.3497543334961, 63.41579055786133, 14.371475219726562, 67.14636993408203, 60.33954620361328, 11.800446510314941, 103.85308837890625, 152.33203125, 97.59819030761719, 58.29369354248047, 209.2109375, 67.20738983154297, 469.7190856933594, 81.41259765625, 111.98107147216797, 102.31254577636719, 3.9503304958343506, 3.0869224071502686, 3.0013701915740967, 3.000088691711426, 2.999579429626465, 2.999300718307495, 2.999229907989502, 2.9961917400360107, 2.997117042541504, 2.9979283809661865, 2.996178150177002, 2.996293544769287, 2.9973793029785156, 2.9971439838409424, 2.992418050765991, 2.9908053874969482, 2.995720624923706, 2.992128849029541, 3.9071455001831055, 5.0803542137146, 4.085785865783691, 18.740150451660156, 10.288570404052734, 8.366549491882324, 3.1453282833099365, 4.112255096435547, 3.1295218467712402, 3.8136532306671143, 5.6064677238464355, 3.26959228515625, 28.45573616027832, 5.748040199279785, 20.482620239257812, 28.633398056030273, 10.066266059875488, 12.033563613891602, 52.5572624206543, 37.798004150390625, 21.02366065979004, 10.13196849822998, 9.3399658203125, 19.925607681274414, 9.862347602844238, 15.793482780456543, 30.129858016967773, 86.15845489501953, 10.706819534301758, 26.43581199645996, 51.82474136352539, 15.202637672424316, 469.7190856933594, 56.380226135253906, 102.31254577636719, 20.589658737182617, 24.913816452026367, 209.2109375, 30.90558433532715, 87.6370849609375, 115.52873992919922, 113.40065002441406, 7.378041744232178, 2.3417539596557617, 2.588999032974243, 3.7137200832366943, 3.669604778289795, 6.577111721038818, 3.6184492111206055, 5.1243791580200195, 6.617076873779297, 2.861607074737549, 15.637557029724121, 7.935466289520264, 9.832569122314453, 4.770077705383301, 4.897089958190918, 3.4774928092956543, 12.494752883911133, 3.766371011734009, 10.436768531799316, 3.5825352668762207, 3.9396626949310303, 5.979231834411621, 4.053598880767822, 7.6422834396362305, 2.031320333480835, 2.035419225692749, 2.5434648990631104, 6.005247116088867, 2.1880295276641846, 3.3966901302337646, 6.9024152755737305, 12.435463905334473, 11.340950965881348, 4.652350902557373, 6.356773376464844, 12.379361152648926, 8.944832801818848, 9.3399658203125, 36.29887008666992, 8.478468894958496, 44.577457427978516, 18.957536697387695, 32.13194274902344, 469.7190856933594, 65.95384979248047, 40.951263427734375, 41.716880798339844, 30.90558433532715, 38.59162902832031, 86.15845489501953, 26.590286254882812, 74.7281723022461, 60.51976776123047, 14.482829093933105, 48.374778747558594, 152.33203125, 23.652360916137695, 9.027228355407715, 4.391660690307617, 7.744556903839111, 5.222842693328857, 2.9127461910247803, 3.217144012451172, 3.659496545791626, 5.500611782073975, 4.834936618804932, 5.5339274406433105, 2.1705777645111084, 4.173130989074707, 6.909139633178711, 4.0474138259887695, 20.692340850830078, 4.351215362548828, 5.73203182220459, 5.180525779724121, 10.865793228149414, 12.041397094726562, 2.711988687515259, 4.064347267150879, 5.4916205406188965, 2.5559628009796143, 2.6023645401000977, 2.6432530879974365, 5.2004780769348145, 21.477426528930664, 19.533340454101562, 3.413947820663452, 23.78999137878418, 8.487588882446289, 5.876669406890869, 15.852280616760254, 17.943859100341797, 14.240509986877441, 13.42505931854248, 10.706819534301758, 36.29887008666992, 35.67463302612305, 50.21568298339844, 40.990989685058594, 11.412811279296875, 52.5572624206543, 113.40065002441406, 115.52873992919922, 20.15367889404297, 90.79854583740234, 68.80022430419922, 103.85308837890625, 65.95384979248047, 469.7190856933594, 74.7281723022461, 209.2109375, 32.47771072387695, 5.073978424072266, 2.386793375015259, 2.4704291820526123, 2.4971957206726074, 2.49916672706604, 2.5084807872772217, 3.4461944103240967, 8.282089233398438, 3.041206121444702, 3.164332151412964, 8.941246032714844, 5.014751434326172, 20.875839233398438, 9.134170532226562, 5.991130352020264, 2.3117473125457764, 3.2044553756713867, 29.927030563354492, 2.6926889419555664, 4.559316635131836, 2.548626661300659, 8.820178031921387, 2.1681950092315674, 2.6826395988464355, 2.796966791152954, 5.120983123779297, 2.8596296310424805, 5.635166645050049, 2.0322093963623047, 2.688241958618164, 6.910077095031738, 7.206636905670166, 11.671250343322754, 14.482829093933105, 16.5582275390625, 8.035975456237793, 14.463502883911133, 17.251708984375, 44.577457427978516, 10.577291488647461, 30.338315963745117, 15.497963905334473, 14.802192687988281, 19.957435607910156, 21.500932693481445, 469.7190856933594, 21.667705535888672, 59.046939849853516, 42.757999420166016, 82.70361328125, 102.31254577636719, 115.52873992919922, 35.67463302612305, 101.91535949707031, 63.10822296142578, 46.147972106933594, 209.2109375, 5.462137222290039, 8.470011711120605, 2.5059947967529297, 10.292841911315918, 3.987034320831299, 16.719356536865234, 2.650022268295288, 3.0969316959381104, 13.278606414794922, 2.916593313217163, 2.90871524810791, 5.7586989402771, 2.877444267272949, 7.887507915496826, 3.7852015495300293, 3.3090627193450928, 3.6666247844696045, 3.6599655151367188, 4.0474138259887695, 2.5670909881591797, 4.825924396514893, 8.283782005310059, 7.209807872772217, 3.925133228302002, 5.144421100616455, 4.068349838256836, 2.1643786430358887, 5.299995422363281, 18.52122688293457, 9.856204986572266, 31.528581619262695, 10.943772315979004, 9.92348575592041, 36.29887008666992, 10.598958969116211, 20.492633819580078, 12.068703651428223, 12.53249454498291, 15.722028732299805, 469.7190856933594, 25.895740509033203, 11.795276641845703, 152.33203125, 59.03565216064453, 48.56117248535156, 48.52062225341797, 115.52873992919922, 15.761763572692871, 68.80022430419922, 47.80657958984375, 67.14636993408203, 103.85308837890625, 209.2109375, 2.8530285358428955, 2.8803811073303223, 6.649537563323975, 3.1883251667022705, 3.1426806449890137, 3.412175178527832, 7.3921709060668945, 5.75189208984375, 3.944877862930298, 2.776489019393921, 5.718349456787109, 4.091341018676758, 4.086716651916504, 3.798762798309326, 4.148520469665527, 9.148831367492676, 4.4717936515808105, 2.1230530738830566, 4.249048709869385, 14.254767417907715, 2.304314613342285, 8.834798812866211, 2.4724416732788086, 2.439964532852173, 3.1606833934783936, 4.716371059417725, 2.7970175743103027, 2.731816530227661, 3.0950229167938232, 2.3002240657806396, 11.301445960998535, 5.033182621002197, 11.081990242004395, 14.367655754089355, 18.71554946899414, 11.999847412109375, 5.820181846618652, 7.598254203796387, 20.875839233398438, 23.173004150390625, 14.591190338134766, 42.38772201538086, 82.70361328125, 52.5572624206543, 469.7190856933594, 101.91535949707031, 113.40065002441406, 12.018917083740234, 16.970285415649414, 14.802192687988281, 24.557064056396484, 30.5551700592041, 68.80022430419922, 46.00263595581055, 62.689239501953125, 37.94078063964844, 67.24702453613281, 23.279747009277344, 87.6370849609375, 44.577457427978516, 4.034587383270264, 3.1068108081817627, 3.1191420555114746, 3.142913579940796, 3.1627657413482666, 2.8683722019195557, 4.757856369018555, 3.0503604412078857, 6.851542949676514, 3.1146273612976074, 3.112985134124756, 3.111391305923462, 3.1902501583099365, 3.217740297317505, 3.447153329849243, 3.3902640342712402, 3.55328369140625, 7.856093406677246, 3.5493593215942383, 4.002111434936523, 7.167117595672607, 3.66054105758667, 2.0666205883026123, 2.048382520675659, 5.362187385559082, 6.578485012054443, 4.015443325042725, 2.58984112739563, 2.6603846549987793, 2.511395215988159, 7.746633529663086, 5.051694869995117, 9.467947006225586, 32.47771072387695, 14.907533645629883, 15.463977813720703, 18.970048904418945, 36.125633239746094, 37.94078063964844, 37.934165954589844, 469.7190856933594, 24.913816452026367, 27.33898162841797, 17.30423927307129, 29.585384368896484, 13.609591484069824, 86.15845489501953, 11.515413284301758, 56.968807220458984, 12.944327354431152, 9.228011131286621, 9.392552375793457, 33.53126907348633, 20.65892219543457, 14.591190338134766, 28.101320266723633, 19.07083511352539, 34.62527847290039, 25.895740509033203, 22.28022575378418, 152.33203125, 6.815779685974121, 2.911198139190674, 4.361289978027344, 6.158901691436768, 3.3267743587493896, 3.6768784523010254, 5.47197151184082, 4.2608232498168945, 4.150360107421875, 13.009188652038574, 2.4533591270446777, 2.7970175743103027, 5.039179801940918, 2.9210784435272217, 41.35914993286133, 6.645941734313965, 2.6073052883148193, 7.77318811416626, 4.938570976257324, 2.62345290184021, 3.1507959365844727, 4.07391881942749, 2.8643412590026855, 6.114401817321777, 2.90871524810791, 3.01222562789917, 4.972042083740234, 2.159465789794922, 2.588070869445801, 11.875896453857422, 6.153932094573975, 97.59819030761719, 36.125633239746094, 21.500932693481445, 13.714530944824219, 9.827787399291992, 20.65892219543457, 56.389930725097656, 20.285863876342773, 52.3538932800293, 32.83086013793945, 26.13129234313965, 12.944327354431152, 17.570613861083984, 15.83979320526123, 39.80615997314453, 15.463977813720703, 19.708683013916016, 103.85308837890625, 15.27112102508545, 469.7190856933594, 31.720308303833008, 59.03565216064453, 48.374778747558594, 35.23965072631836, 74.7281723022461, 58.29369354248047, 24.512418746948242, 2.502594232559204, 8.396656036376953, 3.521786689758301, 3.522311210632324, 2.2113890647888184, 6.272420406341553, 8.834798812866211, 4.251492977142334, 4.439838409423828, 2.772409200668335, 2.3382818698883057, 2.4286608695983887, 2.4218883514404297, 14.367655754089355, 2.4620397090911865, 2.3429770469665527, 4.936196327209473, 2.5525553226470947, 2.580604076385498, 5.529221057891846, 2.822922945022583, 2.76959228515625, 3.0067849159240723, 5.576964855194092, 2.9274067878723145, 3.0160880088806152, 3.1748619079589844, 6.234838485717773, 6.108338832855225, 3.01552414894104, 6.2114081382751465, 13.466597557067871, 20.157405853271484, 16.17930793762207, 8.665267944335938, 16.970285415649414, 8.655206680297852, 16.67922592163086, 8.494856834411621, 20.492633819580078, 21.667705535888672, 11.239083290100098, 11.278589248657227, 11.195793151855469, 469.7190856933594, 12.181788444519043, 57.35249328613281, 63.10822296142578, 59.03565216064453, 86.15845489501953, 111.98107147216797, 48.56117248535156, 36.72964096069336, 38.76469039916992, 152.33203125, 27.723121643066406, 47.34899139404297, 56.968807220458984, 28.803268432617188, 102.31254577636719, 18.997724533081055, 25.895740509033203, 29.292024612426758, 25.037927627563477, 54.1920166015625, 3.7219812870025635, 2.4724416732788086, 3.744600296020508, 4.216434001922607, 2.913339376449585, 4.995087623596191, 3.3267743587493896, 1.8381975889205933, 3.529287576675415, 3.537116289138794, 2.718942403793335, 5.584633827209473, 1.9185702800750732, 2.1384167671203613, 5.628048419952393, 2.3587372303009033, 5.481194496154785, 6.4491868019104, 2.9127461910247803, 2.6988797187805176, 4.6380720138549805, 2.526848077774048, 4.11516809463501, 3.167750358581543, 6.304254055023193, 6.028483867645264, 6.759205341339111, 2.62345290184021, 2.588070869445801, 4.587887287139893, 20.15367889404297, 20.157405853271484, 57.4814453125, 5.887085437774658, 15.01943588256836, 15.36611270904541, 28.390438079833984, 7.87222957611084, 18.820951461791992, 39.75931930541992, 19.161853790283203, 21.13442611694336, 47.67407989501953, 102.31254577636719, 59.03565216064453, 25.73747444152832, 52.430442810058594, 209.2109375, 40.263553619384766, 68.4990234375, 42.29909133911133, 152.33203125, 18.9062557220459, 469.7190856933594, 87.6370849609375, 111.98107147216797, 2.085202932357788, 4.221189975738525, 3.051276922225952, 1.7519981861114502, 4.647360801696777, 2.1643786430358887, 2.0505247116088867, 2.4079580307006836, 2.350883960723877, 2.3644256591796875, 2.502594232559204, 4.7071051597595215, 2.4549851417541504, 2.4620397090911865, 2.588999032974243, 2.650022268295288, 2.796966791152954, 2.822922945022583, 2.700261116027832, 2.910332441329956, 2.9338839054107666, 3.8072710037231445, 2.9567272663116455, 2.7829768657684326, 6.0745134353637695, 3.0508298873901367, 2.8458714485168457, 2.93467378616333, 2.96518874168396, 3.0037922859191895, 7.095098495483398, 7.159280776977539, 7.935466289520264, 9.015037536621094, 25.895740509033203, 8.598348617553711, 9.856204986572266, 10.436768531799316, 469.7190856933594, 13.414299011230469, 113.40065002441406, 74.7281723022461, 16.67922592163086, 75.3497543334961, 22.310138702392578, 22.212512969970703, 21.59398078918457, 27.307064056396484, 152.33203125, 92.41836547851562, 27.873458862304688, 42.757999420166016, 47.67407989501953, 57.35249328613281, 101.91535949707031, 42.38772201538086, 52.4891242980957], \"Category\": [\"Default\", \"Default\", \"Default\", \"Default\", \"Default\", \"Default\", \"Default\", \"Default\", \"Default\", \"Default\", \"Default\", \"Default\", \"Default\", \"Default\", \"Default\", \"Default\", \"Default\", \"Default\", \"Default\", \"Default\", \"Default\", \"Default\", \"Default\", \"Default\", \"Default\", \"Default\", \"Default\", \"Default\", \"Default\", \"Default\", \"Topic1\", \"Topic1\", \"Topic1\", \"Topic1\", \"Topic1\", \"Topic1\", \"Topic1\", \"Topic1\", \"Topic1\", \"Topic1\", \"Topic1\", \"Topic1\", \"Topic1\", \"Topic1\", \"Topic1\", \"Topic1\", \"Topic1\", \"Topic1\", \"Topic1\", \"Topic1\", \"Topic1\", \"Topic1\", \"Topic1\", \"Topic1\", \"Topic1\", \"Topic1\", \"Topic1\", \"Topic1\", \"Topic1\", \"Topic1\", \"Topic1\", \"Topic1\", \"Topic1\", \"Topic1\", \"Topic1\", \"Topic1\", \"Topic1\", \"Topic1\", \"Topic1\", \"Topic1\", \"Topic1\", \"Topic1\", \"Topic1\", \"Topic1\", \"Topic1\", \"Topic1\", \"Topic1\", \"Topic1\", \"Topic1\", \"Topic1\", \"Topic1\", \"Topic1\", \"Topic1\", \"Topic1\", \"Topic1\", \"Topic1\", \"Topic1\", \"Topic1\", \"Topic1\", \"Topic1\", \"Topic1\", \"Topic1\", \"Topic1\", \"Topic1\", \"Topic1\", \"Topic1\", \"Topic1\", \"Topic1\", \"Topic1\", \"Topic1\", \"Topic1\", \"Topic1\", \"Topic1\", \"Topic1\", \"Topic1\", \"Topic1\", \"Topic1\", \"Topic1\", \"Topic1\", \"Topic1\", \"Topic2\", \"Topic2\", \"Topic2\", \"Topic2\", \"Topic2\", \"Topic2\", \"Topic2\", \"Topic2\", \"Topic2\", \"Topic2\", \"Topic2\", \"Topic2\", \"Topic2\", \"Topic2\", \"Topic2\", \"Topic2\", \"Topic2\", \"Topic2\", \"Topic2\", \"Topic2\", \"Topic2\", \"Topic2\", \"Topic2\", \"Topic2\", \"Topic2\", \"Topic2\", \"Topic2\", \"Topic2\", \"Topic2\", \"Topic2\", \"Topic2\", \"Topic2\", \"Topic2\", \"Topic2\", \"Topic2\", \"Topic2\", \"Topic2\", \"Topic2\", \"Topic2\", \"Topic2\", \"Topic2\", \"Topic2\", \"Topic2\", \"Topic2\", \"Topic2\", \"Topic2\", \"Topic2\", \"Topic2\", \"Topic2\", \"Topic2\", \"Topic2\", \"Topic2\", \"Topic2\", \"Topic2\", \"Topic2\", \"Topic2\", \"Topic2\", \"Topic2\", \"Topic2\", \"Topic2\", \"Topic2\", \"Topic2\", \"Topic2\", \"Topic2\", \"Topic2\", \"Topic2\", \"Topic2\", \"Topic2\", \"Topic2\", \"Topic2\", \"Topic2\", \"Topic2\", \"Topic3\", \"Topic3\", \"Topic3\", \"Topic3\", \"Topic3\", \"Topic3\", \"Topic3\", \"Topic3\", \"Topic3\", \"Topic3\", \"Topic3\", \"Topic3\", \"Topic3\", \"Topic3\", \"Topic3\", \"Topic3\", \"Topic3\", \"Topic3\", \"Topic3\", \"Topic3\", \"Topic3\", \"Topic3\", \"Topic3\", \"Topic3\", \"Topic3\", \"Topic3\", \"Topic3\", \"Topic3\", \"Topic3\", \"Topic3\", \"Topic3\", \"Topic3\", \"Topic3\", \"Topic3\", \"Topic3\", \"Topic3\", \"Topic3\", \"Topic3\", \"Topic3\", \"Topic3\", \"Topic3\", \"Topic3\", \"Topic3\", \"Topic3\", \"Topic3\", \"Topic3\", \"Topic3\", \"Topic3\", \"Topic3\", \"Topic3\", \"Topic3\", \"Topic3\", \"Topic3\", \"Topic3\", \"Topic3\", \"Topic3\", \"Topic3\", \"Topic3\", \"Topic3\", \"Topic3\", \"Topic3\", \"Topic3\", \"Topic3\", \"Topic3\", \"Topic3\", \"Topic3\", \"Topic3\", \"Topic3\", \"Topic4\", \"Topic4\", \"Topic4\", \"Topic4\", \"Topic4\", \"Topic4\", \"Topic4\", \"Topic4\", \"Topic4\", \"Topic4\", \"Topic4\", \"Topic4\", \"Topic4\", \"Topic4\", \"Topic4\", \"Topic4\", \"Topic4\", \"Topic4\", \"Topic4\", \"Topic4\", \"Topic4\", \"Topic4\", \"Topic4\", \"Topic4\", \"Topic4\", \"Topic4\", \"Topic4\", \"Topic4\", \"Topic4\", \"Topic4\", \"Topic4\", \"Topic4\", \"Topic4\", \"Topic4\", \"Topic4\", \"Topic4\", \"Topic4\", \"Topic4\", \"Topic4\", \"Topic4\", \"Topic4\", \"Topic4\", \"Topic4\", \"Topic4\", \"Topic4\", \"Topic4\", \"Topic4\", \"Topic4\", \"Topic4\", \"Topic5\", \"Topic5\", \"Topic5\", \"Topic5\", \"Topic5\", \"Topic5\", \"Topic5\", \"Topic5\", \"Topic5\", \"Topic5\", \"Topic5\", \"Topic5\", \"Topic5\", \"Topic5\", \"Topic5\", \"Topic5\", \"Topic5\", \"Topic5\", \"Topic5\", \"Topic5\", \"Topic5\", \"Topic5\", \"Topic5\", \"Topic5\", \"Topic5\", \"Topic5\", \"Topic5\", \"Topic5\", \"Topic5\", \"Topic5\", \"Topic5\", \"Topic5\", \"Topic5\", \"Topic5\", \"Topic5\", \"Topic5\", \"Topic5\", \"Topic5\", \"Topic5\", \"Topic5\", \"Topic5\", \"Topic5\", \"Topic5\", \"Topic5\", \"Topic5\", \"Topic5\", \"Topic5\", \"Topic5\", \"Topic5\", \"Topic5\", \"Topic5\", \"Topic5\", \"Topic5\", \"Topic5\", \"Topic5\", \"Topic5\", \"Topic5\", \"Topic6\", \"Topic6\", \"Topic6\", \"Topic6\", \"Topic6\", \"Topic6\", \"Topic6\", \"Topic6\", \"Topic6\", \"Topic6\", \"Topic6\", \"Topic6\", \"Topic6\", \"Topic6\", \"Topic6\", \"Topic6\", \"Topic6\", \"Topic6\", \"Topic6\", \"Topic6\", \"Topic6\", \"Topic6\", \"Topic6\", \"Topic6\", \"Topic6\", \"Topic6\", \"Topic6\", \"Topic6\", \"Topic6\", \"Topic6\", \"Topic6\", \"Topic6\", \"Topic6\", \"Topic6\", \"Topic6\", \"Topic6\", \"Topic6\", \"Topic6\", \"Topic6\", \"Topic6\", \"Topic6\", \"Topic6\", \"Topic6\", \"Topic6\", \"Topic6\", \"Topic6\", \"Topic6\", \"Topic6\", \"Topic6\", \"Topic6\", \"Topic6\", \"Topic6\", \"Topic6\", \"Topic6\", \"Topic6\", \"Topic6\", \"Topic6\", \"Topic6\", \"Topic6\", \"Topic6\", \"Topic6\", \"Topic6\", \"Topic6\", \"Topic6\", \"Topic6\", \"Topic6\", \"Topic6\", \"Topic6\", \"Topic6\", \"Topic7\", \"Topic7\", \"Topic7\", \"Topic7\", \"Topic7\", \"Topic7\", \"Topic7\", \"Topic7\", \"Topic7\", \"Topic7\", \"Topic7\", \"Topic7\", \"Topic7\", \"Topic7\", \"Topic7\", \"Topic7\", \"Topic7\", \"Topic7\", \"Topic7\", \"Topic7\", \"Topic7\", \"Topic7\", \"Topic7\", \"Topic7\", \"Topic7\", \"Topic7\", \"Topic7\", \"Topic7\", \"Topic7\", \"Topic7\", \"Topic7\", \"Topic7\", \"Topic7\", \"Topic7\", \"Topic7\", \"Topic7\", \"Topic7\", \"Topic7\", \"Topic7\", \"Topic7\", \"Topic7\", \"Topic7\", \"Topic7\", \"Topic7\", \"Topic7\", \"Topic7\", \"Topic7\", \"Topic7\", \"Topic7\", \"Topic7\", \"Topic7\", \"Topic7\", \"Topic7\", \"Topic7\", \"Topic7\", \"Topic7\", \"Topic7\", \"Topic7\", \"Topic7\", \"Topic7\", \"Topic7\", \"Topic7\", \"Topic8\", \"Topic8\", \"Topic8\", \"Topic8\", \"Topic8\", \"Topic8\", \"Topic8\", \"Topic8\", \"Topic8\", \"Topic8\", \"Topic8\", \"Topic8\", \"Topic8\", \"Topic8\", \"Topic8\", \"Topic8\", \"Topic8\", \"Topic8\", \"Topic8\", \"Topic8\", \"Topic8\", \"Topic8\", \"Topic8\", \"Topic8\", \"Topic8\", \"Topic8\", \"Topic8\", \"Topic8\", \"Topic8\", \"Topic8\", \"Topic8\", \"Topic8\", \"Topic8\", \"Topic8\", \"Topic8\", \"Topic8\", \"Topic8\", \"Topic8\", \"Topic8\", \"Topic8\", \"Topic8\", \"Topic8\", \"Topic8\", \"Topic8\", \"Topic8\", \"Topic8\", \"Topic8\", \"Topic8\", \"Topic8\", \"Topic8\", \"Topic8\", \"Topic8\", \"Topic8\", \"Topic8\", \"Topic8\", \"Topic8\", \"Topic8\", \"Topic8\", \"Topic8\", \"Topic8\", \"Topic8\", \"Topic9\", \"Topic9\", \"Topic9\", \"Topic9\", \"Topic9\", \"Topic9\", \"Topic9\", \"Topic9\", \"Topic9\", \"Topic9\", \"Topic9\", \"Topic9\", \"Topic9\", \"Topic9\", \"Topic9\", \"Topic9\", \"Topic9\", \"Topic9\", \"Topic9\", \"Topic9\", \"Topic9\", \"Topic9\", \"Topic9\", \"Topic9\", \"Topic9\", \"Topic9\", \"Topic9\", \"Topic9\", \"Topic9\", \"Topic9\", \"Topic9\", \"Topic9\", \"Topic9\", \"Topic9\", \"Topic9\", \"Topic9\", \"Topic9\", \"Topic9\", \"Topic9\", \"Topic9\", \"Topic9\", \"Topic9\", \"Topic9\", \"Topic9\", \"Topic9\", \"Topic9\", \"Topic9\", \"Topic9\", \"Topic9\", \"Topic9\", \"Topic10\", \"Topic10\", \"Topic10\", \"Topic10\", \"Topic10\", \"Topic10\", \"Topic10\", \"Topic10\", \"Topic10\", \"Topic10\", \"Topic10\", \"Topic10\", \"Topic10\", \"Topic10\", \"Topic10\", \"Topic10\", \"Topic10\", \"Topic10\", \"Topic10\", \"Topic10\", \"Topic10\", \"Topic10\", \"Topic10\", \"Topic10\", \"Topic10\", \"Topic10\", \"Topic10\", \"Topic10\", \"Topic10\", \"Topic10\", \"Topic10\", \"Topic10\", \"Topic10\", \"Topic10\", \"Topic10\", \"Topic10\", \"Topic10\", \"Topic10\", \"Topic10\", \"Topic10\", \"Topic10\", \"Topic10\", \"Topic10\", \"Topic10\", \"Topic10\", \"Topic10\", \"Topic10\", \"Topic10\", \"Topic10\", \"Topic10\", \"Topic10\", \"Topic10\", \"Topic10\", \"Topic10\", \"Topic10\", \"Topic10\", \"Topic10\", \"Topic10\", \"Topic10\", \"Topic10\", \"Topic11\", \"Topic11\", \"Topic11\", \"Topic11\", \"Topic11\", \"Topic11\", \"Topic11\", \"Topic11\", \"Topic11\", \"Topic11\", \"Topic11\", \"Topic11\", \"Topic11\", \"Topic11\", \"Topic11\", \"Topic11\", \"Topic11\", \"Topic11\", \"Topic11\", \"Topic11\", \"Topic11\", \"Topic11\", \"Topic11\", \"Topic11\", \"Topic11\", \"Topic11\", \"Topic11\", \"Topic11\", \"Topic11\", \"Topic11\", \"Topic11\", \"Topic11\", \"Topic11\", \"Topic11\", \"Topic11\", \"Topic11\", \"Topic11\", \"Topic11\", \"Topic11\", \"Topic11\", \"Topic11\", \"Topic11\", \"Topic11\", \"Topic11\", \"Topic11\", \"Topic11\", \"Topic11\", \"Topic11\", \"Topic11\", \"Topic11\", \"Topic11\", \"Topic11\", \"Topic11\", \"Topic11\", \"Topic11\", \"Topic11\", \"Topic11\", \"Topic12\", \"Topic12\", \"Topic12\", \"Topic12\", \"Topic12\", \"Topic12\", \"Topic12\", \"Topic12\", \"Topic12\", \"Topic12\", \"Topic12\", \"Topic12\", \"Topic12\", \"Topic12\", \"Topic12\", \"Topic12\", \"Topic12\", \"Topic12\", \"Topic12\", \"Topic12\", \"Topic12\", \"Topic12\", \"Topic12\", \"Topic12\", \"Topic12\", \"Topic12\", \"Topic12\", \"Topic12\", \"Topic12\", \"Topic12\", \"Topic12\", \"Topic12\", \"Topic12\", \"Topic12\", \"Topic12\", \"Topic12\", \"Topic12\", \"Topic12\", \"Topic12\", \"Topic12\", \"Topic12\", \"Topic12\", \"Topic12\", \"Topic12\", \"Topic12\", \"Topic12\", \"Topic12\", \"Topic12\", \"Topic12\", \"Topic12\", \"Topic12\", \"Topic12\", \"Topic12\", \"Topic12\", \"Topic12\", \"Topic13\", \"Topic13\", \"Topic13\", \"Topic13\", \"Topic13\", \"Topic13\", \"Topic13\", \"Topic13\", \"Topic13\", \"Topic13\", \"Topic13\", \"Topic13\", \"Topic13\", \"Topic13\", \"Topic13\", \"Topic13\", \"Topic13\", \"Topic13\", \"Topic13\", \"Topic13\", \"Topic13\", \"Topic13\", \"Topic13\", \"Topic13\", \"Topic13\", \"Topic13\", \"Topic13\", \"Topic13\", \"Topic13\", \"Topic13\", \"Topic13\", \"Topic13\", \"Topic13\", \"Topic13\", \"Topic13\", \"Topic13\", \"Topic13\", \"Topic13\", \"Topic13\", \"Topic13\", \"Topic13\", \"Topic13\", \"Topic13\", \"Topic13\", \"Topic13\", \"Topic13\", \"Topic13\", \"Topic13\", \"Topic13\", \"Topic13\", \"Topic13\", \"Topic13\", \"Topic13\", \"Topic13\", \"Topic13\", \"Topic13\", \"Topic13\", \"Topic14\", \"Topic14\", \"Topic14\", \"Topic14\", \"Topic14\", \"Topic14\", \"Topic14\", \"Topic14\", \"Topic14\", \"Topic14\", \"Topic14\", \"Topic14\", \"Topic14\", \"Topic14\", \"Topic14\", \"Topic14\", \"Topic14\", \"Topic14\", \"Topic14\", \"Topic14\", \"Topic14\", \"Topic14\", \"Topic14\", \"Topic14\", \"Topic14\", \"Topic14\", \"Topic14\", \"Topic14\", \"Topic14\", \"Topic14\", \"Topic14\", \"Topic14\", \"Topic14\", \"Topic14\", \"Topic14\", \"Topic14\", \"Topic14\", \"Topic14\", \"Topic14\", \"Topic14\", \"Topic14\", \"Topic14\", \"Topic14\", \"Topic14\", \"Topic14\", \"Topic14\", \"Topic14\", \"Topic14\", \"Topic14\", \"Topic14\", \"Topic14\", \"Topic14\", \"Topic14\", \"Topic15\", \"Topic15\", \"Topic15\", \"Topic15\", \"Topic15\", \"Topic15\", \"Topic15\", \"Topic15\", \"Topic15\", \"Topic15\", \"Topic15\", \"Topic15\", \"Topic15\", \"Topic15\", \"Topic15\", \"Topic15\", \"Topic15\", \"Topic15\", \"Topic15\", \"Topic15\", \"Topic15\", \"Topic15\", \"Topic15\", \"Topic15\", \"Topic15\", \"Topic15\", \"Topic15\", \"Topic15\", \"Topic15\", \"Topic15\", \"Topic15\", \"Topic15\", \"Topic15\", \"Topic15\", \"Topic15\", \"Topic15\", \"Topic15\", \"Topic15\", \"Topic15\", \"Topic15\", \"Topic15\", \"Topic15\", \"Topic15\", \"Topic15\", \"Topic15\", \"Topic15\", \"Topic15\", \"Topic15\", \"Topic15\", \"Topic15\", \"Topic15\", \"Topic15\", \"Topic15\", \"Topic15\", \"Topic15\", \"Topic15\", \"Topic15\", \"Topic15\", \"Topic15\", \"Topic15\", \"Topic16\", \"Topic16\", \"Topic16\", \"Topic16\", \"Topic16\", \"Topic16\", \"Topic16\", \"Topic16\", \"Topic16\", \"Topic16\", \"Topic16\", \"Topic16\", \"Topic16\", \"Topic16\", \"Topic16\", \"Topic16\", \"Topic16\", \"Topic16\", \"Topic16\", \"Topic16\", \"Topic16\", \"Topic16\", \"Topic16\", \"Topic16\", \"Topic16\", \"Topic16\", \"Topic16\", \"Topic16\", \"Topic16\", \"Topic16\", \"Topic16\", \"Topic16\", \"Topic16\", \"Topic16\", \"Topic16\", \"Topic16\", \"Topic16\", \"Topic16\", \"Topic16\", \"Topic16\", \"Topic16\", \"Topic16\", \"Topic16\", \"Topic16\", \"Topic16\", \"Topic16\", \"Topic16\", \"Topic16\", \"Topic16\", \"Topic16\", \"Topic16\", \"Topic16\", \"Topic16\", \"Topic16\", \"Topic16\", \"Topic16\", \"Topic16\", \"Topic16\", \"Topic16\", \"Topic16\", \"Topic16\", \"Topic17\", \"Topic17\", \"Topic17\", \"Topic17\", \"Topic17\", \"Topic17\", \"Topic17\", \"Topic17\", \"Topic17\", \"Topic17\", \"Topic17\", \"Topic17\", \"Topic17\", \"Topic17\", \"Topic17\", \"Topic17\", \"Topic17\", \"Topic17\", \"Topic17\", \"Topic17\", \"Topic17\", \"Topic17\", \"Topic17\", \"Topic17\", \"Topic17\", \"Topic17\", \"Topic17\", \"Topic17\", \"Topic17\", \"Topic17\", \"Topic17\", \"Topic17\", \"Topic17\", \"Topic17\", \"Topic17\", \"Topic17\", \"Topic17\", \"Topic17\", \"Topic17\", \"Topic17\", \"Topic17\", \"Topic17\", \"Topic17\", \"Topic17\", \"Topic17\", \"Topic17\", \"Topic17\", \"Topic17\", \"Topic17\", \"Topic17\", \"Topic17\", \"Topic17\", \"Topic17\", \"Topic17\", \"Topic17\", \"Topic17\", \"Topic17\", \"Topic17\", \"Topic18\", \"Topic18\", \"Topic18\", \"Topic18\", \"Topic18\", \"Topic18\", \"Topic18\", \"Topic18\", \"Topic18\", \"Topic18\", \"Topic18\", \"Topic18\", \"Topic18\", \"Topic18\", \"Topic18\", \"Topic18\", \"Topic18\", \"Topic18\", \"Topic18\", \"Topic18\", \"Topic18\", \"Topic18\", \"Topic18\", \"Topic18\", \"Topic18\", \"Topic18\", \"Topic18\", \"Topic18\", \"Topic18\", \"Topic18\", \"Topic18\", \"Topic18\", \"Topic18\", \"Topic18\", \"Topic18\", \"Topic18\", \"Topic18\", \"Topic18\", \"Topic18\", \"Topic18\", \"Topic18\", \"Topic18\", \"Topic18\", \"Topic18\", \"Topic18\", \"Topic18\", \"Topic18\", \"Topic18\", \"Topic18\", \"Topic18\", \"Topic18\", \"Topic18\", \"Topic18\", \"Topic18\", \"Topic18\", \"Topic18\", \"Topic18\", \"Topic18\", \"Topic18\", \"Topic18\", \"Topic18\", \"Topic18\", \"Topic18\", \"Topic18\", \"Topic19\", \"Topic19\", \"Topic19\", \"Topic19\", \"Topic19\", \"Topic19\", \"Topic19\", \"Topic19\", \"Topic19\", \"Topic19\", \"Topic19\", \"Topic19\", \"Topic19\", \"Topic19\", \"Topic19\", \"Topic19\", \"Topic19\", \"Topic19\", \"Topic19\", \"Topic19\", \"Topic19\", \"Topic19\", \"Topic19\", \"Topic19\", \"Topic19\", \"Topic19\", \"Topic19\", \"Topic19\", \"Topic19\", \"Topic19\", \"Topic19\", \"Topic19\", \"Topic19\", \"Topic19\", \"Topic19\", \"Topic19\", \"Topic19\", \"Topic19\", \"Topic19\", \"Topic19\", \"Topic19\", \"Topic19\", \"Topic19\", \"Topic19\", \"Topic19\", \"Topic19\", \"Topic19\", \"Topic19\", \"Topic19\", \"Topic19\", \"Topic19\", \"Topic19\", \"Topic19\", \"Topic19\", \"Topic19\", \"Topic19\", \"Topic19\", \"Topic20\", \"Topic20\", \"Topic20\", \"Topic20\", \"Topic20\", \"Topic20\", \"Topic20\", \"Topic20\", \"Topic20\", \"Topic20\", \"Topic20\", \"Topic20\", \"Topic20\", \"Topic20\", \"Topic20\", \"Topic20\", \"Topic20\", \"Topic20\", \"Topic20\", \"Topic20\", \"Topic20\", \"Topic20\", \"Topic20\", \"Topic20\", \"Topic20\", \"Topic20\", \"Topic20\", \"Topic20\", \"Topic20\", \"Topic20\", \"Topic20\", \"Topic20\", \"Topic20\", \"Topic20\", \"Topic20\", \"Topic20\", \"Topic20\", \"Topic20\", \"Topic20\", \"Topic20\", \"Topic20\", \"Topic20\", \"Topic20\", \"Topic20\", \"Topic20\", \"Topic20\", \"Topic20\", \"Topic20\", \"Topic20\", \"Topic20\", \"Topic20\", \"Topic20\", \"Topic20\", \"Topic20\", \"Topic20\", \"Topic20\", \"Topic20\"], \"logprob\": [30.0, 29.0, 28.0, 27.0, 26.0, 25.0, 24.0, 23.0, 22.0, 21.0, 20.0, 19.0, 18.0, 17.0, 16.0, 15.0, 14.0, 13.0, 12.0, 11.0, 10.0, 9.0, 8.0, 7.0, 6.0, 5.0, 4.0, 3.0, 2.0, 1.0, -7.437600135803223, -7.430200099945068, -6.794000148773193, -6.99429988861084, -6.21560001373291, -7.44920015335083, -7.439199924468994, -7.191299915313721, -7.1956000328063965, -7.46019983291626, -7.467700004577637, -7.477700233459473, -7.475599765777588, -7.480100154876709, -7.474899768829346, -7.472099781036377, -7.217800140380859, -7.257900238037109, -7.488100051879883, -7.499300003051758, -7.227799892425537, -7.22599983215332, -7.310299873352051, -7.267600059509277, -7.529699802398682, -7.513899803161621, -6.635700225830078, -6.970699787139893, -7.617700099945068, -7.362299919128418, -6.3277997970581055, -6.260499954223633, -6.1092000007629395, -7.077400207519531, -6.335700035095215, -5.50029993057251, -6.391600131988525, -5.683899879455566, -5.552499771118164, -5.008699893951416, -6.498000144958496, -6.780300140380859, -6.80810022354126, -6.999499797821045, -6.747300148010254, -6.177700042724609, -6.197000026702881, -4.577899932861328, -5.46150016784668, -6.684800148010254, -6.449999809265137, -5.442500114440918, -6.155200004577637, -5.428899765014648, -6.317200183868408, -5.127999782562256, -4.242099761962891, -5.698599815368652, -6.013000011444092, -5.604300022125244, -5.268499851226807, -5.588399887084961, -5.430500030517578, -5.410799980163574, -5.709499835968018, -5.4791998863220215, -5.987500190734863, -5.9394001960754395, -5.759099960327148, -5.7692999839782715, -5.827400207519531, -5.88700008392334, -5.601399898529053, -5.642399787902832, -5.866399765014648, -5.713399887084961, -5.6753997802734375, -5.673099994659424, -5.895599842071533, -5.885499954223633, -6.736299991607666, -6.743800163269043, -6.0843000411987305, -6.752399921417236, -6.76200008392334, -6.271699905395508, -6.876500129699707, -6.862599849700928, -7.00029993057251, -6.510000228881836, -6.297399997711182, -6.813700199127197, -6.515399932861328, -7.134699821472168, -6.607500076293945, -7.140999794006348, -6.756899833679199, -6.762499809265137, -6.7606000900268555, -6.310500144958496, -7.00629997253418, -5.97130012512207, -6.843500137329102, -6.597400188446045, -6.139900207519531, -6.553899765014648, -7.100900173187256, -7.1020002365112305, -6.247799873352051, -6.821300029754639, -5.818699836730957, -6.053699970245361, -5.940400123596191, -6.2982001304626465, -5.4928998947143555, -5.782299995422363, -6.043000221252441, -4.591400146484375, -5.052000045776367, -5.831200122833252, -5.817299842834473, -5.948200225830078, -5.8225998878479, -6.223499774932861, -5.704500198364258, -5.921199798583984, -3.886199951171875, -4.914899826049805, -5.522500038146973, -5.040299892425537, -6.092599868774414, -5.805300235748291, -5.509699821472168, -5.12939977645874, -5.500699996948242, -5.422800064086914, -5.2382001876831055, -5.3805999755859375, -5.130099773406982, -5.5655999183654785, -5.0524001121521, -5.45959997177124, -5.589600086212158, -5.546299934387207, -5.537300109863281, -5.770100116729736, -5.813799858093262, -5.7281999588012695, -5.757800102233887, -5.751299858093262, -5.776800155639648, -5.761899948120117, -6.1350998878479, -6.798699855804443, -6.850200176239014, -5.042699813842773, -6.544300079345703, -6.811800003051758, -6.323699951171875, -6.434599876403809, -7.182199954986572, -6.823599815368652, -6.757299900054932, -5.51639986038208, -6.336100101470947, -5.452700138092041, -7.052199840545654, -6.940100193023682, -6.850200176239014, -6.7947001457214355, -5.9984002113342285, -6.801499843597412, -6.819499969482422, -6.8506999015808105, -6.179599761962891, -6.854800224304199, -7.316500186920166, -6.173900127410889, -6.9079999923706055, -6.853400230407715, -5.587200164794922, -7.102099895477295, -6.091700077056885, -5.216800212860107, -6.148399829864502, -5.635000228881836, -5.826200008392334, -5.2546000480651855, -6.207399845123291, -6.502999782562256, -5.0518999099731445, -6.468200206756592, -5.735199928283691, -5.738800048828125, -5.765900135040283, -5.268599987030029, -5.866799831390381, -6.290999889373779, -5.718900203704834, -5.637599945068359, -4.094799995422363, -5.910200119018555, -5.079100131988525, -5.058599948883057, -5.821899890899658, -5.609000205993652, -4.976200103759766, -5.255899906158447, -5.8196001052856445, -5.769899845123291, -5.752500057220459, -5.47130012512207, -5.805600166320801, -5.6153998374938965, -5.599100112915039, -5.756800174713135, -5.628799915313721, -5.6132001876831055, -5.7428998947143555, -5.7617998123168945, -3.740999937057495, -4.3755998611450195, -4.414700031280518, -4.415500164031982, -4.442500114440918, -7.686699867248535, -4.386899948120117, -7.693399906158447, -7.6921000480651855, -7.695700168609619, -4.47599983215332, -7.73390007019043, -4.481800079345703, -7.738999843597412, -7.7444000244140625, -7.250100135803223, -7.742199897766113, -7.261000156402588, -4.434500217437744, -7.097300052642822, -7.5065999031066895, -7.775300025939941, -4.590799808502197, -7.792900085449219, -3.8257999420166016, -4.837600231170654, -4.51669979095459, -4.520899772644043, -4.536799907684326, -4.559899806976318, -4.650899887084961, -3.967400074005127, -4.517499923706055, -4.243599891662598, -4.356400012969971, -4.73859977722168, -4.376999855041504, -4.66540002822876, -4.691299915313721, -4.436200141906738, -4.86929988861084, -5.008399963378906, -4.65339994430542, -4.7779998779296875, -3.9916999340057373, -4.346700191497803, -3.9704999923706055, -4.561999797821045, -4.613399982452393, -3.4472999572753906, -6.465400218963623, -6.268599987030029, -6.479100227355957, -6.488800048828125, -6.766499996185303, -6.764999866485596, -6.775100231170654, -6.780200004577637, -6.535399913787842, -5.385300159454346, -3.5999999046325684, -6.855100154876709, -3.5862998962402344, -3.6068999767303467, -6.04640007019043, -5.9670000076293945, -5.313499927520752, -6.735599994659424, -6.752500057220459, -6.260200023651123, -4.030099868774414, -6.740200042724609, -7.246200084686279, -6.493899822235107, -7.23960018157959, -7.323500156402588, -7.194200038909912, -5.298299789428711, -6.809899806976318, -6.429200172424316, -6.899799823760986, -6.054800033569336, -5.379799842834473, -6.256100177764893, -4.517600059509277, -5.35230016708374, -4.577499866485596, -5.3429999351501465, -4.367000102996826, -4.983500003814697, -5.0183000564575195, -3.6201000213623047, -5.070000171661377, -4.953999996185303, -5.50570011138916, -5.121500015258789, -5.853300094604492, -4.981800079345703, -5.238500118255615, -5.329500198364258, -5.265399932861328, -5.2652997970581055, -5.540599822998047, -5.081999778747559, -5.445899963378906, -5.148900032043457, -5.821800231933594, -6.380899906158447, -6.382500171661377, -5.948400020599365, -5.886099815368652, -5.843100070953369, -4.866499900817871, -6.207200050354004, -6.732399940490723, -6.462699890136719, -5.7221999168396, -6.372799873352051, -6.105400085449219, -6.741300106048584, -6.457099914550781, -6.831099987030029, -6.8460001945495605, -6.367099761962891, -6.283299922943115, -6.389100074768066, -6.076700210571289, -6.1774001121521, -6.775300025939941, -6.797299861907959, -6.739200115203857, -6.048699855804443, -6.76230001449585, -6.728899955749512, -5.053100109100342, -7.051300048828125, -6.378200054168701, -5.226799964904785, -4.2733001708984375, -6.104700088500977, -6.291500091552734, -5.663899898529053, -6.14139986038208, -5.507599830627441, -5.7657999992370605, -5.316999912261963, -5.191400051116943, -5.332300186157227, -4.8420000076293945, -5.048399925231934, -5.344299793243408, -5.240900039672852, -5.143499851226807, -5.933899879455566, -5.842800140380859, -5.578100204467773, -5.288400173187256, -5.6072001457214355, -5.413899898529053, -4.268199920654297, -4.860799789428711, -5.338900089263916, -5.315400123596191, -4.981400012969971, -5.354000091552734, -5.03879976272583, -5.350100040435791, -5.559700012207031, -5.370200157165527, -5.510900020599365, -5.4070000648498535, -5.488699913024902, -5.492800235748291, -5.524700164794922, -5.510900020599365, -5.800099849700928, -6.161900043487549, -5.506400108337402, -5.788899898529053, -6.114999771118164, -6.134099960327148, -6.0278000831604, -6.0345001220703125, -6.1143999099731445, -6.057199954986572, -6.1020002365112305, -6.461699962615967, -5.35890007019043, -5.822199821472168, -6.169600009918213, -6.452899932861328, -6.454400062561035, -6.03980016708374, -6.473499774932861, -5.979599952697754, -6.6092000007629395, -5.758600234985352, -6.173399925231934, -5.769499778747559, -6.565299987792969, -5.741600036621094, -6.691500186920166, -6.253300189971924, -5.052199840545654, -5.519100189208984, -4.994100093841553, -4.909999847412109, -5.277699947357178, -5.077400207519531, -5.384500026702881, -5.6427998542785645, -5.605400085449219, -5.353700160980225, -5.366399765014648, -3.506999969482422, -5.5279998779296875, -5.399700164794922, -5.298799991607666, -4.785999774932861, -5.225599765777588, -5.31279993057251, -5.350599765777588, -5.613699913024902, -5.144199848175049, -5.367199897766113, -4.924099922180176, -4.935699939727783, -5.406000137329102, -5.175899982452393, -5.388400077819824, -5.219600200653076, -5.390999794006348, -5.360899925231934, -5.310699939727783, -5.301700115203857, -5.353899955749512, -5.483799934387207, -6.056700229644775, -5.091000080108643, -5.352099895477295, -6.0671000480651855, -5.111400127410889, -5.438300132751465, -5.86959981918335, -5.8979997634887695, -5.819499969482422, -5.513299942016602, -6.342299938201904, -6.054100036621094, -6.053299903869629, -6.364799976348877, -6.280900001525879, -6.3846001625061035, -4.641600131988525, -5.264900207519531, -6.130799770355225, -5.720900058746338, -6.421800136566162, -5.589099884033203, -6.058000087738037, -6.873899936676025, -6.367000102996826, -5.7820000648498535, -6.778600215911865, -6.917399883270264, -6.3831000328063965, -6.2829999923706055, -5.5903000831604, -5.8709001541137695, -5.980999946594238, -5.83620023727417, -5.8790998458862305, -4.655700206756592, -4.790599822998047, -5.490300178527832, -5.05679988861084, -4.5329999923706055, -4.513400077819824, -4.879199981689453, -5.308000087738037, -5.34250020980835, -5.657400131225586, -5.434500217437744, -4.026299953460693, -5.191199779510498, -5.436100006103516, -5.28980016708374, -5.748199939727783, -5.130099773406982, -5.5, -5.032100200653076, -5.419300079345703, -5.47629976272583, -5.1230998039245605, -5.393799781799316, -5.319300174713135, -5.36460018157959, -5.5065999031066895, -2.73580002784729, -3.4086999893188477, -6.400599956512451, -6.689499855041504, -3.466200113296509, -3.6084001064300537, -6.755499839782715, -3.5634000301361084, -5.690999984741211, -6.718200206756592, -6.33519983291626, -3.119999885559082, -7.205599784851074, -7.120100021362305, -3.713399887084961, -6.7170000076293945, -7.094299793243408, -6.832300186157227, -6.2204999923706055, -3.4035000801086426, -7.270999908447266, -7.1479997634887695, -7.136600017547607, -3.9486000537872314, -4.438499927520752, -5.754700183868408, -7.151500225067139, -7.230599880218506, -7.289400100708008, -4.736400127410889, -4.110099792480469, -3.608299970626831, -4.424300193786621, -4.410999774932861, -4.159900188446045, -4.39900016784668, -5.645299911499023, -4.5320000648498535, -4.655900001525879, -5.823200225830078, -4.450300216674805, -4.504000186920166, -4.745299816131592, -5.041200160980225, -4.500500202178955, -5.368199825286865, -4.76200008392334, -5.327600002288818, -5.617499828338623, -5.649099826812744, -5.67549991607666, -5.946499824523926, -6.013599872589111, -6.0167999267578125, -6.018700122833252, -6.019100189208984, -6.020500183105469, -6.023200035095215, -6.0254998207092285, -6.0254998207092285, -6.027299880981445, -6.02869987487793, -6.02839994430542, -6.029099941253662, -6.033199787139893, -6.034599781036377, -6.03380012512207, -6.037499904632568, -5.778900146484375, -5.564700126647949, -5.8846001625061035, -4.3649001121521, -4.987400054931641, -5.224100112915039, -6.227700233459473, -5.961100101470947, -6.276700019836426, -6.094699859619141, -5.737599849700928, -6.280399799346924, -4.125199794769287, -5.747499942779541, -4.712299823760986, -4.562600135803223, -5.422900199890137, -5.326099872589111, -4.581699848175049, -4.769599914550781, -5.1280999183654785, -5.4745001792907715, -5.5370001792907715, -5.329800128936768, -5.600100040435791, -5.480599880218506, -5.307799816131592, -4.992599964141846, -5.647500038146973, -5.399199962615967, -5.217400074005127, -5.5619001388549805, -4.628300189971924, -5.212600231170654, -5.123899936676025, -5.524600028991699, -5.497799873352051, -5.150899887084961, -5.468699932098389, -5.3572998046875, -5.460299968719482, -5.4832000732421875, -5.089700222015381, -6.30079984664917, -6.3024001121521, -5.971700191497803, -5.995999813079834, -5.430300235748291, -6.05649995803833, -5.748300075531006, -5.517099857330322, -6.364500045776367, -4.704599857330322, -5.3927998542785645, -5.187099933624268, -5.921599864959717, -5.954800128936768, -6.32289981842041, -5.0507001876831055, -6.25600004196167, -5.2378997802734375, -6.308800220489502, -6.263299942016602, -5.853099822998047, -6.255300045013428, -5.65339994430542, -6.986199855804443, -6.995299816131592, -6.775000095367432, -5.929599761962891, -6.948299884796143, -6.526299953460693, -5.839900016784668, -5.3171000480651855, -5.407100200653076, -6.235300064086914, -5.963799953460693, -5.377799987792969, -5.695300102233887, -5.697500228881836, -4.843500137329102, -5.79610013961792, -5.0289998054504395, -5.459700107574463, -5.236999988555908, -4.070300102233887, -5.010700225830078, -5.2281999588012695, -5.234099864959717, -5.406099796295166, -5.374000072479248, -5.2210001945495605, -5.509300231933594, -5.315299987792969, -5.367400169372559, -5.677599906921387, -5.475200176239014, -5.367400169372559, -5.6753997802734375, -4.590000152587891, -5.396900177001953, -4.843999862670898, -5.238800048828125, -6.0142998695373535, -5.961599826812744, -5.84250020980835, -5.439700126647949, -5.571199893951416, -5.453400135040283, -6.453999996185303, -5.838900089263916, -5.337200164794922, -5.89769983291626, -4.275599956512451, -5.857800006866455, -5.590099811553955, -5.693699836730957, -4.964700222015381, -4.893599987030029, -6.4019999504089355, -6.004899978637695, -5.777100086212158, -6.542300224304199, -6.534999847412109, -6.537399768829346, -5.86959981918335, -4.455100059509277, -4.556099891662598, -6.316299915313721, -4.4567999839782715, -5.4542999267578125, -5.827700138092041, -5.03410005569458, -4.944900035858154, -5.171199798583984, -5.241000175476074, -5.410900115966797, -4.724999904632568, -4.9039998054504395, -4.758200168609619, -4.90310001373291, -5.488900184631348, -4.930300235748291, -4.679599761962891, -4.71560001373291, -5.303899765014648, -4.8592000007629395, -5.092100143432617, -5.123300075531006, -5.256700038909912, -5.142399787902832, -5.303800106048584, -5.28439998626709, -5.383600234985352, -5.334700107574463, -6.121200084686279, -6.142199993133545, -6.157899856567383, -6.159299850463867, -6.162700176239014, -5.910600185394287, -5.048600196838379, -6.074100017547607, -6.045199871063232, -5.046299934387207, -5.754799842834473, -4.346799850463867, -5.22790002822876, -5.655300140380859, -6.6381001472473145, -6.325699806213379, -4.1356000900268555, -6.556000232696533, -6.037399768829346, -6.628699779510498, -5.388199806213379, -6.799300193786621, -6.597499847412109, -6.556000232696533, -5.960000038146973, -6.5503997802734375, -5.873899936676025, -6.916500091552734, -6.646900177001953, -5.707300186157227, -5.670300006866455, -5.200900077819824, -4.992700099945068, -4.87939977645874, -5.575399875640869, -5.1290998458862305, -5.019000053405762, -4.250800132751465, -5.430200099945068, -4.673399925231934, -5.163899898529053, -5.333899974822998, -5.194900035858154, -5.216800212860107, -3.9209001064300537, -5.241499900817871, -4.826000213623047, -4.989099979400635, -4.89709997177124, -4.934500217437744, -4.966800212860107, -5.281599998474121, -5.087299823760986, -5.239799976348877, -5.342599868774414, -5.371399879455566, -5.075399875640869, -4.721499919891357, -5.943399906158447, -4.582900047302246, -5.532899856567383, -4.103099822998047, -5.962399959564209, -5.941199779510498, -4.507599830627441, -6.043900012969971, -6.0507001876831055, -5.372300148010254, -6.122499942779541, -5.163300037384033, -5.908899784088135, -6.088799953460693, -6.077400207519531, -6.085000038146973, -6.044099807739258, -6.53000020980835, -5.908899784088135, -5.370699882507324, -5.523600101470947, -6.138599872589111, -5.906599998474121, -6.147799968719482, -6.780799865722656, -5.894700050354004, -4.646100044250488, -5.287799835205078, -4.165999889373779, -5.202000141143799, -5.297399997711182, -4.389999866485596, -5.3618998527526855, -5.079800128936768, -5.4008002281188965, -5.427000045776367, -5.3256001472473145, -3.7416999340057373, -5.324399948120117, -5.606900215148926, -4.779200077056885, -5.093800067901611, -5.156199932098389, -5.185699939727783, -4.9807000160217285, -5.516200065612793, -5.195799827575684, -5.3221001625061035, -5.365200042724609, -5.398099899291992, -5.372099876403809, -5.477799892425537, -5.825099945068359, -5.055799961090088, -5.8653998374938965, -5.886000156402588, -5.939499855041504, -5.2144999504089355, -5.475299835205078, -5.8958001136779785, -6.272299766540527, -5.554500102996826, -5.889400005340576, -5.912799835205078, -5.98829984664917, -5.9096999168396, -5.119100093841553, -5.841899871826172, -6.614099979400635, -5.947000026702881, -4.757800102233887, -6.586400032043457, -5.243100166320801, -6.52869987487793, -6.5731000900268555, -6.352399826049805, -5.959199905395508, -6.502099990844727, -6.52869987487793, -6.407700061798096, -6.718800067901611, -5.1427001953125, -5.946100234985352, -5.2357001304626465, -5.005499839782715, -4.8282999992370605, -5.234600067138672, -5.853700160980225, -5.679900169372559, -4.962900161743164, -4.897799968719482, -5.313399791717529, -4.710700035095215, -4.51200008392334, -4.775300025939941, -3.966200113296509, -4.720900058746338, -4.697299957275391, -5.5345001220703125, -5.465000152587891, -5.5106000900268555, -5.365300178527832, -5.344099998474121, -5.160299777984619, -5.303599834442139, -5.252999782562256, -5.3445000648498535, -5.266499996185303, -5.46019983291626, -5.428199768066406, -5.442200183868408, -5.223800182342529, -5.595300197601318, -5.599299907684326, -5.66540002822876, -5.672800064086914, -5.8607001304626465, -5.401299953460693, -5.851900100708008, -5.0696001052856445, -5.870299816131592, -5.871399879455566, -5.88129997253418, -5.864500045776367, -5.865900039672852, -5.815999984741211, -5.836299896240234, -5.797399997711182, -5.006800174713135, -5.81820011138916, -5.7006001472473145, -5.1356000900268555, -5.859499931335449, -6.4394001960754395, -6.507500171661377, -5.608399868011475, -5.404699802398682, -5.945899963378906, -6.461900234222412, -6.4375, -6.497700214385986, -5.455900192260742, -5.852099895477295, -5.292399883270264, -4.244800090789795, -4.955699920654297, -4.9506001472473145, -4.891200065612793, -4.472400188446045, -4.588099956512451, -4.604599952697754, -3.3589000701904297, -4.872600078582764, -4.8471999168396, -5.077300071716309, -4.842700004577637, -5.196300029754639, -4.451600074768066, -5.299600124359131, -4.689599990844727, -5.271900177001953, -5.404099941253662, -5.4019999504089355, -5.108699798583984, -5.323299884796143, -5.378200054168701, -5.308000087738037, -5.352200031280518, -5.315800189971924, -5.3470001220703125, -5.370299816131592, -5.343699932098389, -4.387400150299072, -5.463099956512451, -5.286099910736084, -5.107500076293945, -5.771599769592285, -5.788400173187256, -5.414999961853027, -5.6819000244140625, -5.728499889373779, -4.691699981689453, -6.376699924468994, -6.257400035858154, -5.680500030517578, -6.248499870300293, -3.608599901199341, -5.462200164794922, -6.40369987487793, -5.334000110626221, -5.793000221252441, -6.448800086975098, -6.269800186157227, -6.020100116729736, -6.374100208282471, -5.61870002746582, -6.366300106048584, -6.3358001708984375, -5.838600158691406, -6.682499885559082, -6.527900218963623, -5.00600004196167, -5.696199893951416, -3.169800043106079, -4.085599899291992, -4.586100101470947, -5.017000198364258, -5.316699981689453, -4.757900238037109, -3.9779000282287598, -4.922800064086914, -4.315199851989746, -4.692699909210205, -4.88100004196167, -5.31279993057251, -5.166100025177002, -5.238100051879883, -4.810999870300293, -5.257800102233887, -5.1778998374938965, -4.61929988861084, -5.3206000328063965, -4.452499866485596, -5.1539998054504395, -5.051000118255615, -5.116499900817871, -5.247000217437744, -5.21589994430542, -5.28849983215332, -5.3003997802734375, -5.477799892425537, -4.414599895477295, -5.525199890136719, -5.535799980163574, -6.17519998550415, -5.135000228881836, -4.796599864959717, -5.541999816894531, -5.541399955749512, -6.015100002288818, -6.193699836730957, -6.159599781036377, -6.1682000160217285, -4.413700103759766, -6.178199768066406, -6.232100009918213, -5.501999855041504, -6.172900199890137, -6.169600009918213, -5.4770002365112305, -6.151299953460693, -6.207499980926514, -6.150400161743164, -5.533599853515625, -6.194799900054932, -6.17710018157959, -6.144000053405762, -5.472700119018555, -5.5019001960754395, -6.220699787139893, -5.5346999168396, -4.834000110626221, -4.634699821472168, -4.817599773406982, -5.472099781036377, -5.054500102996826, -5.482399940490723, -5.1057000160217285, -5.527699947357178, -5.086100101470947, -5.109300136566162, -5.4704999923706055, -5.479899883270264, -5.492300033569336, -4.01609992980957, -5.482600212097168, -5.009099960327148, -5.01609992980957, -5.045000076293945, -5.055300235748291, -5.049900054931641, -5.342800140380859, -5.380799770355225, -5.3927998542785645, -5.330900192260742, -5.418399810791016, -5.399199962615967, -5.400700092315674, -5.428400039672852, -5.38070011138916, -5.448699951171875, -5.455900192260742, -5.460400104522705, -5.465799808502197, -2.0132999420166016, -5.039700031280518, -5.69980001449585, -5.360099792480469, -5.26800012588501, -5.656300067901611, -5.309599876403809, -5.720799922943115, -6.3420000076293945, -5.727499961853027, -5.760200023651123, -6.043000221252441, -5.367099761962891, -6.512800216674805, -6.409299850463867, -5.445099830627441, -6.339399814605713, -5.534800052642822, -5.379300117492676, -6.186800003051758, -6.286499977111816, -5.748499870300293, -6.360599994659424, -5.886300086975098, -6.159200191497803, -5.477399826049805, -5.567699909210205, -5.456999778747559, -6.403800010681152, -6.420100212097168, -5.851600170135498, -4.504300117492676, -4.607100009918213, -3.8784000873565674, -5.690999984741211, -4.997799873352051, -5.004700183868408, -4.618800163269043, -5.554599761962891, -5.048600196838379, -4.724999904632568, -5.171599864959717, -5.219399929046631, -4.944499969482422, -4.715099811553955, -4.899600028991699, -5.206999778747559, -5.0817999839782715, -4.786799907684326, -5.168799877166748, -5.074399948120117, -5.1905999183654785, -4.991600036621094, -5.361400127410889, -5.048799991607666, -5.235199928283691, -5.221099853515625, -5.4405999183654785, -4.98360013961792, -5.363399982452393, -6.056099891662598, -5.118299961090088, -5.890200138092041, -6.019899845123291, -5.997300148010254, -6.044600009918213, -6.052299976348877, -5.997300148010254, -5.375400066375732, -6.035900115966797, -6.0518999099731445, -6.062300205230713, -6.0503997802734375, -5.997300148010254, -5.992000102996826, -6.0482001304626465, -5.995200157165527, -5.993599891662598, -5.741799831390381, -5.997200012207031, -6.058599948883057, -5.302000045776367, -5.990699768066406, -6.067699909210205, -6.042300224304199, -6.053400039672852, -6.044000148773193, -5.301799774169922, -5.323999881744385, -5.317399978637695, -5.329100131988525, -4.687600135803223, -5.367400169372559, -5.3531999588012695, -5.325300216674805, -3.5000998973846436, -5.299200057983398, -4.491099834442139, -4.66540002822876, -5.339600086212158, -4.785299777984619, -5.236299991607666, -5.26609992980957, -5.308499813079834, -5.235400199890137, -4.791800022125244, -4.954500198364258, -5.297399997711182, -5.188199996948242, -5.2052001953125, -5.169099807739258, -5.122600078582764, -5.278299808502197, -5.363500118255615], \"loglift\": [30.0, 29.0, 28.0, 27.0, 26.0, 25.0, 24.0, 23.0, 22.0, 21.0, 20.0, 19.0, 18.0, 17.0, 16.0, 15.0, 14.0, 13.0, 12.0, 11.0, 10.0, 9.0, 8.0, 7.0, 6.0, 5.0, 4.0, 3.0, 2.0, 1.0, 1.5259000062942505, 1.5185999870300293, 1.5159000158309937, 1.5149999856948853, 1.5127999782562256, 1.5092999935150146, 1.5087000131607056, 1.506700038909912, 1.5024000406265259, 1.4982000589370728, 1.4876999855041504, 1.4859999418258667, 1.4836000204086304, 1.4824999570846558, 1.4818999767303467, 1.4808000326156616, 1.4807000160217285, 1.4768999814987183, 1.4758000373840332, 1.472100019454956, 1.4699000120162964, 1.4664000272750854, 1.4469000101089478, 1.4397000074386597, 1.4395999908447266, 1.430899977684021, 1.426800012588501, 1.42330002784729, 1.4186999797821045, 1.4175000190734863, 1.3854999542236328, 1.3144999742507935, 1.287500023841858, 1.3704999685287476, 1.239400029182434, 1.0460000038146973, 1.2408000230789185, 1.0757999420166016, 1.0257999897003174, 0.8478000164031982, 1.2127000093460083, 1.281999945640564, 1.2847000360488892, 1.3387999534606934, 1.238700032234192, 1.0062999725341797, 0.9902999997138977, 0.2572999894618988, 0.6509000062942505, 1.1928999423980713, 1.0821000337600708, 0.5978999733924866, 0.9207000136375427, 0.541100025177002, 0.9894999861717224, 0.3197000026702881, -0.21559999883174896, 0.6243000030517578, 0.7921000123023987, 0.5250999927520752, 0.2858999967575073, 0.40119999647140503, 0.2750000059604645, 0.13979999721050262, 0.39100000262260437, 0.15379999577999115, 0.6554999947547913, 0.5817000269889832, 0.3165999948978424, 0.3310000002384186, 0.4074999988079071, 0.4456000030040741, -0.14110000431537628, -0.10679999738931656, 0.364300012588501, -0.06109999865293503, -0.24639999866485596, -0.5205000042915344, 0.18299999833106995, 0.06499999761581421, 2.1333000659942627, 2.13319993019104, 2.129699945449829, 2.1229000091552734, 2.114300012588501, 2.0278000831604004, 2.0251998901367188, 2.0234999656677246, 2.012700080871582, 2.009200096130371, 1.9824999570846558, 1.9514000415802002, 1.9478000402450562, 1.9359999895095825, 1.930899977684021, 1.9300999641418457, 1.920300006866455, 1.9172999858856201, 1.917099952697754, 1.9147000312805176, 1.9062000513076782, 1.8792999982833862, 1.8760000467300415, 1.8704999685287476, 1.8575999736785889, 1.8555999994277954, 1.8523000478744507, 1.851099967956543, 1.8472000360488892, 1.845900058746338, 1.8336999416351318, 1.8314000368118286, 1.826300024986267, 1.8357000350952148, 1.742900013923645, 1.746000051498413, 1.773800015449524, 1.4914000034332275, 1.5262000560760498, 1.5982999801635742, 1.5813000202178955, 1.605299949645996, 1.5009000301361084, 1.687399983406067, 1.3734999895095825, 1.4677000045776367, 0.14030000567436218, 0.8075000047683716, 1.1009000539779663, 0.6650999784469604, 1.5700000524520874, 1.2696000337600708, 0.789900004863739, 0.299699991941452, 0.7300000190734863, 0.6110000014305115, 0.3124000132083893, 0.5041000247001648, 0.02239999920129776, 0.7486000061035156, -0.21709999442100525, 0.4050999879837036, 0.5566999912261963, 0.423799991607666, 0.017100000753998756, 0.8960000276565552, 1.0164999961853027, 0.3474999964237213, 0.553600013256073, 0.3952000141143799, 0.5486000180244446, -0.3142000138759613, 2.1273000240325928, 2.1254000663757324, 2.086400032043457, 2.0464999675750732, 2.0218000411987305, 1.980299949645996, 1.9677000045776367, 1.9457000494003296, 1.9444999694824219, 1.9124000072479248, 1.9076000452041626, 1.898900032043457, 1.8948999643325806, 1.8911999464035034, 1.8882999420166016, 1.8808000087738037, 1.8789000511169434, 1.875599980354309, 1.8696000576019287, 1.8694000244140625, 1.8580000400543213, 1.8550000190734863, 1.851699948310852, 1.847000002861023, 1.8365000486373901, 1.8321000337600708, 1.829800009727478, 1.8184000253677368, 1.811400055885315, 1.805799961090088, 1.7967000007629395, 1.761199951171875, 1.760699987411499, 1.7110999822616577, 1.7020000219345093, 1.5312000513076782, 1.7213000059127808, 1.7835999727249146, 1.3732000589370728, 1.721500039100647, 1.3925000429153442, 1.3907999992370605, 1.363700032234192, 1.0525000095367432, 1.3285000324249268, 1.5981999635696411, 1.1780999898910522, 1.1153000593185425, -0.06830000132322311, 1.315600037574768, 0.47540000081062317, 0.37040001153945923, 1.1246999502182007, 0.8184000253677368, -0.14090000092983246, 0.19179999828338623, 1.1204999685287476, 1.0263999700546265, 0.9846000075340271, 0.39340001344680786, 1.0454000234603882, 0.3321000039577484, 0.17419999837875366, 0.7389000058174133, -0.09319999814033508, -0.46059998869895935, 0.35740000009536743, 0.5496000051498413, 2.2188000679016113, 2.1867001056671143, 2.0841000080108643, 2.0652999877929688, 2.058199882507324, 2.044300079345703, 2.044300079345703, 2.036400079727173, 2.0355000495910645, 2.0341999530792236, 2.0190999507904053, 1.958299994468689, 1.9457000494003296, 1.9424999952316284, 1.9420000314712524, 1.9414000511169434, 1.9357999563217163, 1.9357000589370728, 1.9351999759674072, 1.912500023841858, 1.8782000541687012, 1.875100016593933, 1.8654999732971191, 1.8343000411987305, 1.8265000581741333, 1.8253999948501587, 1.813099980354309, 1.80840003490448, 1.795699954032898, 1.7943999767303467, 1.7828999757766724, 1.6303999423980713, 1.6288000345230103, 1.426300048828125, 1.422700047492981, 1.4805999994277954, 1.396299958229065, 1.4469000101089478, 1.4218000173568726, 1.3272000551223755, 1.4113999605178833, 1.4112999439239502, 1.2970999479293823, 1.1936999559402466, 0.8435999751091003, 0.8058000206947327, 0.0560000017285347, 0.8982999920845032, 0.9222000241279602, 2.61680006980896, 2.544800043106079, 2.537400007247925, 2.5316998958587646, 2.5236001014709473, 2.5132999420166016, 2.5060999393463135, 2.496999979019165, 2.4874000549316406, 2.4667000770568848, 2.4128000736236572, 2.398400068283081, 2.396699905395508, 2.3838999271392822, 2.379199981689453, 2.257699966430664, 2.2548000812530518, 2.24180006980896, 2.2163000106811523, 2.197700023651123, 2.1942999362945557, 2.1879000663757324, 2.1770999431610107, 2.1642000675201416, 2.1531999111175537, 2.139899969100952, 2.102099895477295, 2.09689998626709, 2.09660005569458, 2.0876998901367188, 2.071899890899658, 2.0875000953674316, 2.039799928665161, 1.9404000043869019, 2.023900032043457, 1.763100028038025, 1.8553999662399292, 1.5120999813079834, 1.7419999837875366, 1.3378000259399414, 1.4502999782562256, 1.4226000308990479, 0.40639999508857727, 1.1490999460220337, 1.016800045967102, 1.4522000551223755, 0.957099974155426, 1.631500005722046, 0.47850000858306885, 0.7904000282287598, 0.8169999718666077, 0.6851000189781189, 0.6194000244140625, 1.0019999742507935, 0.0706000030040741, 0.6812000274658203, -0.31369999051094055, 2.70169997215271, 2.6333999633789062, 2.620800018310547, 2.607599973678589, 2.563999891281128, 2.5550999641418457, 2.4860999584198, 2.4400999546051025, 2.4342000484466553, 2.432800054550171, 2.41729998588562, 2.409600019454956, 2.40939998626709, 2.4007999897003174, 2.377500057220459, 2.3606998920440674, 2.356300115585327, 2.356300115585327, 2.3447000980377197, 2.3406999111175537, 2.336699962615967, 2.334399938583374, 2.3248000144958496, 2.3104000091552734, 2.3073999881744385, 2.291800022125244, 2.290299892425537, 2.286400079727173, 2.275099992752075, 2.263700008392334, 2.2481000423431396, 2.1640000343322754, 2.023400068283081, 2.22160005569458, 2.239500045776367, 2.123699903488159, 2.2065000534057617, 2.045799970626831, 2.092099905014038, 1.9086999893188477, 1.7015000581741333, 1.7267999649047852, 1.2874000072479248, 1.4178999662399292, 1.614300012588501, 1.4808000326156616, 1.3937000036239624, 2.0251998901367188, 1.9386999607086182, 1.638100028038025, 1.2372000217437744, 1.6129000186920166, 1.3490999937057495, -0.24169999361038208, 0.5683000087738037, 1.236199975013733, 1.0743000507354736, 0.46619999408721924, 0.9670000076293945, 0.11379999667406082, 0.5146999955177307, 1.2382999658584595, 0.3522999882698059, 0.800599992275238, 0.14740000665187836, 0.29030001163482666, 0.27059999108314514, 0.4453999996185303, -0.675599992275238, 2.9607999324798584, 2.8598999977111816, 2.838099956512451, 2.7925000190734863, 2.781399965286255, 2.7713000774383545, 2.743799924850464, 2.7028000354766846, 2.6975998878479004, 2.6802000999450684, 2.666800022125244, 2.6142001152038574, 2.6017000675201416, 2.5880000591278076, 2.5838000774383545, 2.572000026702881, 2.563800096511841, 2.5490000247955322, 2.524600028991699, 2.5083000659942627, 2.4925999641418457, 2.478800058364868, 2.4437999725341797, 2.4375998973846436, 2.43149995803833, 2.430000066757202, 2.4042000770568848, 2.381700038909912, 2.3714001178741455, 2.3642001152038574, 2.302999973297119, 2.2486000061035156, 2.282399892807007, 2.0764000415802, 2.150700092315674, 2.2311999797821045, 2.180299997329712, 1.9789999723434448, 1.8700000047683716, 0.5195000171661377, 1.9852999448776245, 1.822700023651123, 1.5253000259399414, 0.6743000149726868, 1.2978999614715576, 1.2300000190734863, 1.2851999998092651, 1.7825000286102295, 0.8032000064849854, 1.266800045967102, 0.22849999368190765, -0.10040000081062317, 1.3386000394821167, 0.5972999930381775, 1.2280999422073364, 0.48579999804496765, 0.958899974822998, 0.7752000093460083, 0.41179999709129333, 0.24889999628067017, 0.09369999915361404, 0.9994000196456909, 3.00219988822937, 2.996000051498413, 2.9786999225616455, 2.964400053024292, 2.945199966430664, 2.920799970626831, 2.858299970626831, 2.839600086212158, 2.831199884414673, 2.779400110244751, 2.775899887084961, 2.751300096511841, 2.722399950027466, 2.6963999271392822, 2.6939001083374023, 2.670599937438965, 2.6442999839782715, 2.643199920654297, 2.5869998931884766, 2.5838000774383545, 2.5815000534057617, 2.579200029373169, 2.5448999404907227, 2.539400100708008, 2.5352001190185547, 2.5315001010894775, 2.521199941635132, 2.499300003051758, 2.4895999431610107, 2.462100028991699, 2.45740008354187, 2.456899881362915, 2.4330999851226807, 2.390500068664551, 2.3864998817443848, 2.014699935913086, 1.9891999959945679, 2.1951000690460205, 1.9526000022888184, 1.5498000383377075, 1.520400047302246, 1.7069000005722046, 1.9571000337600708, 1.8798999786376953, 2.1547999382019043, 1.912600040435791, 0.00019999999494757503, 1.5068000555038452, 1.855299949645996, 1.372499942779541, 2.25, 0.6333000063896179, 1.6116000413894653, 0.12049999833106995, 1.3468999862670898, 1.4150999784469604, -0.28790000081062317, 0.9020000100135803, 0.14100000262260437, 0.06449999660253525, 1.4241000413894653, 3.2160000801086426, 3.198899984359741, 3.0996999740600586, 3.0692999362945557, 3.0404999256134033, 2.9821999073028564, 2.706700086593628, 2.6572000980377197, 2.635699987411499, 2.5394999980926514, 2.528700113296509, 2.513000011444092, 2.5069000720977783, 2.444200038909912, 2.413800001144409, 2.3922998905181885, 2.3671998977661133, 2.348599910736084, 2.315700054168701, 2.301300048828125, 2.289599895477295, 2.2718000411987305, 2.2669999599456787, 2.235100030899048, 2.2244999408721924, 2.2102999687194824, 2.2039999961853027, 2.1951000690460205, 2.1786000728607178, 2.16510009765625, 2.1521999835968018, 2.0617001056671143, 1.9954999685287476, 1.8238999843597412, 1.6965999603271484, 1.6298999786376953, 1.8680000305175781, 1.4397000074386597, 1.422700047492981, 1.8873000144958496, 1.0852999687194824, 0.6485999822616577, 0.852400004863739, 1.0719000101089478, 0.33480000495910645, 0.6025999784469604, -0.7354999780654907, 0.4514999985694885, -0.15719999372959137, -0.09849999845027924, 3.1294000148773193, 3.1050000190734863, 3.065999984741211, 3.063199996948242, 3.061500072479248, 3.0611000061035156, 3.059799909591675, 3.0580999851226807, 3.0553998947143555, 3.0552000999450684, 3.053999900817871, 3.052500009536743, 3.052500009536743, 3.051800012588501, 3.049299955368042, 3.0485000610351562, 3.047600030899048, 3.045099973678589, 3.036900043487549, 2.9885001182556152, 2.8864998817443848, 2.8831000328063965, 2.8601999282836914, 2.8303000926971436, 2.805000066757202, 2.8036000728607178, 2.760999917984009, 2.745300054550171, 2.717099905014038, 2.713599920272827, 2.7051000595092773, 2.682300090789795, 2.446700096130371, 2.261399984359741, 2.446500062942505, 2.3649001121520996, 1.6349999904632568, 1.7768000364303589, 2.0048000812530518, 2.388400077819824, 2.4072999954223633, 1.8567999601364136, 2.289799928665161, 1.9384000301361084, 1.4652999639511108, 0.7299000024795532, 2.1603000164031982, 1.504699945449829, 1.0133999586105347, 1.895300030708313, -0.6018000245094299, 0.933899998664856, 0.42669999599456787, 1.6291999816894531, 1.465399980545044, -0.3156999945640564, 1.2790000438690186, 0.3481000065803528, -0.031199999153614044, -0.03550000116229057, 3.090399980545044, 3.026900053024292, 2.9249000549316406, 2.89490008354187, 2.8826000690460205, 2.8647000789642334, 2.8361001014709473, 2.796299934387207, 2.7718000411987305, 2.762700080871582, 2.724400043487549, 2.714400053024292, 2.7058000564575195, 2.6946001052856445, 2.635200023651123, 2.6094000339508057, 2.60260009765625, 2.5964999198913574, 2.5952999591827393, 2.5938000679016113, 2.544300079345703, 2.5373001098632812, 2.523699998855591, 2.4916000366210938, 2.4837000370025635, 2.472599983215332, 2.470099925994873, 2.456399917602539, 2.4472999572753906, 2.4296000003814697, 2.406899929046631, 2.3410000801086426, 2.343100070953369, 2.405900001525879, 2.365299940109253, 2.2848000526428223, 2.2922000885009766, 2.246799945831299, 1.743299961090088, 2.244999885559082, 1.3523999452590942, 1.7767000198364258, 1.4716999530792236, -0.043800000101327896, 0.9789000153541565, 1.2380000352859497, 1.2136000394821167, 1.341599941253662, 1.1516000032424927, 0.5015000104904175, 1.388700008392334, 0.5494999885559082, 0.708299994468689, 1.8279999494552612, 0.824400007724762, -0.21480000019073486, 1.3398000001907349, 3.388400077819824, 3.302000045776367, 3.2876999378204346, 3.286799907684326, 3.0952000617980957, 3.0485000610351562, 3.038800001144409, 3.03410005569458, 3.031599998474121, 3.0143001079559326, 2.9495999813079834, 2.911099910736084, 2.908600091934204, 2.8828001022338867, 2.873300075531006, 2.8503000736236572, 2.842400074005127, 2.8399999141693115, 2.8282999992370605, 2.7967000007629395, 2.778899908065796, 2.7715001106262207, 2.6982998847961426, 2.6979000568389893, 2.6870999336242676, 2.6691999435424805, 2.6602001190185547, 2.6565001010894775, 2.650399923324585, 2.634399890899658, 2.552500009536743, 2.585700035095215, 2.579900026321411, 2.381200075149536, 2.346400022506714, 2.3513998985290527, 2.3405001163482666, 2.3968000411987305, 1.861799955368042, 1.7001999616622925, 1.50409996509552, 1.5621999502182007, 2.255000114440918, 1.2863999605178833, 0.7680000066757202, 0.7135000228881836, 1.871399998664856, 0.8108000159263611, 0.855400025844574, 0.4124000072479248, 0.7329999804496765, -1.1159000396728516, 0.5609999895095825, -0.44909998774528503, 1.3144999742507935, 3.2197999954223633, 3.1875, 3.131999969482422, 3.105600118637085, 3.1033999919891357, 3.0961999893188477, 3.0306999683380127, 3.015899896621704, 2.992300033569336, 2.9814999103546143, 2.9416000843048096, 2.8113999366760254, 2.7932000160217285, 2.7386999130249023, 2.733099937438965, 2.702500104904175, 2.6884000301361084, 2.6442999839782715, 2.631999969482422, 2.624000072479248, 2.614300012588501, 2.613300085067749, 2.6054000854492188, 2.5943000316619873, 2.594099998474121, 2.5852999687194824, 2.577500104904175, 2.5755999088287354, 2.552999973297119, 2.542799949645996, 2.5383999347686768, 2.5332999229431152, 2.5206000804901123, 2.5129001140594482, 2.492300033569336, 2.5192999839782715, 2.3778998851776123, 2.3117001056671143, 2.1305999755859375, 2.389699935913086, 2.0927999019622803, 2.2739999294281006, 2.1500000953674316, 1.9902000427246094, 1.8938000202178955, 0.10559999942779541, 1.861299991607666, 1.2741999626159668, 1.434000015258789, 0.8661999702453613, 0.616100013256073, 0.46230000257492065, 1.32260000705719, 0.46720001101493835, 0.7940000295639038, 1.0041999816894531, -0.5360999703407288, 3.405400037765503, 3.3206000328063965, 3.316499948501587, 3.26419997215271, 3.2625999450683594, 3.2588999271392822, 3.2416999340057373, 3.1070001125335693, 3.08489990234375, 3.064300060272217, 3.0601999759674072, 3.0555999279022217, 2.9992001056671143, 2.9500999450683594, 2.9386000633239746, 2.8931000232696533, 2.8018999099731445, 2.7962000370025635, 2.7365000247955322, 2.705899953842163, 2.6958000659942627, 2.6935999393463135, 2.679500102996826, 2.672600030899048, 2.6340999603271484, 2.6275999546051025, 2.6256000995635986, 2.616300106048584, 2.613600015640259, 2.6026999950408936, 2.5617001056671143, 2.5838000774383545, 2.5862998962402344, 2.196899890899658, 2.455899953842163, 2.078700065612793, 2.2871999740600586, 2.223299980163574, 2.0980000495910645, 0.2847999930381775, 1.6002000570297241, 2.1040000915527344, 0.3734000027179718, 1.006700038909912, 1.1396000385284424, 1.1109999418258667, 0.44839999079704285, 1.9048000574111938, 0.7516000270843506, 0.989300012588501, 0.6065999865531921, 0.13760000467300415, -0.5368000268936157, 3.6524999141693115, 3.295599937438965, 3.228300094604492, 3.153700113296509, 3.1475000381469727, 3.0118000507354736, 2.96370005607605, 2.953700065612793, 2.910399913787842, 2.885200023651123, 2.8803999423980713, 2.8803999423980713, 2.858099937438965, 2.8557000160217285, 2.8461999893188477, 2.845900058746338, 2.8389999866485596, 2.8115999698638916, 2.784899950027466, 2.7637999057769775, 2.7574000358581543, 2.7567999362945557, 2.7446999549865723, 2.713599920272827, 2.67549991607666, 2.6684000492095947, 2.647900104522705, 2.6449999809265137, 2.641200065612793, 2.626800060272217, 2.6110000610351562, 2.6164000034332275, 2.537600040435791, 2.5081000328063965, 2.4210000038146973, 2.4591000080108643, 2.5636000633239746, 2.4707999229431152, 2.1770999431610107, 2.1377999782562256, 2.184799909591675, 1.7209999561309814, 1.2512999773025513, 1.4414000511169434, 0.06030000001192093, 0.8335999846458435, 0.7502999901771545, 2.1577000617980957, 1.882099986076355, 1.9731999635696411, 1.6123000383377075, 1.4149999618530273, 0.7871000170707703, 1.0463000535964966, 0.7875000238418579, 1.198099970817566, 0.7038000226020813, 1.5708999633789062, 0.27720001339912415, 0.9391999840736389, 3.5599000453948975, 3.4498000144958496, 3.441800117492676, 3.3680999279022217, 3.3543999195098877, 3.2641000747680664, 3.2174999713897705, 3.211400032043457, 3.184499979019165, 3.1721999645233154, 3.171600103378296, 3.1623001098632812, 3.154099941253662, 3.1440999507904053, 3.1250998973846436, 3.1214001178741455, 3.1133999824523926, 3.1105000972747803, 3.093600034713745, 3.091200113296509, 3.073499917984009, 3.0215001106262207, 3.0132999420166016, 2.9540998935699463, 2.890899896621704, 2.8901000022888184, 2.8424999713897705, 2.7651000022888184, 2.762700080871582, 2.7600998878479004, 2.6754000186920166, 2.7067999839782715, 2.6382999420166016, 2.4532999992370605, 2.5209999084472656, 2.489500045776367, 2.344599962234497, 2.1191999912261963, 1.9544999599456787, 1.938099980354309, 0.6675999760627747, 2.09060001373291, 2.023099899291992, 2.2504000663757324, 1.9486000537872314, 2.3715999126434326, 1.270799994468689, 2.43530011177063, 1.4464999437332153, 2.3459999561309814, 2.552299976348877, 2.5367000102996826, 1.5573999881744385, 1.8272000551223755, 2.119999885559082, 1.5348000526428223, 1.8782999515533447, 1.3183000087738037, 1.5776000022888184, 1.7045999765396118, -0.19120000302791595, 3.871999979019165, 3.6470000743865967, 3.419800043106079, 3.253200054168701, 3.2049999237060547, 3.088099956512451, 3.063999891281128, 3.0471999645233154, 3.026900053024292, 2.921299934387207, 2.9045000076293945, 2.892699956893921, 2.8808999061584473, 2.8582000732421875, 2.8478000164031982, 2.8224000930786133, 2.8166000843048096, 2.7939000129699707, 2.7885000705718994, 2.7653000354766846, 2.761199951171875, 2.7539000511169434, 2.7520999908447266, 2.749300003051758, 2.7446000576019287, 2.7400999069213867, 2.7362000942230225, 2.7262001037597656, 2.6998000144958496, 2.6981000900268555, 2.6654000282287598, 2.427999973297119, 2.50600004196167, 2.5244998931884766, 2.5432000160217285, 2.57669997215271, 2.3926000595092773, 2.1684000492095947, 2.2458999156951904, 1.905400037765503, 1.9945000410079956, 2.0344998836517334, 2.3050999641418457, 2.1463000774383545, 2.177999973297119, 1.6835999488830566, 2.182300090789795, 2.019700050354004, 0.9162999987602234, 2.1321001052856445, -0.4259999990463257, 1.5677000284194946, 1.0494999885559082, 1.1832000017166138, 1.3695000410079956, 0.6488999724388123, 0.8245999813079834, 1.6791000366210938, 3.7834999561309814, 3.636199951171875, 3.3945000171661377, 3.383699893951416, 3.2098000049591064, 3.20740008354187, 3.2032999992370605, 3.189300060272217, 3.1466000080108643, 3.1438000202178955, 3.135499954223633, 3.131700038909912, 3.1257998943328857, 3.099900007247925, 3.099400043487549, 3.095099925994873, 3.0799999237060547, 3.0685999393463135, 3.061000108718872, 2.9916000366210938, 2.9895999431610107, 2.952399969100952, 2.9274001121520996, 2.9263999462127686, 2.9096999168395996, 2.897599935531616, 2.879300117492676, 2.8757998943328857, 2.8671000003814697, 2.8541998863220215, 2.817500114440918, 2.7444000244140625, 2.540299892425537, 2.5773000717163086, 2.5471999645233154, 2.29259991645813, 2.538100004196167, 2.258699893951416, 2.5114998817443848, 2.072499990463257, 1.993499994277954, 2.288800001144409, 2.2757999897003174, 2.2708001136779785, 0.010300000198185444, 2.1960999965667725, 1.120300054550171, 1.0176000595092773, 1.0555000305175781, 0.6672000288963318, 0.41040000319480896, 0.953000009059906, 1.1943000555038452, 1.1282999515533447, -0.17839999496936798, 1.437999963760376, 0.9218999743461609, 0.7354999780654907, 1.3897000551223755, 0.16990000009536743, 1.785599946975708, 1.4687000513076782, 1.340999960899353, 1.492400050163269, 4.172800064086914, 3.8245999813079834, 3.573699951171875, 3.498199939727783, 3.4716999530792236, 3.453000068664551, 3.2606000900268555, 3.2558000087738037, 3.2279000282287598, 3.190000057220459, 3.155100107192993, 3.1354000568389893, 3.0915000438690186, 3.01419997215271, 3.0092999935150146, 3.00570011138916, 2.9809999465942383, 2.942500114440918, 2.9354000091552734, 2.9226999282836914, 2.8993000984191895, 2.8958001136779785, 2.8910999298095703, 2.877700090408325, 2.8664000034332275, 2.859999895095825, 2.8143999576568604, 2.810699939727783, 2.81030011177063, 2.8076000213623047, 2.8036000728607178, 2.6710000038146973, 2.568000078201294, 2.248699903488159, 2.714900016784668, 2.471400022506714, 2.441699981689453, 2.2137999534606934, 2.5606000423431396, 2.1951000690460205, 1.770799994468689, 2.0541000366210938, 1.9083000421524048, 1.3697999715805054, 0.8355000019073486, 1.2008999586105347, 1.7236000299453735, 1.1373000144958496, 0.04839999973773956, 1.3143999576568604, 0.8773999810218811, 1.2431999444961548, 0.16089999675750732, 1.8776999711990356, -1.0223000049591064, 0.4702000021934509, 0.23909999430179596, 4.0030999183654785, 3.7548999786376953, 3.699700117111206, 3.5617001056671143, 3.5239999294281006, 3.5162999629974365, 3.4405999183654785, 3.302500009536743, 3.2792000770568848, 3.2657999992370605, 3.2639000415802, 3.2541000843048096, 3.2446000576019287, 3.225800037384033, 3.16510009765625, 3.153700113296509, 3.1526999473571777, 3.148900032043457, 3.1370999813079834, 3.1152000427246094, 3.1087000370025635, 3.099900007247925, 3.0973000526428223, 3.0964999198913574, 3.072499990463257, 3.072499990463257, 3.065000057220459, 3.0597000122070312, 3.038300037384033, 3.0348000526428223, 2.9173998832702637, 2.886199951171875, 2.789900064468384, 2.650599956512451, 2.236999988555908, 2.659600019454956, 2.5373001098632812, 2.5078999996185303, 0.5264000296592712, 2.283099889755249, 0.95660001039505, 1.1993999481201172, 2.024899959564209, 1.0712000131607056, 1.8372999429702759, 1.811900019645691, 1.797700047492981, 1.6360000371932983, 0.36070001125335693, 0.6977999806404114, 1.5535999536514282, 1.2348999977111816, 1.1089999675750732, 0.9603000283241272, 0.4318999946117401, 1.15339994430542, 0.8544999957084656]}, \"token.table\": {\"Topic\": [1, 4, 15, 10, 1, 3, 4, 6, 7, 10, 19, 20, 2, 7, 7, 20, 1, 4, 11, 18, 18, 20, 13, 3, 15, 17, 5, 10, 18, 1, 5, 8, 11, 18, 4, 5, 7, 19, 12, 19, 6, 13, 5, 19, 1, 4, 9, 5, 1, 2, 20, 2, 3, 4, 9, 11, 3, 8, 10, 1, 2, 4, 6, 7, 13, 15, 17, 1, 15, 4, 7, 12, 1, 2, 5, 6, 2, 3, 10, 1, 1, 1, 2, 5, 6, 10, 2, 10, 1, 18, 2, 13, 17, 4, 19, 3, 7, 5, 7, 8, 17, 7, 8, 18, 7, 8, 11, 5, 9, 1, 2, 7, 2, 5, 16, 1, 2, 6, 7, 8, 15, 16, 1, 2, 4, 16, 16, 2, 8, 1, 2, 7, 10, 11, 15, 1, 5, 6, 8, 1, 2, 3, 4, 5, 7, 9, 17, 4, 11, 20, 7, 5, 11, 15, 19, 1, 2, 4, 6, 11, 18, 5, 11, 18, 7, 8, 15, 2, 5, 1, 2, 11, 13, 1, 2, 3, 4, 6, 7, 8, 10, 11, 13, 16, 17, 18, 7, 9, 15, 2, 18, 2, 16, 1, 7, 9, 1, 13, 14, 5, 8, 13, 16, 1, 3, 4, 10, 14, 20, 1, 5, 3, 17, 2, 16, 1, 3, 4, 5, 6, 8, 10, 14, 16, 1, 7, 1, 17, 7, 8, 3, 4, 1, 3, 12, 3, 8, 9, 11, 14, 5, 8, 9, 10, 12, 13, 7, 10, 12, 1, 7, 9, 5, 2, 6, 7, 20, 10, 1, 2, 4, 5, 7, 2, 8, 14, 1, 2, 5, 6, 9, 15, 16, 19, 20, 13, 10, 14, 1, 2, 3, 5, 7, 8, 10, 13, 2, 5, 10, 13, 14, 16, 17, 8, 14, 2, 7, 10, 1, 3, 4, 16, 18, 10, 10, 1, 8, 16, 1, 7, 11, 7, 17, 11, 15, 17, 2, 11, 19, 4, 11, 1, 2, 3, 4, 7, 9, 10, 14, 15, 16, 17, 2, 16, 1, 5, 1, 2, 4, 5, 9, 14, 15, 17, 1, 2, 3, 4, 5, 6, 7, 8, 10, 11, 12, 13, 15, 19, 4, 6, 4, 9, 4, 7, 8, 14, 17, 1, 2, 3, 4, 5, 6, 7, 11, 13, 16, 6, 13, 20, 2, 16, 17, 3, 18, 20, 2, 15, 13, 17, 1, 8, 4, 15, 1, 4, 5, 8, 10, 13, 2, 18, 20, 8, 16, 1, 3, 4, 5, 6, 7, 8, 10, 11, 13, 15, 4, 8, 14, 15, 2, 1, 2, 5, 16, 1, 2, 3, 5, 6, 12, 13, 16, 19, 20, 2, 4, 6, 9, 14, 16, 17, 1, 2, 4, 8, 11, 15, 1, 2, 3, 4, 5, 6, 7, 8, 9, 10, 11, 12, 13, 14, 15, 16, 18, 19, 1, 2, 4, 12, 11, 14, 7, 19, 1, 2, 3, 4, 5, 6, 9, 13, 15, 12, 14, 20, 3, 14, 20, 13, 20, 4, 8, 9, 3, 4, 8, 2, 8, 12, 8, 16, 1, 2, 3, 4, 15, 17, 1, 10, 11, 12, 17, 20, 9, 16, 1, 2, 3, 4, 5, 6, 8, 11, 13, 16, 17, 18, 5, 19, 1, 11, 10, 3, 10, 1, 4, 5, 9, 10, 13, 10, 1, 13, 19, 3, 6, 20, 5, 12, 5, 1, 2, 3, 4, 5, 6, 10, 11, 12, 16, 17, 19, 2, 16, 20, 10, 12, 1, 5, 12, 14, 2, 8, 14, 1, 2, 6, 9, 14, 1, 2, 3, 4, 5, 6, 7, 12, 15, 16, 17, 20, 4, 13, 7, 17, 3, 19, 1, 2, 3, 7, 13, 16, 18, 3, 12, 1, 3, 9, 12, 13, 17, 1, 14, 15, 3, 5, 5, 10, 17, 1, 2, 3, 4, 5, 6, 8, 10, 19, 20, 5, 1, 4, 17, 6, 1, 3, 11, 1, 18, 1, 2, 3, 4, 5, 6, 7, 8, 10, 11, 13, 16, 17, 1, 2, 3, 4, 6, 11, 14, 1, 6, 12, 15, 19, 10, 1, 2, 3, 4, 5, 7, 10, 11, 12, 14, 15, 17, 19, 2, 3, 13, 14, 1, 10, 11, 1, 3, 4, 5, 6, 15, 18, 5, 9, 16, 12, 14, 5, 18, 1, 7, 11, 14, 20, 1, 2, 3, 4, 5, 6, 8, 11, 13, 16, 18, 1, 7, 20, 1, 3, 11, 1, 6, 2, 3, 4, 10, 12, 16, 4, 13, 4, 1, 15, 1, 2, 6, 9, 11, 1, 11, 1, 4, 6, 7, 15, 2, 3, 19, 4, 12, 15, 1, 2, 3, 4, 5, 6, 8, 11, 15, 18, 19, 1, 3, 4, 5, 6, 10, 2, 9, 1, 2, 6, 9, 19, 1, 2, 4, 5, 7, 8, 10, 13, 14, 15, 18, 3, 5, 7, 10, 12, 14, 15, 18, 19, 3, 6, 19, 3, 15, 1, 2, 3, 4, 5, 6, 7, 8, 10, 11, 12, 15, 16, 17, 18, 4, 7, 9, 10, 11, 14, 16, 4, 1, 2, 3, 4, 5, 6, 7, 8, 9, 11, 13, 16, 20, 1, 2, 3, 19, 1, 2, 3, 4, 5, 6, 8, 6, 1, 3, 8, 2, 11, 3, 1, 2, 3, 5, 6, 1, 2, 4, 5, 6, 11, 20, 4, 8, 1, 2, 15, 19, 2, 7, 8, 1, 2, 3, 4, 5, 7, 8, 9, 10, 11, 15, 18, 19, 3, 4, 5, 16, 3, 15, 18, 1, 7, 16, 2, 3, 4, 12, 1, 2, 3, 4, 5, 6, 7, 8, 11, 13, 14, 18, 20, 5, 7, 8, 1, 2, 4, 5, 6, 8, 9, 10, 11, 12, 13, 15, 17, 1, 4, 19, 6, 6, 1, 2, 3, 4, 6, 9, 16, 18, 20, 3, 13, 1, 3, 4, 5, 8, 11, 1, 2, 3, 4, 5, 8, 15, 19, 1, 5, 20, 1, 4, 8, 10, 12, 14, 16, 10, 1, 6, 9, 11, 14, 18, 1, 2, 3, 4, 5, 6, 7, 9, 10, 11, 12, 13, 14, 15, 19, 5, 8, 5, 14, 15, 1, 2, 3, 5, 6, 12, 14, 17, 1, 2, 3, 4, 5, 6, 7, 8, 13, 14, 15, 10, 1, 5, 11, 19, 3, 12, 18, 1, 1, 7, 8, 17, 1, 3, 11, 13, 14, 2, 3, 4, 11, 14, 18, 3, 7, 5, 5, 15, 3, 5, 19, 1, 2, 4, 5, 6, 10, 11, 12, 7, 9, 19, 3, 8, 2, 4, 11, 8, 12, 1, 9, 3, 11, 5, 1, 2, 3, 4, 5, 7, 9, 10, 11, 13, 15, 16, 17, 19, 20, 2, 5, 3, 9, 20, 10, 12, 5, 10, 15, 4, 11, 12, 13, 4, 1, 3, 4, 14, 18, 1, 2, 5, 1, 15, 5, 11, 17, 20, 5, 8, 10, 15, 18, 1, 2, 3, 5, 6, 8, 9, 10, 1, 8, 12, 2, 4, 5, 8, 11, 12, 18, 2, 6, 11, 15, 16, 1, 2, 3, 4, 5, 6, 7, 8, 9, 10, 11, 12, 13, 14, 15, 16, 17, 20, 1, 2, 4, 5, 6, 7, 10, 11, 5, 18, 20, 1, 2, 3, 4, 6, 11, 13, 20, 4, 11, 2, 5, 7, 18, 3, 1, 2, 3, 4, 10, 11, 12, 13, 16, 17, 1, 2, 8, 16, 1, 2, 4, 5, 16, 1, 2, 3, 4, 6, 9, 10, 11, 12, 15, 17, 18, 1, 7, 20, 2, 6, 1, 2, 3, 4, 5, 7, 8, 10, 11, 12, 13, 14, 3, 11, 14, 1, 2, 5, 8, 12, 13, 16, 3, 17, 2, 4, 5, 6, 8, 10, 11, 12, 13, 1, 16, 20, 3, 1, 2, 5, 7, 8, 9, 11, 16, 4, 1, 2, 3, 6, 7, 8, 10, 11, 17, 4, 10, 2, 3, 4, 6, 13, 14, 18, 1, 4, 6, 7, 15, 19, 9, 17, 19, 1, 6, 13, 2, 5, 1, 1, 2, 6, 7, 10, 1, 2, 19, 10, 1, 3, 5, 18, 20, 3, 4, 12, 6, 10, 1, 2, 3, 7, 11, 12, 2, 2, 3, 4, 13, 1, 2, 5, 16, 1, 4, 17, 1, 4, 5, 13, 14, 19, 1, 2, 4, 8, 10, 16, 17, 2, 16, 2, 18, 1, 6, 1, 18, 20, 1, 3, 4, 6, 10, 1, 2, 3, 4, 5, 6, 7, 8, 9, 10, 11, 18, 19, 1, 17, 1, 11, 14, 17, 7, 15, 3, 5, 1, 12, 20, 5, 6, 16, 4, 3, 13, 2, 8, 5, 12, 1, 6, 8, 13, 1, 5, 7, 1, 3, 4, 4, 13, 1, 2, 3, 4, 5, 6, 8, 9, 12, 17, 20, 12, 14, 11, 15, 1, 3, 6, 8, 10, 12, 1, 10, 18, 1, 2, 3, 4, 5, 9, 10, 11, 12, 16, 17, 1, 6, 8, 13, 16, 1, 3, 5, 6, 10, 14, 18, 1, 4, 1, 2, 3, 4, 5, 6, 7, 8, 9, 11, 14, 15, 16, 18, 2, 8, 9, 11, 1, 20, 6, 20, 3, 4, 1, 10, 11, 13, 1, 2, 3, 4, 5, 6, 7, 9, 10, 13, 14, 15, 19, 1, 6, 9, 10, 20, 10, 11, 1, 2, 5, 6, 7, 8, 10, 13, 16, 19, 1, 2, 3, 4, 5, 6, 7, 8, 9, 10, 11, 12, 13, 15, 19, 20, 10, 3, 4, 5, 6, 8, 10, 15, 16, 18, 2, 4, 18, 10, 16, 1, 3, 4, 7, 12, 17, 6, 14, 11, 20, 1, 2, 3, 4, 5, 6, 7, 8, 9, 11, 12, 13, 20, 2, 3, 4, 5, 6, 7, 10, 11, 20, 3, 10, 19, 1, 3, 10, 11, 20, 1, 2, 3, 4, 6, 9, 10, 11, 14, 15, 3, 6, 12, 15, 2, 3, 4, 3, 14, 3, 2, 4, 5, 14, 20, 1, 3, 5, 8, 9, 12, 13, 19, 1, 2, 3, 4, 7, 8, 10, 16, 18, 5, 7, 18, 1, 3, 6, 7, 12, 19, 1, 3, 8, 11, 1, 2, 3, 4, 5, 6, 7, 9, 10, 11, 12, 13, 14, 15, 18, 7, 9, 15, 18, 19, 11, 1, 2, 3, 4, 5, 6, 7, 8, 9, 11, 12, 14, 15, 16, 18, 1, 2, 10, 1, 2, 3, 4, 5, 6, 7, 8, 9, 10, 11, 12, 13, 15, 16, 17, 19, 3, 6, 17, 1, 2, 3, 4, 5, 6, 9, 10, 11, 12, 13, 14, 15, 18, 19, 20, 7, 17, 5, 15, 2, 8, 11, 1, 2, 3, 4, 5, 6, 7, 8, 9, 10, 11, 13, 14, 15, 6, 7, 11, 14, 1, 2, 4, 5, 6, 7, 11, 14, 17, 18, 19, 4, 1, 7, 16, 1, 2, 3, 4, 6, 12, 18, 19, 4, 14, 2, 3, 5, 8, 7, 1, 2, 3, 4, 5, 6, 7, 8, 10, 11, 12, 15, 16, 18, 19, 1, 3, 1, 2, 3, 4, 5, 6, 7, 8, 9, 10, 11, 12, 13, 14, 15, 17, 20, 4, 1, 7, 1, 5, 6, 10, 19, 20, 1, 3, 4, 14, 14, 20, 1, 2, 3, 4, 5, 6, 7, 8, 9, 10, 11, 14, 15, 16, 18, 20, 1, 7, 11, 1, 14, 1, 11, 1, 2, 4, 5, 9, 16, 1, 2, 3, 6, 7, 8, 19, 1, 2, 3, 4, 6, 7, 11, 14, 15, 17, 19, 1, 3, 6, 8, 11, 12, 13, 16, 8, 14, 10, 16, 18, 4, 10, 11, 15, 7, 12, 10, 1, 7, 14, 15, 2, 2, 16, 1, 6, 19, 7, 16, 1, 2, 3, 4, 5, 6, 7, 8, 9, 10, 11, 12, 13, 14, 15, 16, 17, 18, 19, 20, 2, 11, 1, 2, 3, 4, 5, 12, 13, 19, 13, 18, 1, 3, 5, 12, 13, 15, 1, 4, 5, 6, 8, 9, 12, 7, 16, 19, 2, 3, 1, 2, 7, 16, 2, 8, 10, 17, 6, 17, 5, 10, 1, 5, 9, 10, 11, 14, 15, 18, 5, 9, 8, 20, 4, 7, 1, 2, 3, 4, 5, 6, 8, 9, 13, 17, 1, 7, 10, 1, 2, 3, 4, 5, 8, 9, 16, 17, 20, 1, 2, 5, 6, 7, 9, 11, 13, 19, 1, 10, 13, 19, 1, 2, 3, 4, 8, 12, 14, 9, 15, 3, 4, 7, 12, 17, 18, 14, 16, 17, 1, 3, 11, 13, 15, 1, 2, 4, 5, 7, 14, 16, 17, 18, 1, 1, 2, 3, 4, 5, 6, 7, 8, 9, 11, 13, 14, 16, 20, 3, 8, 2, 6, 7, 18, 1, 3, 5, 8, 1, 2, 3, 4, 5, 8, 9, 10, 14, 15, 16, 19, 1, 2, 5, 7, 10, 17, 1, 7, 20, 1, 2, 3, 4, 5, 6, 7, 8, 10, 11, 14, 16, 19, 20, 10, 1, 8, 5, 15, 1, 2, 3, 4, 5, 6, 13, 3, 1, 2, 3, 4, 5, 6, 7, 8, 9, 11, 13, 14, 16, 19, 20, 1, 3, 4, 5, 6, 9, 12, 14, 1, 2, 3, 4, 6, 11, 12, 13, 2, 11, 16, 20, 1, 2, 5, 8, 9, 12, 13, 14, 15, 16, 13, 1, 7, 1, 2, 3, 4, 5, 6, 7, 8, 11, 13, 20, 1, 2, 3, 4, 5, 6, 8, 9, 11, 12, 14, 15, 16, 18, 19, 20, 13, 1, 2, 3, 4, 5, 6, 7, 9, 11, 17, 20, 4, 11, 1, 2, 3, 4, 6, 8, 9, 10, 11, 12, 13, 14, 15, 16, 18, 3, 1, 2, 3, 4, 5, 6, 7, 8, 9, 10, 11, 12, 15, 17, 19, 20, 13, 15, 1, 3, 4, 5, 6, 9, 11, 13, 14, 20, 1, 1, 2, 3, 4, 8, 1, 3, 14, 1, 3, 4, 5, 6, 8, 11, 12, 16, 18, 1, 8, 10, 19, 3, 4, 11, 15, 20, 1, 2, 3, 4, 7, 12, 13, 16, 17, 18, 5, 8, 13, 1, 8, 10, 16, 1, 1, 3, 5, 6, 7, 15, 5, 3, 11, 20, 1, 4, 6, 12, 1, 2, 3, 4, 7, 8, 9, 12, 15, 17, 1, 2, 3, 4, 5, 6, 7, 8, 9, 11, 12, 13, 15, 16, 17, 20, 5, 17, 19, 2, 4, 5, 14, 15, 16, 18, 10, 11, 1, 2, 3, 4, 5, 7, 8, 12, 13, 15, 16, 18, 19, 5, 12, 18, 1, 1, 2, 4, 5, 7, 17, 20, 1, 6, 13, 5, 7, 12, 13, 3, 4, 7, 8, 12, 14, 18, 1, 2, 7, 9, 10, 13, 18, 20, 10, 1, 2, 3, 4, 5, 6, 7, 9, 10, 4, 1, 8, 11, 13, 2, 2, 6, 14, 1, 16, 20, 3, 8, 7, 16, 18, 9, 11, 13, 14, 15, 19, 1, 2, 3, 5, 6, 7, 8, 11, 14, 16, 1, 3, 11, 1, 10, 3, 11, 19, 3, 7, 11, 1, 2, 3, 4, 5, 6, 7, 9, 10, 11, 13, 14, 15, 19, 16, 3, 1, 1, 2, 3, 4, 7, 8, 9, 10, 12, 13, 15, 14, 20, 1, 2, 4, 6, 9, 13, 20, 4, 20, 1, 1, 2, 5, 6, 9, 10, 12, 14, 17, 1, 10, 1, 2, 3, 4, 5, 6, 7, 8, 9, 12, 13, 15, 18, 19, 4, 1, 1, 3, 4, 5, 6, 7, 8, 9, 10, 12, 16, 17, 19, 20, 2, 2, 14, 1, 2, 3, 5, 6, 8, 6, 2, 11, 1, 2, 3, 5, 12, 18, 1, 12, 12, 13, 3, 10, 7, 15, 1, 2, 5, 10, 15, 1, 9, 12, 10, 11, 16, 18, 3, 6, 9, 11, 19, 6, 1, 2, 4, 5, 12, 7, 17, 20, 1, 2, 3, 7, 8, 10, 13, 18, 5, 8, 1, 2, 3, 4, 7, 8, 10, 13, 16, 20, 2, 3, 2, 1, 2, 3, 4, 5, 6, 7, 8, 9, 10, 11, 12, 13, 14, 15, 16, 17, 18, 19, 20, 17, 19, 2, 6, 18, 8, 14, 5, 20, 1, 10, 2, 3, 4, 7, 14, 1, 3, 4, 7, 14, 16, 18, 14, 18, 3, 7, 14, 1, 1, 2, 3, 4, 7, 10, 12, 13, 15, 19, 1, 2, 7, 11, 14, 17, 18, 19, 4, 7, 16, 1, 2, 3, 4, 6, 10, 11, 12, 13, 14, 15, 19, 1, 2, 3, 4, 5, 7, 8, 10, 12, 13, 15, 16, 1, 5, 10, 14, 1, 2, 3, 4, 5, 6, 7, 8, 9, 13, 15, 1, 1, 2, 4, 5, 6, 7, 9, 13, 14, 2, 4, 5, 8, 11, 16, 18, 19, 20, 2, 1, 2, 5, 9, 10, 16, 17, 20, 1, 8, 16, 5, 13, 18, 1, 3, 4, 6, 15, 17, 1, 2, 3, 4, 5, 9, 14, 1, 18, 2, 1, 3, 6, 11, 19, 20, 2, 8, 18, 3, 14, 1, 2, 3, 4, 7, 8, 10, 16, 17, 1, 16, 1, 2, 3, 4, 11, 20, 3, 10, 12, 18, 2, 4, 5, 6, 2, 3, 8, 1, 4, 8, 11, 12, 1, 2, 10, 11, 15, 19, 1, 1, 2, 3, 4, 5, 6, 9, 10, 11, 12, 1, 3, 4, 5, 6, 9, 12, 13, 19, 1, 3, 5, 7, 11, 13, 15, 18, 6, 1, 3, 6, 13, 1, 3, 5, 8, 10, 15, 5, 16, 2, 4, 16, 1, 3, 4, 7, 11, 12, 13, 1, 13, 2, 8, 20, 8, 12, 13, 16, 2, 4, 7, 18, 2, 19, 9, 11, 3, 5, 10, 1, 4, 16, 17, 18, 3, 5, 10, 19, 1, 3, 4, 5, 10, 19, 20, 10, 13, 15, 1, 2, 3, 4, 5, 6, 8, 15, 4, 15, 19, 2, 2, 19, 4, 19, 5, 9, 4, 16, 19, 4, 5, 15, 10, 12, 18, 1, 18, 1, 3, 5, 1, 2, 3, 5, 9, 17, 18, 19, 14, 1, 2, 3, 4, 5, 6, 11, 18, 10, 18, 9, 19, 1, 3, 4, 6, 10, 1, 3, 4, 5, 6, 7, 8, 4, 12, 1, 3, 4, 5, 6, 7, 9, 10, 11, 14, 15, 18, 5, 10, 14, 19, 4, 16, 9, 16, 18, 1, 16, 17, 20, 1, 2, 3, 4, 5, 6, 7, 8, 9, 10, 12, 13, 15, 16, 18, 3, 4, 7, 8, 10, 14, 4, 10, 16, 8, 1, 3, 6, 11, 1, 2, 3, 8, 10, 11, 2, 1, 4, 9, 11, 14, 1, 2, 3, 4, 5, 7, 8, 9, 10, 11, 13, 14, 18, 1, 2, 4, 5, 13, 15, 1, 2, 4, 5, 6, 7, 8, 9, 10, 11, 13, 15, 1, 2, 6, 7, 8, 9, 10, 11, 17, 8, 16, 1, 17, 2, 11, 1, 3, 4, 7, 17, 2, 3, 12, 1, 2, 4, 7, 10, 12, 13, 17, 18, 19, 1, 2, 3, 4, 5, 6, 10, 11, 12, 17, 18, 1, 2, 4, 6, 14, 16, 17, 8, 16, 4, 18, 2, 8, 16, 1, 3, 4, 14, 1, 2, 3, 4, 5, 6, 7, 8, 9, 10, 11, 12, 13, 14, 15, 16, 17, 18, 19, 20, 2, 8, 1, 4, 7, 18, 5, 8, 11, 1, 2, 3, 4, 5, 9, 19, 1, 9, 1, 20, 3, 4, 12, 18, 19, 20, 1, 2, 3, 5, 6, 7, 8, 11, 12, 14, 16, 18, 19, 1, 5, 12, 15, 1, 2, 3, 4, 5, 6, 7, 8, 10, 11, 12, 13, 14, 17, 18, 19, 1, 2, 3, 4, 7, 8, 12, 15, 1, 2, 5, 2, 5, 2, 3, 5, 6, 7, 10, 13, 15, 18, 19, 1, 3, 4, 7, 1, 2, 3, 6, 7, 8, 12, 16, 17, 3, 14, 1, 2, 3, 6, 11, 1, 2, 3, 4, 9, 11, 12, 14, 1, 6, 9, 5, 14, 1, 4, 7, 18, 1, 2, 3, 4, 6, 7, 9, 11, 12, 13, 14, 15, 19, 20, 3, 14, 1, 11, 1, 17, 19, 1, 3, 5, 10, 12, 17, 2, 15, 19, 1, 3, 14, 1, 20, 3, 6, 9, 15, 4, 18, 1, 2, 3, 4, 6, 10, 11, 12, 18, 20, 3, 15, 11, 18, 4, 5, 11, 19, 8, 12, 4, 11, 19, 3, 4, 9, 15, 2, 4, 13, 19, 1, 3, 4, 5, 12, 14, 6, 1, 2, 3, 4, 6, 10, 11, 12, 17, 1, 1, 2, 4, 8, 10, 16, 1, 3, 4, 11, 12, 3, 6, 14, 5, 16, 2, 11, 1, 3, 4, 5, 18, 9, 7, 8, 4, 5, 3, 8, 12, 1, 2, 3, 4, 5, 6, 8, 10, 11, 13, 15, 1, 2, 3, 4, 5, 9, 10, 13, 15, 16, 2, 16, 9, 12, 2, 10, 4, 18, 2, 4, 5, 6, 9, 17, 18, 19, 1, 3, 4, 5, 6, 7, 8, 10, 12, 14, 15, 1, 2, 3, 4, 7, 9, 10, 11, 12, 13, 14, 15, 16, 2, 18, 17, 3, 5, 20, 1, 3, 5, 13, 15, 2, 3, 4, 5, 5, 6, 2, 3, 5, 8, 9, 20, 1, 2, 3, 4, 5, 9, 11, 12, 13, 15, 1, 2, 3, 5, 8, 12, 14, 19, 1, 2, 3, 13, 15, 18, 1, 2, 3, 14, 17, 2, 3, 8, 17, 1, 6, 6, 2, 13, 10, 15, 18, 1, 2, 4, 5, 6, 7, 9, 10, 11, 16, 20, 5, 11, 1, 5, 8, 17, 1, 8, 17, 4, 8, 10, 11, 1, 1, 2, 3, 4, 5, 6, 8, 10, 11, 6, 13, 10, 2, 5, 16, 19, 1, 2, 3, 4, 5, 6, 7, 8, 9, 10, 11, 12, 13, 14, 15, 16, 17, 18, 19, 20, 5, 4, 3, 5, 20, 5, 8, 11, 16, 17, 1, 2, 4, 7, 8, 3, 13, 1, 20, 1, 3, 4, 6, 8, 10, 17, 1, 3, 4, 7, 12, 1, 2, 3, 4, 5, 6, 7, 8, 9, 10, 11, 13, 16, 17, 18, 1, 4, 15, 4, 7, 1, 2, 3, 5, 7, 8, 11, 12, 13, 15, 10, 12, 13, 1, 3, 4, 11, 16, 18, 20, 1, 7, 1, 3, 4, 7, 6, 1, 2, 3, 4, 5, 6, 7, 8, 9, 10, 11, 13, 14, 15, 17, 20, 1, 2, 3, 4, 5, 6, 7, 8, 11, 13, 14, 15, 19, 20, 5, 6, 7, 15, 8, 11, 19, 1, 2, 3, 4, 5, 6, 7, 8, 9, 10, 11, 12, 13, 14, 15, 16, 17, 18, 19, 20, 1, 10, 11, 20, 1, 2, 3, 5, 6, 7, 9, 10, 13, 14, 15, 19, 1, 3, 4, 14, 12, 19, 9, 1, 6, 11, 1, 2, 3, 4, 5, 6, 10, 12, 14, 1, 11, 2, 5, 6, 13, 15, 17, 4, 16, 7, 1, 3, 14, 2, 10, 3, 6, 8, 1, 3, 6, 3, 17, 1, 2, 4, 5, 6, 7, 11, 16, 18, 20, 2, 3, 11, 1, 3, 11, 3, 12, 8, 13, 7, 10, 1, 4, 13, 1, 3, 5, 6, 8, 9, 11, 12, 4, 17, 18, 1, 2, 3, 4, 6, 7, 9, 10, 13, 14, 17, 18, 19, 3, 6, 12, 14, 1, 2, 3, 4, 5, 6, 9, 11, 14, 18, 19, 20, 2, 4, 9, 6, 8, 9, 2, 18, 4, 13, 11, 12, 1, 17, 5, 6, 3, 6, 10, 1, 2, 4, 6, 7, 13, 17, 1, 2, 4, 20, 14, 17, 3, 13, 1, 2, 6, 8, 3, 7, 6, 7, 12, 1, 14, 20, 2, 5, 6, 7, 10, 11, 13, 14, 16, 18, 20, 1, 3, 5, 6, 1, 6, 1, 2, 3, 1, 10, 14, 2, 2, 1, 2, 3, 4, 5, 7, 10, 11, 13, 15, 16, 17, 18, 19, 2, 5, 7, 18, 1, 4, 5, 6, 10, 1, 3, 4, 6, 10, 14, 1, 2, 3, 4, 5, 6, 7, 8, 9, 11, 12, 13, 14, 17, 18, 20, 2, 11, 1, 7, 9, 12, 13, 15, 16, 7, 20, 1, 2, 3, 4, 5, 6, 7, 8, 9, 10, 13, 15, 18, 19, 9, 12, 4, 6, 4, 1, 11, 17, 1, 2, 4, 7, 13, 16, 18, 2, 4, 6, 7, 11, 18, 19, 1, 6, 10, 11, 10, 15, 18, 1, 2, 3, 7, 9, 13, 14, 16, 18, 5, 6, 1, 2, 3, 4, 5, 6, 7, 8, 9, 10, 11, 12, 13, 14, 15, 16, 17, 19, 20, 1, 2, 3, 4, 5, 6, 7, 9, 11, 12, 13, 14, 15, 16, 17, 18, 20, 5, 9, 8, 16, 5, 16, 1, 2, 3, 4, 6, 7, 8, 9, 12, 13, 15, 17, 19, 9, 1, 5, 10, 11, 1, 2, 3, 4, 5, 6, 7, 8, 9, 10, 11, 12, 13, 14, 15, 16, 17, 18, 19, 20, 5], \"Freq\": [0.40984201431274414, 0.40984201431274414, 0.40984201431274414, 0.6673019528388977, 0.19523480534553528, 0.1301565319299698, 0.0650782659649849, 0.19523480534553528, 0.0650782659649849, 0.0650782659649849, 0.19523480534553528, 0.0650782659649849, 0.3133561909198761, 0.6267123818397522, 0.425371915102005, 0.425371915102005, 0.33304208517074585, 0.16652104258537292, 0.33304208517074585, 0.16652104258537292, 0.799170732498169, 0.3995853662490845, 0.4004491865634918, 0.2534932792186737, 0.5069865584373474, 0.2534932792186737, 0.28394678235054016, 0.28394678235054016, 0.5678935647010803, 0.722856342792511, 0.12047605216503143, 0.12047605216503143, 0.4276644289493561, 0.4276644289493561, 0.17061080038547516, 0.17061080038547516, 0.5118324160575867, 0.17061080038547516, 0.6866372227668762, 0.3433186113834381, 0.3288169205188751, 0.3288169205188751, 0.4676356911659241, 0.4676356911659241, 0.2797251343727112, 0.4195876717567444, 0.2797251343727112, 0.44973623752593994, 0.12940746545791626, 0.6470373868942261, 0.12940746545791626, 0.8148797750473022, 0.4237127900123596, 0.08474255353212357, 0.2542276680469513, 0.16948510706424713, 0.21344545483589172, 0.10672272741794586, 0.6403363943099976, 0.04650960862636566, 0.18603843450546265, 0.09301921725273132, 0.04650960862636566, 0.13952882587909698, 0.13952882587909698, 0.04650960862636566, 0.2325480580329895, 0.3007727861404419, 0.6015455722808838, 0.7452587485313416, 0.2732616364955902, 0.5465232729911804, 0.6660979986190796, 0.07401088625192642, 0.07401088625192642, 0.14802177250385284, 0.7088955044746399, 0.1417791098356247, 0.667618989944458, 0.7086040377616882, 0.8862457275390625, 0.07028459757566452, 0.2811383903026581, 0.03514229878783226, 0.03514229878783226, 0.5271344780921936, 0.6275089979171753, 0.26893243193626404, 0.6548424959182739, 0.32742124795913696, 0.48296990990638733, 0.48296990990638733, 0.8803101181983948, 0.5212214589118958, 0.5212214589118958, 0.664852499961853, 0.22161750495433807, 0.14583072066307068, 0.4374921917915344, 0.14583072066307068, 0.2187460958957672, 0.11909502744674683, 0.23819005489349365, 0.5954751372337341, 0.8322855234146118, 0.26927176117897034, 0.5385435223579407, 0.5410133004188538, 0.5410133004188538, 0.09748756140470505, 0.6824129223823547, 0.09748756140470505, 0.15201067924499512, 0.30402135848999023, 0.45603203773498535, 0.052016738802194595, 0.15605022013187408, 0.052016738802194595, 0.26008370518684387, 0.26008370518684387, 0.10403347760438919, 0.052016738802194595, 0.2112390398979187, 0.10561951994895935, 0.2112390398979187, 0.31685855984687805, 0.6437469720840454, 0.7063435912132263, 0.10090622305870056, 0.5555849075317383, 0.13228212296962738, 0.026456423103809357, 0.21165138483047485, 0.026456423103809357, 0.026456423103809357, 0.9097180366516113, 0.10325679183006287, 0.20651358366012573, 0.5162839293479919, 0.4941759407520294, 0.044925086200237274, 0.08985017240047455, 0.08985017240047455, 0.08985017240047455, 0.044925086200237274, 0.08985017240047455, 0.044925086200237274, 0.9139713644981384, 0.053763020783662796, 0.026881510391831398, 0.559878945350647, 0.17906276881694794, 0.17906276881694794, 0.17906276881694794, 0.3581255376338959, 0.3572770655155182, 0.1786385327577591, 0.08931926637887955, 0.08931926637887955, 0.08931926637887955, 0.1786385327577591, 0.2875635027885437, 0.5751270055770874, 0.2875635027885437, 0.2632436156272888, 0.2632436156272888, 0.5264872312545776, 0.815678060054779, 0.4116595983505249, 0.10947901755571365, 0.4379160702228546, 0.10947901755571365, 0.32843706011772156, 0.06656883656978607, 0.4659818410873413, 0.06656883656978607, 0.033284418284893036, 0.033284418284893036, 0.016642209142446518, 0.1830642968416214, 0.033284418284893036, 0.016642209142446518, 0.016642209142446518, 0.016642209142446518, 0.016642209142446518, 0.016642209142446518, 0.10930357873439789, 0.32791072130203247, 0.43721431493759155, 0.6684812903404236, 0.22282710671424866, 0.31617897748947144, 0.6323579549789429, 0.34791138768196106, 0.34791138768196106, 0.20874683558940887, 0.49159979820251465, 0.24579989910125732, 0.24579989910125732, 0.11184123158454895, 0.2236824631690979, 0.4473649263381958, 0.11184123158454895, 0.20291785895824432, 0.10145892947912216, 0.10145892947912216, 0.10145892947912216, 0.3043767809867859, 0.10145892947912216, 0.283282995223999, 0.566565990447998, 0.4818859100341797, 0.4818859100341797, 0.37298211455345154, 0.37298211455345154, 0.1204151138663292, 0.1204151138663292, 0.0401383712887764, 0.1204151138663292, 0.0802767425775528, 0.0802767425775528, 0.1605534851551056, 0.0401383712887764, 0.2006918489933014, 0.31547117233276367, 0.6309423446655273, 0.4076043963432312, 0.4076043963432312, 0.48090848326683044, 0.24045424163341522, 0.6602915525436401, 0.22009718418121338, 0.11679993569850922, 0.7007996439933777, 0.11679993569850922, 0.15257182717323303, 0.025428637862205505, 0.7628591060638428, 0.025428637862205505, 0.025428637862205505, 0.046560514718294144, 0.18624205887317657, 0.09312102943658829, 0.09312102943658829, 0.37248411774635315, 0.09312102943658829, 0.23962822556495667, 0.23962822556495667, 0.47925645112991333, 0.9573490023612976, 0.46819642186164856, 0.46819642186164856, 0.9250604510307312, 0.21731321513652802, 0.43462643027305603, 0.10865660756826401, 0.10865660756826401, 0.6671273708343506, 0.08113734424114227, 0.060853004455566406, 0.42597103118896484, 0.40568670630455017, 0.020284336060285568, 0.23203204572200775, 0.4640640914440155, 0.23203204572200775, 0.29818928241729736, 0.07454732060432434, 0.07454732060432434, 0.07454732060432434, 0.07454732060432434, 0.07454732060432434, 0.07454732060432434, 0.14909464120864868, 0.07454732060432434, 0.4189721643924713, 0.3428657650947571, 0.3428657650947571, 0.10037335008382797, 0.15056002140045166, 0.050186675041913986, 0.050186675041913986, 0.15056002140045166, 0.15056002140045166, 0.25093337893486023, 0.050186675041913986, 0.3388366401195526, 0.0484052374958992, 0.0484052374958992, 0.0484052374958992, 0.0968104749917984, 0.145215705037117, 0.1936209499835968, 0.6351391077041626, 0.3175695538520813, 0.15974459052085876, 0.7987229824066162, 0.6672495603561401, 0.32509714365005493, 0.10836571455001831, 0.10836571455001831, 0.32509714365005493, 0.10836571455001831, 0.6683558225631714, 0.6687161922454834, 0.23845501244068146, 0.4769100248813629, 0.23845501244068146, 0.21765296161174774, 0.54413241147995, 0.10882648080587387, 0.5531746745109558, 0.1843915581703186, 0.35752367973327637, 0.35752367973327637, 0.35752367973327637, 0.018452903255820274, 0.018452903255820274, 0.9410980343818665, 0.3931644558906555, 0.3931644558906555, 0.040984366089105606, 0.05123045668005943, 0.010246091522276402, 0.5225507020950317, 0.010246091522276402, 0.08196873217821121, 0.020492183044552803, 0.010246091522276402, 0.020492183044552803, 0.010246091522276402, 0.1946757435798645, 0.3181760907173157, 0.6363521814346313, 0.6697201728820801, 0.22324006259441376, 0.022807151079177856, 0.022807151079177856, 0.2394750863313675, 0.26228222250938416, 0.3649144172668457, 0.022807151079177856, 0.011403575539588928, 0.022807151079177856, 0.24734926223754883, 0.0190268661826849, 0.057080600410699844, 0.0190268661826849, 0.09513433277606964, 0.057080600410699844, 0.0380537323653698, 0.0380537323653698, 0.19026866555213928, 0.0190268661826849, 0.09513433277606964, 0.0190268661826849, 0.09513433277606964, 0.0190268661826849, 0.32238829135894775, 0.6447765827178955, 0.654041588306427, 0.356749951839447, 0.15046776831150055, 0.15046776831150055, 0.15046776831150055, 0.15046776831150055, 0.3009355366230011, 0.22541098296642303, 0.03756849840283394, 0.33811646699905396, 0.07513699680566788, 0.03756849840283394, 0.03756849840283394, 0.03756849840283394, 0.03756849840283394, 0.03756849840283394, 0.03756849840283394, 0.3575301766395569, 0.3575301766395569, 0.3575301766395569, 0.24986810982227325, 0.4997362196445465, 0.24986810982227325, 0.7102224826812744, 0.2367408275604248, 0.4795696437358856, 0.31819969415664673, 0.6363993883132935, 0.38353773951530457, 0.38353773951530457, 0.2790534198284149, 0.5581068396568298, 0.36016708612442017, 0.36016708612442017, 0.09869750589132309, 0.09869750589132309, 0.09869750589132309, 0.19739501178264618, 0.39479002356529236, 0.09869750589132309, 0.354242742061615, 0.354242742061615, 0.354242742061615, 0.6509991884231567, 0.21699972450733185, 0.16178305447101593, 0.12942644953727722, 0.06471322476863861, 0.032356612384319305, 0.12942644953727722, 0.06471322476863861, 0.06471322476863861, 0.12942644953727722, 0.12942644953727722, 0.06471322476863861, 0.032356612384319305, 0.20154207944869995, 0.20154207944869995, 0.3023131191730499, 0.20154207944869995, 0.7298033833503723, 0.1341603547334671, 0.4024810492992401, 0.06708017736673355, 0.2683207094669342, 0.14089250564575195, 0.17611563205718994, 0.10566937923431396, 0.07044625282287598, 0.10566937923431396, 0.03522312641143799, 0.03522312641143799, 0.10566937923431396, 0.14089250564575195, 0.03522312641143799, 0.07725391536951065, 0.23176175355911255, 0.07725391536951065, 0.07725391536951065, 0.07725391536951065, 0.23176175355911255, 0.1545078307390213, 0.32572463154792786, 0.10857487469911575, 0.05428743734955788, 0.2714371979236603, 0.10857487469911575, 0.05428743734955788, 0.17553465068340302, 0.08776732534170151, 0.05266039818525314, 0.05266039818525314, 0.05266039818525314, 0.07021386176347733, 0.08776732534170151, 0.05266039818525314, 0.03510693088173866, 0.03510693088173866, 0.03510693088173866, 0.03510693088173866, 0.01755346544086933, 0.01755346544086933, 0.01755346544086933, 0.10532079637050629, 0.03510693088173866, 0.01755346544086933, 0.18209561705589294, 0.18209561705589294, 0.18209561705589294, 0.3641912341117859, 0.3022003769874573, 0.3022003769874573, 0.7649005055427551, 0.2549668550491333, 0.07844822108745575, 0.11767233908176422, 0.313792884349823, 0.039224110543727875, 0.1568964421749115, 0.039224110543727875, 0.039224110543727875, 0.07844822108745575, 0.07844822108745575, 0.5453938841819763, 0.18179796636104584, 0.18179796636104584, 0.4938667118549347, 0.1646222323179245, 0.1646222323179245, 0.5912520289421082, 0.19708400964736938, 0.2685573697090149, 0.2685573697090149, 0.5371147394180298, 0.11978735774755478, 0.11978735774755478, 0.7187241315841675, 0.6224479079246521, 0.12448958307504654, 0.12448958307504654, 0.3210656940937042, 0.6421313881874084, 0.17261464893817902, 0.21576830744743347, 0.17261464893817902, 0.12946099042892456, 0.21576830744743347, 0.043153662234544754, 0.14094236493110657, 0.28188472986221313, 0.14094236493110657, 0.14094236493110657, 0.14094236493110657, 0.14094236493110657, 0.39818504452705383, 0.39818504452705383, 0.21977344155311584, 0.07325781136751175, 0.1465156227350235, 0.02441927045583725, 0.02441927045583725, 0.2441927045583725, 0.02441927045583725, 0.12209635227918625, 0.02441927045583725, 0.02441927045583725, 0.02441927045583725, 0.02441927045583725, 0.2686741054058075, 0.537348210811615, 0.304084837436676, 0.608169674873352, 0.6684204339981079, 0.7574410438537598, 0.15148821473121643, 0.10139573365449905, 0.10139573365449905, 0.10139573365449905, 0.10139573365449905, 0.30418720841407776, 0.10139573365449905, 0.7594301104545593, 0.2833433151245117, 0.2833433151245117, 0.2833433151245117, 0.42488959431648254, 0.21244479715824127, 0.21244479715824127, 0.20682793855667114, 0.6204838156700134, 0.932508647441864, 0.15762771666049957, 0.06305108964443207, 0.031525544822216034, 0.031525544822216034, 0.12610217928886414, 0.25220435857772827, 0.031525544822216034, 0.06305108964443207, 0.031525544822216034, 0.031525544822216034, 0.0945766344666481, 0.031525544822216034, 0.3372466564178467, 0.3372466564178467, 0.3372466564178467, 0.31083470582962036, 0.6216694116592407, 0.20721419155597687, 0.20721419155597687, 0.20721419155597687, 0.41442838311195374, 0.254768431186676, 0.254768431186676, 0.254768431186676, 0.3655046820640564, 0.0913761705160141, 0.0913761705160141, 0.0913761705160141, 0.2741284966468811, 0.17328380048274994, 0.17328380048274994, 0.05776126682758331, 0.05776126682758331, 0.05776126682758331, 0.08664190024137497, 0.14440317451953888, 0.028880633413791656, 0.028880633413791656, 0.08664190024137497, 0.05776126682758331, 0.028880633413791656, 0.49207526445388794, 0.49207526445388794, 0.663960874080658, 0.331980437040329, 0.5917855501174927, 0.29589277505874634, 0.2385832816362381, 0.2684061825275421, 0.2087603658437729, 0.059645820409059525, 0.029822910204529762, 0.11929164081811905, 0.029822910204529762, 0.5858320593833923, 0.29291602969169617, 0.09203194081783295, 0.09203194081783295, 0.09203194081783295, 0.46015968918800354, 0.09203194081783295, 0.09203194081783295, 0.41429468989372253, 0.248576819896698, 0.16571788489818573, 0.7088929414749146, 0.23629765212535858, 0.1623666137456894, 0.1623666137456894, 0.487099826335907, 0.1600944846868515, 0.1600944846868515, 0.28817006945610046, 0.12807558476924896, 0.03201889619231224, 0.06403779238462448, 0.06403779238462448, 0.03201889619231224, 0.03201889619231224, 0.03201889619231224, 0.8041868209838867, 0.90489661693573, 0.46307748556137085, 0.46307748556137085, 0.8428658246994019, 0.4802015721797943, 0.08003359287977219, 0.4802015721797943, 0.283904492855072, 0.567808985710144, 0.21574001014232635, 0.1677977740764618, 0.1438266634941101, 0.023971110582351685, 0.04794222116470337, 0.04794222116470337, 0.04794222116470337, 0.09588444232940674, 0.023971110582351685, 0.11985556036233902, 0.023971110582351685, 0.023971110582351685, 0.023971110582351685, 0.054624032229185104, 0.49161627888679504, 0.21849612891674042, 0.054624032229185104, 0.027312016114592552, 0.08193604648113251, 0.027312016114592552, 0.8854691982269287, 0.33972668647766113, 0.16986334323883057, 0.16986334323883057, 0.16986334323883057, 0.6663623452186584, 0.28009510040283203, 0.06224335730075836, 0.03112167865037918, 0.12448671460151672, 0.03112167865037918, 0.03112167865037918, 0.06224335730075836, 0.1556084007024765, 0.03112167865037918, 0.03112167865037918, 0.06224335730075836, 0.03112167865037918, 0.03112167865037918, 0.1943853348493576, 0.1943853348493576, 0.1943853348493576, 0.3887706696987152, 0.21413354575634003, 0.42826709151268005, 0.32120031118392944, 0.2654527723789215, 0.0884842500090599, 0.0884842500090599, 0.0884842500090599, 0.0884842500090599, 0.3539370000362396, 0.0884842500090599, 0.7916670441627502, 0.48819005489349365, 0.48819005489349365, 0.49414271116256714, 0.24707135558128357, 0.41174954175949097, 0.41174954175949097, 0.22185154259204865, 0.11092577129602432, 0.33277732133865356, 0.11092577129602432, 0.11092577129602432, 0.16335579752922058, 0.05445193499326706, 0.13612984120845795, 0.05445193499326706, 0.02722596749663353, 0.21780773997306824, 0.08167789876461029, 0.08167789876461029, 0.05445193499326706, 0.02722596749663353, 0.05445193499326706, 0.20396079123020172, 0.6118823885917664, 0.20396079123020172, 0.1573125123977661, 0.3146250247955322, 0.3146250247955322, 0.18884283304214478, 0.5665284991264343, 0.20249462127685547, 0.40498924255371094, 0.10124731063842773, 0.05062365531921387, 0.1518709659576416, 0.10124731063842773, 0.43257322907447815, 0.43257322907447815, 0.6148404479026794, 0.40583476424217224, 0.40583476424217224, 0.10170281678438187, 0.10170281678438187, 0.10170281678438187, 0.10170281678438187, 0.5085141062736511, 0.2944042384624481, 0.2944042384624481, 0.27070948481559753, 0.09023649990558624, 0.27070948481559753, 0.09023649990558624, 0.27070948481559753, 0.21560682356357574, 0.21560682356357574, 0.21560682356357574, 0.31638726592063904, 0.31638726592063904, 0.31638726592063904, 0.16262608766555786, 0.09757564961910248, 0.3252521753311157, 0.03252521902322769, 0.06505043804645538, 0.09757564961910248, 0.03252521902322769, 0.03252521902322769, 0.03252521902322769, 0.03252521902322769, 0.03252521902322769, 0.040736570954322815, 0.6110485792160034, 0.08147314190864563, 0.08147314190864563, 0.08147314190864563, 0.040736570954322815, 0.4390639364719391, 0.4390639364719391, 0.01459874864667654, 0.01459874864667654, 0.01459874864667654, 0.9197211265563965, 0.02919749729335308, 0.1388731300830841, 0.10415484756231308, 0.1388731300830841, 0.10415484756231308, 0.06943656504154205, 0.10415484756231308, 0.06943656504154205, 0.06943656504154205, 0.03471828252077103, 0.06943656504154205, 0.06943656504154205, 0.08333439379930496, 0.08333439379930496, 0.08333439379930496, 0.08333439379930496, 0.08333439379930496, 0.08333439379930496, 0.2500031888484955, 0.08333439379930496, 0.08333439379930496, 0.5473527908325195, 0.27367639541625977, 0.13683819770812988, 0.6851271390914917, 0.22837571799755096, 0.28808021545410156, 0.09097270667552948, 0.07581058889627457, 0.07581058889627457, 0.060648467391729355, 0.07581058889627457, 0.030324233695864677, 0.060648467391729355, 0.015162116847932339, 0.09097270667552948, 0.04548635333776474, 0.030324233695864677, 0.015162116847932339, 0.015162116847932339, 0.015162116847932339, 0.09434888511896133, 0.18869777023792267, 0.09434888511896133, 0.18869777023792267, 0.09434888511896133, 0.2830466628074646, 0.09434888511896133, 0.5896517038345337, 0.14285191893577576, 0.14285191893577576, 0.09523461014032364, 0.07142595946788788, 0.2857038378715515, 0.02380865253508091, 0.02380865253508091, 0.02380865253508091, 0.02380865253508091, 0.02380865253508091, 0.04761730507016182, 0.04761730507016182, 0.02380865253508091, 0.2540576457977295, 0.12702882289886475, 0.2540576457977295, 0.12702882289886475, 0.29886651039123535, 0.07471662759780884, 0.14943325519561768, 0.03735831379890442, 0.07471662759780884, 0.1867915689945221, 0.14943325519561768, 0.7895150184631348, 0.16210824251174927, 0.16210824251174927, 0.6484329700469971, 0.4084058105945587, 0.4084058105945587, 0.8664183020591736, 0.06762530654668808, 0.13525061309337616, 0.2705012261867523, 0.338126540184021, 0.06762530654668808, 0.5506554841995239, 0.15017877519130707, 0.050059590488672256, 0.050059590488672256, 0.10011918097734451, 0.050059590488672256, 0.050059590488672256, 0.46519508957862854, 0.46519508957862854, 0.9099866151809692, 0.23534679412841797, 0.47069358825683594, 0.23534679412841797, 0.2374407798051834, 0.1187203899025917, 0.4748815596103668, 0.1738545000553131, 0.14901813864707947, 0.04967271536588669, 0.04967271536588669, 0.14901813864707947, 0.12418178468942642, 0.04967271536588669, 0.04967271536588669, 0.024836357682943344, 0.024836357682943344, 0.04967271536588669, 0.024836357682943344, 0.04967271536588669, 0.248861163854599, 0.1244305819272995, 0.497722327709198, 0.1244305819272995, 0.3315553069114685, 0.3315553069114685, 0.3315553069114685, 0.27848145365715027, 0.5569629073143005, 0.13924072682857513, 0.07582525163888931, 0.07582525163888931, 0.8088027238845825, 0.025275085121393204, 0.023434428498148918, 0.023434428498148918, 0.42181968688964844, 0.11717213690280914, 0.11717213690280914, 0.09373771399259567, 0.046868856996297836, 0.023434428498148918, 0.046868856996297836, 0.023434428498148918, 0.023434428498148918, 0.023434428498148918, 0.023434428498148918, 0.20984601974487305, 0.4196920394897461, 0.20984601974487305, 0.19134147465229034, 0.07653658837080002, 0.03826829418540001, 0.03826829418540001, 0.15307317674160004, 0.07653658837080002, 0.03826829418540001, 0.03826829418540001, 0.03826829418540001, 0.03826829418540001, 0.07653658837080002, 0.03826829418540001, 0.15307317674160004, 0.31568142771720886, 0.31568142771720886, 0.31568142771720886, 0.7455713152885437, 0.554364800453186, 0.05263788253068924, 0.05263788253068924, 0.21055153012275696, 0.10527576506137848, 0.2631894052028656, 0.05263788253068924, 0.05263788253068924, 0.10527576506137848, 0.05263788253068924, 0.3719903230667114, 0.3719903230667114, 0.09381914138793945, 0.28145742416381836, 0.09381914138793945, 0.09381914138793945, 0.28145742416381836, 0.09381914138793945, 0.13351021707057953, 0.019072888419032097, 0.07629155367612839, 0.4577493369579315, 0.2098017781972885, 0.019072888419032097, 0.019072888419032097, 0.038145776838064194, 0.14130501449108124, 0.7065250277519226, 0.14130501449108124, 0.7938116788864136, 0.15876233577728271, 0.09339841455221176, 0.2801952660083771, 0.2801952660083771, 0.18679682910442352, 0.09339841455221176, 0.6668378710746765, 0.2172742635011673, 0.4345485270023346, 0.0724247545003891, 0.0724247545003891, 0.0724247545003891, 0.0724247545003891, 0.3509374260902405, 0.07975850254297256, 0.09571020305156708, 0.06380680203437805, 0.031903401017189026, 0.09571020305156708, 0.04785510152578354, 0.015951700508594513, 0.04785510152578354, 0.031903401017189026, 0.015951700508594513, 0.04785510152578354, 0.015951700508594513, 0.04785510152578354, 0.015951700508594513, 0.34631237387657166, 0.6926247477531433, 0.36605679988861084, 0.36605679988861084, 0.36605679988861084, 0.10798420757055283, 0.16197630763053894, 0.10798420757055283, 0.05399210378527641, 0.05399210378527641, 0.05399210378527641, 0.3239526152610779, 0.05399210378527641, 0.12091369926929474, 0.024182740598917007, 0.07254821807146072, 0.3869238495826721, 0.048365481197834015, 0.07254821807146072, 0.012091370299458504, 0.07254821807146072, 0.06045684963464737, 0.024182740598917007, 0.08463959395885468, 0.6675170660018921, 0.1951455920934677, 0.1951455920934677, 0.5854367613792419, 0.1951455920934677, 0.4712763726711273, 0.3534572720527649, 0.11781909316778183, 0.876973569393158, 0.13395000994205475, 0.13395000994205475, 0.535800039768219, 0.13395000994205475, 0.2894323766231537, 0.14471618831157684, 0.14471618831157684, 0.2894323766231537, 0.14471618831157684, 0.06651805341243744, 0.13303610682487488, 0.7095258831977844, 0.022172683849930763, 0.022172683849930763, 0.022172683849930763, 0.307110458612442, 0.614220917224884, 0.9331440329551697, 0.43396851420402527, 0.43396851420402527, 0.3705241084098816, 0.3705241084098816, 0.3705241084098816, 0.06308240443468094, 0.12616480886936188, 0.06308240443468094, 0.12616480886936188, 0.12616480886936188, 0.12616480886936188, 0.06308240443468094, 0.25232961773872375, 0.3677900731563568, 0.3677900731563568, 0.3677900731563568, 0.6642504930496216, 0.22141683101654053, 0.8237211108207703, 0.4922906458377838, 0.4922906458377838, 0.6174601912498474, 0.3087300956249237, 0.9259556531906128, 0.6274436116218567, 0.6877613663673401, 0.22925378382205963, 0.9346286654472351, 0.14470350742340088, 0.22739122807979584, 0.04134385660290718, 0.06201578676700592, 0.06201578676700592, 0.08268771320581436, 0.04134385660290718, 0.04134385660290718, 0.08268771320581436, 0.04134385660290718, 0.04134385660290718, 0.02067192830145359, 0.06201578676700592, 0.02067192830145359, 0.02067192830145359, 0.27777570486068726, 0.5555514097213745, 0.23690001666545868, 0.23690001666545868, 0.47380003333091736, 0.7342528700828552, 0.2447509616613388, 0.1748756319284439, 0.1748756319284439, 0.3497512638568878, 0.14473582804203033, 0.14473582804203033, 0.4342074692249298, 0.14473582804203033, 0.611286461353302, 0.8902642130851746, 0.603049099445343, 0.15076227486133575, 0.15076227486133575, 0.15076227486133575, 0.09425201267004013, 0.6597641110420227, 0.18850402534008026, 0.48939043283462524, 0.48939043283462524, 0.2346964329481125, 0.2346964329481125, 0.469392865896225, 0.2346964329481125, 0.1767795830965042, 0.23570610582828522, 0.1767795830965042, 0.1767795830965042, 0.11785305291414261, 0.0614384189248085, 0.491507351398468, 0.0614384189248085, 0.0614384189248085, 0.0614384189248085, 0.0614384189248085, 0.0614384189248085, 0.0614384189248085, 0.8892151117324829, 0.3489164113998413, 0.523374617099762, 0.04203448444604874, 0.16813793778419495, 0.04203448444604874, 0.2522068917751312, 0.04203448444604874, 0.3362758755683899, 0.04203448444604874, 0.34267252683639526, 0.1370690017938614, 0.0685345008969307, 0.20560351014137268, 0.20560351014137268, 0.2551136612892151, 0.10793270170688629, 0.16680508852005005, 0.039248254150152206, 0.06868444383144379, 0.06868444383144379, 0.039248254150152206, 0.009812063537538052, 0.019624127075076103, 0.02943619154393673, 0.009812063537538052, 0.019624127075076103, 0.039248254150152206, 0.019624127075076103, 0.04906031861901283, 0.019624127075076103, 0.019624127075076103, 0.019624127075076103, 0.13969700038433075, 0.03492425009608269, 0.03492425009608269, 0.03492425009608269, 0.13969700038433075, 0.20954550802707672, 0.34924250841140747, 0.03492425009608269, 0.40616729855537415, 0.40616729855537415, 0.40616729855537415, 0.3585813641548157, 0.13446801900863647, 0.08964534103870392, 0.04482267051935196, 0.08964534103870392, 0.04482267051935196, 0.04482267051935196, 0.04482267051935196, 0.4570322334766388, 0.4570322334766388, 0.4708731472492218, 0.11771828681230545, 0.11771828681230545, 0.2354365736246109, 0.7171544432640076, 0.0631321370601654, 0.0631321370601654, 0.0631321370601654, 0.1262642741203308, 0.0631321370601654, 0.18939641118049622, 0.0631321370601654, 0.1262642741203308, 0.0631321370601654, 0.1262642741203308, 0.1476300209760666, 0.1476300209760666, 0.44289007782936096, 0.1476300209760666, 0.26052039861679077, 0.17368026077747345, 0.08684013038873672, 0.08684013038873672, 0.26052039861679077, 0.18803858757019043, 0.07521543651819229, 0.15043087303638458, 0.037607718259096146, 0.11282315850257874, 0.037607718259096146, 0.037607718259096146, 0.15043087303638458, 0.037607718259096146, 0.037607718259096146, 0.037607718259096146, 0.037607718259096146, 0.34075337648391724, 0.34075337648391724, 0.34075337648391724, 0.17114563286304474, 0.684582531452179, 0.05509813502430916, 0.02754906751215458, 0.08264719694852829, 0.02754906751215458, 0.08264719694852829, 0.05509813502430916, 0.02754906751215458, 0.02754906751215458, 0.1928434669971466, 0.16529439389705658, 0.02754906751215458, 0.22039254009723663, 0.22592732310295105, 0.15061821043491364, 0.5271637439727783, 0.29795026779174805, 0.14897513389587402, 0.07448756694793701, 0.07448756694793701, 0.29795026779174805, 0.07448756694793701, 0.07448756694793701, 0.3491204082965851, 0.3491204082965851, 0.06331725418567657, 0.06331725418567657, 0.06331725418567657, 0.12663450837135315, 0.06331725418567657, 0.2532690167427063, 0.12663450837135315, 0.12663450837135315, 0.06331725418567657, 0.5253106355667114, 0.2626553177833557, 0.2626553177833557, 0.882962167263031, 0.05274946987628937, 0.1582484096288681, 0.05274946987628937, 0.26374733448028564, 0.05274946987628937, 0.05274946987628937, 0.21099787950515747, 0.05274946987628937, 0.6214514970779419, 0.10147811472415924, 0.3044343590736389, 0.15221717953681946, 0.05073905736207962, 0.05073905736207962, 0.10147811472415924, 0.05073905736207962, 0.05073905736207962, 0.15221717953681946, 0.3179318308830261, 0.6358636617660522, 0.08208975195884705, 0.41044875979423523, 0.08208975195884705, 0.08208975195884705, 0.08208975195884705, 0.08208975195884705, 0.1641795039176941, 0.2241993546485901, 0.11209967732429504, 0.05604983866214752, 0.4483987092971802, 0.05604983866214752, 0.05604983866214752, 0.38117703795433044, 0.38117703795433044, 0.38117703795433044, 0.3124440908432007, 0.6248881816864014, 0.3124440908432007, 0.3736823499202728, 0.560523509979248, 0.9100745916366577, 0.16620180010795593, 0.08310090005397797, 0.08310090005397797, 0.16620180010795593, 0.415504515171051, 0.16587918996810913, 0.4976375699043274, 0.16587918996810913, 0.6675140261650085, 0.06180734187364578, 0.12361468374729156, 0.5562660694122314, 0.18542201817035675, 0.06180734187364578, 0.7048332095146179, 0.05873610079288483, 0.17620830237865448, 0.6353238821029663, 0.21177461743354797, 0.33184513449668884, 0.04740644618868828, 0.426658034324646, 0.04740644618868828, 0.04740644618868828, 0.04740644618868828, 0.9351428747177124, 0.6356509923934937, 0.07062789052724838, 0.14125578105449677, 0.07062789052724838, 0.14485850930213928, 0.5070047974586487, 0.07242925465106964, 0.14485850930213928, 0.4906449019908905, 0.1635482907295227, 0.3270965814590454, 0.3871476352214813, 0.06452460587024689, 0.06452460587024689, 0.25809842348098755, 0.12904921174049377, 0.06452460587024689, 0.017733663320541382, 0.17733661830425262, 0.5320098996162415, 0.017733663320541382, 0.035467326641082764, 0.035467326641082764, 0.15960296988487244, 0.273183673620224, 0.546367347240448, 0.7195550799369812, 0.1798887699842453, 0.23483824729919434, 0.704514741897583, 0.22523342072963715, 0.4504668414592743, 0.22523342072963715, 0.090980663895607, 0.090980663895607, 0.090980663895607, 0.45490333437919617, 0.181961327791214, 0.37881040573120117, 0.05827852338552475, 0.05827852338552475, 0.08741778880357742, 0.029139261692762375, 0.029139261692762375, 0.05827852338552475, 0.08741778880357742, 0.029139261692762375, 0.029139261692762375, 0.029139261692762375, 0.029139261692762375, 0.029139261692762375, 0.4909277856349945, 0.24546389281749725, 0.5145893692970276, 0.1286473423242569, 0.1286473423242569, 0.2572946846485138, 0.32309937477111816, 0.32309937477111816, 0.8556457757949829, 0.8070738911628723, 0.3382117748260498, 0.3382117748260498, 0.3382117748260498, 0.21212013065814972, 0.6363604068756104, 0.7435704469680786, 0.6082776188850403, 0.31602245569229126, 0.6320449113845825, 0.30003297328948975, 0.6000659465789795, 0.3860611915588379, 0.3860611915588379, 0.39055001735687256, 0.19527500867843628, 0.19527500867843628, 0.39055001735687256, 0.4568057656288147, 0.0913611575961113, 0.3654446303844452, 0.10124356299638748, 0.6074613332748413, 0.10124356299638748, 0.3923681676387787, 0.3923681676387787, 0.2041206806898117, 0.029160097241401672, 0.058320194482803345, 0.37908127903938293, 0.13122044503688812, 0.07290024310350418, 0.029160097241401672, 0.014580048620700836, 0.014580048620700836, 0.014580048620700836, 0.014580048620700836, 0.3842659294605255, 0.3842659294605255, 0.5450178384780884, 0.2725089192390442, 0.1973341703414917, 0.32889029383659363, 0.06577806174755096, 0.06577806174755096, 0.26311224699020386, 0.06577806174755096, 0.3316172957420349, 0.3316172957420349, 0.3316172957420349, 0.2987070083618164, 0.19913801550865173, 0.033189669251441956, 0.033189669251441956, 0.033189669251441956, 0.033189669251441956, 0.16594834625720978, 0.033189669251441956, 0.033189669251441956, 0.06637933850288391, 0.033189669251441956, 0.11337639391422272, 0.11337639391422272, 0.34012919664382935, 0.34012919664382935, 0.11337639391422272, 0.3092491328716278, 0.08835689723491669, 0.08835689723491669, 0.35342758893966675, 0.044178448617458344, 0.044178448617458344, 0.044178448617458344, 0.04414732754230499, 0.9418096542358398, 0.335356742143631, 0.18057669699192047, 0.051593344658613205, 0.07739001512527466, 0.051593344658613205, 0.025796672329306602, 0.025796672329306602, 0.025796672329306602, 0.025796672329306602, 0.051593344658613205, 0.025796672329306602, 0.025796672329306602, 0.025796672329306602, 0.051593344658613205, 0.15353040397167206, 0.46059122681617737, 0.15353040397167206, 0.15353040397167206, 0.6658250093460083, 0.33291250467300415, 0.3593274652957916, 0.3593274652957916, 0.7130230665206909, 0.14260461926460266, 0.20714184641838074, 0.06904727965593338, 0.20714184641838074, 0.2761891186237335, 0.062752865254879, 0.1882586032152176, 0.1882586032152176, 0.0836704894900322, 0.0836704894900322, 0.125505730509758, 0.0418352447450161, 0.02091762237250805, 0.02091762237250805, 0.0418352447450161, 0.062752865254879, 0.02091762237250805, 0.02091762237250805, 0.11630140244960785, 0.34890419244766235, 0.11630140244960785, 0.11630140244960785, 0.11630140244960785, 0.7678239941596985, 0.25594133138656616, 0.26446273922920227, 0.052892547100782394, 0.052892547100782394, 0.052892547100782394, 0.052892547100782394, 0.10578509420156479, 0.10578509420156479, 0.052892547100782394, 0.052892547100782394, 0.10578509420156479, 0.26454874873161316, 0.07936462759971619, 0.13227437436580658, 0.09700120985507965, 0.04409145936369896, 0.09700120985507965, 0.04409145936369896, 0.017636584118008614, 0.017636584118008614, 0.03527316823601723, 0.017636584118008614, 0.05290975049138069, 0.008818292059004307, 0.05290975049138069, 0.008818292059004307, 0.026454875245690346, 0.6674913167953491, 0.21372602880001068, 0.05343150720000267, 0.10686301440000534, 0.10686301440000534, 0.05343150720000267, 0.05343150720000267, 0.26715752482414246, 0.05343150720000267, 0.05343150720000267, 0.3149743378162384, 0.3149743378162384, 0.3149743378162384, 0.32783010601997375, 0.6556602120399475, 0.30945298075675964, 0.12378119677305222, 0.06189059838652611, 0.24756239354610443, 0.06189059838652611, 0.12378119677305222, 0.6486672759056091, 0.32433363795280457, 0.7724993228912354, 0.3862496614456177, 0.3040366768836975, 0.11693718284368515, 0.07016231119632721, 0.02338743582367897, 0.04677487164735794, 0.04677487164735794, 0.07016231119632721, 0.04677487164735794, 0.02338743582367897, 0.07016231119632721, 0.02338743582367897, 0.09354974329471588, 0.04677487164735794, 0.19962550699710846, 0.03992510214447975, 0.03992510214447975, 0.27947571873664856, 0.03992510214447975, 0.11977530270814896, 0.03992510214447975, 0.0798502042889595, 0.03992510214447975, 0.17836542427539825, 0.535096287727356, 0.17836542427539825, 0.22359277307987213, 0.11179638653993607, 0.11179638653993607, 0.3353891670703888, 0.11179638653993607, 0.27967676520347595, 0.07990764826536179, 0.03995382413268089, 0.07990764826536179, 0.31963059306144714, 0.03995382413268089, 0.03995382413268089, 0.03995382413268089, 0.03995382413268089, 0.03995382413268089, 0.19868144392967224, 0.19868144392967224, 0.19868144392967224, 0.3973628878593445, 0.02349080890417099, 0.2349081039428711, 0.7282150983810425, 0.3229002356529236, 0.6458004713058472, 0.5798384547233582, 0.0381031297147274, 0.28577348589897156, 0.6096500754356384, 0.0190515648573637, 0.0190515648573637, 0.13827909529209137, 0.13827909529209137, 0.06913954764604568, 0.06913954764604568, 0.06913954764604568, 0.06913954764604568, 0.27655819058418274, 0.06913954764604568, 0.15730826556682587, 0.2621804475784302, 0.10487217456102371, 0.10487217456102371, 0.052436087280511856, 0.052436087280511856, 0.052436087280511856, 0.15730826556682587, 0.052436087280511856, 0.6530478596687317, 0.2176826149225235, 0.0725608691573143, 0.14223815500736237, 0.21335723996162415, 0.07111907750368118, 0.3555953800678253, 0.07111907750368118, 0.07111907750368118, 0.5671722292900085, 0.14179305732250214, 0.07089652866125107, 0.07089652866125107, 0.1105480045080185, 0.036849334836006165, 0.036849334836006165, 0.4299089014530182, 0.036849334836006165, 0.08598177880048752, 0.049132443964481354, 0.06141555681824684, 0.024566221982240677, 0.024566221982240677, 0.024566221982240677, 0.012283110991120338, 0.024566221982240677, 0.024566221982240677, 0.012283110991120338, 0.20880232751369476, 0.06960077583789825, 0.278403103351593, 0.34800389409065247, 0.06960077583789825, 0.854060709476471, 0.1696879118680954, 0.19089889526367188, 0.10605494678020477, 0.04242197796702385, 0.12726593017578125, 0.06363296508789062, 0.021210988983511925, 0.021210988983511925, 0.06363296508789062, 0.04242197796702385, 0.021210988983511925, 0.021210988983511925, 0.04242197796702385, 0.021210988983511925, 0.021210988983511925, 0.8899921774864197, 0.6775104999542236, 0.1129184141755104, 0.25103527307510376, 0.2053924947977066, 0.06846416741609573, 0.07987485826015472, 0.03423208370804787, 0.045642778277397156, 0.06846416741609573, 0.022821389138698578, 0.011410694569349289, 0.045642778277397156, 0.011410694569349289, 0.022821389138698578, 0.022821389138698578, 0.03423208370804787, 0.022821389138698578, 0.011410694569349289, 0.022821389138698578, 0.3173801302909851, 0.3173801302909851, 0.3173801302909851, 0.19502481818199158, 0.17335540056228638, 0.17335540056228638, 0.043338850140571594, 0.06500827521085739, 0.06500827521085739, 0.021669425070285797, 0.021669425070285797, 0.021669425070285797, 0.021669425070285797, 0.06500827521085739, 0.021669425070285797, 0.043338850140571594, 0.021669425070285797, 0.021669425070285797, 0.021669425070285797, 0.8098537921905518, 0.20246344804763794, 0.31364428997039795, 0.6272885799407959, 0.3142165243625641, 0.47132477164268494, 0.15710826218128204, 0.2483140081167221, 0.1596304327249527, 0.017736714333295822, 0.035473428666591644, 0.1596304327249527, 0.07094685733318329, 0.035473428666591644, 0.053210142999887466, 0.035473428666591644, 0.08868357539176941, 0.017736714333295822, 0.017736714333295822, 0.035473428666591644, 0.017736714333295822, 0.7269811630249023, 0.2655075788497925, 0.531015157699585, 0.2655075788497925, 0.21252910792827606, 0.10626455396413803, 0.10626455396413803, 0.10626455396413803, 0.10626455396413803, 0.053132276982069016, 0.053132276982069016, 0.053132276982069016, 0.053132276982069016, 0.053132276982069016, 0.10626455396413803, 0.6370038390159607, 0.279052197933197, 0.1395260989665985, 0.558104395866394, 0.2524968087673187, 0.2524968087673187, 0.14428389072418213, 0.03607097268104553, 0.1082129254937172, 0.03607097268104553, 0.07214194536209106, 0.03607097268104553, 0.34753063321113586, 0.34753063321113586, 0.2839793562889099, 0.14198967814445496, 0.14198967814445496, 0.42596903443336487, 0.7267982363700867, 0.23146739602088928, 0.05786684900522232, 0.1446671187877655, 0.05786684900522232, 0.02893342450261116, 0.05786684900522232, 0.1446671187877655, 0.05786684900522232, 0.02893342450261116, 0.02893342450261116, 0.02893342450261116, 0.02893342450261116, 0.05786684900522232, 0.05786684900522232, 0.02893342450261116, 0.2824955880641937, 0.5649911761283875, 0.10705467313528061, 0.16058200597763062, 0.16058200597763062, 0.053527336567640305, 0.026763668283820152, 0.09367284178733826, 0.053527336567640305, 0.040145501494407654, 0.026763668283820152, 0.026763668283820152, 0.053527336567640305, 0.040145501494407654, 0.026763668283820152, 0.013381834141910076, 0.026763668283820152, 0.040145501494407654, 0.040145501494407654, 0.6391894817352295, 0.23660993576049805, 0.7098298072814941, 0.06155514344573021, 0.12311028689146042, 0.4924411475658417, 0.06155514344573021, 0.06155514344573021, 0.06155514344573021, 0.678069531917572, 0.0847586914896965, 0.0847586914896965, 0.0847586914896965, 0.46202635765075684, 0.46202635765075684, 0.2059258371591568, 0.0411851666867733, 0.1029629185795784, 0.02059258334338665, 0.1235555037856102, 0.0617777518928051, 0.0823703333735466, 0.0823703333735466, 0.02059258334338665, 0.02059258334338665, 0.0411851666867733, 0.0823703333735466, 0.02059258334338665, 0.02059258334338665, 0.0411851666867733, 0.02059258334338665, 0.25382882356643677, 0.25382882356643677, 0.5076576471328735, 0.3895459771156311, 0.3895459771156311, 0.41928038001060486, 0.41928038001060486, 0.11509179323911667, 0.4603671729564667, 0.057545896619558334, 0.1726376861333847, 0.11509179323911667, 0.057545896619558334, 0.1997411847114563, 0.0665803998708725, 0.3329019844532013, 0.0665803998708725, 0.0665803998708725, 0.0665803998708725, 0.1997411847114563, 0.19713841378688812, 0.032856401056051254, 0.22999481856822968, 0.032856401056051254, 0.22999481856822968, 0.09856920689344406, 0.032856401056051254, 0.032856401056051254, 0.032856401056051254, 0.032856401056051254, 0.032856401056051254, 0.16707304120063782, 0.03341460973024368, 0.03341460973024368, 0.26731687784194946, 0.03341460973024368, 0.03341460973024368, 0.33414608240127563, 0.03341460973024368, 0.6542938351631165, 0.3271469175815582, 0.2101786881685257, 0.6305360794067383, 0.2101786881685257, 0.235891655087471, 0.1179458275437355, 0.3538374602794647, 0.1179458275437355, 0.37832170724868774, 0.37832170724868774, 0.6673079133033752, 0.17943274974822998, 0.05981091409921646, 0.5981091260910034, 1.0515141487121582, 0.6605050563812256, 0.31077709794044495, 0.6215541958808899, 0.8952476978302002, 0.6854021549224854, 0.3427010774612427, 0.2817409932613373, 0.5634819865226746, 0.05813934653997421, 0.10174385458230972, 0.14534837007522583, 0.04360450804233551, 0.10174385458230972, 0.04360450804233551, 0.10174385458230972, 0.029069673269987106, 0.04360450804233551, 0.029069673269987106, 0.029069673269987106, 0.05813934653997421, 0.029069673269987106, 0.04360450804233551, 0.04360450804233551, 0.014534836634993553, 0.029069673269987106, 0.014534836634993553, 0.014534836634993553, 0.014534836634993553, 0.748845100402832, 0.14976902306079865, 0.12078587710857391, 0.06039293855428696, 0.18117880821228027, 0.06039293855428696, 0.12078587710857391, 0.06039293855428696, 0.3019647002220154, 0.06039293855428696, 0.4268074333667755, 0.4268074333667755, 0.26286250352859497, 0.08762083202600479, 0.08762083202600479, 0.26286250352859497, 0.17524166405200958, 0.08762083202600479, 0.09957049041986465, 0.3186255693435669, 0.059742290526628494, 0.01991409808397293, 0.03982819616794586, 0.3186255693435669, 0.11948458105325699, 0.4359304904937744, 0.2179652452468872, 0.2179652452468872, 0.2806260585784912, 0.5612521171569824, 0.1007283553481102, 0.2014567106962204, 0.5036417841911316, 0.1007283553481102, 0.19844499230384827, 0.19844499230384827, 0.19844499230384827, 0.39688998460769653, 0.7426119446754456, 0.24753731489181519, 0.5864717960357666, 0.2932358980178833, 0.24960651993751526, 0.08320216834545135, 0.08320216834545135, 0.08320216834545135, 0.08320216834545135, 0.08320216834545135, 0.1664043366909027, 0.08320216834545135, 0.5390324592590332, 0.5390324592590332, 0.41528964042663574, 0.41528964042663574, 0.3386359214782715, 0.3386359214782715, 0.040795646607875824, 0.24477387964725494, 0.12238693982362747, 0.08159129321575165, 0.040795646607875824, 0.08159129321575165, 0.12238693982362747, 0.040795646607875824, 0.12238693982362747, 0.08159129321575165, 0.11952358484268188, 0.11952358484268188, 0.5976179242134094, 0.10762926936149597, 0.1793821156024933, 0.28701138496398926, 0.14350569248199463, 0.03587642312049866, 0.03587642312049866, 0.03587642312049866, 0.03587642312049866, 0.07175284624099731, 0.03587642312049866, 0.17396917939186096, 0.03479383513331413, 0.13917534053325653, 0.03479383513331413, 0.03479383513331413, 0.4175260365009308, 0.017396917566657066, 0.017396917566657066, 0.13917534053325653, 0.28271618485450745, 0.28271618485450745, 0.28271618485450745, 0.28271618485450745, 0.055729370564222336, 0.055729370564222336, 0.055729370564222336, 0.1671881228685379, 0.22291748225688934, 0.278646856546402, 0.055729370564222336, 0.47101977467536926, 0.47101977467536926, 0.22277341783046722, 0.14851561188697815, 0.14851561188697815, 0.14851561188697815, 0.07425780594348907, 0.22277341783046722, 0.34233930706977844, 0.34233930706977844, 0.34233930706977844, 0.1918458193540573, 0.0639486089348793, 0.5115888714790344, 0.1278972178697586, 0.0639486089348793, 0.32920026779174805, 0.1463112235069275, 0.03657780587673187, 0.03657780587673187, 0.1463112235069275, 0.03657780587673187, 0.18288902938365936, 0.03657780587673187, 0.03657780587673187, 0.9185117483139038, 0.2709708511829376, 0.1354854255914688, 0.15242110192775726, 0.0677427127957344, 0.0169356781989336, 0.0677427127957344, 0.05080703645944595, 0.0169356781989336, 0.0169356781989336, 0.0169356781989336, 0.08467839658260345, 0.0338713563978672, 0.0169356781989336, 0.0169356781989336, 0.6638651490211487, 0.22128838300704956, 0.8367222547531128, 0.33258116245269775, 0.33258116245269775, 0.33258116245269775, 0.8970645070075989, 0.3425545394420624, 0.1712772697210312, 0.3425545394420624, 0.23312310874462128, 0.0777077004313469, 0.0777077004313469, 0.03885385021567345, 0.03885385021567345, 0.1554154008626938, 0.03885385021567345, 0.03885385021567345, 0.0777077004313469, 0.03885385021567345, 0.0777077004313469, 0.0777077004313469, 0.17073962092399597, 0.17073962092399597, 0.17073962092399597, 0.17073962092399597, 0.05691320821642876, 0.17073962092399597, 0.34084510803222656, 0.34084510803222656, 0.34084510803222656, 0.27014124393463135, 0.21225383877754211, 0.09647901356220245, 0.03859160467982292, 0.03859160467982292, 0.01929580233991146, 0.05788740888237953, 0.03859160467982292, 0.09647901356220245, 0.01929580233991146, 0.01929580233991146, 0.01929580233991146, 0.01929580233991146, 0.01929580233991146, 0.6478945016860962, 0.2458682805299759, 0.4917365610599518, 0.43474024534225464, 0.43474024534225464, 0.1503199189901352, 0.10021327435970306, 0.1503199189901352, 0.05010663717985153, 0.05010663717985153, 0.25053319334983826, 0.20042654871940613, 0.7498341202735901, 0.18878182768821716, 0.23073334991931915, 0.06292727589607239, 0.10487879067659378, 0.08390303701162338, 0.020975759252905846, 0.04195151850581169, 0.04195151850581169, 0.020975759252905846, 0.04195151850581169, 0.020975759252905846, 0.020975759252905846, 0.020975759252905846, 0.06292727589607239, 0.020975759252905846, 0.2679273188114166, 0.04121958836913109, 0.06182938069105148, 0.020609794184565544, 0.4534154534339905, 0.020609794184565544, 0.020609794184565544, 0.06182938069105148, 0.14498117566108704, 0.09665411710739136, 0.04832705855369568, 0.04832705855369568, 0.09665411710739136, 0.04832705855369568, 0.4349435269832611, 0.04832705855369568, 0.13967883586883545, 0.2793576717376709, 0.2793576717376709, 0.13967883586883545, 0.09237103909254074, 0.12316139042377472, 0.03079034760594368, 0.1539517343044281, 0.06158069521188736, 0.09237103909254074, 0.03079034760594368, 0.06158069521188736, 0.06158069521188736, 0.277113139629364, 0.40478795766830444, 0.306732714176178, 0.613465428352356, 0.3402550220489502, 0.03402550145983696, 0.10207650810480118, 0.03402550145983696, 0.03402550145983696, 0.20415301620960236, 0.06805100291967392, 0.03402550145983696, 0.03402550145983696, 0.03402550145983696, 0.03402550145983696, 0.33128464221954346, 0.017436033114790916, 0.0523081012070179, 0.03487206622958183, 0.017436033114790916, 0.2092324048280716, 0.03487206622958183, 0.017436033114790916, 0.03487206622958183, 0.03487206622958183, 0.017436033114790916, 0.03487206622958183, 0.03487206622958183, 0.0523081012070179, 0.03487206622958183, 0.03487206622958183, 0.398647665977478, 0.12956178188323975, 0.05182471126317978, 0.20729884505271912, 0.05182471126317978, 0.07773706316947937, 0.20729884505271912, 0.02591235563158989, 0.05182471126317978, 0.10364942252635956, 0.02591235563158989, 0.02591235563158989, 0.13553732633590698, 0.6776865720748901, 0.0633593201637268, 0.10559886693954468, 0.2956768274307251, 0.021119773387908936, 0.14783841371536255, 0.0633593201637268, 0.021119773387908936, 0.021119773387908936, 0.021119773387908936, 0.04223954677581787, 0.021119773387908936, 0.021119773387908936, 0.04223954677581787, 0.021119773387908936, 0.04223954677581787, 0.7975315451622009, 0.2643764317035675, 0.14871174097061157, 0.01652352698147297, 0.09914115816354752, 0.06609410792589188, 0.0826176330447197, 0.04957057908177376, 0.01652352698147297, 0.03304705396294594, 0.03304705396294594, 0.06609410792589188, 0.03304705396294594, 0.01652352698147297, 0.01652352698147297, 0.01652352698147297, 0.01652352698147297, 0.34717628359794617, 0.6943525671958923, 0.23154599964618683, 0.09261840581893921, 0.23154599964618683, 0.046309202909469604, 0.046309202909469604, 0.046309202909469604, 0.09261840581893921, 0.046309202909469604, 0.046309202909469604, 0.046309202909469604, 0.8763042092323303, 0.055421050637960434, 0.22168420255184174, 0.11084210127592087, 0.055421050637960434, 0.4987894296646118, 0.2773998975753784, 0.2773998975753784, 0.2773998975753784, 0.20972348749637604, 0.2359389215707779, 0.026215435937047005, 0.026215435937047005, 0.2359389215707779, 0.026215435937047005, 0.07864630967378616, 0.07864630967378616, 0.026215435937047005, 0.026215435937047005, 0.18244197964668274, 0.18244197964668274, 0.18244197964668274, 0.3648839592933655, 0.19163019955158234, 0.09581509977579117, 0.47907549142837524, 0.09581509977579117, 0.09581509977579117, 0.18453021347522736, 0.13180729746818542, 0.18453021347522736, 0.05272291973233223, 0.158168762922287, 0.026361459866166115, 0.026361459866166115, 0.158168762922287, 0.026361459866166115, 0.026361459866166115, 0.34969562292099, 0.34969562292099, 0.34969562292099, 0.2343982309103012, 0.7031946778297424, 0.25457945466041565, 0.5091589093208313, 0.9104715585708618, 0.14030393958091736, 0.14030393958091736, 0.07015196979045868, 0.07015196979045868, 0.07015196979045868, 0.3507598340511322, 0.8078324198722839, 0.2520330846309662, 0.5040661692619324, 0.1260165423154831, 0.16609367728233337, 0.08304683864116669, 0.24914053082466125, 0.41523420810699463, 0.20585417747497559, 0.0343090295791626, 0.0686180591583252, 0.42886286973953247, 0.0343090295791626, 0.0171545147895813, 0.10292708873748779, 0.0171545147895813, 0.0171545147895813, 0.0343090295791626, 0.1507304459810257, 0.20097391307353973, 0.10048695653676987, 0.07536522299051285, 0.025121739134192467, 0.07536522299051285, 0.050243478268384933, 0.025121739134192467, 0.025121739134192467, 0.025121739134192467, 0.050243478268384933, 0.025121739134192467, 0.025121739134192467, 0.025121739134192467, 0.10048695653676987, 0.025121739134192467, 0.3863881826400757, 0.3863881826400757, 0.3863881826400757, 0.02477700635790825, 0.8176411986351013, 0.07433102279901505, 0.02477700635790825, 0.02477700635790825, 0.02477700635790825, 0.02477700635790825, 0.5244315266609192, 0.2622157633304596, 0.1636384278535843, 0.1963661164045334, 0.0327276848256588, 0.0654553696513176, 0.0981830582022667, 0.0654553696513176, 0.0327276848256588, 0.0327276848256588, 0.0654553696513176, 0.0981830582022667, 0.0654553696513176, 0.0327276848256588, 0.0327276848256588, 0.3606971204280853, 0.3606971204280853, 0.3606971204280853, 0.8806045055389404, 0.22509834170341492, 0.4051770269870758, 0.09003934264183044, 0.04501967132091522, 0.09003934264183044, 0.04501967132091522, 0.04501967132091522, 0.23335561156272888, 0.700066864490509, 0.4001333713531494, 0.17016440629959106, 0.34032881259918213, 0.34032881259918213, 0.17016440629959106, 0.5886269807815552, 0.05886269733309746, 0.05886269733309746, 0.05886269733309746, 0.11772539466619492, 0.05886269733309746, 0.05886269733309746, 0.04856806993484497, 0.19427227973937988, 0.3399764895439148, 0.04856806993484497, 0.19427227973937988, 0.04856806993484497, 0.04856806993484497, 0.04856806993484497, 0.666822075843811, 0.07363171130418777, 0.05522378161549568, 0.09203963726758957, 0.22089512646198273, 0.05522378161549568, 0.03681585565209389, 0.05522378161549568, 0.3497506082057953, 0.018407927826046944, 0.4521290063858032, 0.2836264967918396, 0.18908432126045227, 0.18908432126045227, 0.2836264967918396, 0.8457072377204895, 0.15912580490112305, 0.6365032196044922, 0.15912580490112305, 0.34360337257385254, 0.34360337257385254, 0.34360337257385254, 0.23667870461940765, 0.7100360989570618, 0.1459525227546692, 0.5838100910186768, 0.1459525227546692, 0.17136125266551971, 0.17136125266551971, 0.34272250533103943, 0.08568062633275986, 0.08568062633275986, 0.08568062633275986, 0.3380047380924225, 0.03380047529935837, 0.1014014184474945, 0.03380047529935837, 0.03380047529935837, 0.03380047529935837, 0.06760095059871674, 0.06760095059871674, 0.06760095059871674, 0.16900236904621124, 0.43463048338890076, 0.14487682282924652, 0.43463048338890076, 0.7452641725540161, 0.12421069294214249, 0.6324808597564697, 0.10541347414255142, 0.10541347414255142, 0.6943552494049072, 0.09919360280036926, 0.09919360280036926, 0.13571687042713165, 0.13571687042713165, 0.06785843521356583, 0.02261948026716709, 0.09047792106866837, 0.18095584213733673, 0.09047792106866837, 0.02261948026716709, 0.06785843521356583, 0.04523896053433418, 0.02261948026716709, 0.04523896053433418, 0.02261948026716709, 0.02261948026716709, 0.6412019729614258, 0.6984944939613342, 0.8735435009002686, 0.09912052750587463, 0.011013392359018326, 0.03304017707705498, 0.429522305727005, 0.011013392359018326, 0.011013392359018326, 0.2863481938838959, 0.011013392359018326, 0.05506696179509163, 0.011013392359018326, 0.02202678471803665, 0.7547106146812439, 0.37735530734062195, 0.451229065656662, 0.053085774183273315, 0.15925732254981995, 0.07962866127490997, 0.19907164573669434, 0.013271443545818329, 0.026542887091636658, 0.5707768201828003, 0.5707768201828003, 0.7406619787216187, 0.1903340369462967, 0.06344467401504517, 0.06344467401504517, 0.06344467401504517, 0.06344467401504517, 0.1903340369462967, 0.06344467401504517, 0.12688934803009033, 0.06344467401504517, 0.24317558109760284, 0.4863511621952057, 0.1221160814166069, 0.02442321553826332, 0.1221160814166069, 0.41519466042518616, 0.07326965034008026, 0.03663482517004013, 0.08548125624656677, 0.01221160776913166, 0.02442321553826332, 0.01221160776913166, 0.01221160776913166, 0.02442321553826332, 0.01221160776913166, 0.01221160776913166, 0.6384768486022949, 0.8828554153442383, 0.07565494626760483, 0.2647923231124878, 0.037827473133802414, 0.037827473133802414, 0.07565494626760483, 0.07565494626760483, 0.037827473133802414, 0.037827473133802414, 0.15130989253520966, 0.11348242312669754, 0.037827473133802414, 0.037827473133802414, 0.037827473133802414, 0.037827473133802414, 0.6607258915901184, 0.661823034286499, 0.2206076830625534, 0.04740331321954727, 0.3318231999874115, 0.42662981152534485, 0.09480662643909454, 0.04740331321954727, 0.04740331321954727, 0.7102212905883789, 0.5017367005348206, 0.5017367005348206, 0.11540324240922928, 0.23080648481845856, 0.23080648481845856, 0.11540324240922928, 0.11540324240922928, 0.23080648481845856, 0.19146661460399628, 0.7658664584159851, 0.7754318118095398, 0.11077596992254257, 0.3195376396179199, 0.6390752792358398, 0.29306820034980774, 0.5861364006996155, 0.16357600688934326, 0.014870546758174896, 0.7435272932052612, 0.014870546758174896, 0.04461164027452469, 0.38458001613616943, 0.19229000806808472, 0.38458001613616943, 0.15942808985710144, 0.15942808985710144, 0.15942808985710144, 0.3188561797142029, 0.16083034873008728, 0.16083034873008728, 0.16083034873008728, 0.32166069746017456, 0.08041517436504364, 0.7534418702125549, 0.12796558439731598, 0.5118623375892639, 0.12796558439731598, 0.06398279219865799, 0.06398279219865799, 0.4272143244743347, 0.21360716223716736, 0.21360716223716736, 0.1184287890791893, 0.1184287890791893, 0.31581011414527893, 0.1184287890791893, 0.07895252853631973, 0.039476264268159866, 0.07895252853631973, 0.039476264268159866, 0.27092158794403076, 0.5418431758880615, 0.18394611775875092, 0.05410180240869522, 0.021640719845891, 0.6384012699127197, 0.0108203599229455, 0.021640719845891, 0.0108203599229455, 0.021640719845891, 0.0108203599229455, 0.021640719845891, 0.6819359064102173, 0.17048397660255432, 0.7610084414482117, 0.11159832775592804, 0.11159832775592804, 0.06564607471227646, 0.2297612577676773, 0.07221068441867828, 0.06564607471227646, 0.05251685902476311, 0.039387647062540054, 0.07221068441867828, 0.006564607378095388, 0.026258429512381554, 0.006564607378095388, 0.019693823531270027, 0.03282303735613823, 0.006564607378095388, 0.019693823531270027, 0.013129214756190777, 0.013129214756190777, 0.019693823531270027, 0.013129214756190777, 0.30059146881103516, 0.30059146881103516, 0.6396569013595581, 0.15991422533988953, 0.07995711266994476, 0.6503408551216125, 0.3251704275608063, 0.3277316391468048, 0.3277316391468048, 0.1968366652727127, 0.7873466610908508, 0.12721005082130432, 0.06360502541065216, 0.06360502541065216, 0.44523516297340393, 0.19081507623195648, 0.04879802092909813, 0.04879802092909813, 0.04879802092909813, 0.39038416743278503, 0.19519208371639252, 0.09759604185819626, 0.09759604185819626, 0.7323141098022461, 0.18307852745056152, 0.14352542161941528, 0.5741016864776611, 0.28705084323883057, 0.9441057443618774, 0.31312209367752075, 0.10437403619289398, 0.05218701809644699, 0.05218701809644699, 0.10437403619289398, 0.05218701809644699, 0.05218701809644699, 0.05218701809644699, 0.10437403619289398, 0.10437403619289398, 0.0797925740480423, 0.0797925740480423, 0.3191702961921692, 0.0797925740480423, 0.2393777221441269, 0.0797925740480423, 0.0797925740480423, 0.0797925740480423, 0.5761657953262329, 0.28142982721328735, 0.5628596544265747, 0.22636201977729797, 0.025151336565613747, 0.22636201977729797, 0.10060534626245499, 0.05030267313122749, 0.07545401155948639, 0.025151336565613747, 0.025151336565613747, 0.025151336565613747, 0.025151336565613747, 0.05030267313122749, 0.07545401155948639, 0.18449804186820984, 0.026356864720582962, 0.15814118087291718, 0.026356864720582962, 0.18449804186820984, 0.026356864720582962, 0.07907059043645859, 0.026356864720582962, 0.026356864720582962, 0.026356864720582962, 0.07907059043645859, 0.15814118087291718, 0.5086781978607178, 0.08477970212697983, 0.16955940425395966, 0.16955940425395966, 0.24774546921253204, 0.055054549127817154, 0.11010909825563431, 0.027527274563908577, 0.11010909825563431, 0.027527274563908577, 0.08258182555437088, 0.1926909238100052, 0.027527274563908577, 0.055054549127817154, 0.027527274563908577, 0.885581374168396, 0.1576894372701645, 0.06307577341794968, 0.2680720388889313, 0.1576894372701645, 0.07884471863508224, 0.01576894335448742, 0.18922731280326843, 0.01576894335448742, 0.01576894335448742, 0.11557861417531967, 0.23115722835063934, 0.11557861417531967, 0.057789307087659836, 0.057789307087659836, 0.23115722835063934, 0.057789307087659836, 0.057789307087659836, 0.057789307087659836, 0.8102495670318604, 0.17953139543533325, 0.3590627908706665, 0.04488284885883331, 0.04488284885883331, 0.08976569771766663, 0.13464854657649994, 0.04488284885883331, 0.04488284885883331, 0.5323366522789001, 0.1064673364162445, 0.3194020092487335, 0.5349818468093872, 0.178327277302742, 0.178327277302742, 0.25261250138282776, 0.08420416712760925, 0.08420416712760925, 0.08420416712760925, 0.1684083342552185, 0.25261250138282776, 0.22288158535957336, 0.02122681774199009, 0.03184022754430771, 0.18042795360088348, 0.03184022754430771, 0.4563765823841095, 0.02122681774199009, 0.3917642831802368, 0.3917642831802368, 0.8162339925765991, 0.3367401957511902, 0.11224673688411713, 0.3367401957511902, 0.07483115792274475, 0.037415578961372375, 0.037415578961372375, 0.35861799120903015, 0.17930899560451508, 0.35861799120903015, 0.7040698528289795, 0.23468993604183197, 0.13840587437152863, 0.1660870611667633, 0.027681175619363785, 0.08304353058338165, 0.027681175619363785, 0.027681175619363785, 0.05536235123872757, 0.1937682330608368, 0.22144940495491028, 0.3758854866027832, 0.3758854866027832, 0.3025273084640503, 0.0336141474545002, 0.5042122006416321, 0.0336141474545002, 0.0672282949090004, 0.0336141474545002, 0.16038908064365387, 0.32077816128730774, 0.16038908064365387, 0.32077816128730774, 0.6212623119354248, 0.103543721139431, 0.207087442278862, 0.103543721139431, 0.20687228441238403, 0.20687228441238403, 0.41374456882476807, 0.025225987657904625, 0.8324576020240784, 0.07567796111106873, 0.025225987657904625, 0.05045197531580925, 0.09934169799089432, 0.19868339598178864, 0.39736679196357727, 0.09934169799089432, 0.09934169799089432, 0.09934169799089432, 0.8904092907905579, 0.14879316091537476, 0.02975863218307495, 0.07439658045768738, 0.34222427010536194, 0.19343110918998718, 0.0595172643661499, 0.07439658045768738, 0.04463794827461243, 0.02975863218307495, 0.014879316091537476, 0.232020303606987, 0.04971863701939583, 0.2651660740375519, 0.18230167031288147, 0.033145759254693985, 0.14915591478347778, 0.033145759254693985, 0.016572879627346992, 0.016572879627346992, 0.047902267426252365, 0.047902267426252365, 0.047902267426252365, 0.09580453485250473, 0.047902267426252365, 0.3832181394100189, 0.19160906970500946, 0.047902267426252365, 0.9553072452545166, 0.2775219678878784, 0.2775219678878784, 0.1387609839439392, 0.2775219678878784, 0.10575598478317261, 0.10575598478317261, 0.7402918934822083, 0.015107997693121433, 0.015107997693121433, 0.015107997693121433, 0.5855288505554199, 0.29276442527770996, 0.29009443521499634, 0.29009443521499634, 0.5801888704299927, 0.14907310903072357, 0.14907310903072357, 0.6388847827911377, 0.02129615843296051, 0.02129615843296051, 0.02129615843296051, 0.02129615843296051, 0.6241310238838196, 0.3120655119419098, 0.3277796506881714, 0.3277796506881714, 0.3277796506881714, 0.19795335829257965, 0.19795335829257965, 0.19795335829257965, 0.3959067165851593, 0.18085730075836182, 0.18085730075836182, 0.18085730075836182, 0.36171460151672363, 0.42395564913749695, 0.42395564913749695, 0.49129927158355713, 0.49129927158355713, 0.17397233843803406, 0.17397233843803406, 0.5219170451164246, 0.44331786036491394, 0.08866357058286667, 0.08866357058286667, 0.08866357058286667, 0.17732714116573334, 0.31724610924720764, 0.15862305462360382, 0.15862305462360382, 0.31724610924720764, 0.09067922830581665, 0.1813584566116333, 0.09067922830581665, 0.4080565273761749, 0.045339614152908325, 0.09067922830581665, 0.045339614152908325, 0.4240548312664032, 0.2120274156332016, 0.4240548312664032, 0.16756372153759003, 0.033512745052576065, 0.05026911944150925, 0.33512744307518005, 0.3016147017478943, 0.033512745052576065, 0.016756372526288033, 0.033512745052576065, 0.6061017513275146, 0.40445849299430847, 0.40445849299430847, 0.8412224054336548, 0.3957499563694, 0.3957499563694, 0.5440111756324768, 0.5440111756324768, 0.38702842593193054, 0.38702842593193054, 0.17768149077892303, 0.17768149077892303, 0.35536298155784607, 0.15343636274337769, 0.6137454509735107, 0.15343636274337769, 0.23521149158477783, 0.23521149158477783, 0.47042298316955566, 0.6077554225921631, 0.4051702618598938, 0.7053687572479248, 0.15674862265586853, 0.07837431132793427, 0.13370543718338013, 0.019100775942206383, 0.09550388157367706, 0.0573023296892643, 0.5348217487335205, 0.1146046593785286, 0.019100775942206383, 0.019100775942206383, 0.7980862259864807, 0.1556866466999054, 0.1556866466999054, 0.10379109531641006, 0.05189554765820503, 0.05189554765820503, 0.3113732933998108, 0.05189554765820503, 0.05189554765820503, 0.4129009544849396, 0.4129009544849396, 0.34324872493743896, 0.34324872493743896, 0.17466188967227936, 0.13099642097949982, 0.6113166213035583, 0.02183273620903492, 0.02183273620903492, 0.556725800037384, 0.06549715250730515, 0.03274857625365257, 0.06549715250730515, 0.06549715250730515, 0.03274857625365257, 0.06549715250730515, 0.22770430147647858, 0.6831128597259521, 0.101911760866642, 0.3057352900505066, 0.101911760866642, 0.06794117391109467, 0.101911760866642, 0.03397058695554733, 0.03397058695554733, 0.03397058695554733, 0.03397058695554733, 0.03397058695554733, 0.03397058695554733, 0.03397058695554733, 0.18867941200733185, 0.3773588240146637, 0.3773588240146637, 0.18867941200733185, 0.48388174176216125, 0.48388174176216125, 0.3415992558002472, 0.3415992558002472, 0.3415992558002472, 0.3249954581260681, 0.16249772906303406, 0.3249954581260681, 0.16249772906303406, 0.2059953361749649, 0.19014954566955566, 0.03169159218668938, 0.047537386417388916, 0.047537386417388916, 0.01584579609334469, 0.01584579609334469, 0.17430375516414642, 0.01584579609334469, 0.01584579609334469, 0.03169159218668938, 0.047537386417388916, 0.03169159218668938, 0.03169159218668938, 0.047537386417388916, 0.5066370368003845, 0.10132740437984467, 0.10132740437984467, 0.10132740437984467, 0.10132740437984467, 0.10132740437984467, 0.24903850257396698, 0.24903850257396698, 0.49807700514793396, 0.6527536511421204, 0.36183497309684753, 0.15507212281227112, 0.31014424562454224, 0.051690708845853806, 0.062035828828811646, 0.062035828828811646, 0.6203582882881165, 0.062035828828811646, 0.062035828828811646, 0.062035828828811646, 0.7229573726654053, 0.097154900431633, 0.097154900431633, 0.097154900431633, 0.097154900431633, 0.5829293727874756, 0.2580425441265106, 0.16127659380435944, 0.06451063603162766, 0.03225531801581383, 0.03225531801581383, 0.16127659380435944, 0.03225531801581383, 0.03225531801581383, 0.03225531801581383, 0.03225531801581383, 0.03225531801581383, 0.06451063603162766, 0.03225531801581383, 0.1537703573703766, 0.1537703573703766, 0.10251357406377792, 0.46131110191345215, 0.05125678703188896, 0.05125678703188896, 0.1485523134469986, 0.17826277017593384, 0.05942092463374138, 0.02971046231687069, 0.02971046231687069, 0.11884184926748276, 0.1485523134469986, 0.05942092463374138, 0.08913138508796692, 0.05942092463374138, 0.02971046231687069, 0.02971046231687069, 0.1478862315416336, 0.1478862315416336, 0.09859082102775574, 0.04929541051387787, 0.09859082102775574, 0.04929541051387787, 0.04929541051387787, 0.09859082102775574, 0.1478862315416336, 0.7409078478813171, 0.12348464131355286, 0.8434562683105469, 0.12049374729394913, 0.5872189402580261, 0.29360947012901306, 0.09979359060525894, 0.19958718121051788, 0.09979359060525894, 0.39917436242103577, 0.09979359060525894, 0.18070349097251892, 0.18070349097251892, 0.5421104431152344, 0.14269636571407318, 0.14269636571407318, 0.04756545647978783, 0.04756545647978783, 0.28539273142814636, 0.04756545647978783, 0.04756545647978783, 0.04756545647978783, 0.04756545647978783, 0.04756545647978783, 0.29274725914001465, 0.14637362957000732, 0.02439560554921627, 0.14637362957000732, 0.04879121109843254, 0.02439560554921627, 0.07318681478500366, 0.04879121109843254, 0.1219780221581459, 0.02439560554921627, 0.02439560554921627, 0.06466641277074814, 0.12933282554149628, 0.06466641277074814, 0.06466641277074814, 0.12933282554149628, 0.25866565108299255, 0.12933282554149628, 0.32139962911605835, 0.6427992582321167, 0.36106398701667786, 0.36106398701667786, 0.6325761079788208, 0.05271467566490173, 0.26357337832450867, 0.7648452520370483, 0.08498280495405197, 0.08498280495405197, 0.08498280495405197, 0.15541203320026398, 0.12347805500030518, 0.10005980730056763, 0.10857553035020828, 0.10218873620033264, 0.046836502850055695, 0.07451262325048447, 0.03619184345006943, 0.017031455412507057, 0.01916038803756237, 0.0319339819252491, 0.008515727706253529, 0.027676116675138474, 0.0319339819252491, 0.02554718405008316, 0.04470757395029068, 0.010644660331308842, 0.014902523718774319, 0.004257863853126764, 0.017031455412507057, 0.15758615732192993, 0.7879307866096497, 0.6228265762329102, 0.08897522836923599, 0.08897522836923599, 0.17795045673847198, 0.1548878252506256, 0.46466347575187683, 0.1548878252506256, 0.047316163778305054, 0.14194849133491516, 0.4258454740047455, 0.09463232755661011, 0.14194849133491516, 0.047316163778305054, 0.09463232755661011, 0.3138769567012787, 0.4708154499530792, 0.8627097010612488, 0.08627096563577652, 0.11553739011287689, 0.34661218523979187, 0.11553739011287689, 0.23107478022575378, 0.11553739011287689, 0.11553739011287689, 0.31951525807380676, 0.07987881451845169, 0.039939407259225845, 0.039939407259225845, 0.15975762903690338, 0.039939407259225845, 0.039939407259225845, 0.039939407259225845, 0.039939407259225845, 0.07987881451845169, 0.039939407259225845, 0.07987881451845169, 0.039939407259225845, 0.1718159317970276, 0.1718159317970276, 0.3436318635940552, 0.3436318635940552, 0.28796157240867615, 0.08469458669424057, 0.1355113387107849, 0.05081675201654434, 0.03387783467769623, 0.08469458669424057, 0.016938917338848114, 0.016938917338848114, 0.016938917338848114, 0.016938917338848114, 0.016938917338848114, 0.016938917338848114, 0.06775566935539246, 0.05081675201654434, 0.03387783467769623, 0.05081675201654434, 0.3771020174026489, 0.03428199887275696, 0.03428199887275696, 0.44566601514816284, 0.03428199887275696, 0.03428199887275696, 0.01714099943637848, 0.01714099943637848, 0.04900083690881729, 0.01633361354470253, 0.9310159087181091, 0.09250260889530182, 0.7400208711624146, 0.1488286703824997, 0.049609556794166565, 0.1488286703824997, 0.049609556794166565, 0.049609556794166565, 0.049609556794166565, 0.049609556794166565, 0.049609556794166565, 0.19843822717666626, 0.19843822717666626, 0.13438072800636292, 0.13438072800636292, 0.13438072800636292, 0.5375229120254517, 0.4112483263015747, 0.06854138523340225, 0.17135345935821533, 0.034270692616701126, 0.10281208157539368, 0.034270692616701126, 0.034270692616701126, 0.06854138523340225, 0.034270692616701126, 0.6623280048370361, 0.16558200120925903, 0.5022382140159607, 0.1004476472735405, 0.05022382363677025, 0.200895294547081, 0.05022382363677025, 0.2906365692615509, 0.03875154256820679, 0.019375771284103394, 0.3293881118297577, 0.23250925540924072, 0.03875154256820679, 0.019375771284103394, 0.019375771284103394, 0.1925104260444641, 0.5775312781333923, 0.1925104260444641, 0.3473006784915924, 0.5209510326385498, 0.16099408268928528, 0.32198816537857056, 0.16099408268928528, 0.32198816537857056, 0.2844342291355133, 0.07757297158241272, 0.051715314388275146, 0.051715314388275146, 0.025857657194137573, 0.15514594316482544, 0.025857657194137573, 0.051715314388275146, 0.07757297158241272, 0.051715314388275146, 0.025857657194137573, 0.051715314388275146, 0.025857657194137573, 0.025857657194137573, 0.25081297755241394, 0.5016259551048279, 0.3022482693195343, 0.6044965386390686, 0.23716723918914795, 0.23716723918914795, 0.4743344783782959, 0.3052569031715393, 0.10175230354070663, 0.10175230354070663, 0.10175230354070663, 0.10175230354070663, 0.20350460708141327, 0.20019668340682983, 0.20019668340682983, 0.40039336681365967, 0.2535655200481415, 0.2535655200481415, 0.507131040096283, 0.40733444690704346, 0.40733444690704346, 0.4175134003162384, 0.4175134003162384, 0.0521891750395298, 0.0521891750395298, 0.45220446586608887, 0.45220446586608887, 0.29296448826789856, 0.03662056103348732, 0.1831028014421463, 0.07324112206697464, 0.10986167937517166, 0.03662056103348732, 0.07324112206697464, 0.03662056103348732, 0.03662056103348732, 0.03662056103348732, 0.48209959268569946, 0.48209959268569946, 0.5527229905128479, 0.27636149525642395, 0.6146703958511353, 0.2836940288543701, 0.02364116907119751, 0.04728233814239502, 0.12912294268608093, 0.645614743232727, 0.24300344288349152, 0.24300344288349152, 0.24300344288349152, 0.26321837306022644, 0.13160918653011322, 0.13160918653011322, 0.26321837306022644, 0.37332120537757874, 0.12444040179252625, 0.2488808035850525, 0.12444040179252625, 0.20477807521820068, 0.20477807521820068, 0.05119451880455017, 0.05119451880455017, 0.3583616316318512, 0.05119451880455017, 0.9261986017227173, 0.27413231134414673, 0.06091829389333725, 0.1218365877866745, 0.06091829389333725, 0.15229573845863342, 0.06091829389333725, 0.06091829389333725, 0.030459146946668625, 0.1218365877866745, 0.9418752193450928, 0.22043277323246002, 0.22043277323246002, 0.07347758859395981, 0.07347758859395981, 0.14695517718791962, 0.22043277323246002, 0.07073723524808884, 0.023579079657793045, 0.8016887307167053, 0.04715815931558609, 0.04715815931558609, 0.26418671011924744, 0.26418671011924744, 0.5283734202384949, 0.2949622869491577, 0.5899245738983154, 0.6973056197166443, 0.2324352115392685, 0.2556464970111847, 0.04260775074362755, 0.6391162872314453, 0.021303875371813774, 0.04260775074362755, 0.6571606993675232, 0.732527494430542, 0.24417583644390106, 0.47096508741378784, 0.47096508741378784, 0.2298208475112915, 0.2298208475112915, 0.459641695022583, 0.35968804359436035, 0.08463247865438461, 0.16926495730876923, 0.06347435712814331, 0.08463247865438461, 0.08463247865438461, 0.021158119663596153, 0.021158119663596153, 0.021158119663596153, 0.021158119663596153, 0.021158119663596153, 0.16288591921329498, 0.16288591921329498, 0.040721479803323746, 0.16288591921329498, 0.040721479803323746, 0.040721479803323746, 0.08144295960664749, 0.040721479803323746, 0.12216444313526154, 0.040721479803323746, 0.3134550452232361, 0.6269100904464722, 0.36873310804367065, 0.36873310804367065, 0.30584853887557983, 0.6116970777511597, 0.3875061571598053, 0.3875061571598053, 0.2619323134422302, 0.1309661567211151, 0.06548307836055756, 0.1309661567211151, 0.06548307836055756, 0.1309661567211151, 0.06548307836055756, 0.06548307836055756, 0.04882187768816948, 0.04882187768816948, 0.04882187768816948, 0.14646562933921814, 0.04882187768816948, 0.04882187768816948, 0.04882187768816948, 0.39057502150535583, 0.04882187768816948, 0.04882187768816948, 0.04882187768816948, 0.0560622438788414, 0.1962178498506546, 0.1401556134223938, 0.0840933695435524, 0.0840933695435524, 0.0280311219394207, 0.0560622438788414, 0.0280311219394207, 0.1401556134223938, 0.0840933695435524, 0.0280311219394207, 0.0280311219394207, 0.0280311219394207, 0.6702182292938232, 0.22340607643127441, 0.6870023608207703, 0.37033456563949585, 0.37033456563949585, 0.37033456563949585, 0.1774570345878601, 0.1774570345878601, 0.1774570345878601, 0.3549140691757202, 0.1774570345878601, 0.12616010010242462, 0.693880558013916, 0.06308005005121231, 0.06308005005121231, 0.340095192193985, 0.68019038438797, 0.0573585107922554, 0.2294340431690216, 0.4588680863380432, 0.0573585107922554, 0.0573585107922554, 0.0573585107922554, 0.2916272282600403, 0.02243286371231079, 0.15703004598617554, 0.04486572742462158, 0.02243286371231079, 0.02243286371231079, 0.13459718227386475, 0.02243286371231079, 0.20189577341079712, 0.06729859113693237, 0.14885619282722473, 0.04961873218417168, 0.14885619282722473, 0.04961873218417168, 0.04961873218417168, 0.14885619282722473, 0.09923746436834335, 0.1984749287366867, 0.06755755841732025, 0.20267267525196075, 0.270230233669281, 0.20267267525196075, 0.1351151168346405, 0.1351151168346405, 0.07686874270439148, 0.07686874270439148, 0.3074749708175659, 0.07686874270439148, 0.3074749708175659, 0.18274949491024017, 0.18274949491024017, 0.18274949491024017, 0.36549898982048035, 0.18942414224147797, 0.7576965689659119, 0.9364858269691467, 0.3727671802043915, 0.3727671802043915, 0.22637753188610077, 0.33956632018089294, 0.33956632018089294, 0.17145103216171265, 0.3143268823623657, 0.08572551608085632, 0.08572551608085632, 0.05715034529566765, 0.028575172647833824, 0.05715034529566765, 0.028575172647833824, 0.05715034529566765, 0.05715034529566765, 0.028575172647833824, 0.4298901855945587, 0.4298901855945587, 0.7240641117095947, 0.27196982502937317, 0.27196982502937317, 0.27196982502937317, 0.1516829878091812, 0.6067319512367249, 0.1516829878091812, 0.466780424118042, 0.466780424118042, 0.34945398569107056, 0.34945398569107056, 0.8841227293014526, 0.11980649083852768, 0.14975811541080475, 0.11980649083852768, 0.08985486626625061, 0.08985486626625061, 0.02995162270963192, 0.26956459879875183, 0.05990324541926384, 0.02995162270963192, 0.2901751697063446, 0.5803503394126892, 0.6667601466178894, 0.14976738393306732, 0.44930216670036316, 0.14976738393306732, 0.14976738393306732, 0.16967153549194336, 0.05358048528432846, 0.06251056492328644, 0.25004225969314575, 0.10716097056865692, 0.044650401920080185, 0.08930080384016037, 0.044650401920080185, 0.03572032228112221, 0.008930080570280552, 0.017860161140561104, 0.008930080570280552, 0.008930080570280552, 0.017860161140561104, 0.017860161140561104, 0.017860161140561104, 0.017860161140561104, 0.017860161140561104, 0.017860161140561104, 0.008930080570280552, 0.8141587376594543, 0.6384103298187256, 0.7717544436454773, 0.487680047750473, 0.487680047750473, 0.12908832728862762, 0.12908832728862762, 0.12908832728862762, 0.38726499676704407, 0.12908832728862762, 0.11299102008342743, 0.11299102008342743, 0.11299102008342743, 0.22598204016685486, 0.3389730751514435, 0.3988233506679535, 0.3988233506679535, 0.7027724385261536, 0.3513862192630768, 0.0826464593410492, 0.0826464593410492, 0.0826464593410492, 0.1652929186820984, 0.3305858373641968, 0.1652929186820984, 0.0826464593410492, 0.10053202509880066, 0.0753990188241005, 0.7791232466697693, 0.025133006274700165, 0.025133006274700165, 0.11606521904468536, 0.24373696744441986, 0.023213043808937073, 0.046426087617874146, 0.05803260952234268, 0.08124565333127975, 0.06963913142681122, 0.046426087617874146, 0.011606521904468536, 0.06963913142681122, 0.05803260952234268, 0.03481956571340561, 0.08124565333127975, 0.023213043808937073, 0.023213043808937073, 0.22362391650676727, 0.22362391650676727, 0.44724783301353455, 0.34070146083831787, 0.6814029216766357, 0.09888485819101334, 0.03296161815524101, 0.06592323631048203, 0.13184647262096405, 0.13184647262096405, 0.13184647262096405, 0.03296161815524101, 0.09888485819101334, 0.19776971638202667, 0.03296161815524101, 0.16691340506076813, 0.33382681012153625, 0.33382681012153625, 0.35972893238067627, 0.17986446619033813, 0.059954822063446045, 0.059954822063446045, 0.059954822063446045, 0.11990964412689209, 0.059954822063446045, 0.2366432100534439, 0.7099296450614929, 0.29908108711242676, 0.04272586852312088, 0.619525134563446, 0.02136293426156044, 0.6487693190574646, 0.2359173744916916, 0.04718347266316414, 0.07077521085739136, 0.09436694532632828, 0.02359173633158207, 0.09436694532632828, 0.04718347266316414, 0.04718347266316414, 0.02359173633158207, 0.02359173633158207, 0.07077521085739136, 0.02359173633158207, 0.02359173633158207, 0.1179586872458458, 0.02359173633158207, 0.02359173633158207, 0.16381743550300598, 0.1774688959121704, 0.10921162366867065, 0.1774688959121704, 0.12286308407783508, 0.040954358875751495, 0.027302905917167664, 0.013651452958583832, 0.027302905917167664, 0.013651452958583832, 0.027302905917167664, 0.013651452958583832, 0.027302905917167664, 0.013651452958583832, 0.7602636218070984, 0.7093430757522583, 0.5215675234794617, 0.5215675234794617, 0.2791319489479065, 0.558263897895813, 0.2791319489479065, 0.24855297803878784, 0.08603756874799728, 0.09081742912530899, 0.23899324238300323, 0.04779864847660065, 0.02867918834090233, 0.03823892027139664, 0.02867918834090233, 0.05257851257920265, 0.023899324238300323, 0.014339594170451164, 0.014339594170451164, 0.014339594170451164, 0.014339594170451164, 0.00955973006784916, 0.00955973006784916, 0.00955973006784916, 0.00477986503392458, 0.014339594170451164, 0.00477986503392458, 0.44088014960289, 0.08817602694034576, 0.35270410776138306, 0.08817602694034576, 0.04295579344034195, 0.1718231737613678, 0.0859115868806839, 0.12886737287044525, 0.04295579344034195, 0.0859115868806839, 0.04295579344034195, 0.0859115868806839, 0.04295579344034195, 0.0859115868806839, 0.12886737287044525, 0.04295579344034195, 0.24143561720848083, 0.12071780860424042, 0.12071780860424042, 0.36215341091156006, 0.26705119013786316, 0.5341023802757263, 0.488496869802475, 0.26170188188552856, 0.26170188188552856, 0.39255282282829285, 0.1585862636566162, 0.06343450397253036, 0.1903035193681717, 0.03171725198626518, 0.06343450397253036, 0.03171725198626518, 0.06343450397253036, 0.03171725198626518, 0.3171725273132324, 0.49338874220848083, 0.49338874220848083, 0.4962952733039856, 0.0620369091629982, 0.0620369091629982, 0.0620369091629982, 0.1240738183259964, 0.0620369091629982, 0.3861240744590759, 0.3861240744590759, 0.6289572715759277, 0.27273038029670715, 0.27273038029670715, 0.27273038029670715, 0.2915857136249542, 0.5831714272499084, 0.16029921174049377, 0.4808976352214813, 0.16029921174049377, 0.11849920451641083, 0.059249602258205414, 0.7109952569007874, 0.40497544407844543, 0.20248772203922272, 0.2536744773387909, 0.04227907583117485, 0.12683723866939545, 0.04227907583117485, 0.04227907583117485, 0.1691163033246994, 0.12683723866939545, 0.04227907583117485, 0.04227907583117485, 0.04227907583117485, 0.48467767238616943, 0.08077961206436157, 0.3231184482574463, 0.6810869574546814, 0.12383399903774261, 0.12383399903774261, 0.683251678943634, 0.22775055468082428, 0.5065926909446716, 0.2532963454723358, 0.7346562743186951, 0.2448854297399521, 0.21933111548423767, 0.21933111548423767, 0.43866223096847534, 0.07022220641374588, 0.07022220641374588, 0.07022220641374588, 0.07022220641374588, 0.21066661179065704, 0.07022220641374588, 0.07022220641374588, 0.2808888256549835, 0.6769965291023254, 0.31431981921195984, 0.02417844720184803, 0.2553941309452057, 0.08513137698173523, 0.17026275396347046, 0.028377125039696693, 0.028377125039696693, 0.14188562333583832, 0.028377125039696693, 0.028377125039696693, 0.028377125039696693, 0.028377125039696693, 0.05675425007939339, 0.028377125039696693, 0.028377125039696693, 0.8194897174835205, 0.04552720859646797, 0.04552720859646797, 0.04552720859646797, 0.193606898188591, 0.029785675927996635, 0.05957135185599327, 0.34253525733947754, 0.029785675927996635, 0.05957135185599327, 0.14892837405204773, 0.04467851296067238, 0.04467851296067238, 0.014892837963998318, 0.014892837963998318, 0.014892837963998318, 0.02765056863427162, 0.22120454907417297, 0.7189147472381592, 0.0281276386231184, 0.0562552772462368, 0.9000844359397888, 0.6688147187232971, 0.22293825447559357, 0.4612131416797638, 0.4612131416797638, 0.39124199748039246, 0.39124199748039246, 0.2292899638414383, 0.4585799276828766, 0.2607978284358978, 0.5215956568717957, 0.6202111840248108, 0.20673707127571106, 0.10336853563785553, 0.5093074440956116, 0.05658971890807152, 0.05658971890807152, 0.05658971890807152, 0.05658971890807152, 0.05658971890807152, 0.05658971890807152, 0.8392799496650696, 0.43035179376602173, 0.21517589688301086, 0.43035179376602173, 0.34379440546035767, 0.34379440546035767, 0.3713759779930115, 0.3713759779930115, 0.740080714225769, 0.07400806993246078, 0.07400806993246078, 0.07400806993246078, 0.6686820387840271, 0.22289401292800903, 0.24604196846485138, 0.24604196846485138, 0.49208393692970276, 0.27322661876678467, 0.27322661876678467, 0.27322661876678467, 0.11584916710853577, 0.11584916710853577, 0.03861638903617859, 0.15446555614471436, 0.07723277807235718, 0.07723277807235718, 0.03861638903617859, 0.11584916710853577, 0.11584916710853577, 0.07723277807235718, 0.07723277807235718, 0.11564482003450394, 0.1734672337770462, 0.05782241001725197, 0.5782241225242615, 0.1301361471414566, 0.6506807208061218, 0.6009750962257385, 0.10016251355409622, 0.20032502710819244, 0.11806359142065048, 0.11806359142065048, 0.590317964553833, 0.7636165618896484, 0.775772213935852, 0.06827796995639801, 0.20483390986919403, 0.06827796995639801, 0.10241695493459702, 0.10241695493459702, 0.06827796995639801, 0.10241695493459702, 0.034138984978199005, 0.06827796995639801, 0.06827796995639801, 0.034138984978199005, 0.034138984978199005, 0.06827796995639801, 0.034138984978199005, 0.4065465033054352, 0.11615614593029022, 0.29039034247398376, 0.05807807296514511, 0.09820502251386642, 0.09820502251386642, 0.19641004502773285, 0.4910251200199127, 0.6666469573974609, 0.5462961792945862, 0.1092592403292656, 0.1092592403292656, 0.0546296201646328, 0.0273148100823164, 0.0546296201646328, 0.327092707157135, 0.1635463535785675, 0.11894280463457108, 0.014867850579321384, 0.02973570115864277, 0.08920710533857346, 0.014867850579321384, 0.02973570115864277, 0.014867850579321384, 0.014867850579321384, 0.02973570115864277, 0.02973570115864277, 0.04460355266928673, 0.014867850579321384, 0.014867850579321384, 0.014867850579321384, 0.5872870087623596, 0.2936435043811798, 0.17389582097530365, 0.057965271174907684, 0.11593054234981537, 0.17389582097530365, 0.23186108469963074, 0.11593054234981537, 0.11593054234981537, 0.42293569445610046, 0.42293569445610046, 0.17390307784080505, 0.17390307784080505, 0.08695153892040253, 0.02173788473010063, 0.10868942737579346, 0.04347576946020126, 0.10868942737579346, 0.04347576946020126, 0.02173788473010063, 0.04347576946020126, 0.04347576946020126, 0.0652136579155922, 0.02173788473010063, 0.02173788473010063, 0.46070683002471924, 0.46070683002471924, 0.42160648107528687, 0.42160648107528687, 0.7491785287857056, 0.40224921703338623, 0.20112460851669312, 0.20112460851669312, 0.04615163430571556, 0.32306143641471863, 0.09230326861143112, 0.09230326861143112, 0.13845489919185638, 0.09230326861143112, 0.09230326861143112, 0.15687330067157745, 0.15687330067157745, 0.6274932026863098, 0.15505830943584442, 0.31011661887168884, 0.15505830943584442, 0.31011661887168884, 0.18306514620780945, 0.4576628506183624, 0.09153257310390472, 0.09153257310390472, 0.24441863596439362, 0.48883727192878723, 0.24441863596439362, 0.3202696442604065, 0.2135131061077118, 0.1067565530538559, 0.035585515201091766, 0.07117103040218353, 0.035585515201091766, 0.035585515201091766, 0.1067565530538559, 0.035585515201091766, 0.6486462354660034, 0.21621541678905487, 0.14714953303337097, 0.14714953303337097, 0.15580539405345917, 0.09521440416574478, 0.04327927529811859, 0.10387025773525238, 0.025967564433813095, 0.04327927529811859, 0.008655854500830173, 0.034623418003320694, 0.008655854500830173, 0.05193512886762619, 0.034623418003320694, 0.034623418003320694, 0.017311709001660347, 0.008655854500830173, 0.017311709001660347, 0.008655854500830173, 0.008655854500830173, 0.17332175374031067, 0.0674029067158699, 0.09628986567258835, 0.2599826455116272, 0.01925797387957573, 0.03851594775915146, 0.028886960819363594, 0.10591885447502136, 0.01925797387957573, 0.03851594775915146, 0.028886960819363594, 0.028886960819363594, 0.009628986939787865, 0.009628986939787865, 0.048144932836294174, 0.009628986939787865, 0.009628986939787865, 0.6076143980026245, 0.30380719900131226, 0.3212350606918335, 0.642470121383667, 0.34862980246543884, 0.6972596049308777, 0.11320087313652039, 0.11320087313652039, 0.03773362562060356, 0.03773362562060356, 0.07546725124120712, 0.07546725124120712, 0.03773362562060356, 0.33960261940956116, 0.03773362562060356, 0.03773362562060356, 0.03773362562060356, 0.03773362562060356, 0.03773362562060356, 1.014911413192749, 0.18354254961013794, 0.7494654059410095, 0.045885637402534485, 0.015295212157070637, 0.22480136156082153, 0.1466095894575119, 0.06841780990362167, 0.10751369595527649, 0.04886986315250397, 0.04886986315250397, 0.05864383280277252, 0.019547944888472557, 0.02932191640138626, 0.05864383280277252, 0.019547944888472557, 0.009773972444236279, 0.04886986315250397, 0.019547944888472557, 0.009773972444236279, 0.009773972444236279, 0.019547944888472557, 0.019547944888472557, 0.02932191640138626, 0.009773972444236279, 0.46383944153785706], \"Term\": [\"1,000\", \"1,000\", \"1,000\", \"1,000_memorable\", \"100\", \"100\", \"100\", \"100\", \"100\", \"100\", \"100\", \"100\", \"11:00\", \"11:00\", \"14-year_old\", \"14-year_old\", \"15\", \"15\", \"15\", \"15\", \"15_minute\", \"15_minute\", \"17:45_weekday\", \"2000\", \"2000\", \"2000\", \"2004\", \"2004\", \"2004\", \"2011\", \"2011\", \"2011\", \"20_year\", \"20_year\", \"22\", \"22\", \"22\", \"22\", \"30/01/2018\", \"30/01/2018\", \"30_minute\", \"30_minute\", \"32\", \"32\", \"40\", \"40\", \"40\", \"40,000\", \"AFP_Images\", \"AFP_Images\", \"AFP_Images\", \"Actress\", \"Africa\", \"Africa\", \"Africa\", \"Africa\", \"Amazon\", \"Amazon\", \"Amazon\", \"America\", \"America\", \"America\", \"America\", \"America\", \"America\", \"America\", \"America\", \"Americans\", \"Americans\", \"Anderson\", \"Android\", \"Android\", \"Ansar_Dine\", \"Ansar_Dine\", \"Ansar_Dine\", \"Ansar_Dine\", \"Argentina\", \"Argentina\", \"Attenborough_Earth\", \"Australia\", \"Best\", \"Brexit\", \"Brexit\", \"Brexit\", \"Brexit\", \"Brexit\", \"Brexiteers\", \"Brexiteers\", \"Britain\", \"Britain\", \"Bruno_Mars\", \"Bruno_Mars\", \"CIA\", \"Central\", \"Central\", \"Centre\", \"Centre\", \"China\", \"China\", \"China\", \"China\", \"Chris\", \"Chris\", \"Chris\", \"Christian\", \"Colin\", \"Colin\", \"Commission\", \"Commission\", \"Congress\", \"Congress\", \"Congress\", \"Dave\", \"Dave\", \"Dave\", \"David\", \"David\", \"David\", \"David\", \"David\", \"David\", \"David\", \"Democrats\", \"Democrats\", \"Democrats\", \"Democrats\", \"Dmitry_Peskov\", \"EPA\", \"EPA\", \"EU\", \"EU\", \"EU\", \"EU\", \"EU\", \"EU\", \"Eastern\", \"England\", \"England\", \"England\", \"Europe\", \"Europe\", \"Europe\", \"Europe\", \"Europe\", \"Europe\", \"Europe\", \"Europe\", \"Facebook\", \"Facebook\", \"Facebook\", \"February\", \"Florida\", \"Florida\", \"Florida\", \"Florida\", \"France\", \"France\", \"France\", \"France\", \"France\", \"France\", \"Friday\", \"Friday\", \"Friday\", \"GMT\", \"GMT\", \"GMT\", \"God\", \"Google\", \"Grammys\", \"Grammys\", \"Grammys\", \"Grammys\", \"Images\", \"Images\", \"Images\", \"Images\", \"Images\", \"Images\", \"Images\", \"Images\", \"Images\", \"Images\", \"Images\", \"Images\", \"Images\", \"India\", \"India\", \"India\", \"Instagram_bbcnewsent\", \"Instagram_bbcnewsent\", \"Iran_North_Korea\", \"Iran_North_Korea\", \"Israel\", \"Israel\", \"Israel\", \"Japan\", \"Japan\", \"Japan\", \"Jonathan\", \"Jonathan\", \"Jonathan\", \"Jonathan\", \"Jones\", \"Jones\", \"Jones\", \"Jones\", \"Jones\", \"Jones\", \"Kidal\", \"Kidal\", \"Korea\", \"Korea\", \"Kremlin\", \"Kremlin\", \"London\", \"London\", \"London\", \"London\", \"London\", \"London\", \"London\", \"London\", \"London\", \"Martin\", \"Martin\", \"Media\", \"Media\", \"Mexico\", \"Mexico\", \"Museum\", \"Museum\", \"Netherlands\", \"Netherlands\", \"Netherlands\", \"New\", \"New\", \"New\", \"New\", \"New\", \"News\", \"News\", \"News\", \"News\", \"News\", \"News\", \"News_app\", \"News_app\", \"News_app\", \"OurBluePlanet_collaboration\", \"Palestine\", \"Palestine\", \"Parliament\", \"People\", \"People\", \"People\", \"People\", \"Play_Apple\", \"President\", \"President\", \"President\", \"President\", \"President\", \"Putin\", \"Putin\", \"Putin\", \"Radio\", \"Radio\", \"Radio\", \"Radio\", \"Radio\", \"Radio\", \"Radio\", \"Radio\", \"Radio\", \"Radio_1Xtra\", \"Red\", \"Red\", \"Reuters\", \"Reuters\", \"Reuters\", \"Reuters\", \"Reuters\", \"Reuters\", \"Reuters\", \"Reuters\", \"Russia\", \"Russia\", \"Russia\", \"Russia\", \"Russia\", \"Russia\", \"Russia\", \"Russians\", \"Russians\", \"Sally\", \"Sally\", \"Sir_David_Attenborough\", \"South_Africa\", \"South_Africa\", \"South_Africa\", \"South_Africa\", \"South_Africa\", \"Story_Life_app_available\", \"Story_Life_produce\", \"Street\", \"Street\", \"Street\", \"Sweden\", \"Sweden\", \"Sweden\", \"Taiwan\", \"Taiwan\", \"Tim\", \"Tim\", \"Tim\", \"Times\", \"Times\", \"Times\", \"Travel\", \"Travel\", \"Trump\", \"Trump\", \"Trump\", \"Trump\", \"Trump\", \"Trump\", \"Trump\", \"Trump\", \"Trump\", \"Trump\", \"Trump\", \"Trump_Russia\", \"Trump_Russia\", \"Tuareg\", \"Tuareg\", \"Twitter\", \"Twitter\", \"Twitter\", \"Twitter\", \"Twitter\", \"Twitter\", \"Twitter\", \"Twitter\", \"UK\", \"UK\", \"UK\", \"UK\", \"UK\", \"UK\", \"UK\", \"UK\", \"UK\", \"UK\", \"UK\", \"UK\", \"UK\", \"UK\", \"UK_government\", \"UK_government\", \"United\", \"United\", \"United_States\", \"United_States\", \"United_States\", \"United_States\", \"United_States\", \"University\", \"University\", \"University\", \"University\", \"University\", \"University\", \"University\", \"University\", \"University\", \"University\", \"Video\", \"Video\", \"Video\", \"Vladimir_Putin\", \"Vladimir_Putin\", \"Vladimir_Putin\", \"Wood\", \"Wood\", \"absolute\", \"absolutely\", \"absolutely\", \"absurd\", \"absurd\", \"abuse\", \"abuse\", \"accent\", \"accent\", \"accept\", \"accept\", \"accept\", \"accept\", \"accept\", \"accept\", \"accept_responsibility\", \"accept_responsibility\", \"accept_responsibility\", \"accident\", \"accident\", \"accord\", \"accord\", \"accord\", \"accord\", \"accord\", \"accord\", \"accord\", \"accord\", \"accord\", \"accord\", \"accord\", \"account\", \"account\", \"account\", \"account\", \"accusation\", \"accuse\", \"accuse\", \"accuse\", \"accuse\", \"act\", \"act\", \"act\", \"act\", \"act\", \"act\", \"act\", \"act\", \"act\", \"act\", \"activity\", \"activity\", \"activity\", \"activity\", \"activity\", \"activity\", \"activity\", \"actor\", \"actor\", \"actor\", \"actor\", \"actor\", \"actor\", \"add\", \"add\", \"add\", \"add\", \"add\", \"add\", \"add\", \"add\", \"add\", \"add\", \"add\", \"add\", \"add\", \"add\", \"add\", \"add\", \"add\", \"add\", \"additional\", \"additional\", \"additional\", \"additional\", \"admire\", \"admire\", \"aftermath\", \"aftermath\", \"age\", \"age\", \"age\", \"age\", \"age\", \"age\", \"age\", \"age\", \"age\", \"aircraft\", \"aircraft\", \"aircraft\", \"al\", \"al\", \"al\", \"album\", \"album\", \"alert\", \"alert\", \"alert\", \"algorithm\", \"algorithm\", \"algorithm\", \"allegation\", \"allegation\", \"allegation\", \"alleged_meddling\", \"alleged_meddling\", \"american\", \"american\", \"american\", \"american\", \"american\", \"american\", \"analysis\", \"analysis\", \"analysis\", \"analysis\", \"analysis\", \"analysis\", \"anger\", \"anger\", \"animal\", \"animal\", \"animal\", \"animal\", \"animal\", \"animal\", \"animal\", \"animal\", \"animal\", \"animal\", \"animal\", \"animal\", \"answer_question\", \"answer_question\", \"ant\", \"ant\", \"anytime_smartphone\", \"apart\", \"apart\", \"app\", \"app\", \"app\", \"app\", \"app\", \"app\", \"app_store\", \"application\", \"application\", \"application\", \"appreciate\", \"appreciate\", \"appreciate\", \"appropriate\", \"appropriate\", \"approve\", \"area\", \"area\", \"area\", \"area\", \"area\", \"area\", \"area\", \"area\", \"area\", \"area\", \"area\", \"area\", \"armed\", \"armed\", \"armed\", \"arrangement\", \"arrangement\", \"art\", \"art\", \"art\", \"art\", \"artificial\", \"artificial\", \"artificial\", \"artist\", \"artist\", \"artist\", \"artist\", \"artist\", \"ask\", \"ask\", \"ask\", \"ask\", \"ask\", \"ask\", \"ask\", \"ask\", \"ask\", \"ask\", \"ask\", \"ask\", \"ask_look\", \"ask_look\", \"assessment\", \"assessment\", \"asset\", \"asset\", \"attack\", \"attack\", \"attack\", \"attack\", \"attack\", \"attack\", \"attack\", \"attribute\", \"attribute\", \"audience\", \"audience\", \"audience\", \"audience\", \"audience\", \"audience\", \"author\", \"author\", \"author\", \"average\", \"average\", \"awareness\", \"awareness\", \"awareness\", \"away\", \"away\", \"away\", \"away\", \"away\", \"away\", \"away\", \"away\", \"away\", \"away\", \"backdrop\", \"bacteria\", \"battery\", \"battery\", \"bed\", \"bee\", \"bee\", \"bee\", \"beginning\", \"beginning\", \"believe\", \"believe\", \"believe\", \"believe\", \"believe\", \"believe\", \"believe\", \"believe\", \"believe\", \"believe\", \"believe\", \"believe\", \"believe\", \"benefit\", \"benefit\", \"benefit\", \"benefit\", \"benefit\", \"benefit\", \"benefit\", \"best_know\", \"better\", \"better\", \"better\", \"better\", \"better_watch\", \"big\", \"big\", \"big\", \"big\", \"big\", \"big\", \"big\", \"big\", \"big\", \"big\", \"big\", \"big\", \"big\", \"billionaire\", \"billionaire\", \"billionaire\", \"billionaire\", \"bird\", \"bird\", \"bird\", \"bit\", \"bit\", \"bit\", \"bit\", \"bit\", \"bit\", \"bit\", \"blame\", \"block\", \"block\", \"blog\", \"blog\", \"bloody\", \"bloody\", \"blow\", \"blow\", \"blow\", \"blow\", \"blow\", \"body\", \"body\", \"body\", \"body\", \"body\", \"body\", \"body\", \"body\", \"body\", \"body\", \"body\", \"bomb\", \"bomb\", \"bomb\", \"bone\", \"bone\", \"bone\", \"boost\", \"boost\", \"border\", \"border\", \"border\", \"border\", \"border\", \"border\", \"bounce\", \"bounce\", \"bow\", \"boy\", \"boy\", \"brain\", \"brain\", \"brain\", \"brain\", \"brain\", \"brief\", \"brief\", \"british\", \"british\", \"british\", \"british\", \"british\", \"broad\", \"broad\", \"broad\", \"broadcaster\", \"broadcaster\", \"broadcaster\", \"build\", \"build\", \"build\", \"build\", \"build\", \"build\", \"build\", \"build\", \"build\", \"build\", \"build\", \"building\", \"building\", \"building\", \"building\", \"building\", \"building\", \"bull\", \"bull\", \"bus\", \"bus\", \"bus\", \"bus\", \"bus\", \"business\", \"business\", \"business\", \"business\", \"business\", \"business\", \"business\", \"business\", \"business\", \"business\", \"business\", \"buy\", \"buy\", \"buy\", \"buy\", \"buy\", \"buy\", \"buy\", \"buy\", \"buy\", \"cafe\", \"cafe\", \"cafe\", \"cake\", \"cake\", \"call\", \"call\", \"call\", \"call\", \"call\", \"call\", \"call\", \"call\", \"call\", \"call\", \"call\", \"call\", \"call\", \"call\", \"call\", \"camera\", \"camera\", \"camera\", \"camera\", \"camera\", \"camera\", \"camera\", \"cancel\", \"case\", \"case\", \"case\", \"case\", \"case\", \"case\", \"case\", \"case\", \"case\", \"case\", \"case\", \"case\", \"case\", \"cash\", \"cash\", \"cash\", \"cash\", \"cause\", \"cause\", \"cause\", \"cause\", \"cause\", \"cause\", \"cause\", \"cave\", \"celebration\", \"celebration\", \"celebration\", \"chair\", \"chair\", \"chairman\", \"challenge\", \"challenge\", \"challenge\", \"challenge\", \"challenge\", \"chance\", \"chance\", \"chance\", \"chance\", \"chance\", \"chance\", \"chance\", \"chase\", \"chase\", \"chemical\", \"chicken\", \"chicken\", \"chicken\", \"chief\", \"chief\", \"chief\", \"child\", \"child\", \"child\", \"child\", \"child\", \"child\", \"child\", \"child\", \"child\", \"child\", \"child\", \"child\", \"child\", \"chinese\", \"chinese\", \"chinese\", \"chinese\", \"chocolate\", \"chocolate\", \"chocolate\", \"circumstance\", \"circumstance\", \"circumstance\", \"citizen\", \"citizen\", \"citizen\", \"citizen\", \"city\", \"city\", \"city\", \"city\", \"city\", \"city\", \"city\", \"city\", \"city\", \"city\", \"city\", \"city\", \"city\", \"civil\", \"civil\", \"civil\", \"claim\", \"claim\", \"claim\", \"claim\", \"claim\", \"claim\", \"claim\", \"claim\", \"claim\", \"claim\", \"claim\", \"claim\", \"claim\", \"class\", \"class\", \"class\", \"clever\", \"climate\", \"close\", \"close\", \"close\", \"close\", \"close\", \"close\", \"close\", \"close\", \"close\", \"cloud\", \"cloud\", \"club\", \"club\", \"club\", \"club\", \"club\", \"club\", \"co\", \"co\", \"co\", \"co\", \"co\", \"co\", \"co\", \"co\", \"coalition\", \"coalition\", \"coalition\", \"coast\", \"coast\", \"code\", \"code\", \"code\", \"code\", \"code\", \"collaboration_Sir_David\", \"colour\", \"colour\", \"colour\", \"colour\", \"colour\", \"colour\", \"come\", \"come\", \"come\", \"come\", \"come\", \"come\", \"come\", \"come\", \"come\", \"come\", \"come\", \"come\", \"come\", \"come\", \"come\", \"comfortable\", \"comfortable\", \"comment_story\", \"comment_story\", \"comment_story\", \"community\", \"community\", \"community\", \"community\", \"community\", \"community\", \"community\", \"community\", \"company\", \"company\", \"company\", \"company\", \"company\", \"company\", \"company\", \"company\", \"company\", \"company\", \"company\", \"company_AKQA\", \"compete\", \"compete\", \"compete\", \"compete\", \"competition\", \"competition\", \"competition\", \"compromise\", \"concern\", \"concern\", \"concern\", \"concern\", \"conduct\", \"conduct\", \"conduct\", \"conduct\", \"conduct\", \"connect\", \"connect\", \"connect\", \"connect\", \"connect\", \"connect\", \"consist\", \"consist\", \"consultation\", \"consumer\", \"consumer\", \"contemporary\", \"contemporary\", \"contemporary\", \"content\", \"content\", \"content\", \"content\", \"content\", \"content\", \"content\", \"content\", \"conversation\", \"conversation\", \"conversation\", \"convert\", \"convert\", \"convince\", \"cook\", \"cook\", \"copy\", \"copy\", \"coral\", \"core\", \"corner\", \"corner\", \"council\", \"country\", \"country\", \"country\", \"country\", \"country\", \"country\", \"country\", \"country\", \"country\", \"country\", \"country\", \"country\", \"country\", \"country\", \"country\", \"coup\", \"coup\", \"cousin\", \"cousin\", \"cousin\", \"coverage\", \"coverage\", \"crack\", \"crack\", \"crack\", \"craft\", \"craft\", \"craft\", \"craft\", \"crazy\", \"crest\", \"criminal\", \"criminal\", \"criminal\", \"criminal\", \"crisis\", \"crisis\", \"crisis\", \"cultural\", \"cultural\", \"curious\", \"curious\", \"curious\", \"curious\", \"customer\", \"customer\", \"customer\", \"customer\", \"customer\", \"cut\", \"cut\", \"cut\", \"cut\", \"cut\", \"cut\", \"cut\", \"cut\", \"darkness\", \"data\", \"data\", \"datum\", \"datum\", \"datum\", \"datum\", \"datum\", \"datum\", \"datum\", \"daughter\", \"daughter\", \"daughter\", \"daughter\", \"daughter\", \"day\", \"day\", \"day\", \"day\", \"day\", \"day\", \"day\", \"day\", \"day\", \"day\", \"day\", \"day\", \"day\", \"day\", \"day\", \"day\", \"day\", \"day\", \"deal\", \"deal\", \"deal\", \"deal\", \"deal\", \"deal\", \"deal\", \"deal\", \"dealer\", \"dealer\", \"dealer\", \"decade\", \"decade\", \"decade\", \"decade\", \"decade\", \"decade\", \"decade\", \"decade\", \"dedicated\", \"dedicated\", \"defend\", \"defend\", \"defend\", \"defend\", \"define\", \"deliver\", \"deliver\", \"deliver\", \"deliver\", \"deliver\", \"deliver\", \"deliver\", \"deliver\", \"deliver\", \"deliver\", \"democratic\", \"democratic\", \"democratic\", \"democratic\", \"deny\", \"deny\", \"deny\", \"deny\", \"deny\", \"describe\", \"describe\", \"describe\", \"describe\", \"describe\", \"describe\", \"describe\", \"describe\", \"describe\", \"describe\", \"describe\", \"describe\", \"description\", \"description\", \"description\", \"desert\", \"desert\", \"design\", \"design\", \"design\", \"design\", \"design\", \"design\", \"design\", \"design\", \"design\", \"design\", \"design\", \"design\", \"designer\", \"designer\", \"designer\", \"detail\", \"detail\", \"detail\", \"detail\", \"detail\", \"detail\", \"detail\", \"deter\", \"deter\", \"device\", \"device\", \"device\", \"device\", \"device\", \"device\", \"device\", \"device\", \"device\", \"devil\", \"devil\", \"devil\", \"devour\", \"die\", \"die\", \"die\", \"die\", \"die\", \"die\", \"die\", \"die\", \"difference\", \"director\", \"director\", \"director\", \"director\", \"director\", \"director\", \"director\", \"director\", \"director\", \"dirt\", \"dirt\", \"discover\", \"discover\", \"discover\", \"discover\", \"discover\", \"discover\", \"discover\", \"dish\", \"dish\", \"dish\", \"dish\", \"dish\", \"dish\", \"dismiss\", \"dismiss\", \"dismiss\", \"distract\", \"distract\", \"distract\", \"district\", \"district\", \"disturb\", \"document\", \"document\", \"document\", \"document\", \"document\", \"documentary\", \"documentary\", \"documentary\", \"download_Google\", \"drug\", \"drug\", \"drug\", \"drug\", \"drug\", \"dutch\", \"dutch\", \"dutch\", \"easily\", \"easily\", \"eat\", \"eat\", \"eat\", \"eat\", \"eat\", \"eat\", \"echo\", \"economic\", \"economic\", \"economic\", \"economic\", \"economy\", \"economy\", \"economy\", \"economy\", \"ecosystem\", \"ecosystem\", \"ecosystem\", \"effect\", \"effect\", \"effect\", \"effect\", \"effect\", \"effect\", \"election\", \"election\", \"election\", \"election\", \"election\", \"election\", \"election\", \"elite\", \"elite\", \"email_entertainment.news@bbc.co.uk\", \"email_entertainment.news@bbc.co.uk\", \"emit\", \"emit\", \"emotional\", \"emotional\", \"emotional\", \"employee\", \"employee\", \"employee\", \"employee\", \"employee\", \"end\", \"end\", \"end\", \"end\", \"end\", \"end\", \"end\", \"end\", \"end\", \"end\", \"end\", \"end\", \"end\", \"endanger\", \"endanger\", \"engage\", \"engage\", \"engage\", \"engage\", \"engagement\", \"engagement\", \"engineer\", \"enhanced\", \"entertain\", \"entertain\", \"entertain\", \"entirely\", \"entirely\", \"entity\", \"entry\", \"equivalent\", \"equivalent\", \"era\", \"era\", \"error\", \"error\", \"essential\", \"essential\", \"essential\", \"essential\", \"eventually\", \"eventually\", \"eventually\", \"evolve\", \"evolve\", \"evolve\", \"exact\", \"exact\", \"example\", \"example\", \"example\", \"example\", \"example\", \"example\", \"example\", \"example\", \"example\", \"example\", \"example\", \"exceptional\", \"exceptional\", \"exchange\", \"exchange\", \"exist\", \"exist\", \"exist\", \"exist\", \"exist\", \"exist\", \"exit\", \"exit\", \"exit\", \"expect\", \"expect\", \"expect\", \"expect\", \"expect\", \"expect\", \"expect\", \"expect\", \"expect\", \"expect\", \"expect\", \"experiment\", \"experiment\", \"experiment\", \"experiment\", \"experiment\", \"eye\", \"eye\", \"eye\", \"eye\", \"eye\", \"eye\", \"eye\", \"false\", \"false\", \"family\", \"family\", \"family\", \"family\", \"family\", \"family\", \"family\", \"family\", \"family\", \"family\", \"family\", \"family\", \"family\", \"family\", \"fan\", \"fan\", \"fan\", \"fan\", \"fantastic\", \"fantastic\", \"far_reach\", \"far_reach\", \"fashion\", \"fashion\", \"fast\", \"fast\", \"fast\", \"fast\", \"feel\", \"feel\", \"feel\", \"feel\", \"feel\", \"feel\", \"feel\", \"feel\", \"feel\", \"feel\", \"feel\", \"feel\", \"feel\", \"fill\", \"fill\", \"fill\", \"fill\", \"fill\", \"filmmaker\", \"filmmaker\", \"final\", \"final\", \"final\", \"final\", \"final\", \"final\", \"final\", \"final\", \"final\", \"final\", \"find\", \"find\", \"find\", \"find\", \"find\", \"find\", \"find\", \"find\", \"find\", \"find\", \"find\", \"find\", \"find\", \"find\", \"find\", \"find\", \"find_http://www.bbc.com/earth/storyoflife\", \"firm\", \"firm\", \"firm\", \"firm\", \"firm\", \"firm\", \"firm\", \"firm\", \"firm\", \"flag\", \"flag\", \"flag\", \"flawed\", \"flawed\", \"flight\", \"flight\", \"flight\", \"flight\", \"flight\", \"flight\", \"flood\", \"flood\", \"flower\", \"flower\", \"follow\", \"follow\", \"follow\", \"follow\", \"follow\", \"follow\", \"follow\", \"follow\", \"follow\", \"follow\", \"follow\", \"follow\", \"follow\", \"force\", \"force\", \"force\", \"force\", \"force\", \"force\", \"force\", \"force\", \"force\", \"forecast\", \"forecast\", \"forecast\", \"forest\", \"forest\", \"forest\", \"forest\", \"forest\", \"form\", \"form\", \"form\", \"form\", \"form\", \"form\", \"form\", \"form\", \"form\", \"form\", \"found\", \"found\", \"found\", \"found\", \"founder\", \"founder\", \"founder\", \"frontier\", \"frontier\", \"fruit\", \"fuel\", \"fuel\", \"fuel\", \"fuel\", \"fuel\", \"fund\", \"fund\", \"fund\", \"fund\", \"fund\", \"fund\", \"fund\", \"fund\", \"future\", \"future\", \"future\", \"future\", \"future\", \"future\", \"future\", \"future\", \"future\", \"game\", \"game\", \"game\", \"general\", \"general\", \"general\", \"general\", \"general\", \"general\", \"generation\", \"generation\", \"generation\", \"generation\", \"get\", \"get\", \"get\", \"get\", \"get\", \"get\", \"get\", \"get\", \"get\", \"get\", \"get\", \"get\", \"get\", \"get\", \"get\", \"girl\", \"girl\", \"girl\", \"girl\", \"girl\", \"girlfriend\", \"give\", \"give\", \"give\", \"give\", \"give\", \"give\", \"give\", \"give\", \"give\", \"give\", \"give\", \"give\", \"give\", \"give\", \"give\", \"glitter\", \"global\", \"global\", \"go\", \"go\", \"go\", \"go\", \"go\", \"go\", \"go\", \"go\", \"go\", \"go\", \"go\", \"go\", \"go\", \"go\", \"go\", \"go\", \"go\", \"gold\", \"gold\", \"gold\", \"good\", \"good\", \"good\", \"good\", \"good\", \"good\", \"good\", \"good\", \"good\", \"good\", \"good\", \"good\", \"good\", \"good\", \"good\", \"good\", \"good_news\", \"good_news\", \"good_thing\", \"good_thing\", \"govern\", \"govern\", \"govern\", \"government\", \"government\", \"government\", \"government\", \"government\", \"government\", \"government\", \"government\", \"government\", \"government\", \"government\", \"government\", \"government\", \"government\", \"gradual\", \"grave\", \"grave\", \"grave\", \"grow\", \"grow\", \"grow\", \"grow\", \"grow\", \"grow\", \"grow\", \"grow\", \"grow\", \"grow\", \"grow\", \"grow_body\", \"guest\", \"guest\", \"guest\", \"hand\", \"hand\", \"hand\", \"hand\", \"hand\", \"hand\", \"hand\", \"hand\", \"handle\", \"handle\", \"harm\", \"harm\", \"harm\", \"harm\", \"haunt\", \"head\", \"head\", \"head\", \"head\", \"head\", \"head\", \"head\", \"head\", \"head\", \"head\", \"head\", \"head\", \"head\", \"head\", \"head\", \"healthcare\", \"healthcare\", \"help\", \"help\", \"help\", \"help\", \"help\", \"help\", \"help\", \"help\", \"help\", \"help\", \"help\", \"help\", \"help\", \"help\", \"help\", \"help\", \"help\", \"help_stay\", \"hero\", \"hero\", \"hide\", \"hide\", \"hide\", \"hide\", \"hide\", \"hide\", \"highly\", \"highly\", \"highly\", \"highly\", \"historic\", \"historic\", \"home\", \"home\", \"home\", \"home\", \"home\", \"home\", \"home\", \"home\", \"home\", \"home\", \"home\", \"home\", \"home\", \"home\", \"home\", \"home\", \"homeless\", \"homeless\", \"homeless\", \"horizon\", \"horizon\", \"horse\", \"horse\", \"hospital\", \"hospital\", \"hospital\", \"hospital\", \"hospital\", \"hospital\", \"host\", \"host\", \"host\", \"host\", \"host\", \"host\", \"host\", \"house\", \"house\", \"house\", \"house\", \"house\", \"house\", \"house\", \"house\", \"house\", \"house\", \"house\", \"human\", \"human\", \"human\", \"human\", \"human\", \"human\", \"human\", \"human\", \"human_being\", \"human_being\", \"hunter\", \"hunter\", \"hunter\", \"husband\", \"husband\", \"husband\", \"husband\", \"iPhone\", \"iPhone\", \"idea_innovation\", \"image\", \"image\", \"image\", \"immediately_clear\", \"importantly\", \"impose_sanction\", \"impose_sanction\", \"impressed\", \"improved\", \"improved\", \"incident\", \"incident\", \"include\", \"include\", \"include\", \"include\", \"include\", \"include\", \"include\", \"include\", \"include\", \"include\", \"include\", \"include\", \"include\", \"include\", \"include\", \"include\", \"include\", \"include\", \"include\", \"include\", \"income\", \"income\", \"increase\", \"increase\", \"increase\", \"increase\", \"increase\", \"increase\", \"increase\", \"increase\", \"incredible\", \"incredible\", \"independent\", \"independent\", \"independent\", \"independent\", \"independent\", \"independent\", \"information\", \"information\", \"information\", \"information\", \"information\", \"information\", \"information\", \"ingredient\", \"ingredient\", \"ingredient\", \"initiative\", \"initiative\", \"injure\", \"injure\", \"injure\", \"injure\", \"intelligence\", \"intelligence\", \"intelligence\", \"intelligence\", \"interfere\", \"interfere\", \"intervention\", \"intervention\", \"introduce\", \"introduce\", \"introduce\", \"introduce\", \"introduce\", \"introduce\", \"introduce\", \"introduce\", \"invest\", \"invest\", \"iraqi\", \"iraqi\", \"israeli\", \"israeli\", \"issue\", \"issue\", \"issue\", \"issue\", \"issue\", \"issue\", \"issue\", \"issue\", \"issue\", \"issue\", \"item\", \"item\", \"item\", \"job\", \"job\", \"job\", \"job\", \"job\", \"job\", \"job\", \"job\", \"job\", \"job\", \"join\", \"join\", \"join\", \"join\", \"join\", \"join\", \"join\", \"join\", \"join\", \"joke\", \"joke\", \"joke\", \"joke\", \"journalist\", \"journalist\", \"journalist\", \"journalist\", \"journalist\", \"journalist\", \"journalist\", \"joy\", \"joy\", \"judge\", \"judge\", \"judge\", \"judge\", \"judge\", \"judge\", \"jump\", \"jump\", \"jump\", \"kick\", \"kick\", \"kick\", \"kick\", \"kick\", \"kill\", \"kill\", \"kill\", \"kill\", \"kill\", \"kill\", \"kill\", \"kill\", \"kill\", \"knock\", \"know\", \"know\", \"know\", \"know\", \"know\", \"know\", \"know\", \"know\", \"know\", \"know\", \"know\", \"know\", \"know\", \"know\", \"lab\", \"lab\", \"lady\", \"large_city\", \"large_city\", \"large_city\", \"large_number\", \"laugh\", \"laugh\", \"laugh\", \"law\", \"law\", \"law\", \"law\", \"law\", \"law\", \"law\", \"law\", \"law\", \"law\", \"law\", \"law\", \"leader\", \"leader\", \"leader\", \"leader\", \"leader\", \"leader\", \"lean\", \"lean\", \"lean\", \"leave\", \"leave\", \"leave\", \"leave\", \"leave\", \"leave\", \"leave\", \"leave\", \"leave\", \"leave\", \"leave\", \"leave\", \"leave\", \"leave\", \"leave_EU\", \"legend\", \"legend\", \"lengthy\", \"lengthy\", \"level\", \"level\", \"level\", \"level\", \"level\", \"level\", \"level\", \"library\", \"life\", \"life\", \"life\", \"life\", \"life\", \"life\", \"life\", \"life\", \"life\", \"life\", \"life\", \"life\", \"life\", \"life\", \"life\", \"light\", \"light\", \"light\", \"light\", \"light\", \"light\", \"light\", \"light\", \"link\", \"link\", \"link\", \"link\", \"link\", \"link\", \"link\", \"link\", \"lion\", \"lion\", \"lion\", \"lion\", \"list\", \"list\", \"list\", \"list\", \"list\", \"list\", \"list\", \"list\", \"list\", \"list\", \"listen_Newsbeat\", \"listener\", \"listener\", \"little\", \"little\", \"little\", \"little\", \"little\", \"little\", \"little\", \"little\", \"little\", \"little\", \"little\", \"live\", \"live\", \"live\", \"live\", \"live\", \"live\", \"live\", \"live\", \"live\", \"live\", \"live\", \"live\", \"live\", \"live\", \"live\", \"live\", \"live_12:45\", \"local\", \"local\", \"local\", \"local\", \"local\", \"local\", \"local\", \"local\", \"local\", \"local\", \"local\", \"logo\", \"logo\", \"long\", \"long\", \"long\", \"long\", \"long\", \"long\", \"long\", \"long\", \"long\", \"long\", \"long\", \"long\", \"long\", \"long\", \"long\", \"long_time\", \"look\", \"look\", \"look\", \"look\", \"look\", \"look\", \"look\", \"look\", \"look\", \"look\", \"look\", \"look\", \"look\", \"look\", \"look\", \"look\", \"look_forward\", \"look_forward\", \"lot\", \"lot\", \"lot\", \"lot\", \"lot\", \"lot\", \"lot\", \"lot\", \"lot\", \"lot\", \"lower\", \"machine\", \"machine\", \"machine\", \"machine\", \"machine\", \"magazine\", \"magazine\", \"magazine\", \"make\", \"make\", \"make\", \"make\", \"make\", \"make\", \"make\", \"make\", \"make\", \"make\", \"maker\", \"maker\", \"maker\", \"maker\", \"male\", \"male\", \"male\", \"male\", \"male\", \"man\", \"man\", \"man\", \"man\", \"man\", \"man\", \"man\", \"man\", \"man\", \"man\", \"man_woman\", \"man_woman\", \"man_woman\", \"manager\", \"manager\", \"march\", \"march\", \"marine\", \"market\", \"market\", \"market\", \"market\", \"market\", \"market\", \"marriage\", \"mate\", \"mate\", \"mate\", \"material\", \"material\", \"material\", \"material\", \"matter\", \"matter\", \"matter\", \"matter\", \"matter\", \"matter\", \"matter\", \"matter\", \"matter\", \"matter\", \"mean\", \"mean\", \"mean\", \"mean\", \"mean\", \"mean\", \"mean\", \"mean\", \"mean\", \"mean\", \"mean\", \"mean\", \"mean\", \"mean\", \"mean\", \"mean\", \"meat\", \"meat\", \"meat\", \"medium\", \"medium\", \"medium\", \"medium\", \"medium\", \"medium\", \"medium\", \"medium_play\", \"medium_play\", \"meet\", \"meet\", \"meet\", \"meet\", \"meet\", \"meet\", \"meet\", \"meet\", \"meet\", \"meet\", \"meet\", \"meet\", \"meet\", \"member_staff\", \"member_staff\", \"member_staff\", \"mid\", \"military\", \"military\", \"military\", \"military\", \"military\", \"military\", \"military\", \"minimise\", \"minimise\", \"miss_listen\", \"mobile\", \"mobile\", \"mobile\", \"mobile\", \"model\", \"model\", \"model\", \"model\", \"model\", \"model\", \"model\", \"moment\", \"moment\", \"moment\", \"moment\", \"moment\", \"moment\", \"moment\", \"moment\", \"moment_free\", \"money\", \"money\", \"money\", \"money\", \"money\", \"money\", \"money\", \"money\", \"money\", \"monitor\", \"monkey\", \"monkey\", \"monkey\", \"monkey\", \"month_later\", \"mood\", \"mood\", \"mood\", \"mosque\", \"mosque\", \"mosque\", \"mount\", \"mount\", \"murder\", \"murder\", \"murder\", \"music\", \"music\", \"music\", \"music\", \"music\", \"music\", \"name\", \"name\", \"name\", \"name\", \"name\", \"name\", \"name\", \"name\", \"name\", \"name\", \"native\", \"native\", \"native\", \"natural\", \"natural\", \"neighbour\", \"neighbour\", \"neighbour\", \"neighbourhood\", \"neighbourhood\", \"neighbourhood\", \"new\", \"new\", \"new\", \"new\", \"new\", \"new\", \"new\", \"new\", \"new\", \"new\", \"new\", \"new\", \"new\", \"new\", \"new_sanction\", \"newborn\", \"newly\", \"news\", \"news\", \"news\", \"news\", \"news\", \"news\", \"news\", \"news\", \"news\", \"news\", \"news\", \"nice\", \"nice\", \"night\", \"night\", \"night\", \"night\", \"night\", \"night\", \"night\", \"night_shift\", \"night_shift\", \"occur\", \"official\", \"official\", \"official\", \"official\", \"official\", \"official\", \"official\", \"official\", \"official\", \"officially\", \"officially\", \"old\", \"old\", \"old\", \"old\", \"old\", \"old\", \"old\", \"old\", \"old\", \"old\", \"old\", \"old\", \"old\", \"old\", \"old_girl\", \"ongoing\", \"open\", \"open\", \"open\", \"open\", \"open\", \"open\", \"open\", \"open\", \"open\", \"open\", \"open\", \"open\", \"open\", \"open\", \"opening\", \"opposition_leader\", \"opposition_leader\", \"order\", \"order\", \"order\", \"order\", \"order\", \"order\", \"organ\", \"organise\", \"organise\", \"original\", \"original\", \"original\", \"original\", \"original\", \"original\", \"outline\", \"outline\", \"output\", \"output\", \"overnight\", \"overnight\", \"overseas\", \"overseas\", \"pack\", \"pack\", \"pack\", \"pack\", \"pack\", \"page\", \"page\", \"page\", \"pair\", \"pair\", \"pair\", \"pair\", \"part\", \"part\", \"part\", \"part\", \"part\", \"particularly_badly\", \"party\", \"party\", \"party\", \"party\", \"party\", \"passenger\", \"passenger\", \"passenger\", \"past\", \"past\", \"past\", \"past\", \"past\", \"past\", \"past\", \"past\", \"past_year\", \"past_year\", \"pay\", \"pay\", \"pay\", \"pay\", \"pay\", \"pay\", \"pay\", \"pay\", \"pay\", \"pay\", \"payment\", \"payment\", \"penalty\", \"people\", \"people\", \"people\", \"people\", \"people\", \"people\", \"people\", \"people\", \"people\", \"people\", \"people\", \"people\", \"people\", \"people\", \"people\", \"people\", \"people\", \"people\", \"people\", \"people\", \"people_want\", \"people_want\", \"performance\", \"performance\", \"performance\", \"personality\", \"personality\", \"petrol\", \"petrol\", \"phase\", \"phase\", \"photo\", \"photo\", \"photo\", \"photo\", \"photo\", \"photograph\", \"photograph\", \"photograph\", \"photograph\", \"photograph\", \"photograph\", \"photograph\", \"photographer\", \"photographer\", \"photography\", \"photography\", \"photography\", \"physically\", \"pick\", \"pick\", \"pick\", \"pick\", \"pick\", \"pick\", \"pick\", \"pick\", \"pick\", \"pick\", \"picture\", \"picture\", \"picture\", \"picture\", \"picture\", \"picture\", \"picture\", \"picture\", \"pile\", \"pizza\", \"pizza\", \"place\", \"place\", \"place\", \"place\", \"place\", \"place\", \"place\", \"place\", \"place\", \"place\", \"place\", \"place\", \"plan\", \"plan\", \"plan\", \"plan\", \"plan\", \"plan\", \"plan\", \"plan\", \"plan\", \"plan\", \"plan\", \"plan\", \"platform\", \"platform\", \"platform\", \"platform\", \"play\", \"play\", \"play\", \"play\", \"play\", \"play\", \"play\", \"play\", \"play\", \"play\", \"play\", \"plus\", \"point\", \"point\", \"point\", \"point\", \"point\", \"point\", \"point\", \"point\", \"point\", \"police\", \"police\", \"police\", \"police\", \"police\", \"police\", \"police\", \"police\", \"police\", \"politic\", \"political\", \"political\", \"political\", \"political\", \"political\", \"political\", \"political\", \"political\", \"politician\", \"politician\", \"politician\", \"pollution\", \"pollution\", \"pollution\", \"population\", \"population\", \"population\", \"population\", \"population\", \"population\", \"post\", \"post\", \"post\", \"post\", \"post\", \"post\", \"post\", \"pot\", \"pot\", \"poverty\", \"predator\", \"predator\", \"predator\", \"predator\", \"predator\", \"predator\", \"presenter\", \"presenter\", \"presenter\", \"preserve\", \"preserve\", \"president\", \"president\", \"president\", \"president\", \"president\", \"president\", \"president\", \"president\", \"president\", \"prestigious\", \"prestigious\", \"prey\", \"prey\", \"prey\", \"prey\", \"prey\", \"prey\", \"price\", \"price\", \"price\", \"price\", \"prime_minister\", \"prime_minister\", \"prime_minister\", \"prime_minister\", \"principle\", \"principle\", \"principle\", \"private\", \"private\", \"private\", \"private\", \"private\", \"prize\", \"prize\", \"prize\", \"prize\", \"prize\", \"prize\", \"pro\", \"problem\", \"problem\", \"problem\", \"problem\", \"problem\", \"problem\", \"problem\", \"problem\", \"problem\", \"problem\", \"produce\", \"produce\", \"produce\", \"produce\", \"produce\", \"produce\", \"produce\", \"produce\", \"produce\", \"product\", \"product\", \"product\", \"product\", \"product\", \"product\", \"product\", \"product\", \"productivity\", \"professor\", \"professor\", \"professor\", \"professor\", \"promote\", \"promote\", \"promote\", \"promote\", \"promote\", \"promote\", \"proposal\", \"proposal\", \"prosecution\", \"prosecution\", \"prosecution\", \"prove\", \"prove\", \"prove\", \"prove\", \"prove\", \"prove\", \"prove\", \"provoke\", \"provoke\", \"public_service\", \"public_service\", \"public_service\", \"publication\", \"publication\", \"publication\", \"publication\", \"pull\", \"pull\", \"pull\", \"pull\", \"punish\", \"punish\", \"punishment\", \"punishment\", \"purchase\", \"purchase\", \"purchase\", \"push\", \"push\", \"push\", \"push\", \"push\", \"quarter\", \"quarter\", \"quarter\", \"quarter\", \"question\", \"question\", \"question\", \"question\", \"question\", \"question\", \"question\", \"quick\", \"quick\", \"quick\", \"quickly\", \"quickly\", \"quickly\", \"quickly\", \"quickly\", \"quickly\", \"quickly\", \"quickly\", \"quiet\", \"quiz\", \"quiz\", \"race\", \"radical\", \"radical\", \"rage\", \"rage\", \"rape\", \"rape\", \"rate\", \"rate\", \"rate\", \"rating\", \"rating\", \"rating\", \"raw\", \"raw\", \"raw\", \"real_life\", \"real_life\", \"recall\", \"recall\", \"recall\", \"recent\", \"recent\", \"recent\", \"recent\", \"recent\", \"recent\", \"recent\", \"recent\", \"recreate\", \"region\", \"region\", \"region\", \"region\", \"region\", \"region\", \"region\", \"region\", \"regional\", \"regional\", \"register\", \"register\", \"regular\", \"regular\", \"regular\", \"regular\", \"regular\", \"release\", \"release\", \"release\", \"release\", \"release\", \"release\", \"release\", \"relevant\", \"relevant\", \"remain\", \"remain\", \"remain\", \"remain\", \"remain\", \"remain\", \"remain\", \"remain\", \"remain\", \"remain\", \"remain\", \"remain\", \"remote\", \"remote\", \"remote\", \"remote\", \"renew\", \"renew\", \"replace\", \"replace\", \"replace\", \"reply\", \"reply\", \"reply\", \"reply\", \"report\", \"report\", \"report\", \"report\", \"report\", \"report\", \"report\", \"report\", \"report\", \"report\", \"report\", \"report\", \"report\", \"report\", \"report\", \"represent\", \"represent\", \"represent\", \"represent\", \"represent\", \"represent\", \"reputation\", \"reputation\", \"reputation\", \"rescue\", \"researcher\", \"researcher\", \"researcher\", \"researcher\", \"resident\", \"resident\", \"resident\", \"resident\", \"resident\", \"resident\", \"resolve\", \"respect\", \"respect\", \"respect\", \"respect\", \"respect\", \"return\", \"return\", \"return\", \"return\", \"return\", \"return\", \"return\", \"return\", \"return\", \"return\", \"return\", \"return\", \"return\", \"review\", \"review\", \"review\", \"review\", \"review\", \"review\", \"right\", \"right\", \"right\", \"right\", \"right\", \"right\", \"right\", \"right\", \"right\", \"right\", \"right\", \"right\", \"risk\", \"risk\", \"risk\", \"risk\", \"risk\", \"risk\", \"risk\", \"risk\", \"risk\", \"robot\", \"robot\", \"rocket\", \"rocket\", \"rose\", \"rose\", \"route\", \"route\", \"route\", \"route\", \"route\", \"routine\", \"routine\", \"routine\", \"rule\", \"rule\", \"rule\", \"rule\", \"rule\", \"rule\", \"rule\", \"rule\", \"rule\", \"rule\", \"run\", \"run\", \"run\", \"run\", \"run\", \"run\", \"run\", \"run\", \"run\", \"run\", \"run\", \"russian\", \"russian\", \"russian\", \"russian\", \"russian\", \"russian\", \"russian\", \"russian_official\", \"russian_official\", \"sad\", \"sad\", \"sanction\", \"sanction\", \"sanction\", \"satellite\", \"satellite\", \"satellite\", \"satellite\", \"say\", \"say\", \"say\", \"say\", \"say\", \"say\", \"say\", \"say\", \"say\", \"say\", \"say\", \"say\", \"say\", \"say\", \"say\", \"say\", \"say\", \"say\", \"say\", \"say\", \"scandal\", \"scandal\", \"scene\", \"scene\", \"scene\", \"scene\", \"scheme\", \"scheme\", \"scheme\", \"school\", \"school\", \"school\", \"school\", \"school\", \"school\", \"school\", \"script\", \"script\", \"seal\", \"seal\", \"search\", \"search\", \"search\", \"search\", \"search\", \"search\", \"second\", \"second\", \"second\", \"second\", \"second\", \"second\", \"second\", \"second\", \"second\", \"second\", \"second\", \"second\", \"second\", \"section\", \"section\", \"section\", \"section\", \"see\", \"see\", \"see\", \"see\", \"see\", \"see\", \"see\", \"see\", \"see\", \"see\", \"see\", \"see\", \"see\", \"see\", \"see\", \"see\", \"seek\", \"seek\", \"seek\", \"seek\", \"seek\", \"seek\", \"seek\", \"seek\", \"seize\", \"seize\", \"seize\", \"separatist\", \"separatist\", \"series\", \"series\", \"series\", \"series\", \"series\", \"series\", \"series\", \"series\", \"series\", \"series\", \"seriously\", \"seriously\", \"seriously\", \"seriously\", \"serve\", \"serve\", \"serve\", \"serve\", \"serve\", \"serve\", \"serve\", \"serve\", \"serve\", \"settlement\", \"settlement\", \"shape\", \"shape\", \"shape\", \"shape\", \"shape\", \"share\", \"share\", \"share\", \"share\", \"share\", \"share\", \"share\", \"share\", \"shift\", \"shift\", \"shift\", \"ship\", \"ship\", \"shock\", \"shock\", \"shock\", \"shock\", \"show\", \"show\", \"show\", \"show\", \"show\", \"show\", \"show\", \"show\", \"show\", \"show\", \"show\", \"show\", \"show\", \"show\", \"showcase\", \"showcase\", \"shrimp\", \"shrimp\", \"shy\", \"shy\", \"shy\", \"significant\", \"significant\", \"significant\", \"significant\", \"significant\", \"significant\", \"sing\", \"sing\", \"sing\", \"sink\", \"sink\", \"sink\", \"sister\", \"sister\", \"sleep\", \"sleep\", \"sleep\", \"sleep\", \"slogan\", \"slogan\", \"small\", \"small\", \"small\", \"small\", \"small\", \"small\", \"small\", \"small\", \"small\", \"small\", \"snack\", \"snack\", \"snap\", \"snap\", \"social\", \"social\", \"social\", \"social\", \"software\", \"software\", \"solid\", \"solid\", \"solid\", \"son\", \"son\", \"son\", \"son\", \"song\", \"song\", \"song\", \"song\", \"source\", \"source\", \"source\", \"source\", \"source\", \"source\", \"span\", \"specie\", \"specie\", \"specie\", \"specie\", \"specie\", \"specie\", \"specie\", \"specie\", \"specie\", \"spectacular\", \"speech\", \"speech\", \"speech\", \"speech\", \"speech\", \"speech\", \"speed\", \"speed\", \"speed\", \"speed\", \"speed\", \"split\", \"split\", \"split\", \"spokeswoman\", \"spokeswoman\", \"sport\", \"sport\", \"spread\", \"spread\", \"spread\", \"spread\", \"spread\", \"spy\", \"square\", \"square\", \"stability\", \"stability\", \"standard\", \"standard\", \"standard\", \"start\", \"start\", \"start\", \"start\", \"start\", \"start\", \"start\", \"start\", \"start\", \"start\", \"start\", \"state\", \"state\", \"state\", \"state\", \"state\", \"state\", \"state\", \"state\", \"state\", \"state\", \"statement_call\", \"statement_call\", \"statistic\", \"statistic\", \"status_quo\", \"status_quo\", \"stock\", \"stock\", \"stop\", \"stop\", \"stop\", \"stop\", \"stop\", \"stop\", \"stop\", \"stop\", \"store\", \"store\", \"store\", \"store\", \"store\", \"store\", \"store\", \"store\", \"store\", \"store\", \"store\", \"story\", \"story\", \"story\", \"story\", \"story\", \"story\", \"story\", \"story\", \"story\", \"story\", \"story\", \"story\", \"story\", \"story_suggestion\", \"story_suggestion\", \"strand\", \"stranger\", \"stranger\", \"stranger\", \"strategy\", \"strategy\", \"strategy\", \"strategy\", \"strategy\", \"stress\", \"stress\", \"stress\", \"stress\", \"stronghold\", \"stronghold\", \"student\", \"student\", \"student\", \"student\", \"student\", \"student\", \"study\", \"study\", \"study\", \"study\", \"study\", \"study\", \"study\", \"study\", \"study\", \"study\", \"subject\", \"subject\", \"subject\", \"subject\", \"subject\", \"subject\", \"subject\", \"subject\", \"success\", \"success\", \"success\", \"success\", \"success\", \"success\", \"successful\", \"successful\", \"successful\", \"successful\", \"successful\", \"sum\", \"sum\", \"sum\", \"sum\", \"sunlight\", \"sunlight\", \"sunshine\", \"super\", \"super\", \"supermarket\", \"supermarket\", \"supermarket\", \"support\", \"support\", \"support\", \"support\", \"support\", \"support\", \"support\", \"support\", \"support\", \"support\", \"support\", \"suppose\", \"suppose\", \"surprising\", \"survey\", \"survey\", \"survey\", \"suspicion\", \"suspicion\", \"suspicion\", \"suspicious\", \"suspicious\", \"swipe\", \"swipe\", \"symbol\", \"system\", \"system\", \"system\", \"system\", \"system\", \"system\", \"system\", \"system\", \"system\", \"tablet\", \"tablet\", \"tablet_Attenborough\", \"tackle\", \"tackle\", \"tackle\", \"tackle\", \"take\", \"take\", \"take\", \"take\", \"take\", \"take\", \"take\", \"take\", \"take\", \"take\", \"take\", \"take\", \"take\", \"take\", \"take\", \"take\", \"take\", \"take\", \"take\", \"take\", \"take_control\", \"talk_family\", \"tall\", \"tank\", \"tank\", \"target\", \"target\", \"target\", \"target\", \"target\", \"teach\", \"teach\", \"teach\", \"teach\", \"teach\", \"tech\", \"tech\", \"technician\", \"technician\", \"technology\", \"technology\", \"technology\", \"technology\", \"technology\", \"technology\", \"technology\", \"teenager\", \"teenager\", \"teenager\", \"teenager\", \"teenager\", \"tell\", \"tell\", \"tell\", \"tell\", \"tell\", \"tell\", \"tell\", \"tell\", \"tell\", \"tell\", \"tell\", \"tell\", \"tell\", \"tell\", \"tell\", \"tell_AFP_news_agency\", \"tell_AFP_news_agency\", \"tell_AFP_news_agency\", \"tell_story\", \"tell_story\", \"test\", \"test\", \"test\", \"test\", \"test\", \"test\", \"test\", \"test\", \"test\", \"test\", \"testing\", \"testing\", \"testing\", \"thank\", \"thank\", \"thank\", \"thank\", \"thank\", \"thank\", \"thank\", \"theft\", \"theft\", \"theory\", \"theory\", \"theory\", \"theory\", \"thick\", \"thing\", \"thing\", \"thing\", \"thing\", \"thing\", \"thing\", \"thing\", \"thing\", \"thing\", \"thing\", \"thing\", \"thing\", \"thing\", \"thing\", \"thing\", \"thing\", \"think\", \"think\", \"think\", \"think\", \"think\", \"think\", \"think\", \"think\", \"think\", \"think\", \"think\", \"think\", \"think\", \"think\", \"thinking\", \"thousand_year\", \"ticket\", \"ticket\", \"tight\", \"tight\", \"tight\", \"time\", \"time\", \"time\", \"time\", \"time\", \"time\", \"time\", \"time\", \"time\", \"time\", \"time\", \"time\", \"time\", \"time\", \"time\", \"time\", \"time\", \"time\", \"time\", \"time\", \"tiny\", \"tiny\", \"tiny\", \"tiny\", \"today\", \"today\", \"today\", \"today\", \"today\", \"today\", \"today\", \"today\", \"today\", \"today\", \"today\", \"today\", \"tool\", \"tool\", \"tool\", \"tool\", \"topic\", \"topic\", \"totally\", \"tourism\", \"tourism\", \"tourism\", \"town\", \"town\", \"town\", \"town\", \"town\", \"town\", \"town\", \"town\", \"town\", \"trace\", \"trace\", \"trade\", \"trade\", \"trade\", \"trade\", \"trade\", \"trade\", \"traditionally\", \"traditionally\", \"tragedy\", \"train\", \"train\", \"train\", \"transition\", \"transition\", \"transparency\", \"transparency\", \"transparency\", \"transparent\", \"transparent\", \"transparent\", \"trap\", \"trap\", \"travel\", \"travel\", \"travel\", \"travel\", \"travel\", \"travel\", \"travel\", \"travel\", \"travel\", \"travel\", \"treatment\", \"treatment\", \"treatment\", \"tree\", \"tree\", \"tree\", \"trend\", \"trend\", \"tribute\", \"tribute\", \"trip\", \"trip\", \"trump\", \"trump\", \"trump\", \"trust\", \"trust\", \"trust\", \"trust\", \"trust\", \"trust\", \"trust\", \"trust\", \"truth\", \"truth\", \"truth\", \"try\", \"try\", \"try\", \"try\", \"try\", \"try\", \"try\", \"try\", \"try\", \"try\", \"try\", \"try\", \"try\", \"tunnel\", \"tunnel\", \"tunnel\", \"tunnel\", \"turn\", \"turn\", \"turn\", \"turn\", \"turn\", \"turn\", \"turn\", \"turn\", \"turn\", \"turn\", \"turn\", \"turn\", \"tweet\", \"tweet\", \"tweet\", \"twitter\", \"twitter\", \"twitter\", \"twitter_@bbcnewsent\", \"twitter_@bbcnewsent\", \"typical\", \"typical\", \"ultimate\", \"ultimate\", \"un\", \"un\", \"unable\", \"unable\", \"underground\", \"underground\", \"underground\", \"understand\", \"understand\", \"understand\", \"understand\", \"understand\", \"understand\", \"understand\", \"unit\", \"university\", \"university\", \"university\", \"unpredictable\", \"unpredictable\", \"usual\", \"usual\", \"usually\", \"usually\", \"usually\", \"usually\", \"valuable\", \"valuable\", \"variety\", \"variety\", \"variety\", \"vertical\", \"vertical\", \"vertical\", \"video\", \"video\", \"video\", \"video\", \"video\", \"video\", \"video\", \"video\", \"video\", \"video\", \"video\", \"village\", \"village\", \"village\", \"village\", \"visible\", \"visible\", \"vision\", \"vision\", \"vision\", \"visual\", \"visual\", \"visual\", \"voice\", \"voter\", \"want\", \"want\", \"want\", \"want\", \"want\", \"want\", \"want\", \"want\", \"want\", \"want\", \"want\", \"want\", \"want\", \"want\", \"war\", \"war\", \"war\", \"war\", \"warm\", \"warm\", \"warm\", \"warm\", \"watch_moment\", \"water\", \"water\", \"water\", \"water\", \"water\", \"water\", \"way\", \"way\", \"way\", \"way\", \"way\", \"way\", \"way\", \"way\", \"way\", \"way\", \"way\", \"way\", \"way\", \"way\", \"way\", \"way\", \"wear_white\", \"wear_white\", \"website\", \"website\", \"website\", \"website\", \"website\", \"website\", \"website\", \"wedding\", \"wedding\", \"week\", \"week\", \"week\", \"week\", \"week\", \"week\", \"week\", \"week\", \"week\", \"week\", \"week\", \"week\", \"week\", \"week\", \"weekday\", \"weekday\", \"weird\", \"weird\", \"whale\", \"wild\", \"wild\", \"wild\", \"win\", \"win\", \"win\", \"win\", \"win\", \"win\", \"win\", \"wing\", \"wing\", \"wing\", \"winner\", \"winner\", \"winner\", \"winner\", \"winter\", \"winter\", \"winter\", \"winter\", \"wish\", \"wish\", \"wish\", \"woman\", \"woman\", \"woman\", \"woman\", \"woman\", \"woman\", \"woman\", \"woman\", \"woman\", \"wood\", \"wood\", \"work\", \"work\", \"work\", \"work\", \"work\", \"work\", \"work\", \"work\", \"work\", \"work\", \"work\", \"work\", \"work\", \"work\", \"work\", \"work\", \"work\", \"work\", \"work\", \"world\", \"world\", \"world\", \"world\", \"world\", \"world\", \"world\", \"world\", \"world\", \"world\", \"world\", \"world\", \"world\", \"world\", \"world\", \"world\", \"world\", \"worried\", \"worried\", \"worth_1bn\", \"worth_1bn\", \"worth_billion\", \"worth_billion\", \"write\", \"write\", \"write\", \"write\", \"write\", \"write\", \"write\", \"write\", \"write\", \"write\", \"write\", \"write\", \"write\", \"writing\", \"wrong\", \"wrong\", \"wrong\", \"wrong\", \"year\", \"year\", \"year\", \"year\", \"year\", \"year\", \"year\", \"year\", \"year\", \"year\", \"year\", \"year\", \"year\", \"year\", \"year\", \"year\", \"year\", \"year\", \"year\", \"year\", \"yes\"]}, \"R\": 30, \"lambda.step\": 0.01, \"plot.opts\": {\"xlab\": \"PC1\", \"ylab\": \"PC2\"}, \"topic.order\": [15, 13, 16, 3, 7, 5, 17, 19, 4, 2, 6, 12, 20, 9, 1, 11, 18, 14, 10, 8]};\n",
       "\n",
       "function LDAvis_load_lib(url, callback){\n",
       "  var s = document.createElement('script');\n",
       "  s.src = url;\n",
       "  s.async = true;\n",
       "  s.onreadystatechange = s.onload = callback;\n",
       "  s.onerror = function(){console.warn(\"failed to load library \" + url);};\n",
       "  document.getElementsByTagName(\"head\")[0].appendChild(s);\n",
       "}\n",
       "\n",
       "if(typeof(LDAvis) !== \"undefined\"){\n",
       "   // already loaded: just create the visualization\n",
       "   !function(LDAvis){\n",
       "       new LDAvis(\"#\" + \"ldavis_el86001405619468314406694241354\", ldavis_el86001405619468314406694241354_data);\n",
       "   }(LDAvis);\n",
       "}else if(typeof define === \"function\" && define.amd){\n",
       "   // require.js is available: use it to load d3/LDAvis\n",
       "   require.config({paths: {d3: \"https://cdnjs.cloudflare.com/ajax/libs/d3/3.5.5/d3.min\"}});\n",
       "   require([\"d3\"], function(d3){\n",
       "      window.d3 = d3;\n",
       "      LDAvis_load_lib(\"https://cdn.rawgit.com/bmabey/pyLDAvis/files/ldavis.v1.0.0.js\", function(){\n",
       "        new LDAvis(\"#\" + \"ldavis_el86001405619468314406694241354\", ldavis_el86001405619468314406694241354_data);\n",
       "      });\n",
       "    });\n",
       "}else{\n",
       "    // require.js not available: dynamically load d3 & LDAvis\n",
       "    LDAvis_load_lib(\"https://cdnjs.cloudflare.com/ajax/libs/d3/3.5.5/d3.min.js\", function(){\n",
       "         LDAvis_load_lib(\"https://cdn.rawgit.com/bmabey/pyLDAvis/files/ldavis.v1.0.0.js\", function(){\n",
       "                 new LDAvis(\"#\" + \"ldavis_el86001405619468314406694241354\", ldavis_el86001405619468314406694241354_data);\n",
       "            })\n",
       "         });\n",
       "}\n",
       "</script>"
      ],
      "text/plain": [
       "<IPython.core.display.HTML object>"
      ]
     },
     "execution_count": 40,
     "metadata": {},
     "output_type": "execute_result"
    }
   ],
   "source": [
    "# https://cran.r-project.org/web/packages/LDAvis/vignettes/details.pdf\n",
    "# Here a short legend to explain the vis:\n",
    "# size of bubble: proportional to the proportions of the topics across the N total tokens in the corpus\n",
    "# red bars: estimated number of times a given term was generated by a given topic\n",
    "# blue bars: overall frequency of each term in the corpus\n",
    "# -- Relevance of words is computed with a parameter lambda\n",
    "# -- Lambda optimal value ~0.6 (https://nlp.stanford.edu/events/illvi2014/papers/sievert-illvi2014.pdf)\n",
    "%matplotlib inline\n",
    "import pyLDAvis\n",
    "import pyLDAvis.gensim\n",
    "vis = pyLDAvis.gensim.prepare(topic_model=lda_model, corpus=corpus, dictionary=dictionary_LDA)\n",
    "pyLDAvis.enable_notebook()\n",
    "pyLDAvis.display(vis)"
   ]
  },
  {
   "cell_type": "markdown",
   "metadata": {},
   "source": [
    "Export per Toc"
   ]
  },
  {
   "cell_type": "code",
   "execution_count": 126,
   "metadata": {},
   "outputs": [],
   "source": [
    "topics_doc_dict = {}\n",
    "for i in range(len(data)):\n",
    "    #print('---- Documento ',i,' ----')\n",
    "    current_doc_topics = topics[i]\n",
    "    for j in range(len(current_doc_topics)):\n",
    "        topic = current_doc_topics[j]\n",
    "        if len(topic) == 1:\n",
    "            topic = topic[0]\n",
    "        #print(topic)\n",
    "        topic = (topic[0], str(topic[1]))\n",
    "        current_doc_topics[j] = topic\n",
    "    \n",
    "    topics_doc_dict[str(i)] = {'topic': current_doc_topics, 'words': lda_model.show_topics(formatted = True, num_topics = num_topics, num_words = 20)[topics[i][0][0]]}\n",
    "    \n",
    "#topics_doc_dict['2']['topic'][0]"
   ]
  },
  {
   "cell_type": "code",
   "execution_count": 128,
   "metadata": {},
   "outputs": [],
   "source": [
    "import json\n",
    "with open('doc_topic.json', 'w') as fp:\n",
    "    json.dump(topics_doc_dict, fp)"
   ]
  },
  {
   "cell_type": "code",
   "execution_count": null,
   "metadata": {},
   "outputs": [],
   "source": []
  }
 ],
 "metadata": {
  "accelerator": "GPU",
  "colab": {
   "name": "LDA-BBC.ipynb",
   "provenance": [],
   "toc_visible": true
  },
  "kernelspec": {
   "display_name": "Python 3.7.6 64-bit ('research': conda)",
   "language": "python",
   "name": "python37664bitresearchconda7a6e84f595e54c6c827badd96b766ec6"
  },
  "language_info": {
   "codemirror_mode": {
    "name": "ipython",
    "version": 3
   },
   "file_extension": ".py",
   "mimetype": "text/x-python",
   "name": "python",
   "nbconvert_exporter": "python",
   "pygments_lexer": "ipython3",
   "version": "3.7.7"
  },
  "widgets": {
   "application/vnd.jupyter.widget-state+json": {
    "07376b3625634908935bb67a326c10e1": {
     "model_module": "@jupyter-widgets/controls",
     "model_name": "ProgressStyleModel",
     "state": {
      "_model_module": "@jupyter-widgets/controls",
      "_model_module_version": "1.5.0",
      "_model_name": "ProgressStyleModel",
      "_view_count": null,
      "_view_module": "@jupyter-widgets/base",
      "_view_module_version": "1.2.0",
      "_view_name": "StyleView",
      "bar_color": null,
      "description_width": "initial"
     }
    },
    "08d12b4391664079ac12e056eed69186": {
     "model_module": "@jupyter-widgets/base",
     "model_name": "LayoutModel",
     "state": {
      "_model_module": "@jupyter-widgets/base",
      "_model_module_version": "1.2.0",
      "_model_name": "LayoutModel",
      "_view_count": null,
      "_view_module": "@jupyter-widgets/base",
      "_view_module_version": "1.2.0",
      "_view_name": "LayoutView",
      "align_content": null,
      "align_items": null,
      "align_self": null,
      "border": null,
      "bottom": null,
      "display": null,
      "flex": null,
      "flex_flow": null,
      "grid_area": null,
      "grid_auto_columns": null,
      "grid_auto_flow": null,
      "grid_auto_rows": null,
      "grid_column": null,
      "grid_gap": null,
      "grid_row": null,
      "grid_template_areas": null,
      "grid_template_columns": null,
      "grid_template_rows": null,
      "height": null,
      "justify_content": null,
      "justify_items": null,
      "left": null,
      "margin": null,
      "max_height": null,
      "max_width": null,
      "min_height": null,
      "min_width": null,
      "object_fit": null,
      "object_position": null,
      "order": null,
      "overflow": null,
      "overflow_x": null,
      "overflow_y": null,
      "padding": null,
      "right": null,
      "top": null,
      "visibility": null,
      "width": null
     }
    },
    "0e13000f1fcc45f790764cc4ca0132b0": {
     "model_module": "@jupyter-widgets/controls",
     "model_name": "HBoxModel",
     "state": {
      "_dom_classes": [],
      "_model_module": "@jupyter-widgets/controls",
      "_model_module_version": "1.5.0",
      "_model_name": "HBoxModel",
      "_view_count": null,
      "_view_module": "@jupyter-widgets/controls",
      "_view_module_version": "1.5.0",
      "_view_name": "HBoxView",
      "box_style": "",
      "children": [
       "IPY_MODEL_f01526f44f214a9a9bf4d5bd6381e9a6",
       "IPY_MODEL_1a11b724a5404ec5b2c3a8d7d9b38474"
      ],
      "layout": "IPY_MODEL_bae2e1044667445db4d325b27aa80531"
     }
    },
    "1513ab5644d24284b88665586d1763e9": {
     "model_module": "@jupyter-widgets/base",
     "model_name": "LayoutModel",
     "state": {
      "_model_module": "@jupyter-widgets/base",
      "_model_module_version": "1.2.0",
      "_model_name": "LayoutModel",
      "_view_count": null,
      "_view_module": "@jupyter-widgets/base",
      "_view_module_version": "1.2.0",
      "_view_name": "LayoutView",
      "align_content": null,
      "align_items": null,
      "align_self": null,
      "border": null,
      "bottom": null,
      "display": null,
      "flex": null,
      "flex_flow": null,
      "grid_area": null,
      "grid_auto_columns": null,
      "grid_auto_flow": null,
      "grid_auto_rows": null,
      "grid_column": null,
      "grid_gap": null,
      "grid_row": null,
      "grid_template_areas": null,
      "grid_template_columns": null,
      "grid_template_rows": null,
      "height": null,
      "justify_content": null,
      "justify_items": null,
      "left": null,
      "margin": null,
      "max_height": null,
      "max_width": null,
      "min_height": null,
      "min_width": null,
      "object_fit": null,
      "object_position": null,
      "order": null,
      "overflow": null,
      "overflow_x": null,
      "overflow_y": null,
      "padding": null,
      "right": null,
      "top": null,
      "visibility": null,
      "width": null
     }
    },
    "1a11b724a5404ec5b2c3a8d7d9b38474": {
     "model_module": "@jupyter-widgets/controls",
     "model_name": "HTMLModel",
     "state": {
      "_dom_classes": [],
      "_model_module": "@jupyter-widgets/controls",
      "_model_module_version": "1.5.0",
      "_model_name": "HTMLModel",
      "_view_count": null,
      "_view_module": "@jupyter-widgets/controls",
      "_view_module_version": "1.5.0",
      "_view_name": "HTMLView",
      "description": "",
      "description_tooltip": null,
      "layout": "IPY_MODEL_3e2c17e2fa9b4d6482eb04e5fdb46b1e",
      "placeholder": "​",
      "style": "IPY_MODEL_4d27cd634bc44a71924c3322d14cea84",
      "value": " 256/256 [00:08&lt;00:00, 28.63it/s]"
     }
    },
    "3e2c17e2fa9b4d6482eb04e5fdb46b1e": {
     "model_module": "@jupyter-widgets/base",
     "model_name": "LayoutModel",
     "state": {
      "_model_module": "@jupyter-widgets/base",
      "_model_module_version": "1.2.0",
      "_model_name": "LayoutModel",
      "_view_count": null,
      "_view_module": "@jupyter-widgets/base",
      "_view_module_version": "1.2.0",
      "_view_name": "LayoutView",
      "align_content": null,
      "align_items": null,
      "align_self": null,
      "border": null,
      "bottom": null,
      "display": null,
      "flex": null,
      "flex_flow": null,
      "grid_area": null,
      "grid_auto_columns": null,
      "grid_auto_flow": null,
      "grid_auto_rows": null,
      "grid_column": null,
      "grid_gap": null,
      "grid_row": null,
      "grid_template_areas": null,
      "grid_template_columns": null,
      "grid_template_rows": null,
      "height": null,
      "justify_content": null,
      "justify_items": null,
      "left": null,
      "margin": null,
      "max_height": null,
      "max_width": null,
      "min_height": null,
      "min_width": null,
      "object_fit": null,
      "object_position": null,
      "order": null,
      "overflow": null,
      "overflow_x": null,
      "overflow_y": null,
      "padding": null,
      "right": null,
      "top": null,
      "visibility": null,
      "width": null
     }
    },
    "4477369ca5e94505982067658c124474": {
     "model_module": "@jupyter-widgets/controls",
     "model_name": "HBoxModel",
     "state": {
      "_dom_classes": [],
      "_model_module": "@jupyter-widgets/controls",
      "_model_module_version": "1.5.0",
      "_model_name": "HBoxModel",
      "_view_count": null,
      "_view_module": "@jupyter-widgets/controls",
      "_view_module_version": "1.5.0",
      "_view_name": "HBoxView",
      "box_style": "",
      "children": [
       "IPY_MODEL_65c91f960e0645f4902d762df7b38e70",
       "IPY_MODEL_ac80a09d77db4c39bd8b3d2faa0c6276"
      ],
      "layout": "IPY_MODEL_5dcb98eae3d74712aa93d7623b5db85d"
     }
    },
    "4d27cd634bc44a71924c3322d14cea84": {
     "model_module": "@jupyter-widgets/controls",
     "model_name": "DescriptionStyleModel",
     "state": {
      "_model_module": "@jupyter-widgets/controls",
      "_model_module_version": "1.5.0",
      "_model_name": "DescriptionStyleModel",
      "_view_count": null,
      "_view_module": "@jupyter-widgets/base",
      "_view_module_version": "1.2.0",
      "_view_name": "StyleView",
      "description_width": ""
     }
    },
    "5184aa40fcd44d0882914b66ae581430": {
     "model_module": "@jupyter-widgets/base",
     "model_name": "LayoutModel",
     "state": {
      "_model_module": "@jupyter-widgets/base",
      "_model_module_version": "1.2.0",
      "_model_name": "LayoutModel",
      "_view_count": null,
      "_view_module": "@jupyter-widgets/base",
      "_view_module_version": "1.2.0",
      "_view_name": "LayoutView",
      "align_content": null,
      "align_items": null,
      "align_self": null,
      "border": null,
      "bottom": null,
      "display": null,
      "flex": null,
      "flex_flow": null,
      "grid_area": null,
      "grid_auto_columns": null,
      "grid_auto_flow": null,
      "grid_auto_rows": null,
      "grid_column": null,
      "grid_gap": null,
      "grid_row": null,
      "grid_template_areas": null,
      "grid_template_columns": null,
      "grid_template_rows": null,
      "height": null,
      "justify_content": null,
      "justify_items": null,
      "left": null,
      "margin": null,
      "max_height": null,
      "max_width": null,
      "min_height": null,
      "min_width": null,
      "object_fit": null,
      "object_position": null,
      "order": null,
      "overflow": null,
      "overflow_x": null,
      "overflow_y": null,
      "padding": null,
      "right": null,
      "top": null,
      "visibility": null,
      "width": null
     }
    },
    "5cd06d52ea4647cfb456bf9966ef9e44": {
     "model_module": "@jupyter-widgets/controls",
     "model_name": "HTMLModel",
     "state": {
      "_dom_classes": [],
      "_model_module": "@jupyter-widgets/controls",
      "_model_module_version": "1.5.0",
      "_model_name": "HTMLModel",
      "_view_count": null,
      "_view_module": "@jupyter-widgets/controls",
      "_view_module_version": "1.5.0",
      "_view_name": "HTMLView",
      "description": "",
      "description_tooltip": null,
      "layout": "IPY_MODEL_6d0415edbb374dd3a693fdeae73db482",
      "placeholder": "​",
      "style": "IPY_MODEL_6ceffdb4ce7e4842b4c302a9fa7f29da",
      "value": " 256/256 [06:00&lt;00:00,  1.41s/it]"
     }
    },
    "5da011677ee54269adb8d09579b593ba": {
     "model_module": "@jupyter-widgets/controls",
     "model_name": "DescriptionStyleModel",
     "state": {
      "_model_module": "@jupyter-widgets/controls",
      "_model_module_version": "1.5.0",
      "_model_name": "DescriptionStyleModel",
      "_view_count": null,
      "_view_module": "@jupyter-widgets/base",
      "_view_module_version": "1.2.0",
      "_view_name": "StyleView",
      "description_width": ""
     }
    },
    "5dcb98eae3d74712aa93d7623b5db85d": {
     "model_module": "@jupyter-widgets/base",
     "model_name": "LayoutModel",
     "state": {
      "_model_module": "@jupyter-widgets/base",
      "_model_module_version": "1.2.0",
      "_model_name": "LayoutModel",
      "_view_count": null,
      "_view_module": "@jupyter-widgets/base",
      "_view_module_version": "1.2.0",
      "_view_name": "LayoutView",
      "align_content": null,
      "align_items": null,
      "align_self": null,
      "border": null,
      "bottom": null,
      "display": null,
      "flex": null,
      "flex_flow": null,
      "grid_area": null,
      "grid_auto_columns": null,
      "grid_auto_flow": null,
      "grid_auto_rows": null,
      "grid_column": null,
      "grid_gap": null,
      "grid_row": null,
      "grid_template_areas": null,
      "grid_template_columns": null,
      "grid_template_rows": null,
      "height": null,
      "justify_content": null,
      "justify_items": null,
      "left": null,
      "margin": null,
      "max_height": null,
      "max_width": null,
      "min_height": null,
      "min_width": null,
      "object_fit": null,
      "object_position": null,
      "order": null,
      "overflow": null,
      "overflow_x": null,
      "overflow_y": null,
      "padding": null,
      "right": null,
      "top": null,
      "visibility": null,
      "width": null
     }
    },
    "61ba5c224a514493985e5d1b686a4913": {
     "model_module": "@jupyter-widgets/controls",
     "model_name": "ProgressStyleModel",
     "state": {
      "_model_module": "@jupyter-widgets/controls",
      "_model_module_version": "1.5.0",
      "_model_name": "ProgressStyleModel",
      "_view_count": null,
      "_view_module": "@jupyter-widgets/base",
      "_view_module_version": "1.2.0",
      "_view_name": "StyleView",
      "bar_color": null,
      "description_width": "initial"
     }
    },
    "65c91f960e0645f4902d762df7b38e70": {
     "model_module": "@jupyter-widgets/controls",
     "model_name": "FloatProgressModel",
     "state": {
      "_dom_classes": [],
      "_model_module": "@jupyter-widgets/controls",
      "_model_module_version": "1.5.0",
      "_model_name": "FloatProgressModel",
      "_view_count": null,
      "_view_module": "@jupyter-widgets/controls",
      "_view_module_version": "1.5.0",
      "_view_name": "ProgressView",
      "bar_style": "success",
      "description": "",
      "description_tooltip": null,
      "layout": "IPY_MODEL_bd40fd9cbd344eddb35495cb46e14103",
      "max": 1,
      "min": 0,
      "orientation": "horizontal",
      "style": "IPY_MODEL_cef623c21a1346038f7a75254b071573",
      "value": 0
     }
    },
    "6cceca6a2c0c42e9bc694ceb1bd0febd": {
     "model_module": "@jupyter-widgets/controls",
     "model_name": "FloatProgressModel",
     "state": {
      "_dom_classes": [],
      "_model_module": "@jupyter-widgets/controls",
      "_model_module_version": "1.5.0",
      "_model_name": "FloatProgressModel",
      "_view_count": null,
      "_view_module": "@jupyter-widgets/controls",
      "_view_module_version": "1.5.0",
      "_view_name": "ProgressView",
      "bar_style": "success",
      "description": "100%",
      "description_tooltip": null,
      "layout": "IPY_MODEL_5184aa40fcd44d0882914b66ae581430",
      "max": 256,
      "min": 0,
      "orientation": "horizontal",
      "style": "IPY_MODEL_61ba5c224a514493985e5d1b686a4913",
      "value": 256
     }
    },
    "6ceffdb4ce7e4842b4c302a9fa7f29da": {
     "model_module": "@jupyter-widgets/controls",
     "model_name": "DescriptionStyleModel",
     "state": {
      "_model_module": "@jupyter-widgets/controls",
      "_model_module_version": "1.5.0",
      "_model_name": "DescriptionStyleModel",
      "_view_count": null,
      "_view_module": "@jupyter-widgets/base",
      "_view_module_version": "1.2.0",
      "_view_name": "StyleView",
      "description_width": ""
     }
    },
    "6d0415edbb374dd3a693fdeae73db482": {
     "model_module": "@jupyter-widgets/base",
     "model_name": "LayoutModel",
     "state": {
      "_model_module": "@jupyter-widgets/base",
      "_model_module_version": "1.2.0",
      "_model_name": "LayoutModel",
      "_view_count": null,
      "_view_module": "@jupyter-widgets/base",
      "_view_module_version": "1.2.0",
      "_view_name": "LayoutView",
      "align_content": null,
      "align_items": null,
      "align_self": null,
      "border": null,
      "bottom": null,
      "display": null,
      "flex": null,
      "flex_flow": null,
      "grid_area": null,
      "grid_auto_columns": null,
      "grid_auto_flow": null,
      "grid_auto_rows": null,
      "grid_column": null,
      "grid_gap": null,
      "grid_row": null,
      "grid_template_areas": null,
      "grid_template_columns": null,
      "grid_template_rows": null,
      "height": null,
      "justify_content": null,
      "justify_items": null,
      "left": null,
      "margin": null,
      "max_height": null,
      "max_width": null,
      "min_height": null,
      "min_width": null,
      "object_fit": null,
      "object_position": null,
      "order": null,
      "overflow": null,
      "overflow_x": null,
      "overflow_y": null,
      "padding": null,
      "right": null,
      "top": null,
      "visibility": null,
      "width": null
     }
    },
    "74e98cc443b240798358f4281be5f677": {
     "model_module": "@jupyter-widgets/base",
     "model_name": "LayoutModel",
     "state": {
      "_model_module": "@jupyter-widgets/base",
      "_model_module_version": "1.2.0",
      "_model_name": "LayoutModel",
      "_view_count": null,
      "_view_module": "@jupyter-widgets/base",
      "_view_module_version": "1.2.0",
      "_view_name": "LayoutView",
      "align_content": null,
      "align_items": null,
      "align_self": null,
      "border": null,
      "bottom": null,
      "display": null,
      "flex": null,
      "flex_flow": null,
      "grid_area": null,
      "grid_auto_columns": null,
      "grid_auto_flow": null,
      "grid_auto_rows": null,
      "grid_column": null,
      "grid_gap": null,
      "grid_row": null,
      "grid_template_areas": null,
      "grid_template_columns": null,
      "grid_template_rows": null,
      "height": null,
      "justify_content": null,
      "justify_items": null,
      "left": null,
      "margin": null,
      "max_height": null,
      "max_width": null,
      "min_height": null,
      "min_width": null,
      "object_fit": null,
      "object_position": null,
      "order": null,
      "overflow": null,
      "overflow_x": null,
      "overflow_y": null,
      "padding": null,
      "right": null,
      "top": null,
      "visibility": null,
      "width": null
     }
    },
    "80ff2aba47da4f669f1901cf3501dcaa": {
     "model_module": "@jupyter-widgets/controls",
     "model_name": "HBoxModel",
     "state": {
      "_dom_classes": [],
      "_model_module": "@jupyter-widgets/controls",
      "_model_module_version": "1.5.0",
      "_model_name": "HBoxModel",
      "_view_count": null,
      "_view_module": "@jupyter-widgets/controls",
      "_view_module_version": "1.5.0",
      "_view_name": "HBoxView",
      "box_style": "",
      "children": [
       "IPY_MODEL_91d6b6a3ee74436da244a0eb3b2c318b",
       "IPY_MODEL_88d27b6f0c7f40d18417e49568605277"
      ],
      "layout": "IPY_MODEL_1513ab5644d24284b88665586d1763e9"
     }
    },
    "88d27b6f0c7f40d18417e49568605277": {
     "model_module": "@jupyter-widgets/controls",
     "model_name": "HTMLModel",
     "state": {
      "_dom_classes": [],
      "_model_module": "@jupyter-widgets/controls",
      "_model_module_version": "1.5.0",
      "_model_name": "HTMLModel",
      "_view_count": null,
      "_view_module": "@jupyter-widgets/controls",
      "_view_module_version": "1.5.0",
      "_view_name": "HTMLView",
      "description": "",
      "description_tooltip": null,
      "layout": "IPY_MODEL_f3d3f20064994daf99f6df9b5f3fa641",
      "placeholder": "​",
      "style": "IPY_MODEL_c682c1d895b74f5db0563bfd1801a39b",
      "value": " 256/256 [00:01&lt;00:00, 146.14it/s]"
     }
    },
    "8c1877aa0cc247daa4232877681f39af": {
     "model_module": "@jupyter-widgets/controls",
     "model_name": "FloatProgressModel",
     "state": {
      "_dom_classes": [],
      "_model_module": "@jupyter-widgets/controls",
      "_model_module_version": "1.5.0",
      "_model_name": "FloatProgressModel",
      "_view_count": null,
      "_view_module": "@jupyter-widgets/controls",
      "_view_module_version": "1.5.0",
      "_view_name": "ProgressView",
      "bar_style": "success",
      "description": "100%",
      "description_tooltip": null,
      "layout": "IPY_MODEL_eec3946e73864c1593d09cf70cf1fb49",
      "max": 256,
      "min": 0,
      "orientation": "horizontal",
      "style": "IPY_MODEL_8dec687b55aa4ab1a18467d76732834c",
      "value": 256
     }
    },
    "8dec687b55aa4ab1a18467d76732834c": {
     "model_module": "@jupyter-widgets/controls",
     "model_name": "ProgressStyleModel",
     "state": {
      "_model_module": "@jupyter-widgets/controls",
      "_model_module_version": "1.5.0",
      "_model_name": "ProgressStyleModel",
      "_view_count": null,
      "_view_module": "@jupyter-widgets/base",
      "_view_module_version": "1.2.0",
      "_view_name": "StyleView",
      "bar_color": null,
      "description_width": "initial"
     }
    },
    "91d6b6a3ee74436da244a0eb3b2c318b": {
     "model_module": "@jupyter-widgets/controls",
     "model_name": "FloatProgressModel",
     "state": {
      "_dom_classes": [],
      "_model_module": "@jupyter-widgets/controls",
      "_model_module_version": "1.5.0",
      "_model_name": "FloatProgressModel",
      "_view_count": null,
      "_view_module": "@jupyter-widgets/controls",
      "_view_module_version": "1.5.0",
      "_view_name": "ProgressView",
      "bar_style": "success",
      "description": "100%",
      "description_tooltip": null,
      "layout": "IPY_MODEL_74e98cc443b240798358f4281be5f677",
      "max": 256,
      "min": 0,
      "orientation": "horizontal",
      "style": "IPY_MODEL_b5dab458a1a54de1839c05cc2095b100",
      "value": 256
     }
    },
    "a1ac4b3b37ad4746a667c0dd80bcd43d": {
     "model_module": "@jupyter-widgets/base",
     "model_name": "LayoutModel",
     "state": {
      "_model_module": "@jupyter-widgets/base",
      "_model_module_version": "1.2.0",
      "_model_name": "LayoutModel",
      "_view_count": null,
      "_view_module": "@jupyter-widgets/base",
      "_view_module_version": "1.2.0",
      "_view_name": "LayoutView",
      "align_content": null,
      "align_items": null,
      "align_self": null,
      "border": null,
      "bottom": null,
      "display": null,
      "flex": null,
      "flex_flow": null,
      "grid_area": null,
      "grid_auto_columns": null,
      "grid_auto_flow": null,
      "grid_auto_rows": null,
      "grid_column": null,
      "grid_gap": null,
      "grid_row": null,
      "grid_template_areas": null,
      "grid_template_columns": null,
      "grid_template_rows": null,
      "height": null,
      "justify_content": null,
      "justify_items": null,
      "left": null,
      "margin": null,
      "max_height": null,
      "max_width": null,
      "min_height": null,
      "min_width": null,
      "object_fit": null,
      "object_position": null,
      "order": null,
      "overflow": null,
      "overflow_x": null,
      "overflow_y": null,
      "padding": null,
      "right": null,
      "top": null,
      "visibility": null,
      "width": null
     }
    },
    "a27eaccc357c422d996f751a7a232e37": {
     "model_module": "@jupyter-widgets/base",
     "model_name": "LayoutModel",
     "state": {
      "_model_module": "@jupyter-widgets/base",
      "_model_module_version": "1.2.0",
      "_model_name": "LayoutModel",
      "_view_count": null,
      "_view_module": "@jupyter-widgets/base",
      "_view_module_version": "1.2.0",
      "_view_name": "LayoutView",
      "align_content": null,
      "align_items": null,
      "align_self": null,
      "border": null,
      "bottom": null,
      "display": null,
      "flex": null,
      "flex_flow": null,
      "grid_area": null,
      "grid_auto_columns": null,
      "grid_auto_flow": null,
      "grid_auto_rows": null,
      "grid_column": null,
      "grid_gap": null,
      "grid_row": null,
      "grid_template_areas": null,
      "grid_template_columns": null,
      "grid_template_rows": null,
      "height": null,
      "justify_content": null,
      "justify_items": null,
      "left": null,
      "margin": null,
      "max_height": null,
      "max_width": null,
      "min_height": null,
      "min_width": null,
      "object_fit": null,
      "object_position": null,
      "order": null,
      "overflow": null,
      "overflow_x": null,
      "overflow_y": null,
      "padding": null,
      "right": null,
      "top": null,
      "visibility": null,
      "width": null
     }
    },
    "a9035e95770145fa9814c64a1e77414e": {
     "model_module": "@jupyter-widgets/base",
     "model_name": "LayoutModel",
     "state": {
      "_model_module": "@jupyter-widgets/base",
      "_model_module_version": "1.2.0",
      "_model_name": "LayoutModel",
      "_view_count": null,
      "_view_module": "@jupyter-widgets/base",
      "_view_module_version": "1.2.0",
      "_view_name": "LayoutView",
      "align_content": null,
      "align_items": null,
      "align_self": null,
      "border": null,
      "bottom": null,
      "display": null,
      "flex": null,
      "flex_flow": null,
      "grid_area": null,
      "grid_auto_columns": null,
      "grid_auto_flow": null,
      "grid_auto_rows": null,
      "grid_column": null,
      "grid_gap": null,
      "grid_row": null,
      "grid_template_areas": null,
      "grid_template_columns": null,
      "grid_template_rows": null,
      "height": null,
      "justify_content": null,
      "justify_items": null,
      "left": null,
      "margin": null,
      "max_height": null,
      "max_width": null,
      "min_height": null,
      "min_width": null,
      "object_fit": null,
      "object_position": null,
      "order": null,
      "overflow": null,
      "overflow_x": null,
      "overflow_y": null,
      "padding": null,
      "right": null,
      "top": null,
      "visibility": null,
      "width": null
     }
    },
    "ac80a09d77db4c39bd8b3d2faa0c6276": {
     "model_module": "@jupyter-widgets/controls",
     "model_name": "HTMLModel",
     "state": {
      "_dom_classes": [],
      "_model_module": "@jupyter-widgets/controls",
      "_model_module_version": "1.5.0",
      "_model_name": "HTMLModel",
      "_view_count": null,
      "_view_module": "@jupyter-widgets/controls",
      "_view_module_version": "1.5.0",
      "_view_name": "HTMLView",
      "description": "",
      "description_tooltip": null,
      "layout": "IPY_MODEL_e2164b3b9276459899dc33a008bdddf8",
      "placeholder": "​",
      "style": "IPY_MODEL_d6b90db4a82f46ac8608cb426b07639d",
      "value": " 0/? [00:02&lt;?, ?it/s]"
     }
    },
    "ae65c6ae1f6843d2872846423b943e60": {
     "model_module": "@jupyter-widgets/base",
     "model_name": "LayoutModel",
     "state": {
      "_model_module": "@jupyter-widgets/base",
      "_model_module_version": "1.2.0",
      "_model_name": "LayoutModel",
      "_view_count": null,
      "_view_module": "@jupyter-widgets/base",
      "_view_module_version": "1.2.0",
      "_view_name": "LayoutView",
      "align_content": null,
      "align_items": null,
      "align_self": null,
      "border": null,
      "bottom": null,
      "display": null,
      "flex": null,
      "flex_flow": null,
      "grid_area": null,
      "grid_auto_columns": null,
      "grid_auto_flow": null,
      "grid_auto_rows": null,
      "grid_column": null,
      "grid_gap": null,
      "grid_row": null,
      "grid_template_areas": null,
      "grid_template_columns": null,
      "grid_template_rows": null,
      "height": null,
      "justify_content": null,
      "justify_items": null,
      "left": null,
      "margin": null,
      "max_height": null,
      "max_width": null,
      "min_height": null,
      "min_width": null,
      "object_fit": null,
      "object_position": null,
      "order": null,
      "overflow": null,
      "overflow_x": null,
      "overflow_y": null,
      "padding": null,
      "right": null,
      "top": null,
      "visibility": null,
      "width": null
     }
    },
    "af4d083911b04ec1b010f622397d56f4": {
     "model_module": "@jupyter-widgets/controls",
     "model_name": "HTMLModel",
     "state": {
      "_dom_classes": [],
      "_model_module": "@jupyter-widgets/controls",
      "_model_module_version": "1.5.0",
      "_model_name": "HTMLModel",
      "_view_count": null,
      "_view_module": "@jupyter-widgets/controls",
      "_view_module_version": "1.5.0",
      "_view_name": "HTMLView",
      "description": "",
      "description_tooltip": null,
      "layout": "IPY_MODEL_a27eaccc357c422d996f751a7a232e37",
      "placeholder": "​",
      "style": "IPY_MODEL_cd31018580c946d981189561fd71cd8a",
      "value": " 256/256 [10:06&lt;00:00,  2.37s/it]"
     }
    },
    "b5dab458a1a54de1839c05cc2095b100": {
     "model_module": "@jupyter-widgets/controls",
     "model_name": "ProgressStyleModel",
     "state": {
      "_model_module": "@jupyter-widgets/controls",
      "_model_module_version": "1.5.0",
      "_model_name": "ProgressStyleModel",
      "_view_count": null,
      "_view_module": "@jupyter-widgets/base",
      "_view_module_version": "1.2.0",
      "_view_name": "StyleView",
      "bar_color": null,
      "description_width": "initial"
     }
    },
    "bae2e1044667445db4d325b27aa80531": {
     "model_module": "@jupyter-widgets/base",
     "model_name": "LayoutModel",
     "state": {
      "_model_module": "@jupyter-widgets/base",
      "_model_module_version": "1.2.0",
      "_model_name": "LayoutModel",
      "_view_count": null,
      "_view_module": "@jupyter-widgets/base",
      "_view_module_version": "1.2.0",
      "_view_name": "LayoutView",
      "align_content": null,
      "align_items": null,
      "align_self": null,
      "border": null,
      "bottom": null,
      "display": null,
      "flex": null,
      "flex_flow": null,
      "grid_area": null,
      "grid_auto_columns": null,
      "grid_auto_flow": null,
      "grid_auto_rows": null,
      "grid_column": null,
      "grid_gap": null,
      "grid_row": null,
      "grid_template_areas": null,
      "grid_template_columns": null,
      "grid_template_rows": null,
      "height": null,
      "justify_content": null,
      "justify_items": null,
      "left": null,
      "margin": null,
      "max_height": null,
      "max_width": null,
      "min_height": null,
      "min_width": null,
      "object_fit": null,
      "object_position": null,
      "order": null,
      "overflow": null,
      "overflow_x": null,
      "overflow_y": null,
      "padding": null,
      "right": null,
      "top": null,
      "visibility": null,
      "width": null
     }
    },
    "bcd83aa9f78b468bb9d62ba4c0a59324": {
     "model_module": "@jupyter-widgets/controls",
     "model_name": "HBoxModel",
     "state": {
      "_dom_classes": [],
      "_model_module": "@jupyter-widgets/controls",
      "_model_module_version": "1.5.0",
      "_model_name": "HBoxModel",
      "_view_count": null,
      "_view_module": "@jupyter-widgets/controls",
      "_view_module_version": "1.5.0",
      "_view_name": "HBoxView",
      "box_style": "",
      "children": [
       "IPY_MODEL_8c1877aa0cc247daa4232877681f39af",
       "IPY_MODEL_af4d083911b04ec1b010f622397d56f4"
      ],
      "layout": "IPY_MODEL_f5d3979f34a640318a660104c9e8ba50"
     }
    },
    "bd40fd9cbd344eddb35495cb46e14103": {
     "model_module": "@jupyter-widgets/base",
     "model_name": "LayoutModel",
     "state": {
      "_model_module": "@jupyter-widgets/base",
      "_model_module_version": "1.2.0",
      "_model_name": "LayoutModel",
      "_view_count": null,
      "_view_module": "@jupyter-widgets/base",
      "_view_module_version": "1.2.0",
      "_view_name": "LayoutView",
      "align_content": null,
      "align_items": null,
      "align_self": null,
      "border": null,
      "bottom": null,
      "display": null,
      "flex": null,
      "flex_flow": null,
      "grid_area": null,
      "grid_auto_columns": null,
      "grid_auto_flow": null,
      "grid_auto_rows": null,
      "grid_column": null,
      "grid_gap": null,
      "grid_row": null,
      "grid_template_areas": null,
      "grid_template_columns": null,
      "grid_template_rows": null,
      "height": null,
      "justify_content": null,
      "justify_items": null,
      "left": null,
      "margin": null,
      "max_height": null,
      "max_width": null,
      "min_height": null,
      "min_width": null,
      "object_fit": null,
      "object_position": null,
      "order": null,
      "overflow": null,
      "overflow_x": null,
      "overflow_y": null,
      "padding": null,
      "right": null,
      "top": null,
      "visibility": null,
      "width": null
     }
    },
    "bef09922dc034405903324c1f9948c07": {
     "model_module": "@jupyter-widgets/controls",
     "model_name": "ProgressStyleModel",
     "state": {
      "_model_module": "@jupyter-widgets/controls",
      "_model_module_version": "1.5.0",
      "_model_name": "ProgressStyleModel",
      "_view_count": null,
      "_view_module": "@jupyter-widgets/base",
      "_view_module_version": "1.2.0",
      "_view_name": "StyleView",
      "bar_color": null,
      "description_width": "initial"
     }
    },
    "c682c1d895b74f5db0563bfd1801a39b": {
     "model_module": "@jupyter-widgets/controls",
     "model_name": "DescriptionStyleModel",
     "state": {
      "_model_module": "@jupyter-widgets/controls",
      "_model_module_version": "1.5.0",
      "_model_name": "DescriptionStyleModel",
      "_view_count": null,
      "_view_module": "@jupyter-widgets/base",
      "_view_module_version": "1.2.0",
      "_view_name": "StyleView",
      "description_width": ""
     }
    },
    "cd31018580c946d981189561fd71cd8a": {
     "model_module": "@jupyter-widgets/controls",
     "model_name": "DescriptionStyleModel",
     "state": {
      "_model_module": "@jupyter-widgets/controls",
      "_model_module_version": "1.5.0",
      "_model_name": "DescriptionStyleModel",
      "_view_count": null,
      "_view_module": "@jupyter-widgets/base",
      "_view_module_version": "1.2.0",
      "_view_name": "StyleView",
      "description_width": ""
     }
    },
    "cef623c21a1346038f7a75254b071573": {
     "model_module": "@jupyter-widgets/controls",
     "model_name": "ProgressStyleModel",
     "state": {
      "_model_module": "@jupyter-widgets/controls",
      "_model_module_version": "1.5.0",
      "_model_name": "ProgressStyleModel",
      "_view_count": null,
      "_view_module": "@jupyter-widgets/base",
      "_view_module_version": "1.2.0",
      "_view_name": "StyleView",
      "bar_color": null,
      "description_width": "initial"
     }
    },
    "d6b90db4a82f46ac8608cb426b07639d": {
     "model_module": "@jupyter-widgets/controls",
     "model_name": "DescriptionStyleModel",
     "state": {
      "_model_module": "@jupyter-widgets/controls",
      "_model_module_version": "1.5.0",
      "_model_name": "DescriptionStyleModel",
      "_view_count": null,
      "_view_module": "@jupyter-widgets/base",
      "_view_module_version": "1.2.0",
      "_view_name": "StyleView",
      "description_width": ""
     }
    },
    "dc4769adbbf3497db8620a743da82b58": {
     "model_module": "@jupyter-widgets/controls",
     "model_name": "HBoxModel",
     "state": {
      "_dom_classes": [],
      "_model_module": "@jupyter-widgets/controls",
      "_model_module_version": "1.5.0",
      "_model_name": "HBoxModel",
      "_view_count": null,
      "_view_module": "@jupyter-widgets/controls",
      "_view_module_version": "1.5.0",
      "_view_name": "HBoxView",
      "box_style": "",
      "children": [
       "IPY_MODEL_f54b251a7c3f4331bbb9a139c93dc8d1",
       "IPY_MODEL_f9aed9464eac4b77b13e4ba98835f414"
      ],
      "layout": "IPY_MODEL_a9035e95770145fa9814c64a1e77414e"
     }
    },
    "e2164b3b9276459899dc33a008bdddf8": {
     "model_module": "@jupyter-widgets/base",
     "model_name": "LayoutModel",
     "state": {
      "_model_module": "@jupyter-widgets/base",
      "_model_module_version": "1.2.0",
      "_model_name": "LayoutModel",
      "_view_count": null,
      "_view_module": "@jupyter-widgets/base",
      "_view_module_version": "1.2.0",
      "_view_name": "LayoutView",
      "align_content": null,
      "align_items": null,
      "align_self": null,
      "border": null,
      "bottom": null,
      "display": null,
      "flex": null,
      "flex_flow": null,
      "grid_area": null,
      "grid_auto_columns": null,
      "grid_auto_flow": null,
      "grid_auto_rows": null,
      "grid_column": null,
      "grid_gap": null,
      "grid_row": null,
      "grid_template_areas": null,
      "grid_template_columns": null,
      "grid_template_rows": null,
      "height": null,
      "justify_content": null,
      "justify_items": null,
      "left": null,
      "margin": null,
      "max_height": null,
      "max_width": null,
      "min_height": null,
      "min_width": null,
      "object_fit": null,
      "object_position": null,
      "order": null,
      "overflow": null,
      "overflow_x": null,
      "overflow_y": null,
      "padding": null,
      "right": null,
      "top": null,
      "visibility": null,
      "width": null
     }
    },
    "eec3946e73864c1593d09cf70cf1fb49": {
     "model_module": "@jupyter-widgets/base",
     "model_name": "LayoutModel",
     "state": {
      "_model_module": "@jupyter-widgets/base",
      "_model_module_version": "1.2.0",
      "_model_name": "LayoutModel",
      "_view_count": null,
      "_view_module": "@jupyter-widgets/base",
      "_view_module_version": "1.2.0",
      "_view_name": "LayoutView",
      "align_content": null,
      "align_items": null,
      "align_self": null,
      "border": null,
      "bottom": null,
      "display": null,
      "flex": null,
      "flex_flow": null,
      "grid_area": null,
      "grid_auto_columns": null,
      "grid_auto_flow": null,
      "grid_auto_rows": null,
      "grid_column": null,
      "grid_gap": null,
      "grid_row": null,
      "grid_template_areas": null,
      "grid_template_columns": null,
      "grid_template_rows": null,
      "height": null,
      "justify_content": null,
      "justify_items": null,
      "left": null,
      "margin": null,
      "max_height": null,
      "max_width": null,
      "min_height": null,
      "min_width": null,
      "object_fit": null,
      "object_position": null,
      "order": null,
      "overflow": null,
      "overflow_x": null,
      "overflow_y": null,
      "padding": null,
      "right": null,
      "top": null,
      "visibility": null,
      "width": null
     }
    },
    "f01526f44f214a9a9bf4d5bd6381e9a6": {
     "model_module": "@jupyter-widgets/controls",
     "model_name": "FloatProgressModel",
     "state": {
      "_dom_classes": [],
      "_model_module": "@jupyter-widgets/controls",
      "_model_module_version": "1.5.0",
      "_model_name": "FloatProgressModel",
      "_view_count": null,
      "_view_module": "@jupyter-widgets/controls",
      "_view_module_version": "1.5.0",
      "_view_name": "ProgressView",
      "bar_style": "success",
      "description": "100%",
      "description_tooltip": null,
      "layout": "IPY_MODEL_f368bb046a2740999f19892434ca022e",
      "max": 256,
      "min": 0,
      "orientation": "horizontal",
      "style": "IPY_MODEL_07376b3625634908935bb67a326c10e1",
      "value": 256
     }
    },
    "f368bb046a2740999f19892434ca022e": {
     "model_module": "@jupyter-widgets/base",
     "model_name": "LayoutModel",
     "state": {
      "_model_module": "@jupyter-widgets/base",
      "_model_module_version": "1.2.0",
      "_model_name": "LayoutModel",
      "_view_count": null,
      "_view_module": "@jupyter-widgets/base",
      "_view_module_version": "1.2.0",
      "_view_name": "LayoutView",
      "align_content": null,
      "align_items": null,
      "align_self": null,
      "border": null,
      "bottom": null,
      "display": null,
      "flex": null,
      "flex_flow": null,
      "grid_area": null,
      "grid_auto_columns": null,
      "grid_auto_flow": null,
      "grid_auto_rows": null,
      "grid_column": null,
      "grid_gap": null,
      "grid_row": null,
      "grid_template_areas": null,
      "grid_template_columns": null,
      "grid_template_rows": null,
      "height": null,
      "justify_content": null,
      "justify_items": null,
      "left": null,
      "margin": null,
      "max_height": null,
      "max_width": null,
      "min_height": null,
      "min_width": null,
      "object_fit": null,
      "object_position": null,
      "order": null,
      "overflow": null,
      "overflow_x": null,
      "overflow_y": null,
      "padding": null,
      "right": null,
      "top": null,
      "visibility": null,
      "width": null
     }
    },
    "f3d3f20064994daf99f6df9b5f3fa641": {
     "model_module": "@jupyter-widgets/base",
     "model_name": "LayoutModel",
     "state": {
      "_model_module": "@jupyter-widgets/base",
      "_model_module_version": "1.2.0",
      "_model_name": "LayoutModel",
      "_view_count": null,
      "_view_module": "@jupyter-widgets/base",
      "_view_module_version": "1.2.0",
      "_view_name": "LayoutView",
      "align_content": null,
      "align_items": null,
      "align_self": null,
      "border": null,
      "bottom": null,
      "display": null,
      "flex": null,
      "flex_flow": null,
      "grid_area": null,
      "grid_auto_columns": null,
      "grid_auto_flow": null,
      "grid_auto_rows": null,
      "grid_column": null,
      "grid_gap": null,
      "grid_row": null,
      "grid_template_areas": null,
      "grid_template_columns": null,
      "grid_template_rows": null,
      "height": null,
      "justify_content": null,
      "justify_items": null,
      "left": null,
      "margin": null,
      "max_height": null,
      "max_width": null,
      "min_height": null,
      "min_width": null,
      "object_fit": null,
      "object_position": null,
      "order": null,
      "overflow": null,
      "overflow_x": null,
      "overflow_y": null,
      "padding": null,
      "right": null,
      "top": null,
      "visibility": null,
      "width": null
     }
    },
    "f54b251a7c3f4331bbb9a139c93dc8d1": {
     "model_module": "@jupyter-widgets/controls",
     "model_name": "FloatProgressModel",
     "state": {
      "_dom_classes": [],
      "_model_module": "@jupyter-widgets/controls",
      "_model_module_version": "1.5.0",
      "_model_name": "FloatProgressModel",
      "_view_count": null,
      "_view_module": "@jupyter-widgets/controls",
      "_view_module_version": "1.5.0",
      "_view_name": "ProgressView",
      "bar_style": "success",
      "description": "100%",
      "description_tooltip": null,
      "layout": "IPY_MODEL_a1ac4b3b37ad4746a667c0dd80bcd43d",
      "max": 308,
      "min": 0,
      "orientation": "horizontal",
      "style": "IPY_MODEL_bef09922dc034405903324c1f9948c07",
      "value": 308
     }
    },
    "f5d3979f34a640318a660104c9e8ba50": {
     "model_module": "@jupyter-widgets/base",
     "model_name": "LayoutModel",
     "state": {
      "_model_module": "@jupyter-widgets/base",
      "_model_module_version": "1.2.0",
      "_model_name": "LayoutModel",
      "_view_count": null,
      "_view_module": "@jupyter-widgets/base",
      "_view_module_version": "1.2.0",
      "_view_name": "LayoutView",
      "align_content": null,
      "align_items": null,
      "align_self": null,
      "border": null,
      "bottom": null,
      "display": null,
      "flex": null,
      "flex_flow": null,
      "grid_area": null,
      "grid_auto_columns": null,
      "grid_auto_flow": null,
      "grid_auto_rows": null,
      "grid_column": null,
      "grid_gap": null,
      "grid_row": null,
      "grid_template_areas": null,
      "grid_template_columns": null,
      "grid_template_rows": null,
      "height": null,
      "justify_content": null,
      "justify_items": null,
      "left": null,
      "margin": null,
      "max_height": null,
      "max_width": null,
      "min_height": null,
      "min_width": null,
      "object_fit": null,
      "object_position": null,
      "order": null,
      "overflow": null,
      "overflow_x": null,
      "overflow_y": null,
      "padding": null,
      "right": null,
      "top": null,
      "visibility": null,
      "width": null
     }
    },
    "f693f6ce93f44ecf8159214f91a65864": {
     "model_module": "@jupyter-widgets/controls",
     "model_name": "HBoxModel",
     "state": {
      "_dom_classes": [],
      "_model_module": "@jupyter-widgets/controls",
      "_model_module_version": "1.5.0",
      "_model_name": "HBoxModel",
      "_view_count": null,
      "_view_module": "@jupyter-widgets/controls",
      "_view_module_version": "1.5.0",
      "_view_name": "HBoxView",
      "box_style": "",
      "children": [
       "IPY_MODEL_6cceca6a2c0c42e9bc694ceb1bd0febd",
       "IPY_MODEL_5cd06d52ea4647cfb456bf9966ef9e44"
      ],
      "layout": "IPY_MODEL_ae65c6ae1f6843d2872846423b943e60"
     }
    },
    "f9aed9464eac4b77b13e4ba98835f414": {
     "model_module": "@jupyter-widgets/controls",
     "model_name": "HTMLModel",
     "state": {
      "_dom_classes": [],
      "_model_module": "@jupyter-widgets/controls",
      "_model_module_version": "1.5.0",
      "_model_name": "HTMLModel",
      "_view_count": null,
      "_view_module": "@jupyter-widgets/controls",
      "_view_module_version": "1.5.0",
      "_view_name": "HTMLView",
      "description": "",
      "description_tooltip": null,
      "layout": "IPY_MODEL_08d12b4391664079ac12e056eed69186",
      "placeholder": "​",
      "style": "IPY_MODEL_5da011677ee54269adb8d09579b593ba",
      "value": " 308/308 [00:19&lt;00:00, 15.91it/s]"
     }
    }
   }
  }
 },
 "nbformat": 4,
 "nbformat_minor": 4
}
