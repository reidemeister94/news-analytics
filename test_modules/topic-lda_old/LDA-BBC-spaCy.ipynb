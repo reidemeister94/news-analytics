{
 "cells": [
  {
   "cell_type": "code",
   "execution_count": 1,
   "metadata": {
    "colab": {},
    "colab_type": "code",
    "id": "wSIXNM1_XInT"
   },
   "outputs": [],
   "source": [
    "import pandas as pd\n",
    "import numpy as np\n",
    "\n",
    "import gensim\n",
    "import gensim.corpora as corpora\n",
    "#from gensim.models import CoherenceModel <-- lda model evaluation\n",
    "from gensim import models\n",
    "from gensim.models import Phrases\n",
    "\n",
    "import spacy\n",
    "\n",
    "from pprint import pprint"
   ]
  },
  {
   "cell_type": "code",
   "execution_count": 2,
   "metadata": {
    "colab": {},
    "colab_type": "code",
    "id": "X0p3mOtOXInh"
   },
   "outputs": [],
   "source": [
    "data = pd.read_csv('articles_bbc_2018_01_30.csv')"
   ]
  },
  {
   "cell_type": "code",
   "execution_count": 3,
   "metadata": {
    "colab": {},
    "colab_type": "code",
    "id": "2Kh7j_HBXInx"
   },
   "outputs": [],
   "source": [
    "data = data.dropna().reset_index(drop=True)"
   ]
  },
  {
   "cell_type": "code",
   "execution_count": 4,
   "metadata": {
    "colab": {
     "base_uri": "https://localhost:8080/",
     "height": 34
    },
    "colab_type": "code",
    "id": "i5As9JcCXIn1",
    "outputId": "6225943b-ec82-4b19-86d5-997f566b0017"
   },
   "outputs": [
    {
     "data": {
      "text/plain": [
       "(308, 2)"
      ]
     },
     "execution_count": 4,
     "metadata": {},
     "output_type": "execute_result"
    }
   ],
   "source": [
    "data.shape"
   ]
  },
  {
   "cell_type": "code",
   "execution_count": 5,
   "metadata": {},
   "outputs": [],
   "source": [
    "nlp = spacy.load(\"en_core_web_md\")"
   ]
  },
  {
   "cell_type": "code",
   "execution_count": 6,
   "metadata": {},
   "outputs": [],
   "source": [
    "# Workaround to fix spaCy's stopwords not being recognized\n",
    "for word in nlp.Defaults.stop_words:\n",
    "    w = nlp.vocab[word]\n",
    "    w.is_stop = True"
   ]
  },
  {
   "cell_type": "code",
   "execution_count": 7,
   "metadata": {},
   "outputs": [],
   "source": [
    "# Adding custom stop words\n",
    "stopwords_verbs = ['say', 'get', 'go', 'know', 'may', 'need', 'like', 'make', 'see', 'want', 'come', 'take', 'use', 'would', 'can']\n",
    "stopwords_other = ['one', 'mr', 'bbc', 'image', 'getty', 'de', 'en', 'caption', 'also', 'copyright', 'something']\n",
    "stopwords_custom = stopwords_verbs + stopwords_other\n",
    "\n",
    "for word in stopwords_custom:\n",
    "    w = nlp.vocab[word]\n",
    "    w.is_stop = True"
   ]
  },
  {
   "cell_type": "markdown",
   "metadata": {
    "colab_type": "text",
    "id": "QBU8fQsvXIn7"
   },
   "source": [
    "# Cleaning"
   ]
  },
  {
   "cell_type": "markdown",
   "metadata": {
    "colab_type": "text",
    "id": "GMrFAVvuXIn8"
   },
   "source": [
    "#### Keeping English articles"
   ]
  },
  {
   "cell_type": "code",
   "execution_count": 8,
   "metadata": {
    "colab": {
     "base_uri": "https://localhost:8080/",
     "height": 120,
     "referenced_widgets": [
      "4477369ca5e94505982067658c124474",
      "5dcb98eae3d74712aa93d7623b5db85d",
      "65c91f960e0645f4902d762df7b38e70",
      "ac80a09d77db4c39bd8b3d2faa0c6276",
      "cef623c21a1346038f7a75254b071573",
      "bd40fd9cbd344eddb35495cb46e14103",
      "d6b90db4a82f46ac8608cb426b07639d",
      "e2164b3b9276459899dc33a008bdddf8"
     ]
    },
    "colab_type": "code",
    "id": "909gH72HXIn9",
    "outputId": "d06cf694-d957-497a-f1e8-39ae5346e1df"
   },
   "outputs": [],
   "source": [
    "from langdetect import detect"
   ]
  },
  {
   "cell_type": "code",
   "execution_count": 9,
   "metadata": {
    "colab": {
     "base_uri": "https://localhost:8080/",
     "height": 83,
     "referenced_widgets": [
      "dc4769adbbf3497db8620a743da82b58",
      "a9035e95770145fa9814c64a1e77414e",
      "f54b251a7c3f4331bbb9a139c93dc8d1",
      "f9aed9464eac4b77b13e4ba98835f414",
      "bef09922dc034405903324c1f9948c07",
      "a1ac4b3b37ad4746a667c0dd80bcd43d",
      "5da011677ee54269adb8d09579b593ba",
      "08d12b4391664079ac12e056eed69186"
     ]
    },
    "colab_type": "code",
    "id": "Cj9n1yXgXIoB",
    "outputId": "77805696-d0c9-4528-cca9-22531196514a"
   },
   "outputs": [],
   "source": [
    "# Ri-crea la colonna 'lang' usando il detector per capire che lingua è\n",
    "# (risolvendo possibili entry sbagliate)\n",
    "data['lang'] = pd.Series([detect(article) for article in data.articles])"
   ]
  },
  {
   "cell_type": "code",
   "execution_count": 10,
   "metadata": {
    "colab": {
     "base_uri": "https://localhost:8080/",
     "height": 272
    },
    "colab_type": "code",
    "id": "z33dlSd0XIoG",
    "outputId": "c11ec897-5e77-42a6-bde7-da55796d1eee"
   },
   "outputs": [
    {
     "data": {
      "text/plain": [
       "en    257\n",
       "fa      9\n",
       "fr      7\n",
       "id      5\n",
       "ru      4\n",
       "ar      4\n",
       "vi      4\n",
       "hi      4\n",
       "uk      4\n",
       "sw      3\n",
       "es      2\n",
       "tr      2\n",
       "pt      2\n",
       "de      1\n",
       "Name: lang, dtype: int64"
      ]
     },
     "execution_count": 10,
     "metadata": {},
     "output_type": "execute_result"
    }
   ],
   "source": [
    "data.lang.value_counts()"
   ]
  },
  {
   "cell_type": "code",
   "execution_count": 11,
   "metadata": {
    "colab": {
     "base_uri": "https://localhost:8080/",
     "height": 34
    },
    "colab_type": "code",
    "id": "bgjlrTOhXIoK",
    "outputId": "e5af4f68-a2cb-40f0-feb9-4a683267db8d"
   },
   "outputs": [
    {
     "data": {
      "text/plain": [
       "(257, 2)"
      ]
     },
     "execution_count": 11,
     "metadata": {},
     "output_type": "execute_result"
    }
   ],
   "source": [
    "# Mi tengo solo quelli inglesi\n",
    "data = data.loc[data.lang=='en']\n",
    "data.shape"
   ]
  },
  {
   "cell_type": "code",
   "execution_count": 12,
   "metadata": {},
   "outputs": [
    {
     "data": {
      "text/plain": [
       "\"\\narticles_dict = {}\\narticles_list = []\\ni = 0\\nfor doc in data['articles']:\\n    a = {}\\n    a['id'] = i\\n    a['text'] = doc\\n    i += 1\\n    articles_list.append(a)\\narticles_dict['articles'] = articles_list\\nimport json\\nfile = '/Users/lorenzocorti/Desktop/Poli/Assegno/Trigger/news-analytics/test_modules/topic_extraction/data.json'\\nwith open(file, 'w') as fp:\\n    json.dump(articles_dict, fp)\\n\""
      ]
     },
     "execution_count": 12,
     "metadata": {},
     "output_type": "execute_result"
    }
   ],
   "source": [
    "# Saving english articles to JSON\n",
    "'''\n",
    "articles_dict = {}\n",
    "articles_list = []\n",
    "i = 0\n",
    "for doc in data['articles']:\n",
    "    a = {}\n",
    "    a['id'] = i\n",
    "    a['text'] = doc\n",
    "    i += 1\n",
    "    articles_list.append(a)\n",
    "articles_dict['articles'] = articles_list\n",
    "import json\n",
    "file = '/Users/lorenzocorti/Desktop/Poli/Assegno/Trigger/news-analytics/test_modules/topic_extraction/data.json'\n",
    "with open(file, 'w') as fp:\n",
    "    json.dump(articles_dict, fp)\n",
    "'''"
   ]
  },
  {
   "cell_type": "markdown",
   "metadata": {
    "colab_type": "text",
    "id": "Id5HL3CYXIoO"
   },
   "source": [
    "#### Tokenization (already done when going string -> doc objects)"
   ]
  },
  {
   "cell_type": "markdown",
   "metadata": {},
   "source": [
    "Convert articles from string to spaCy's doc objects"
   ]
  },
  {
   "cell_type": "code",
   "execution_count": 13,
   "metadata": {},
   "outputs": [
    {
     "data": {
      "text/plain": [
       "\"\\nspaCy already does this:\\n- tokenize\\n- lemmatize\\n- POS tagging\\n- dependency parsing\\n- recognize stop words\\n- pair together noun chunks (e.g. 'the senate')\\n... others\\n\""
      ]
     },
     "execution_count": 13,
     "metadata": {},
     "output_type": "execute_result"
    }
   ],
   "source": [
    "data['articles'] = data['articles'].map(nlp)\n",
    "'''\n",
    "spaCy already does this:\n",
    "- tokenize\n",
    "- lemmatize\n",
    "- POS tagging\n",
    "- dependency parsing\n",
    "- recognize stop words\n",
    "- pair together noun chunks (e.g. 'the senate')\n",
    "... others\n",
    "'''"
   ]
  },
  {
   "cell_type": "code",
   "execution_count": 14,
   "metadata": {},
   "outputs": [
    {
     "data": {
      "text/html": [
       "<div>\n",
       "<style scoped>\n",
       "    .dataframe tbody tr th:only-of-type {\n",
       "        vertical-align: middle;\n",
       "    }\n",
       "\n",
       "    .dataframe tbody tr th {\n",
       "        vertical-align: top;\n",
       "    }\n",
       "\n",
       "    .dataframe thead th {\n",
       "        text-align: right;\n",
       "    }\n",
       "</style>\n",
       "<table border=\"1\" class=\"dataframe\">\n",
       "  <thead>\n",
       "    <tr style=\"text-align: right;\">\n",
       "      <th></th>\n",
       "      <th>articles</th>\n",
       "      <th>lang</th>\n",
       "    </tr>\n",
       "  </thead>\n",
       "  <tbody>\n",
       "    <tr>\n",
       "      <td>0</td>\n",
       "      <td>(Image, copyright, PA, /, EPA, Image, caption,...</td>\n",
       "      <td>en</td>\n",
       "    </tr>\n",
       "    <tr>\n",
       "      <td>1</td>\n",
       "      <td>(Husband, admits, killing, French, jogger, \\r\\...</td>\n",
       "      <td>en</td>\n",
       "    </tr>\n",
       "    <tr>\n",
       "      <td>2</td>\n",
       "      <td>(Media, playback, is, unsupported, on, your, d...</td>\n",
       "      <td>en</td>\n",
       "    </tr>\n",
       "    <tr>\n",
       "      <td>3</td>\n",
       "      <td>(Manchester, City, 's, Leroy, Sane, is, ruled,...</td>\n",
       "      <td>en</td>\n",
       "    </tr>\n",
       "    <tr>\n",
       "      <td>4</td>\n",
       "      <td>(Image, copyright, AFP, Image, caption, Sebast...</td>\n",
       "      <td>en</td>\n",
       "    </tr>\n",
       "  </tbody>\n",
       "</table>\n",
       "</div>"
      ],
      "text/plain": [
       "                                            articles lang\n",
       "0  (Image, copyright, PA, /, EPA, Image, caption,...   en\n",
       "1  (Husband, admits, killing, French, jogger, \\r\\...   en\n",
       "2  (Media, playback, is, unsupported, on, your, d...   en\n",
       "3  (Manchester, City, 's, Leroy, Sane, is, ruled,...   en\n",
       "4  (Image, copyright, AFP, Image, caption, Sebast...   en"
      ]
     },
     "execution_count": 14,
     "metadata": {},
     "output_type": "execute_result"
    }
   ],
   "source": [
    "data.head()"
   ]
  },
  {
   "cell_type": "markdown",
   "metadata": {},
   "source": [
    "Sentences"
   ]
  },
  {
   "cell_type": "code",
   "execution_count": 15,
   "metadata": {},
   "outputs": [],
   "source": [
    "def sentencizer(doc):\n",
    "    #return [sent.text for sent in doc.sents]    # returns sentences in raw text\n",
    "    return [sent for sent in doc.sents]         # returns spaCy's sentence objects\n",
    "\n",
    "data['sentences'] = data['articles'].map(sentencizer)"
   ]
  },
  {
   "cell_type": "code",
   "execution_count": 16,
   "metadata": {},
   "outputs": [
    {
     "data": {
      "text/html": [
       "<div>\n",
       "<style scoped>\n",
       "    .dataframe tbody tr th:only-of-type {\n",
       "        vertical-align: middle;\n",
       "    }\n",
       "\n",
       "    .dataframe tbody tr th {\n",
       "        vertical-align: top;\n",
       "    }\n",
       "\n",
       "    .dataframe thead th {\n",
       "        text-align: right;\n",
       "    }\n",
       "</style>\n",
       "<table border=\"1\" class=\"dataframe\">\n",
       "  <thead>\n",
       "    <tr style=\"text-align: right;\">\n",
       "      <th></th>\n",
       "      <th>articles</th>\n",
       "      <th>lang</th>\n",
       "      <th>sentences</th>\n",
       "    </tr>\n",
       "  </thead>\n",
       "  <tbody>\n",
       "    <tr>\n",
       "      <td>0</td>\n",
       "      <td>(Image, copyright, PA, /, EPA, Image, caption,...</td>\n",
       "      <td>en</td>\n",
       "      <td>[(Image, copyright, PA, /, EPA, Image, caption...</td>\n",
       "    </tr>\n",
       "    <tr>\n",
       "      <td>1</td>\n",
       "      <td>(Husband, admits, killing, French, jogger, \\r\\...</td>\n",
       "      <td>en</td>\n",
       "      <td>[(Husband, admits, killing, French, jogger, \\r...</td>\n",
       "    </tr>\n",
       "    <tr>\n",
       "      <td>2</td>\n",
       "      <td>(Media, playback, is, unsupported, on, your, d...</td>\n",
       "      <td>en</td>\n",
       "      <td>[(Media, playback, is, unsupported, on, your, ...</td>\n",
       "    </tr>\n",
       "    <tr>\n",
       "      <td>3</td>\n",
       "      <td>(Manchester, City, 's, Leroy, Sane, is, ruled,...</td>\n",
       "      <td>en</td>\n",
       "      <td>[(Manchester, City, 's, Leroy, Sane, is, ruled...</td>\n",
       "    </tr>\n",
       "    <tr>\n",
       "      <td>4</td>\n",
       "      <td>(Image, copyright, AFP, Image, caption, Sebast...</td>\n",
       "      <td>en</td>\n",
       "      <td>[(Image, copyright, AFP, Image, caption, Sebas...</td>\n",
       "    </tr>\n",
       "  </tbody>\n",
       "</table>\n",
       "</div>"
      ],
      "text/plain": [
       "                                            articles lang  \\\n",
       "0  (Image, copyright, PA, /, EPA, Image, caption,...   en   \n",
       "1  (Husband, admits, killing, French, jogger, \\r\\...   en   \n",
       "2  (Media, playback, is, unsupported, on, your, d...   en   \n",
       "3  (Manchester, City, 's, Leroy, Sane, is, ruled,...   en   \n",
       "4  (Image, copyright, AFP, Image, caption, Sebast...   en   \n",
       "\n",
       "                                           sentences  \n",
       "0  [(Image, copyright, PA, /, EPA, Image, caption...  \n",
       "1  [(Husband, admits, killing, French, jogger, \\r...  \n",
       "2  [(Media, playback, is, unsupported, on, your, ...  \n",
       "3  [(Manchester, City, 's, Leroy, Sane, is, ruled...  \n",
       "4  [(Image, copyright, AFP, Image, caption, Sebas...  "
      ]
     },
     "execution_count": 16,
     "metadata": {},
     "output_type": "execute_result"
    }
   ],
   "source": [
    "data.head()"
   ]
  },
  {
   "cell_type": "code",
   "execution_count": 17,
   "metadata": {},
   "outputs": [
    {
     "name": "stdout",
     "output_type": "stream",
     "text": [
      "[The middle of nowhere\n",
      "\n",
      ",\n",
      " Five miles from the South Dakota border in the remote northern reaches of the US state of Nebraska, a long dirt road cuts through rolling prairie grasslands and golden wheat fields towards downtown Monowi, a place you can see in its entirety by climbing any of its hay bales.\n",
      "\n",
      ",\n",
      " An abandoned church, whose empty pews are now filled with tractor tyres, stands opposite the decaying skeleton of a grain elevator.,\n",
      " Weeds and brome grass twist around the rotting remnants of homes that are collapsing in on themselves.,\n",
      " And inside a white, squat building with paint peeling off its frame, 84-year-old Elsie Eiler is flipping pork fritters and cracking open beer bottles for a pair of regulars under a sign that reads: “,\n",
      " Welcome To The World Famous Monowi Tavern.,\n",
      " Coldest Beer In Town!”\n",
      "\n",
      ",\n",
      " When Eiler’s husband, Rudy, passed away in 2004, he didn’t just leave her to run the tavern, but the whole town.,\n",
      " Today, according to the US Census, Monowi is the only incorporated place in the US with just one resident, and Eiler is the mayor, clerk, treasurer, librarian, bartender and only person left in the US’ tiniest town.]\n"
     ]
    }
   ],
   "source": [
    "pprint(data['sentences'][5]) # 8 sentences"
   ]
  },
  {
   "cell_type": "markdown",
   "metadata": {
    "colab_type": "text",
    "id": "ouDbv5BcXIod"
   },
   "source": [
    "#### Lemmatizing + stop word removal"
   ]
  },
  {
   "cell_type": "code",
   "execution_count": 18,
   "metadata": {},
   "outputs": [],
   "source": [
    "# lemmatize each token if it's not a stop word and its length > 1\n",
    "def lemmatizer(doc):\n",
    "    lemmas = []\n",
    "    for sent in doc:\n",
    "        lemmas.append([token.lemma_ for token in sent \n",
    "            if (not nlp.vocab[token.lower_].is_stop and not token.is_punct and len(token.text)>1)])\n",
    "    return lemmas\n",
    "\n",
    "data['tokens_sentences_lemmatized'] = data['sentences'].map(lemmatizer)"
   ]
  },
  {
   "cell_type": "code",
   "execution_count": 19,
   "metadata": {},
   "outputs": [
    {
     "data": {
      "text/html": [
       "<div>\n",
       "<style scoped>\n",
       "    .dataframe tbody tr th:only-of-type {\n",
       "        vertical-align: middle;\n",
       "    }\n",
       "\n",
       "    .dataframe tbody tr th {\n",
       "        vertical-align: top;\n",
       "    }\n",
       "\n",
       "    .dataframe thead th {\n",
       "        text-align: right;\n",
       "    }\n",
       "</style>\n",
       "<table border=\"1\" class=\"dataframe\">\n",
       "  <thead>\n",
       "    <tr style=\"text-align: right;\">\n",
       "      <th></th>\n",
       "      <th>articles</th>\n",
       "      <th>lang</th>\n",
       "      <th>sentences</th>\n",
       "      <th>tokens_sentences_lemmatized</th>\n",
       "    </tr>\n",
       "  </thead>\n",
       "  <tbody>\n",
       "    <tr>\n",
       "      <td>0</td>\n",
       "      <td>(Image, copyright, PA, /, EPA, Image, caption,...</td>\n",
       "      <td>en</td>\n",
       "      <td>[(Image, copyright, PA, /, EPA, Image, caption...</td>\n",
       "      <td>[[PA, EPA, oligarch, Roman, Abramovich, PM, Dm...</td>\n",
       "    </tr>\n",
       "    <tr>\n",
       "      <td>1</td>\n",
       "      <td>(Husband, admits, killing, French, jogger, \\r\\...</td>\n",
       "      <td>en</td>\n",
       "      <td>[(Husband, admits, killing, French, jogger, \\r...</td>\n",
       "      <td>[[husband, admit, kill, french, jogger, \\r\\n\\r...</td>\n",
       "    </tr>\n",
       "    <tr>\n",
       "      <td>2</td>\n",
       "      <td>(Media, playback, is, unsupported, on, your, d...</td>\n",
       "      <td>en</td>\n",
       "      <td>[(Media, playback, is, unsupported, on, your, ...</td>\n",
       "      <td>[[medium, playback, unsupported, device, media...</td>\n",
       "    </tr>\n",
       "    <tr>\n",
       "      <td>3</td>\n",
       "      <td>(Manchester, City, 's, Leroy, Sane, is, ruled,...</td>\n",
       "      <td>en</td>\n",
       "      <td>[(Manchester, City, 's, Leroy, Sane, is, ruled...</td>\n",
       "      <td>[[Manchester, City, Leroy, Sane, rule, seven, ...</td>\n",
       "    </tr>\n",
       "    <tr>\n",
       "      <td>4</td>\n",
       "      <td>(Image, copyright, AFP, Image, caption, Sebast...</td>\n",
       "      <td>en</td>\n",
       "      <td>[(Image, copyright, AFP, Image, caption, Sebas...</td>\n",
       "      <td>[[AFP, Sebastien, Bras, take, famed, restauran...</td>\n",
       "    </tr>\n",
       "  </tbody>\n",
       "</table>\n",
       "</div>"
      ],
      "text/plain": [
       "                                            articles lang  \\\n",
       "0  (Image, copyright, PA, /, EPA, Image, caption,...   en   \n",
       "1  (Husband, admits, killing, French, jogger, \\r\\...   en   \n",
       "2  (Media, playback, is, unsupported, on, your, d...   en   \n",
       "3  (Manchester, City, 's, Leroy, Sane, is, ruled,...   en   \n",
       "4  (Image, copyright, AFP, Image, caption, Sebast...   en   \n",
       "\n",
       "                                           sentences  \\\n",
       "0  [(Image, copyright, PA, /, EPA, Image, caption...   \n",
       "1  [(Husband, admits, killing, French, jogger, \\r...   \n",
       "2  [(Media, playback, is, unsupported, on, your, ...   \n",
       "3  [(Manchester, City, 's, Leroy, Sane, is, ruled...   \n",
       "4  [(Image, copyright, AFP, Image, caption, Sebas...   \n",
       "\n",
       "                         tokens_sentences_lemmatized  \n",
       "0  [[PA, EPA, oligarch, Roman, Abramovich, PM, Dm...  \n",
       "1  [[husband, admit, kill, french, jogger, \\r\\n\\r...  \n",
       "2  [[medium, playback, unsupported, device, media...  \n",
       "3  [[Manchester, City, Leroy, Sane, rule, seven, ...  \n",
       "4  [[AFP, Sebastien, Bras, take, famed, restauran...  "
      ]
     },
     "execution_count": 19,
     "metadata": {},
     "output_type": "execute_result"
    }
   ],
   "source": [
    "data.head()"
   ]
  },
  {
   "cell_type": "code",
   "execution_count": 20,
   "metadata": {
    "colab": {
     "base_uri": "https://localhost:8080/",
     "height": 527
    },
    "colab_type": "code",
    "id": "ASb2Gy21XIo9",
    "outputId": "170fb178-d335-4620-8caa-4d5683e6648a",
    "scrolled": true
   },
   "outputs": [
    {
     "data": {
      "text/html": [
       "<div>\n",
       "<style scoped>\n",
       "    .dataframe tbody tr th:only-of-type {\n",
       "        vertical-align: middle;\n",
       "    }\n",
       "\n",
       "    .dataframe tbody tr th {\n",
       "        vertical-align: top;\n",
       "    }\n",
       "\n",
       "    .dataframe thead th {\n",
       "        text-align: right;\n",
       "    }\n",
       "</style>\n",
       "<table border=\"1\" class=\"dataframe\">\n",
       "  <thead>\n",
       "    <tr style=\"text-align: right;\">\n",
       "      <th></th>\n",
       "      <th>articles</th>\n",
       "      <th>lang</th>\n",
       "      <th>sentences</th>\n",
       "      <th>tokens_sentences_lemmatized</th>\n",
       "      <th>tokens</th>\n",
       "    </tr>\n",
       "  </thead>\n",
       "  <tbody>\n",
       "    <tr>\n",
       "      <td>0</td>\n",
       "      <td>(Image, copyright, PA, /, EPA, Image, caption,...</td>\n",
       "      <td>en</td>\n",
       "      <td>[(Image, copyright, PA, /, EPA, Image, caption...</td>\n",
       "      <td>[[PA, EPA, oligarch, Roman, Abramovich, PM, Dm...</td>\n",
       "      <td>[PA, EPA, oligarch, Roman, Abramovich, PM, Dmi...</td>\n",
       "    </tr>\n",
       "    <tr>\n",
       "      <td>1</td>\n",
       "      <td>(Husband, admits, killing, French, jogger, \\r\\...</td>\n",
       "      <td>en</td>\n",
       "      <td>[(Husband, admits, killing, French, jogger, \\r...</td>\n",
       "      <td>[[husband, admit, kill, french, jogger, \\r\\n\\r...</td>\n",
       "      <td>[husband, admit, kill, french, jogger, \\r\\n\\r\\...</td>\n",
       "    </tr>\n",
       "    <tr>\n",
       "      <td>2</td>\n",
       "      <td>(Media, playback, is, unsupported, on, your, d...</td>\n",
       "      <td>en</td>\n",
       "      <td>[(Media, playback, is, unsupported, on, your, ...</td>\n",
       "      <td>[[medium, playback, unsupported, device, media...</td>\n",
       "      <td>[medium, playback, unsupported, device, media,...</td>\n",
       "    </tr>\n",
       "    <tr>\n",
       "      <td>3</td>\n",
       "      <td>(Manchester, City, 's, Leroy, Sane, is, ruled,...</td>\n",
       "      <td>en</td>\n",
       "      <td>[(Manchester, City, 's, Leroy, Sane, is, ruled...</td>\n",
       "      <td>[[Manchester, City, Leroy, Sane, rule, seven, ...</td>\n",
       "      <td>[Manchester, City, Leroy, Sane, rule, seven, w...</td>\n",
       "    </tr>\n",
       "    <tr>\n",
       "      <td>4</td>\n",
       "      <td>(Image, copyright, AFP, Image, caption, Sebast...</td>\n",
       "      <td>en</td>\n",
       "      <td>[(Image, copyright, AFP, Image, caption, Sebas...</td>\n",
       "      <td>[[AFP, Sebastien, Bras, take, famed, restauran...</td>\n",
       "      <td>[AFP, Sebastien, Bras, take, famed, restaurant...</td>\n",
       "    </tr>\n",
       "  </tbody>\n",
       "</table>\n",
       "</div>"
      ],
      "text/plain": [
       "                                            articles lang  \\\n",
       "0  (Image, copyright, PA, /, EPA, Image, caption,...   en   \n",
       "1  (Husband, admits, killing, French, jogger, \\r\\...   en   \n",
       "2  (Media, playback, is, unsupported, on, your, d...   en   \n",
       "3  (Manchester, City, 's, Leroy, Sane, is, ruled,...   en   \n",
       "4  (Image, copyright, AFP, Image, caption, Sebast...   en   \n",
       "\n",
       "                                           sentences  \\\n",
       "0  [(Image, copyright, PA, /, EPA, Image, caption...   \n",
       "1  [(Husband, admits, killing, French, jogger, \\r...   \n",
       "2  [(Media, playback, is, unsupported, on, your, ...   \n",
       "3  [(Manchester, City, 's, Leroy, Sane, is, ruled...   \n",
       "4  [(Image, copyright, AFP, Image, caption, Sebas...   \n",
       "\n",
       "                         tokens_sentences_lemmatized  \\\n",
       "0  [[PA, EPA, oligarch, Roman, Abramovich, PM, Dm...   \n",
       "1  [[husband, admit, kill, french, jogger, \\r\\n\\r...   \n",
       "2  [[medium, playback, unsupported, device, media...   \n",
       "3  [[Manchester, City, Leroy, Sane, rule, seven, ...   \n",
       "4  [[AFP, Sebastien, Bras, take, famed, restauran...   \n",
       "\n",
       "                                              tokens  \n",
       "0  [PA, EPA, oligarch, Roman, Abramovich, PM, Dmi...  \n",
       "1  [husband, admit, kill, french, jogger, \\r\\n\\r\\...  \n",
       "2  [medium, playback, unsupported, device, media,...  \n",
       "3  [Manchester, City, Leroy, Sane, rule, seven, w...  \n",
       "4  [AFP, Sebastien, Bras, take, famed, restaurant...  "
      ]
     },
     "execution_count": 20,
     "metadata": {},
     "output_type": "execute_result"
    }
   ],
   "source": [
    "from itertools import chain\n",
    "def flatten_tokens(doc):\n",
    "    return list(chain.from_iterable(doc))\n",
    "#data['tokens'] = data['tokens_sentences_lemmatized'].map(lambda sentences: list(chain.from_iterable(sentences)))\n",
    "data['tokens'] = data['tokens_sentences_lemmatized'].map(flatten_tokens)\n",
    "data.head()"
   ]
  },
  {
   "cell_type": "markdown",
   "metadata": {
    "colab_type": "text",
    "id": "omsJ_MG2XIpA"
   },
   "source": [
    "# LDA"
   ]
  },
  {
   "cell_type": "markdown",
   "metadata": {
    "colab_type": "text",
    "id": "1NgseEFfXIpA"
   },
   "source": [
    "## Data preparation"
   ]
  },
  {
   "cell_type": "markdown",
   "metadata": {
    "colab_type": "text",
    "id": "2FcljwyJXIpB"
   },
   "source": [
    "#### Prepare bi-grams and tri-grams"
   ]
  },
  {
   "cell_type": "code",
   "execution_count": 21,
   "metadata": {
    "colab": {
     "base_uri": "https://localhost:8080/",
     "height": 71
    },
    "colab_type": "code",
    "id": "kCkU_UNUXIpE",
    "outputId": "1d096393-2d10-40d7-fd83-5f70cb81229e"
   },
   "outputs": [],
   "source": [
    "tokens = data['tokens'].tolist()\n",
    "bigram_model = Phrases(tokens) # combina le parole che compaiono comunemente insieme\n",
    "trigram_model = Phrases(bigram_model[tokens], min_count=1) #stessa cosa ma a livello di (eventuali) tri-gram\n",
    "tokens = list(trigram_model[bigram_model[tokens]])"
   ]
  },
  {
   "cell_type": "code",
   "execution_count": 22,
   "metadata": {},
   "outputs": [
    {
     "name": "stdout",
     "output_type": "stream",
     "text": [
      "339\n",
      "12\n",
      "295\n",
      "14\n",
      "333\n",
      "105\n",
      "60\n",
      "9\n",
      "391\n",
      "193\n",
      "15\n",
      "340\n",
      "7\n",
      "11\n",
      "46\n",
      "86\n",
      "665\n",
      "516\n",
      "411\n",
      "290\n"
     ]
    }
   ],
   "source": [
    "for i in range(len(tokens[:20])):\n",
    "    print(len(tokens[i]))"
   ]
  },
  {
   "cell_type": "markdown",
   "metadata": {
    "colab_type": "text",
    "id": "pkJuiKZTXIpH"
   },
   "source": [
    "#### Prepare objects for LDA gensim implementation"
   ]
  },
  {
   "cell_type": "code",
   "execution_count": 23,
   "metadata": {
    "colab": {},
    "colab_type": "code",
    "id": "6LgdHAscXIpL"
   },
   "outputs": [],
   "source": [
    "dictionary_LDA = corpora.Dictionary(tokens) # creo un dizionario con le mie parole (ripulite, abbinate, etc...)\n",
    "dictionary_LDA.filter_extremes(no_below=3) # rimuovo i token che compaiono in meno di 3 documenti (≥ 3 li tengo)\n",
    "\n",
    "# traformo ogni documento in una bag of words\n",
    "# ogni documento lista di (numero parola, numero documento)\n",
    "corpus = [dictionary_LDA.doc2bow(tok) for tok in tokens]"
   ]
  },
  {
   "cell_type": "markdown",
   "metadata": {
    "colab_type": "text",
    "id": "EIl_16feXIpN"
   },
   "source": [
    "## Running LDA"
   ]
  },
  {
   "cell_type": "code",
   "execution_count": 24,
   "metadata": {
    "colab": {
     "base_uri": "https://localhost:8080/",
     "height": 85
    },
    "colab_type": "code",
    "id": "_MlvyMLDXIpP",
    "outputId": "a25b5675-f28b-42fa-901c-e9cc23c5a2c1"
   },
   "outputs": [
    {
     "name": "stdout",
     "output_type": "stream",
     "text": [
      "CPU times: user 1.7 s, sys: 15.7 ms, total: 1.71 s\n",
      "Wall time: 1.78 s\n"
     ]
    }
   ],
   "source": [
    "np.random.seed(123456)\n",
    "num_topics = 20 # cerco 20 topic\n",
    "'''\n",
    "LDA model estimation\n",
    "- allenato su corpus\n",
    "- id2word: dizionario con mapping ID -> parola\n",
    "- passes: training loops\n",
    "- alpha: probabilità che un topic ci sia in un documento (priori)\n",
    "- eta: probabilità che una parola sia legata ad un topic\n",
    "'''\n",
    "%time lda_model = models.LdaModel(corpus, num_topics=num_topics, \\\n",
    "                                  id2word=dictionary_LDA, \\\n",
    "                                  passes=4, alpha=[0.01]*num_topics, \\\n",
    "                                  eta=[0.01]*len(dictionary_LDA.keys()))"
   ]
  },
  {
   "cell_type": "markdown",
   "metadata": {
    "colab_type": "text",
    "id": "UaXMTCESXIpS"
   },
   "source": [
    "## Quick exploration of LDA results"
   ]
  },
  {
   "cell_type": "markdown",
   "metadata": {
    "colab_type": "text",
    "id": "J0xw2ZBvXIpT"
   },
   "source": [
    "#### Looking at topics"
   ]
  },
  {
   "cell_type": "code",
   "execution_count": 25,
   "metadata": {
    "colab": {
     "base_uri": "https://localhost:8080/",
     "height": 717
    },
    "colab_type": "code",
    "id": "tXVeDIEUXIpX",
    "outputId": "76d0ce1f-903c-407f-ad01-154a69c3d449",
    "scrolled": true
   },
   "outputs": [
    {
     "name": "stdout",
     "output_type": "stream",
     "text": [
      "0: 0.019*\"say\" + 0.011*\"company\" + 0.009*\"find\" + 0.009*\"thing\" + 0.009*\"day\" + 0.009*\"market\" + 0.009*\"UK\" + 0.008*\"firm\" + 0.008*\"american\" + 0.007*\"product\" + 0.007*\"girl\" + 0.006*\"Americans\" + 0.006*\"India\" + 0.006*\"bit\" + 0.006*\"include\" + 0.005*\"boy\" + 0.005*\"buy\" + 0.005*\"british\" + 0.005*\"supermarket\" + 0.005*\"come\"\n",
      "\n",
      "1: 0.016*\"Brexit\" + 0.013*\"Amazon\" + 0.011*\"deal\" + 0.010*\"UK\" + 0.010*\"say\" + 0.009*\"store\" + 0.009*\"EU\" + 0.007*\"transition\" + 0.007*\"tell\" + 0.006*\"year\" + 0.006*\"rule\" + 0.006*\"time\" + 0.005*\"government\" + 0.005*\"leave\" + 0.005*\"item\" + 0.005*\"expect\" + 0.005*\"document\" + 0.005*\"Reuters\" + 0.005*\"go\" + 0.005*\"open\"\n",
      "\n",
      "2: 0.034*\"say\" + 0.009*\"think\" + 0.009*\"people\" + 0.007*\"year\" + 0.007*\"find\" + 0.007*\"work\" + 0.005*\"get\" + 0.005*\"wave\" + 0.005*\"go\" + 0.004*\"old\" + 0.004*\"number\" + 0.004*\"world\" + 0.004*\"time\" + 0.004*\"run\" + 0.004*\"look\" + 0.004*\"call\" + 0.003*\"restaurant\" + 0.003*\"life\" + 0.003*\"city\" + 0.003*\"take\"\n",
      "\n",
      "3: 0.017*\"write\" + 0.016*\"say\" + 0.008*\"people\" + 0.007*\"Israel\" + 0.007*\"year\" + 0.006*\"script\" + 0.006*\"India\" + 0.006*\"give\" + 0.006*\"idea\" + 0.006*\"Africa\" + 0.005*\"include\" + 0.005*\"create\" + 0.005*\"world\" + 0.005*\"word\" + 0.004*\"child\" + 0.004*\"right\" + 0.004*\"Europe\" + 0.004*\"piece\" + 0.004*\"local\" + 0.004*\"look\"\n",
      "\n",
      "4: 0.014*\"say\" + 0.014*\"light\" + 0.008*\"live\" + 0.008*\"work\" + 0.008*\"transparent\" + 0.007*\"find\" + 0.007*\"people\" + 0.006*\"animal\" + 0.006*\"village\" + 0.006*\"make\" + 0.006*\"predator\" + 0.005*\"hide\" + 0.005*\"area\" + 0.005*\"local\" + 0.005*\"new\" + 0.005*\"sleep\" + 0.005*\"eye\" + 0.005*\"body\" + 0.005*\"form\" + 0.005*\"help\"\n",
      "\n",
      "5: 0.017*\"say\" + 0.009*\"kick\" + 0.008*\"design\" + 0.007*\"call\" + 0.007*\"study\" + 0.006*\"bee\" + 0.006*\"logo\" + 0.006*\"brain\" + 0.005*\"tell\" + 0.005*\"animal\" + 0.005*\"believe\" + 0.005*\"big\" + 0.005*\"male\" + 0.005*\"help\" + 0.005*\"part\" + 0.005*\"people\" + 0.005*\"look\" + 0.005*\"local\" + 0.005*\"treatment\" + 0.005*\"mate\"\n",
      "\n",
      "6: 0.034*\"say\" + 0.008*\"case\" + 0.007*\"think\" + 0.006*\"drug\" + 0.006*\"game\" + 0.006*\"government\" + 0.006*\"question\" + 0.006*\"review\" + 0.006*\"student\" + 0.006*\"separatist\" + 0.005*\"people\" + 0.005*\"force\" + 0.005*\"plan\" + 0.005*\"include\" + 0.005*\"day\" + 0.004*\"give\" + 0.004*\"child\" + 0.004*\"home\" + 0.004*\"take\" + 0.004*\"challenge\"\n",
      "\n",
      "7: 0.031*\"say\" + 0.011*\"find\" + 0.010*\"help\" + 0.009*\"video\" + 0.009*\"night\" + 0.008*\"people\" + 0.007*\"pay\" + 0.007*\"cousin\" + 0.006*\"university\" + 0.006*\"day\" + 0.006*\"live\" + 0.006*\"follow\" + 0.006*\"life\" + 0.005*\"small\" + 0.005*\"decade\" + 0.005*\"military\" + 0.005*\"thing\" + 0.005*\"job\" + 0.005*\"Radio\" + 0.005*\"analysis\"\n",
      "\n",
      "8: 0.024*\"say\" + 0.017*\"image\" + 0.016*\"town\" + 0.013*\"design\" + 0.011*\"designer\" + 0.010*\"respect\" + 0.010*\"community\" + 0.009*\"visual\" + 0.008*\"people\" + 0.007*\"work\" + 0.006*\"photographer\" + 0.006*\"photograph\" + 0.006*\"see\" + 0.006*\"home\" + 0.006*\"sink\" + 0.006*\"light\" + 0.006*\"include\" + 0.006*\"artist\" + 0.005*\"Jones\" + 0.005*\"account\"\n",
      "\n",
      "9: 0.014*\"subject\" + 0.012*\"series\" + 0.012*\"act\" + 0.011*\"year\" + 0.011*\"place\" + 0.009*\"see\" + 0.009*\"join\" + 0.009*\"life\" + 0.008*\"host\" + 0.008*\"100\" + 0.008*\"answer_question\" + 0.008*\"grow\" + 0.008*\"say\" + 0.007*\"child\" + 0.007*\"pick\" + 0.007*\"people\" + 0.007*\"law\" + 0.007*\"school\" + 0.007*\"go\" + 0.006*\"shy\"\n",
      "\n",
      "10: 0.035*\"say\" + 0.015*\"list\" + 0.012*\"tell\" + 0.012*\"president\" + 0.010*\"plan\" + 0.010*\"man\" + 0.009*\"add\" + 0.008*\"name\" + 0.008*\"kill\" + 0.008*\"London\" + 0.008*\"sanction\" + 0.007*\"russian\" + 0.007*\"accuse\" + 0.007*\"march\" + 0.006*\"murder\" + 0.006*\"police\" + 0.006*\"attack\" + 0.006*\"guest\" + 0.006*\"speech\" + 0.005*\"entity\"\n",
      "\n",
      "11: 0.014*\"link\" + 0.012*\"News\" + 0.012*\"datum\" + 0.011*\"source\" + 0.010*\"output\" + 0.009*\"find\" + 0.009*\"work\" + 0.009*\"design\" + 0.009*\"information\" + 0.008*\"software\" + 0.008*\"news\" + 0.008*\"material\" + 0.008*\"run\" + 0.008*\"story\" + 0.007*\"UK\" + 0.007*\"journalist\" + 0.007*\"audience\" + 0.007*\"content\" + 0.006*\"include\" + 0.006*\"world\"\n",
      "\n",
      "12: 0.021*\"say\" + 0.010*\"Images\" + 0.007*\"tell\" + 0.006*\"go\" + 0.006*\"benefit\" + 0.006*\"time\" + 0.006*\"work\" + 0.006*\"people\" + 0.005*\"year\" + 0.005*\"think\" + 0.004*\"report\" + 0.004*\"help\" + 0.004*\"sanction\" + 0.004*\"leave\" + 0.004*\"country\" + 0.004*\"support\" + 0.004*\"day\" + 0.004*\"way\" + 0.004*\"life\" + 0.004*\"election\"\n",
      "\n",
      "13: 0.018*\"say\" + 0.012*\"girl\" + 0.012*\"Chris\" + 0.010*\"series\" + 0.008*\"supermarket\" + 0.008*\"drug\" + 0.008*\"judge\" + 0.007*\"live\" + 0.007*\"report\" + 0.007*\"see\" + 0.007*\"take\" + 0.006*\"customer\" + 0.006*\"tell\" + 0.006*\"photograph\" + 0.006*\"thank\" + 0.006*\"win\" + 0.006*\"pair\" + 0.005*\"people\" + 0.005*\"home\" + 0.005*\"year\"\n",
      "\n",
      "14: 0.015*\"say\" + 0.008*\"time\" + 0.006*\"find\" + 0.005*\"day\" + 0.005*\"year\" + 0.005*\"way\" + 0.005*\"go\" + 0.005*\"come\" + 0.004*\"EU\" + 0.004*\"water\" + 0.004*\"night\" + 0.004*\"call\" + 0.004*\"live\" + 0.004*\"work\" + 0.004*\"release\" + 0.004*\"start\" + 0.003*\"see\" + 0.003*\"look\" + 0.003*\"know\" + 0.003*\"people\"\n",
      "\n",
      "15: 0.017*\"say\" + 0.007*\"tunnel\" + 0.007*\"city\" + 0.006*\"work\" + 0.006*\"time\" + 0.006*\"day\" + 0.006*\"building\" + 0.005*\"prey\" + 0.005*\"find\" + 0.005*\"long\" + 0.004*\"dutch\" + 0.004*\"help\" + 0.004*\"stress\" + 0.004*\"resident\" + 0.004*\"include\" + 0.004*\"model\" + 0.004*\"build\" + 0.004*\"people\" + 0.003*\"old\" + 0.003*\"world\"\n",
      "\n",
      "16: 0.030*\"say\" + 0.008*\"take\" + 0.007*\"photograph\" + 0.007*\"people\" + 0.007*\"time\" + 0.007*\"dish\" + 0.006*\"photo\" + 0.006*\"moment\" + 0.006*\"include\" + 0.006*\"old\" + 0.005*\"go\" + 0.005*\"show\" + 0.005*\"China\" + 0.005*\"deal\" + 0.005*\"year\" + 0.005*\"tell\" + 0.005*\"man\" + 0.005*\"head\" + 0.005*\"war\" + 0.005*\"find\"\n",
      "\n",
      "17: 0.019*\"president\" + 0.017*\"Trump\" + 0.014*\"CIA\" + 0.013*\"say\" + 0.011*\"America\" + 0.010*\"successful\" + 0.010*\"specie\" + 0.009*\"Russia\" + 0.009*\"mean\" + 0.008*\"claim\" + 0.008*\"world\" + 0.008*\"risk\" + 0.007*\"population\" + 0.007*\"China\" + 0.007*\"see\" + 0.007*\"awareness\" + 0.007*\"country\" + 0.006*\"area\" + 0.006*\"leader\" + 0.006*\"director\"\n",
      "\n",
      "18: 0.018*\"say\" + 0.011*\"report\" + 0.011*\"Images\" + 0.010*\"machine\" + 0.010*\"system\" + 0.008*\"human\" + 0.008*\"play\" + 0.007*\"people\" + 0.006*\"datum\" + 0.006*\"robot\" + 0.006*\"algorithm\" + 0.006*\"time\" + 0.006*\"company\" + 0.006*\"list\" + 0.005*\"England\" + 0.005*\"right\" + 0.005*\"actor\" + 0.005*\"take\" + 0.005*\"David\" + 0.005*\"scandal\"\n",
      "\n",
      "19: 0.020*\"say\" + 0.016*\"human\" + 0.014*\"study\" + 0.013*\"product\" + 0.009*\"test\" + 0.008*\"know\" + 0.008*\"increase\" + 0.008*\"company\" + 0.007*\"year\" + 0.007*\"work\" + 0.007*\"follow\" + 0.007*\"fast\" + 0.007*\"website\" + 0.006*\"Jonathan\" + 0.006*\"Bruno_Mars\" + 0.006*\"day\" + 0.006*\"fund\" + 0.006*\"effect\" + 0.006*\"level\" + 0.006*\"music\"\n",
      "\n"
     ]
    }
   ],
   "source": [
    "for i,topic in lda_model.show_topics(formatted=True, num_topics=num_topics, num_words=20):\n",
    "    print(str(i)+\": \"+ topic)\n",
    "    print()"
   ]
  },
  {
   "cell_type": "markdown",
   "metadata": {
    "colab_type": "text",
    "id": "VzPTruczXIpZ"
   },
   "source": [
    "#### Allocating topics to documents"
   ]
  },
  {
   "cell_type": "code",
   "execution_count": 26,
   "metadata": {
    "colab": {
     "base_uri": "https://localhost:8080/",
     "height": 170
    },
    "colab_type": "code",
    "id": "jmhFbhAbXIpa",
    "outputId": "ff38f889-4b18-4e90-e3a2-b7b793267c5d"
   },
   "outputs": [],
   "source": [
    "#print(data.articles.loc[0][:500])"
   ]
  },
  {
   "cell_type": "code",
   "execution_count": 27,
   "metadata": {
    "colab": {
     "base_uri": "https://localhost:8080/",
     "height": 34
    },
    "colab_type": "code",
    "id": "cqhdkaStXIpf",
    "outputId": "238cd4e4-e49d-4bdf-a858-c6da7da56a38"
   },
   "outputs": [
    {
     "data": {
      "text/plain": [
       "[(3, 0.9990602)]"
      ]
     },
     "execution_count": 27,
     "metadata": {},
     "output_type": "execute_result"
    }
   ],
   "source": [
    "lda_model[corpus[11]] # ad ogni documento sono stati associati i topic (con le rispettive probabilità)"
   ]
  },
  {
   "cell_type": "markdown",
   "metadata": {
    "colab_type": "text",
    "id": "7x_Vx5_wXIph"
   },
   "source": [
    "#### Predicting topics on unseen documents"
   ]
  },
  {
   "cell_type": "code",
   "execution_count": 28,
   "metadata": {
    "colab": {
     "base_uri": "https://localhost:8080/",
     "height": 173
    },
    "colab_type": "code",
    "id": "r0xDdbM3XIph",
    "outputId": "1d30a9ae-ab24-48ef-ead7-01056d9b34ee"
   },
   "outputs": [
    {
     "data": {
      "text/html": [
       "<div>\n",
       "<style scoped>\n",
       "    .dataframe tbody tr th:only-of-type {\n",
       "        vertical-align: middle;\n",
       "    }\n",
       "\n",
       "    .dataframe tbody tr th {\n",
       "        vertical-align: top;\n",
       "    }\n",
       "\n",
       "    .dataframe thead th {\n",
       "        text-align: right;\n",
       "    }\n",
       "</style>\n",
       "<table border=\"1\" class=\"dataframe\">\n",
       "  <thead>\n",
       "    <tr style=\"text-align: right;\">\n",
       "      <th></th>\n",
       "      <th>topic #</th>\n",
       "      <th>weight</th>\n",
       "      <th>words in topic</th>\n",
       "    </tr>\n",
       "  </thead>\n",
       "  <tbody>\n",
       "    <tr>\n",
       "      <td>0</td>\n",
       "      <td>2</td>\n",
       "      <td>0.41</td>\n",
       "      <td>0.034*\"say\" + 0.009*\"think\" + 0.009*\"people\" +...</td>\n",
       "    </tr>\n",
       "    <tr>\n",
       "      <td>1</td>\n",
       "      <td>3</td>\n",
       "      <td>0.17</td>\n",
       "      <td>0.017*\"write\" + 0.016*\"say\" + 0.008*\"people\" +...</td>\n",
       "    </tr>\n",
       "    <tr>\n",
       "      <td>2</td>\n",
       "      <td>6</td>\n",
       "      <td>0.11</td>\n",
       "      <td>0.034*\"say\" + 0.008*\"case\" + 0.007*\"think\" + 0...</td>\n",
       "    </tr>\n",
       "    <tr>\n",
       "      <td>3</td>\n",
       "      <td>9</td>\n",
       "      <td>0.03</td>\n",
       "      <td>0.014*\"subject\" + 0.012*\"series\" + 0.012*\"act\"...</td>\n",
       "    </tr>\n",
       "    <tr>\n",
       "      <td>4</td>\n",
       "      <td>14</td>\n",
       "      <td>0.20</td>\n",
       "      <td>0.015*\"say\" + 0.008*\"time\" + 0.006*\"find\" + 0....</td>\n",
       "    </tr>\n",
       "    <tr>\n",
       "      <td>5</td>\n",
       "      <td>15</td>\n",
       "      <td>0.04</td>\n",
       "      <td>0.017*\"say\" + 0.007*\"tunnel\" + 0.007*\"city\" + ...</td>\n",
       "    </tr>\n",
       "    <tr>\n",
       "      <td>6</td>\n",
       "      <td>17</td>\n",
       "      <td>0.04</td>\n",
       "      <td>0.019*\"president\" + 0.017*\"Trump\" + 0.014*\"CIA...</td>\n",
       "    </tr>\n",
       "  </tbody>\n",
       "</table>\n",
       "</div>"
      ],
      "text/plain": [
       "   topic #  weight                                     words in topic\n",
       "0        2    0.41  0.034*\"say\" + 0.009*\"think\" + 0.009*\"people\" +...\n",
       "1        3    0.17  0.017*\"write\" + 0.016*\"say\" + 0.008*\"people\" +...\n",
       "2        6    0.11  0.034*\"say\" + 0.008*\"case\" + 0.007*\"think\" + 0...\n",
       "3        9    0.03  0.014*\"subject\" + 0.012*\"series\" + 0.012*\"act\"...\n",
       "4       14    0.20  0.015*\"say\" + 0.008*\"time\" + 0.006*\"find\" + 0....\n",
       "5       15    0.04  0.017*\"say\" + 0.007*\"tunnel\" + 0.007*\"city\" + ...\n",
       "6       17    0.04  0.019*\"president\" + 0.017*\"Trump\" + 0.014*\"CIA..."
      ]
     },
     "execution_count": 28,
     "metadata": {},
     "output_type": "execute_result"
    }
   ],
   "source": [
    "document = '''Eric Tucker, a 35-year-old co-founder of a marketing company in Austin, Tex., had just about 40 Twitter followers. But his recent tweet about paid protesters being bused to demonstrations against President-elect Donald J. Trump fueled a nationwide conspiracy theory — one that Mr. Trump joined in promoting. \n",
    "\n",
    "Mr. Tucker's post was shared at least 16,000 times on Twitter and more than 350,000 times on Facebook. The problem is that Mr. Tucker got it wrong. There were no such buses packed with paid protesters.\n",
    "\n",
    "But that didn't matter.\n",
    "\n",
    "While some fake news is produced purposefully by teenagers in the Balkans or entrepreneurs in the United States seeking to make money from advertising, false information can also arise from misinformed social media posts by regular people that are seized on and spread through a hyperpartisan blogosphere.\n",
    "\n",
    "Here, The New York Times deconstructs how Mr. Tucker’s now-deleted declaration on Twitter the night after the election turned into a fake-news phenomenon. It is an example of how, in an ever-connected world where speed often takes precedence over truth, an observation by a private citizen can quickly become a talking point, even as it is being proved false.'''\n",
    "\n",
    "doc = nlp(document)\n",
    "sentences = sentencizer(doc)\n",
    "tokens = lemmatizer(sentences)\n",
    "tokens = flatten_tokens(tokens)\n",
    "\n",
    "# Recupero i topics, formattati come stringhe, 20 parole max per ognuno\n",
    "topics = lda_model.show_topics(formatted=True, num_topics=num_topics, num_words=20)\n",
    "# creo un dataframe con i topic abbinati al documento qui sopra\n",
    "# per ogni topic recupero il numero, la sua probabilità e le parole associate (topics[el[0]][1])\n",
    "pd.DataFrame([(el[0], round(el[1],2), topics[el[0]][1]) for el in lda_model[dictionary_LDA.doc2bow(tokens)]], columns=['topic #', 'weight', 'words in topic'])"
   ]
  },
  {
   "cell_type": "markdown",
   "metadata": {},
   "source": [
    "Update LDA model with new document"
   ]
  },
  {
   "cell_type": "code",
   "execution_count": 183,
   "metadata": {},
   "outputs": [
    {
     "ename": "SyntaxError",
     "evalue": "unexpected EOF while parsing (<ipython-input-183-ebd2d9171773>, line 8)",
     "output_type": "error",
     "traceback": [
      "\u001b[0;36m  File \u001b[0;32m\"<ipython-input-183-ebd2d9171773>\"\u001b[0;36m, line \u001b[0;32m8\u001b[0m\n\u001b[0;31m    \u001b[0m\n\u001b[0m    ^\u001b[0m\n\u001b[0;31mSyntaxError\u001b[0m\u001b[0;31m:\u001b[0m unexpected EOF while parsing\n"
     ]
    }
   ],
   "source": [
    "def process_doc(doc):\n",
    "    d = nlp(document)\n",
    "    sentences = sentencizer(d)\n",
    "    tokens = lemmatizer(sentences)\n",
    "    tokens = flatten_tokens(tokens)\n",
    "\n",
    "def update_lda_model(model, doc):\n",
    "\n"
   ]
  },
  {
   "cell_type": "code",
   "execution_count": null,
   "metadata": {},
   "outputs": [],
   "source": [
    "lda_model.update([dictionary_LDA.doc2bow(tokens)])"
   ]
  },
  {
   "cell_type": "markdown",
   "metadata": {
    "colab_type": "text",
    "id": "LGtwgoy5XIpj"
   },
   "source": [
    "## Advanced exploration of LDA results"
   ]
  },
  {
   "cell_type": "markdown",
   "metadata": {
    "colab_type": "text",
    "id": "dZVA4mW7XIpk"
   },
   "source": [
    "#### Allocation of topics in all documents"
   ]
  },
  {
   "cell_type": "code",
   "execution_count": null,
   "metadata": {
    "colab": {},
    "colab_type": "code",
    "id": "oYezjcvfXIpl"
   },
   "outputs": [],
   "source": [
    "# abbino ogni topic ad un documento\n",
    "topics = [lda_model[corpus[i]] for i in range(len(data))]"
   ]
  },
  {
   "cell_type": "code",
   "execution_count": null,
   "metadata": {
    "colab": {
     "base_uri": "https://localhost:8080/",
     "height": 80
    },
    "colab_type": "code",
    "id": "9mbogAo2XIpn",
    "outputId": "c43dcecc-5a56-4af5-e086-1d121e183223"
   },
   "outputs": [],
   "source": [
    "def topics_document_to_dataframe(topics_document, num_topics):\n",
    "    res = pd.DataFrame(columns=range(num_topics))\n",
    "    for topic_weight in topics_document:\n",
    "        res.loc[0, topic_weight[0]] = topic_weight[1]\n",
    "    return res\n",
    "\n",
    "topics_document_to_dataframe([(9, 0.03853655432967504), (15, 0.09130117862212643), (18, 0.8692868808484044)], 20)"
   ]
  },
  {
   "cell_type": "code",
   "execution_count": 32,
   "metadata": {
    "colab": {},
    "colab_type": "code",
    "id": "EB2sj066XIpp"
   },
   "outputs": [],
   "source": [
    "# Like TF-IDF, create a matrix of topic weighting, with documents as rows and topics as columns\n",
    "document_topic = \\\n",
    "pd.concat([topics_document_to_dataframe(topics_document, num_topics=num_topics) for topics_document in topics]) \\\n",
    "  .reset_index(drop=True).fillna(0)"
   ]
  },
  {
   "cell_type": "code",
   "execution_count": 33,
   "metadata": {
    "colab": {
     "base_uri": "https://localhost:8080/",
     "height": 204
    },
    "colab_type": "code",
    "id": "nF_Zdbh7XIpr",
    "outputId": "14730814-2a61-469d-f8d9-d7ca4f009980",
    "scrolled": true
   },
   "outputs": [
    {
     "data": {
      "text/html": [
       "<div>\n",
       "<style scoped>\n",
       "    .dataframe tbody tr th:only-of-type {\n",
       "        vertical-align: middle;\n",
       "    }\n",
       "\n",
       "    .dataframe tbody tr th {\n",
       "        vertical-align: top;\n",
       "    }\n",
       "\n",
       "    .dataframe thead th {\n",
       "        text-align: right;\n",
       "    }\n",
       "</style>\n",
       "<table border=\"1\" class=\"dataframe\">\n",
       "  <thead>\n",
       "    <tr style=\"text-align: right;\">\n",
       "      <th></th>\n",
       "      <th>0</th>\n",
       "      <th>1</th>\n",
       "      <th>2</th>\n",
       "      <th>3</th>\n",
       "      <th>4</th>\n",
       "      <th>5</th>\n",
       "      <th>6</th>\n",
       "      <th>7</th>\n",
       "      <th>8</th>\n",
       "      <th>9</th>\n",
       "      <th>10</th>\n",
       "      <th>11</th>\n",
       "      <th>12</th>\n",
       "      <th>13</th>\n",
       "      <th>14</th>\n",
       "      <th>15</th>\n",
       "      <th>16</th>\n",
       "      <th>17</th>\n",
       "      <th>18</th>\n",
       "      <th>19</th>\n",
       "    </tr>\n",
       "  </thead>\n",
       "  <tbody>\n",
       "    <tr>\n",
       "      <td>0</td>\n",
       "      <td>0.0</td>\n",
       "      <td>0.0</td>\n",
       "      <td>0.000000</td>\n",
       "      <td>0.0</td>\n",
       "      <td>0.0</td>\n",
       "      <td>0.000000</td>\n",
       "      <td>0.0</td>\n",
       "      <td>0.0</td>\n",
       "      <td>0.388711</td>\n",
       "      <td>0.0</td>\n",
       "      <td>0.609685</td>\n",
       "      <td>0.0</td>\n",
       "      <td>0.0</td>\n",
       "      <td>0.0</td>\n",
       "      <td>0.0</td>\n",
       "      <td>0.0</td>\n",
       "      <td>0.000000</td>\n",
       "      <td>0.0</td>\n",
       "      <td>0.000000</td>\n",
       "      <td>0.000000</td>\n",
       "    </tr>\n",
       "    <tr>\n",
       "      <td>1</td>\n",
       "      <td>0.0</td>\n",
       "      <td>0.0</td>\n",
       "      <td>0.000000</td>\n",
       "      <td>0.0</td>\n",
       "      <td>0.0</td>\n",
       "      <td>0.976826</td>\n",
       "      <td>0.0</td>\n",
       "      <td>0.0</td>\n",
       "      <td>0.000000</td>\n",
       "      <td>0.0</td>\n",
       "      <td>0.000000</td>\n",
       "      <td>0.0</td>\n",
       "      <td>0.0</td>\n",
       "      <td>0.0</td>\n",
       "      <td>0.0</td>\n",
       "      <td>0.0</td>\n",
       "      <td>0.000000</td>\n",
       "      <td>0.0</td>\n",
       "      <td>0.000000</td>\n",
       "      <td>0.000000</td>\n",
       "    </tr>\n",
       "    <tr>\n",
       "      <td>2</td>\n",
       "      <td>0.0</td>\n",
       "      <td>0.0</td>\n",
       "      <td>0.000000</td>\n",
       "      <td>0.0</td>\n",
       "      <td>0.0</td>\n",
       "      <td>0.000000</td>\n",
       "      <td>0.0</td>\n",
       "      <td>0.0</td>\n",
       "      <td>0.000000</td>\n",
       "      <td>0.0</td>\n",
       "      <td>0.000000</td>\n",
       "      <td>0.0</td>\n",
       "      <td>0.0</td>\n",
       "      <td>0.0</td>\n",
       "      <td>0.0</td>\n",
       "      <td>0.0</td>\n",
       "      <td>0.998843</td>\n",
       "      <td>0.0</td>\n",
       "      <td>0.000000</td>\n",
       "      <td>0.000000</td>\n",
       "    </tr>\n",
       "    <tr>\n",
       "      <td>3</td>\n",
       "      <td>0.0</td>\n",
       "      <td>0.0</td>\n",
       "      <td>0.499975</td>\n",
       "      <td>0.0</td>\n",
       "      <td>0.0</td>\n",
       "      <td>0.000000</td>\n",
       "      <td>0.0</td>\n",
       "      <td>0.0</td>\n",
       "      <td>0.000000</td>\n",
       "      <td>0.0</td>\n",
       "      <td>0.000000</td>\n",
       "      <td>0.0</td>\n",
       "      <td>0.0</td>\n",
       "      <td>0.0</td>\n",
       "      <td>0.0</td>\n",
       "      <td>0.0</td>\n",
       "      <td>0.000000</td>\n",
       "      <td>0.0</td>\n",
       "      <td>0.180864</td>\n",
       "      <td>0.295541</td>\n",
       "    </tr>\n",
       "    <tr>\n",
       "      <td>4</td>\n",
       "      <td>0.0</td>\n",
       "      <td>0.0</td>\n",
       "      <td>0.999006</td>\n",
       "      <td>0.0</td>\n",
       "      <td>0.0</td>\n",
       "      <td>0.000000</td>\n",
       "      <td>0.0</td>\n",
       "      <td>0.0</td>\n",
       "      <td>0.000000</td>\n",
       "      <td>0.0</td>\n",
       "      <td>0.000000</td>\n",
       "      <td>0.0</td>\n",
       "      <td>0.0</td>\n",
       "      <td>0.0</td>\n",
       "      <td>0.0</td>\n",
       "      <td>0.0</td>\n",
       "      <td>0.000000</td>\n",
       "      <td>0.0</td>\n",
       "      <td>0.000000</td>\n",
       "      <td>0.000000</td>\n",
       "    </tr>\n",
       "  </tbody>\n",
       "</table>\n",
       "</div>"
      ],
      "text/plain": [
       "     0    1         2    3    4         5    6    7         8    9        10  \\\n",
       "0  0.0  0.0  0.000000  0.0  0.0  0.000000  0.0  0.0  0.388711  0.0  0.609685   \n",
       "1  0.0  0.0  0.000000  0.0  0.0  0.976826  0.0  0.0  0.000000  0.0  0.000000   \n",
       "2  0.0  0.0  0.000000  0.0  0.0  0.000000  0.0  0.0  0.000000  0.0  0.000000   \n",
       "3  0.0  0.0  0.499975  0.0  0.0  0.000000  0.0  0.0  0.000000  0.0  0.000000   \n",
       "4  0.0  0.0  0.999006  0.0  0.0  0.000000  0.0  0.0  0.000000  0.0  0.000000   \n",
       "\n",
       "    11   12   13   14   15        16   17        18        19  \n",
       "0  0.0  0.0  0.0  0.0  0.0  0.000000  0.0  0.000000  0.000000  \n",
       "1  0.0  0.0  0.0  0.0  0.0  0.000000  0.0  0.000000  0.000000  \n",
       "2  0.0  0.0  0.0  0.0  0.0  0.998843  0.0  0.000000  0.000000  \n",
       "3  0.0  0.0  0.0  0.0  0.0  0.000000  0.0  0.180864  0.295541  \n",
       "4  0.0  0.0  0.0  0.0  0.0  0.000000  0.0  0.000000  0.000000  "
      ]
     },
     "execution_count": 33,
     "metadata": {},
     "output_type": "execute_result"
    }
   ],
   "source": [
    "document_topic.head()"
   ]
  },
  {
   "cell_type": "code",
   "execution_count": 34,
   "metadata": {
    "colab": {
     "base_uri": "https://localhost:8080/",
     "height": 374
    },
    "colab_type": "code",
    "id": "xH6IAJakXIpw",
    "outputId": "1a44672a-a5d8-405e-dbb0-622327e30a59"
   },
   "outputs": [
    {
     "data": {
      "text/plain": [
       "108    0.999358\n",
       "186    0.999113\n",
       "172    0.997213\n",
       "233    0.996536\n",
       "219    0.994443\n",
       "102    0.993909\n",
       "69     0.984422\n",
       "122    0.981368\n",
       "157    0.981363\n",
       "72     0.976828\n",
       "60     0.975923\n",
       "112    0.973607\n",
       "209    0.938385\n",
       "87     0.929640\n",
       "240    0.805349\n",
       "16     0.709156\n",
       "137    0.678653\n",
       "10     0.656296\n",
       "255    0.621942\n",
       "146    0.560797\n",
       "Name: 14, dtype: float64"
      ]
     },
     "execution_count": 34,
     "metadata": {},
     "output_type": "execute_result"
    }
   ],
   "source": [
    "# Which document are about topic 14\n",
    "document_topic.sort_values(14, ascending=False)[14].head(20)"
   ]
  },
  {
   "cell_type": "code",
   "execution_count": 35,
   "metadata": {
    "colab": {
     "base_uri": "https://localhost:8080/",
     "height": 340
    },
    "colab_type": "code",
    "id": "WQlnaAsaXIpz",
    "outputId": "3ba5e070-7fc3-4dea-bc4a-a10910a2d225",
    "scrolled": true
   },
   "outputs": [],
   "source": [
    "#print(data.articles.loc[91][:1000])"
   ]
  },
  {
   "cell_type": "markdown",
   "metadata": {
    "colab_type": "text",
    "id": "xkvBPOQ_XIp1"
   },
   "source": [
    "#### Looking at the distribution of topics in all documents"
   ]
  },
  {
   "cell_type": "code",
   "execution_count": 36,
   "metadata": {
    "colab": {
     "base_uri": "https://localhost:8080/",
     "height": 1000
    },
    "colab_type": "code",
    "id": "FM64wOE3XIp2",
    "outputId": "5e50a0ef-15e4-449d-9cf3-f19dc4a0b83d"
   },
   "outputs": [
    {
     "data": {
      "text/plain": [
       "<matplotlib.axes._subplots.AxesSubplot at 0x7fc562641050>"
      ]
     },
     "execution_count": 36,
     "metadata": {},
     "output_type": "execute_result"
    },
    {
     "data": {
      "image/png": "[encoded data removed]",
      "text/plain": [
       "<Figure size 720x1440 with 2 Axes>"
      ]
     },
     "metadata": {},
     "output_type": "display_data"
    }
   ],
   "source": [
    "%matplotlib inline\n",
    "import seaborn as sns; sns.set(rc={'figure.figsize':(10,20)})\n",
    "sns.heatmap(document_topic.loc[document_topic.idxmax(axis=1).sort_values().index])"
   ]
  },
  {
   "cell_type": "code",
   "execution_count": 37,
   "metadata": {
    "colab": {
     "base_uri": "https://localhost:8080/",
     "height": 343
    },
    "colab_type": "code",
    "id": "oV4nDst4XIp4",
    "outputId": "2314c444-2b42-4ce8-a867-40c6b12ffc55"
   },
   "outputs": [
    {
     "data": {
      "text/plain": [
       "<matplotlib.axes._subplots.AxesSubplot at 0x7fc56268df90>"
      ]
     },
     "execution_count": 37,
     "metadata": {},
     "output_type": "execute_result"
    },
    {
     "data": {
      "image/png": "[encoded data removed]",
      "text/plain": [
       "<Figure size 720x360 with 1 Axes>"
      ]
     },
     "metadata": {},
     "output_type": "display_data"
    }
   ],
   "source": [
    "sns.set(rc={'figure.figsize':(10,5)})\n",
    "document_topic.idxmax(axis=1).value_counts().plot.bar(color='lightblue')"
   ]
  },
  {
   "cell_type": "markdown",
   "metadata": {},
   "source": [
    "Saving model to file"
   ]
  },
  {
   "cell_type": "code",
   "execution_count": 38,
   "metadata": {},
   "outputs": [
    {
     "name": "stdout",
     "output_type": "stream",
     "text": [
      "'Saving...'\n",
      "'Model saved!'\n",
      "'== Test model loading =='\n",
      "'Loading...'\n",
      "'Model loaded!'\n"
     ]
    }
   ],
   "source": [
    "import pickle\n",
    "\n",
    "pprint(\"Saving...\")\n",
    "def save_lda_model():\n",
    "    file_name = \"./lda_model/lda_checkpoint\"\n",
    "    chekpointfile = open(file_name, \"wb\")\n",
    "    pickle.dump(lda_model, chekpointfile)\n",
    "    chekpointfile.close()\n",
    "    return\n",
    "\n",
    "pprint(\"Model saved!\")\n",
    "pprint(\"== Test model loading ==\")\n",
    "pprint(\"Loading...\")\n",
    "\n",
    "def load_lda_model():\n",
    "    file_name = \"./lda_model/lda_checkpoint\"\n",
    "    checkpointfile = open(file_name,\"rb\")\n",
    "    loaded_lda = pickle.load(checkpointfile)\n",
    "    checkpointfile.close()\n",
    "    return loaded_lda\n",
    "\n",
    "new_lda = load_lda_model()\n",
    "pprint(\"Model loaded!\")\n"
   ]
  },
  {
   "cell_type": "markdown",
   "metadata": {
    "colab_type": "text",
    "id": "qf2PrF6eXIp6"
   },
   "source": [
    "#### Visualizing topics"
   ]
  },
  {
   "cell_type": "code",
   "execution_count": 39,
   "metadata": {
    "colab": {},
    "colab_type": "code",
    "id": "SP32LP6-XIp6",
    "outputId": "6e9a8f5d-b5f5-4f64-f114-6bc99e3666c1"
   },
   "outputs": [
    {
     "ename": "KeyboardInterrupt",
     "evalue": "",
     "output_type": "error",
     "traceback": [
      "\u001b[0;31m---------------------------------------------------------------------------\u001b[0m",
      "\u001b[0;31mKeyboardInterrupt\u001b[0m                         Traceback (most recent call last)",
      "\u001b[0;32m<ipython-input-39-71d20674a9ff>\u001b[0m in \u001b[0;36m<module>\u001b[0;34m\u001b[0m\n\u001b[1;32m      9\u001b[0m \u001b[0;32mimport\u001b[0m \u001b[0mpyLDAvis\u001b[0m\u001b[0;34m\u001b[0m\u001b[0;34m\u001b[0m\u001b[0m\n\u001b[1;32m     10\u001b[0m \u001b[0;32mimport\u001b[0m \u001b[0mpyLDAvis\u001b[0m\u001b[0;34m.\u001b[0m\u001b[0mgensim\u001b[0m\u001b[0;34m\u001b[0m\u001b[0;34m\u001b[0m\u001b[0m\n\u001b[0;32m---> 11\u001b[0;31m \u001b[0mvis\u001b[0m \u001b[0;34m=\u001b[0m \u001b[0mpyLDAvis\u001b[0m\u001b[0;34m.\u001b[0m\u001b[0mgensim\u001b[0m\u001b[0;34m.\u001b[0m\u001b[0mprepare\u001b[0m\u001b[0;34m(\u001b[0m\u001b[0mtopic_model\u001b[0m\u001b[0;34m=\u001b[0m\u001b[0mlda_model\u001b[0m\u001b[0;34m,\u001b[0m \u001b[0mcorpus\u001b[0m\u001b[0;34m=\u001b[0m\u001b[0mcorpus\u001b[0m\u001b[0;34m,\u001b[0m \u001b[0mdictionary\u001b[0m\u001b[0;34m=\u001b[0m\u001b[0mdictionary_LDA\u001b[0m\u001b[0;34m)\u001b[0m\u001b[0;34m\u001b[0m\u001b[0;34m\u001b[0m\u001b[0m\n\u001b[0m\u001b[1;32m     12\u001b[0m \u001b[0mpyLDAvis\u001b[0m\u001b[0;34m.\u001b[0m\u001b[0menable_notebook\u001b[0m\u001b[0;34m(\u001b[0m\u001b[0;34m)\u001b[0m\u001b[0;34m\u001b[0m\u001b[0;34m\u001b[0m\u001b[0m\n\u001b[1;32m     13\u001b[0m \u001b[0mpyLDAvis\u001b[0m\u001b[0;34m.\u001b[0m\u001b[0mdisplay\u001b[0m\u001b[0;34m(\u001b[0m\u001b[0mvis\u001b[0m\u001b[0;34m)\u001b[0m\u001b[0;34m\u001b[0m\u001b[0;34m\u001b[0m\u001b[0m\n",
      "\u001b[0;32m~/opt/anaconda3/envs/research_spacy_update/lib/python3.7/site-packages/pyLDAvis/gensim.py\u001b[0m in \u001b[0;36mprepare\u001b[0;34m(topic_model, corpus, dictionary, doc_topic_dist, **kwargs)\u001b[0m\n\u001b[1;32m    117\u001b[0m     \"\"\"\n\u001b[1;32m    118\u001b[0m     \u001b[0mopts\u001b[0m \u001b[0;34m=\u001b[0m \u001b[0mfp\u001b[0m\u001b[0;34m.\u001b[0m\u001b[0mmerge\u001b[0m\u001b[0;34m(\u001b[0m\u001b[0m_extract_data\u001b[0m\u001b[0;34m(\u001b[0m\u001b[0mtopic_model\u001b[0m\u001b[0;34m,\u001b[0m \u001b[0mcorpus\u001b[0m\u001b[0;34m,\u001b[0m \u001b[0mdictionary\u001b[0m\u001b[0;34m,\u001b[0m \u001b[0mdoc_topic_dist\u001b[0m\u001b[0;34m)\u001b[0m\u001b[0;34m,\u001b[0m \u001b[0mkwargs\u001b[0m\u001b[0;34m)\u001b[0m\u001b[0;34m\u001b[0m\u001b[0;34m\u001b[0m\u001b[0m\n\u001b[0;32m--> 119\u001b[0;31m     \u001b[0;32mreturn\u001b[0m \u001b[0mvis_prepare\u001b[0m\u001b[0;34m(\u001b[0m\u001b[0;34m**\u001b[0m\u001b[0mopts\u001b[0m\u001b[0;34m)\u001b[0m\u001b[0;34m\u001b[0m\u001b[0;34m\u001b[0m\u001b[0m\n\u001b[0m",
      "\u001b[0;32m~/opt/anaconda3/envs/research_spacy_update/lib/python3.7/site-packages/pyLDAvis/_prepare.py\u001b[0m in \u001b[0;36mprepare\u001b[0;34m(topic_term_dists, doc_topic_dists, doc_lengths, vocab, term_frequency, R, lambda_step, mds, n_jobs, plot_opts, sort_topics)\u001b[0m\n\u001b[1;32m    396\u001b[0m    \u001b[0mterm_frequency\u001b[0m \u001b[0;34m=\u001b[0m \u001b[0mnp\u001b[0m\u001b[0;34m.\u001b[0m\u001b[0msum\u001b[0m\u001b[0;34m(\u001b[0m\u001b[0mterm_topic_freq\u001b[0m\u001b[0;34m,\u001b[0m \u001b[0maxis\u001b[0m\u001b[0;34m=\u001b[0m\u001b[0;36m0\u001b[0m\u001b[0;34m)\u001b[0m\u001b[0;34m\u001b[0m\u001b[0;34m\u001b[0m\u001b[0m\n\u001b[1;32m    397\u001b[0m \u001b[0;34m\u001b[0m\u001b[0m\n\u001b[0;32m--> 398\u001b[0;31m    \u001b[0mtopic_info\u001b[0m         \u001b[0;34m=\u001b[0m \u001b[0m_topic_info\u001b[0m\u001b[0;34m(\u001b[0m\u001b[0mtopic_term_dists\u001b[0m\u001b[0;34m,\u001b[0m \u001b[0mtopic_proportion\u001b[0m\u001b[0;34m,\u001b[0m \u001b[0mterm_frequency\u001b[0m\u001b[0;34m,\u001b[0m \u001b[0mterm_topic_freq\u001b[0m\u001b[0;34m,\u001b[0m \u001b[0mvocab\u001b[0m\u001b[0;34m,\u001b[0m \u001b[0mlambda_step\u001b[0m\u001b[0;34m,\u001b[0m \u001b[0mR\u001b[0m\u001b[0;34m,\u001b[0m \u001b[0mn_jobs\u001b[0m\u001b[0;34m)\u001b[0m\u001b[0;34m\u001b[0m\u001b[0;34m\u001b[0m\u001b[0m\n\u001b[0m\u001b[1;32m    399\u001b[0m    \u001b[0mtoken_table\u001b[0m        \u001b[0;34m=\u001b[0m \u001b[0m_token_table\u001b[0m\u001b[0;34m(\u001b[0m\u001b[0mtopic_info\u001b[0m\u001b[0;34m,\u001b[0m \u001b[0mterm_topic_freq\u001b[0m\u001b[0;34m,\u001b[0m \u001b[0mvocab\u001b[0m\u001b[0;34m,\u001b[0m \u001b[0mterm_frequency\u001b[0m\u001b[0;34m)\u001b[0m\u001b[0;34m\u001b[0m\u001b[0;34m\u001b[0m\u001b[0m\n\u001b[1;32m    400\u001b[0m    \u001b[0mtopic_coordinates\u001b[0m \u001b[0;34m=\u001b[0m \u001b[0m_topic_coordinates\u001b[0m\u001b[0;34m(\u001b[0m\u001b[0mmds\u001b[0m\u001b[0;34m,\u001b[0m \u001b[0mtopic_term_dists\u001b[0m\u001b[0;34m,\u001b[0m \u001b[0mtopic_proportion\u001b[0m\u001b[0;34m)\u001b[0m\u001b[0;34m\u001b[0m\u001b[0;34m\u001b[0m\u001b[0m\n",
      "\u001b[0;32m~/opt/anaconda3/envs/research_spacy_update/lib/python3.7/site-packages/pyLDAvis/_prepare.py\u001b[0m in \u001b[0;36m_topic_info\u001b[0;34m(topic_term_dists, topic_proportion, term_frequency, term_topic_freq, vocab, lambda_step, R, n_jobs)\u001b[0m\n\u001b[1;32m    253\u001b[0m \u001b[0;34m\u001b[0m\u001b[0m\n\u001b[1;32m    254\u001b[0m    top_terms = pd.concat(Parallel(n_jobs=n_jobs)(delayed(_find_relevance_chunks)(log_ttd, log_lift, R, ls) \\\n\u001b[0;32m--> 255\u001b[0;31m                                                  for ls in _job_chunks(lambda_seq, n_jobs)))\n\u001b[0m\u001b[1;32m    256\u001b[0m    \u001b[0mtopic_dfs\u001b[0m \u001b[0;34m=\u001b[0m \u001b[0mmap\u001b[0m\u001b[0;34m(\u001b[0m\u001b[0mtopic_top_term_df\u001b[0m\u001b[0;34m,\u001b[0m \u001b[0menumerate\u001b[0m\u001b[0;34m(\u001b[0m\u001b[0mtop_terms\u001b[0m\u001b[0;34m.\u001b[0m\u001b[0mT\u001b[0m\u001b[0;34m.\u001b[0m\u001b[0miterrows\u001b[0m\u001b[0;34m(\u001b[0m\u001b[0;34m)\u001b[0m\u001b[0;34m,\u001b[0m \u001b[0;36m1\u001b[0m\u001b[0;34m)\u001b[0m\u001b[0;34m)\u001b[0m\u001b[0;34m\u001b[0m\u001b[0;34m\u001b[0m\u001b[0m\n\u001b[1;32m    257\u001b[0m    \u001b[0;32mreturn\u001b[0m \u001b[0mpd\u001b[0m\u001b[0;34m.\u001b[0m\u001b[0mconcat\u001b[0m\u001b[0;34m(\u001b[0m\u001b[0;34m[\u001b[0m\u001b[0mdefault_term_info\u001b[0m\u001b[0;34m]\u001b[0m \u001b[0;34m+\u001b[0m \u001b[0mlist\u001b[0m\u001b[0;34m(\u001b[0m\u001b[0mtopic_dfs\u001b[0m\u001b[0;34m)\u001b[0m\u001b[0;34m)\u001b[0m\u001b[0;34m\u001b[0m\u001b[0;34m\u001b[0m\u001b[0m\n",
      "\u001b[0;32m~/opt/anaconda3/envs/research_spacy_update/lib/python3.7/site-packages/joblib/parallel.py\u001b[0m in \u001b[0;36m__call__\u001b[0;34m(self, iterable)\u001b[0m\n\u001b[1;32m   1015\u001b[0m \u001b[0;34m\u001b[0m\u001b[0m\n\u001b[1;32m   1016\u001b[0m             \u001b[0;32mwith\u001b[0m \u001b[0mself\u001b[0m\u001b[0;34m.\u001b[0m\u001b[0m_backend\u001b[0m\u001b[0;34m.\u001b[0m\u001b[0mretrieval_context\u001b[0m\u001b[0;34m(\u001b[0m\u001b[0;34m)\u001b[0m\u001b[0;34m:\u001b[0m\u001b[0;34m\u001b[0m\u001b[0;34m\u001b[0m\u001b[0m\n\u001b[0;32m-> 1017\u001b[0;31m                 \u001b[0mself\u001b[0m\u001b[0;34m.\u001b[0m\u001b[0mretrieve\u001b[0m\u001b[0;34m(\u001b[0m\u001b[0;34m)\u001b[0m\u001b[0;34m\u001b[0m\u001b[0;34m\u001b[0m\u001b[0m\n\u001b[0m\u001b[1;32m   1018\u001b[0m             \u001b[0;31m# Make sure that we get a last message telling us we are done\u001b[0m\u001b[0;34m\u001b[0m\u001b[0;34m\u001b[0m\u001b[0;34m\u001b[0m\u001b[0m\n\u001b[1;32m   1019\u001b[0m             \u001b[0melapsed_time\u001b[0m \u001b[0;34m=\u001b[0m \u001b[0mtime\u001b[0m\u001b[0;34m.\u001b[0m\u001b[0mtime\u001b[0m\u001b[0;34m(\u001b[0m\u001b[0;34m)\u001b[0m \u001b[0;34m-\u001b[0m \u001b[0mself\u001b[0m\u001b[0;34m.\u001b[0m\u001b[0m_start_time\u001b[0m\u001b[0;34m\u001b[0m\u001b[0;34m\u001b[0m\u001b[0m\n",
      "\u001b[0;32m~/opt/anaconda3/envs/research_spacy_update/lib/python3.7/site-packages/joblib/parallel.py\u001b[0m in \u001b[0;36mretrieve\u001b[0;34m(self)\u001b[0m\n\u001b[1;32m    907\u001b[0m             \u001b[0;32mtry\u001b[0m\u001b[0;34m:\u001b[0m\u001b[0;34m\u001b[0m\u001b[0;34m\u001b[0m\u001b[0m\n\u001b[1;32m    908\u001b[0m                 \u001b[0;32mif\u001b[0m \u001b[0mgetattr\u001b[0m\u001b[0;34m(\u001b[0m\u001b[0mself\u001b[0m\u001b[0;34m.\u001b[0m\u001b[0m_backend\u001b[0m\u001b[0;34m,\u001b[0m \u001b[0;34m'supports_timeout'\u001b[0m\u001b[0;34m,\u001b[0m \u001b[0;32mFalse\u001b[0m\u001b[0;34m)\u001b[0m\u001b[0;34m:\u001b[0m\u001b[0;34m\u001b[0m\u001b[0;34m\u001b[0m\u001b[0m\n\u001b[0;32m--> 909\u001b[0;31m                     \u001b[0mself\u001b[0m\u001b[0;34m.\u001b[0m\u001b[0m_output\u001b[0m\u001b[0;34m.\u001b[0m\u001b[0mextend\u001b[0m\u001b[0;34m(\u001b[0m\u001b[0mjob\u001b[0m\u001b[0;34m.\u001b[0m\u001b[0mget\u001b[0m\u001b[0;34m(\u001b[0m\u001b[0mtimeout\u001b[0m\u001b[0;34m=\u001b[0m\u001b[0mself\u001b[0m\u001b[0;34m.\u001b[0m\u001b[0mtimeout\u001b[0m\u001b[0;34m)\u001b[0m\u001b[0;34m)\u001b[0m\u001b[0;34m\u001b[0m\u001b[0;34m\u001b[0m\u001b[0m\n\u001b[0m\u001b[1;32m    910\u001b[0m                 \u001b[0;32melse\u001b[0m\u001b[0;34m:\u001b[0m\u001b[0;34m\u001b[0m\u001b[0;34m\u001b[0m\u001b[0m\n\u001b[1;32m    911\u001b[0m                     \u001b[0mself\u001b[0m\u001b[0;34m.\u001b[0m\u001b[0m_output\u001b[0m\u001b[0;34m.\u001b[0m\u001b[0mextend\u001b[0m\u001b[0;34m(\u001b[0m\u001b[0mjob\u001b[0m\u001b[0;34m.\u001b[0m\u001b[0mget\u001b[0m\u001b[0;34m(\u001b[0m\u001b[0;34m)\u001b[0m\u001b[0;34m)\u001b[0m\u001b[0;34m\u001b[0m\u001b[0;34m\u001b[0m\u001b[0m\n",
      "\u001b[0;32m~/opt/anaconda3/envs/research_spacy_update/lib/python3.7/site-packages/joblib/_parallel_backends.py\u001b[0m in \u001b[0;36mwrap_future_result\u001b[0;34m(future, timeout)\u001b[0m\n\u001b[1;32m    560\u001b[0m         AsyncResults.get from multiprocessing.\"\"\"\n\u001b[1;32m    561\u001b[0m         \u001b[0;32mtry\u001b[0m\u001b[0;34m:\u001b[0m\u001b[0;34m\u001b[0m\u001b[0;34m\u001b[0m\u001b[0m\n\u001b[0;32m--> 562\u001b[0;31m             \u001b[0;32mreturn\u001b[0m \u001b[0mfuture\u001b[0m\u001b[0;34m.\u001b[0m\u001b[0mresult\u001b[0m\u001b[0;34m(\u001b[0m\u001b[0mtimeout\u001b[0m\u001b[0;34m=\u001b[0m\u001b[0mtimeout\u001b[0m\u001b[0;34m)\u001b[0m\u001b[0;34m\u001b[0m\u001b[0;34m\u001b[0m\u001b[0m\n\u001b[0m\u001b[1;32m    563\u001b[0m         \u001b[0;32mexcept\u001b[0m \u001b[0mLokyTimeoutError\u001b[0m\u001b[0;34m:\u001b[0m\u001b[0;34m\u001b[0m\u001b[0;34m\u001b[0m\u001b[0m\n\u001b[1;32m    564\u001b[0m             \u001b[0;32mraise\u001b[0m \u001b[0mTimeoutError\u001b[0m\u001b[0;34m(\u001b[0m\u001b[0;34m)\u001b[0m\u001b[0;34m\u001b[0m\u001b[0;34m\u001b[0m\u001b[0m\n",
      "\u001b[0;32m~/opt/anaconda3/envs/research_spacy_update/lib/python3.7/concurrent/futures/_base.py\u001b[0m in \u001b[0;36mresult\u001b[0;34m(self, timeout)\u001b[0m\n\u001b[1;32m    428\u001b[0m                 \u001b[0;32mreturn\u001b[0m \u001b[0mself\u001b[0m\u001b[0;34m.\u001b[0m\u001b[0m__get_result\u001b[0m\u001b[0;34m(\u001b[0m\u001b[0;34m)\u001b[0m\u001b[0;34m\u001b[0m\u001b[0;34m\u001b[0m\u001b[0m\n\u001b[1;32m    429\u001b[0m \u001b[0;34m\u001b[0m\u001b[0m\n\u001b[0;32m--> 430\u001b[0;31m             \u001b[0mself\u001b[0m\u001b[0;34m.\u001b[0m\u001b[0m_condition\u001b[0m\u001b[0;34m.\u001b[0m\u001b[0mwait\u001b[0m\u001b[0;34m(\u001b[0m\u001b[0mtimeout\u001b[0m\u001b[0;34m)\u001b[0m\u001b[0;34m\u001b[0m\u001b[0;34m\u001b[0m\u001b[0m\n\u001b[0m\u001b[1;32m    431\u001b[0m \u001b[0;34m\u001b[0m\u001b[0m\n\u001b[1;32m    432\u001b[0m             \u001b[0;32mif\u001b[0m \u001b[0mself\u001b[0m\u001b[0;34m.\u001b[0m\u001b[0m_state\u001b[0m \u001b[0;32min\u001b[0m \u001b[0;34m[\u001b[0m\u001b[0mCANCELLED\u001b[0m\u001b[0;34m,\u001b[0m \u001b[0mCANCELLED_AND_NOTIFIED\u001b[0m\u001b[0;34m]\u001b[0m\u001b[0;34m:\u001b[0m\u001b[0;34m\u001b[0m\u001b[0;34m\u001b[0m\u001b[0m\n",
      "\u001b[0;32m~/opt/anaconda3/envs/research_spacy_update/lib/python3.7/threading.py\u001b[0m in \u001b[0;36mwait\u001b[0;34m(self, timeout)\u001b[0m\n\u001b[1;32m    294\u001b[0m         \u001b[0;32mtry\u001b[0m\u001b[0;34m:\u001b[0m    \u001b[0;31m# restore state no matter what (e.g., KeyboardInterrupt)\u001b[0m\u001b[0;34m\u001b[0m\u001b[0;34m\u001b[0m\u001b[0m\n\u001b[1;32m    295\u001b[0m             \u001b[0;32mif\u001b[0m \u001b[0mtimeout\u001b[0m \u001b[0;32mis\u001b[0m \u001b[0;32mNone\u001b[0m\u001b[0;34m:\u001b[0m\u001b[0;34m\u001b[0m\u001b[0;34m\u001b[0m\u001b[0m\n\u001b[0;32m--> 296\u001b[0;31m                 \u001b[0mwaiter\u001b[0m\u001b[0;34m.\u001b[0m\u001b[0macquire\u001b[0m\u001b[0;34m(\u001b[0m\u001b[0;34m)\u001b[0m\u001b[0;34m\u001b[0m\u001b[0;34m\u001b[0m\u001b[0m\n\u001b[0m\u001b[1;32m    297\u001b[0m                 \u001b[0mgotit\u001b[0m \u001b[0;34m=\u001b[0m \u001b[0;32mTrue\u001b[0m\u001b[0;34m\u001b[0m\u001b[0;34m\u001b[0m\u001b[0m\n\u001b[1;32m    298\u001b[0m             \u001b[0;32melse\u001b[0m\u001b[0;34m:\u001b[0m\u001b[0;34m\u001b[0m\u001b[0;34m\u001b[0m\u001b[0m\n",
      "\u001b[0;31mKeyboardInterrupt\u001b[0m: "
     ]
    }
   ],
   "source": [
    "# https://cran.r-project.org/web/packages/LDAvis/vignettes/details.pdf\n",
    "# Here a short legend to explain the vis:\n",
    "# size of bubble: proportional to the proportions of the topics across the N total tokens in the corpus\n",
    "# red bars: estimated number of times a given term was generated by a given topic\n",
    "# blue bars: overall frequency of each term in the corpus\n",
    "# -- Relevance of words is computed with a parameter lambda\n",
    "# -- Lambda optimal value ~0.6 (https://nlp.stanford.edu/events/illvi2014/papers/sievert-illvi2014.pdf)\n",
    "%matplotlib inline\n",
    "import pyLDAvis\n",
    "import pyLDAvis.gensim\n",
    "vis = pyLDAvis.gensim.prepare(topic_model=lda_model, corpus=corpus, dictionary=dictionary_LDA)\n",
    "pyLDAvis.enable_notebook()\n",
    "pyLDAvis.display(vis)"
   ]
  },
  {
   "cell_type": "markdown",
   "metadata": {},
   "source": [
    "Export per Toc"
   ]
  },
  {
   "cell_type": "code",
   "execution_count": 126,
   "metadata": {},
   "outputs": [],
   "source": [
    "topics_doc_dict = {}\n",
    "for i in range(len(data)):\n",
    "    #print('---- Documento ',i,' ----')\n",
    "    current_doc_topics = topics[i]\n",
    "    for j in range(len(current_doc_topics)):\n",
    "        topic = current_doc_topics[j]\n",
    "        if len(topic) == 1:\n",
    "            topic = topic[0]\n",
    "        #print(topic)\n",
    "        topic = (topic[0], str(topic[1]))\n",
    "        current_doc_topics[j] = topic\n",
    "    \n",
    "    topics_doc_dict[str(i)] = {'topic': current_doc_topics, 'words': lda_model.show_topics(formatted = True, num_topics = num_topics, num_words = 20)[topics[i][0][0]]}\n",
    "    \n",
    "#topics_doc_dict['2']['topic'][0]"
   ]
  },
  {
   "cell_type": "code",
   "execution_count": 128,
   "metadata": {},
   "outputs": [],
   "source": [
    "import json\n",
    "with open('doc_topic.json', 'w') as fp:\n",
    "    json.dump(topics_doc_dict, fp)"
   ]
  },
  {
   "cell_type": "code",
   "execution_count": null,
   "metadata": {},
   "outputs": [],
   "source": []
  }
 ],
 "metadata": {
  "accelerator": "GPU",
  "colab": {
   "name": "LDA-BBC.ipynb",
   "provenance": [],
   "toc_visible": true
  },
  "kernelspec": {
   "display_name": "Python 3.7.6 64-bit ('research_spacy_update': conda)",
   "language": "python",
   "name": "python37664bitresearchspacyupdatecondad9084c924170435f912c4353c8b66190"
  },
  "language_info": {
   "codemirror_mode": {
    "name": "ipython",
    "version": 3
   },
   "file_extension": ".py",
   "mimetype": "text/x-python",
   "name": "python",
   "nbconvert_exporter": "python",
   "pygments_lexer": "ipython3",
   "version": "3.7.6"
  },
  "widgets": {
   "application/vnd.jupyter.widget-state+json": {
    "07376b3625634908935bb67a326c10e1": {
     "model_module": "@jupyter-widgets/controls",
     "model_name": "ProgressStyleModel",
     "state": {
      "_model_module": "@jupyter-widgets/controls",
      "_model_module_version": "1.5.0",
      "_model_name": "ProgressStyleModel",
      "_view_count": null,
      "_view_module": "@jupyter-widgets/base",
      "_view_module_version": "1.2.0",
      "_view_name": "StyleView",
      "bar_color": null,
      "description_width": "initial"
     }
    },
    "08d12b4391664079ac12e056eed69186": {
     "model_module": "@jupyter-widgets/base",
     "model_name": "LayoutModel",
     "state": {
      "_model_module": "@jupyter-widgets/base",
      "_model_module_version": "1.2.0",
      "_model_name": "LayoutModel",
      "_view_count": null,
      "_view_module": "@jupyter-widgets/base",
      "_view_module_version": "1.2.0",
      "_view_name": "LayoutView",
      "align_content": null,
      "align_items": null,
      "align_self": null,
      "border": null,
      "bottom": null,
      "display": null,
      "flex": null,
      "flex_flow": null,
      "grid_area": null,
      "grid_auto_columns": null,
      "grid_auto_flow": null,
      "grid_auto_rows": null,
      "grid_column": null,
      "grid_gap": null,
      "grid_row": null,
      "grid_template_areas": null,
      "grid_template_columns": null,
      "grid_template_rows": null,
      "height": null,
      "justify_content": null,
      "justify_items": null,
      "left": null,
      "margin": null,
      "max_height": null,
      "max_width": null,
      "min_height": null,
      "min_width": null,
      "object_fit": null,
      "object_position": null,
      "order": null,
      "overflow": null,
      "overflow_x": null,
      "overflow_y": null,
      "padding": null,
      "right": null,
      "top": null,
      "visibility": null,
      "width": null
     }
    },
    "0e13000f1fcc45f790764cc4ca0132b0": {
     "model_module": "@jupyter-widgets/controls",
     "model_name": "HBoxModel",
     "state": {
      "_dom_classes": [],
      "_model_module": "@jupyter-widgets/controls",
      "_model_module_version": "1.5.0",
      "_model_name": "HBoxModel",
      "_view_count": null,
      "_view_module": "@jupyter-widgets/controls",
      "_view_module_version": "1.5.0",
      "_view_name": "HBoxView",
      "box_style": "",
      "children": [
       "IPY_MODEL_f01526f44f214a9a9bf4d5bd6381e9a6",
       "IPY_MODEL_1a11b724a5404ec5b2c3a8d7d9b38474"
      ],
      "layout": "IPY_MODEL_bae2e1044667445db4d325b27aa80531"
     }
    },
    "1513ab5644d24284b88665586d1763e9": {
     "model_module": "@jupyter-widgets/base",
     "model_name": "LayoutModel",
     "state": {
      "_model_module": "@jupyter-widgets/base",
      "_model_module_version": "1.2.0",
      "_model_name": "LayoutModel",
      "_view_count": null,
      "_view_module": "@jupyter-widgets/base",
      "_view_module_version": "1.2.0",
      "_view_name": "LayoutView",
      "align_content": null,
      "align_items": null,
      "align_self": null,
      "border": null,
      "bottom": null,
      "display": null,
      "flex": null,
      "flex_flow": null,
      "grid_area": null,
      "grid_auto_columns": null,
      "grid_auto_flow": null,
      "grid_auto_rows": null,
      "grid_column": null,
      "grid_gap": null,
      "grid_row": null,
      "grid_template_areas": null,
      "grid_template_columns": null,
      "grid_template_rows": null,
      "height": null,
      "justify_content": null,
      "justify_items": null,
      "left": null,
      "margin": null,
      "max_height": null,
      "max_width": null,
      "min_height": null,
      "min_width": null,
      "object_fit": null,
      "object_position": null,
      "order": null,
      "overflow": null,
      "overflow_x": null,
      "overflow_y": null,
      "padding": null,
      "right": null,
      "top": null,
      "visibility": null,
      "width": null
     }
    },
    "1a11b724a5404ec5b2c3a8d7d9b38474": {
     "model_module": "@jupyter-widgets/controls",
     "model_name": "HTMLModel",
     "state": {
      "_dom_classes": [],
      "_model_module": "@jupyter-widgets/controls",
      "_model_module_version": "1.5.0",
      "_model_name": "HTMLModel",
      "_view_count": null,
      "_view_module": "@jupyter-widgets/controls",
      "_view_module_version": "1.5.0",
      "_view_name": "HTMLView",
      "description": "",
      "description_tooltip": null,
      "layout": "IPY_MODEL_3e2c17e2fa9b4d6482eb04e5fdb46b1e",
      "placeholder": "​",
      "style": "IPY_MODEL_4d27cd634bc44a71924c3322d14cea84",
      "value": " 256/256 [00:08&lt;00:00, 28.63it/s]"
     }
    },
    "3e2c17e2fa9b4d6482eb04e5fdb46b1e": {
     "model_module": "@jupyter-widgets/base",
     "model_name": "LayoutModel",
     "state": {
      "_model_module": "@jupyter-widgets/base",
      "_model_module_version": "1.2.0",
      "_model_name": "LayoutModel",
      "_view_count": null,
      "_view_module": "@jupyter-widgets/base",
      "_view_module_version": "1.2.0",
      "_view_name": "LayoutView",
      "align_content": null,
      "align_items": null,
      "align_self": null,
      "border": null,
      "bottom": null,
      "display": null,
      "flex": null,
      "flex_flow": null,
      "grid_area": null,
      "grid_auto_columns": null,
      "grid_auto_flow": null,
      "grid_auto_rows": null,
      "grid_column": null,
      "grid_gap": null,
      "grid_row": null,
      "grid_template_areas": null,
      "grid_template_columns": null,
      "grid_template_rows": null,
      "height": null,
      "justify_content": null,
      "justify_items": null,
      "left": null,
      "margin": null,
      "max_height": null,
      "max_width": null,
      "min_height": null,
      "min_width": null,
      "object_fit": null,
      "object_position": null,
      "order": null,
      "overflow": null,
      "overflow_x": null,
      "overflow_y": null,
      "padding": null,
      "right": null,
      "top": null,
      "visibility": null,
      "width": null
     }
    },
    "4477369ca5e94505982067658c124474": {
     "model_module": "@jupyter-widgets/controls",
     "model_name": "HBoxModel",
     "state": {
      "_dom_classes": [],
      "_model_module": "@jupyter-widgets/controls",
      "_model_module_version": "1.5.0",
      "_model_name": "HBoxModel",
      "_view_count": null,
      "_view_module": "@jupyter-widgets/controls",
      "_view_module_version": "1.5.0",
      "_view_name": "HBoxView",
      "box_style": "",
      "children": [
       "IPY_MODEL_65c91f960e0645f4902d762df7b38e70",
       "IPY_MODEL_ac80a09d77db4c39bd8b3d2faa0c6276"
      ],
      "layout": "IPY_MODEL_5dcb98eae3d74712aa93d7623b5db85d"
     }
    },
    "4d27cd634bc44a71924c3322d14cea84": {
     "model_module": "@jupyter-widgets/controls",
     "model_name": "DescriptionStyleModel",
     "state": {
      "_model_module": "@jupyter-widgets/controls",
      "_model_module_version": "1.5.0",
      "_model_name": "DescriptionStyleModel",
      "_view_count": null,
      "_view_module": "@jupyter-widgets/base",
      "_view_module_version": "1.2.0",
      "_view_name": "StyleView",
      "description_width": ""
     }
    },
    "5184aa40fcd44d0882914b66ae581430": {
     "model_module": "@jupyter-widgets/base",
     "model_name": "LayoutModel",
     "state": {
      "_model_module": "@jupyter-widgets/base",
      "_model_module_version": "1.2.0",
      "_model_name": "LayoutModel",
      "_view_count": null,
      "_view_module": "@jupyter-widgets/base",
      "_view_module_version": "1.2.0",
      "_view_name": "LayoutView",
      "align_content": null,
      "align_items": null,
      "align_self": null,
      "border": null,
      "bottom": null,
      "display": null,
      "flex": null,
      "flex_flow": null,
      "grid_area": null,
      "grid_auto_columns": null,
      "grid_auto_flow": null,
      "grid_auto_rows": null,
      "grid_column": null,
      "grid_gap": null,
      "grid_row": null,
      "grid_template_areas": null,
      "grid_template_columns": null,
      "grid_template_rows": null,
      "height": null,
      "justify_content": null,
      "justify_items": null,
      "left": null,
      "margin": null,
      "max_height": null,
      "max_width": null,
      "min_height": null,
      "min_width": null,
      "object_fit": null,
      "object_position": null,
      "order": null,
      "overflow": null,
      "overflow_x": null,
      "overflow_y": null,
      "padding": null,
      "right": null,
      "top": null,
      "visibility": null,
      "width": null
     }
    },
    "5cd06d52ea4647cfb456bf9966ef9e44": {
     "model_module": "@jupyter-widgets/controls",
     "model_name": "HTMLModel",
     "state": {
      "_dom_classes": [],
      "_model_module": "@jupyter-widgets/controls",
      "_model_module_version": "1.5.0",
      "_model_name": "HTMLModel",
      "_view_count": null,
      "_view_module": "@jupyter-widgets/controls",
      "_view_module_version": "1.5.0",
      "_view_name": "HTMLView",
      "description": "",
      "description_tooltip": null,
      "layout": "IPY_MODEL_6d0415edbb374dd3a693fdeae73db482",
      "placeholder": "​",
      "style": "IPY_MODEL_6ceffdb4ce7e4842b4c302a9fa7f29da",
      "value": " 256/256 [06:00&lt;00:00,  1.41s/it]"
     }
    },
    "5da011677ee54269adb8d09579b593ba": {
     "model_module": "@jupyter-widgets/controls",
     "model_name": "DescriptionStyleModel",
     "state": {
      "_model_module": "@jupyter-widgets/controls",
      "_model_module_version": "1.5.0",
      "_model_name": "DescriptionStyleModel",
      "_view_count": null,
      "_view_module": "@jupyter-widgets/base",
      "_view_module_version": "1.2.0",
      "_view_name": "StyleView",
      "description_width": ""
     }
    },
    "5dcb98eae3d74712aa93d7623b5db85d": {
     "model_module": "@jupyter-widgets/base",
     "model_name": "LayoutModel",
     "state": {
      "_model_module": "@jupyter-widgets/base",
      "_model_module_version": "1.2.0",
      "_model_name": "LayoutModel",
      "_view_count": null,
      "_view_module": "@jupyter-widgets/base",
      "_view_module_version": "1.2.0",
      "_view_name": "LayoutView",
      "align_content": null,
      "align_items": null,
      "align_self": null,
      "border": null,
      "bottom": null,
      "display": null,
      "flex": null,
      "flex_flow": null,
      "grid_area": null,
      "grid_auto_columns": null,
      "grid_auto_flow": null,
      "grid_auto_rows": null,
      "grid_column": null,
      "grid_gap": null,
      "grid_row": null,
      "grid_template_areas": null,
      "grid_template_columns": null,
      "grid_template_rows": null,
      "height": null,
      "justify_content": null,
      "justify_items": null,
      "left": null,
      "margin": null,
      "max_height": null,
      "max_width": null,
      "min_height": null,
      "min_width": null,
      "object_fit": null,
      "object_position": null,
      "order": null,
      "overflow": null,
      "overflow_x": null,
      "overflow_y": null,
      "padding": null,
      "right": null,
      "top": null,
      "visibility": null,
      "width": null
     }
    },
    "61ba5c224a514493985e5d1b686a4913": {
     "model_module": "@jupyter-widgets/controls",
     "model_name": "ProgressStyleModel",
     "state": {
      "_model_module": "@jupyter-widgets/controls",
      "_model_module_version": "1.5.0",
      "_model_name": "ProgressStyleModel",
      "_view_count": null,
      "_view_module": "@jupyter-widgets/base",
      "_view_module_version": "1.2.0",
      "_view_name": "StyleView",
      "bar_color": null,
      "description_width": "initial"
     }
    },
    "65c91f960e0645f4902d762df7b38e70": {
     "model_module": "@jupyter-widgets/controls",
     "model_name": "FloatProgressModel",
     "state": {
      "_dom_classes": [],
      "_model_module": "@jupyter-widgets/controls",
      "_model_module_version": "1.5.0",
      "_model_name": "FloatProgressModel",
      "_view_count": null,
      "_view_module": "@jupyter-widgets/controls",
      "_view_module_version": "1.5.0",
      "_view_name": "ProgressView",
      "bar_style": "success",
      "description": "",
      "description_tooltip": null,
      "layout": "IPY_MODEL_bd40fd9cbd344eddb35495cb46e14103",
      "max": 1,
      "min": 0,
      "orientation": "horizontal",
      "style": "IPY_MODEL_cef623c21a1346038f7a75254b071573",
      "value": 0
     }
    },
    "6cceca6a2c0c42e9bc694ceb1bd0febd": {
     "model_module": "@jupyter-widgets/controls",
     "model_name": "FloatProgressModel",
     "state": {
      "_dom_classes": [],
      "_model_module": "@jupyter-widgets/controls",
      "_model_module_version": "1.5.0",
      "_model_name": "FloatProgressModel",
      "_view_count": null,
      "_view_module": "@jupyter-widgets/controls",
      "_view_module_version": "1.5.0",
      "_view_name": "ProgressView",
      "bar_style": "success",
      "description": "100%",
      "description_tooltip": null,
      "layout": "IPY_MODEL_5184aa40fcd44d0882914b66ae581430",
      "max": 256,
      "min": 0,
      "orientation": "horizontal",
      "style": "IPY_MODEL_61ba5c224a514493985e5d1b686a4913",
      "value": 256
     }
    },
    "6ceffdb4ce7e4842b4c302a9fa7f29da": {
     "model_module": "@jupyter-widgets/controls",
     "model_name": "DescriptionStyleModel",
     "state": {
      "_model_module": "@jupyter-widgets/controls",
      "_model_module_version": "1.5.0",
      "_model_name": "DescriptionStyleModel",
      "_view_count": null,
      "_view_module": "@jupyter-widgets/base",
      "_view_module_version": "1.2.0",
      "_view_name": "StyleView",
      "description_width": ""
     }
    },
    "6d0415edbb374dd3a693fdeae73db482": {
     "model_module": "@jupyter-widgets/base",
     "model_name": "LayoutModel",
     "state": {
      "_model_module": "@jupyter-widgets/base",
      "_model_module_version": "1.2.0",
      "_model_name": "LayoutModel",
      "_view_count": null,
      "_view_module": "@jupyter-widgets/base",
      "_view_module_version": "1.2.0",
      "_view_name": "LayoutView",
      "align_content": null,
      "align_items": null,
      "align_self": null,
      "border": null,
      "bottom": null,
      "display": null,
      "flex": null,
      "flex_flow": null,
      "grid_area": null,
      "grid_auto_columns": null,
      "grid_auto_flow": null,
      "grid_auto_rows": null,
      "grid_column": null,
      "grid_gap": null,
      "grid_row": null,
      "grid_template_areas": null,
      "grid_template_columns": null,
      "grid_template_rows": null,
      "height": null,
      "justify_content": null,
      "justify_items": null,
      "left": null,
      "margin": null,
      "max_height": null,
      "max_width": null,
      "min_height": null,
      "min_width": null,
      "object_fit": null,
      "object_position": null,
      "order": null,
      "overflow": null,
      "overflow_x": null,
      "overflow_y": null,
      "padding": null,
      "right": null,
      "top": null,
      "visibility": null,
      "width": null
     }
    },
    "74e98cc443b240798358f4281be5f677": {
     "model_module": "@jupyter-widgets/base",
     "model_name": "LayoutModel",
     "state": {
      "_model_module": "@jupyter-widgets/base",
      "_model_module_version": "1.2.0",
      "_model_name": "LayoutModel",
      "_view_count": null,
      "_view_module": "@jupyter-widgets/base",
      "_view_module_version": "1.2.0",
      "_view_name": "LayoutView",
      "align_content": null,
      "align_items": null,
      "align_self": null,
      "border": null,
      "bottom": null,
      "display": null,
      "flex": null,
      "flex_flow": null,
      "grid_area": null,
      "grid_auto_columns": null,
      "grid_auto_flow": null,
      "grid_auto_rows": null,
      "grid_column": null,
      "grid_gap": null,
      "grid_row": null,
      "grid_template_areas": null,
      "grid_template_columns": null,
      "grid_template_rows": null,
      "height": null,
      "justify_content": null,
      "justify_items": null,
      "left": null,
      "margin": null,
      "max_height": null,
      "max_width": null,
      "min_height": null,
      "min_width": null,
      "object_fit": null,
      "object_position": null,
      "order": null,
      "overflow": null,
      "overflow_x": null,
      "overflow_y": null,
      "padding": null,
      "right": null,
      "top": null,
      "visibility": null,
      "width": null
     }
    },
    "80ff2aba47da4f669f1901cf3501dcaa": {
     "model_module": "@jupyter-widgets/controls",
     "model_name": "HBoxModel",
     "state": {
      "_dom_classes": [],
      "_model_module": "@jupyter-widgets/controls",
      "_model_module_version": "1.5.0",
      "_model_name": "HBoxModel",
      "_view_count": null,
      "_view_module": "@jupyter-widgets/controls",
      "_view_module_version": "1.5.0",
      "_view_name": "HBoxView",
      "box_style": "",
      "children": [
       "IPY_MODEL_91d6b6a3ee74436da244a0eb3b2c318b",
       "IPY_MODEL_88d27b6f0c7f40d18417e49568605277"
      ],
      "layout": "IPY_MODEL_1513ab5644d24284b88665586d1763e9"
     }
    },
    "88d27b6f0c7f40d18417e49568605277": {
     "model_module": "@jupyter-widgets/controls",
     "model_name": "HTMLModel",
     "state": {
      "_dom_classes": [],
      "_model_module": "@jupyter-widgets/controls",
      "_model_module_version": "1.5.0",
      "_model_name": "HTMLModel",
      "_view_count": null,
      "_view_module": "@jupyter-widgets/controls",
      "_view_module_version": "1.5.0",
      "_view_name": "HTMLView",
      "description": "",
      "description_tooltip": null,
      "layout": "IPY_MODEL_f3d3f20064994daf99f6df9b5f3fa641",
      "placeholder": "​",
      "style": "IPY_MODEL_c682c1d895b74f5db0563bfd1801a39b",
      "value": " 256/256 [00:01&lt;00:00, 146.14it/s]"
     }
    },
    "8c1877aa0cc247daa4232877681f39af": {
     "model_module": "@jupyter-widgets/controls",
     "model_name": "FloatProgressModel",
     "state": {
      "_dom_classes": [],
      "_model_module": "@jupyter-widgets/controls",
      "_model_module_version": "1.5.0",
      "_model_name": "FloatProgressModel",
      "_view_count": null,
      "_view_module": "@jupyter-widgets/controls",
      "_view_module_version": "1.5.0",
      "_view_name": "ProgressView",
      "bar_style": "success",
      "description": "100%",
      "description_tooltip": null,
      "layout": "IPY_MODEL_eec3946e73864c1593d09cf70cf1fb49",
      "max": 256,
      "min": 0,
      "orientation": "horizontal",
      "style": "IPY_MODEL_8dec687b55aa4ab1a18467d76732834c",
      "value": 256
     }
    },
    "8dec687b55aa4ab1a18467d76732834c": {
     "model_module": "@jupyter-widgets/controls",
     "model_name": "ProgressStyleModel",
     "state": {
      "_model_module": "@jupyter-widgets/controls",
      "_model_module_version": "1.5.0",
      "_model_name": "ProgressStyleModel",
      "_view_count": null,
      "_view_module": "@jupyter-widgets/base",
      "_view_module_version": "1.2.0",
      "_view_name": "StyleView",
      "bar_color": null,
      "description_width": "initial"
     }
    },
    "91d6b6a3ee74436da244a0eb3b2c318b": {
     "model_module": "@jupyter-widgets/controls",
     "model_name": "FloatProgressModel",
     "state": {
      "_dom_classes": [],
      "_model_module": "@jupyter-widgets/controls",
      "_model_module_version": "1.5.0",
      "_model_name": "FloatProgressModel",
      "_view_count": null,
      "_view_module": "@jupyter-widgets/controls",
      "_view_module_version": "1.5.0",
      "_view_name": "ProgressView",
      "bar_style": "success",
      "description": "100%",
      "description_tooltip": null,
      "layout": "IPY_MODEL_74e98cc443b240798358f4281be5f677",
      "max": 256,
      "min": 0,
      "orientation": "horizontal",
      "style": "IPY_MODEL_b5dab458a1a54de1839c05cc2095b100",
      "value": 256
     }
    },
    "a1ac4b3b37ad4746a667c0dd80bcd43d": {
     "model_module": "@jupyter-widgets/base",
     "model_name": "LayoutModel",
     "state": {
      "_model_module": "@jupyter-widgets/base",
      "_model_module_version": "1.2.0",
      "_model_name": "LayoutModel",
      "_view_count": null,
      "_view_module": "@jupyter-widgets/base",
      "_view_module_version": "1.2.0",
      "_view_name": "LayoutView",
      "align_content": null,
      "align_items": null,
      "align_self": null,
      "border": null,
      "bottom": null,
      "display": null,
      "flex": null,
      "flex_flow": null,
      "grid_area": null,
      "grid_auto_columns": null,
      "grid_auto_flow": null,
      "grid_auto_rows": null,
      "grid_column": null,
      "grid_gap": null,
      "grid_row": null,
      "grid_template_areas": null,
      "grid_template_columns": null,
      "grid_template_rows": null,
      "height": null,
      "justify_content": null,
      "justify_items": null,
      "left": null,
      "margin": null,
      "max_height": null,
      "max_width": null,
      "min_height": null,
      "min_width": null,
      "object_fit": null,
      "object_position": null,
      "order": null,
      "overflow": null,
      "overflow_x": null,
      "overflow_y": null,
      "padding": null,
      "right": null,
      "top": null,
      "visibility": null,
      "width": null
     }
    },
    "a27eaccc357c422d996f751a7a232e37": {
     "model_module": "@jupyter-widgets/base",
     "model_name": "LayoutModel",
     "state": {
      "_model_module": "@jupyter-widgets/base",
      "_model_module_version": "1.2.0",
      "_model_name": "LayoutModel",
      "_view_count": null,
      "_view_module": "@jupyter-widgets/base",
      "_view_module_version": "1.2.0",
      "_view_name": "LayoutView",
      "align_content": null,
      "align_items": null,
      "align_self": null,
      "border": null,
      "bottom": null,
      "display": null,
      "flex": null,
      "flex_flow": null,
      "grid_area": null,
      "grid_auto_columns": null,
      "grid_auto_flow": null,
      "grid_auto_rows": null,
      "grid_column": null,
      "grid_gap": null,
      "grid_row": null,
      "grid_template_areas": null,
      "grid_template_columns": null,
      "grid_template_rows": null,
      "height": null,
      "justify_content": null,
      "justify_items": null,
      "left": null,
      "margin": null,
      "max_height": null,
      "max_width": null,
      "min_height": null,
      "min_width": null,
      "object_fit": null,
      "object_position": null,
      "order": null,
      "overflow": null,
      "overflow_x": null,
      "overflow_y": null,
      "padding": null,
      "right": null,
      "top": null,
      "visibility": null,
      "width": null
     }
    },
    "a9035e95770145fa9814c64a1e77414e": {
     "model_module": "@jupyter-widgets/base",
     "model_name": "LayoutModel",
     "state": {
      "_model_module": "@jupyter-widgets/base",
      "_model_module_version": "1.2.0",
      "_model_name": "LayoutModel",
      "_view_count": null,
      "_view_module": "@jupyter-widgets/base",
      "_view_module_version": "1.2.0",
      "_view_name": "LayoutView",
      "align_content": null,
      "align_items": null,
      "align_self": null,
      "border": null,
      "bottom": null,
      "display": null,
      "flex": null,
      "flex_flow": null,
      "grid_area": null,
      "grid_auto_columns": null,
      "grid_auto_flow": null,
      "grid_auto_rows": null,
      "grid_column": null,
      "grid_gap": null,
      "grid_row": null,
      "grid_template_areas": null,
      "grid_template_columns": null,
      "grid_template_rows": null,
      "height": null,
      "justify_content": null,
      "justify_items": null,
      "left": null,
      "margin": null,
      "max_height": null,
      "max_width": null,
      "min_height": null,
      "min_width": null,
      "object_fit": null,
      "object_position": null,
      "order": null,
      "overflow": null,
      "overflow_x": null,
      "overflow_y": null,
      "padding": null,
      "right": null,
      "top": null,
      "visibility": null,
      "width": null
     }
    },
    "ac80a09d77db4c39bd8b3d2faa0c6276": {
     "model_module": "@jupyter-widgets/controls",
     "model_name": "HTMLModel",
     "state": {
      "_dom_classes": [],
      "_model_module": "@jupyter-widgets/controls",
      "_model_module_version": "1.5.0",
      "_model_name": "HTMLModel",
      "_view_count": null,
      "_view_module": "@jupyter-widgets/controls",
      "_view_module_version": "1.5.0",
      "_view_name": "HTMLView",
      "description": "",
      "description_tooltip": null,
      "layout": "IPY_MODEL_e2164b3b9276459899dc33a008bdddf8",
      "placeholder": "​",
      "style": "IPY_MODEL_d6b90db4a82f46ac8608cb426b07639d",
      "value": " 0/? [00:02&lt;?, ?it/s]"
     }
    },
    "ae65c6ae1f6843d2872846423b943e60": {
     "model_module": "@jupyter-widgets/base",
     "model_name": "LayoutModel",
     "state": {
      "_model_module": "@jupyter-widgets/base",
      "_model_module_version": "1.2.0",
      "_model_name": "LayoutModel",
      "_view_count": null,
      "_view_module": "@jupyter-widgets/base",
      "_view_module_version": "1.2.0",
      "_view_name": "LayoutView",
      "align_content": null,
      "align_items": null,
      "align_self": null,
      "border": null,
      "bottom": null,
      "display": null,
      "flex": null,
      "flex_flow": null,
      "grid_area": null,
      "grid_auto_columns": null,
      "grid_auto_flow": null,
      "grid_auto_rows": null,
      "grid_column": null,
      "grid_gap": null,
      "grid_row": null,
      "grid_template_areas": null,
      "grid_template_columns": null,
      "grid_template_rows": null,
      "height": null,
      "justify_content": null,
      "justify_items": null,
      "left": null,
      "margin": null,
      "max_height": null,
      "max_width": null,
      "min_height": null,
      "min_width": null,
      "object_fit": null,
      "object_position": null,
      "order": null,
      "overflow": null,
      "overflow_x": null,
      "overflow_y": null,
      "padding": null,
      "right": null,
      "top": null,
      "visibility": null,
      "width": null
     }
    },
    "af4d083911b04ec1b010f622397d56f4": {
     "model_module": "@jupyter-widgets/controls",
     "model_name": "HTMLModel",
     "state": {
      "_dom_classes": [],
      "_model_module": "@jupyter-widgets/controls",
      "_model_module_version": "1.5.0",
      "_model_name": "HTMLModel",
      "_view_count": null,
      "_view_module": "@jupyter-widgets/controls",
      "_view_module_version": "1.5.0",
      "_view_name": "HTMLView",
      "description": "",
      "description_tooltip": null,
      "layout": "IPY_MODEL_a27eaccc357c422d996f751a7a232e37",
      "placeholder": "​",
      "style": "IPY_MODEL_cd31018580c946d981189561fd71cd8a",
      "value": " 256/256 [10:06&lt;00:00,  2.37s/it]"
     }
    },
    "b5dab458a1a54de1839c05cc2095b100": {
     "model_module": "@jupyter-widgets/controls",
     "model_name": "ProgressStyleModel",
     "state": {
      "_model_module": "@jupyter-widgets/controls",
      "_model_module_version": "1.5.0",
      "_model_name": "ProgressStyleModel",
      "_view_count": null,
      "_view_module": "@jupyter-widgets/base",
      "_view_module_version": "1.2.0",
      "_view_name": "StyleView",
      "bar_color": null,
      "description_width": "initial"
     }
    },
    "bae2e1044667445db4d325b27aa80531": {
     "model_module": "@jupyter-widgets/base",
     "model_name": "LayoutModel",
     "state": {
      "_model_module": "@jupyter-widgets/base",
      "_model_module_version": "1.2.0",
      "_model_name": "LayoutModel",
      "_view_count": null,
      "_view_module": "@jupyter-widgets/base",
      "_view_module_version": "1.2.0",
      "_view_name": "LayoutView",
      "align_content": null,
      "align_items": null,
      "align_self": null,
      "border": null,
      "bottom": null,
      "display": null,
      "flex": null,
      "flex_flow": null,
      "grid_area": null,
      "grid_auto_columns": null,
      "grid_auto_flow": null,
      "grid_auto_rows": null,
      "grid_column": null,
      "grid_gap": null,
      "grid_row": null,
      "grid_template_areas": null,
      "grid_template_columns": null,
      "grid_template_rows": null,
      "height": null,
      "justify_content": null,
      "justify_items": null,
      "left": null,
      "margin": null,
      "max_height": null,
      "max_width": null,
      "min_height": null,
      "min_width": null,
      "object_fit": null,
      "object_position": null,
      "order": null,
      "overflow": null,
      "overflow_x": null,
      "overflow_y": null,
      "padding": null,
      "right": null,
      "top": null,
      "visibility": null,
      "width": null
     }
    },
    "bcd83aa9f78b468bb9d62ba4c0a59324": {
     "model_module": "@jupyter-widgets/controls",
     "model_name": "HBoxModel",
     "state": {
      "_dom_classes": [],
      "_model_module": "@jupyter-widgets/controls",
      "_model_module_version": "1.5.0",
      "_model_name": "HBoxModel",
      "_view_count": null,
      "_view_module": "@jupyter-widgets/controls",
      "_view_module_version": "1.5.0",
      "_view_name": "HBoxView",
      "box_style": "",
      "children": [
       "IPY_MODEL_8c1877aa0cc247daa4232877681f39af",
       "IPY_MODEL_af4d083911b04ec1b010f622397d56f4"
      ],
      "layout": "IPY_MODEL_f5d3979f34a640318a660104c9e8ba50"
     }
    },
    "bd40fd9cbd344eddb35495cb46e14103": {
     "model_module": "@jupyter-widgets/base",
     "model_name": "LayoutModel",
     "state": {
      "_model_module": "@jupyter-widgets/base",
      "_model_module_version": "1.2.0",
      "_model_name": "LayoutModel",
      "_view_count": null,
      "_view_module": "@jupyter-widgets/base",
      "_view_module_version": "1.2.0",
      "_view_name": "LayoutView",
      "align_content": null,
      "align_items": null,
      "align_self": null,
      "border": null,
      "bottom": null,
      "display": null,
      "flex": null,
      "flex_flow": null,
      "grid_area": null,
      "grid_auto_columns": null,
      "grid_auto_flow": null,
      "grid_auto_rows": null,
      "grid_column": null,
      "grid_gap": null,
      "grid_row": null,
      "grid_template_areas": null,
      "grid_template_columns": null,
      "grid_template_rows": null,
      "height": null,
      "justify_content": null,
      "justify_items": null,
      "left": null,
      "margin": null,
      "max_height": null,
      "max_width": null,
      "min_height": null,
      "min_width": null,
      "object_fit": null,
      "object_position": null,
      "order": null,
      "overflow": null,
      "overflow_x": null,
      "overflow_y": null,
      "padding": null,
      "right": null,
      "top": null,
      "visibility": null,
      "width": null
     }
    },
    "bef09922dc034405903324c1f9948c07": {
     "model_module": "@jupyter-widgets/controls",
     "model_name": "ProgressStyleModel",
     "state": {
      "_model_module": "@jupyter-widgets/controls",
      "_model_module_version": "1.5.0",
      "_model_name": "ProgressStyleModel",
      "_view_count": null,
      "_view_module": "@jupyter-widgets/base",
      "_view_module_version": "1.2.0",
      "_view_name": "StyleView",
      "bar_color": null,
      "description_width": "initial"
     }
    },
    "c682c1d895b74f5db0563bfd1801a39b": {
     "model_module": "@jupyter-widgets/controls",
     "model_name": "DescriptionStyleModel",
     "state": {
      "_model_module": "@jupyter-widgets/controls",
      "_model_module_version": "1.5.0",
      "_model_name": "DescriptionStyleModel",
      "_view_count": null,
      "_view_module": "@jupyter-widgets/base",
      "_view_module_version": "1.2.0",
      "_view_name": "StyleView",
      "description_width": ""
     }
    },
    "cd31018580c946d981189561fd71cd8a": {
     "model_module": "@jupyter-widgets/controls",
     "model_name": "DescriptionStyleModel",
     "state": {
      "_model_module": "@jupyter-widgets/controls",
      "_model_module_version": "1.5.0",
      "_model_name": "DescriptionStyleModel",
      "_view_count": null,
      "_view_module": "@jupyter-widgets/base",
      "_view_module_version": "1.2.0",
      "_view_name": "StyleView",
      "description_width": ""
     }
    },
    "cef623c21a1346038f7a75254b071573": {
     "model_module": "@jupyter-widgets/controls",
     "model_name": "ProgressStyleModel",
     "state": {
      "_model_module": "@jupyter-widgets/controls",
      "_model_module_version": "1.5.0",
      "_model_name": "ProgressStyleModel",
      "_view_count": null,
      "_view_module": "@jupyter-widgets/base",
      "_view_module_version": "1.2.0",
      "_view_name": "StyleView",
      "bar_color": null,
      "description_width": "initial"
     }
    },
    "d6b90db4a82f46ac8608cb426b07639d": {
     "model_module": "@jupyter-widgets/controls",
     "model_name": "DescriptionStyleModel",
     "state": {
      "_model_module": "@jupyter-widgets/controls",
      "_model_module_version": "1.5.0",
      "_model_name": "DescriptionStyleModel",
      "_view_count": null,
      "_view_module": "@jupyter-widgets/base",
      "_view_module_version": "1.2.0",
      "_view_name": "StyleView",
      "description_width": ""
     }
    },
    "dc4769adbbf3497db8620a743da82b58": {
     "model_module": "@jupyter-widgets/controls",
     "model_name": "HBoxModel",
     "state": {
      "_dom_classes": [],
      "_model_module": "@jupyter-widgets/controls",
      "_model_module_version": "1.5.0",
      "_model_name": "HBoxModel",
      "_view_count": null,
      "_view_module": "@jupyter-widgets/controls",
      "_view_module_version": "1.5.0",
      "_view_name": "HBoxView",
      "box_style": "",
      "children": [
       "IPY_MODEL_f54b251a7c3f4331bbb9a139c93dc8d1",
       "IPY_MODEL_f9aed9464eac4b77b13e4ba98835f414"
      ],
      "layout": "IPY_MODEL_a9035e95770145fa9814c64a1e77414e"
     }
    },
    "e2164b3b9276459899dc33a008bdddf8": {
     "model_module": "@jupyter-widgets/base",
     "model_name": "LayoutModel",
     "state": {
      "_model_module": "@jupyter-widgets/base",
      "_model_module_version": "1.2.0",
      "_model_name": "LayoutModel",
      "_view_count": null,
      "_view_module": "@jupyter-widgets/base",
      "_view_module_version": "1.2.0",
      "_view_name": "LayoutView",
      "align_content": null,
      "align_items": null,
      "align_self": null,
      "border": null,
      "bottom": null,
      "display": null,
      "flex": null,
      "flex_flow": null,
      "grid_area": null,
      "grid_auto_columns": null,
      "grid_auto_flow": null,
      "grid_auto_rows": null,
      "grid_column": null,
      "grid_gap": null,
      "grid_row": null,
      "grid_template_areas": null,
      "grid_template_columns": null,
      "grid_template_rows": null,
      "height": null,
      "justify_content": null,
      "justify_items": null,
      "left": null,
      "margin": null,
      "max_height": null,
      "max_width": null,
      "min_height": null,
      "min_width": null,
      "object_fit": null,
      "object_position": null,
      "order": null,
      "overflow": null,
      "overflow_x": null,
      "overflow_y": null,
      "padding": null,
      "right": null,
      "top": null,
      "visibility": null,
      "width": null
     }
    },
    "eec3946e73864c1593d09cf70cf1fb49": {
     "model_module": "@jupyter-widgets/base",
     "model_name": "LayoutModel",
     "state": {
      "_model_module": "@jupyter-widgets/base",
      "_model_module_version": "1.2.0",
      "_model_name": "LayoutModel",
      "_view_count": null,
      "_view_module": "@jupyter-widgets/base",
      "_view_module_version": "1.2.0",
      "_view_name": "LayoutView",
      "align_content": null,
      "align_items": null,
      "align_self": null,
      "border": null,
      "bottom": null,
      "display": null,
      "flex": null,
      "flex_flow": null,
      "grid_area": null,
      "grid_auto_columns": null,
      "grid_auto_flow": null,
      "grid_auto_rows": null,
      "grid_column": null,
      "grid_gap": null,
      "grid_row": null,
      "grid_template_areas": null,
      "grid_template_columns": null,
      "grid_template_rows": null,
      "height": null,
      "justify_content": null,
      "justify_items": null,
      "left": null,
      "margin": null,
      "max_height": null,
      "max_width": null,
      "min_height": null,
      "min_width": null,
      "object_fit": null,
      "object_position": null,
      "order": null,
      "overflow": null,
      "overflow_x": null,
      "overflow_y": null,
      "padding": null,
      "right": null,
      "top": null,
      "visibility": null,
      "width": null
     }
    },
    "f01526f44f214a9a9bf4d5bd6381e9a6": {
     "model_module": "@jupyter-widgets/controls",
     "model_name": "FloatProgressModel",
     "state": {
      "_dom_classes": [],
      "_model_module": "@jupyter-widgets/controls",
      "_model_module_version": "1.5.0",
      "_model_name": "FloatProgressModel",
      "_view_count": null,
      "_view_module": "@jupyter-widgets/controls",
      "_view_module_version": "1.5.0",
      "_view_name": "ProgressView",
      "bar_style": "success",
      "description": "100%",
      "description_tooltip": null,
      "layout": "IPY_MODEL_f368bb046a2740999f19892434ca022e",
      "max": 256,
      "min": 0,
      "orientation": "horizontal",
      "style": "IPY_MODEL_07376b3625634908935bb67a326c10e1",
      "value": 256
     }
    },
    "f368bb046a2740999f19892434ca022e": {
     "model_module": "@jupyter-widgets/base",
     "model_name": "LayoutModel",
     "state": {
      "_model_module": "@jupyter-widgets/base",
      "_model_module_version": "1.2.0",
      "_model_name": "LayoutModel",
      "_view_count": null,
      "_view_module": "@jupyter-widgets/base",
      "_view_module_version": "1.2.0",
      "_view_name": "LayoutView",
      "align_content": null,
      "align_items": null,
      "align_self": null,
      "border": null,
      "bottom": null,
      "display": null,
      "flex": null,
      "flex_flow": null,
      "grid_area": null,
      "grid_auto_columns": null,
      "grid_auto_flow": null,
      "grid_auto_rows": null,
      "grid_column": null,
      "grid_gap": null,
      "grid_row": null,
      "grid_template_areas": null,
      "grid_template_columns": null,
      "grid_template_rows": null,
      "height": null,
      "justify_content": null,
      "justify_items": null,
      "left": null,
      "margin": null,
      "max_height": null,
      "max_width": null,
      "min_height": null,
      "min_width": null,
      "object_fit": null,
      "object_position": null,
      "order": null,
      "overflow": null,
      "overflow_x": null,
      "overflow_y": null,
      "padding": null,
      "right": null,
      "top": null,
      "visibility": null,
      "width": null
     }
    },
    "f3d3f20064994daf99f6df9b5f3fa641": {
     "model_module": "@jupyter-widgets/base",
     "model_name": "LayoutModel",
     "state": {
      "_model_module": "@jupyter-widgets/base",
      "_model_module_version": "1.2.0",
      "_model_name": "LayoutModel",
      "_view_count": null,
      "_view_module": "@jupyter-widgets/base",
      "_view_module_version": "1.2.0",
      "_view_name": "LayoutView",
      "align_content": null,
      "align_items": null,
      "align_self": null,
      "border": null,
      "bottom": null,
      "display": null,
      "flex": null,
      "flex_flow": null,
      "grid_area": null,
      "grid_auto_columns": null,
      "grid_auto_flow": null,
      "grid_auto_rows": null,
      "grid_column": null,
      "grid_gap": null,
      "grid_row": null,
      "grid_template_areas": null,
      "grid_template_columns": null,
      "grid_template_rows": null,
      "height": null,
      "justify_content": null,
      "justify_items": null,
      "left": null,
      "margin": null,
      "max_height": null,
      "max_width": null,
      "min_height": null,
      "min_width": null,
      "object_fit": null,
      "object_position": null,
      "order": null,
      "overflow": null,
      "overflow_x": null,
      "overflow_y": null,
      "padding": null,
      "right": null,
      "top": null,
      "visibility": null,
      "width": null
     }
    },
    "f54b251a7c3f4331bbb9a139c93dc8d1": {
     "model_module": "@jupyter-widgets/controls",
     "model_name": "FloatProgressModel",
     "state": {
      "_dom_classes": [],
      "_model_module": "@jupyter-widgets/controls",
      "_model_module_version": "1.5.0",
      "_model_name": "FloatProgressModel",
      "_view_count": null,
      "_view_module": "@jupyter-widgets/controls",
      "_view_module_version": "1.5.0",
      "_view_name": "ProgressView",
      "bar_style": "success",
      "description": "100%",
      "description_tooltip": null,
      "layout": "IPY_MODEL_a1ac4b3b37ad4746a667c0dd80bcd43d",
      "max": 308,
      "min": 0,
      "orientation": "horizontal",
      "style": "IPY_MODEL_bef09922dc034405903324c1f9948c07",
      "value": 308
     }
    },
    "f5d3979f34a640318a660104c9e8ba50": {
     "model_module": "@jupyter-widgets/base",
     "model_name": "LayoutModel",
     "state": {
      "_model_module": "@jupyter-widgets/base",
      "_model_module_version": "1.2.0",
      "_model_name": "LayoutModel",
      "_view_count": null,
      "_view_module": "@jupyter-widgets/base",
      "_view_module_version": "1.2.0",
      "_view_name": "LayoutView",
      "align_content": null,
      "align_items": null,
      "align_self": null,
      "border": null,
      "bottom": null,
      "display": null,
      "flex": null,
      "flex_flow": null,
      "grid_area": null,
      "grid_auto_columns": null,
      "grid_auto_flow": null,
      "grid_auto_rows": null,
      "grid_column": null,
      "grid_gap": null,
      "grid_row": null,
      "grid_template_areas": null,
      "grid_template_columns": null,
      "grid_template_rows": null,
      "height": null,
      "justify_content": null,
      "justify_items": null,
      "left": null,
      "margin": null,
      "max_height": null,
      "max_width": null,
      "min_height": null,
      "min_width": null,
      "object_fit": null,
      "object_position": null,
      "order": null,
      "overflow": null,
      "overflow_x": null,
      "overflow_y": null,
      "padding": null,
      "right": null,
      "top": null,
      "visibility": null,
      "width": null
     }
    },
    "f693f6ce93f44ecf8159214f91a65864": {
     "model_module": "@jupyter-widgets/controls",
     "model_name": "HBoxModel",
     "state": {
      "_dom_classes": [],
      "_model_module": "@jupyter-widgets/controls",
      "_model_module_version": "1.5.0",
      "_model_name": "HBoxModel",
      "_view_count": null,
      "_view_module": "@jupyter-widgets/controls",
      "_view_module_version": "1.5.0",
      "_view_name": "HBoxView",
      "box_style": "",
      "children": [
       "IPY_MODEL_6cceca6a2c0c42e9bc694ceb1bd0febd",
       "IPY_MODEL_5cd06d52ea4647cfb456bf9966ef9e44"
      ],
      "layout": "IPY_MODEL_ae65c6ae1f6843d2872846423b943e60"
     }
    },
    "f9aed9464eac4b77b13e4ba98835f414": {
     "model_module": "@jupyter-widgets/controls",
     "model_name": "HTMLModel",
     "state": {
      "_dom_classes": [],
      "_model_module": "@jupyter-widgets/controls",
      "_model_module_version": "1.5.0",
      "_model_name": "HTMLModel",
      "_view_count": null,
      "_view_module": "@jupyter-widgets/controls",
      "_view_module_version": "1.5.0",
      "_view_name": "HTMLView",
      "description": "",
      "description_tooltip": null,
      "layout": "IPY_MODEL_08d12b4391664079ac12e056eed69186",
      "placeholder": "​",
      "style": "IPY_MODEL_5da011677ee54269adb8d09579b593ba",
      "value": " 308/308 [00:19&lt;00:00, 15.91it/s]"
     }
    }
   }
  }
 },
 "nbformat": 4,
 "nbformat_minor": 4
}
