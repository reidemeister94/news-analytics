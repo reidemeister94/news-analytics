{
 "cells": [
  {
   "cell_type": "code",
   "execution_count": 1,
   "metadata": {},
   "outputs": [],
   "source": [
    "import spacy\n",
    "from spacy import displacy\n",
    "from collections import Counter\n",
    "from pprint import pprint\n",
    "from core_modules.topic_extraction.nlp_utils import NLPUtils"
   ]
  },
  {
   "cell_type": "code",
   "execution_count": 2,
   "metadata": {},
   "outputs": [],
   "source": [
    "class NamedEntityRecognition:\n",
    "    def __init__(self, nlp_model=None):\n",
    "        if nlp_model is not None:\n",
    "            self.nlp = nlp_model\n",
    "        else:\n",
    "            self.nlp = spacy.load(\"en_core_web_md\")\n",
    "\n",
    "    def named_entity_recognition_process(self, doc_text):\n",
    "        # collection.insert_one(self.news_json[0])\n",
    "        doc = self.nlp(doc_text)\n",
    "        #item_label_freq = {}\n",
    "        #for x in doc.ents:\n",
    "        #    item_label_freq[x.text] = x.label_\n",
    "        #items = [x.text for x in doc.ents]\n",
    "        #most_common_items = Counter(items).most_common(10)\n",
    "        return doc"
   ]
  },
  {
   "cell_type": "code",
   "execution_count": 3,
   "metadata": {},
   "outputs": [],
   "source": [
    "named_entity_recognition = NamedEntityRecognition()\n",
    "text = \"\"\"As COVID-19 spreads, public health officials are telling people to stay home if they feel sick. But in jails and prisons, that's not an option. Robert Greifinger is a physician who spent 25 years working on health care issues inside the nation's prisons and jails, and he says the \"social distancing\" advice we're all hearing right now isn't so simple behind bars. \"There are crowding issues, ventilation issues, security issues where people have to be checked and monitored fairly frequently,\" Greifinger says. \"So it's really hard to do.\" If jails and prisons are complacent about the coronavirus, he says they run the risk of becoming \"incubators\" for the disease. \"Since jail and prison staff and prisoners tend to be younger, one thinks initially that it's not going to be a big problem,\" he says. \"But remember that staffs work shifts, they come in and out of the facility, and they may be bringing that infection home to people who have compromised immune systems.\" For weeks, Greifinger and other corrections health experts have been urging prison administrators to plan for the coronavirus. But when NPR first started asking jails and prisons about preparations, most pointed to existing plans for other infectious diseases, such as tuberculosis. In Arizona, a spokesperson for the Department of Corrections said employees and inmates were being encouraged to disinfect shared services. But a correctional officer told KJZZ's Jimmy Jenkins nothing new was being done, and said unsanitary conditions threatened the health care of staff and inmates. NPR isn't identifying the officer because speaking to a reporter could cost him his job. The officer told Jenkins, \"A lot of units have issues just getting soap and paper towels stocked in the restrooms.\" Jenkins says he's also been unable to get details on coronavirus preparation from the Maricopa County Sheriff's Office, which houses nearly 7,000 people on a daily basis. But others are taking clear steps to prepare. Near Seattle, the South Correctional Entity, or \"SCORE,\" houses nearly 600 inmates. It's doing extra screening of new inmates, and it's not allowing visitors into the lobby, where family members usually communicate with inmates via video conferencing. The same video-conferencing service is available to families who want to call from home, and SCORE executive director Devon Schrum has asked the company that runs it to offer that service to families for free, during the pandemic. Inside the jail, she says they're doing what they can to keep the virus at bay. \"Four times a day we're wiping down the entire jail including the cells, and we're wiping down before and after inmates come in,\" she says. They're also orienting inmates on good hand hygiene, and she's considering giving them supervised access to hand sanitizer — it's usually contraband in jails, because of the alcohol content. For inmates who eventually do test positive, the jail has identified holding areas with with separate air in-takes for their ventilation. \"We have 24/7 medical coverage, so at this point we're prepared to treat in place. And to minimize the risk to the rest of the population,\" Schrum says. But jails and prisons can expect a subset of their COVID-19 cases to be serious, and many of those patients will be sent to local hospitals, potentially adding to the anticipated surge of demand for critical care. Jose Saldana believes some of the most vulnerable prisoners should be sent home now, before they get sick. He's a former prisoner who now directs an organization called \"Release Aging People in Prison Campaign.\" \"It's probably going to be deadly for some of the elderly people that I left behind,\" Saldana says. He'd like parole and clemency boards to consider which older, sick prisoners could be let out, because he believes they'd stand a better chance of surviving the pandemic at home. \"Let's look at it realistically, for what it is. To keep such men in prison, to die — knowing they're going to die! — is just pure revenge. It's not justice,\" Saldana says. There may be other reasons to let some of them go. Marc Stern is a physician who used to be the top medical officer for the Washington State Department of Corrections, and he says jails and prisons should be planning for the possibility of not having enough staff. \"We don't want to be caught behind the ball,\" he says. \"We don't want to find one day that a number of officers have called in sick, and we're having trouble managing the institution.\" He's recommending corrections administrators communicate now with courts or parole systems about which inmates might be safely released early, in case things get to that point.\"\"\""
   ]
  },
  {
   "cell_type": "code",
   "execution_count": 4,
   "metadata": {},
   "outputs": [],
   "source": [
    "nlp_utils = NLPUtils(lang='en')"
   ]
  },
  {
   "cell_type": "code",
   "execution_count": 5,
   "metadata": {},
   "outputs": [],
   "source": [
    "parsed_text = nlp_utils.parse_text(text)"
   ]
  },
  {
   "cell_type": "code",
   "execution_count": 6,
   "metadata": {},
   "outputs": [],
   "source": [
    "parsed_text = \" \".join(word for word in parsed_text)"
   ]
  },
  {
   "cell_type": "code",
   "execution_count": 7,
   "metadata": {},
   "outputs": [
    {
     "data": {
      "text/plain": [
       "'covid-19 spread public health official tell people stay home feel sick jail prison option Robert Greifinger physician spend 25 year work health care issue inside nation prison jail say social distancing advice hear right simple bar crowding issue ventilation issue security issue people check monitor fairly frequently Greifinger say hard jail prison complacent coronavirus say run risk incubator disease jail prison staff prisoner tend young think initially go big problem say remember staff work shift come facility bring infection home people compromise immune system week Greifinger correction health expert urge prison administrator plan coronavirus NPR start ask jail prison preparation point existing plan infectious disease tuberculosis Arizona spokesperson Department Corrections say employee inmate encourage disinfect shared service correctional officer tell KJZZ Jimmy Jenkins new say unsanitary condition threaten health care staff inmate NPR identify officer speak reporter cost job officer tell Jenkins lot unit issue get soap paper towel stock restroom Jenkins say unable detail coronavirus preparation Maricopa County Sheriff Office house nearly 7,000 people daily basis take clear step prepare near Seattle South Correctional Entity score house nearly 600 inmate extra screening new inmate allow visitor lobby family member usually communicate inmate video conferencing video conferencing service available family want home score executive director Devon Schrum ask company run offer service family free pandemic inside jail say virus bay time day wipe entire jail include cell wipe inmate come say orient inmate good hand hygiene consider give supervise access hand sanitizer usually contraband jail alcohol content inmate eventually test positive jail identify hold area separate air take ventilation 24/7 medical coverage point prepared treat place minimize risk rest population Schrum say jail prison expect subset covid-19 case patient send local hospital potentially add anticipated surge demand critical care Jose Saldana believe vulnerable prisoner send home sick prisoner direct organization call Release Aging People Prison Campaign probably go deadly elderly people leave Saldana say like parole clemency board consider old sick prisoner let believe stand well chance survive pandemic home let look realistically man prison die know go die pure revenge justice Saldana say reason let Marc Stern physician medical officer Washington State Department Corrections say jail prison plan possibility have staff want catch ball say want find day number officer call sick have trouble manage institution recommend correction administrator communicate court parole system inmate safely release early case thing point'"
      ]
     },
     "execution_count": 7,
     "metadata": {},
     "output_type": "execute_result"
    }
   ],
   "source": [
    "parsed_text"
   ]
  },
  {
   "cell_type": "code",
   "execution_count": 14,
   "metadata": {},
   "outputs": [],
   "source": [
    "doc = named_entity_recognition.named_entity_recognition_process(text)"
   ]
  },
  {
   "cell_type": "code",
   "execution_count": 13,
   "metadata": {},
   "outputs": [],
   "source": [
    "doc_parsed = named_entity_recognition.named_entity_recognition_process(parsed_text)"
   ]
  },
  {
   "cell_type": "code",
   "execution_count": 9,
   "metadata": {},
   "outputs": [
    {
     "data": {
      "text/html": [
       "<div class=\"entities\" style=\"line-height: 2.5; direction: ltr\">As COVID-19 spreads, public health officials are telling people to stay home if they feel sick. But in jails and prisons, that's not an option. \n",
       "<mark class=\"entity\" style=\"background: #aa9cfc; padding: 0.45em 0.6em; margin: 0 0.25em; line-height: 1; border-radius: 0.35em;\">\n",
       "    Robert Greifinger\n",
       "    <span style=\"font-size: 0.8em; font-weight: bold; line-height: 1; border-radius: 0.35em; text-transform: uppercase; vertical-align: middle; margin-left: 0.5rem\">PERSON</span>\n",
       "</mark>\n",
       " is a physician who spent \n",
       "<mark class=\"entity\" style=\"background: #bfe1d9; padding: 0.45em 0.6em; margin: 0 0.25em; line-height: 1; border-radius: 0.35em;\">\n",
       "    25 years\n",
       "    <span style=\"font-size: 0.8em; font-weight: bold; line-height: 1; border-radius: 0.35em; text-transform: uppercase; vertical-align: middle; margin-left: 0.5rem\">DATE</span>\n",
       "</mark>\n",
       " working on health care issues inside the nation's prisons and jails, and he says the &quot;social distancing&quot; advice we're all hearing right now isn't so simple behind bars. &quot;There are crowding issues, ventilation issues, security issues where people have to be checked and monitored fairly frequently,&quot; \n",
       "<mark class=\"entity\" style=\"background: #aa9cfc; padding: 0.45em 0.6em; margin: 0 0.25em; line-height: 1; border-radius: 0.35em;\">\n",
       "    Greifinger\n",
       "    <span style=\"font-size: 0.8em; font-weight: bold; line-height: 1; border-radius: 0.35em; text-transform: uppercase; vertical-align: middle; margin-left: 0.5rem\">PERSON</span>\n",
       "</mark>\n",
       " says. &quot;So it's really hard to do.&quot; If jails and prisons are complacent about the coronavirus, he says they run the risk of becoming &quot;incubators&quot; for the disease. &quot;Since jail and prison staff and prisoners tend to be younger, one thinks initially that it's not going to be a big problem,&quot; he says. &quot;But remember that staffs work shifts, they come in and out of the facility, and they may be bringing that infection home to people who have compromised immune systems.&quot; For \n",
       "<mark class=\"entity\" style=\"background: #bfe1d9; padding: 0.45em 0.6em; margin: 0 0.25em; line-height: 1; border-radius: 0.35em;\">\n",
       "    weeks\n",
       "    <span style=\"font-size: 0.8em; font-weight: bold; line-height: 1; border-radius: 0.35em; text-transform: uppercase; vertical-align: middle; margin-left: 0.5rem\">DATE</span>\n",
       "</mark>\n",
       ", \n",
       "<mark class=\"entity\" style=\"background: #aa9cfc; padding: 0.45em 0.6em; margin: 0 0.25em; line-height: 1; border-radius: 0.35em;\">\n",
       "    Greifinger\n",
       "    <span style=\"font-size: 0.8em; font-weight: bold; line-height: 1; border-radius: 0.35em; text-transform: uppercase; vertical-align: middle; margin-left: 0.5rem\">PERSON</span>\n",
       "</mark>\n",
       " and other corrections health experts have been urging prison administrators to plan for the coronavirus. But when \n",
       "<mark class=\"entity\" style=\"background: #7aecec; padding: 0.45em 0.6em; margin: 0 0.25em; line-height: 1; border-radius: 0.35em;\">\n",
       "    NPR\n",
       "    <span style=\"font-size: 0.8em; font-weight: bold; line-height: 1; border-radius: 0.35em; text-transform: uppercase; vertical-align: middle; margin-left: 0.5rem\">ORG</span>\n",
       "</mark>\n",
       " first started asking jails and prisons about preparations, most pointed to existing plans for other infectious diseases, such as tuberculosis. In \n",
       "<mark class=\"entity\" style=\"background: #feca74; padding: 0.45em 0.6em; margin: 0 0.25em; line-height: 1; border-radius: 0.35em;\">\n",
       "    Arizona\n",
       "    <span style=\"font-size: 0.8em; font-weight: bold; line-height: 1; border-radius: 0.35em; text-transform: uppercase; vertical-align: middle; margin-left: 0.5rem\">GPE</span>\n",
       "</mark>\n",
       ", a spokesperson for \n",
       "<mark class=\"entity\" style=\"background: #7aecec; padding: 0.45em 0.6em; margin: 0 0.25em; line-height: 1; border-radius: 0.35em;\">\n",
       "    the Department of Corrections\n",
       "    <span style=\"font-size: 0.8em; font-weight: bold; line-height: 1; border-radius: 0.35em; text-transform: uppercase; vertical-align: middle; margin-left: 0.5rem\">ORG</span>\n",
       "</mark>\n",
       " said employees and inmates were being encouraged to disinfect shared services. But a correctional officer told \n",
       "<mark class=\"entity\" style=\"background: #7aecec; padding: 0.45em 0.6em; margin: 0 0.25em; line-height: 1; border-radius: 0.35em;\">\n",
       "    KJZZ\n",
       "    <span style=\"font-size: 0.8em; font-weight: bold; line-height: 1; border-radius: 0.35em; text-transform: uppercase; vertical-align: middle; margin-left: 0.5rem\">ORG</span>\n",
       "</mark>\n",
       "'s \n",
       "<mark class=\"entity\" style=\"background: #aa9cfc; padding: 0.45em 0.6em; margin: 0 0.25em; line-height: 1; border-radius: 0.35em;\">\n",
       "    Jimmy Jenkins\n",
       "    <span style=\"font-size: 0.8em; font-weight: bold; line-height: 1; border-radius: 0.35em; text-transform: uppercase; vertical-align: middle; margin-left: 0.5rem\">PERSON</span>\n",
       "</mark>\n",
       " nothing new was being done, and said unsanitary conditions threatened the health care of staff and inmates. \n",
       "<mark class=\"entity\" style=\"background: #7aecec; padding: 0.45em 0.6em; margin: 0 0.25em; line-height: 1; border-radius: 0.35em;\">\n",
       "    NPR\n",
       "    <span style=\"font-size: 0.8em; font-weight: bold; line-height: 1; border-radius: 0.35em; text-transform: uppercase; vertical-align: middle; margin-left: 0.5rem\">ORG</span>\n",
       "</mark>\n",
       " isn't identifying the officer because speaking to a reporter could cost him his job. The officer told \n",
       "<mark class=\"entity\" style=\"background: #aa9cfc; padding: 0.45em 0.6em; margin: 0 0.25em; line-height: 1; border-radius: 0.35em;\">\n",
       "    Jenkins\n",
       "    <span style=\"font-size: 0.8em; font-weight: bold; line-height: 1; border-radius: 0.35em; text-transform: uppercase; vertical-align: middle; margin-left: 0.5rem\">PERSON</span>\n",
       "</mark>\n",
       ", &quot;A lot of units have issues just getting soap and paper towels stocked in the restrooms.&quot; \n",
       "<mark class=\"entity\" style=\"background: #aa9cfc; padding: 0.45em 0.6em; margin: 0 0.25em; line-height: 1; border-radius: 0.35em;\">\n",
       "    Jenkins\n",
       "    <span style=\"font-size: 0.8em; font-weight: bold; line-height: 1; border-radius: 0.35em; text-transform: uppercase; vertical-align: middle; margin-left: 0.5rem\">PERSON</span>\n",
       "</mark>\n",
       " says he's also been unable to get details on coronavirus preparation from \n",
       "<mark class=\"entity\" style=\"background: #7aecec; padding: 0.45em 0.6em; margin: 0 0.25em; line-height: 1; border-radius: 0.35em;\">\n",
       "    the Maricopa County Sheriff's Office\n",
       "    <span style=\"font-size: 0.8em; font-weight: bold; line-height: 1; border-radius: 0.35em; text-transform: uppercase; vertical-align: middle; margin-left: 0.5rem\">ORG</span>\n",
       "</mark>\n",
       ", which houses \n",
       "<mark class=\"entity\" style=\"background: #e4e7d2; padding: 0.45em 0.6em; margin: 0 0.25em; line-height: 1; border-radius: 0.35em;\">\n",
       "    nearly 7,000\n",
       "    <span style=\"font-size: 0.8em; font-weight: bold; line-height: 1; border-radius: 0.35em; text-transform: uppercase; vertical-align: middle; margin-left: 0.5rem\">CARDINAL</span>\n",
       "</mark>\n",
       " people on a \n",
       "<mark class=\"entity\" style=\"background: #bfe1d9; padding: 0.45em 0.6em; margin: 0 0.25em; line-height: 1; border-radius: 0.35em;\">\n",
       "    daily\n",
       "    <span style=\"font-size: 0.8em; font-weight: bold; line-height: 1; border-radius: 0.35em; text-transform: uppercase; vertical-align: middle; margin-left: 0.5rem\">DATE</span>\n",
       "</mark>\n",
       " basis. But others are taking clear steps to prepare. Near \n",
       "<mark class=\"entity\" style=\"background: #feca74; padding: 0.45em 0.6em; margin: 0 0.25em; line-height: 1; border-radius: 0.35em;\">\n",
       "    Seattle\n",
       "    <span style=\"font-size: 0.8em; font-weight: bold; line-height: 1; border-radius: 0.35em; text-transform: uppercase; vertical-align: middle; margin-left: 0.5rem\">GPE</span>\n",
       "</mark>\n",
       ", \n",
       "<mark class=\"entity\" style=\"background: #7aecec; padding: 0.45em 0.6em; margin: 0 0.25em; line-height: 1; border-radius: 0.35em;\">\n",
       "    the South Correctional Entity\n",
       "    <span style=\"font-size: 0.8em; font-weight: bold; line-height: 1; border-radius: 0.35em; text-transform: uppercase; vertical-align: middle; margin-left: 0.5rem\">ORG</span>\n",
       "</mark>\n",
       ", or &quot;SCORE,&quot; houses \n",
       "<mark class=\"entity\" style=\"background: #e4e7d2; padding: 0.45em 0.6em; margin: 0 0.25em; line-height: 1; border-radius: 0.35em;\">\n",
       "    nearly 600\n",
       "    <span style=\"font-size: 0.8em; font-weight: bold; line-height: 1; border-radius: 0.35em; text-transform: uppercase; vertical-align: middle; margin-left: 0.5rem\">CARDINAL</span>\n",
       "</mark>\n",
       " inmates. It's doing extra screening of new inmates, and it's not allowing visitors into the lobby, where family members usually communicate with inmates via video conferencing. The same video-conferencing service is available to families who want to call from home, and \n",
       "<mark class=\"entity\" style=\"background: #7aecec; padding: 0.45em 0.6em; margin: 0 0.25em; line-height: 1; border-radius: 0.35em;\">\n",
       "    SCORE\n",
       "    <span style=\"font-size: 0.8em; font-weight: bold; line-height: 1; border-radius: 0.35em; text-transform: uppercase; vertical-align: middle; margin-left: 0.5rem\">ORG</span>\n",
       "</mark>\n",
       " executive director \n",
       "<mark class=\"entity\" style=\"background: #aa9cfc; padding: 0.45em 0.6em; margin: 0 0.25em; line-height: 1; border-radius: 0.35em;\">\n",
       "    Devon Schrum\n",
       "    <span style=\"font-size: 0.8em; font-weight: bold; line-height: 1; border-radius: 0.35em; text-transform: uppercase; vertical-align: middle; margin-left: 0.5rem\">PERSON</span>\n",
       "</mark>\n",
       " has asked the company that runs it to offer that service to families for free, during the pandemic. Inside the jail, she says they're doing what they can to keep the virus at bay. &quot;\n",
       "<mark class=\"entity\" style=\"background: #e4e7d2; padding: 0.45em 0.6em; margin: 0 0.25em; line-height: 1; border-radius: 0.35em;\">\n",
       "    Four\n",
       "    <span style=\"font-size: 0.8em; font-weight: bold; line-height: 1; border-radius: 0.35em; text-transform: uppercase; vertical-align: middle; margin-left: 0.5rem\">CARDINAL</span>\n",
       "</mark>\n",
       " times a day we're wiping down the entire jail including the cells, and we're wiping down before and after inmates come in,&quot; she says. They're also orienting inmates on good hand hygiene, and she's considering giving them supervised access to hand sanitizer — it's usually contraband in jails, because of the alcohol content. For inmates who eventually do test positive, the jail has identified holding areas with with separate air in-takes for their ventilation. &quot;We have 24/7 medical coverage, so at this point we're prepared to treat in place. And to minimize the risk to the rest of the population,&quot; \n",
       "<mark class=\"entity\" style=\"background: #aa9cfc; padding: 0.45em 0.6em; margin: 0 0.25em; line-height: 1; border-radius: 0.35em;\">\n",
       "    Schrum\n",
       "    <span style=\"font-size: 0.8em; font-weight: bold; line-height: 1; border-radius: 0.35em; text-transform: uppercase; vertical-align: middle; margin-left: 0.5rem\">PERSON</span>\n",
       "</mark>\n",
       " says. But jails and prisons can expect a subset of their COVID-19 cases to be serious, and many of those patients will be sent to local hospitals, potentially adding to the anticipated surge of demand for critical care. \n",
       "<mark class=\"entity\" style=\"background: #aa9cfc; padding: 0.45em 0.6em; margin: 0 0.25em; line-height: 1; border-radius: 0.35em;\">\n",
       "    Jose Saldana\n",
       "    <span style=\"font-size: 0.8em; font-weight: bold; line-height: 1; border-radius: 0.35em; text-transform: uppercase; vertical-align: middle; margin-left: 0.5rem\">PERSON</span>\n",
       "</mark>\n",
       " believes some of the most vulnerable prisoners should be sent home now, before they get sick. He's a former prisoner who now directs an organization called &quot;\n",
       "<mark class=\"entity\" style=\"background: #f0d0ff; padding: 0.45em 0.6em; margin: 0 0.25em; line-height: 1; border-radius: 0.35em;\">\n",
       "    Release Aging People in Prison Campaign\n",
       "    <span style=\"font-size: 0.8em; font-weight: bold; line-height: 1; border-radius: 0.35em; text-transform: uppercase; vertical-align: middle; margin-left: 0.5rem\">WORK_OF_ART</span>\n",
       "</mark>\n",
       ".&quot; &quot;It's probably going to be deadly for some of the elderly people that I left behind,&quot; \n",
       "<mark class=\"entity\" style=\"background: #aa9cfc; padding: 0.45em 0.6em; margin: 0 0.25em; line-height: 1; border-radius: 0.35em;\">\n",
       "    Saldana\n",
       "    <span style=\"font-size: 0.8em; font-weight: bold; line-height: 1; border-radius: 0.35em; text-transform: uppercase; vertical-align: middle; margin-left: 0.5rem\">PERSON</span>\n",
       "</mark>\n",
       " says. He'd like parole and clemency boards to consider which older, sick prisoners could be let out, because he believes they'd stand a better chance of surviving the pandemic at home. &quot;Let's look at it realistically, for what it is. To keep such men in prison, to die — knowing they're going to die! — is just pure revenge. It's not justice,&quot; \n",
       "<mark class=\"entity\" style=\"background: #aa9cfc; padding: 0.45em 0.6em; margin: 0 0.25em; line-height: 1; border-radius: 0.35em;\">\n",
       "    Saldana\n",
       "    <span style=\"font-size: 0.8em; font-weight: bold; line-height: 1; border-radius: 0.35em; text-transform: uppercase; vertical-align: middle; margin-left: 0.5rem\">PERSON</span>\n",
       "</mark>\n",
       " says. There may be other reasons to let some of them go. \n",
       "<mark class=\"entity\" style=\"background: #aa9cfc; padding: 0.45em 0.6em; margin: 0 0.25em; line-height: 1; border-radius: 0.35em;\">\n",
       "    Marc Stern\n",
       "    <span style=\"font-size: 0.8em; font-weight: bold; line-height: 1; border-radius: 0.35em; text-transform: uppercase; vertical-align: middle; margin-left: 0.5rem\">PERSON</span>\n",
       "</mark>\n",
       " is a physician who used to be the top medical officer for \n",
       "<mark class=\"entity\" style=\"background: #7aecec; padding: 0.45em 0.6em; margin: 0 0.25em; line-height: 1; border-radius: 0.35em;\">\n",
       "    the Washington State Department of Corrections\n",
       "    <span style=\"font-size: 0.8em; font-weight: bold; line-height: 1; border-radius: 0.35em; text-transform: uppercase; vertical-align: middle; margin-left: 0.5rem\">ORG</span>\n",
       "</mark>\n",
       ", and he says jails and prisons should be planning for the possibility of not having enough staff. &quot;We don't want to be caught behind the ball,&quot; he says. &quot;We don't want to find \n",
       "<mark class=\"entity\" style=\"background: #bfe1d9; padding: 0.45em 0.6em; margin: 0 0.25em; line-height: 1; border-radius: 0.35em;\">\n",
       "    one day\n",
       "    <span style=\"font-size: 0.8em; font-weight: bold; line-height: 1; border-radius: 0.35em; text-transform: uppercase; vertical-align: middle; margin-left: 0.5rem\">DATE</span>\n",
       "</mark>\n",
       " that a number of officers have called in sick, and we're having trouble managing the institution.&quot; He's recommending corrections administrators communicate now with courts or parole systems about which inmates might be safely released early, in case things get to that point.</div>"
      ],
      "text/plain": [
       "<IPython.core.display.HTML object>"
      ]
     },
     "metadata": {},
     "output_type": "display_data"
    }
   ],
   "source": [
    "displacy.render(doc, style=\"ent\")"
   ]
  },
  {
   "cell_type": "code",
   "execution_count": 15,
   "metadata": {},
   "outputs": [
    {
     "data": {
      "text/html": [
       "<div class=\"entities\" style=\"line-height: 2.5; direction: ltr\">covid-19 spread public health official tell people stay home feel sick jail prison option \n",
       "<mark class=\"entity\" style=\"background: #aa9cfc; padding: 0.45em 0.6em; margin: 0 0.25em; line-height: 1; border-radius: 0.35em;\">\n",
       "    Robert Greifinger\n",
       "    <span style=\"font-size: 0.8em; font-weight: bold; line-height: 1; border-radius: 0.35em; text-transform: uppercase; vertical-align: middle; margin-left: 0.5rem\">PERSON</span>\n",
       "</mark>\n",
       " physician spend \n",
       "<mark class=\"entity\" style=\"background: #bfe1d9; padding: 0.45em 0.6em; margin: 0 0.25em; line-height: 1; border-radius: 0.35em;\">\n",
       "    25 year\n",
       "    <span style=\"font-size: 0.8em; font-weight: bold; line-height: 1; border-radius: 0.35em; text-transform: uppercase; vertical-align: middle; margin-left: 0.5rem\">DATE</span>\n",
       "</mark>\n",
       " work health care issue inside nation prison jail say social distancing advice hear right simple bar crowding issue ventilation issue security issue people check monitor fairly frequently \n",
       "<mark class=\"entity\" style=\"background: #aa9cfc; padding: 0.45em 0.6em; margin: 0 0.25em; line-height: 1; border-radius: 0.35em;\">\n",
       "    Greifinger\n",
       "    <span style=\"font-size: 0.8em; font-weight: bold; line-height: 1; border-radius: 0.35em; text-transform: uppercase; vertical-align: middle; margin-left: 0.5rem\">PERSON</span>\n",
       "</mark>\n",
       " say hard jail prison complacent coronavirus say run risk incubator disease jail prison staff prisoner tend young think initially go big problem say remember staff work shift come facility bring infection home people compromise immune system \n",
       "<mark class=\"entity\" style=\"background: #bfe1d9; padding: 0.45em 0.6em; margin: 0 0.25em; line-height: 1; border-radius: 0.35em;\">\n",
       "    week\n",
       "    <span style=\"font-size: 0.8em; font-weight: bold; line-height: 1; border-radius: 0.35em; text-transform: uppercase; vertical-align: middle; margin-left: 0.5rem\">DATE</span>\n",
       "</mark>\n",
       " Greifinger correction health expert urge prison administrator plan coronavirus \n",
       "<mark class=\"entity\" style=\"background: #7aecec; padding: 0.45em 0.6em; margin: 0 0.25em; line-height: 1; border-radius: 0.35em;\">\n",
       "    NPR\n",
       "    <span style=\"font-size: 0.8em; font-weight: bold; line-height: 1; border-radius: 0.35em; text-transform: uppercase; vertical-align: middle; margin-left: 0.5rem\">ORG</span>\n",
       "</mark>\n",
       " start ask jail prison preparation point existing plan infectious disease tuberculosis \n",
       "<mark class=\"entity\" style=\"background: #feca74; padding: 0.45em 0.6em; margin: 0 0.25em; line-height: 1; border-radius: 0.35em;\">\n",
       "    Arizona\n",
       "    <span style=\"font-size: 0.8em; font-weight: bold; line-height: 1; border-radius: 0.35em; text-transform: uppercase; vertical-align: middle; margin-left: 0.5rem\">GPE</span>\n",
       "</mark>\n",
       " spokesperson \n",
       "<mark class=\"entity\" style=\"background: #7aecec; padding: 0.45em 0.6em; margin: 0 0.25em; line-height: 1; border-radius: 0.35em;\">\n",
       "    Department Corrections\n",
       "    <span style=\"font-size: 0.8em; font-weight: bold; line-height: 1; border-radius: 0.35em; text-transform: uppercase; vertical-align: middle; margin-left: 0.5rem\">ORG</span>\n",
       "</mark>\n",
       " say employee inmate encourage disinfect shared service correctional officer tell \n",
       "<mark class=\"entity\" style=\"background: #7aecec; padding: 0.45em 0.6em; margin: 0 0.25em; line-height: 1; border-radius: 0.35em;\">\n",
       "    KJZZ Jimmy Jenkins\n",
       "    <span style=\"font-size: 0.8em; font-weight: bold; line-height: 1; border-radius: 0.35em; text-transform: uppercase; vertical-align: middle; margin-left: 0.5rem\">ORG</span>\n",
       "</mark>\n",
       " new say unsanitary condition threaten health care staff inmate \n",
       "<mark class=\"entity\" style=\"background: #7aecec; padding: 0.45em 0.6em; margin: 0 0.25em; line-height: 1; border-radius: 0.35em;\">\n",
       "    NPR\n",
       "    <span style=\"font-size: 0.8em; font-weight: bold; line-height: 1; border-radius: 0.35em; text-transform: uppercase; vertical-align: middle; margin-left: 0.5rem\">ORG</span>\n",
       "</mark>\n",
       " identify officer speak reporter cost job officer tell \n",
       "<mark class=\"entity\" style=\"background: #aa9cfc; padding: 0.45em 0.6em; margin: 0 0.25em; line-height: 1; border-radius: 0.35em;\">\n",
       "    Jenkins\n",
       "    <span style=\"font-size: 0.8em; font-weight: bold; line-height: 1; border-radius: 0.35em; text-transform: uppercase; vertical-align: middle; margin-left: 0.5rem\">PERSON</span>\n",
       "</mark>\n",
       " lot unit issue get soap paper towel stock restroom \n",
       "<mark class=\"entity\" style=\"background: #aa9cfc; padding: 0.45em 0.6em; margin: 0 0.25em; line-height: 1; border-radius: 0.35em;\">\n",
       "    Jenkins\n",
       "    <span style=\"font-size: 0.8em; font-weight: bold; line-height: 1; border-radius: 0.35em; text-transform: uppercase; vertical-align: middle; margin-left: 0.5rem\">PERSON</span>\n",
       "</mark>\n",
       " say unable detail coronavirus preparation \n",
       "<mark class=\"entity\" style=\"background: #feca74; padding: 0.45em 0.6em; margin: 0 0.25em; line-height: 1; border-radius: 0.35em;\">\n",
       "    Maricopa County\n",
       "    <span style=\"font-size: 0.8em; font-weight: bold; line-height: 1; border-radius: 0.35em; text-transform: uppercase; vertical-align: middle; margin-left: 0.5rem\">GPE</span>\n",
       "</mark>\n",
       " Sheriff Office house \n",
       "<mark class=\"entity\" style=\"background: #e4e7d2; padding: 0.45em 0.6em; margin: 0 0.25em; line-height: 1; border-radius: 0.35em;\">\n",
       "    nearly 7,000\n",
       "    <span style=\"font-size: 0.8em; font-weight: bold; line-height: 1; border-radius: 0.35em; text-transform: uppercase; vertical-align: middle; margin-left: 0.5rem\">CARDINAL</span>\n",
       "</mark>\n",
       " people \n",
       "<mark class=\"entity\" style=\"background: #bfe1d9; padding: 0.45em 0.6em; margin: 0 0.25em; line-height: 1; border-radius: 0.35em;\">\n",
       "    daily\n",
       "    <span style=\"font-size: 0.8em; font-weight: bold; line-height: 1; border-radius: 0.35em; text-transform: uppercase; vertical-align: middle; margin-left: 0.5rem\">DATE</span>\n",
       "</mark>\n",
       " basis take clear step prepare near \n",
       "<mark class=\"entity\" style=\"background: #7aecec; padding: 0.45em 0.6em; margin: 0 0.25em; line-height: 1; border-radius: 0.35em;\">\n",
       "    Seattle South Correctional Entity\n",
       "    <span style=\"font-size: 0.8em; font-weight: bold; line-height: 1; border-radius: 0.35em; text-transform: uppercase; vertical-align: middle; margin-left: 0.5rem\">ORG</span>\n",
       "</mark>\n",
       " score house \n",
       "<mark class=\"entity\" style=\"background: #e4e7d2; padding: 0.45em 0.6em; margin: 0 0.25em; line-height: 1; border-radius: 0.35em;\">\n",
       "    nearly 600\n",
       "    <span style=\"font-size: 0.8em; font-weight: bold; line-height: 1; border-radius: 0.35em; text-transform: uppercase; vertical-align: middle; margin-left: 0.5rem\">CARDINAL</span>\n",
       "</mark>\n",
       " inmate extra screening new inmate allow visitor lobby family member usually communicate inmate video conferencing video conferencing service available family want home score executive director \n",
       "<mark class=\"entity\" style=\"background: #aa9cfc; padding: 0.45em 0.6em; margin: 0 0.25em; line-height: 1; border-radius: 0.35em;\">\n",
       "    Devon Schrum\n",
       "    <span style=\"font-size: 0.8em; font-weight: bold; line-height: 1; border-radius: 0.35em; text-transform: uppercase; vertical-align: middle; margin-left: 0.5rem\">PERSON</span>\n",
       "</mark>\n",
       " ask company run offer service family free pandemic inside jail say virus bay time day wipe entire jail include cell wipe inmate come say orient inmate good hand hygiene consider give supervise access hand sanitizer usually contraband jail alcohol content inmate eventually test positive jail identify hold area separate air take ventilation 24/7 medical coverage point prepared treat place minimize risk rest population \n",
       "<mark class=\"entity\" style=\"background: #aa9cfc; padding: 0.45em 0.6em; margin: 0 0.25em; line-height: 1; border-radius: 0.35em;\">\n",
       "    Schrum\n",
       "    <span style=\"font-size: 0.8em; font-weight: bold; line-height: 1; border-radius: 0.35em; text-transform: uppercase; vertical-align: middle; margin-left: 0.5rem\">PERSON</span>\n",
       "</mark>\n",
       " say jail prison expect subset covid-19 case patient send local hospital potentially add anticipated surge demand critical care \n",
       "<mark class=\"entity\" style=\"background: #aa9cfc; padding: 0.45em 0.6em; margin: 0 0.25em; line-height: 1; border-radius: 0.35em;\">\n",
       "    Jose Saldana\n",
       "    <span style=\"font-size: 0.8em; font-weight: bold; line-height: 1; border-radius: 0.35em; text-transform: uppercase; vertical-align: middle; margin-left: 0.5rem\">PERSON</span>\n",
       "</mark>\n",
       " believe vulnerable prisoner send home sick prisoner direct organization call Release Aging People Prison Campaign probably go deadly elderly people leave \n",
       "<mark class=\"entity\" style=\"background: #aa9cfc; padding: 0.45em 0.6em; margin: 0 0.25em; line-height: 1; border-radius: 0.35em;\">\n",
       "    Saldana\n",
       "    <span style=\"font-size: 0.8em; font-weight: bold; line-height: 1; border-radius: 0.35em; text-transform: uppercase; vertical-align: middle; margin-left: 0.5rem\">PERSON</span>\n",
       "</mark>\n",
       " say like parole clemency board consider old sick prisoner let believe stand well chance survive pandemic home let look realistically man prison die know go die pure revenge justice \n",
       "<mark class=\"entity\" style=\"background: #aa9cfc; padding: 0.45em 0.6em; margin: 0 0.25em; line-height: 1; border-radius: 0.35em;\">\n",
       "    Saldana\n",
       "    <span style=\"font-size: 0.8em; font-weight: bold; line-height: 1; border-radius: 0.35em; text-transform: uppercase; vertical-align: middle; margin-left: 0.5rem\">PERSON</span>\n",
       "</mark>\n",
       " say reason let \n",
       "<mark class=\"entity\" style=\"background: #aa9cfc; padding: 0.45em 0.6em; margin: 0 0.25em; line-height: 1; border-radius: 0.35em;\">\n",
       "    Marc Stern\n",
       "    <span style=\"font-size: 0.8em; font-weight: bold; line-height: 1; border-radius: 0.35em; text-transform: uppercase; vertical-align: middle; margin-left: 0.5rem\">PERSON</span>\n",
       "</mark>\n",
       " physician medical officer \n",
       "<mark class=\"entity\" style=\"background: #7aecec; padding: 0.45em 0.6em; margin: 0 0.25em; line-height: 1; border-radius: 0.35em;\">\n",
       "    Washington State Department Corrections\n",
       "    <span style=\"font-size: 0.8em; font-weight: bold; line-height: 1; border-radius: 0.35em; text-transform: uppercase; vertical-align: middle; margin-left: 0.5rem\">ORG</span>\n",
       "</mark>\n",
       " say jail prison plan possibility have staff want catch ball say want find day number officer call sick have trouble manage institution recommend correction administrator communicate court parole system inmate safely release early case thing point</div>"
      ],
      "text/plain": [
       "<IPython.core.display.HTML object>"
      ]
     },
     "metadata": {},
     "output_type": "display_data"
    }
   ],
   "source": [
    "displacy.render(doc_parsed, style=\"ent\")"
   ]
  },
  {
   "cell_type": "code",
   "execution_count": 29,
   "metadata": {
    "scrolled": true
   },
   "outputs": [
    {
     "name": "stdout",
     "output_type": "stream",
     "text": [
      "Robert Greifinger PERSON\n",
      "25 years DATE\n",
      "Greifinger PERSON\n",
      "weeks DATE\n",
      "Greifinger PERSON\n",
      "NPR ORG\n",
      "Arizona GPE\n",
      "the Department of Corrections ORG\n",
      "KJZZ ORG\n",
      "Jimmy Jenkins PERSON\n",
      "NPR ORG\n",
      "Jenkins PERSON\n",
      "Jenkins PERSON\n",
      "the Maricopa County Sheriff's Office ORG\n",
      "nearly 7,000 CARDINAL\n",
      "daily DATE\n",
      "Seattle GPE\n",
      "the South Correctional Entity ORG\n",
      "nearly 600 CARDINAL\n",
      "SCORE ORG\n",
      "Devon Schrum PERSON\n",
      "Four CARDINAL\n",
      "Schrum PERSON\n",
      "Jose Saldana PERSON\n",
      "Release Aging People in Prison Campaign WORK_OF_ART\n",
      "Saldana PERSON\n",
      "Saldana PERSON\n",
      "Marc Stern PERSON\n",
      "the Washington State Department of Corrections ORG\n",
      "one day DATE\n"
     ]
    }
   ],
   "source": [
    "set_doc = set()\n",
    "for ent in doc.ents:\n",
    "    print(ent.text, ent.label_)\n",
    "    set_doc.add(ent.text.lower())"
   ]
  },
  {
   "cell_type": "code",
   "execution_count": 30,
   "metadata": {},
   "outputs": [
    {
     "name": "stdout",
     "output_type": "stream",
     "text": [
      "Robert Greifinger PERSON\n",
      "25 year DATE\n",
      "Greifinger PERSON\n",
      "week DATE\n",
      "NPR ORG\n",
      "Arizona GPE\n",
      "Department Corrections ORG\n",
      "KJZZ Jimmy Jenkins ORG\n",
      "NPR ORG\n",
      "Jenkins PERSON\n",
      "Jenkins PERSON\n",
      "Maricopa County GPE\n",
      "nearly 7,000 CARDINAL\n",
      "daily DATE\n",
      "Seattle South Correctional Entity ORG\n",
      "nearly 600 CARDINAL\n",
      "Devon Schrum PERSON\n",
      "Schrum PERSON\n",
      "Jose Saldana PERSON\n",
      "Saldana PERSON\n",
      "Saldana PERSON\n",
      "Marc Stern PERSON\n",
      "Washington State Department Corrections ORG\n"
     ]
    }
   ],
   "source": [
    "set_doc_parsed = set()\n",
    "for ent in doc_parsed.ents:\n",
    "    print(ent.text, ent.label_)\n",
    "    set_doc_parsed.add(ent.text.lower())"
   ]
  },
  {
   "cell_type": "code",
   "execution_count": 31,
   "metadata": {},
   "outputs": [
    {
     "data": {
      "text/plain": [
       "20"
      ]
     },
     "execution_count": 31,
     "metadata": {},
     "output_type": "execute_result"
    }
   ],
   "source": [
    "len(set_doc_parsed)"
   ]
  },
  {
   "cell_type": "code",
   "execution_count": 32,
   "metadata": {},
   "outputs": [
    {
     "data": {
      "text/plain": [
       "26"
      ]
     },
     "execution_count": 32,
     "metadata": {},
     "output_type": "execute_result"
    }
   ],
   "source": [
    "len(set_doc)"
   ]
  },
  {
   "cell_type": "code",
   "execution_count": 33,
   "metadata": {},
   "outputs": [
    {
     "data": {
      "text/plain": [
       "{'25 years',\n",
       " 'four',\n",
       " 'jimmy jenkins',\n",
       " 'kjzz',\n",
       " 'one day',\n",
       " 'release aging people in prison campaign',\n",
       " 'score',\n",
       " 'seattle',\n",
       " 'the department of corrections',\n",
       " \"the maricopa county sheriff's office\",\n",
       " 'the south correctional entity',\n",
       " 'the washington state department of corrections',\n",
       " 'weeks'}"
      ]
     },
     "execution_count": 33,
     "metadata": {},
     "output_type": "execute_result"
    }
   ],
   "source": [
    "set_doc - set_doc_parsed"
   ]
  }
 ],
 "metadata": {
  "kernelspec": {
   "display_name": "Python 3",
   "language": "python",
   "name": "python3"
  },
  "language_info": {
   "codemirror_mode": {
    "name": "ipython",
    "version": 3
   },
   "file_extension": ".py",
   "mimetype": "text/x-python",
   "name": "python",
   "nbconvert_exporter": "python",
   "pygments_lexer": "ipython3",
   "version": "3.7.6"
  }
 },
 "nbformat": 4,
 "nbformat_minor": 4
}
